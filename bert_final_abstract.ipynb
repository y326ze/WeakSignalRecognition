{
 "cells": [
  {
   "cell_type": "code",
   "execution_count": 29,
   "id": "ea90b8a0",
   "metadata": {},
   "outputs": [],
   "source": [
    "import pandas as pd\n",
    "seeds = pd.read_csv('2024/seeds_processed_abstract_2024.csv')\n",
    "references = pd.read_csv('2024/references_processed_abstract_2024.csv')\n",
    "citations = pd.read_csv('2024/citations_processed_abstract_2024.csv')"
   ]
  },
  {
   "cell_type": "code",
   "execution_count": 30,
   "id": "3bdf94df",
   "metadata": {},
   "outputs": [],
   "source": [
    "seeds = seeds[seeds.abstract.notna()].reset_index(drop=True)\n",
    "references = references[references.abstract.notna()].reset_index(drop=True)\n",
    "citations = citations[citations.abstract.notna()].reset_index(drop=True)"
   ]
  },
  {
   "cell_type": "code",
   "execution_count": 31,
   "id": "3e049838",
   "metadata": {},
   "outputs": [],
   "source": [
    "seeds_bert_final_abstract = [' '.join([w for w in eval(seeds['final_abstract'][n]) if w not in [',', '.', '!', '?']]) for n in range(len(seeds))]\n",
    "seeds['bert_final_abstract'] = seeds_bert_final_abstract"
   ]
  },
  {
   "cell_type": "code",
   "execution_count": 32,
   "id": "e7e161d3",
   "metadata": {},
   "outputs": [],
   "source": [
    "references_bert_final_abstract = [' '.join([w for w in eval(references['final_abstract'][n]) if w not in [',', '.', '!', '?']]) for n in range(len(references))]\n",
    "references['bert_final_abstract'] = references_bert_final_abstract"
   ]
  },
  {
   "cell_type": "code",
   "execution_count": 33,
   "id": "55d30100",
   "metadata": {},
   "outputs": [],
   "source": [
    "citations_bert_final_abstract = [' '.join([w for w in eval(citations['final_abstract'][n]) if w not in [',', '.', '!', '?']]) for n in range(len(citations))]\n",
    "citations['bert_final_abstract'] = citations_bert_final_abstract"
   ]
  },
  {
   "cell_type": "code",
   "execution_count": 34,
   "id": "e7b63b33",
   "metadata": {},
   "outputs": [],
   "source": [
    "seeds.to_csv('2024/seeds_final_abstract_2024.csv', index=False, encoding='utf-8-sig')\n",
    "references.to_csv('2024/references_final_abstract_2024.csv', index=False, encoding='utf-8-sig')\n",
    "citations.to_csv('2024/citations_final_abstract_2024.csv', index=False, encoding='utf-8-sig')"
   ]
  }
 ],
 "metadata": {
  "kernelspec": {
   "display_name": "base",
   "language": "python",
   "name": "python3"
  },
  "language_info": {
   "codemirror_mode": {
    "name": "ipython",
    "version": 3
   },
   "file_extension": ".py",
   "mimetype": "text/x-python",
   "name": "python",
   "nbconvert_exporter": "python",
   "pygments_lexer": "ipython3",
   "version": "3.11.7"
  }
 },
 "nbformat": 4,
 "nbformat_minor": 5
}
