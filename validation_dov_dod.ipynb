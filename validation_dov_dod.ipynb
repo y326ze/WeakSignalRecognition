{
 "cells": [
  {
   "cell_type": "code",
   "execution_count": 2,
   "id": "8084c53e-0fdb-4cf5-9c1e-a7d7f8944bd0",
   "metadata": {},
   "outputs": [
    {
     "data": {
      "text/html": [
       "<div>\n",
       "<style scoped>\n",
       "    .dataframe tbody tr th:only-of-type {\n",
       "        vertical-align: middle;\n",
       "    }\n",
       "\n",
       "    .dataframe tbody tr th {\n",
       "        vertical-align: top;\n",
       "    }\n",
       "\n",
       "    .dataframe thead th {\n",
       "        text-align: right;\n",
       "    }\n",
       "</style>\n",
       "<table border=\"1\" class=\"dataframe\">\n",
       "  <thead>\n",
       "    <tr style=\"text-align: right;\">\n",
       "      <th></th>\n",
       "      <th>DOI</th>\n",
       "      <th>Base_URL</th>\n",
       "      <th>Download</th>\n",
       "      <th>Status</th>\n",
       "      <th>Url</th>\n",
       "      <th>Title</th>\n",
       "      <th>Year</th>\n",
       "      <th>Date</th>\n",
       "      <th>Type</th>\n",
       "      <th>Cited</th>\n",
       "      <th>Cites</th>\n",
       "      <th>file_name</th>\n",
       "      <th>file_size</th>\n",
       "      <th>last_modified</th>\n",
       "      <th>Abstract</th>\n",
       "      <th>clean_non_english</th>\n",
       "      <th>clean_start_w_abs</th>\n",
       "      <th>clean_start_w_ads</th>\n",
       "      <th>Half_year</th>\n",
       "    </tr>\n",
       "  </thead>\n",
       "  <tbody>\n",
       "    <tr>\n",
       "      <th>0</th>\n",
       "      <td>NaN</td>\n",
       "      <td>https://www.sci-hub.ren/10.1201/9780429065507-1</td>\n",
       "      <td>NaN</td>\n",
       "      <td>无法访问目标网站。</td>\n",
       "      <td>https://openalex.org/W2476002196</td>\n",
       "      <td>Computational Materials Design in Semiconducto...</td>\n",
       "      <td>2019</td>\n",
       "      <td>2019-05-08</td>\n",
       "      <td>book-chapter</td>\n",
       "      <td>0</td>\n",
       "      <td>https://api.openalex.org/works?filter=cites:W2...</td>\n",
       "      <td>NaN</td>\n",
       "      <td>NaN</td>\n",
       "      <td>NaN</td>\n",
       "      <td>This chapter discusses a possible new methodol...</td>\n",
       "      <td>This chapter discusses a possible new methodol...</td>\n",
       "      <td>This chapter discusses a possible new methodol...</td>\n",
       "      <td>This chapter discusses a possible new methodol...</td>\n",
       "      <td>2019-1</td>\n",
       "    </tr>\n",
       "  </tbody>\n",
       "</table>\n",
       "</div>"
      ],
      "text/plain": [
       "   DOI                                         Base_URL Download     Status  \\\n",
       "0  NaN  https://www.sci-hub.ren/10.1201/9780429065507-1      NaN  无法访问目标网站。   \n",
       "\n",
       "                                Url  \\\n",
       "0  https://openalex.org/W2476002196   \n",
       "\n",
       "                                               Title  Year        Date  \\\n",
       "0  Computational Materials Design in Semiconducto...  2019  2019-05-08   \n",
       "\n",
       "           Type  Cited                                              Cites  \\\n",
       "0  book-chapter      0  https://api.openalex.org/works?filter=cites:W2...   \n",
       "\n",
       "  file_name  file_size  last_modified  \\\n",
       "0       NaN        NaN            NaN   \n",
       "\n",
       "                                            Abstract  \\\n",
       "0  This chapter discusses a possible new methodol...   \n",
       "\n",
       "                                   clean_non_english  \\\n",
       "0  This chapter discusses a possible new methodol...   \n",
       "\n",
       "                                   clean_start_w_abs  \\\n",
       "0  This chapter discusses a possible new methodol...   \n",
       "\n",
       "                                   clean_start_w_ads Half_year  \n",
       "0  This chapter discusses a possible new methodol...    2019-1  "
      ]
     },
     "execution_count": 2,
     "metadata": {},
     "output_type": "execute_result"
    }
   ],
   "source": [
    "import pandas as pd\n",
    "df = pd.read_excel('cleaned_data.xlsx')\n",
    "df['Half_year'] = [x[:4]+'-1' if int(x[5:7]) < 7 else x[:4]+'-2' for x in df['Date']]\n",
    "df.head(1)"
   ]
  },
  {
   "cell_type": "code",
   "execution_count": 3,
   "id": "4ea23ca1-6c78-4cc1-9d7b-0d0f472f6659",
   "metadata": {},
   "outputs": [
    {
     "data": {
      "text/plain": [
       "Half_year\n",
       "2018-1    1926\n",
       "2018-2    1526\n",
       "2019-1    2059\n",
       "2019-2    1645\n",
       "2020-1    1974\n",
       "2020-2    1640\n",
       "Name: Abstract, dtype: int64"
      ]
     },
     "execution_count": 3,
     "metadata": {},
     "output_type": "execute_result"
    }
   ],
   "source": [
    "df_count = df.groupby('Half_year')['Abstract'].count()\n",
    "df_count"
   ]
  },
  {
   "cell_type": "code",
   "execution_count": 5,
   "id": "b4fd99f8-4c3f-4ad5-ad90-f09d208c23ff",
   "metadata": {},
   "outputs": [
    {
     "data": {
      "text/plain": [
       "37266"
      ]
     },
     "execution_count": 5,
     "metadata": {},
     "output_type": "execute_result"
    }
   ],
   "source": [
    "with open(f'vector_terms/60_vector_terms.txt','r',encoding='utf-8') as file:\n",
    "    your_vocab_list = [term[:-1].lower() for term in file.readlines()]\n",
    "len(your_vocab_list)"
   ]
  },
  {
   "cell_type": "code",
   "execution_count": 97,
   "id": "b3d67229-280e-4383-913b-4487d094d2a0",
   "metadata": {},
   "outputs": [
    {
     "name": "stderr",
     "output_type": "stream",
     "text": [
      "100%|██████████| 37266/37266 [09:28<00:00, 65.50it/s]"
     ]
    },
    {
     "name": "stdout",
     "output_type": "stream",
     "text": [
      "37266 37266\n"
     ]
    },
    {
     "name": "stderr",
     "output_type": "stream",
     "text": [
      "\n"
     ]
    }
   ],
   "source": [
    "from tqdm import tqdm\n",
    "occurence_frequency = pd.DataFrame(columns=['term','2018-1','2018-2','2019-1','2019-2','2020-1','2020-2'])\n",
    "document_frequency = pd.DataFrame(columns=['term','2018-1','2018-2','2019-1','2019-2','2020-1','2020-2'])\n",
    "for n in tqdm(range(len(your_vocab_list))):\n",
    "    vocab = your_vocab_list[n]\n",
    "    lst1 = [vocab]\n",
    "    lst2 = [vocab]\n",
    "    for idx, group in df.groupby('Half_year')['Abstract']:\n",
    "        occ = 0\n",
    "        doc = 0\n",
    "        for abstract in group:\n",
    "            c = abstract.count(vocab)\n",
    "            if c != 0:\n",
    "                occ += c\n",
    "                doc += 1\n",
    "        lst1.append(occ)\n",
    "        lst2.append(doc)\n",
    "    occurence_frequency.loc[len(occurence_frequency),:] = lst1\n",
    "    document_frequency.loc[len(document_frequency),:] = lst2\n",
    "print(len(occurence_frequency), len(document_frequency))           "
   ]
  },
  {
   "cell_type": "code",
   "execution_count": 98,
   "id": "274b0f39-0111-4557-9399-033d106b3d49",
   "metadata": {},
   "outputs": [
    {
     "data": {
      "text/plain": [
       "1141"
      ]
     },
     "execution_count": 98,
     "metadata": {},
     "output_type": "execute_result"
    }
   ],
   "source": [
    "import ast\n",
    "topic_results = pd.read_excel(f'topic_results/60_topic_results.xlsx')\n",
    "terms = set()\n",
    "for n in [6,11,12,23,46,48,53]:\n",
    "    for term in ast.literal_eval(topic_results.Representation[n]):\n",
    "        terms.add(term)\n",
    "len(terms)"
   ]
  },
  {
   "cell_type": "code",
   "execution_count": 99,
   "id": "5c7c731d-47ef-46b7-8d55-281a8c441b54",
   "metadata": {},
   "outputs": [
    {
     "name": "stdout",
     "output_type": "stream",
     "text": [
      "1141 1141\n"
     ]
    }
   ],
   "source": [
    "oc = pd.DataFrame(columns=occurence_frequency.columns)\n",
    "dc = pd.DataFrame(columns=document_frequency.columns)\n",
    "for i in range(len(occurence_frequency)):\n",
    "    if occurence_frequency.term[i] in terms:\n",
    "        oc.loc[len(oc),:] = occurence_frequency.loc[i,:]\n",
    "        dc.loc[len(dc),:] = document_frequency.loc[i,:]\n",
    "print(len(oc),len(dc))"
   ]
  },
  {
   "cell_type": "code",
   "execution_count": 213,
   "id": "c5987e00-2823-41d5-a183-e313cc632a02",
   "metadata": {},
   "outputs": [],
   "source": [
    "#oc.to_excel('of.xlsx',index=False)\n",
    "#dc.to_excel('df.xlsx',index=False)\n",
    "oc = pd.read_excel('of.xlsx')\n",
    "dc = pd.read_excel('df.xlsx')"
   ]
  },
  {
   "cell_type": "code",
   "execution_count": 214,
   "id": "93bbb3a2-1530-415b-832c-dbaa94866744",
   "metadata": {},
   "outputs": [],
   "source": [
    "dov = oc.copy()\n",
    "dod = dc.copy()\n",
    "for idx, period in enumerate(df_count.index):\n",
    "    dov[period] = (dov[period] / df_count[period]) * (1 - (0.05 * (len(df_count) - idx)))\n",
    "    dod[period] = (dod[period] / df_count[period]) * (1 - (0.05 * (len(df_count) - idx)))"
   ]
  },
  {
   "cell_type": "code",
   "execution_count": 215,
   "id": "541bf709-b6b8-4985-aee9-d28557217b18",
   "metadata": {},
   "outputs": [],
   "source": [
    "rate_dov = []\n",
    "rate_dod = []\n",
    "for i in range(len(dov)):\n",
    "    first_dov = dov['2018-1'][i]\n",
    "    first_dod = dod['2018-1'][i]\n",
    "    last_dov = dov['2020-2'][i]\n",
    "    last_dod = dod['2020-2'][i]\n",
    "    if first_dov != 0:\n",
    "        rate_dov.append(((last_dov / first_dov) ** (1 / 5)) - 1)\n",
    "    else:\n",
    "        rate_dov.append(0)\n",
    "    if first_dod != 0:\n",
    "        rate_dod.append(((last_dod / first_dod) ** (1 / 5)) - 1)\n",
    "    else:\n",
    "        rate_dod.append(0)\n",
    "dov['rate'] = rate_dov\n",
    "dod['rate'] = rate_dod"
   ]
  },
  {
   "cell_type": "code",
   "execution_count": 109,
   "id": "73dfd4db-0bb8-4224-b435-2c368cc0b17d",
   "metadata": {},
   "outputs": [
    {
     "data": {
      "text/html": [
       "<div>\n",
       "<style scoped>\n",
       "    .dataframe tbody tr th:only-of-type {\n",
       "        vertical-align: middle;\n",
       "    }\n",
       "\n",
       "    .dataframe tbody tr th {\n",
       "        vertical-align: top;\n",
       "    }\n",
       "\n",
       "    .dataframe thead th {\n",
       "        text-align: right;\n",
       "    }\n",
       "</style>\n",
       "<table border=\"1\" class=\"dataframe\">\n",
       "  <thead>\n",
       "    <tr style=\"text-align: right;\">\n",
       "      <th></th>\n",
       "      <th>term</th>\n",
       "      <th>2018-1</th>\n",
       "      <th>2018-2</th>\n",
       "      <th>2019-1</th>\n",
       "      <th>2019-2</th>\n",
       "      <th>2020-1</th>\n",
       "      <th>2020-2</th>\n",
       "      <th>rate</th>\n",
       "    </tr>\n",
       "  </thead>\n",
       "  <tbody>\n",
       "    <tr>\n",
       "      <th>0</th>\n",
       "      <td>10</td>\n",
       "      <td>0.215888</td>\n",
       "      <td>0.280144</td>\n",
       "      <td>0.255658</td>\n",
       "      <td>0.297112</td>\n",
       "      <td>0.308663</td>\n",
       "      <td>0.384055</td>\n",
       "      <td>0.122104</td>\n",
       "    </tr>\n",
       "    <tr>\n",
       "      <th>1</th>\n",
       "      <td>100</td>\n",
       "      <td>0.051246</td>\n",
       "      <td>0.077654</td>\n",
       "      <td>0.057115</td>\n",
       "      <td>0.070790</td>\n",
       "      <td>0.067477</td>\n",
       "      <td>0.083415</td>\n",
       "      <td>0.102342</td>\n",
       "    </tr>\n",
       "    <tr>\n",
       "      <th>2</th>\n",
       "      <td>100083</td>\n",
       "      <td>0.000000</td>\n",
       "      <td>0.005898</td>\n",
       "      <td>0.000000</td>\n",
       "      <td>0.000000</td>\n",
       "      <td>0.000000</td>\n",
       "      <td>0.000000</td>\n",
       "      <td>0.000000</td>\n",
       "    </tr>\n",
       "    <tr>\n",
       "      <th>3</th>\n",
       "      <td>1016</td>\n",
       "      <td>0.000000</td>\n",
       "      <td>0.001474</td>\n",
       "      <td>0.000389</td>\n",
       "      <td>0.001550</td>\n",
       "      <td>0.004559</td>\n",
       "      <td>0.001159</td>\n",
       "      <td>0.000000</td>\n",
       "    </tr>\n",
       "    <tr>\n",
       "      <th>4</th>\n",
       "      <td>11</td>\n",
       "      <td>0.053063</td>\n",
       "      <td>0.080603</td>\n",
       "      <td>0.059835</td>\n",
       "      <td>0.070274</td>\n",
       "      <td>0.080699</td>\n",
       "      <td>0.092104</td>\n",
       "      <td>0.116597</td>\n",
       "    </tr>\n",
       "  </tbody>\n",
       "</table>\n",
       "</div>"
      ],
      "text/plain": [
       "     term    2018-1    2018-2    2019-1    2019-2    2020-1    2020-2  \\\n",
       "0      10  0.215888  0.280144  0.255658  0.297112  0.308663  0.384055   \n",
       "1     100  0.051246  0.077654  0.057115  0.070790  0.067477  0.083415   \n",
       "2  100083  0.000000  0.005898  0.000000  0.000000  0.000000  0.000000   \n",
       "3    1016  0.000000  0.001474  0.000389  0.001550  0.004559  0.001159   \n",
       "4      11  0.053063  0.080603  0.059835  0.070274  0.080699  0.092104   \n",
       "\n",
       "       rate  \n",
       "0  0.122104  \n",
       "1  0.102342  \n",
       "2  0.000000  \n",
       "3  0.000000  \n",
       "4  0.116597  "
      ]
     },
     "execution_count": 109,
     "metadata": {},
     "output_type": "execute_result"
    }
   ],
   "source": [
    "dov.head(5)"
   ]
  },
  {
   "cell_type": "code",
   "execution_count": 216,
   "id": "5c51b16d-3a40-4143-93e3-eac40ef79ffb",
   "metadata": {},
   "outputs": [
    {
     "data": {
      "text/html": [
       "<div>\n",
       "<style scoped>\n",
       "    .dataframe tbody tr th:only-of-type {\n",
       "        vertical-align: middle;\n",
       "    }\n",
       "\n",
       "    .dataframe tbody tr th {\n",
       "        vertical-align: top;\n",
       "    }\n",
       "\n",
       "    .dataframe thead th {\n",
       "        text-align: right;\n",
       "    }\n",
       "</style>\n",
       "<table border=\"1\" class=\"dataframe\">\n",
       "  <thead>\n",
       "    <tr style=\"text-align: right;\">\n",
       "      <th></th>\n",
       "      <th>term</th>\n",
       "      <th>2018-1</th>\n",
       "      <th>2018-2</th>\n",
       "      <th>2019-1</th>\n",
       "      <th>2019-2</th>\n",
       "      <th>2020-1</th>\n",
       "      <th>2020-2</th>\n",
       "      <th>average</th>\n",
       "    </tr>\n",
       "  </thead>\n",
       "  <tbody>\n",
       "    <tr>\n",
       "      <th>0</th>\n",
       "      <td>10</td>\n",
       "      <td>594</td>\n",
       "      <td>570</td>\n",
       "      <td>658</td>\n",
       "      <td>575</td>\n",
       "      <td>677</td>\n",
       "      <td>663</td>\n",
       "      <td>622.833333</td>\n",
       "    </tr>\n",
       "    <tr>\n",
       "      <th>1</th>\n",
       "      <td>100</td>\n",
       "      <td>141</td>\n",
       "      <td>158</td>\n",
       "      <td>147</td>\n",
       "      <td>137</td>\n",
       "      <td>148</td>\n",
       "      <td>144</td>\n",
       "      <td>145.833333</td>\n",
       "    </tr>\n",
       "    <tr>\n",
       "      <th>2</th>\n",
       "      <td>100083</td>\n",
       "      <td>0</td>\n",
       "      <td>12</td>\n",
       "      <td>0</td>\n",
       "      <td>0</td>\n",
       "      <td>0</td>\n",
       "      <td>0</td>\n",
       "      <td>2.000000</td>\n",
       "    </tr>\n",
       "    <tr>\n",
       "      <th>3</th>\n",
       "      <td>1016</td>\n",
       "      <td>0</td>\n",
       "      <td>3</td>\n",
       "      <td>1</td>\n",
       "      <td>3</td>\n",
       "      <td>10</td>\n",
       "      <td>2</td>\n",
       "      <td>3.166667</td>\n",
       "    </tr>\n",
       "    <tr>\n",
       "      <th>4</th>\n",
       "      <td>11</td>\n",
       "      <td>146</td>\n",
       "      <td>164</td>\n",
       "      <td>154</td>\n",
       "      <td>136</td>\n",
       "      <td>177</td>\n",
       "      <td>159</td>\n",
       "      <td>156.000000</td>\n",
       "    </tr>\n",
       "  </tbody>\n",
       "</table>\n",
       "</div>"
      ],
      "text/plain": [
       "     term  2018-1  2018-2  2019-1  2019-2  2020-1  2020-2     average\n",
       "0      10     594     570     658     575     677     663  622.833333\n",
       "1     100     141     158     147     137     148     144  145.833333\n",
       "2  100083       0      12       0       0       0       0    2.000000\n",
       "3    1016       0       3       1       3      10       2    3.166667\n",
       "4      11     146     164     154     136     177     159  156.000000"
      ]
     },
     "execution_count": 216,
     "metadata": {},
     "output_type": "execute_result"
    }
   ],
   "source": [
    "oc.set_index('term', inplace=True)\n",
    "dc.set_index('term', inplace=True)\n",
    "oc['average'] = oc.mean(axis=1)\n",
    "dc['average'] = dc.mean(axis=1)\n",
    "oc.reset_index(inplace=True)\n",
    "dc.reset_index(inplace=True)\n",
    "oc.head(5)"
   ]
  },
  {
   "cell_type": "code",
   "execution_count": 217,
   "id": "1658fb69-b4b4-421c-accb-41f6fbbbb1d4",
   "metadata": {},
   "outputs": [
    {
     "name": "stdout",
     "output_type": "stream",
     "text": [
      "342\n",
      "13.666666666666666 9.666666666666666\n",
      "0.12420804570079613 0.10951599668426448\n"
     ]
    }
   ],
   "source": [
    "idx = int(len(oc) * 0.3)\n",
    "print(idx)\n",
    "\n",
    "of_x = oc['average'].sort_values(ascending=True).reset_index(drop=True)[idx]\n",
    "df_x = dc['average'].sort_values(ascending=True).reset_index(drop=True)[idx]\n",
    "print(of_x, df_x)\n",
    "\n",
    "of_y = dov.rate.sort_values(ascending=False).reset_index(drop=True)[idx]\n",
    "df_y = dod.rate.sort_values(ascending=False).reset_index(drop=True)[idx]\n",
    "print(of_y, df_y)"
   ]
  },
  {
   "cell_type": "code",
   "execution_count": 218,
   "id": "2ac63d83-3c52-4631-bcd0-a5c1dac781dd",
   "metadata": {},
   "outputs": [
    {
     "data": {
      "image/png": "[encoded data removed]",
      "text/plain": [
       "<Figure size 1000x600 with 1 Axes>"
      ]
     },
     "metadata": {},
     "output_type": "display_data"
    }
   ],
   "source": [
    "import matplotlib.pyplot as plt\n",
    "import numpy as np\n",
    "from matplotlib.font_manager import FontProperties\n",
    "\n",
    "# 加载字体\n",
    "font_prop = FontProperties(fname='font.ttf')\n",
    "plt.rcParams['axes.unicode_minus'] = False\n",
    "\n",
    "plt.figure(figsize=(10,6))\n",
    "plt.scatter(oc.average, dov.rate, marker='.', alpha=0.15)\n",
    "plt.plot([of_x, of_x], [of_y,1.3], color='r', zorder=3)\n",
    "plt.plot([0,of_x],[of_y, of_y], color='r', zorder=3)\n",
    "plt.plot([0,of_x],[1.3, 1.3], color='r', zorder=3)\n",
    "plt.plot([0.1,0.1],[of_y, 1.3], color='r', zorder=3)\n",
    "plt.xlim([0,50])\n",
    "plt.xlabel('平均术语频数', fontproperties=font_prop, fontsize=12)\n",
    "plt.ylabel('几何平均增长率 (%)', fontproperties=font_prop, fontsize=12)\n",
    "plt.title('术语的出现频率与增长速度', fontproperties=font_prop, fontsize=14)\n",
    "plt.text(of_x+0.3,1.1, '弱信号', fontproperties=font_prop, fontsize=12, color='r')\n",
    "#plt.ylim([-8,1])\n",
    "plt.savefig('dov.jpg')\n",
    "plt.show()"
   ]
  },
  {
   "cell_type": "code",
   "execution_count": 219,
   "id": "096d345c-e5a3-4895-bc91-2d8294469ce0",
   "metadata": {},
   "outputs": [
    {
     "data": {
      "image/png": "[encoded data removed]",
      "text/plain": [
       "<Figure size 1000x600 with 1 Axes>"
      ]
     },
     "metadata": {},
     "output_type": "display_data"
    }
   ],
   "source": [
    "plt.figure(figsize=(10,6))\n",
    "plt.scatter(dc.average, dod.rate, marker='.', alpha=0.1)\n",
    "plt.plot([df_x, df_x], [df_y,1.2], color='r', zorder=3)\n",
    "plt.plot([0,df_x],[df_y, df_y], color='r', zorder=3)\n",
    "plt.plot([0,df_x],[1.2,1.2], color='r', zorder=3)\n",
    "plt.plot([0.1,0.1],[df_y, 1.2], color='r', zorder=3)\n",
    "plt.xlim([0,50])\n",
    "#plt.ylim([-8,1])\n",
    "plt.xlabel('平均文档频数', fontproperties=font_prop, fontsize=12)\n",
    "plt.ylabel('几何平均增长率 (%)', fontproperties=font_prop, fontsize=12)\n",
    "plt.title('术语的文档频率与增长速度', fontproperties=font_prop, fontsize=14)\n",
    "plt.text(df_x+0.3,1, '弱信号', fontproperties=font_prop, fontsize=12, color='r')\n",
    "plt.savefig('dod.jpg')\n",
    "plt.show()"
   ]
  },
  {
   "cell_type": "code",
   "execution_count": 220,
   "id": "662f73e4-9aec-4ae9-aed6-b33ebfc6853b",
   "metadata": {},
   "outputs": [],
   "source": [
    "terms_oc = oc[oc.average <= of_x]['term']\n",
    "terms_dc = dc[dc.average <= df_x]['term']\n",
    "terms_dov = dov[dov.rate >= of_y]['term']\n",
    "terms_dod = dod[dod.rate >= df_y]['term']"
   ]
  },
  {
   "cell_type": "code",
   "execution_count": 226,
   "id": "f763fa76-364c-41f8-aa01-477c7d590ba6",
   "metadata": {},
   "outputs": [
    {
     "data": {
      "text/plain": [
       "543"
      ]
     },
     "execution_count": 226,
     "metadata": {},
     "output_type": "execute_result"
    }
   ],
   "source": [
    "weak_signal = list((set(terms_oc) & set(terms_dc)) | (set(terms_dov) & set(terms_dod)))\n",
    "len(weak_signal)"
   ]
  },
  {
   "cell_type": "code",
   "execution_count": 229,
   "id": "287e6aaa-ded6-4265-ba7b-e987b09bfda0",
   "metadata": {},
   "outputs": [],
   "source": [
    "with open('weak_signal_dov_dod.txt','w',encoding='utf-8') as file:\n",
    "    file.write(' '.join(weak_signal))"
   ]
  },
  {
   "cell_type": "code",
   "execution_count": 222,
   "id": "fdd8a8d1-04ed-414a-b2cc-e62b593064be",
   "metadata": {},
   "outputs": [
    {
     "data": {
      "text/plain": [
       "655"
      ]
     },
     "execution_count": 222,
     "metadata": {},
     "output_type": "execute_result"
    }
   ],
   "source": [
    "experiment = []\n",
    "for n in [6,11,12,23,46,48,53]:\n",
    "    with open(f'weak_signal/{n}_weak_signal.txt','r',encoding='utf-8') as file:\n",
    "        ws = file.read().split('\\n')\n",
    "    for i in ws:\n",
    "        experiment.append(i)\n",
    "experiment = list(set(experiment))\n",
    "len(experiment)"
   ]
  },
  {
   "cell_type": "code",
   "execution_count": 227,
   "id": "f05d5149-8fd2-47b5-993a-5adf8c054318",
   "metadata": {},
   "outputs": [
    {
     "data": {
      "text/plain": [
       "288"
      ]
     },
     "execution_count": 227,
     "metadata": {},
     "output_type": "execute_result"
    }
   ],
   "source": [
    "interaction = list(set(weak_signal) & set(experiment))\n",
    "len(interaction)"
   ]
  },
  {
   "cell_type": "code",
   "execution_count": 230,
   "id": "7ef48f2f-8e7c-459d-bcdd-d362c3d948e4",
   "metadata": {},
   "outputs": [],
   "source": [
    "with open('interaction.txt','w',encoding='utf-8') as file:\n",
    "    file.write(' '.join(interaction))"
   ]
  },
  {
   "cell_type": "code",
   "execution_count": 228,
   "id": "be6ea746-dba1-4eb6-9b40-f79d00ff9a7b",
   "metadata": {},
   "outputs": [
    {
     "name": "stdout",
     "output_type": "stream",
     "text": [
      "53.04%\n"
     ]
    }
   ],
   "source": [
    "print(f'{round((len(interaction)/len(weak_signal))*100,2)}%')"
   ]
  },
  {
   "cell_type": "code",
   "execution_count": 211,
   "id": "92305f6d-9740-4e3a-a567-5d28aacbe814",
   "metadata": {},
   "outputs": [
    {
     "data": {
      "text/plain": [
       "351"
      ]
     },
     "execution_count": 211,
     "metadata": {},
     "output_type": "execute_result"
    }
   ],
   "source": [
    "experiment_filtered = []\n",
    "for n in [6,11,12,23,46,48,53]:\n",
    "    with open(f'weak_signal/{n}.txt','r',encoding='utf-8') as file:\n",
    "        ws = file.read().split()\n",
    "    for i in ws:\n",
    "        experiment_filtered.append(i)\n",
    "experiment_filtered = list(set(experiment_filtered))\n",
    "len(experiment_filtered)"
   ]
  },
  {
   "cell_type": "code",
   "execution_count": 182,
   "id": "0be0b573-3d9d-4cd4-b506-55df469a8bc8",
   "metadata": {},
   "outputs": [
    {
     "data": {
      "text/plain": [
       "228"
      ]
     },
     "execution_count": 182,
     "metadata": {},
     "output_type": "execute_result"
    }
   ],
   "source": [
    "with open('weak_signal_dov_dod_filtered.txt','r',encoding='utf-8') as file:\n",
    "    weak_signal_filtered = file.read().split()\n",
    "len(weak_signal_filtered)"
   ]
  },
  {
   "cell_type": "code",
   "execution_count": 183,
   "id": "291c6973-87c7-4f61-8edc-bd773533c14d",
   "metadata": {},
   "outputs": [
    {
     "data": {
      "text/plain": [
       "61"
      ]
     },
     "execution_count": 183,
     "metadata": {},
     "output_type": "execute_result"
    }
   ],
   "source": [
    "interaction_filtered = list(set(weak_signal_filtered) & set(experiment_filtered))\n",
    "len(interaction_filtered)"
   ]
  },
  {
   "cell_type": "code",
   "execution_count": 184,
   "id": "7df348b5-770b-4749-a87a-77ec0011bd56",
   "metadata": {},
   "outputs": [
    {
     "name": "stdout",
     "output_type": "stream",
     "text": [
      "26.75%\n"
     ]
    }
   ],
   "source": [
    "print(f'{round((len(interaction_filtered)/len(weak_signal_filtered))*100,2)}%')"
   ]
  }
 ],
 "metadata": {
  "kernelspec": {
   "display_name": "Python 3 (ipykernel)",
   "language": "python",
   "name": "python3"
  },
  "language_info": {
   "codemirror_mode": {
    "name": "ipython",
    "version": 3
   },
   "file_extension": ".py",
   "mimetype": "text/x-python",
   "name": "python",
   "nbconvert_exporter": "python",
   "pygments_lexer": "ipython3",
   "version": "3.12.3"
  }
 },
 "nbformat": 4,
 "nbformat_minor": 5
}
