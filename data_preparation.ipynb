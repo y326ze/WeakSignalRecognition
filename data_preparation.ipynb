{
 "cells": [
  {
   "cell_type": "code",
   "execution_count": 31,
   "metadata": {},
   "outputs": [
    {
     "data": {
      "text/html": [
       "<div>\n",
       "<style scoped>\n",
       "    .dataframe tbody tr th:only-of-type {\n",
       "        vertical-align: middle;\n",
       "    }\n",
       "\n",
       "    .dataframe tbody tr th {\n",
       "        vertical-align: top;\n",
       "    }\n",
       "\n",
       "    .dataframe thead th {\n",
       "        text-align: right;\n",
       "    }\n",
       "</style>\n",
       "<table border=\"1\" class=\"dataframe\">\n",
       "  <thead>\n",
       "    <tr style=\"text-align: right;\">\n",
       "      <th></th>\n",
       "      <th>id</th>\n",
       "      <th>doi</th>\n",
       "      <th>title</th>\n",
       "      <th>publication_year</th>\n",
       "      <th>publication_date</th>\n",
       "      <th>language</th>\n",
       "      <th>type</th>\n",
       "      <th>has_fulltext</th>\n",
       "      <th>cited_by_count</th>\n",
       "      <th>referenced_works_count</th>\n",
       "      <th>referenced_works</th>\n",
       "      <th>related_works</th>\n",
       "      <th>cited_by_api_url</th>\n",
       "      <th>abstract</th>\n",
       "      <th>authorships.raw_author_name</th>\n",
       "      <th>primary_location.source.display_name</th>\n",
       "      <th>primary_location.source.host_organization_name</th>\n",
       "      <th>open_access.is_oa</th>\n",
       "      <th>keywords.display_name</th>\n",
       "    </tr>\n",
       "  </thead>\n",
       "  <tbody>\n",
       "    <tr>\n",
       "      <th>0</th>\n",
       "      <td>https://openalex.org/W2121970262</td>\n",
       "      <td>https://doi.org/10.1007/s00521-010-0362-z</td>\n",
       "      <td>A comparative survey of artificial intelligenc...</td>\n",
       "      <td>2010</td>\n",
       "      <td>2010-06-20</td>\n",
       "      <td>en</td>\n",
       "      <td>article</td>\n",
       "      <td>False</td>\n",
       "      <td>491</td>\n",
       "      <td>261</td>\n",
       "      <td>https://openalex.org/W1501746471|https://opena...</td>\n",
       "      <td>https://openalex.org/W4380608672|https://opena...</td>\n",
       "      <td>https://api.openalex.org/works?filter=cites:W2...</td>\n",
       "      <td>NaN</td>\n",
       "      <td>Arash Bahrammirzaee</td>\n",
       "      <td>Neural Computing and Applications</td>\n",
       "      <td>Springer Science+Business Media</td>\n",
       "      <td>False</td>\n",
       "      <td>Financial engineering</td>\n",
       "    </tr>\n",
       "    <tr>\n",
       "      <th>1</th>\n",
       "      <td>https://openalex.org/W3045742910</td>\n",
       "      <td>https://doi.org/10.3390/ijfs8030045</td>\n",
       "      <td>Industry 4.0 in Finance: The Impact of Artific...</td>\n",
       "      <td>2020</td>\n",
       "      <td>2020-07-28</td>\n",
       "      <td>en</td>\n",
       "      <td>article</td>\n",
       "      <td>False</td>\n",
       "      <td>375</td>\n",
       "      <td>43</td>\n",
       "      <td>https://openalex.org/W1503841534|https://opena...</td>\n",
       "      <td>https://openalex.org/W4393193553|https://opena...</td>\n",
       "      <td>https://api.openalex.org/works?filter=cites:W3...</td>\n",
       "      <td>This study sought to investigate the impact of...</td>\n",
       "      <td>David Mhlanga</td>\n",
       "      <td>International Journal of Financial Studies</td>\n",
       "      <td>Multidisciplinary Digital Publishing Institute</td>\n",
       "      <td>True</td>\n",
       "      <td>Mainstream|Financial Literacy</td>\n",
       "    </tr>\n",
       "    <tr>\n",
       "      <th>2</th>\n",
       "      <td>https://openalex.org/W3198357836</td>\n",
       "      <td>https://doi.org/10.1016/j.jbef.2021.100577</td>\n",
       "      <td>Artificial intelligence and machine learning i...</td>\n",
       "      <td>2021</td>\n",
       "      <td>2021-08-31</td>\n",
       "      <td>en</td>\n",
       "      <td>article</td>\n",
       "      <td>False</td>\n",
       "      <td>471</td>\n",
       "      <td>137</td>\n",
       "      <td>https://openalex.org/W1565746575|https://opena...</td>\n",
       "      <td>https://openalex.org/W4240762098|https://opena...</td>\n",
       "      <td>https://api.openalex.org/works?filter=cites:W3...</td>\n",
       "      <td>NaN</td>\n",
       "      <td>John W. Goodell|Satish Kumar|Weng Marc Lim|Deb...</td>\n",
       "      <td>Journal of Behavioral and Experimental Finance</td>\n",
       "      <td>Elsevier BV</td>\n",
       "      <td>False</td>\n",
       "      <td>Bibliographic coupling|Corporate Finance</td>\n",
       "    </tr>\n",
       "    <tr>\n",
       "      <th>3</th>\n",
       "      <td>https://openalex.org/W4224037372</td>\n",
       "      <td>https://doi.org/10.1016/j.ribaf.2022.101646</td>\n",
       "      <td>Artificial intelligence and machine learning i...</td>\n",
       "      <td>2022</td>\n",
       "      <td>2022-04-04</td>\n",
       "      <td>en</td>\n",
       "      <td>review</td>\n",
       "      <td>False</td>\n",
       "      <td>234</td>\n",
       "      <td>77</td>\n",
       "      <td>https://openalex.org/W1678356000|https://opena...</td>\n",
       "      <td>https://openalex.org/W577805051|https://openal...</td>\n",
       "      <td>https://api.openalex.org/works?filter=cites:W4...</td>\n",
       "      <td>NaN</td>\n",
       "      <td>Shamima Ahmed|Muneer M. Alshater|Anis El Ammar...</td>\n",
       "      <td>Research in International Business and Finance</td>\n",
       "      <td>Elsevier BV</td>\n",
       "      <td>False</td>\n",
       "      <td>Corporate Finance|Computational finance</td>\n",
       "    </tr>\n",
       "    <tr>\n",
       "      <th>4</th>\n",
       "      <td>https://openalex.org/W4226315612</td>\n",
       "      <td>https://doi.org/10.1080/20430795.2022.2057405</td>\n",
       "      <td>The role of artificial intelligence in sustain...</td>\n",
       "      <td>2022</td>\n",
       "      <td>2022-04-07</td>\n",
       "      <td>en</td>\n",
       "      <td>article</td>\n",
       "      <td>False</td>\n",
       "      <td>165</td>\n",
       "      <td>22</td>\n",
       "      <td>https://openalex.org/W166751945|https://openal...</td>\n",
       "      <td>https://openalex.org/W53806088|https://openale...</td>\n",
       "      <td>https://api.openalex.org/works?filter=cites:W4...</td>\n",
       "      <td>NaN</td>\n",
       "      <td>Abdalmuttaleb M. A. Musleh Al-Sartawi|Khaled H...</td>\n",
       "      <td>Journal of Sustainable Finance &amp; Investment</td>\n",
       "      <td>Taylor &amp; Francis</td>\n",
       "      <td>False</td>\n",
       "      <td>Value (mathematics)</td>\n",
       "    </tr>\n",
       "  </tbody>\n",
       "</table>\n",
       "</div>"
      ],
      "text/plain": [
       "                                 id  \\\n",
       "0  https://openalex.org/W2121970262   \n",
       "1  https://openalex.org/W3045742910   \n",
       "2  https://openalex.org/W3198357836   \n",
       "3  https://openalex.org/W4224037372   \n",
       "4  https://openalex.org/W4226315612   \n",
       "\n",
       "                                             doi  \\\n",
       "0      https://doi.org/10.1007/s00521-010-0362-z   \n",
       "1            https://doi.org/10.3390/ijfs8030045   \n",
       "2     https://doi.org/10.1016/j.jbef.2021.100577   \n",
       "3    https://doi.org/10.1016/j.ribaf.2022.101646   \n",
       "4  https://doi.org/10.1080/20430795.2022.2057405   \n",
       "\n",
       "                                               title  publication_year  \\\n",
       "0  A comparative survey of artificial intelligenc...              2010   \n",
       "1  Industry 4.0 in Finance: The Impact of Artific...              2020   \n",
       "2  Artificial intelligence and machine learning i...              2021   \n",
       "3  Artificial intelligence and machine learning i...              2022   \n",
       "4  The role of artificial intelligence in sustain...              2022   \n",
       "\n",
       "  publication_date language     type  has_fulltext  cited_by_count  \\\n",
       "0       2010-06-20       en  article         False             491   \n",
       "1       2020-07-28       en  article         False             375   \n",
       "2       2021-08-31       en  article         False             471   \n",
       "3       2022-04-04       en   review         False             234   \n",
       "4       2022-04-07       en  article         False             165   \n",
       "\n",
       "   referenced_works_count                                   referenced_works  \\\n",
       "0                     261  https://openalex.org/W1501746471|https://opena...   \n",
       "1                      43  https://openalex.org/W1503841534|https://opena...   \n",
       "2                     137  https://openalex.org/W1565746575|https://opena...   \n",
       "3                      77  https://openalex.org/W1678356000|https://opena...   \n",
       "4                      22  https://openalex.org/W166751945|https://openal...   \n",
       "\n",
       "                                       related_works  \\\n",
       "0  https://openalex.org/W4380608672|https://opena...   \n",
       "1  https://openalex.org/W4393193553|https://opena...   \n",
       "2  https://openalex.org/W4240762098|https://opena...   \n",
       "3  https://openalex.org/W577805051|https://openal...   \n",
       "4  https://openalex.org/W53806088|https://openale...   \n",
       "\n",
       "                                    cited_by_api_url  \\\n",
       "0  https://api.openalex.org/works?filter=cites:W2...   \n",
       "1  https://api.openalex.org/works?filter=cites:W3...   \n",
       "2  https://api.openalex.org/works?filter=cites:W3...   \n",
       "3  https://api.openalex.org/works?filter=cites:W4...   \n",
       "4  https://api.openalex.org/works?filter=cites:W4...   \n",
       "\n",
       "                                            abstract  \\\n",
       "0                                                NaN   \n",
       "1  This study sought to investigate the impact of...   \n",
       "2                                                NaN   \n",
       "3                                                NaN   \n",
       "4                                                NaN   \n",
       "\n",
       "                         authorships.raw_author_name  \\\n",
       "0                                Arash Bahrammirzaee   \n",
       "1                                      David Mhlanga   \n",
       "2  John W. Goodell|Satish Kumar|Weng Marc Lim|Deb...   \n",
       "3  Shamima Ahmed|Muneer M. Alshater|Anis El Ammar...   \n",
       "4  Abdalmuttaleb M. A. Musleh Al-Sartawi|Khaled H...   \n",
       "\n",
       "             primary_location.source.display_name  \\\n",
       "0               Neural Computing and Applications   \n",
       "1      International Journal of Financial Studies   \n",
       "2  Journal of Behavioral and Experimental Finance   \n",
       "3  Research in International Business and Finance   \n",
       "4     Journal of Sustainable Finance & Investment   \n",
       "\n",
       "   primary_location.source.host_organization_name  open_access.is_oa  \\\n",
       "0                 Springer Science+Business Media              False   \n",
       "1  Multidisciplinary Digital Publishing Institute               True   \n",
       "2                                     Elsevier BV              False   \n",
       "3                                     Elsevier BV              False   \n",
       "4                                Taylor & Francis              False   \n",
       "\n",
       "                      keywords.display_name  \n",
       "0                     Financial engineering  \n",
       "1             Mainstream|Financial Literacy  \n",
       "2  Bibliographic coupling|Corporate Finance  \n",
       "3   Corporate Finance|Computational finance  \n",
       "4                       Value (mathematics)  "
      ]
     },
     "execution_count": 31,
     "metadata": {},
     "output_type": "execute_result"
    }
   ],
   "source": [
    "import pandas as pd\n",
    "\n",
    "raw_data = pd.read_csv('raw_data.csv')\n",
    "raw_data = raw_data[['id','doi','title','publication_year','publication_date','language','type','has_fulltext','cited_by_count','referenced_works_count','referenced_works','related_works','cited_by_api_url','abstract','authorships.raw_author_name','primary_location.source.display_name','primary_location.source.host_organization_name','open_access.is_oa','keywords.display_name']]\n",
    "raw_data = raw_data[(raw_data.type=='article')|(raw_data.type=='book-chapter')|(raw_data.type=='review')].reset_index(drop=True)\n",
    "raw_data.head()"
   ]
  },
  {
   "cell_type": "code",
   "execution_count": 32,
   "metadata": {},
   "outputs": [
    {
     "data": {
      "text/plain": [
       "(4147, 19)"
      ]
     },
     "execution_count": 32,
     "metadata": {},
     "output_type": "execute_result"
    }
   ],
   "source": [
    "raw_data.shape"
   ]
  },
  {
   "cell_type": "code",
   "execution_count": 33,
   "metadata": {},
   "outputs": [
    {
     "data": {
      "text/plain": [
       "id                                                   0\n",
       "doi                                                227\n",
       "title                                                0\n",
       "publication_year                                     0\n",
       "publication_date                                     0\n",
       "language                                             0\n",
       "type                                                 0\n",
       "has_fulltext                                         0\n",
       "cited_by_count                                       0\n",
       "referenced_works_count                               0\n",
       "referenced_works                                  1684\n",
       "related_works                                       30\n",
       "cited_by_api_url                                     0\n",
       "abstract                                          2298\n",
       "authorships.raw_author_name                        107\n",
       "primary_location.source.display_name               568\n",
       "primary_location.source.host_organization_name    2043\n",
       "open_access.is_oa                                    0\n",
       "keywords.display_name                             1714\n",
       "dtype: int64"
      ]
     },
     "execution_count": 33,
     "metadata": {},
     "output_type": "execute_result"
    }
   ],
   "source": [
    "raw_data.isna().sum()"
   ]
  },
  {
   "cell_type": "code",
   "execution_count": 68,
   "metadata": {},
   "outputs": [
    {
     "name": "stdout",
     "output_type": "stream",
     "text": [
      "(1796, 19)\n",
      "id                                                  0\n",
      "doi                                                 4\n",
      "title                                               0\n",
      "publication_year                                    0\n",
      "publication_date                                    0\n",
      "language                                            0\n",
      "type                                                0\n",
      "has_fulltext                                        0\n",
      "cited_by_count                                      0\n",
      "referenced_works_count                              0\n",
      "referenced_works                                  404\n",
      "related_works                                       7\n",
      "cited_by_api_url                                    0\n",
      "abstract                                            0\n",
      "authorships.raw_author_name                        48\n",
      "primary_location.source.display_name              100\n",
      "primary_location.source.host_organization_name    801\n",
      "open_access.is_oa                                   0\n",
      "keywords.display_name                             699\n",
      "dtype: int64\n"
     ]
    }
   ],
   "source": [
    "# data cleansing\n",
    "cleaned_data = raw_data[raw_data.abstract.notna()]\n",
    "cleaned_data = cleaned_data[cleaned_data.publication_year>=2018].reset_index(drop=True)\n",
    "print(cleaned_data.shape)\n",
    "print(cleaned_data.isna().sum())"
   ]
  },
  {
   "cell_type": "code",
   "execution_count": 69,
   "metadata": {},
   "outputs": [
    {
     "data": {
      "text/html": [
       "<div>\n",
       "<style scoped>\n",
       "    .dataframe tbody tr th:only-of-type {\n",
       "        vertical-align: middle;\n",
       "    }\n",
       "\n",
       "    .dataframe tbody tr th {\n",
       "        vertical-align: top;\n",
       "    }\n",
       "\n",
       "    .dataframe thead th {\n",
       "        text-align: right;\n",
       "    }\n",
       "</style>\n",
       "<table border=\"1\" class=\"dataframe\">\n",
       "  <thead>\n",
       "    <tr style=\"text-align: right;\">\n",
       "      <th></th>\n",
       "      <th>id</th>\n",
       "      <th>doi</th>\n",
       "      <th>title</th>\n",
       "      <th>publication_year</th>\n",
       "      <th>publication_date</th>\n",
       "      <th>language</th>\n",
       "      <th>type</th>\n",
       "      <th>has_fulltext</th>\n",
       "      <th>cited_by_count</th>\n",
       "      <th>referenced_works_count</th>\n",
       "      <th>referenced_works</th>\n",
       "      <th>related_works</th>\n",
       "      <th>cited_by_api_url</th>\n",
       "      <th>abstract</th>\n",
       "      <th>authorships.raw_author_name</th>\n",
       "      <th>primary_location.source.display_name</th>\n",
       "      <th>primary_location.source.host_organization_name</th>\n",
       "      <th>open_access.is_oa</th>\n",
       "      <th>keywords.display_name</th>\n",
       "    </tr>\n",
       "  </thead>\n",
       "  <tbody>\n",
       "    <tr>\n",
       "      <th>0</th>\n",
       "      <td>https://openalex.org/W3045742910</td>\n",
       "      <td>https://doi.org/10.3390/ijfs8030045</td>\n",
       "      <td>Industry 4.0 in Finance: The Impact of Artific...</td>\n",
       "      <td>2020</td>\n",
       "      <td>2020-07-28</td>\n",
       "      <td>en</td>\n",
       "      <td>article</td>\n",
       "      <td>False</td>\n",
       "      <td>375</td>\n",
       "      <td>43</td>\n",
       "      <td>https://openalex.org/W1503841534|https://opena...</td>\n",
       "      <td>https://openalex.org/W4393193553|https://opena...</td>\n",
       "      <td>https://api.openalex.org/works?filter=cites:W3...</td>\n",
       "      <td>This study sought to investigate the impact of...</td>\n",
       "      <td>David Mhlanga</td>\n",
       "      <td>International Journal of Financial Studies</td>\n",
       "      <td>Multidisciplinary Digital Publishing Institute</td>\n",
       "      <td>True</td>\n",
       "      <td>Mainstream|Financial Literacy</td>\n",
       "    </tr>\n",
       "    <tr>\n",
       "      <th>1</th>\n",
       "      <td>https://openalex.org/W2903005174</td>\n",
       "      <td>https://doi.org/10.3389/frai.2018.00001</td>\n",
       "      <td>Fintech Risk Management: A Research Challenge ...</td>\n",
       "      <td>2018</td>\n",
       "      <td>2018-11-27</td>\n",
       "      <td>en</td>\n",
       "      <td>article</td>\n",
       "      <td>True</td>\n",
       "      <td>131</td>\n",
       "      <td>32</td>\n",
       "      <td>https://openalex.org/W1227154697|https://opena...</td>\n",
       "      <td>https://openalex.org/W620214523|https://openal...</td>\n",
       "      <td>https://api.openalex.org/works?filter=cites:W2...</td>\n",
       "      <td>SPECIALTY GRAND CHALLENGE article Front. Artif...</td>\n",
       "      <td>Paolo Giudici</td>\n",
       "      <td>Frontiers in Artificial Intelligence</td>\n",
       "      <td>Frontiers Media</td>\n",
       "      <td>True</td>\n",
       "      <td>NaN</td>\n",
       "    </tr>\n",
       "    <tr>\n",
       "      <th>2</th>\n",
       "      <td>https://openalex.org/W3009743688</td>\n",
       "      <td>https://doi.org/10.1007/s40804-020-00200-0</td>\n",
       "      <td>Access to Finance for Artificial Intelligence ...</td>\n",
       "      <td>2020</td>\n",
       "      <td>2020-11-18</td>\n",
       "      <td>en</td>\n",
       "      <td>article</td>\n",
       "      <td>False</td>\n",
       "      <td>88</td>\n",
       "      <td>51</td>\n",
       "      <td>https://openalex.org/W1441180700|https://opena...</td>\n",
       "      <td>https://openalex.org/W4401466028|https://opena...</td>\n",
       "      <td>https://api.openalex.org/works?filter=cites:W3...</td>\n",
       "      <td>Abstract This paper discusses the design of th...</td>\n",
       "      <td>Joseph Lee</td>\n",
       "      <td>European Business Organization Law Review</td>\n",
       "      <td>Springer Science+Business Media</td>\n",
       "      <td>True</td>\n",
       "      <td>Investment</td>\n",
       "    </tr>\n",
       "    <tr>\n",
       "      <th>3</th>\n",
       "      <td>https://openalex.org/W2785943049</td>\n",
       "      <td>https://doi.org/10.5539/ass.v14n2p145</td>\n",
       "      <td>Artificial Intelligence, Smart Contract and Is...</td>\n",
       "      <td>2018</td>\n",
       "      <td>2018-01-29</td>\n",
       "      <td>en</td>\n",
       "      <td>article</td>\n",
       "      <td>True</td>\n",
       "      <td>58</td>\n",
       "      <td>12</td>\n",
       "      <td>https://openalex.org/W1969344535|https://opena...</td>\n",
       "      <td>https://openalex.org/W638761397|https://openal...</td>\n",
       "      <td>https://api.openalex.org/works?filter=cites:W2...</td>\n",
       "      <td>This study examines the two important aspect o...</td>\n",
       "      <td>Siti Rohaya Mat Rahim|Zam Zuriyati Mohamad|Jul...</td>\n",
       "      <td>Asian Social Science</td>\n",
       "      <td>Canadian Center of Science and Education</td>\n",
       "      <td>True</td>\n",
       "      <td>Smart contract</td>\n",
       "    </tr>\n",
       "    <tr>\n",
       "      <th>4</th>\n",
       "      <td>https://openalex.org/W4322775759</td>\n",
       "      <td>https://doi.org/10.1007/s11301-023-00320-0</td>\n",
       "      <td>Applications of Explainable Artificial Intelli...</td>\n",
       "      <td>2023</td>\n",
       "      <td>2023-02-28</td>\n",
       "      <td>en</td>\n",
       "      <td>article</td>\n",
       "      <td>True</td>\n",
       "      <td>95</td>\n",
       "      <td>112</td>\n",
       "      <td>https://openalex.org/W1539987097|https://opena...</td>\n",
       "      <td>https://openalex.org/W4380301954|https://opena...</td>\n",
       "      <td>https://api.openalex.org/works?filter=cites:W4...</td>\n",
       "      <td>Abstract Digitalization and technologization a...</td>\n",
       "      <td>Patrick Weber|K. Valerie Carl|Oliver Hinz</td>\n",
       "      <td>Management Review Quarterly</td>\n",
       "      <td>Springer Science+Business Media</td>\n",
       "      <td>True</td>\n",
       "      <td>Traceability</td>\n",
       "    </tr>\n",
       "    <tr>\n",
       "      <th>...</th>\n",
       "      <td>...</td>\n",
       "      <td>...</td>\n",
       "      <td>...</td>\n",
       "      <td>...</td>\n",
       "      <td>...</td>\n",
       "      <td>...</td>\n",
       "      <td>...</td>\n",
       "      <td>...</td>\n",
       "      <td>...</td>\n",
       "      <td>...</td>\n",
       "      <td>...</td>\n",
       "      <td>...</td>\n",
       "      <td>...</td>\n",
       "      <td>...</td>\n",
       "      <td>...</td>\n",
       "      <td>...</td>\n",
       "      <td>...</td>\n",
       "      <td>...</td>\n",
       "      <td>...</td>\n",
       "    </tr>\n",
       "    <tr>\n",
       "      <th>1791</th>\n",
       "      <td>https://openalex.org/W4385837492</td>\n",
       "      <td>https://doi.org/10.1002/poi3.364</td>\n",
       "      <td>Policy is theft: The state of global Internet ...</td>\n",
       "      <td>2023</td>\n",
       "      <td>2023-08-15</td>\n",
       "      <td>en</td>\n",
       "      <td>article</td>\n",
       "      <td>False</td>\n",
       "      <td>0</td>\n",
       "      <td>21</td>\n",
       "      <td>https://openalex.org/W2085156505|https://opena...</td>\n",
       "      <td>https://openalex.org/W592215901|https://openal...</td>\n",
       "      <td>https://api.openalex.org/works?filter=cites:W4...</td>\n",
       "      <td>Men must learn now with pity to dispense; For ...</td>\n",
       "      <td>John Hartley</td>\n",
       "      <td>Policy &amp; Internet</td>\n",
       "      <td>Wiley</td>\n",
       "      <td>True</td>\n",
       "      <td>NaN</td>\n",
       "    </tr>\n",
       "    <tr>\n",
       "      <th>1792</th>\n",
       "      <td>https://openalex.org/W4389196033</td>\n",
       "      <td>https://doi.org/10.5204/mcj.2938</td>\n",
       "      <td>Bias Cuts and Data Dumps</td>\n",
       "      <td>2023</td>\n",
       "      <td>2023-11-26</td>\n",
       "      <td>en</td>\n",
       "      <td>article</td>\n",
       "      <td>False</td>\n",
       "      <td>0</td>\n",
       "      <td>0</td>\n",
       "      <td>NaN</td>\n",
       "      <td>https://openalex.org/W4387801958|https://opena...</td>\n",
       "      <td>https://api.openalex.org/works?filter=cites:W4...</td>\n",
       "      <td>Introduction “Patterns are everywhere”, design...</td>\n",
       "      <td>Daniela Rosner</td>\n",
       "      <td>M/C Journal</td>\n",
       "      <td>Queensland University of Technology</td>\n",
       "      <td>True</td>\n",
       "      <td>NaN</td>\n",
       "    </tr>\n",
       "    <tr>\n",
       "      <th>1793</th>\n",
       "      <td>https://openalex.org/W2892624716</td>\n",
       "      <td>https://doi.org/10.1111/padr.12191</td>\n",
       "      <td>The New Eugenics—Selective Breeding in an Era ...</td>\n",
       "      <td>2018</td>\n",
       "      <td>2018-09-01</td>\n",
       "      <td>en</td>\n",
       "      <td>review</td>\n",
       "      <td>True</td>\n",
       "      <td>0</td>\n",
       "      <td>12</td>\n",
       "      <td>https://openalex.org/W1931649583|https://opena...</td>\n",
       "      <td>https://openalex.org/W4381619869|https://opena...</td>\n",
       "      <td>https://api.openalex.org/works?filter=cites:W2...</td>\n",
       "      <td>Judith Daar is a prominent US law professor wh...</td>\n",
       "      <td>Bernard M. Dickens</td>\n",
       "      <td>Population and Development Review</td>\n",
       "      <td>Wiley</td>\n",
       "      <td>True</td>\n",
       "      <td>Eugenics</td>\n",
       "    </tr>\n",
       "    <tr>\n",
       "      <th>1794</th>\n",
       "      <td>https://openalex.org/W4295309681</td>\n",
       "      <td>https://doi.org/10.1162/pajj_a_00623</td>\n",
       "      <td>Singing in Dark Times: Report from Berlin</td>\n",
       "      <td>2022</td>\n",
       "      <td>2022-09-01</td>\n",
       "      <td>en</td>\n",
       "      <td>article</td>\n",
       "      <td>True</td>\n",
       "      <td>0</td>\n",
       "      <td>1</td>\n",
       "      <td>https://openalex.org/W3141206771</td>\n",
       "      <td>https://openalex.org/W3134740669|https://opena...</td>\n",
       "      <td>https://api.openalex.org/works?filter=cites:W4...</td>\n",
       "      <td>It was early October in Berlin, cold and damp,...</td>\n",
       "      <td>Matt Cornish</td>\n",
       "      <td>PAJ A Journal of Performance and Art</td>\n",
       "      <td>The MIT Press</td>\n",
       "      <td>True</td>\n",
       "      <td>NaN</td>\n",
       "    </tr>\n",
       "    <tr>\n",
       "      <th>1795</th>\n",
       "      <td>https://openalex.org/W4405016537</td>\n",
       "      <td>https://doi.org/10.3389/feduc.2024.1510421</td>\n",
       "      <td>Building a knowledge economy: higher education...</td>\n",
       "      <td>2024</td>\n",
       "      <td>2024-12-04</td>\n",
       "      <td>en</td>\n",
       "      <td>article</td>\n",
       "      <td>False</td>\n",
       "      <td>0</td>\n",
       "      <td>41</td>\n",
       "      <td>https://openalex.org/W2149868499|https://opena...</td>\n",
       "      <td>https://openalex.org/W2748952813|https://opena...</td>\n",
       "      <td>https://api.openalex.org/works?filter=cites:W4...</td>\n",
       "      <td>The United Arab Emirates (UAE), a nation long ...</td>\n",
       "      <td>Shaljan Areepattamannil</td>\n",
       "      <td>Frontiers in Education</td>\n",
       "      <td>Frontiers Media</td>\n",
       "      <td>True</td>\n",
       "      <td>Knowledge Economy</td>\n",
       "    </tr>\n",
       "  </tbody>\n",
       "</table>\n",
       "<p>1796 rows × 19 columns</p>\n",
       "</div>"
      ],
      "text/plain": [
       "                                    id  \\\n",
       "0     https://openalex.org/W3045742910   \n",
       "1     https://openalex.org/W2903005174   \n",
       "2     https://openalex.org/W3009743688   \n",
       "3     https://openalex.org/W2785943049   \n",
       "4     https://openalex.org/W4322775759   \n",
       "...                                ...   \n",
       "1791  https://openalex.org/W4385837492   \n",
       "1792  https://openalex.org/W4389196033   \n",
       "1793  https://openalex.org/W2892624716   \n",
       "1794  https://openalex.org/W4295309681   \n",
       "1795  https://openalex.org/W4405016537   \n",
       "\n",
       "                                             doi  \\\n",
       "0            https://doi.org/10.3390/ijfs8030045   \n",
       "1        https://doi.org/10.3389/frai.2018.00001   \n",
       "2     https://doi.org/10.1007/s40804-020-00200-0   \n",
       "3          https://doi.org/10.5539/ass.v14n2p145   \n",
       "4     https://doi.org/10.1007/s11301-023-00320-0   \n",
       "...                                          ...   \n",
       "1791            https://doi.org/10.1002/poi3.364   \n",
       "1792            https://doi.org/10.5204/mcj.2938   \n",
       "1793          https://doi.org/10.1111/padr.12191   \n",
       "1794        https://doi.org/10.1162/pajj_a_00623   \n",
       "1795  https://doi.org/10.3389/feduc.2024.1510421   \n",
       "\n",
       "                                                  title  publication_year  \\\n",
       "0     Industry 4.0 in Finance: The Impact of Artific...              2020   \n",
       "1     Fintech Risk Management: A Research Challenge ...              2018   \n",
       "2     Access to Finance for Artificial Intelligence ...              2020   \n",
       "3     Artificial Intelligence, Smart Contract and Is...              2018   \n",
       "4     Applications of Explainable Artificial Intelli...              2023   \n",
       "...                                                 ...               ...   \n",
       "1791  Policy is theft: The state of global Internet ...              2023   \n",
       "1792                           Bias Cuts and Data Dumps              2023   \n",
       "1793  The New Eugenics—Selective Breeding in an Era ...              2018   \n",
       "1794          Singing in Dark Times: Report from Berlin              2022   \n",
       "1795  Building a knowledge economy: higher education...              2024   \n",
       "\n",
       "     publication_date language     type  has_fulltext  cited_by_count  \\\n",
       "0          2020-07-28       en  article         False             375   \n",
       "1          2018-11-27       en  article          True             131   \n",
       "2          2020-11-18       en  article         False              88   \n",
       "3          2018-01-29       en  article          True              58   \n",
       "4          2023-02-28       en  article          True              95   \n",
       "...               ...      ...      ...           ...             ...   \n",
       "1791       2023-08-15       en  article         False               0   \n",
       "1792       2023-11-26       en  article         False               0   \n",
       "1793       2018-09-01       en   review          True               0   \n",
       "1794       2022-09-01       en  article          True               0   \n",
       "1795       2024-12-04       en  article         False               0   \n",
       "\n",
       "      referenced_works_count  \\\n",
       "0                         43   \n",
       "1                         32   \n",
       "2                         51   \n",
       "3                         12   \n",
       "4                        112   \n",
       "...                      ...   \n",
       "1791                      21   \n",
       "1792                       0   \n",
       "1793                      12   \n",
       "1794                       1   \n",
       "1795                      41   \n",
       "\n",
       "                                       referenced_works  \\\n",
       "0     https://openalex.org/W1503841534|https://opena...   \n",
       "1     https://openalex.org/W1227154697|https://opena...   \n",
       "2     https://openalex.org/W1441180700|https://opena...   \n",
       "3     https://openalex.org/W1969344535|https://opena...   \n",
       "4     https://openalex.org/W1539987097|https://opena...   \n",
       "...                                                 ...   \n",
       "1791  https://openalex.org/W2085156505|https://opena...   \n",
       "1792                                                NaN   \n",
       "1793  https://openalex.org/W1931649583|https://opena...   \n",
       "1794                   https://openalex.org/W3141206771   \n",
       "1795  https://openalex.org/W2149868499|https://opena...   \n",
       "\n",
       "                                          related_works  \\\n",
       "0     https://openalex.org/W4393193553|https://opena...   \n",
       "1     https://openalex.org/W620214523|https://openal...   \n",
       "2     https://openalex.org/W4401466028|https://opena...   \n",
       "3     https://openalex.org/W638761397|https://openal...   \n",
       "4     https://openalex.org/W4380301954|https://opena...   \n",
       "...                                                 ...   \n",
       "1791  https://openalex.org/W592215901|https://openal...   \n",
       "1792  https://openalex.org/W4387801958|https://opena...   \n",
       "1793  https://openalex.org/W4381619869|https://opena...   \n",
       "1794  https://openalex.org/W3134740669|https://opena...   \n",
       "1795  https://openalex.org/W2748952813|https://opena...   \n",
       "\n",
       "                                       cited_by_api_url  \\\n",
       "0     https://api.openalex.org/works?filter=cites:W3...   \n",
       "1     https://api.openalex.org/works?filter=cites:W2...   \n",
       "2     https://api.openalex.org/works?filter=cites:W3...   \n",
       "3     https://api.openalex.org/works?filter=cites:W2...   \n",
       "4     https://api.openalex.org/works?filter=cites:W4...   \n",
       "...                                                 ...   \n",
       "1791  https://api.openalex.org/works?filter=cites:W4...   \n",
       "1792  https://api.openalex.org/works?filter=cites:W4...   \n",
       "1793  https://api.openalex.org/works?filter=cites:W2...   \n",
       "1794  https://api.openalex.org/works?filter=cites:W4...   \n",
       "1795  https://api.openalex.org/works?filter=cites:W4...   \n",
       "\n",
       "                                               abstract  \\\n",
       "0     This study sought to investigate the impact of...   \n",
       "1     SPECIALTY GRAND CHALLENGE article Front. Artif...   \n",
       "2     Abstract This paper discusses the design of th...   \n",
       "3     This study examines the two important aspect o...   \n",
       "4     Abstract Digitalization and technologization a...   \n",
       "...                                                 ...   \n",
       "1791  Men must learn now with pity to dispense; For ...   \n",
       "1792  Introduction “Patterns are everywhere”, design...   \n",
       "1793  Judith Daar is a prominent US law professor wh...   \n",
       "1794  It was early October in Berlin, cold and damp,...   \n",
       "1795  The United Arab Emirates (UAE), a nation long ...   \n",
       "\n",
       "                            authorships.raw_author_name  \\\n",
       "0                                         David Mhlanga   \n",
       "1                                         Paolo Giudici   \n",
       "2                                            Joseph Lee   \n",
       "3     Siti Rohaya Mat Rahim|Zam Zuriyati Mohamad|Jul...   \n",
       "4             Patrick Weber|K. Valerie Carl|Oliver Hinz   \n",
       "...                                                 ...   \n",
       "1791                                       John Hartley   \n",
       "1792                                     Daniela Rosner   \n",
       "1793                                 Bernard M. Dickens   \n",
       "1794                                       Matt Cornish   \n",
       "1795                            Shaljan Areepattamannil   \n",
       "\n",
       "            primary_location.source.display_name  \\\n",
       "0     International Journal of Financial Studies   \n",
       "1           Frontiers in Artificial Intelligence   \n",
       "2      European Business Organization Law Review   \n",
       "3                           Asian Social Science   \n",
       "4                    Management Review Quarterly   \n",
       "...                                          ...   \n",
       "1791                           Policy & Internet   \n",
       "1792                                 M/C Journal   \n",
       "1793           Population and Development Review   \n",
       "1794        PAJ A Journal of Performance and Art   \n",
       "1795                      Frontiers in Education   \n",
       "\n",
       "      primary_location.source.host_organization_name  open_access.is_oa  \\\n",
       "0     Multidisciplinary Digital Publishing Institute               True   \n",
       "1                                    Frontiers Media               True   \n",
       "2                    Springer Science+Business Media               True   \n",
       "3           Canadian Center of Science and Education               True   \n",
       "4                    Springer Science+Business Media               True   \n",
       "...                                              ...                ...   \n",
       "1791                                           Wiley               True   \n",
       "1792             Queensland University of Technology               True   \n",
       "1793                                           Wiley               True   \n",
       "1794                                   The MIT Press               True   \n",
       "1795                                 Frontiers Media               True   \n",
       "\n",
       "              keywords.display_name  \n",
       "0     Mainstream|Financial Literacy  \n",
       "1                               NaN  \n",
       "2                        Investment  \n",
       "3                    Smart contract  \n",
       "4                      Traceability  \n",
       "...                             ...  \n",
       "1791                            NaN  \n",
       "1792                            NaN  \n",
       "1793                       Eugenics  \n",
       "1794                            NaN  \n",
       "1795              Knowledge Economy  \n",
       "\n",
       "[1796 rows x 19 columns]"
      ]
     },
     "execution_count": 69,
     "metadata": {},
     "output_type": "execute_result"
    }
   ],
   "source": [
    "cleaned_data"
   ]
  },
  {
   "cell_type": "code",
   "execution_count": 70,
   "metadata": {},
   "outputs": [],
   "source": [
    "cleaned_data.to_csv('cleaned_data.csv', index=False)"
   ]
  },
  {
   "cell_type": "code",
   "execution_count": 65,
   "metadata": {},
   "outputs": [
    {
     "name": "stderr",
     "output_type": "stream",
     "text": [
      "处理参考文献 https://openalex.org/W3045742910: 100%|██████████| 43/43 [00:45<00:00,  1.06s/it]\n"
     ]
    },
    {
     "name": "stdout",
     "output_type": "stream",
     "text": [
      "开始处理论文 https://openalex.org/W3045742910，总被引: 375，预计页数: 2\n"
     ]
    },
    {
     "name": "stderr",
     "output_type": "stream",
     "text": [
      "分页获取: 100%|██████████| 2/2 [00:04<00:00,  2.49s/it]\n",
      "处理种子论文:   0%|          | 1/1849 [00:50<25:54:53, 50.48s/it]"
     ]
    },
    {
     "name": "stdout",
     "output_type": "stream",
     "text": [
      "警告: 论文 https://openalex.org/W3045742910 应获取 375 条，实际获取 376 条\n",
      "已保存临时结果\n"
     ]
    },
    {
     "name": "stderr",
     "output_type": "stream",
     "text": [
      "处理参考文献 https://openalex.org/W2903005174: 100%|██████████| 32/32 [00:34<00:00,  1.09s/it]\n"
     ]
    },
    {
     "name": "stdout",
     "output_type": "stream",
     "text": [
      "开始处理论文 https://openalex.org/W2903005174，总被引: 131，预计页数: 1\n"
     ]
    },
    {
     "name": "stderr",
     "output_type": "stream",
     "text": [
      "分页获取: 100%|██████████| 1/1 [00:02<00:00,  2.52s/it]\n",
      "处理参考文献 https://openalex.org/W3009743688: 100%|██████████| 51/51 [00:54<00:00,  1.07s/it]\n"
     ]
    },
    {
     "name": "stdout",
     "output_type": "stream",
     "text": [
      "开始处理论文 https://openalex.org/W3009743688，总被引: 88，预计页数: 1\n"
     ]
    },
    {
     "name": "stderr",
     "output_type": "stream",
     "text": [
      "分页获取: 100%|██████████| 1/1 [00:02<00:00,  2.24s/it]\n",
      "处理参考文献 https://openalex.org/W2785943049: 100%|██████████| 12/12 [00:12<00:00,  1.07s/it]\n"
     ]
    },
    {
     "name": "stdout",
     "output_type": "stream",
     "text": [
      "开始处理论文 https://openalex.org/W2785943049，总被引: 58，预计页数: 1\n"
     ]
    },
    {
     "name": "stderr",
     "output_type": "stream",
     "text": [
      "分页获取: 100%|██████████| 1/1 [00:02<00:00,  2.26s/it]\n",
      "处理参考文献 https://openalex.org/W4322775759: 100%|██████████| 112/112 [01:59<00:00,  1.06s/it]\n"
     ]
    },
    {
     "name": "stdout",
     "output_type": "stream",
     "text": [
      "开始处理论文 https://openalex.org/W4322775759，总被引: 95，预计页数: 1\n"
     ]
    },
    {
     "name": "stderr",
     "output_type": "stream",
     "text": [
      "分页获取: 100%|██████████| 1/1 [00:02<00:00,  2.22s/it]\n",
      "处理种子论文:   0%|          | 5/1849 [04:41<34:08:44, 66.66s/it]"
     ]
    },
    {
     "name": "stdout",
     "output_type": "stream",
     "text": [
      "警告: 论文 https://openalex.org/W4322775759 应获取 95 条，实际获取 97 条\n"
     ]
    },
    {
     "name": "stderr",
     "output_type": "stream",
     "text": [
      "处理参考文献 https://openalex.org/W4380758004: 100%|██████████| 14/14 [00:14<00:00,  1.04s/it]\n"
     ]
    },
    {
     "name": "stdout",
     "output_type": "stream",
     "text": [
      "开始处理论文 https://openalex.org/W4380758004，总被引: 63，预计页数: 1\n"
     ]
    },
    {
     "name": "stderr",
     "output_type": "stream",
     "text": [
      "分页获取: 100%|██████████| 1/1 [00:02<00:00,  2.40s/it]\n",
      "处理种子论文:   0%|          | 6/1849 [04:58<25:30:38, 49.83s/it]"
     ]
    },
    {
     "name": "stdout",
     "output_type": "stream",
     "text": [
      "警告: 论文 https://openalex.org/W4380758004 应获取 63 条，实际获取 64 条\n",
      "已保存临时结果\n"
     ]
    },
    {
     "name": "stderr",
     "output_type": "stream",
     "text": [
      "处理参考文献 https://openalex.org/W4205781500: 100%|██████████| 84/84 [01:30<00:00,  1.07s/it]\n"
     ]
    },
    {
     "name": "stdout",
     "output_type": "stream",
     "text": [
      "开始处理论文 https://openalex.org/W4205781500，总被引: 61，预计页数: 1\n"
     ]
    },
    {
     "name": "stderr",
     "output_type": "stream",
     "text": [
      "分页获取: 100%|██████████| 1/1 [00:02<00:00,  2.57s/it]\n",
      "处理参考文献 https://openalex.org/W4284886824: 100%|██████████| 14/14 [00:14<00:00,  1.05s/it]\n"
     ]
    },
    {
     "name": "stdout",
     "output_type": "stream",
     "text": [
      "开始处理论文 https://openalex.org/W4284886824，总被引: 52，预计页数: 1\n"
     ]
    },
    {
     "name": "stderr",
     "output_type": "stream",
     "text": [
      "分页获取: 100%|██████████| 1/1 [00:02<00:00,  2.43s/it]\n",
      "处理种子论文:   0%|          | 8/1849 [06:48<25:03:10, 48.99s/it]"
     ]
    },
    {
     "name": "stdout",
     "output_type": "stream",
     "text": [
      "获取论文W2073188415时出错：('Connection aborted.', ConnectionResetError(10054, 'An existing connection was forcibly closed by the remote host', None, 10054, None))\n"
     ]
    },
    {
     "name": "stderr",
     "output_type": "stream",
     "text": [
      "处理参考文献 https://openalex.org/W4391052828: 100%|██████████| 122/122 [02:16<00:00,  1.12s/it]\n"
     ]
    },
    {
     "name": "stdout",
     "output_type": "stream",
     "text": [
      "开始处理论文 https://openalex.org/W4391052828，总被引: 49，预计页数: 1\n"
     ]
    },
    {
     "name": "stderr",
     "output_type": "stream",
     "text": [
      "分页获取: 100%|██████████| 1/1 [00:02<00:00,  2.01s/it]\n",
      "处理种子论文:   0%|          | 9/1849 [09:06<39:21:54, 77.02s/it]"
     ]
    },
    {
     "name": "stdout",
     "output_type": "stream",
     "text": [
      "警告: 论文 https://openalex.org/W4391052828 应获取 49 条，实际获取 50 条\n"
     ]
    },
    {
     "name": "stderr",
     "output_type": "stream",
     "text": [
      "处理参考文献 https://openalex.org/W3040590432: 100%|██████████| 3/3 [00:03<00:00,  1.07s/it]\n"
     ]
    },
    {
     "name": "stdout",
     "output_type": "stream",
     "text": [
      "开始处理论文 https://openalex.org/W3040590432，总被引: 30，预计页数: 1\n"
     ]
    },
    {
     "name": "stderr",
     "output_type": "stream",
     "text": [
      "分页获取: 100%|██████████| 1/1 [00:02<00:00,  2.07s/it]\n",
      "处理参考文献 https://openalex.org/W4388740194: 100%|██████████| 224/224 [04:11<00:00,  1.12s/it]\n"
     ]
    },
    {
     "name": "stdout",
     "output_type": "stream",
     "text": [
      "开始处理论文 https://openalex.org/W4388740194，总被引: 26，预计页数: 1\n"
     ]
    },
    {
     "name": "stderr",
     "output_type": "stream",
     "text": [
      "分页获取: 100%|██████████| 1/1 [00:02<00:00,  2.09s/it]\n",
      "处理种子论文:   1%|          | 11/1849 [13:26<59:09:30, 115.87s/it]"
     ]
    },
    {
     "name": "stdout",
     "output_type": "stream",
     "text": [
      "已保存临时结果\n"
     ]
    },
    {
     "name": "stderr",
     "output_type": "stream",
     "text": [
      "处理参考文献 https://openalex.org/W3196476271: 100%|██████████| 137/137 [02:36<00:00,  1.14s/it]\n"
     ]
    },
    {
     "name": "stdout",
     "output_type": "stream",
     "text": [
      "开始处理论文 https://openalex.org/W3196476271，总被引: 25，预计页数: 1\n"
     ]
    },
    {
     "name": "stderr",
     "output_type": "stream",
     "text": [
      "分页获取: 100%|██████████| 1/1 [00:01<00:00,  1.97s/it]\n",
      "处理参考文献 https://openalex.org/W4220700195: 100%|██████████| 100/100 [01:52<00:00,  1.12s/it]\n"
     ]
    },
    {
     "name": "stdout",
     "output_type": "stream",
     "text": [
      "开始处理论文 https://openalex.org/W4220700195，总被引: 35，预计页数: 1\n"
     ]
    },
    {
     "name": "stderr",
     "output_type": "stream",
     "text": [
      "分页获取: 100%|██████████| 1/1 [00:02<00:00,  2.13s/it]\n",
      "处理种子论文:   1%|          | 13/1849 [17:59<63:27:29, 124.43s/it]"
     ]
    },
    {
     "name": "stdout",
     "output_type": "stream",
     "text": [
      "警告: 论文 https://openalex.org/W4220700195 应获取 35 条，实际获取 36 条\n"
     ]
    },
    {
     "name": "stderr",
     "output_type": "stream",
     "text": [
      "处理参考文献 https://openalex.org/W3006290725: 100%|██████████| 6/6 [00:06<00:00,  1.11s/it]\n"
     ]
    },
    {
     "name": "stdout",
     "output_type": "stream",
     "text": [
      "开始处理论文 https://openalex.org/W3006290725，总被引: 32，预计页数: 1\n"
     ]
    },
    {
     "name": "stderr",
     "output_type": "stream",
     "text": [
      "分页获取: 100%|██████████| 1/1 [00:02<00:00,  2.13s/it]\n",
      "处理参考文献 https://openalex.org/W4290928159: 100%|██████████| 20/20 [00:21<00:00,  1.09s/it]\n"
     ]
    },
    {
     "name": "stdout",
     "output_type": "stream",
     "text": [
      "开始处理论文 https://openalex.org/W4290928159，总被引: 19，预计页数: 1\n"
     ]
    },
    {
     "name": "stderr",
     "output_type": "stream",
     "text": [
      "分页获取: 100%|██████████| 1/1 [00:02<00:00,  2.04s/it]\n",
      "处理参考文献 https://openalex.org/W4393098566: 100%|██████████| 77/77 [01:26<00:00,  1.12s/it]\n"
     ]
    },
    {
     "name": "stdout",
     "output_type": "stream",
     "text": [
      "开始处理论文 https://openalex.org/W4393098566，总被引: 32，预计页数: 1\n"
     ]
    },
    {
     "name": "stderr",
     "output_type": "stream",
     "text": [
      "分页获取: 100%|██████████| 1/1 [00:02<00:00,  2.05s/it]\n"
     ]
    },
    {
     "name": "stdout",
     "output_type": "stream",
     "text": [
      "警告: 论文 https://openalex.org/W4393098566 应获取 32 条，实际获取 34 条\n"
     ]
    },
    {
     "name": "stderr",
     "output_type": "stream",
     "text": [
      "处理种子论文:   1%|          | 16/1849 [20:00<38:26:43, 75.51s/it]"
     ]
    },
    {
     "name": "stdout",
     "output_type": "stream",
     "text": [
      "已保存临时结果\n"
     ]
    },
    {
     "name": "stderr",
     "output_type": "stream",
     "text": [
      "处理参考文献 https://openalex.org/W4309556207: 100%|██████████| 39/39 [00:44<00:00,  1.13s/it]\n"
     ]
    },
    {
     "name": "stdout",
     "output_type": "stream",
     "text": [
      "开始处理论文 https://openalex.org/W4309556207，总被引: 26，预计页数: 1\n"
     ]
    },
    {
     "name": "stderr",
     "output_type": "stream",
     "text": [
      "分页获取: 100%|██████████| 1/1 [00:02<00:00,  2.15s/it]\n",
      "处理种子论文:   1%|          | 17/1849 [20:46<33:56:26, 66.70s/it]"
     ]
    },
    {
     "name": "stdout",
     "output_type": "stream",
     "text": [
      "警告: 论文 https://openalex.org/W4309556207 应获取 26 条，实际获取 27 条\n"
     ]
    },
    {
     "name": "stderr",
     "output_type": "stream",
     "text": [
      "处理参考文献 https://openalex.org/W3107898512: 100%|██████████| 8/8 [00:08<00:00,  1.11s/it]\n"
     ]
    },
    {
     "name": "stdout",
     "output_type": "stream",
     "text": [
      "开始处理论文 https://openalex.org/W3107898512，总被引: 36，预计页数: 1\n"
     ]
    },
    {
     "name": "stderr",
     "output_type": "stream",
     "text": [
      "分页获取: 100%|██████████| 1/1 [00:02<00:00,  2.49s/it]\n",
      "处理参考文献 https://openalex.org/W4388661036: 100%|██████████| 1/1 [00:01<00:00,  1.06s/it]\n"
     ]
    },
    {
     "name": "stdout",
     "output_type": "stream",
     "text": [
      "开始处理论文 https://openalex.org/W4388661036，总被引: 14，预计页数: 1\n"
     ]
    },
    {
     "name": "stderr",
     "output_type": "stream",
     "text": [
      "分页获取: 100%|██████████| 1/1 [00:01<00:00,  1.66s/it]\n",
      "处理参考文献 https://openalex.org/W4365515494: 100%|██████████| 47/47 [00:52<00:00,  1.13s/it]\n"
     ]
    },
    {
     "name": "stdout",
     "output_type": "stream",
     "text": [
      "开始处理论文 https://openalex.org/W4365515494，总被引: 26，预计页数: 1\n"
     ]
    },
    {
     "name": "stderr",
     "output_type": "stream",
     "text": [
      "分页获取: 100%|██████████| 1/1 [00:02<00:00,  2.11s/it]\n",
      "处理参考文献 https://openalex.org/W4399442277: 100%|██████████| 38/38 [00:44<00:00,  1.16s/it]\n"
     ]
    },
    {
     "name": "stdout",
     "output_type": "stream",
     "text": [
      "开始处理论文 https://openalex.org/W4399442277，总被引: 26，预计页数: 1\n"
     ]
    },
    {
     "name": "stderr",
     "output_type": "stream",
     "text": [
      "分页获取: 100%|██████████| 1/1 [00:02<00:00,  2.06s/it]\n",
      "处理种子论文:   1%|          | 21/1849 [22:42<21:53:01, 43.10s/it]"
     ]
    },
    {
     "name": "stdout",
     "output_type": "stream",
     "text": [
      "已保存临时结果\n"
     ]
    },
    {
     "name": "stderr",
     "output_type": "stream",
     "text": [
      "处理参考文献 https://openalex.org/W4392238943: 100%|██████████| 290/290 [05:27<00:00,  1.13s/it]\n"
     ]
    },
    {
     "name": "stdout",
     "output_type": "stream",
     "text": [
      "开始处理论文 https://openalex.org/W4392238943，总被引: 24，预计页数: 1\n"
     ]
    },
    {
     "name": "stderr",
     "output_type": "stream",
     "text": [
      "分页获取: 100%|██████████| 1/1 [00:02<00:00,  2.12s/it]\n",
      "处理种子论文:   1%|          | 22/1849 [28:12<65:32:36, 129.15s/it]"
     ]
    },
    {
     "name": "stdout",
     "output_type": "stream",
     "text": [
      "警告: 论文 https://openalex.org/W4392238943 应获取 24 条，实际获取 25 条\n"
     ]
    },
    {
     "name": "stderr",
     "output_type": "stream",
     "text": [
      "处理参考文献 https://openalex.org/W4386783253: 100%|██████████| 42/42 [00:46<00:00,  1.11s/it]\n"
     ]
    },
    {
     "name": "stdout",
     "output_type": "stream",
     "text": [
      "开始处理论文 https://openalex.org/W4386783253，总被引: 22，预计页数: 1\n"
     ]
    },
    {
     "name": "stderr",
     "output_type": "stream",
     "text": [
      "分页获取: 100%|██████████| 1/1 [00:02<00:00,  2.05s/it]\n",
      "处理参考文献 https://openalex.org/W4291972370: 100%|██████████| 23/23 [00:26<00:00,  1.14s/it]\n"
     ]
    },
    {
     "name": "stdout",
     "output_type": "stream",
     "text": [
      "开始处理论文 https://openalex.org/W4291972370，总被引: 15，预计页数: 1\n"
     ]
    },
    {
     "name": "stderr",
     "output_type": "stream",
     "text": [
      "分页获取: 100%|██████████| 1/1 [00:01<00:00,  1.69s/it]\n",
      "处理参考文献 https://openalex.org/W4366317681: 100%|██████████| 8/8 [00:09<00:00,  1.13s/it]\n"
     ]
    },
    {
     "name": "stdout",
     "output_type": "stream",
     "text": [
      "开始处理论文 https://openalex.org/W4366317681，总被引: 8，预计页数: 1\n"
     ]
    },
    {
     "name": "stderr",
     "output_type": "stream",
     "text": [
      "分页获取: 100%|██████████| 1/1 [00:01<00:00,  1.63s/it]\n",
      "处理参考文献 https://openalex.org/W4380225237: 100%|██████████| 53/53 [00:58<00:00,  1.11s/it]\n"
     ]
    },
    {
     "name": "stdout",
     "output_type": "stream",
     "text": [
      "开始处理论文 https://openalex.org/W4380225237，总被引: 13，预计页数: 1\n"
     ]
    },
    {
     "name": "stderr",
     "output_type": "stream",
     "text": [
      "分页获取: 100%|██████████| 1/1 [00:01<00:00,  1.70s/it]\n",
      "处理种子论文:   1%|▏         | 26/1849 [30:41<30:44:02, 60.69s/it]"
     ]
    },
    {
     "name": "stdout",
     "output_type": "stream",
     "text": [
      "已保存临时结果\n"
     ]
    },
    {
     "name": "stderr",
     "output_type": "stream",
     "text": [
      "处理参考文献 https://openalex.org/W3129211385: 100%|██████████| 3/3 [00:03<00:00,  1.08s/it]\n"
     ]
    },
    {
     "name": "stdout",
     "output_type": "stream",
     "text": [
      "开始处理论文 https://openalex.org/W3129211385，总被引: 17，预计页数: 1\n"
     ]
    },
    {
     "name": "stderr",
     "output_type": "stream",
     "text": [
      "分页获取: 100%|██████████| 1/1 [00:01<00:00,  1.82s/it]\n",
      "处理参考文献 https://openalex.org/W4401011076: 100%|██████████| 172/172 [03:13<00:00,  1.12s/it]\n"
     ]
    },
    {
     "name": "stdout",
     "output_type": "stream",
     "text": [
      "开始处理论文 https://openalex.org/W4401011076，总被引: 11，预计页数: 1\n"
     ]
    },
    {
     "name": "stderr",
     "output_type": "stream",
     "text": [
      "分页获取: 100%|██████████| 1/1 [00:01<00:00,  1.68s/it]\n",
      "处理种子论文:   2%|▏         | 28/1849 [34:01<45:10:14, 89.30s/it]"
     ]
    },
    {
     "name": "stdout",
     "output_type": "stream",
     "text": [
      "警告: 论文 https://openalex.org/W4401011076 应获取 11 条，实际获取 13 条\n"
     ]
    },
    {
     "name": "stderr",
     "output_type": "stream",
     "text": [
      "处理参考文献 https://openalex.org/W4388422043: 100%|██████████| 113/113 [02:08<00:00,  1.14s/it]\n"
     ]
    },
    {
     "name": "stdout",
     "output_type": "stream",
     "text": [
      "开始处理论文 https://openalex.org/W4388422043，总被引: 8，预计页数: 1\n"
     ]
    },
    {
     "name": "stderr",
     "output_type": "stream",
     "text": [
      "分页获取: 100%|██████████| 1/1 [00:01<00:00,  1.70s/it]\n",
      "处理参考文献 https://openalex.org/W3195574054: 100%|██████████| 1/1 [00:01<00:00,  1.14s/it]\n"
     ]
    },
    {
     "name": "stdout",
     "output_type": "stream",
     "text": [
      "开始处理论文 https://openalex.org/W3195574054，总被引: 8，预计页数: 1\n"
     ]
    },
    {
     "name": "stderr",
     "output_type": "stream",
     "text": [
      "分页获取: 100%|██████████| 1/1 [00:01<00:00,  1.63s/it]\n",
      "处理参考文献 https://openalex.org/W3162624568: 100%|██████████| 20/20 [00:22<00:00,  1.14s/it]\n"
     ]
    },
    {
     "name": "stdout",
     "output_type": "stream",
     "text": [
      "开始处理论文 https://openalex.org/W3162624568，总被引: 17，预计页数: 1\n"
     ]
    },
    {
     "name": "stderr",
     "output_type": "stream",
     "text": [
      "分页获取: 100%|██████████| 1/1 [00:01<00:00,  1.77s/it]\n",
      "处理种子论文:   2%|▏         | 31/1849 [36:39<29:15:58, 57.95s/it]"
     ]
    },
    {
     "name": "stdout",
     "output_type": "stream",
     "text": [
      "已保存临时结果\n"
     ]
    },
    {
     "name": "stderr",
     "output_type": "stream",
     "text": [
      "处理参考文献 https://openalex.org/W4376104680: 100%|██████████| 40/40 [00:44<00:00,  1.12s/it]\n"
     ]
    },
    {
     "name": "stdout",
     "output_type": "stream",
     "text": [
      "开始处理论文 https://openalex.org/W4376104680，总被引: 16，预计页数: 1\n"
     ]
    },
    {
     "name": "stderr",
     "output_type": "stream",
     "text": [
      "分页获取: 100%|██████████| 1/1 [00:01<00:00,  1.74s/it]\n",
      "处理种子论文:   2%|▏         | 32/1849 [37:26<27:31:58, 54.55s/it]"
     ]
    },
    {
     "name": "stdout",
     "output_type": "stream",
     "text": [
      "获取论文W2155772611时出错：('Connection aborted.', ConnectionResetError(10054, 'An existing connection was forcibly closed by the remote host', None, 10054, None))\n"
     ]
    },
    {
     "name": "stderr",
     "output_type": "stream",
     "text": [
      "处理参考文献 https://openalex.org/W3199399826: 100%|██████████| 45/45 [00:53<00:00,  1.19s/it]\n"
     ]
    },
    {
     "name": "stdout",
     "output_type": "stream",
     "text": [
      "开始处理论文 https://openalex.org/W3199399826，总被引: 14，预计页数: 1\n"
     ]
    },
    {
     "name": "stderr",
     "output_type": "stream",
     "text": [
      "分页获取: 100%|██████████| 1/1 [00:01<00:00,  1.76s/it]\n",
      "处理参考文献 https://openalex.org/W4390187135: 100%|██████████| 60/60 [01:04<00:00,  1.08s/it]\n"
     ]
    },
    {
     "name": "stdout",
     "output_type": "stream",
     "text": [
      "开始处理论文 https://openalex.org/W4390187135，总被引: 10，预计页数: 1\n"
     ]
    },
    {
     "name": "stderr",
     "output_type": "stream",
     "text": [
      "分页获取: 100%|██████████| 1/1 [00:01<00:00,  1.75s/it]\n",
      "处理种子论文:   2%|▏         | 34/1849 [39:28<29:25:07, 58.35s/it]"
     ]
    },
    {
     "name": "stdout",
     "output_type": "stream",
     "text": [
      "警告: 论文 https://openalex.org/W4390187135 应获取 10 条，实际获取 11 条\n"
     ]
    },
    {
     "name": "stderr",
     "output_type": "stream",
     "text": [
      "处理参考文献 https://openalex.org/W4290775870: 100%|██████████| 9/9 [00:10<00:00,  1.15s/it]\n"
     ]
    },
    {
     "name": "stdout",
     "output_type": "stream",
     "text": [
      "开始处理论文 https://openalex.org/W4290775870，总被引: 7，预计页数: 1\n"
     ]
    },
    {
     "name": "stderr",
     "output_type": "stream",
     "text": [
      "分页获取: 100%|██████████| 1/1 [00:01<00:00,  1.85s/it]\n",
      "处理参考文献 https://openalex.org/W4386601667: 100%|██████████| 16/16 [00:17<00:00,  1.12s/it]\n"
     ]
    },
    {
     "name": "stdout",
     "output_type": "stream",
     "text": [
      "开始处理论文 https://openalex.org/W4386601667，总被引: 10，预计页数: 1\n"
     ]
    },
    {
     "name": "stderr",
     "output_type": "stream",
     "text": [
      "分页获取: 100%|██████████| 1/1 [00:01<00:00,  1.72s/it]\n",
      "处理种子论文:   2%|▏         | 36/1849 [40:00<18:43:19, 37.18s/it]"
     ]
    },
    {
     "name": "stdout",
     "output_type": "stream",
     "text": [
      "已保存临时结果\n"
     ]
    },
    {
     "name": "stderr",
     "output_type": "stream",
     "text": [
      "处理参考文献 https://openalex.org/W4285495104: 100%|██████████| 27/27 [00:30<00:00,  1.14s/it]\n"
     ]
    },
    {
     "name": "stdout",
     "output_type": "stream",
     "text": [
      "开始处理论文 https://openalex.org/W4285495104，总被引: 9，预计页数: 1\n"
     ]
    },
    {
     "name": "stderr",
     "output_type": "stream",
     "text": [
      "分页获取: 100%|██████████| 1/1 [00:01<00:00,  1.98s/it]\n",
      "处理参考文献 https://openalex.org/W4388797076: 100%|██████████| 41/41 [00:45<00:00,  1.10s/it]\n"
     ]
    },
    {
     "name": "stdout",
     "output_type": "stream",
     "text": [
      "开始处理论文 https://openalex.org/W4388797076，总被引: 13，预计页数: 1\n"
     ]
    },
    {
     "name": "stderr",
     "output_type": "stream",
     "text": [
      "分页获取: 100%|██████████| 1/1 [00:01<00:00,  1.84s/it]\n",
      "处理参考文献 https://openalex.org/W4281392432: 100%|██████████| 23/23 [00:26<00:00,  1.17s/it]\n"
     ]
    },
    {
     "name": "stdout",
     "output_type": "stream",
     "text": [
      "开始处理论文 https://openalex.org/W4281392432，总被引: 10，预计页数: 1\n"
     ]
    },
    {
     "name": "stderr",
     "output_type": "stream",
     "text": [
      "分页获取: 100%|██████████| 1/1 [00:01<00:00,  1.69s/it]\n",
      "处理种子论文:   2%|▏         | 39/1849 [41:49<18:06:36, 36.02s/it]"
     ]
    },
    {
     "name": "stdout",
     "output_type": "stream",
     "text": [
      "开始处理论文 https://openalex.org/W3009016512，总被引: 5，预计页数: 1\n"
     ]
    },
    {
     "name": "stderr",
     "output_type": "stream",
     "text": [
      "分页获取: 100%|██████████| 1/1 [00:01<00:00,  1.63s/it]\n",
      "处理参考文献 https://openalex.org/W4249753095: 100%|██████████| 5/5 [00:05<00:00,  1.17s/it]\n"
     ]
    },
    {
     "name": "stdout",
     "output_type": "stream",
     "text": [
      "开始处理论文 https://openalex.org/W4249753095，总被引: 3，预计页数: 1\n"
     ]
    },
    {
     "name": "stderr",
     "output_type": "stream",
     "text": [
      "分页获取: 100%|██████████| 1/1 [00:01<00:00,  1.36s/it]\n",
      "处理种子论文:   2%|▏         | 41/1849 [41:58<10:11:28, 20.29s/it]"
     ]
    },
    {
     "name": "stdout",
     "output_type": "stream",
     "text": [
      "已保存临时结果\n"
     ]
    },
    {
     "name": "stderr",
     "output_type": "stream",
     "text": [
      "处理参考文献 https://openalex.org/W3023485483: 100%|██████████| 45/45 [00:50<00:00,  1.13s/it]\n"
     ]
    },
    {
     "name": "stdout",
     "output_type": "stream",
     "text": [
      "开始处理论文 https://openalex.org/W3023485483，总被引: 4，预计页数: 1\n"
     ]
    },
    {
     "name": "stderr",
     "output_type": "stream",
     "text": [
      "分页获取: 100%|██████████| 1/1 [00:01<00:00,  1.35s/it]\n",
      "处理参考文献 https://openalex.org/W3209427160: 100%|██████████| 9/9 [00:09<00:00,  1.05s/it]\n"
     ]
    },
    {
     "name": "stdout",
     "output_type": "stream",
     "text": [
      "开始处理论文 https://openalex.org/W3209427160，总被引: 5，预计页数: 1\n"
     ]
    },
    {
     "name": "stderr",
     "output_type": "stream",
     "text": [
      "分页获取: 100%|██████████| 1/1 [00:01<00:00,  1.71s/it]\n",
      "处理种子论文:   2%|▏         | 43/1849 [43:01<12:11:00, 24.29s/it]"
     ]
    },
    {
     "name": "stdout",
     "output_type": "stream",
     "text": [
      "开始处理论文 https://openalex.org/W4395452107，总被引: 4，预计页数: 1\n"
     ]
    },
    {
     "name": "stderr",
     "output_type": "stream",
     "text": [
      "分页获取: 100%|██████████| 1/1 [00:01<00:00,  1.36s/it]\n",
      "处理参考文献 https://openalex.org/W3205357469: 100%|██████████| 24/24 [00:27<00:00,  1.15s/it]\n"
     ]
    },
    {
     "name": "stdout",
     "output_type": "stream",
     "text": [
      "开始处理论文 https://openalex.org/W3205357469，总被引: 8，预计页数: 1\n"
     ]
    },
    {
     "name": "stderr",
     "output_type": "stream",
     "text": [
      "分页获取: 100%|██████████| 1/1 [00:01<00:00,  1.69s/it]\n",
      "处理参考文献 https://openalex.org/W4312223138: 100%|██████████| 5/5 [00:05<00:00,  1.10s/it]\n"
     ]
    },
    {
     "name": "stdout",
     "output_type": "stream",
     "text": [
      "开始处理论文 https://openalex.org/W4312223138，总被引: 9，预计页数: 1\n"
     ]
    },
    {
     "name": "stderr",
     "output_type": "stream",
     "text": [
      "分页获取: 100%|██████████| 1/1 [00:01<00:00,  1.77s/it]\n",
      "处理种子论文:   2%|▏         | 46/1849 [43:40<8:31:00, 17.01s/it] "
     ]
    },
    {
     "name": "stdout",
     "output_type": "stream",
     "text": [
      "已保存临时结果\n"
     ]
    },
    {
     "name": "stderr",
     "output_type": "stream",
     "text": [
      "处理参考文献 https://openalex.org/W4393071637: 100%|██████████| 37/37 [00:40<00:00,  1.11s/it]\n"
     ]
    },
    {
     "name": "stdout",
     "output_type": "stream",
     "text": [
      "开始处理论文 https://openalex.org/W4393071637，总被引: 8，预计页数: 1\n"
     ]
    },
    {
     "name": "stderr",
     "output_type": "stream",
     "text": [
      "分页获取: 100%|██████████| 1/1 [00:01<00:00,  1.70s/it]\n",
      "处理参考文献 https://openalex.org/W4283273697: 100%|██████████| 16/16 [00:17<00:00,  1.10s/it]\n"
     ]
    },
    {
     "name": "stdout",
     "output_type": "stream",
     "text": [
      "开始处理论文 https://openalex.org/W4283273697，总被引: 8，预计页数: 1\n"
     ]
    },
    {
     "name": "stderr",
     "output_type": "stream",
     "text": [
      "分页获取: 100%|██████████| 1/1 [00:01<00:00,  1.63s/it]\n",
      "处理参考文献 https://openalex.org/W4391012202: 100%|██████████| 20/20 [00:22<00:00,  1.11s/it]\n"
     ]
    },
    {
     "name": "stdout",
     "output_type": "stream",
     "text": [
      "开始处理论文 https://openalex.org/W4391012202，总被引: 7，预计页数: 1\n"
     ]
    },
    {
     "name": "stderr",
     "output_type": "stream",
     "text": [
      "分页获取: 100%|██████████| 1/1 [00:01<00:00,  1.75s/it]\n",
      "处理参考文献 https://openalex.org/W2924322254: 100%|██████████| 2/2 [00:02<00:00,  1.09s/it]\n"
     ]
    },
    {
     "name": "stdout",
     "output_type": "stream",
     "text": [
      "开始处理论文 https://openalex.org/W2924322254，总被引: 2，预计页数: 1\n"
     ]
    },
    {
     "name": "stderr",
     "output_type": "stream",
     "text": [
      "分页获取: 100%|██████████| 1/1 [00:01<00:00,  1.48s/it]\n",
      "处理参考文献 https://openalex.org/W4200265623: 100%|██████████| 30/30 [00:33<00:00,  1.12s/it]\n"
     ]
    },
    {
     "name": "stdout",
     "output_type": "stream",
     "text": [
      "开始处理论文 https://openalex.org/W4200265623，总被引: 5，预计页数: 1\n"
     ]
    },
    {
     "name": "stderr",
     "output_type": "stream",
     "text": [
      "分页获取: 100%|██████████| 1/1 [00:01<00:00,  1.73s/it]\n",
      "处理种子论文:   3%|▎         | 51/1849 [45:45<11:28:57, 22.99s/it]"
     ]
    },
    {
     "name": "stdout",
     "output_type": "stream",
     "text": [
      "已保存临时结果\n",
      "开始处理论文 https://openalex.org/W4300815771，总被引: 790，预计页数: 4\n"
     ]
    },
    {
     "name": "stderr",
     "output_type": "stream",
     "text": [
      "分页获取: 100%|██████████| 4/4 [00:14<00:00,  3.74s/it]\n",
      "处理种子论文:   3%|▎         | 52/1849 [46:00<10:16:42, 20.59s/it]"
     ]
    },
    {
     "name": "stdout",
     "output_type": "stream",
     "text": [
      "警告: 论文 https://openalex.org/W4300815771 应获取 790 条，实际获取 792 条\n"
     ]
    },
    {
     "name": "stderr",
     "output_type": "stream",
     "text": []
    },
    {
     "name": "stdout",
     "output_type": "stream",
     "text": [
      "获取论文W4281806603时出错：('Connection aborted.', ConnectionResetError(10054, 'An existing connection was forcibly closed by the remote host', None, 10054, None))\n"
     ]
    },
    {
     "name": "stderr",
     "output_type": "stream",
     "text": [
      "处理参考文献 https://openalex.org/W4406015178: 100%|██████████| 140/140 [02:45<00:00,  1.18s/it]\n"
     ]
    },
    {
     "name": "stdout",
     "output_type": "stream",
     "text": [
      "开始处理论文 https://openalex.org/W4406015178，总被引: 8，预计页数: 1\n"
     ]
    },
    {
     "name": "stderr",
     "output_type": "stream",
     "text": [
      "分页获取: 100%|██████████| 1/1 [00:01<00:00,  1.73s/it]\n",
      "处理参考文献 https://openalex.org/W4399864823: 100%|██████████| 92/92 [01:41<00:00,  1.10s/it]\n"
     ]
    },
    {
     "name": "stdout",
     "output_type": "stream",
     "text": [
      "开始处理论文 https://openalex.org/W4399864823，总被引: 3，预计页数: 1\n"
     ]
    },
    {
     "name": "stderr",
     "output_type": "stream",
     "text": [
      "分页获取: 100%|██████████| 1/1 [00:01<00:00,  1.35s/it]\n",
      "处理参考文献 https://openalex.org/W4285123147: 100%|██████████| 18/18 [00:20<00:00,  1.15s/it]\n"
     ]
    },
    {
     "name": "stdout",
     "output_type": "stream",
     "text": [
      "开始处理论文 https://openalex.org/W4285123147，总被引: 6，预计页数: 1\n"
     ]
    },
    {
     "name": "stderr",
     "output_type": "stream",
     "text": [
      "分页获取: 100%|██████████| 1/1 [00:01<00:00,  1.68s/it]\n",
      "处理参考文献 https://openalex.org/W4386817353: 100%|██████████| 29/29 [00:31<00:00,  1.08s/it]\n"
     ]
    },
    {
     "name": "stdout",
     "output_type": "stream",
     "text": [
      "开始处理论文 https://openalex.org/W4386817353，总被引: 2，预计页数: 1\n"
     ]
    },
    {
     "name": "stderr",
     "output_type": "stream",
     "text": [
      "分页获取: 100%|██████████| 1/1 [00:01<00:00,  1.34s/it]\n",
      "处理种子论文:   3%|▎         | 56/1849 [51:26<25:52:45, 51.96s/it]"
     ]
    },
    {
     "name": "stdout",
     "output_type": "stream",
     "text": [
      "已保存临时结果\n"
     ]
    },
    {
     "name": "stderr",
     "output_type": "stream",
     "text": [
      "处理参考文献 https://openalex.org/W4401276503: 100%|██████████| 10/10 [00:10<00:00,  1.05s/it]\n"
     ]
    },
    {
     "name": "stdout",
     "output_type": "stream",
     "text": [
      "开始处理论文 https://openalex.org/W4401276503，总被引: 3，预计页数: 1\n"
     ]
    },
    {
     "name": "stderr",
     "output_type": "stream",
     "text": [
      "分页获取: 100%|██████████| 1/1 [00:01<00:00,  1.32s/it]\n",
      "处理参考文献 https://openalex.org/W4385934923: 100%|██████████| 3/3 [00:03<00:00,  1.16s/it]\n"
     ]
    },
    {
     "name": "stdout",
     "output_type": "stream",
     "text": [
      "开始处理论文 https://openalex.org/W4385934923，总被引: 2，预计页数: 1\n"
     ]
    },
    {
     "name": "stderr",
     "output_type": "stream",
     "text": [
      "分页获取: 100%|██████████| 1/1 [00:01<00:00,  1.42s/it]\n",
      "处理参考文献 https://openalex.org/W4389463617: 100%|██████████| 26/26 [00:29<00:00,  1.15s/it]\n"
     ]
    },
    {
     "name": "stdout",
     "output_type": "stream",
     "text": [
      "开始处理论文 https://openalex.org/W4389463617，总被引: 2，预计页数: 1\n"
     ]
    },
    {
     "name": "stderr",
     "output_type": "stream",
     "text": [
      "分页获取: 100%|██████████| 1/1 [00:01<00:00,  1.34s/it]\n",
      "处理参考文献 https://openalex.org/W2954503794: 100%|██████████| 23/23 [00:25<00:00,  1.09s/it]\n"
     ]
    },
    {
     "name": "stdout",
     "output_type": "stream",
     "text": [
      "开始处理论文 https://openalex.org/W2954503794，总被引: 836，预计页数: 5\n"
     ]
    },
    {
     "name": "stderr",
     "output_type": "stream",
     "text": [
      "分页获取: 100%|██████████| 5/5 [00:23<00:00,  4.65s/it]\n",
      "处理种子论文:   3%|▎         | 60/1849 [53:03<17:38:07, 35.49s/it]"
     ]
    },
    {
     "name": "stdout",
     "output_type": "stream",
     "text": [
      "警告: 论文 https://openalex.org/W2954503794 应获取 836 条，实际获取 841 条\n"
     ]
    },
    {
     "name": "stderr",
     "output_type": "stream",
     "text": [
      "处理参考文献 https://openalex.org/W4360953599: 100%|██████████| 43/43 [00:48<00:00,  1.12s/it]\n"
     ]
    },
    {
     "name": "stdout",
     "output_type": "stream",
     "text": [
      "开始处理论文 https://openalex.org/W4360953599，总被引: 1，预计页数: 1\n"
     ]
    },
    {
     "name": "stderr",
     "output_type": "stream",
     "text": [
      "分页获取: 100%|██████████| 1/1 [00:01<00:00,  1.35s/it]\n",
      "处理种子论文:   3%|▎         | 61/1849 [53:53<19:49:19, 39.91s/it]"
     ]
    },
    {
     "name": "stdout",
     "output_type": "stream",
     "text": [
      "已保存临时结果\n"
     ]
    },
    {
     "name": "stderr",
     "output_type": "stream",
     "text": [
      "处理参考文献 https://openalex.org/W4225716729: 100%|██████████| 78/78 [01:24<00:00,  1.09s/it]\n"
     ]
    },
    {
     "name": "stdout",
     "output_type": "stream",
     "text": [
      "开始处理论文 https://openalex.org/W4225716729，总被引: 600，预计页数: 4\n"
     ]
    },
    {
     "name": "stderr",
     "output_type": "stream",
     "text": [
      "分页获取: 100%|██████████| 4/4 [00:12<00:00,  3.13s/it]\n",
      "处理种子论文:   3%|▎         | 62/1849 [55:30<28:22:39, 57.17s/it]"
     ]
    },
    {
     "name": "stdout",
     "output_type": "stream",
     "text": [
      "警告: 论文 https://openalex.org/W4225716729 应获取 600 条，实际获取 615 条\n"
     ]
    },
    {
     "name": "stderr",
     "output_type": "stream",
     "text": [
      "处理参考文献 https://openalex.org/W2948646149: 100%|██████████| 71/71 [01:19<00:00,  1.12s/it]\n"
     ]
    },
    {
     "name": "stdout",
     "output_type": "stream",
     "text": [
      "开始处理论文 https://openalex.org/W2948646149，总被引: 499，预计页数: 3\n"
     ]
    },
    {
     "name": "stderr",
     "output_type": "stream",
     "text": [
      "分页获取: 100%|██████████| 3/3 [00:10<00:00,  3.40s/it]\n",
      "处理种子论文:   3%|▎         | 63/1849 [57:00<33:13:42, 66.98s/it]"
     ]
    },
    {
     "name": "stdout",
     "output_type": "stream",
     "text": [
      "警告: 论文 https://openalex.org/W2948646149 应获取 499 条，实际获取 500 条\n"
     ]
    },
    {
     "name": "stderr",
     "output_type": "stream",
     "text": [
      "处理参考文献 https://openalex.org/W4281254974: 100%|██████████| 25/25 [00:27<00:00,  1.11s/it]\n"
     ]
    },
    {
     "name": "stdout",
     "output_type": "stream",
     "text": [
      "开始处理论文 https://openalex.org/W4281254974，总被引: 4，预计页数: 1\n"
     ]
    },
    {
     "name": "stderr",
     "output_type": "stream",
     "text": [
      "分页获取: 100%|██████████| 1/1 [00:01<00:00,  1.48s/it]\n",
      "处理参考文献 https://openalex.org/W4283375938: 100%|██████████| 5/5 [00:05<00:00,  1.15s/it]\n"
     ]
    },
    {
     "name": "stdout",
     "output_type": "stream",
     "text": [
      "开始处理论文 https://openalex.org/W4283375938，总被引: 2，预计页数: 1\n"
     ]
    },
    {
     "name": "stderr",
     "output_type": "stream",
     "text": [
      "分页获取: 100%|██████████| 1/1 [00:01<00:00,  1.31s/it]\n",
      "处理种子论文:   4%|▎         | 65/1849 [57:37<20:22:08, 41.10s/it]"
     ]
    },
    {
     "name": "stdout",
     "output_type": "stream",
     "text": [
      "开始处理论文 https://openalex.org/W2890456664，总被引: 2，预计页数: 1\n"
     ]
    },
    {
     "name": "stderr",
     "output_type": "stream",
     "text": [
      "分页获取: 100%|██████████| 1/1 [00:01<00:00,  1.37s/it]\n",
      "处理种子论文:   4%|▎         | 66/1849 [57:39<14:34:30, 29.43s/it]"
     ]
    },
    {
     "name": "stdout",
     "output_type": "stream",
     "text": [
      "已保存临时结果\n"
     ]
    },
    {
     "name": "stderr",
     "output_type": "stream",
     "text": [
      "处理参考文献 https://openalex.org/W4226020550: 100%|██████████| 8/8 [00:09<00:00,  1.13s/it]\n"
     ]
    },
    {
     "name": "stdout",
     "output_type": "stream",
     "text": [
      "开始处理论文 https://openalex.org/W4226020550，总被引: 4，预计页数: 1\n"
     ]
    },
    {
     "name": "stderr",
     "output_type": "stream",
     "text": [
      "分页获取: 100%|██████████| 1/1 [00:01<00:00,  1.38s/it]\n",
      "处理参考文献 https://openalex.org/W4392545174: 100%|██████████| 57/57 [01:03<00:00,  1.11s/it]\n"
     ]
    },
    {
     "name": "stdout",
     "output_type": "stream",
     "text": [
      "开始处理论文 https://openalex.org/W4392545174，总被引: 5，预计页数: 1\n"
     ]
    },
    {
     "name": "stderr",
     "output_type": "stream",
     "text": [
      "分页获取: 100%|██████████| 1/1 [00:01<00:00,  1.74s/it]\n",
      "处理种子论文:   4%|▎         | 68/1849 [58:54<17:54:15, 36.19s/it]"
     ]
    },
    {
     "name": "stdout",
     "output_type": "stream",
     "text": [
      "警告: 论文 https://openalex.org/W4392545174 应获取 5 条，实际获取 6 条\n"
     ]
    },
    {
     "name": "stderr",
     "output_type": "stream",
     "text": [
      "处理参考文献 https://openalex.org/W4394564723: 100%|██████████| 22/22 [00:24<00:00,  1.13s/it]\n"
     ]
    },
    {
     "name": "stdout",
     "output_type": "stream",
     "text": [
      "开始处理论文 https://openalex.org/W4394564723，总被引: 2，预计页数: 1\n"
     ]
    },
    {
     "name": "stderr",
     "output_type": "stream",
     "text": [
      "分页获取: 100%|██████████| 1/1 [00:01<00:00,  1.42s/it]\n",
      "处理参考文献 https://openalex.org/W3211737327: 100%|██████████| 16/16 [00:17<00:00,  1.11s/it]\n"
     ]
    },
    {
     "name": "stdout",
     "output_type": "stream",
     "text": [
      "开始处理论文 https://openalex.org/W3211737327，总被引: 1，预计页数: 1\n"
     ]
    },
    {
     "name": "stderr",
     "output_type": "stream",
     "text": [
      "分页获取: 100%|██████████| 1/1 [00:01<00:00,  1.32s/it]\n",
      "处理参考文献 https://openalex.org/W2885623676: 100%|██████████| 12/12 [00:12<00:00,  1.08s/it]\n"
     ]
    },
    {
     "name": "stdout",
     "output_type": "stream",
     "text": [
      "开始处理论文 https://openalex.org/W2885623676，总被引: 446，预计页数: 3\n"
     ]
    },
    {
     "name": "stderr",
     "output_type": "stream",
     "text": [
      "分页获取: 100%|██████████| 3/3 [00:08<00:00,  2.94s/it]\n"
     ]
    },
    {
     "name": "stdout",
     "output_type": "stream",
     "text": [
      "警告: 论文 https://openalex.org/W2885623676 应获取 446 条，实际获取 447 条\n"
     ]
    },
    {
     "name": "stderr",
     "output_type": "stream",
     "text": [
      "处理种子论文:   4%|▍         | 71/1849 [1:00:03<13:23:03, 27.10s/it]"
     ]
    },
    {
     "name": "stdout",
     "output_type": "stream",
     "text": [
      "已保存临时结果\n"
     ]
    },
    {
     "name": "stderr",
     "output_type": "stream",
     "text": [
      "处理参考文献 https://openalex.org/W3160733272: 100%|██████████| 37/37 [00:40<00:00,  1.10s/it]\n"
     ]
    },
    {
     "name": "stdout",
     "output_type": "stream",
     "text": [
      "开始处理论文 https://openalex.org/W3160733272，总被引: 264，预计页数: 2\n"
     ]
    },
    {
     "name": "stderr",
     "output_type": "stream",
     "text": [
      "分页获取: 100%|██████████| 2/2 [00:06<00:00,  3.22s/it]\n",
      "处理种子论文:   4%|▍         | 72/1849 [1:00:50<16:21:50, 33.15s/it]"
     ]
    },
    {
     "name": "stdout",
     "output_type": "stream",
     "text": [
      "警告: 论文 https://openalex.org/W3160733272 应获取 264 条，实际获取 265 条\n"
     ]
    },
    {
     "name": "stderr",
     "output_type": "stream",
     "text": [
      "处理参考文献 https://openalex.org/W4220896132: 100%|██████████| 21/21 [00:24<00:00,  1.18s/it]\n"
     ]
    },
    {
     "name": "stdout",
     "output_type": "stream",
     "text": [
      "开始处理论文 https://openalex.org/W4220896132，总被引: 1，预计页数: 1\n"
     ]
    },
    {
     "name": "stderr",
     "output_type": "stream",
     "text": [
      "分页获取: 100%|██████████| 1/1 [00:01<00:00,  1.32s/it]\n",
      "处理参考文献 https://openalex.org/W4399717166: 100%|██████████| 15/15 [00:17<00:00,  1.14s/it]\n"
     ]
    },
    {
     "name": "stdout",
     "output_type": "stream",
     "text": [
      "开始处理论文 https://openalex.org/W4399717166，总被引: 1，预计页数: 1\n"
     ]
    },
    {
     "name": "stderr",
     "output_type": "stream",
     "text": [
      "分页获取: 100%|██████████| 1/1 [00:01<00:00,  1.37s/it]\n",
      "处理参考文献 https://openalex.org/W4403956813: 100%|██████████| 75/75 [01:23<00:00,  1.12s/it]\n"
     ]
    },
    {
     "name": "stdout",
     "output_type": "stream",
     "text": [
      "开始处理论文 https://openalex.org/W4403956813，总被引: 1，预计页数: 1\n"
     ]
    },
    {
     "name": "stderr",
     "output_type": "stream",
     "text": [
      "分页获取: 100%|██████████| 1/1 [00:01<00:00,  1.35s/it]\n",
      "处理参考文献 https://openalex.org/W3093718041: 100%|██████████| 108/108 [01:57<00:00,  1.09s/it]\n"
     ]
    },
    {
     "name": "stdout",
     "output_type": "stream",
     "text": [
      "开始处理论文 https://openalex.org/W3093718041，总被引: 254，预计页数: 2\n"
     ]
    },
    {
     "name": "stderr",
     "output_type": "stream",
     "text": [
      "分页获取: 100%|██████████| 2/2 [00:05<00:00,  2.93s/it]\n"
     ]
    },
    {
     "name": "stdout",
     "output_type": "stream",
     "text": [
      "警告: 论文 https://openalex.org/W3093718041 应获取 254 条，实际获取 256 条\n"
     ]
    },
    {
     "name": "stderr",
     "output_type": "stream",
     "text": [
      "处理种子论文:   4%|▍         | 76/1849 [1:05:04<33:47:29, 68.61s/it]"
     ]
    },
    {
     "name": "stdout",
     "output_type": "stream",
     "text": [
      "已保存临时结果\n",
      "开始处理论文 https://openalex.org/W4404592087，总被引: 1，预计页数: 1\n"
     ]
    },
    {
     "name": "stderr",
     "output_type": "stream",
     "text": [
      "分页获取: 100%|██████████| 1/1 [00:01<00:00,  1.32s/it]\n",
      "处理参考文献 https://openalex.org/W4403463377: 100%|██████████| 9/9 [00:10<00:00,  1.12s/it]\n"
     ]
    },
    {
     "name": "stdout",
     "output_type": "stream",
     "text": [
      "开始处理论文 https://openalex.org/W4403463377，总被引: 1，预计页数: 1\n"
     ]
    },
    {
     "name": "stderr",
     "output_type": "stream",
     "text": [
      "分页获取: 100%|██████████| 1/1 [00:01<00:00,  1.29s/it]\n",
      "处理参考文献 https://openalex.org/W3092843175: 100%|██████████| 196/196 [03:39<00:00,  1.12s/it]\n"
     ]
    },
    {
     "name": "stdout",
     "output_type": "stream",
     "text": [
      "开始处理论文 https://openalex.org/W3092843175，总被引: 220，预计页数: 2\n"
     ]
    },
    {
     "name": "stderr",
     "output_type": "stream",
     "text": [
      "分页获取: 100%|██████████| 2/2 [00:07<00:00,  3.85s/it]\n",
      "处理种子论文:   4%|▍         | 79/1849 [1:09:04<46:20:13, 94.24s/it]"
     ]
    },
    {
     "name": "stdout",
     "output_type": "stream",
     "text": [
      "警告: 论文 https://openalex.org/W3092843175 应获取 220 条，实际获取 221 条\n"
     ]
    },
    {
     "name": "stderr",
     "output_type": "stream",
     "text": [
      "处理参考文献 https://openalex.org/W4404212595: 100%|██████████| 18/18 [00:19<00:00,  1.06s/it]\n"
     ]
    },
    {
     "name": "stdout",
     "output_type": "stream",
     "text": [
      "开始处理论文 https://openalex.org/W4404212595，总被引: 1，预计页数: 1\n"
     ]
    },
    {
     "name": "stderr",
     "output_type": "stream",
     "text": [
      "分页获取: 100%|██████████| 1/1 [00:01<00:00,  1.28s/it]\n",
      "处理参考文献 https://openalex.org/W4366085876: 100%|██████████| 86/86 [01:35<00:00,  1.11s/it]\n"
     ]
    },
    {
     "name": "stdout",
     "output_type": "stream",
     "text": [
      "开始处理论文 https://openalex.org/W4366085876，总被引: 182，预计页数: 1\n"
     ]
    },
    {
     "name": "stderr",
     "output_type": "stream",
     "text": [
      "分页获取: 100%|██████████| 1/1 [00:05<00:00,  5.18s/it]\n"
     ]
    },
    {
     "name": "stdout",
     "output_type": "stream",
     "text": [
      "警告: 论文 https://openalex.org/W4366085876 应获取 182 条，实际获取 188 条\n"
     ]
    },
    {
     "name": "stderr",
     "output_type": "stream",
     "text": [
      "处理种子论文:   4%|▍         | 81/1849 [1:11:06<39:48:06, 81.04s/it]"
     ]
    },
    {
     "name": "stdout",
     "output_type": "stream",
     "text": [
      "已保存临时结果\n"
     ]
    },
    {
     "name": "stderr",
     "output_type": "stream",
     "text": []
    },
    {
     "name": "stdout",
     "output_type": "stream",
     "text": [
      "获取论文W2262390119时出错：('Connection aborted.', ConnectionResetError(10054, 'An existing connection was forcibly closed by the remote host', None, 10054, None))\n"
     ]
    },
    {
     "name": "stderr",
     "output_type": "stream",
     "text": [
      "处理参考文献 https://openalex.org/W4380685454: 100%|██████████| 97/97 [01:52<00:00,  1.16s/it]\n"
     ]
    },
    {
     "name": "stdout",
     "output_type": "stream",
     "text": [
      "开始处理论文 https://openalex.org/W4380685454，总被引: 267，预计页数: 2\n"
     ]
    },
    {
     "name": "stderr",
     "output_type": "stream",
     "text": [
      "分页获取: 100%|██████████| 2/2 [00:06<00:00,  3.19s/it]\n",
      "处理种子论文:   4%|▍         | 82/1849 [1:13:05<45:20:18, 92.37s/it]"
     ]
    },
    {
     "name": "stdout",
     "output_type": "stream",
     "text": [
      "警告: 论文 https://openalex.org/W4380685454 应获取 267 条，实际获取 273 条\n"
     ]
    },
    {
     "name": "stderr",
     "output_type": "stream",
     "text": [
      "处理参考文献 https://openalex.org/W4404358246: 100%|██████████| 65/65 [01:14<00:00,  1.15s/it]\n"
     ]
    },
    {
     "name": "stdout",
     "output_type": "stream",
     "text": [
      "开始处理论文 https://openalex.org/W4404358246，总被引: 2，预计页数: 1\n"
     ]
    },
    {
     "name": "stderr",
     "output_type": "stream",
     "text": [
      "分页获取: 100%|██████████| 1/1 [00:01<00:00,  1.39s/it]\n",
      "处理参考文献 https://openalex.org/W3088898206: 100%|██████████| 15/15 [00:16<00:00,  1.09s/it]\n"
     ]
    },
    {
     "name": "stdout",
     "output_type": "stream",
     "text": [
      "开始处理论文 https://openalex.org/W3088898206，总被引: 171，预计页数: 1\n"
     ]
    },
    {
     "name": "stderr",
     "output_type": "stream",
     "text": [
      "分页获取: 100%|██████████| 1/1 [00:03<00:00,  3.57s/it]\n",
      "处理种子论文:   5%|▍         | 84/1849 [1:14:41<32:57:36, 67.23s/it]"
     ]
    },
    {
     "name": "stdout",
     "output_type": "stream",
     "text": [
      "警告: 论文 https://openalex.org/W3088898206 应获取 171 条，实际获取 170 条\n"
     ]
    },
    {
     "name": "stderr",
     "output_type": "stream",
     "text": [
      "处理参考文献 https://openalex.org/W2014583745: 100%|██████████| 207/207 [03:52<00:00,  1.12s/it]\n"
     ]
    },
    {
     "name": "stdout",
     "output_type": "stream",
     "text": [
      "开始处理论文 https://openalex.org/W2014583745，总被引: 230，预计页数: 2\n"
     ]
    },
    {
     "name": "stderr",
     "output_type": "stream",
     "text": [
      "分页获取: 100%|██████████| 2/2 [00:05<00:00,  2.68s/it]\n",
      "处理参考文献 https://openalex.org/W3174752098: 100%|██████████| 90/90 [01:39<00:00,  1.11s/it]\n"
     ]
    },
    {
     "name": "stdout",
     "output_type": "stream",
     "text": [
      "开始处理论文 https://openalex.org/W3174752098，总被引: 455，预计页数: 3\n"
     ]
    },
    {
     "name": "stderr",
     "output_type": "stream",
     "text": [
      "分页获取: 100%|██████████| 3/3 [00:09<00:00,  3.28s/it]\n"
     ]
    },
    {
     "name": "stdout",
     "output_type": "stream",
     "text": [
      "警告: 论文 https://openalex.org/W3174752098 应获取 455 条，实际获取 456 条\n"
     ]
    },
    {
     "name": "stderr",
     "output_type": "stream",
     "text": [
      "处理种子论文:   5%|▍         | 86/1849 [1:20:30<56:53:14, 116.16s/it]"
     ]
    },
    {
     "name": "stdout",
     "output_type": "stream",
     "text": [
      "已保存临时结果\n"
     ]
    },
    {
     "name": "stderr",
     "output_type": "stream",
     "text": [
      "处理参考文献 https://openalex.org/W2613910597: 100%|██████████| 4/4 [00:04<00:00,  1.14s/it]\n"
     ]
    },
    {
     "name": "stdout",
     "output_type": "stream",
     "text": [
      "开始处理论文 https://openalex.org/W2613910597，总被引: 172，预计页数: 1\n"
     ]
    },
    {
     "name": "stderr",
     "output_type": "stream",
     "text": [
      "分页获取: 100%|██████████| 1/1 [00:03<00:00,  3.61s/it]\n",
      "处理参考文献 https://openalex.org/W3184858604: 100%|██████████| 47/47 [00:52<00:00,  1.11s/it]\n"
     ]
    },
    {
     "name": "stdout",
     "output_type": "stream",
     "text": [
      "开始处理论文 https://openalex.org/W3184858604，总被引: 140，预计页数: 1\n"
     ]
    },
    {
     "name": "stderr",
     "output_type": "stream",
     "text": [
      "分页获取: 100%|██████████| 1/1 [00:03<00:00,  3.09s/it]\n",
      "处理种子论文:   5%|▍         | 88/1849 [1:21:33<36:49:04, 75.27s/it]"
     ]
    },
    {
     "name": "stdout",
     "output_type": "stream",
     "text": [
      "警告: 论文 https://openalex.org/W3184858604 应获取 140 条，实际获取 141 条\n"
     ]
    },
    {
     "name": "stderr",
     "output_type": "stream",
     "text": [
      "处理参考文献 https://openalex.org/W4389739628: 100%|██████████| 2/2 [00:02<00:00,  1.12s/it]\n"
     ]
    },
    {
     "name": "stdout",
     "output_type": "stream",
     "text": [
      "开始处理论文 https://openalex.org/W4389739628，总被引: 180，预计页数: 1\n"
     ]
    },
    {
     "name": "stderr",
     "output_type": "stream",
     "text": [
      "分页获取: 100%|██████████| 1/1 [00:03<00:00,  3.60s/it]\n",
      "处理参考文献 https://openalex.org/W3153557772: 100%|██████████| 72/72 [01:19<00:00,  1.11s/it]\n"
     ]
    },
    {
     "name": "stdout",
     "output_type": "stream",
     "text": [
      "开始处理论文 https://openalex.org/W3153557772，总被引: 141，预计页数: 1\n"
     ]
    },
    {
     "name": "stderr",
     "output_type": "stream",
     "text": [
      "分页获取: 100%|██████████| 1/1 [00:03<00:00,  3.30s/it]\n",
      "处理种子论文:   5%|▍         | 90/1849 [1:23:02<30:48:44, 63.06s/it]"
     ]
    },
    {
     "name": "stdout",
     "output_type": "stream",
     "text": [
      "警告: 论文 https://openalex.org/W3153557772 应获取 141 条，实际获取 142 条\n"
     ]
    },
    {
     "name": "stderr",
     "output_type": "stream",
     "text": [
      "处理参考文献 https://openalex.org/W3104183394: 100%|██████████| 88/88 [01:40<00:00,  1.14s/it]\n"
     ]
    },
    {
     "name": "stdout",
     "output_type": "stream",
     "text": [
      "开始处理论文 https://openalex.org/W3104183394，总被引: 199，预计页数: 1\n"
     ]
    },
    {
     "name": "stderr",
     "output_type": "stream",
     "text": [
      "分页获取: 100%|██████████| 1/1 [00:03<00:00,  3.27s/it]\n"
     ]
    },
    {
     "name": "stdout",
     "output_type": "stream",
     "text": [
      "警告: 论文 https://openalex.org/W3104183394 应获取 199 条，实际获取 198 条\n"
     ]
    },
    {
     "name": "stderr",
     "output_type": "stream",
     "text": [
      "处理种子论文:   5%|▍         | 91/1849 [1:24:48<36:57:53, 75.70s/it]"
     ]
    },
    {
     "name": "stdout",
     "output_type": "stream",
     "text": [
      "已保存临时结果\n"
     ]
    },
    {
     "name": "stderr",
     "output_type": "stream",
     "text": [
      "处理参考文献 https://openalex.org/W3124658224: 100%|██████████| 91/91 [01:43<00:00,  1.14s/it]\n"
     ]
    },
    {
     "name": "stdout",
     "output_type": "stream",
     "text": [
      "开始处理论文 https://openalex.org/W3124658224，总被引: 181，预计页数: 1\n"
     ]
    },
    {
     "name": "stderr",
     "output_type": "stream",
     "text": [
      "分页获取: 100%|██████████| 1/1 [00:03<00:00,  3.25s/it]\n",
      "处理种子论文:   5%|▍         | 92/1849 [1:26:34<41:28:50, 84.99s/it]"
     ]
    },
    {
     "name": "stdout",
     "output_type": "stream",
     "text": [
      "警告: 论文 https://openalex.org/W3124658224 应获取 181 条，实际获取 182 条\n"
     ]
    },
    {
     "name": "stderr",
     "output_type": "stream",
     "text": [
      "处理参考文献 https://openalex.org/W3167983954: 100%|██████████| 156/156 [02:56<00:00,  1.13s/it]\n"
     ]
    },
    {
     "name": "stdout",
     "output_type": "stream",
     "text": [
      "开始处理论文 https://openalex.org/W3167983954，总被引: 242，预计页数: 2\n"
     ]
    },
    {
     "name": "stderr",
     "output_type": "stream",
     "text": [
      "分页获取: 100%|██████████| 2/2 [00:05<00:00,  2.64s/it]\n",
      "处理参考文献 https://openalex.org/W4210361514: 100%|██████████| 170/170 [03:09<00:00,  1.12s/it]\n"
     ]
    },
    {
     "name": "stdout",
     "output_type": "stream",
     "text": [
      "开始处理论文 https://openalex.org/W4210361514，总被引: 203，预计页数: 2\n"
     ]
    },
    {
     "name": "stderr",
     "output_type": "stream",
     "text": [
      "分页获取: 100%|██████████| 2/2 [00:04<00:00,  2.42s/it]\n",
      "处理参考文献 https://openalex.org/W3150570724: 100%|██████████| 826/826 [14:56<00:00,  1.09s/it]\n"
     ]
    },
    {
     "name": "stdout",
     "output_type": "stream",
     "text": [
      "开始处理论文 https://openalex.org/W3150570724，总被引: 165，预计页数: 1\n"
     ]
    },
    {
     "name": "stderr",
     "output_type": "stream",
     "text": [
      "分页获取: 100%|██████████| 1/1 [00:03<00:00,  3.19s/it]\n",
      "处理参考文献 https://openalex.org/W4223504512: 100%|██████████| 89/89 [01:38<00:00,  1.10s/it]\n"
     ]
    },
    {
     "name": "stdout",
     "output_type": "stream",
     "text": [
      "开始处理论文 https://openalex.org/W4223504512，总被引: 201，预计页数: 2\n"
     ]
    },
    {
     "name": "stderr",
     "output_type": "stream",
     "text": [
      "分页获取: 100%|██████████| 2/2 [00:06<00:00,  3.45s/it]\n"
     ]
    },
    {
     "name": "stdout",
     "output_type": "stream",
     "text": [
      "警告: 论文 https://openalex.org/W4223504512 应获取 201 条，实际获取 203 条\n"
     ]
    },
    {
     "name": "stderr",
     "output_type": "stream",
     "text": [
      "处理种子论文:   5%|▌         | 96/1849 [1:49:38<140:37:55, 288.81s/it]"
     ]
    },
    {
     "name": "stdout",
     "output_type": "stream",
     "text": [
      "已保存临时结果\n"
     ]
    },
    {
     "name": "stderr",
     "output_type": "stream",
     "text": [
      "处理参考文献 https://openalex.org/W3130938027: 100%|██████████| 327/327 [06:12<00:00,  1.14s/it]\n"
     ]
    },
    {
     "name": "stdout",
     "output_type": "stream",
     "text": [
      "开始处理论文 https://openalex.org/W3130938027，总被引: 911，预计页数: 5\n"
     ]
    },
    {
     "name": "stderr",
     "output_type": "stream",
     "text": [
      "分页获取: 100%|██████████| 5/5 [00:21<00:00,  4.36s/it]\n",
      "处理种子论文:   5%|▌         | 98/1849 [1:56:13<119:56:25, 246.59s/it]"
     ]
    },
    {
     "name": "stdout",
     "output_type": "stream",
     "text": [
      "警告: 论文 https://openalex.org/W3130938027 应获取 911 条，实际获取 920 条\n"
     ]
    },
    {
     "name": "stderr",
     "output_type": "stream",
     "text": [
      "处理参考文献 https://openalex.org/W4385342469: 100%|██████████| 191/191 [03:31<00:00,  1.11s/it]\n"
     ]
    },
    {
     "name": "stdout",
     "output_type": "stream",
     "text": [
      "开始处理论文 https://openalex.org/W4385342469，总被引: 246，预计页数: 2\n"
     ]
    },
    {
     "name": "stderr",
     "output_type": "stream",
     "text": [
      "分页获取: 100%|██████████| 2/2 [00:07<00:00,  3.60s/it]\n",
      "处理种子论文:   5%|▌         | 99/1849 [1:59:52<116:34:31, 239.81s/it]"
     ]
    },
    {
     "name": "stdout",
     "output_type": "stream",
     "text": [
      "警告: 论文 https://openalex.org/W4385342469 应获取 246 条，实际获取 248 条\n"
     ]
    },
    {
     "name": "stderr",
     "output_type": "stream",
     "text": [
      "处理参考文献 https://openalex.org/W3167424384: 100%|██████████| 107/107 [01:59<00:00,  1.11s/it]\n"
     ]
    },
    {
     "name": "stdout",
     "output_type": "stream",
     "text": [
      "开始处理论文 https://openalex.org/W3167424384，总被引: 137，预计页数: 1\n"
     ]
    },
    {
     "name": "stderr",
     "output_type": "stream",
     "text": [
      "分页获取: 100%|██████████| 1/1 [00:03<00:00,  3.20s/it]\n",
      "处理种子论文:   5%|▌         | 100/1849 [2:01:54<101:34:29, 209.07s/it]"
     ]
    },
    {
     "name": "stdout",
     "output_type": "stream",
     "text": [
      "警告: 论文 https://openalex.org/W3167424384 应获取 137 条，实际获取 138 条\n"
     ]
    },
    {
     "name": "stderr",
     "output_type": "stream",
     "text": [
      "处理参考文献 https://openalex.org/W2962798420: 100%|██████████| 48/48 [00:54<00:00,  1.14s/it]\n"
     ]
    },
    {
     "name": "stdout",
     "output_type": "stream",
     "text": [
      "开始处理论文 https://openalex.org/W2962798420，总被引: 239，预计页数: 2\n"
     ]
    },
    {
     "name": "stderr",
     "output_type": "stream",
     "text": [
      "分页获取: 100%|██████████| 2/2 [00:05<00:00,  2.70s/it]\n",
      "处理种子论文:   5%|▌         | 101/1849 [2:02:56<82:05:14, 169.06s/it] "
     ]
    },
    {
     "name": "stdout",
     "output_type": "stream",
     "text": [
      "已保存临时结果\n"
     ]
    },
    {
     "name": "stderr",
     "output_type": "stream",
     "text": [
      "处理参考文献 https://openalex.org/W3021593737: 100%|██████████| 26/26 [00:30<00:00,  1.18s/it]\n"
     ]
    },
    {
     "name": "stdout",
     "output_type": "stream",
     "text": [
      "开始处理论文 https://openalex.org/W3021593737，总被引: 119，预计页数: 1\n"
     ]
    },
    {
     "name": "stderr",
     "output_type": "stream",
     "text": [
      "分页获取: 100%|██████████| 1/1 [00:02<00:00,  2.88s/it]\n",
      "处理参考文献 https://openalex.org/W3112597358: 100%|██████████| 59/59 [01:06<00:00,  1.13s/it]\n"
     ]
    },
    {
     "name": "stdout",
     "output_type": "stream",
     "text": [
      "开始处理论文 https://openalex.org/W3112597358，总被引: 158，预计页数: 1\n"
     ]
    },
    {
     "name": "stderr",
     "output_type": "stream",
     "text": [
      "分页获取: 100%|██████████| 1/1 [00:03<00:00,  3.31s/it]\n",
      "处理种子论文:   6%|▌         | 103/1849 [2:04:39<55:06:36, 113.63s/it]"
     ]
    },
    {
     "name": "stdout",
     "output_type": "stream",
     "text": [
      "开始处理论文 https://openalex.org/W4313300397，总被引: 56，预计页数: 1\n"
     ]
    },
    {
     "name": "stderr",
     "output_type": "stream",
     "text": [
      "分页获取: 100%|██████████| 1/1 [00:03<00:00,  3.02s/it]\n",
      "处理参考文献 https://openalex.org/W4288391568: 100%|██████████| 117/117 [02:11<00:00,  1.13s/it]\n"
     ]
    },
    {
     "name": "stdout",
     "output_type": "stream",
     "text": [
      "开始处理论文 https://openalex.org/W4288391568，总被引: 174，预计页数: 1\n"
     ]
    },
    {
     "name": "stderr",
     "output_type": "stream",
     "text": [
      "分页获取: 100%|██████████| 1/1 [00:03<00:00,  3.54s/it]\n",
      "处理种子论文:   6%|▌         | 105/1849 [2:06:58<47:10:55, 97.39s/it]"
     ]
    },
    {
     "name": "stdout",
     "output_type": "stream",
     "text": [
      "警告: 论文 https://openalex.org/W4288391568 应获取 174 条，实际获取 177 条\n"
     ]
    },
    {
     "name": "stderr",
     "output_type": "stream",
     "text": [
      "处理参考文献 https://openalex.org/W3199196172: 100%|██████████| 93/93 [01:42<00:00,  1.10s/it]\n"
     ]
    },
    {
     "name": "stdout",
     "output_type": "stream",
     "text": [
      "开始处理论文 https://openalex.org/W3199196172，总被引: 146，预计页数: 1\n"
     ]
    },
    {
     "name": "stderr",
     "output_type": "stream",
     "text": [
      "分页获取: 100%|██████████| 1/1 [00:03<00:00,  3.13s/it]\n"
     ]
    },
    {
     "name": "stdout",
     "output_type": "stream",
     "text": [
      "警告: 论文 https://openalex.org/W3199196172 应获取 146 条，实际获取 147 条\n"
     ]
    },
    {
     "name": "stderr",
     "output_type": "stream",
     "text": [
      "处理种子论文:   6%|▌         | 106/1849 [2:08:46<48:38:33, 100.47s/it]"
     ]
    },
    {
     "name": "stdout",
     "output_type": "stream",
     "text": [
      "已保存临时结果\n"
     ]
    },
    {
     "name": "stderr",
     "output_type": "stream",
     "text": [
      "处理参考文献 https://openalex.org/W4303969227: 100%|██████████| 55/55 [01:01<00:00,  1.11s/it]\n"
     ]
    },
    {
     "name": "stdout",
     "output_type": "stream",
     "text": [
      "开始处理论文 https://openalex.org/W4303969227，总被引: 103，预计页数: 1\n"
     ]
    },
    {
     "name": "stderr",
     "output_type": "stream",
     "text": [
      "分页获取: 100%|██████████| 1/1 [00:02<00:00,  2.56s/it]\n",
      "处理种子论文:   6%|▌         | 107/1849 [2:09:50<43:20:12, 89.56s/it] "
     ]
    },
    {
     "name": "stdout",
     "output_type": "stream",
     "text": [
      "警告: 论文 https://openalex.org/W4303969227 应获取 103 条，实际获取 104 条\n"
     ]
    },
    {
     "name": "stderr",
     "output_type": "stream",
     "text": [
      "处理参考文献 https://openalex.org/W4223914794: 100%|██████████| 62/62 [01:10<00:00,  1.15s/it]\n"
     ]
    },
    {
     "name": "stdout",
     "output_type": "stream",
     "text": [
      "开始处理论文 https://openalex.org/W4223914794，总被引: 131，预计页数: 1\n"
     ]
    },
    {
     "name": "stderr",
     "output_type": "stream",
     "text": [
      "分页获取: 100%|██████████| 1/1 [00:03<00:00,  3.31s/it]\n",
      "处理种子论文:   6%|▌         | 108/1849 [2:11:04<41:07:17, 85.03s/it]"
     ]
    },
    {
     "name": "stdout",
     "output_type": "stream",
     "text": [
      "警告: 论文 https://openalex.org/W4223914794 应获取 131 条，实际获取 132 条\n"
     ]
    },
    {
     "name": "stderr",
     "output_type": "stream",
     "text": [
      "处理参考文献 https://openalex.org/W2924561894: 100%|██████████| 16/16 [00:17<00:00,  1.10s/it]\n"
     ]
    },
    {
     "name": "stdout",
     "output_type": "stream",
     "text": [
      "开始处理论文 https://openalex.org/W2924561894，总被引: 73，预计页数: 1\n"
     ]
    },
    {
     "name": "stderr",
     "output_type": "stream",
     "text": [
      "分页获取: 100%|██████████| 1/1 [00:02<00:00,  2.53s/it]\n",
      "处理参考文献 https://openalex.org/W3048380983: 100%|██████████| 6/6 [00:06<00:00,  1.11s/it]\n"
     ]
    },
    {
     "name": "stdout",
     "output_type": "stream",
     "text": [
      "开始处理论文 https://openalex.org/W3048380983，总被引: 64，预计页数: 1\n"
     ]
    },
    {
     "name": "stderr",
     "output_type": "stream",
     "text": [
      "分页获取: 100%|██████████| 1/1 [00:02<00:00,  2.62s/it]\n",
      "处理参考文献 https://openalex.org/W4226067429: 100%|██████████| 51/51 [01:00<00:00,  1.18s/it]\n"
     ]
    },
    {
     "name": "stdout",
     "output_type": "stream",
     "text": [
      "开始处理论文 https://openalex.org/W4226067429，总被引: 116，预计页数: 1\n"
     ]
    },
    {
     "name": "stderr",
     "output_type": "stream",
     "text": [
      "分页获取: 100%|██████████| 1/1 [00:03<00:00,  3.39s/it]\n"
     ]
    },
    {
     "name": "stdout",
     "output_type": "stream",
     "text": [
      "警告: 论文 https://openalex.org/W4226067429 应获取 116 条，实际获取 120 条\n"
     ]
    },
    {
     "name": "stderr",
     "output_type": "stream",
     "text": [
      "处理种子论文:   6%|▌         | 111/1849 [2:12:39<26:02:28, 53.94s/it]"
     ]
    },
    {
     "name": "stdout",
     "output_type": "stream",
     "text": [
      "已保存临时结果\n"
     ]
    },
    {
     "name": "stderr",
     "output_type": "stream",
     "text": [
      "处理参考文献 https://openalex.org/W4206776955: 100%|██████████| 30/30 [00:33<00:00,  1.13s/it]\n"
     ]
    },
    {
     "name": "stdout",
     "output_type": "stream",
     "text": [
      "开始处理论文 https://openalex.org/W4206776955，总被引: 96，预计页数: 1\n"
     ]
    },
    {
     "name": "stderr",
     "output_type": "stream",
     "text": [
      "分页获取: 100%|██████████| 1/1 [00:02<00:00,  2.63s/it]\n",
      "处理种子论文:   6%|▌         | 112/1849 [2:13:16<23:29:59, 48.70s/it]"
     ]
    },
    {
     "name": "stdout",
     "output_type": "stream",
     "text": [
      "警告: 论文 https://openalex.org/W4206776955 应获取 96 条，实际获取 97 条\n"
     ]
    },
    {
     "name": "stderr",
     "output_type": "stream",
     "text": [
      "处理参考文献 https://openalex.org/W3193524230: 100%|██████████| 77/77 [01:26<00:00,  1.13s/it]\n"
     ]
    },
    {
     "name": "stdout",
     "output_type": "stream",
     "text": [
      "开始处理论文 https://openalex.org/W3193524230，总被引: 55，预计页数: 1\n"
     ]
    },
    {
     "name": "stderr",
     "output_type": "stream",
     "text": [
      "分页获取: 100%|██████████| 1/1 [00:02<00:00,  2.61s/it]\n",
      "处理参考文献 https://openalex.org/W4388994228: 100%|██████████| 22/22 [00:24<00:00,  1.10s/it]\n"
     ]
    },
    {
     "name": "stdout",
     "output_type": "stream",
     "text": [
      "开始处理论文 https://openalex.org/W4388994228，总被引: 57，预计页数: 1\n"
     ]
    },
    {
     "name": "stderr",
     "output_type": "stream",
     "text": [
      "分页获取: 100%|██████████| 1/1 [00:02<00:00,  2.40s/it]\n",
      "处理参考文献 https://openalex.org/W3128244637: 100%|██████████| 153/153 [02:54<00:00,  1.14s/it]\n"
     ]
    },
    {
     "name": "stdout",
     "output_type": "stream",
     "text": [
      "开始处理论文 https://openalex.org/W3128244637，总被引: 99，预计页数: 1\n"
     ]
    },
    {
     "name": "stderr",
     "output_type": "stream",
     "text": [
      "分页获取: 100%|██████████| 1/1 [00:02<00:00,  2.83s/it]\n",
      "处理参考文献 https://openalex.org/W3048825869: 100%|██████████| 31/31 [00:34<00:00,  1.13s/it]\n"
     ]
    },
    {
     "name": "stdout",
     "output_type": "stream",
     "text": [
      "开始处理论文 https://openalex.org/W3048825869，总被引: 111，预计页数: 1\n"
     ]
    },
    {
     "name": "stderr",
     "output_type": "stream",
     "text": [
      "分页获取: 100%|██████████| 1/1 [00:03<00:00,  3.02s/it]\n",
      "处理种子论文:   6%|▋         | 116/1849 [2:18:49<35:41:36, 74.15s/it]"
     ]
    },
    {
     "name": "stdout",
     "output_type": "stream",
     "text": [
      "已保存临时结果\n"
     ]
    },
    {
     "name": "stderr",
     "output_type": "stream",
     "text": [
      "处理参考文献 https://openalex.org/W3024478970: 100%|██████████| 78/78 [01:26<00:00,  1.11s/it]\n"
     ]
    },
    {
     "name": "stdout",
     "output_type": "stream",
     "text": [
      "开始处理论文 https://openalex.org/W3024478970，总被引: 106，预计页数: 1\n"
     ]
    },
    {
     "name": "stderr",
     "output_type": "stream",
     "text": [
      "分页获取: 100%|██████████| 1/1 [00:02<00:00,  2.99s/it]\n",
      "处理参考文献 https://openalex.org/W3122887611: 100%|██████████| 74/74 [01:27<00:00,  1.18s/it]\n"
     ]
    },
    {
     "name": "stdout",
     "output_type": "stream",
     "text": [
      "开始处理论文 https://openalex.org/W3122887611，总被引: 67，预计页数: 1\n"
     ]
    },
    {
     "name": "stderr",
     "output_type": "stream",
     "text": [
      "分页获取: 100%|██████████| 1/1 [00:02<00:00,  2.63s/it]\n",
      "处理参考文献 https://openalex.org/W2963368911: 100%|██████████| 21/21 [00:23<00:00,  1.14s/it]\n"
     ]
    },
    {
     "name": "stdout",
     "output_type": "stream",
     "text": [
      "开始处理论文 https://openalex.org/W2963368911，总被引: 52，预计页数: 1\n"
     ]
    },
    {
     "name": "stderr",
     "output_type": "stream",
     "text": [
      "分页获取: 100%|██████████| 1/1 [00:02<00:00,  2.56s/it]\n",
      "处理参考文献 https://openalex.org/W3016258141: 100%|██████████| 11/11 [00:12<00:00,  1.10s/it]\n"
     ]
    },
    {
     "name": "stdout",
     "output_type": "stream",
     "text": [
      "开始处理论文 https://openalex.org/W3016258141，总被引: 71，预计页数: 1\n"
     ]
    },
    {
     "name": "stderr",
     "output_type": "stream",
     "text": [
      "分页获取: 100%|██████████| 1/1 [00:02<00:00,  2.70s/it]\n",
      "处理参考文献 https://openalex.org/W4200058353: 100%|██████████| 19/19 [00:22<00:00,  1.17s/it]\n"
     ]
    },
    {
     "name": "stdout",
     "output_type": "stream",
     "text": [
      "开始处理论文 https://openalex.org/W4200058353，总被引: 61，预计页数: 1\n"
     ]
    },
    {
     "name": "stderr",
     "output_type": "stream",
     "text": [
      "分页获取: 100%|██████████| 1/1 [00:02<00:00,  2.44s/it]\n",
      "处理种子论文:   7%|▋         | 121/1849 [2:22:57<20:45:34, 43.25s/it]"
     ]
    },
    {
     "name": "stdout",
     "output_type": "stream",
     "text": [
      "已保存临时结果\n"
     ]
    },
    {
     "name": "stderr",
     "output_type": "stream",
     "text": [
      "处理参考文献 https://openalex.org/W2807786846: 100%|██████████| 26/26 [00:29<00:00,  1.12s/it]\n"
     ]
    },
    {
     "name": "stdout",
     "output_type": "stream",
     "text": [
      "开始处理论文 https://openalex.org/W2807786846，总被引: 57，预计页数: 1\n"
     ]
    },
    {
     "name": "stderr",
     "output_type": "stream",
     "text": [
      "分页获取: 100%|██████████| 1/1 [00:02<00:00,  2.59s/it]\n",
      "处理参考文献 https://openalex.org/W3097577199: 100%|██████████| 18/18 [00:20<00:00,  1.14s/it]\n"
     ]
    },
    {
     "name": "stdout",
     "output_type": "stream",
     "text": [
      "开始处理论文 https://openalex.org/W3097577199，总被引: 35，预计页数: 1\n"
     ]
    },
    {
     "name": "stderr",
     "output_type": "stream",
     "text": [
      "分页获取: 100%|██████████| 1/1 [00:02<00:00,  2.40s/it]\n",
      "处理参考文献 https://openalex.org/W4377020544: 100%|██████████| 115/115 [02:14<00:00,  1.17s/it]\n"
     ]
    },
    {
     "name": "stdout",
     "output_type": "stream",
     "text": [
      "开始处理论文 https://openalex.org/W4377020544，总被引: 90，预计页数: 1\n"
     ]
    },
    {
     "name": "stderr",
     "output_type": "stream",
     "text": [
      "分页获取: 100%|██████████| 1/1 [00:02<00:00,  2.84s/it]\n",
      "处理种子论文:   7%|▋         | 124/1849 [2:26:09<31:24:27, 65.55s/it]"
     ]
    },
    {
     "name": "stdout",
     "output_type": "stream",
     "text": [
      "获取论文W4211007335时出错：('Connection aborted.', ConnectionResetError(10054, 'An existing connection was forcibly closed by the remote host', None, 10054, None))\n"
     ]
    },
    {
     "name": "stderr",
     "output_type": "stream",
     "text": [
      "处理参考文献 https://openalex.org/W3119374095: 100%|██████████| 145/145 [02:46<00:00,  1.15s/it]\n"
     ]
    },
    {
     "name": "stdout",
     "output_type": "stream",
     "text": [
      "开始处理论文 https://openalex.org/W3119374095，总被引: 40，预计页数: 1\n"
     ]
    },
    {
     "name": "stderr",
     "output_type": "stream",
     "text": [
      "分页获取: 100%|██████████| 1/1 [00:02<00:00,  2.12s/it]\n",
      "处理种子论文:   7%|▋         | 125/1849 [2:28:59<46:16:30, 96.63s/it]"
     ]
    },
    {
     "name": "stdout",
     "output_type": "stream",
     "text": [
      "获取论文W2051639611时出错：('Connection aborted.', ConnectionResetError(10054, 'An existing connection was forcibly closed by the remote host', None, 10054, None))\n"
     ]
    },
    {
     "name": "stderr",
     "output_type": "stream",
     "text": []
    },
    {
     "name": "stdout",
     "output_type": "stream",
     "text": [
      "获取论文W2278015687失败，状态码：404\n"
     ]
    },
    {
     "name": "stderr",
     "output_type": "stream",
     "text": []
    },
    {
     "name": "stdout",
     "output_type": "stream",
     "text": [
      "获取论文W2839458968失败，状态码：404\n"
     ]
    },
    {
     "name": "stderr",
     "output_type": "stream",
     "text": [
      "处理参考文献 https://openalex.org/W3181686065: 100%|██████████| 199/199 [03:50<00:00,  1.16s/it]\n"
     ]
    },
    {
     "name": "stdout",
     "output_type": "stream",
     "text": [
      "开始处理论文 https://openalex.org/W3181686065，总被引: 60，预计页数: 1\n"
     ]
    },
    {
     "name": "stderr",
     "output_type": "stream",
     "text": [
      "分页获取: 100%|██████████| 1/1 [00:03<00:00,  3.89s/it]\n",
      "处理种子论文:   7%|▋         | 126/1849 [2:32:55<66:20:06, 138.60s/it]"
     ]
    },
    {
     "name": "stdout",
     "output_type": "stream",
     "text": [
      "已保存临时结果\n"
     ]
    },
    {
     "name": "stderr",
     "output_type": "stream",
     "text": [
      "处理参考文献 https://openalex.org/W4385399619: 100%|██████████| 49/49 [00:55<00:00,  1.13s/it]\n"
     ]
    },
    {
     "name": "stdout",
     "output_type": "stream",
     "text": [
      "开始处理论文 https://openalex.org/W4385399619，总被引: 87，预计页数: 1\n"
     ]
    },
    {
     "name": "stderr",
     "output_type": "stream",
     "text": [
      "分页获取: 100%|██████████| 1/1 [00:02<00:00,  2.85s/it]\n",
      "处理参考文献 https://openalex.org/W4286635291: 100%|██████████| 4/4 [00:04<00:00,  1.10s/it]\n"
     ]
    },
    {
     "name": "stdout",
     "output_type": "stream",
     "text": [
      "开始处理论文 https://openalex.org/W4286635291，总被引: 60，预计页数: 1\n"
     ]
    },
    {
     "name": "stderr",
     "output_type": "stream",
     "text": [
      "分页获取: 100%|██████████| 1/1 [00:02<00:00,  2.62s/it]\n",
      "处理参考文献 https://openalex.org/W4313582012: 100%|██████████| 157/157 [02:59<00:00,  1.14s/it]\n"
     ]
    },
    {
     "name": "stdout",
     "output_type": "stream",
     "text": [
      "开始处理论文 https://openalex.org/W4313582012，总被引: 46，预计页数: 1\n"
     ]
    },
    {
     "name": "stderr",
     "output_type": "stream",
     "text": [
      "分页获取: 100%|██████████| 1/1 [00:02<00:00,  2.54s/it]\n",
      "处理参考文献 https://openalex.org/W3173290959: 100%|██████████| 58/58 [01:08<00:00,  1.18s/it]\n"
     ]
    },
    {
     "name": "stdout",
     "output_type": "stream",
     "text": [
      "开始处理论文 https://openalex.org/W3173290959，总被引: 60，预计页数: 1\n"
     ]
    },
    {
     "name": "stderr",
     "output_type": "stream",
     "text": [
      "分页获取: 100%|██████████| 1/1 [00:02<00:00,  2.71s/it]\n",
      "处理参考文献 https://openalex.org/W4293079011: 100%|██████████| 80/80 [01:28<00:00,  1.11s/it]\n"
     ]
    },
    {
     "name": "stdout",
     "output_type": "stream",
     "text": [
      "开始处理论文 https://openalex.org/W4293079011，总被引: 70，预计页数: 1\n"
     ]
    },
    {
     "name": "stderr",
     "output_type": "stream",
     "text": [
      "分页获取: 100%|██████████| 1/1 [00:02<00:00,  2.58s/it]\n",
      "处理种子论文:   7%|▋         | 131/1849 [2:39:48<46:48:27, 98.08s/it]"
     ]
    },
    {
     "name": "stdout",
     "output_type": "stream",
     "text": [
      "已保存临时结果\n"
     ]
    },
    {
     "name": "stderr",
     "output_type": "stream",
     "text": [
      "处理参考文献 https://openalex.org/W3162291149: 100%|██████████| 29/29 [00:31<00:00,  1.07s/it]\n"
     ]
    },
    {
     "name": "stdout",
     "output_type": "stream",
     "text": [
      "开始处理论文 https://openalex.org/W3162291149，总被引: 67，预计页数: 1\n"
     ]
    },
    {
     "name": "stderr",
     "output_type": "stream",
     "text": [
      "分页获取: 100%|██████████| 1/1 [00:02<00:00,  2.52s/it]\n",
      "处理种子论文:   7%|▋         | 132/1849 [2:40:21<37:33:07, 78.73s/it]"
     ]
    },
    {
     "name": "stdout",
     "output_type": "stream",
     "text": [
      "警告: 论文 https://openalex.org/W3162291149 应获取 67 条，实际获取 68 条\n"
     ]
    },
    {
     "name": "stderr",
     "output_type": "stream",
     "text": [
      "处理参考文献 https://openalex.org/W2938504806: 100%|██████████| 47/47 [00:52<00:00,  1.11s/it]\n"
     ]
    },
    {
     "name": "stdout",
     "output_type": "stream",
     "text": [
      "开始处理论文 https://openalex.org/W2938504806，总被引: 54，预计页数: 1\n"
     ]
    },
    {
     "name": "stderr",
     "output_type": "stream",
     "text": [
      "分页获取: 100%|██████████| 1/1 [00:02<00:00,  2.57s/it]\n",
      "处理参考文献 https://openalex.org/W3171227530: 100%|██████████| 82/82 [01:32<00:00,  1.13s/it]\n"
     ]
    },
    {
     "name": "stdout",
     "output_type": "stream",
     "text": [
      "开始处理论文 https://openalex.org/W3171227530，总被引: 46，预计页数: 1\n"
     ]
    },
    {
     "name": "stderr",
     "output_type": "stream",
     "text": [
      "分页获取: 100%|██████████| 1/1 [00:02<00:00,  2.30s/it]\n",
      "处理参考文献 https://openalex.org/W4386003845: 100%|██████████| 26/26 [00:28<00:00,  1.11s/it]\n"
     ]
    },
    {
     "name": "stdout",
     "output_type": "stream",
     "text": [
      "开始处理论文 https://openalex.org/W4386003845，总被引: 59，预计页数: 1\n"
     ]
    },
    {
     "name": "stderr",
     "output_type": "stream",
     "text": [
      "分页获取: 100%|██████████| 1/1 [00:02<00:00,  2.43s/it]\n",
      "处理种子论文:   7%|▋         | 135/1849 [2:43:22<30:38:26, 64.36s/it]"
     ]
    },
    {
     "name": "stdout",
     "output_type": "stream",
     "text": [
      "获取论文W2896796252时出错：('Connection aborted.', ConnectionResetError(10054, 'An existing connection was forcibly closed by the remote host', None, 10054, None))\n"
     ]
    },
    {
     "name": "stderr",
     "output_type": "stream",
     "text": [
      "处理参考文献 https://openalex.org/W2981435850: 100%|██████████| 25/25 [00:32<00:00,  1.29s/it]\n"
     ]
    },
    {
     "name": "stdout",
     "output_type": "stream",
     "text": [
      "开始处理论文 https://openalex.org/W2981435850，总被引: 93，预计页数: 1\n"
     ]
    },
    {
     "name": "stderr",
     "output_type": "stream",
     "text": [
      "分页获取: 100%|██████████| 1/1 [00:04<00:00,  4.20s/it]\n",
      "处理种子论文:   7%|▋         | 136/1849 [2:44:01<26:59:33, 56.73s/it]"
     ]
    },
    {
     "name": "stdout",
     "output_type": "stream",
     "text": [
      "已保存临时结果\n",
      "开始处理论文 https://openalex.org/W4390223162，总被引: 31，预计页数: 1\n"
     ]
    },
    {
     "name": "stderr",
     "output_type": "stream",
     "text": [
      "分页获取: 100%|██████████| 1/1 [00:02<00:00,  2.02s/it]\n",
      "处理参考文献 https://openalex.org/W4319083788: 100%|██████████| 80/80 [01:29<00:00,  1.12s/it]\n"
     ]
    },
    {
     "name": "stdout",
     "output_type": "stream",
     "text": [
      "开始处理论文 https://openalex.org/W4319083788，总被引: 88，预计页数: 1\n"
     ]
    },
    {
     "name": "stderr",
     "output_type": "stream",
     "text": [
      "分页获取: 100%|██████████| 1/1 [00:03<00:00,  3.60s/it]\n",
      "处理参考文献 https://openalex.org/W4390608362: 100%|██████████| 150/150 [02:52<00:00,  1.15s/it]\n"
     ]
    },
    {
     "name": "stdout",
     "output_type": "stream",
     "text": [
      "开始处理论文 https://openalex.org/W4390608362，总被引: 104，预计页数: 1\n"
     ]
    },
    {
     "name": "stderr",
     "output_type": "stream",
     "text": [
      "分页获取: 100%|██████████| 1/1 [00:03<00:00,  3.18s/it]\n",
      "处理种子论文:   8%|▊         | 139/1849 [2:48:33<43:49:14, 92.25s/it]"
     ]
    },
    {
     "name": "stdout",
     "output_type": "stream",
     "text": [
      "警告: 论文 https://openalex.org/W4390608362 应获取 104 条，实际获取 109 条\n"
     ]
    },
    {
     "name": "stderr",
     "output_type": "stream",
     "text": [
      "处理参考文献 https://openalex.org/W4382195294: 100%|██████████| 96/96 [01:51<00:00,  1.16s/it]\n"
     ]
    },
    {
     "name": "stdout",
     "output_type": "stream",
     "text": [
      "开始处理论文 https://openalex.org/W4382195294，总被引: 68，预计页数: 1\n"
     ]
    },
    {
     "name": "stderr",
     "output_type": "stream",
     "text": [
      "分页获取: 100%|██████████| 1/1 [00:02<00:00,  2.65s/it]\n",
      "处理种子论文:   8%|▊         | 140/1849 [2:50:27<46:51:46, 98.72s/it]"
     ]
    },
    {
     "name": "stdout",
     "output_type": "stream",
     "text": [
      "警告: 论文 https://openalex.org/W4382195294 应获取 68 条，实际获取 71 条\n"
     ]
    },
    {
     "name": "stderr",
     "output_type": "stream",
     "text": [
      "处理参考文献 https://openalex.org/W3194744530: 100%|██████████| 136/136 [02:36<00:00,  1.15s/it]\n"
     ]
    },
    {
     "name": "stdout",
     "output_type": "stream",
     "text": [
      "开始处理论文 https://openalex.org/W3194744530，总被引: 84，预计页数: 1\n"
     ]
    },
    {
     "name": "stderr",
     "output_type": "stream",
     "text": [
      "分页获取: 100%|██████████| 1/1 [00:02<00:00,  2.54s/it]\n"
     ]
    },
    {
     "name": "stdout",
     "output_type": "stream",
     "text": [
      "警告: 论文 https://openalex.org/W3194744530 应获取 84 条，实际获取 86 条\n"
     ]
    },
    {
     "name": "stderr",
     "output_type": "stream",
     "text": [
      "处理种子论文:   8%|▊         | 141/1849 [2:53:08<55:43:39, 117.46s/it]"
     ]
    },
    {
     "name": "stdout",
     "output_type": "stream",
     "text": [
      "已保存临时结果\n"
     ]
    },
    {
     "name": "stderr",
     "output_type": "stream",
     "text": [
      "处理参考文献 https://openalex.org/W3201854521: 100%|██████████| 248/248 [04:33<00:00,  1.10s/it]\n"
     ]
    },
    {
     "name": "stdout",
     "output_type": "stream",
     "text": [
      "开始处理论文 https://openalex.org/W3201854521，总被引: 83，预计页数: 1\n"
     ]
    },
    {
     "name": "stderr",
     "output_type": "stream",
     "text": [
      "分页获取: 100%|██████████| 1/1 [00:02<00:00,  2.68s/it]\n",
      "处理种子论文:   8%|▊         | 142/1849 [2:57:44<78:17:20, 165.11s/it]"
     ]
    },
    {
     "name": "stdout",
     "output_type": "stream",
     "text": [
      "警告: 论文 https://openalex.org/W3201854521 应获取 83 条，实际获取 84 条\n"
     ]
    },
    {
     "name": "stderr",
     "output_type": "stream",
     "text": [
      "处理参考文献 https://openalex.org/W3036149562: 100%|██████████| 11/11 [00:11<00:00,  1.08s/it]\n"
     ]
    },
    {
     "name": "stdout",
     "output_type": "stream",
     "text": [
      "开始处理论文 https://openalex.org/W3036149562，总被引: 72，预计页数: 1\n"
     ]
    },
    {
     "name": "stderr",
     "output_type": "stream",
     "text": [
      "分页获取: 100%|██████████| 1/1 [00:02<00:00,  2.54s/it]\n",
      "处理参考文献 https://openalex.org/W2970919392: 100%|██████████| 33/33 [00:35<00:00,  1.08s/it]\n"
     ]
    },
    {
     "name": "stdout",
     "output_type": "stream",
     "text": [
      "开始处理论文 https://openalex.org/W2970919392，总被引: 57，预计页数: 1\n"
     ]
    },
    {
     "name": "stderr",
     "output_type": "stream",
     "text": [
      "分页获取: 100%|██████████| 1/1 [00:02<00:00,  2.76s/it]\n",
      "处理参考文献 https://openalex.org/W3208283967: 100%|██████████| 25/25 [00:28<00:00,  1.14s/it]\n"
     ]
    },
    {
     "name": "stdout",
     "output_type": "stream",
     "text": [
      "开始处理论文 https://openalex.org/W3208283967，总被引: 8，预计页数: 1\n"
     ]
    },
    {
     "name": "stderr",
     "output_type": "stream",
     "text": [
      "分页获取: 100%|██████████| 1/1 [00:01<00:00,  1.68s/it]\n",
      "处理参考文献 https://openalex.org/W3197224435: 100%|██████████| 98/98 [01:49<00:00,  1.12s/it]\n"
     ]
    },
    {
     "name": "stdout",
     "output_type": "stream",
     "text": [
      "开始处理论文 https://openalex.org/W3197224435，总被引: 80，预计页数: 1\n"
     ]
    },
    {
     "name": "stderr",
     "output_type": "stream",
     "text": [
      "分页获取: 100%|██████████| 1/1 [00:02<00:00,  2.59s/it]\n",
      "处理种子论文:   8%|▊         | 146/1849 [3:01:02<41:24:48, 87.54s/it]"
     ]
    },
    {
     "name": "stdout",
     "output_type": "stream",
     "text": [
      "已保存临时结果\n"
     ]
    },
    {
     "name": "stderr",
     "output_type": "stream",
     "text": [
      "处理参考文献 https://openalex.org/W4387812465: 100%|██████████| 62/62 [01:11<00:00,  1.15s/it]\n"
     ]
    },
    {
     "name": "stdout",
     "output_type": "stream",
     "text": [
      "开始处理论文 https://openalex.org/W4387812465，总被引: 63，预计页数: 1\n"
     ]
    },
    {
     "name": "stderr",
     "output_type": "stream",
     "text": [
      "分页获取: 100%|██████████| 1/1 [00:02<00:00,  2.51s/it]\n",
      "处理参考文献 https://openalex.org/W2893353992: 100%|██████████| 105/105 [01:57<00:00,  1.12s/it]\n"
     ]
    },
    {
     "name": "stdout",
     "output_type": "stream",
     "text": [
      "开始处理论文 https://openalex.org/W2893353992，总被引: 36，预计页数: 1\n"
     ]
    },
    {
     "name": "stderr",
     "output_type": "stream",
     "text": [
      "分页获取: 100%|██████████| 1/1 [00:02<00:00,  2.20s/it]\n",
      "处理参考文献 https://openalex.org/W4380988767: 100%|██████████| 132/132 [02:28<00:00,  1.13s/it]\n"
     ]
    },
    {
     "name": "stdout",
     "output_type": "stream",
     "text": [
      "开始处理论文 https://openalex.org/W4380988767，总被引: 55，预计页数: 1\n"
     ]
    },
    {
     "name": "stderr",
     "output_type": "stream",
     "text": [
      "分页获取: 100%|██████████| 1/1 [00:02<00:00,  2.41s/it]\n",
      "处理参考文献 https://openalex.org/W4316038168: 100%|██████████| 65/65 [01:14<00:00,  1.15s/it]\n"
     ]
    },
    {
     "name": "stdout",
     "output_type": "stream",
     "text": [
      "开始处理论文 https://openalex.org/W4316038168，总被引: 113，预计页数: 1\n"
     ]
    },
    {
     "name": "stderr",
     "output_type": "stream",
     "text": [
      "分页获取: 100%|██████████| 1/1 [00:03<00:00,  3.27s/it]\n",
      "处理种子论文:   8%|▊         | 150/1849 [3:08:05<47:53:47, 101.49s/it]"
     ]
    },
    {
     "name": "stdout",
     "output_type": "stream",
     "text": [
      "警告: 论文 https://openalex.org/W4316038168 应获取 113 条，实际获取 115 条\n"
     ]
    },
    {
     "name": "stderr",
     "output_type": "stream",
     "text": [
      "处理参考文献 https://openalex.org/W3014304753: 100%|██████████| 35/35 [00:40<00:00,  1.15s/it]\n"
     ]
    },
    {
     "name": "stdout",
     "output_type": "stream",
     "text": [
      "开始处理论文 https://openalex.org/W3014304753，总被引: 60，预计页数: 1\n"
     ]
    },
    {
     "name": "stderr",
     "output_type": "stream",
     "text": [
      "分页获取: 100%|██████████| 1/1 [00:02<00:00,  2.57s/it]\n",
      "处理种子论文:   8%|▊         | 151/1849 [3:08:51<39:58:04, 84.74s/it] "
     ]
    },
    {
     "name": "stdout",
     "output_type": "stream",
     "text": [
      "已保存临时结果\n"
     ]
    },
    {
     "name": "stderr",
     "output_type": "stream",
     "text": [
      "处理参考文献 https://openalex.org/W3205254853: 100%|██████████| 76/76 [01:28<00:00,  1.17s/it]\n"
     ]
    },
    {
     "name": "stdout",
     "output_type": "stream",
     "text": [
      "开始处理论文 https://openalex.org/W3205254853，总被引: 75，预计页数: 1\n"
     ]
    },
    {
     "name": "stderr",
     "output_type": "stream",
     "text": [
      "分页获取: 100%|██████████| 1/1 [00:02<00:00,  2.59s/it]\n",
      "处理种子论文:   8%|▊         | 152/1849 [3:10:22<40:54:56, 86.80s/it]"
     ]
    },
    {
     "name": "stdout",
     "output_type": "stream",
     "text": [
      "警告: 论文 https://openalex.org/W3205254853 应获取 75 条，实际获取 76 条\n"
     ]
    },
    {
     "name": "stderr",
     "output_type": "stream",
     "text": [
      "处理参考文献 https://openalex.org/W4380290798: 100%|██████████| 5/5 [00:06<00:00,  1.28s/it]\n"
     ]
    },
    {
     "name": "stdout",
     "output_type": "stream",
     "text": [
      "开始处理论文 https://openalex.org/W4380290798，总被引: 30，预计页数: 1\n"
     ]
    },
    {
     "name": "stderr",
     "output_type": "stream",
     "text": [
      "分页获取: 100%|██████████| 1/1 [00:02<00:00,  2.42s/it]\n",
      "处理参考文献 https://openalex.org/W4224313986: 100%|██████████| 52/52 [00:59<00:00,  1.14s/it]\n"
     ]
    },
    {
     "name": "stdout",
     "output_type": "stream",
     "text": [
      "开始处理论文 https://openalex.org/W4224313986，总被引: 75，预计页数: 1\n"
     ]
    },
    {
     "name": "stderr",
     "output_type": "stream",
     "text": [
      "分页获取: 100%|██████████| 1/1 [00:02<00:00,  2.61s/it]\n",
      "处理种子论文:   8%|▊         | 154/1849 [3:11:33<29:37:37, 62.93s/it]"
     ]
    },
    {
     "name": "stdout",
     "output_type": "stream",
     "text": [
      "警告: 论文 https://openalex.org/W4224313986 应获取 75 条，实际获取 76 条\n"
     ]
    },
    {
     "name": "stderr",
     "output_type": "stream",
     "text": [
      "处理参考文献 https://openalex.org/W3181963689: 100%|██████████| 25/25 [00:27<00:00,  1.09s/it]\n"
     ]
    },
    {
     "name": "stdout",
     "output_type": "stream",
     "text": [
      "开始处理论文 https://openalex.org/W3181963689，总被引: 50，预计页数: 1\n"
     ]
    },
    {
     "name": "stderr",
     "output_type": "stream",
     "text": [
      "分页获取: 100%|██████████| 1/1 [00:02<00:00,  2.10s/it]\n",
      "处理参考文献 https://openalex.org/W4285090001: 100%|██████████| 15/15 [00:17<00:00,  1.16s/it]\n"
     ]
    },
    {
     "name": "stdout",
     "output_type": "stream",
     "text": [
      "开始处理论文 https://openalex.org/W4285090001，总被引: 35，预计页数: 1\n"
     ]
    },
    {
     "name": "stderr",
     "output_type": "stream",
     "text": [
      "分页获取: 100%|██████████| 1/1 [00:02<00:00,  2.04s/it]\n"
     ]
    },
    {
     "name": "stdout",
     "output_type": "stream",
     "text": [
      "警告: 论文 https://openalex.org/W4285090001 应获取 35 条，实际获取 36 条\n"
     ]
    },
    {
     "name": "stderr",
     "output_type": "stream",
     "text": [
      "处理种子论文:   8%|▊         | 156/1849 [3:12:25<20:33:03, 43.70s/it]"
     ]
    },
    {
     "name": "stdout",
     "output_type": "stream",
     "text": [
      "已保存临时结果\n"
     ]
    },
    {
     "name": "stderr",
     "output_type": "stream",
     "text": [
      "处理参考文献 https://openalex.org/W4387373263: 100%|██████████| 59/59 [01:05<00:00,  1.12s/it]\n"
     ]
    },
    {
     "name": "stdout",
     "output_type": "stream",
     "text": [
      "开始处理论文 https://openalex.org/W4387373263，总被引: 52，预计页数: 1\n"
     ]
    },
    {
     "name": "stderr",
     "output_type": "stream",
     "text": [
      "分页获取: 100%|██████████| 1/1 [00:02<00:00,  2.57s/it]\n",
      "处理种子论文:   8%|▊         | 157/1849 [3:13:33<24:02:14, 51.14s/it]"
     ]
    },
    {
     "name": "stdout",
     "output_type": "stream",
     "text": [
      "警告: 论文 https://openalex.org/W4387373263 应获取 52 条，实际获取 53 条\n"
     ]
    },
    {
     "name": "stderr",
     "output_type": "stream",
     "text": [
      "处理参考文献 https://openalex.org/W4294052035: 100%|██████████| 25/25 [00:28<00:00,  1.15s/it]\n"
     ]
    },
    {
     "name": "stdout",
     "output_type": "stream",
     "text": [
      "开始处理论文 https://openalex.org/W4294052035，总被引: 45，预计页数: 1\n"
     ]
    },
    {
     "name": "stderr",
     "output_type": "stream",
     "text": [
      "分页获取: 100%|██████████| 1/1 [00:02<00:00,  2.62s/it]\n",
      "处理种子论文:   9%|▊         | 158/1849 [3:14:05<21:13:39, 45.19s/it]"
     ]
    },
    {
     "name": "stdout",
     "output_type": "stream",
     "text": [
      "警告: 论文 https://openalex.org/W4294052035 应获取 45 条，实际获取 46 条\n"
     ]
    },
    {
     "name": "stderr",
     "output_type": "stream",
     "text": [
      "处理参考文献 https://openalex.org/W4392162601: 100%|██████████| 5/5 [00:05<00:00,  1.18s/it]\n"
     ]
    },
    {
     "name": "stdout",
     "output_type": "stream",
     "text": [
      "开始处理论文 https://openalex.org/W4392162601，总被引: 39，预计页数: 1\n"
     ]
    },
    {
     "name": "stderr",
     "output_type": "stream",
     "text": [
      "分页获取: 100%|██████████| 1/1 [00:01<00:00,  1.91s/it]\n",
      "处理参考文献 https://openalex.org/W4362700866: 100%|██████████| 43/43 [00:49<00:00,  1.14s/it]\n"
     ]
    },
    {
     "name": "stdout",
     "output_type": "stream",
     "text": [
      "开始处理论文 https://openalex.org/W4362700866，总被引: 27，预计页数: 1\n"
     ]
    },
    {
     "name": "stderr",
     "output_type": "stream",
     "text": [
      "分页获取: 100%|██████████| 1/1 [00:02<00:00,  2.11s/it]\n",
      "处理参考文献 https://openalex.org/W4385363975: 100%|██████████| 70/70 [01:19<00:00,  1.13s/it]\n"
     ]
    },
    {
     "name": "stdout",
     "output_type": "stream",
     "text": [
      "开始处理论文 https://openalex.org/W4385363975，总被引: 67，预计页数: 1\n"
     ]
    },
    {
     "name": "stderr",
     "output_type": "stream",
     "text": [
      "分页获取: 100%|██████████| 1/1 [00:02<00:00,  2.62s/it]\n"
     ]
    },
    {
     "name": "stdout",
     "output_type": "stream",
     "text": [
      "警告: 论文 https://openalex.org/W4385363975 应获取 67 条，实际获取 69 条\n"
     ]
    },
    {
     "name": "stderr",
     "output_type": "stream",
     "text": [
      "处理种子论文:   9%|▊         | 161/1849 [3:16:28<24:46:08, 52.82s/it]"
     ]
    },
    {
     "name": "stdout",
     "output_type": "stream",
     "text": [
      "已保存临时结果\n"
     ]
    },
    {
     "name": "stderr",
     "output_type": "stream",
     "text": [
      "处理参考文献 https://openalex.org/W3150788731: 100%|██████████| 54/54 [01:02<00:00,  1.16s/it]\n"
     ]
    },
    {
     "name": "stdout",
     "output_type": "stream",
     "text": [
      "开始处理论文 https://openalex.org/W3150788731，总被引: 77，预计页数: 1\n"
     ]
    },
    {
     "name": "stderr",
     "output_type": "stream",
     "text": [
      "分页获取: 100%|██████████| 1/1 [00:02<00:00,  2.63s/it]\n",
      "处理种子论文:   9%|▉         | 162/1849 [3:17:34<26:29:47, 56.54s/it]"
     ]
    },
    {
     "name": "stdout",
     "output_type": "stream",
     "text": [
      "警告: 论文 https://openalex.org/W3150788731 应获取 77 条，实际获取 78 条\n"
     ]
    },
    {
     "name": "stderr",
     "output_type": "stream",
     "text": [
      "处理参考文献 https://openalex.org/W4283644014: 100%|██████████| 53/53 [00:58<00:00,  1.10s/it]\n"
     ]
    },
    {
     "name": "stdout",
     "output_type": "stream",
     "text": [
      "开始处理论文 https://openalex.org/W4283644014，总被引: 71，预计页数: 1\n"
     ]
    },
    {
     "name": "stderr",
     "output_type": "stream",
     "text": [
      "分页获取: 100%|██████████| 1/1 [00:02<00:00,  2.57s/it]\n",
      "处理种子论文:   9%|▉         | 163/1849 [3:18:35<27:07:22, 57.91s/it]"
     ]
    },
    {
     "name": "stdout",
     "output_type": "stream",
     "text": [
      "警告: 论文 https://openalex.org/W4283644014 应获取 71 条，实际获取 72 条\n"
     ]
    },
    {
     "name": "stderr",
     "output_type": "stream",
     "text": [
      "处理参考文献 https://openalex.org/W2985379440: 100%|██████████| 96/96 [01:53<00:00,  1.18s/it]\n"
     ]
    },
    {
     "name": "stdout",
     "output_type": "stream",
     "text": [
      "开始处理论文 https://openalex.org/W2985379440，总被引: 36，预计页数: 1\n"
     ]
    },
    {
     "name": "stderr",
     "output_type": "stream",
     "text": [
      "分页获取: 100%|██████████| 1/1 [00:02<00:00,  2.15s/it]\n",
      "处理参考文献 https://openalex.org/W2980191403: 100%|██████████| 21/21 [00:23<00:00,  1.12s/it]\n"
     ]
    },
    {
     "name": "stdout",
     "output_type": "stream",
     "text": [
      "开始处理论文 https://openalex.org/W2980191403，总被引: 54，预计页数: 1\n"
     ]
    },
    {
     "name": "stderr",
     "output_type": "stream",
     "text": [
      "分页获取: 100%|██████████| 1/1 [00:02<00:00,  2.75s/it]\n",
      "处理参考文献 https://openalex.org/W2994017140: 100%|██████████| 2/2 [00:02<00:00,  1.10s/it]\n"
     ]
    },
    {
     "name": "stdout",
     "output_type": "stream",
     "text": [
      "开始处理论文 https://openalex.org/W2994017140，总被引: 22，预计页数: 1\n"
     ]
    },
    {
     "name": "stderr",
     "output_type": "stream",
     "text": [
      "分页获取: 100%|██████████| 1/1 [00:02<00:00,  2.08s/it]\n",
      "处理种子论文:   9%|▉         | 166/1849 [3:21:04<20:49:12, 44.54s/it]"
     ]
    },
    {
     "name": "stdout",
     "output_type": "stream",
     "text": [
      "已保存临时结果\n"
     ]
    },
    {
     "name": "stderr",
     "output_type": "stream",
     "text": [
      "处理参考文献 https://openalex.org/W3171467315: 100%|██████████| 17/17 [00:18<00:00,  1.10s/it]\n"
     ]
    },
    {
     "name": "stdout",
     "output_type": "stream",
     "text": [
      "开始处理论文 https://openalex.org/W3171467315，总被引: 43，预计页数: 1\n"
     ]
    },
    {
     "name": "stderr",
     "output_type": "stream",
     "text": [
      "分页获取: 100%|██████████| 1/1 [00:02<00:00,  2.35s/it]\n",
      "处理参考文献 https://openalex.org/W4303520777: 100%|██████████| 58/58 [01:05<00:00,  1.14s/it]\n"
     ]
    },
    {
     "name": "stdout",
     "output_type": "stream",
     "text": [
      "开始处理论文 https://openalex.org/W4303520777，总被引: 62，预计页数: 1\n"
     ]
    },
    {
     "name": "stderr",
     "output_type": "stream",
     "text": [
      "分页获取: 100%|██████████| 1/1 [00:02<00:00,  2.63s/it]\n",
      "处理参考文献 https://openalex.org/W4213445704: 100%|██████████| 37/37 [00:41<00:00,  1.13s/it]\n"
     ]
    },
    {
     "name": "stdout",
     "output_type": "stream",
     "text": [
      "开始处理论文 https://openalex.org/W4213445704，总被引: 41，预计页数: 1\n"
     ]
    },
    {
     "name": "stderr",
     "output_type": "stream",
     "text": [
      "分页获取: 100%|██████████| 1/1 [00:02<00:00,  2.43s/it]\n",
      "处理参考文献 https://openalex.org/W3133885182: 100%|██████████| 36/36 [00:40<00:00,  1.12s/it]\n"
     ]
    },
    {
     "name": "stdout",
     "output_type": "stream",
     "text": [
      "开始处理论文 https://openalex.org/W3133885182，总被引: 65，预计页数: 1\n"
     ]
    },
    {
     "name": "stderr",
     "output_type": "stream",
     "text": [
      "分页获取: 100%|██████████| 1/1 [00:03<00:00,  3.03s/it]\n",
      "处理种子论文:   9%|▉         | 171/1849 [3:24:04<15:10:38, 32.56s/it]"
     ]
    },
    {
     "name": "stdout",
     "output_type": "stream",
     "text": [
      "已保存临时结果\n"
     ]
    },
    {
     "name": "stderr",
     "output_type": "stream",
     "text": [
      "处理参考文献 https://openalex.org/W2052882655: 100%|██████████| 87/87 [01:36<00:00,  1.11s/it]\n"
     ]
    },
    {
     "name": "stdout",
     "output_type": "stream",
     "text": [
      "开始处理论文 https://openalex.org/W2052882655，总被引: 45，预计页数: 1\n"
     ]
    },
    {
     "name": "stderr",
     "output_type": "stream",
     "text": [
      "分页获取: 100%|██████████| 1/1 [00:02<00:00,  2.01s/it]\n",
      "处理种子论文:   9%|▉         | 172/1849 [3:25:43<24:26:52, 52.48s/it]"
     ]
    },
    {
     "name": "stdout",
     "output_type": "stream",
     "text": [
      "警告: 论文 https://openalex.org/W2052882655 应获取 45 条，实际获取 44 条\n"
     ]
    },
    {
     "name": "stderr",
     "output_type": "stream",
     "text": [
      "处理参考文献 https://openalex.org/W2975993439: 100%|██████████| 52/52 [01:01<00:00,  1.18s/it]\n"
     ]
    },
    {
     "name": "stdout",
     "output_type": "stream",
     "text": [
      "开始处理论文 https://openalex.org/W2975993439，总被引: 42，预计页数: 1\n"
     ]
    },
    {
     "name": "stderr",
     "output_type": "stream",
     "text": [
      "分页获取: 100%|██████████| 1/1 [00:02<00:00,  2.65s/it]\n",
      "处理种子论文:   9%|▉         | 173/1849 [3:26:47<26:01:45, 55.91s/it]"
     ]
    },
    {
     "name": "stdout",
     "output_type": "stream",
     "text": [
      "警告: 论文 https://openalex.org/W2975993439 应获取 42 条，实际获取 43 条\n"
     ]
    },
    {
     "name": "stderr",
     "output_type": "stream",
     "text": [
      "处理参考文献 https://openalex.org/W3111759802: 100%|██████████| 18/18 [00:20<00:00,  1.13s/it]\n"
     ]
    },
    {
     "name": "stdout",
     "output_type": "stream",
     "text": [
      "开始处理论文 https://openalex.org/W3111759802，总被引: 20，预计页数: 1\n"
     ]
    },
    {
     "name": "stderr",
     "output_type": "stream",
     "text": [
      "分页获取: 100%|██████████| 1/1 [00:02<00:00,  2.08s/it]\n",
      "处理参考文献 https://openalex.org/W4386892819: 100%|██████████| 5/5 [00:05<00:00,  1.11s/it]\n",
      "处理参考文献 https://openalex.org/W4312118270: 100%|██████████| 16/16 [00:18<00:00,  1.14s/it]\n"
     ]
    },
    {
     "name": "stdout",
     "output_type": "stream",
     "text": [
      "开始处理论文 https://openalex.org/W4312118270，总被引: 15，预计页数: 1\n"
     ]
    },
    {
     "name": "stderr",
     "output_type": "stream",
     "text": [
      "分页获取: 100%|██████████| 1/1 [00:01<00:00,  1.72s/it]\n",
      "处理种子论文:  10%|▉         | 176/1849 [3:27:38<14:11:22, 30.53s/it]"
     ]
    },
    {
     "name": "stdout",
     "output_type": "stream",
     "text": [
      "已保存临时结果\n"
     ]
    },
    {
     "name": "stderr",
     "output_type": "stream",
     "text": [
      "处理参考文献 https://openalex.org/W3130797410: 100%|██████████| 13/13 [00:13<00:00,  1.05s/it]\n",
      "处理参考文献 https://openalex.org/W4375937616: 100%|██████████| 3/3 [00:03<00:00,  1.10s/it]\n"
     ]
    },
    {
     "name": "stdout",
     "output_type": "stream",
     "text": [
      "开始处理论文 https://openalex.org/W4375937616，总被引: 27，预计页数: 1\n"
     ]
    },
    {
     "name": "stderr",
     "output_type": "stream",
     "text": [
      "分页获取: 100%|██████████| 1/1 [00:02<00:00,  2.03s/it]\n",
      "处理种子论文:  10%|▉         | 178/1849 [3:27:57<9:01:27, 19.44s/it] "
     ]
    },
    {
     "name": "stdout",
     "output_type": "stream",
     "text": [
      "开始处理论文 https://openalex.org/W3034448078，总被引: 38，预计页数: 1\n"
     ]
    },
    {
     "name": "stderr",
     "output_type": "stream",
     "text": [
      "分页获取: 100%|██████████| 1/1 [00:02<00:00,  2.04s/it]\n",
      "处理参考文献 https://openalex.org/W4395957343: 100%|██████████| 17/17 [00:19<00:00,  1.14s/it]\n"
     ]
    },
    {
     "name": "stdout",
     "output_type": "stream",
     "text": [
      "开始处理论文 https://openalex.org/W4395957343，总被引: 32，预计页数: 1\n"
     ]
    },
    {
     "name": "stderr",
     "output_type": "stream",
     "text": [
      "分页获取: 100%|██████████| 1/1 [00:02<00:00,  2.06s/it]\n",
      "处理种子论文:  10%|▉         | 180/1849 [3:28:21<7:36:37, 16.42s/it]"
     ]
    },
    {
     "name": "stdout",
     "output_type": "stream",
     "text": [
      "警告: 论文 https://openalex.org/W4395957343 应获取 32 条，实际获取 33 条\n"
     ]
    },
    {
     "name": "stderr",
     "output_type": "stream",
     "text": [
      "处理参考文献 https://openalex.org/W4293100561: 100%|██████████| 1/1 [00:01<00:00,  1.18s/it]\n",
      "处理种子论文:  10%|▉         | 181/1849 [3:28:25<5:53:27, 12.71s/it]"
     ]
    },
    {
     "name": "stdout",
     "output_type": "stream",
     "text": [
      "已保存临时结果\n"
     ]
    },
    {
     "name": "stderr",
     "output_type": "stream",
     "text": [
      "处理参考文献 https://openalex.org/W3180610563: 100%|██████████| 15/15 [00:16<00:00,  1.11s/it]\n"
     ]
    },
    {
     "name": "stdout",
     "output_type": "stream",
     "text": [
      "开始处理论文 https://openalex.org/W3180610563，总被引: 21，预计页数: 1\n"
     ]
    },
    {
     "name": "stderr",
     "output_type": "stream",
     "text": [
      "分页获取: 100%|██████████| 1/1 [00:01<00:00,  1.94s/it]\n",
      "处理种子论文:  10%|▉         | 182/1849 [3:28:43<6:42:34, 14.49s/it]"
     ]
    },
    {
     "name": "stdout",
     "output_type": "stream",
     "text": [
      "开始处理论文 https://openalex.org/W3126971149，总被引: 2，预计页数: 1\n"
     ]
    },
    {
     "name": "stderr",
     "output_type": "stream",
     "text": [
      "分页获取: 100%|██████████| 1/1 [00:01<00:00,  1.31s/it]\n",
      "处理种子论文:  10%|▉         | 183/1849 [3:28:45<4:52:39, 10.54s/it]"
     ]
    },
    {
     "name": "stdout",
     "output_type": "stream",
     "text": [
      "开始处理论文 https://openalex.org/W3151772276，总被引: 40，预计页数: 1\n"
     ]
    },
    {
     "name": "stderr",
     "output_type": "stream",
     "text": [
      "分页获取: 100%|██████████| 1/1 [00:02<00:00,  2.10s/it]\n",
      "处理参考文献 https://openalex.org/W4403393918: 100%|██████████| 3/3 [00:03<00:00,  1.09s/it]\n",
      "处理参考文献 https://openalex.org/W1550838071: 100%|██████████| 17/17 [00:20<00:00,  1.19s/it]\n"
     ]
    },
    {
     "name": "stdout",
     "output_type": "stream",
     "text": [
      "开始处理论文 https://openalex.org/W1550838071，总被引: 20，预计页数: 1\n"
     ]
    },
    {
     "name": "stderr",
     "output_type": "stream",
     "text": [
      "分页获取: 100%|██████████| 1/1 [00:01<00:00,  1.72s/it]\n",
      "处理种子论文:  10%|█         | 186/1849 [3:29:15<5:35:22, 12.10s/it]"
     ]
    },
    {
     "name": "stdout",
     "output_type": "stream",
     "text": [
      "已保存临时结果\n"
     ]
    },
    {
     "name": "stderr",
     "output_type": "stream",
     "text": [
      "处理参考文献 https://openalex.org/W4390753461: 100%|██████████| 32/32 [00:35<00:00,  1.12s/it]\n"
     ]
    },
    {
     "name": "stdout",
     "output_type": "stream",
     "text": [
      "开始处理论文 https://openalex.org/W4390753461，总被引: 2，预计页数: 1\n"
     ]
    },
    {
     "name": "stderr",
     "output_type": "stream",
     "text": [
      "分页获取: 100%|██████████| 1/1 [00:01<00:00,  1.32s/it]\n",
      "处理参考文献 https://openalex.org/W4254494064: 100%|██████████| 9/9 [00:13<00:00,  1.47s/it]\n"
     ]
    },
    {
     "name": "stdout",
     "output_type": "stream",
     "text": [
      "开始处理论文 https://openalex.org/W4254494064，总被引: 15，预计页数: 1\n"
     ]
    },
    {
     "name": "stderr",
     "output_type": "stream",
     "text": [
      "分页获取: 100%|██████████| 1/1 [00:01<00:00,  1.68s/it]\n",
      "处理参考文献 https://openalex.org/W4390011520: 100%|██████████| 21/21 [00:23<00:00,  1.12s/it]\n"
     ]
    },
    {
     "name": "stdout",
     "output_type": "stream",
     "text": [
      "开始处理论文 https://openalex.org/W4390011520，总被引: 42，预计页数: 1\n"
     ]
    },
    {
     "name": "stderr",
     "output_type": "stream",
     "text": [
      "分页获取: 100%|██████████| 1/1 [00:01<00:00,  1.79s/it]\n",
      "处理种子论文:  10%|█         | 189/1849 [3:30:32<9:22:57, 20.35s/it]"
     ]
    },
    {
     "name": "stdout",
     "output_type": "stream",
     "text": [
      "警告: 论文 https://openalex.org/W4390011520 应获取 42 条，实际获取 43 条\n"
     ]
    },
    {
     "name": "stderr",
     "output_type": "stream",
     "text": [
      "处理参考文献 https://openalex.org/W4392052182: 100%|██████████| 59/59 [01:06<00:00,  1.13s/it]\n"
     ]
    },
    {
     "name": "stdout",
     "output_type": "stream",
     "text": [
      "开始处理论文 https://openalex.org/W4392052182，总被引: 37，预计页数: 1\n"
     ]
    },
    {
     "name": "stderr",
     "output_type": "stream",
     "text": [
      "分页获取: 100%|██████████| 1/1 [00:02<00:00,  2.26s/it]\n",
      "处理种子论文:  10%|█         | 190/1849 [3:31:41<16:04:41, 34.89s/it]"
     ]
    },
    {
     "name": "stdout",
     "output_type": "stream",
     "text": [
      "警告: 论文 https://openalex.org/W4392052182 应获取 37 条，实际获取 40 条\n"
     ]
    },
    {
     "name": "stderr",
     "output_type": "stream",
     "text": [
      "处理参考文献 https://openalex.org/W3046113880: 100%|██████████| 23/23 [00:25<00:00,  1.12s/it]\n"
     ]
    },
    {
     "name": "stdout",
     "output_type": "stream",
     "text": [
      "开始处理论文 https://openalex.org/W3046113880，总被引: 73，预计页数: 1\n"
     ]
    },
    {
     "name": "stderr",
     "output_type": "stream",
     "text": [
      "分页获取: 100%|██████████| 1/1 [00:02<00:00,  2.64s/it]\n",
      "处理种子论文:  10%|█         | 191/1849 [3:32:13<15:36:38, 33.90s/it]"
     ]
    },
    {
     "name": "stdout",
     "output_type": "stream",
     "text": [
      "已保存临时结果\n",
      "开始处理论文 https://openalex.org/W2792048062，总被引: 27，预计页数: 1\n"
     ]
    },
    {
     "name": "stderr",
     "output_type": "stream",
     "text": [
      "分页获取: 100%|██████████| 1/1 [00:02<00:00,  2.09s/it]\n",
      "处理参考文献 https://openalex.org/W2790020274: 100%|██████████| 5/5 [00:05<00:00,  1.12s/it]\n"
     ]
    },
    {
     "name": "stdout",
     "output_type": "stream",
     "text": [
      "开始处理论文 https://openalex.org/W2790020274，总被引: 44，预计页数: 1\n"
     ]
    },
    {
     "name": "stderr",
     "output_type": "stream",
     "text": [
      "分页获取: 100%|██████████| 1/1 [00:02<00:00,  2.40s/it]\n",
      "处理参考文献 https://openalex.org/W2902397692: 100%|██████████| 10/10 [00:11<00:00,  1.13s/it]\n"
     ]
    },
    {
     "name": "stdout",
     "output_type": "stream",
     "text": [
      "开始处理论文 https://openalex.org/W2902397692，总被引: 17，预计页数: 1\n"
     ]
    },
    {
     "name": "stderr",
     "output_type": "stream",
     "text": [
      "分页获取: 100%|██████████| 1/1 [00:01<00:00,  2.00s/it]\n",
      "处理参考文献 https://openalex.org/W4391448850: 100%|██████████| 10/10 [00:11<00:00,  1.15s/it]\n"
     ]
    },
    {
     "name": "stdout",
     "output_type": "stream",
     "text": [
      "开始处理论文 https://openalex.org/W4391448850，总被引: 23，预计页数: 1\n"
     ]
    },
    {
     "name": "stderr",
     "output_type": "stream",
     "text": [
      "分页获取: 100%|██████████| 1/1 [00:02<00:00,  2.14s/it]\n",
      "处理参考文献 https://openalex.org/W4385381933: 100%|██████████| 7/7 [00:07<00:00,  1.13s/it]\n"
     ]
    },
    {
     "name": "stdout",
     "output_type": "stream",
     "text": [
      "开始处理论文 https://openalex.org/W4385381933，总被引: 25，预计页数: 1\n"
     ]
    },
    {
     "name": "stderr",
     "output_type": "stream",
     "text": [
      "分页获取: 100%|██████████| 1/1 [00:02<00:00,  2.20s/it]\n",
      "处理种子论文:  11%|█         | 196/1849 [3:33:03<7:05:37, 15.45s/it]"
     ]
    },
    {
     "name": "stdout",
     "output_type": "stream",
     "text": [
      "已保存临时结果\n"
     ]
    },
    {
     "name": "stderr",
     "output_type": "stream",
     "text": [
      "处理参考文献 https://openalex.org/W4280498789: 100%|██████████| 30/30 [00:33<00:00,  1.11s/it]\n"
     ]
    },
    {
     "name": "stdout",
     "output_type": "stream",
     "text": [
      "开始处理论文 https://openalex.org/W4280498789，总被引: 42，预计页数: 1\n"
     ]
    },
    {
     "name": "stderr",
     "output_type": "stream",
     "text": [
      "分页获取: 100%|██████████| 1/1 [00:02<00:00,  2.22s/it]\n",
      "处理参考文献 https://openalex.org/W2884382206: 100%|██████████| 32/32 [00:35<00:00,  1.12s/it]\n"
     ]
    },
    {
     "name": "stdout",
     "output_type": "stream",
     "text": [
      "开始处理论文 https://openalex.org/W2884382206，总被引: 33，预计页数: 1\n"
     ]
    },
    {
     "name": "stderr",
     "output_type": "stream",
     "text": [
      "分页获取: 100%|██████████| 1/1 [00:02<00:00,  2.06s/it]\n",
      "处理参考文献 https://openalex.org/W4395068524: 100%|██████████| 4/4 [00:04<00:00,  1.06s/it]\n",
      "处理参考文献 https://openalex.org/W3156738695: 100%|██████████| 10/10 [00:10<00:00,  1.09s/it]\n"
     ]
    },
    {
     "name": "stdout",
     "output_type": "stream",
     "text": [
      "开始处理论文 https://openalex.org/W3156738695，总被引: 23，预计页数: 1\n"
     ]
    },
    {
     "name": "stderr",
     "output_type": "stream",
     "text": [
      "分页获取: 100%|██████████| 1/1 [00:02<00:00,  2.43s/it]\n",
      "处理参考文献 https://openalex.org/W4293388027: 100%|██████████| 109/109 [02:02<00:00,  1.13s/it]\n"
     ]
    },
    {
     "name": "stdout",
     "output_type": "stream",
     "text": [
      "开始处理论文 https://openalex.org/W4293388027，总被引: 50，预计页数: 1\n"
     ]
    },
    {
     "name": "stderr",
     "output_type": "stream",
     "text": [
      "分页获取: 100%|██████████| 1/1 [00:03<00:00,  3.83s/it]\n"
     ]
    },
    {
     "name": "stdout",
     "output_type": "stream",
     "text": [
      "警告: 论文 https://openalex.org/W4293388027 应获取 50 条，实际获取 51 条\n"
     ]
    },
    {
     "name": "stderr",
     "output_type": "stream",
     "text": [
      "处理种子论文:  11%|█         | 201/1849 [3:36:44<23:34:02, 51.48s/it]"
     ]
    },
    {
     "name": "stdout",
     "output_type": "stream",
     "text": [
      "已保存临时结果\n"
     ]
    },
    {
     "name": "stderr",
     "output_type": "stream",
     "text": [
      "处理参考文献 https://openalex.org/W3195657677: 100%|██████████| 81/81 [01:30<00:00,  1.11s/it]\n"
     ]
    },
    {
     "name": "stdout",
     "output_type": "stream",
     "text": [
      "开始处理论文 https://openalex.org/W3195657677，总被引: 49，预计页数: 1\n"
     ]
    },
    {
     "name": "stderr",
     "output_type": "stream",
     "text": [
      "分页获取: 100%|██████████| 1/1 [00:02<00:00,  2.35s/it]\n",
      "处理参考文献 https://openalex.org/W4385772187: 100%|██████████| 1/1 [00:01<00:00,  1.03s/it]\n",
      "处理参考文献 https://openalex.org/W3163179182: 100%|██████████| 23/23 [00:26<00:00,  1.15s/it]\n"
     ]
    },
    {
     "name": "stdout",
     "output_type": "stream",
     "text": [
      "开始处理论文 https://openalex.org/W3163179182，总被引: 17，预计页数: 1\n"
     ]
    },
    {
     "name": "stderr",
     "output_type": "stream",
     "text": [
      "分页获取: 100%|██████████| 1/1 [00:01<00:00,  1.66s/it]\n",
      "处理种子论文:  11%|█         | 204/1849 [3:38:46<18:14:16, 39.91s/it]"
     ]
    },
    {
     "name": "stdout",
     "output_type": "stream",
     "text": [
      "开始处理论文 https://openalex.org/W4312440622，总被引: 20，预计页数: 1\n"
     ]
    },
    {
     "name": "stderr",
     "output_type": "stream",
     "text": [
      "分页获取: 100%|██████████| 1/1 [00:01<00:00,  1.99s/it]\n",
      "处理种子论文:  11%|█         | 206/1849 [3:38:51<10:20:28, 22.66s/it]"
     ]
    },
    {
     "name": "stdout",
     "output_type": "stream",
     "text": [
      "已保存临时结果\n"
     ]
    },
    {
     "name": "stderr",
     "output_type": "stream",
     "text": [
      "处理参考文献 https://openalex.org/W4285209314: 100%|██████████| 23/23 [00:25<00:00,  1.12s/it]\n"
     ]
    },
    {
     "name": "stdout",
     "output_type": "stream",
     "text": [
      "开始处理论文 https://openalex.org/W4285209314，总被引: 28，预计页数: 1\n"
     ]
    },
    {
     "name": "stderr",
     "output_type": "stream",
     "text": [
      "分页获取: 100%|██████████| 1/1 [00:02<00:00,  2.02s/it]\n",
      "处理参考文献 https://openalex.org/W3114397341: 100%|██████████| 33/33 [00:37<00:00,  1.13s/it]\n"
     ]
    },
    {
     "name": "stdout",
     "output_type": "stream",
     "text": [
      "开始处理论文 https://openalex.org/W3114397341，总被引: 27，预计页数: 1\n"
     ]
    },
    {
     "name": "stderr",
     "output_type": "stream",
     "text": [
      "分页获取: 100%|██████████| 1/1 [00:02<00:00,  2.09s/it]\n",
      "处理参考文献 https://openalex.org/W4385570391: 100%|██████████| 204/204 [03:43<00:00,  1.10s/it]\n"
     ]
    },
    {
     "name": "stdout",
     "output_type": "stream",
     "text": [
      "开始处理论文 https://openalex.org/W4385570391，总被引: 26，预计页数: 1\n"
     ]
    },
    {
     "name": "stderr",
     "output_type": "stream",
     "text": [
      "分页获取: 100%|██████████| 1/1 [00:02<00:00,  2.13s/it]\n",
      "处理参考文献 https://openalex.org/W4391580161: 100%|██████████| 2/2 [00:02<00:00,  1.16s/it]\n"
     ]
    },
    {
     "name": "stdout",
     "output_type": "stream",
     "text": [
      "开始处理论文 https://openalex.org/W4391580161，总被引: 25，预计页数: 1\n"
     ]
    },
    {
     "name": "stderr",
     "output_type": "stream",
     "text": [
      "分页获取: 100%|██████████| 1/1 [00:01<00:00,  1.70s/it]\n",
      "处理参考文献 https://openalex.org/W4391036703: 100%|██████████| 32/32 [00:36<00:00,  1.13s/it]\n"
     ]
    },
    {
     "name": "stdout",
     "output_type": "stream",
     "text": [
      "开始处理论文 https://openalex.org/W4391036703，总被引: 27，预计页数: 1\n"
     ]
    },
    {
     "name": "stderr",
     "output_type": "stream",
     "text": [
      "分页获取: 100%|██████████| 1/1 [00:01<00:00,  1.99s/it]\n",
      "处理种子论文:  11%|█▏        | 211/1849 [3:44:30<24:55:55, 54.80s/it]"
     ]
    },
    {
     "name": "stdout",
     "output_type": "stream",
     "text": [
      "已保存临时结果\n"
     ]
    },
    {
     "name": "stderr",
     "output_type": "stream",
     "text": [
      "处理参考文献 https://openalex.org/W3165340137: 100%|██████████| 79/79 [01:28<00:00,  1.12s/it]\n"
     ]
    },
    {
     "name": "stdout",
     "output_type": "stream",
     "text": [
      "开始处理论文 https://openalex.org/W3165340137，总被引: 46，预计页数: 1\n"
     ]
    },
    {
     "name": "stderr",
     "output_type": "stream",
     "text": [
      "分页获取: 100%|██████████| 1/1 [00:02<00:00,  2.06s/it]\n",
      "处理参考文献 https://openalex.org/W4387812130: 100%|██████████| 58/58 [01:05<00:00,  1.14s/it]\n"
     ]
    },
    {
     "name": "stdout",
     "output_type": "stream",
     "text": [
      "开始处理论文 https://openalex.org/W4387812130，总被引: 40，预计页数: 1\n"
     ]
    },
    {
     "name": "stderr",
     "output_type": "stream",
     "text": [
      "分页获取: 100%|██████████| 1/1 [00:02<00:00,  2.37s/it]\n",
      "处理参考文献 https://openalex.org/W3106886953: 100%|██████████| 26/26 [00:28<00:00,  1.09s/it]\n"
     ]
    },
    {
     "name": "stdout",
     "output_type": "stream",
     "text": [
      "开始处理论文 https://openalex.org/W3106886953，总被引: 36，预计页数: 1\n"
     ]
    },
    {
     "name": "stderr",
     "output_type": "stream",
     "text": [
      "分页获取: 100%|██████████| 1/1 [00:02<00:00,  2.18s/it]\n",
      "处理参考文献 https://openalex.org/W4289667264: 100%|██████████| 24/24 [00:27<00:00,  1.13s/it]\n",
      "处理种子论文:  12%|█▏        | 216/1849 [3:48:10<18:06:17, 39.91s/it]"
     ]
    },
    {
     "name": "stdout",
     "output_type": "stream",
     "text": [
      "已保存临时结果\n"
     ]
    },
    {
     "name": "stderr",
     "output_type": "stream",
     "text": [
      "处理参考文献 https://openalex.org/W4392453702: 100%|██████████| 2/2 [00:02<00:00,  1.03s/it]\n",
      "处理参考文献 https://openalex.org/W4399121079: 100%|██████████| 5/5 [00:05<00:00,  1.05s/it]\n",
      "处理参考文献 https://openalex.org/W4393196882: 100%|██████████| 53/53 [01:00<00:00,  1.14s/it]\n"
     ]
    },
    {
     "name": "stdout",
     "output_type": "stream",
     "text": [
      "开始处理论文 https://openalex.org/W4393196882，总被引: 44，预计页数: 1\n"
     ]
    },
    {
     "name": "stderr",
     "output_type": "stream",
     "text": [
      "分页获取: 100%|██████████| 1/1 [00:02<00:00,  2.31s/it]\n",
      "处理种子论文:  12%|█▏        | 220/1849 [3:49:20<12:58:49, 28.69s/it]"
     ]
    },
    {
     "name": "stdout",
     "output_type": "stream",
     "text": [
      "警告: 论文 https://openalex.org/W4393196882 应获取 44 条，实际获取 45 条\n"
     ]
    },
    {
     "name": "stderr",
     "output_type": "stream",
     "text": [
      "处理参考文献 https://openalex.org/W3040140899: 100%|██████████| 86/86 [01:37<00:00,  1.13s/it]\n"
     ]
    },
    {
     "name": "stdout",
     "output_type": "stream",
     "text": [
      "开始处理论文 https://openalex.org/W3040140899，总被引: 20，预计页数: 1\n"
     ]
    },
    {
     "name": "stderr",
     "output_type": "stream",
     "text": [
      "分页获取: 100%|██████████| 1/1 [00:02<00:00,  2.13s/it]\n"
     ]
    },
    {
     "name": "stdout",
     "output_type": "stream",
     "text": [
      "警告: 论文 https://openalex.org/W3040140899 应获取 20 条，实际获取 19 条\n"
     ]
    },
    {
     "name": "stderr",
     "output_type": "stream",
     "text": [
      "处理种子论文:  12%|█▏        | 221/1849 [3:51:03<21:23:17, 47.30s/it]"
     ]
    },
    {
     "name": "stdout",
     "output_type": "stream",
     "text": [
      "已保存临时结果\n"
     ]
    },
    {
     "name": "stderr",
     "output_type": "stream",
     "text": [
      "处理参考文献 https://openalex.org/W2943119929: 100%|██████████| 6/6 [00:06<00:00,  1.11s/it]\n"
     ]
    },
    {
     "name": "stdout",
     "output_type": "stream",
     "text": [
      "开始处理论文 https://openalex.org/W2943119929，总被引: 22，预计页数: 1\n"
     ]
    },
    {
     "name": "stderr",
     "output_type": "stream",
     "text": [
      "分页获取: 100%|██████████| 1/1 [00:01<00:00,  1.99s/it]\n",
      "处理参考文献 https://openalex.org/W3162770780: 100%|██████████| 61/61 [01:09<00:00,  1.14s/it]\n"
     ]
    },
    {
     "name": "stdout",
     "output_type": "stream",
     "text": [
      "开始处理论文 https://openalex.org/W3162770780，总被引: 34，预计页数: 1\n"
     ]
    },
    {
     "name": "stderr",
     "output_type": "stream",
     "text": [
      "分页获取: 100%|██████████| 1/1 [00:02<00:00,  2.68s/it]\n",
      "处理参考文献 https://openalex.org/W4384284191: 100%|██████████| 110/110 [02:06<00:00,  1.15s/it]\n"
     ]
    },
    {
     "name": "stdout",
     "output_type": "stream",
     "text": [
      "开始处理论文 https://openalex.org/W4384284191，总被引: 27，预计页数: 1\n"
     ]
    },
    {
     "name": "stderr",
     "output_type": "stream",
     "text": [
      "分页获取: 100%|██████████| 1/1 [00:02<00:00,  2.13s/it]\n",
      "处理参考文献 https://openalex.org/W4408207000: 100%|██████████| 39/39 [00:45<00:00,  1.16s/it]\n",
      "处理种子论文:  12%|█▏        | 226/1849 [3:55:22<25:14:03, 55.97s/it]"
     ]
    },
    {
     "name": "stdout",
     "output_type": "stream",
     "text": [
      "已保存临时结果\n"
     ]
    },
    {
     "name": "stderr",
     "output_type": "stream",
     "text": [
      "处理参考文献 https://openalex.org/W4391780579: 100%|██████████| 22/22 [00:24<00:00,  1.12s/it]\n",
      "处理种子论文:  12%|█▏        | 227/1849 [3:55:47<21:29:56, 47.72s/it]"
     ]
    },
    {
     "name": "stdout",
     "output_type": "stream",
     "text": [
      "开始处理论文 https://openalex.org/W2978207663，总被引: 23，预计页数: 1\n"
     ]
    },
    {
     "name": "stderr",
     "output_type": "stream",
     "text": [
      "分页获取: 100%|██████████| 1/1 [00:02<00:00,  2.01s/it]\n",
      "处理参考文献 https://openalex.org/W4385738962: 100%|██████████| 55/55 [01:01<00:00,  1.12s/it]\n"
     ]
    },
    {
     "name": "stdout",
     "output_type": "stream",
     "text": [
      "开始处理论文 https://openalex.org/W4385738962，总被引: 56，预计页数: 1\n"
     ]
    },
    {
     "name": "stderr",
     "output_type": "stream",
     "text": [
      "分页获取: 100%|██████████| 1/1 [00:02<00:00,  2.41s/it]\n",
      "处理参考文献 https://openalex.org/W4285210057: 100%|██████████| 95/95 [01:45<00:00,  1.11s/it]\n"
     ]
    },
    {
     "name": "stdout",
     "output_type": "stream",
     "text": [
      "开始处理论文 https://openalex.org/W4285210057，总被引: 29，预计页数: 1\n"
     ]
    },
    {
     "name": "stderr",
     "output_type": "stream",
     "text": [
      "分页获取: 100%|██████████| 1/1 [00:01<00:00,  1.98s/it]\n",
      "处理参考文献 https://openalex.org/W3111929966: 100%|██████████| 44/44 [00:49<00:00,  1.12s/it]\n"
     ]
    },
    {
     "name": "stdout",
     "output_type": "stream",
     "text": [
      "开始处理论文 https://openalex.org/W3111929966，总被引: 26，预计页数: 1\n"
     ]
    },
    {
     "name": "stderr",
     "output_type": "stream",
     "text": [
      "分页获取: 100%|██████████| 1/1 [00:02<00:00,  2.03s/it]\n",
      "处理种子论文:  12%|█▏        | 231/1849 [3:59:35<26:50:06, 59.71s/it]"
     ]
    },
    {
     "name": "stdout",
     "output_type": "stream",
     "text": [
      "已保存临时结果\n"
     ]
    },
    {
     "name": "stderr",
     "output_type": "stream",
     "text": [
      "处理参考文献 https://openalex.org/W3022461290: 100%|██████████| 14/14 [00:15<00:00,  1.09s/it]\n"
     ]
    },
    {
     "name": "stdout",
     "output_type": "stream",
     "text": [
      "开始处理论文 https://openalex.org/W3022461290，总被引: 18，预计页数: 1\n"
     ]
    },
    {
     "name": "stderr",
     "output_type": "stream",
     "text": [
      "分页获取: 100%|██████████| 1/1 [00:01<00:00,  1.68s/it]\n",
      "处理参考文献 https://openalex.org/W3115540055: 100%|██████████| 145/145 [02:44<00:00,  1.14s/it]\n"
     ]
    },
    {
     "name": "stdout",
     "output_type": "stream",
     "text": [
      "开始处理论文 https://openalex.org/W3115540055，总被引: 25，预计页数: 1\n"
     ]
    },
    {
     "name": "stderr",
     "output_type": "stream",
     "text": [
      "分页获取: 100%|██████████| 1/1 [00:02<00:00,  2.05s/it]\n",
      "处理参考文献 https://openalex.org/W4327970411: 100%|██████████| 127/127 [02:22<00:00,  1.12s/it]\n"
     ]
    },
    {
     "name": "stdout",
     "output_type": "stream",
     "text": [
      "开始处理论文 https://openalex.org/W4327970411，总被引: 14，预计页数: 1\n"
     ]
    },
    {
     "name": "stderr",
     "output_type": "stream",
     "text": [
      "分页获取: 100%|██████████| 1/1 [00:01<00:00,  1.74s/it]\n",
      "处理参考文献 https://openalex.org/W2117300509: 100%|██████████| 18/18 [00:20<00:00,  1.12s/it]\n"
     ]
    },
    {
     "name": "stdout",
     "output_type": "stream",
     "text": [
      "开始处理论文 https://openalex.org/W2117300509，总被引: 26，预计页数: 1\n"
     ]
    },
    {
     "name": "stderr",
     "output_type": "stream",
     "text": [
      "分页获取: 100%|██████████| 1/1 [00:02<00:00,  2.06s/it]\n",
      "处理种子论文:  13%|█▎        | 235/1849 [4:05:26<34:43:27, 77.45s/it] "
     ]
    },
    {
     "name": "stdout",
     "output_type": "stream",
     "text": [
      "警告: 论文 https://openalex.org/W2117300509 应获取 26 条，实际获取 25 条\n"
     ]
    },
    {
     "name": "stderr",
     "output_type": "stream",
     "text": [
      "处理参考文献 https://openalex.org/W4313730541: 100%|██████████| 12/12 [00:14<00:00,  1.25s/it]\n"
     ]
    },
    {
     "name": "stdout",
     "output_type": "stream",
     "text": [
      "开始处理论文 https://openalex.org/W4313730541，总被引: 1，预计页数: 1\n"
     ]
    },
    {
     "name": "stderr",
     "output_type": "stream",
     "text": [
      "分页获取: 100%|██████████| 1/1 [00:01<00:00,  1.32s/it]\n",
      "处理种子论文:  13%|█▎        | 236/1849 [4:05:45<26:58:53, 60.22s/it]"
     ]
    },
    {
     "name": "stdout",
     "output_type": "stream",
     "text": [
      "已保存临时结果\n"
     ]
    },
    {
     "name": "stderr",
     "output_type": "stream",
     "text": [
      "处理参考文献 https://openalex.org/W4405257254: 100%|██████████| 34/34 [00:37<00:00,  1.10s/it]\n",
      "处理参考文献 https://openalex.org/W4281661630: 100%|██████████| 53/53 [00:59<00:00,  1.13s/it]\n"
     ]
    },
    {
     "name": "stdout",
     "output_type": "stream",
     "text": [
      "开始处理论文 https://openalex.org/W4281661630，总被引: 36，预计页数: 1\n"
     ]
    },
    {
     "name": "stderr",
     "output_type": "stream",
     "text": [
      "分页获取: 100%|██████████| 1/1 [00:02<00:00,  2.07s/it]\n",
      "处理参考文献 https://openalex.org/W3128111047: 100%|██████████| 2/2 [00:02<00:00,  1.11s/it]\n"
     ]
    },
    {
     "name": "stdout",
     "output_type": "stream",
     "text": [
      "开始处理论文 https://openalex.org/W3128111047，总被引: 13，预计页数: 1\n"
     ]
    },
    {
     "name": "stderr",
     "output_type": "stream",
     "text": [
      "分页获取: 100%|██████████| 1/1 [00:01<00:00,  1.63s/it]\n",
      "处理参考文献 https://openalex.org/W4392196936: 100%|██████████| 59/59 [01:05<00:00,  1.12s/it]\n"
     ]
    },
    {
     "name": "stdout",
     "output_type": "stream",
     "text": [
      "开始处理论文 https://openalex.org/W4392196936，总被引: 36，预计页数: 1\n"
     ]
    },
    {
     "name": "stderr",
     "output_type": "stream",
     "text": [
      "分页获取: 100%|██████████| 1/1 [00:02<00:00,  2.09s/it]\n",
      "处理种子论文:  13%|█▎        | 241/1849 [4:08:40<20:09:44, 45.14s/it]"
     ]
    },
    {
     "name": "stdout",
     "output_type": "stream",
     "text": [
      "已保存临时结果\n"
     ]
    },
    {
     "name": "stderr",
     "output_type": "stream",
     "text": [
      "处理参考文献 https://openalex.org/W4403749069: 100%|██████████| 55/55 [01:04<00:00,  1.17s/it]\n"
     ]
    },
    {
     "name": "stdout",
     "output_type": "stream",
     "text": [
      "开始处理论文 https://openalex.org/W4403749069，总被引: 3，预计页数: 1\n"
     ]
    },
    {
     "name": "stderr",
     "output_type": "stream",
     "text": [
      "分页获取: 100%|██████████| 1/1 [00:01<00:00,  1.30s/it]\n",
      "处理参考文献 https://openalex.org/W4390349765: 100%|██████████| 99/99 [01:50<00:00,  1.12s/it]\n"
     ]
    },
    {
     "name": "stdout",
     "output_type": "stream",
     "text": [
      "开始处理论文 https://openalex.org/W4390349765，总被引: 26，预计页数: 1\n"
     ]
    },
    {
     "name": "stderr",
     "output_type": "stream",
     "text": [
      "分页获取: 100%|██████████| 1/1 [00:01<00:00,  1.99s/it]\n",
      "处理参考文献 https://openalex.org/W3130399513: 100%|██████████| 17/17 [00:19<00:00,  1.13s/it]\n"
     ]
    },
    {
     "name": "stdout",
     "output_type": "stream",
     "text": [
      "开始处理论文 https://openalex.org/W3130399513，总被引: 16，预计页数: 1\n"
     ]
    },
    {
     "name": "stderr",
     "output_type": "stream",
     "text": [
      "分页获取: 100%|██████████| 1/1 [00:01<00:00,  1.83s/it]\n",
      "处理种子论文:  13%|█▎        | 244/1849 [4:11:59<24:23:19, 54.70s/it]"
     ]
    },
    {
     "name": "stdout",
     "output_type": "stream",
     "text": [
      "获取论文W3016208458时出错：('Connection aborted.', ConnectionResetError(10054, 'An existing connection was forcibly closed by the remote host', None, 10054, None))\n"
     ]
    },
    {
     "name": "stderr",
     "output_type": "stream",
     "text": [
      "处理参考文献 https://openalex.org/W3213694590: 100%|██████████| 40/40 [00:48<00:00,  1.21s/it]\n"
     ]
    },
    {
     "name": "stdout",
     "output_type": "stream",
     "text": [
      "开始处理论文 https://openalex.org/W3213694590，总被引: 23，预计页数: 1\n"
     ]
    },
    {
     "name": "stderr",
     "output_type": "stream",
     "text": [
      "分页获取: 100%|██████████| 1/1 [00:02<00:00,  2.15s/it]\n",
      "处理种子论文:  13%|█▎        | 245/1849 [4:12:50<23:50:17, 53.50s/it]"
     ]
    },
    {
     "name": "stdout",
     "output_type": "stream",
     "text": [
      "警告: 论文 https://openalex.org/W3213694590 应获取 23 条，实际获取 24 条\n"
     ]
    },
    {
     "name": "stderr",
     "output_type": "stream",
     "text": [
      "处理参考文献 https://openalex.org/W4232220395: 100%|██████████| 12/12 [00:13<00:00,  1.11s/it]\n"
     ]
    },
    {
     "name": "stdout",
     "output_type": "stream",
     "text": [
      "开始处理论文 https://openalex.org/W4232220395，总被引: 31，预计页数: 1\n"
     ]
    },
    {
     "name": "stderr",
     "output_type": "stream",
     "text": [
      "分页获取: 100%|██████████| 1/1 [00:02<00:00,  2.07s/it]\n",
      "处理种子论文:  13%|█▎        | 246/1849 [4:13:09<19:16:24, 43.28s/it]"
     ]
    },
    {
     "name": "stdout",
     "output_type": "stream",
     "text": [
      "已保存临时结果\n"
     ]
    },
    {
     "name": "stderr",
     "output_type": "stream",
     "text": [
      "处理参考文献 https://openalex.org/W4313418397: 100%|██████████| 53/53 [01:00<00:00,  1.14s/it]\n"
     ]
    },
    {
     "name": "stdout",
     "output_type": "stream",
     "text": [
      "开始处理论文 https://openalex.org/W4313418397，总被引: 14，预计页数: 1\n"
     ]
    },
    {
     "name": "stderr",
     "output_type": "stream",
     "text": [
      "分页获取: 100%|██████████| 1/1 [00:01<00:00,  1.73s/it]\n",
      "处理参考文献 https://openalex.org/W4399400150: 100%|██████████| 23/23 [00:25<00:00,  1.13s/it]\n",
      "处理参考文献 https://openalex.org/W4214481849: 100%|██████████| 30/30 [00:36<00:00,  1.21s/it]\n"
     ]
    },
    {
     "name": "stdout",
     "output_type": "stream",
     "text": [
      "开始处理论文 https://openalex.org/W4214481849，总被引: 92，预计页数: 1\n"
     ]
    },
    {
     "name": "stderr",
     "output_type": "stream",
     "text": [
      "分页获取: 100%|██████████| 1/1 [00:02<00:00,  2.64s/it]\n",
      "处理参考文献 https://openalex.org/W4318757161: 100%|██████████| 65/65 [01:13<00:00,  1.13s/it]\n"
     ]
    },
    {
     "name": "stdout",
     "output_type": "stream",
     "text": [
      "开始处理论文 https://openalex.org/W4318757161，总被引: 32，预计页数: 1\n"
     ]
    },
    {
     "name": "stderr",
     "output_type": "stream",
     "text": [
      "分页获取: 100%|██████████| 1/1 [00:02<00:00,  2.20s/it]\n",
      "处理种子论文:  14%|█▎        | 250/1849 [4:16:32<22:53:42, 51.55s/it]"
     ]
    },
    {
     "name": "stdout",
     "output_type": "stream",
     "text": [
      "警告: 论文 https://openalex.org/W4318757161 应获取 32 条，实际获取 33 条\n"
     ]
    },
    {
     "name": "stderr",
     "output_type": "stream",
     "text": [
      "处理参考文献 https://openalex.org/W3110191315: 100%|██████████| 2/2 [00:02<00:00,  1.17s/it]\n"
     ]
    },
    {
     "name": "stdout",
     "output_type": "stream",
     "text": [
      "开始处理论文 https://openalex.org/W3110191315，总被引: 7，预计页数: 1\n"
     ]
    },
    {
     "name": "stderr",
     "output_type": "stream",
     "text": [
      "分页获取: 100%|██████████| 1/1 [00:01<00:00,  1.80s/it]\n",
      "处理种子论文:  14%|█▎        | 251/1849 [4:16:40<17:05:18, 38.50s/it]"
     ]
    },
    {
     "name": "stdout",
     "output_type": "stream",
     "text": [
      "已保存临时结果\n"
     ]
    },
    {
     "name": "stderr",
     "output_type": "stream",
     "text": [
      "处理参考文献 https://openalex.org/W3192664314: 100%|██████████| 26/26 [00:29<00:00,  1.12s/it]\n"
     ]
    },
    {
     "name": "stdout",
     "output_type": "stream",
     "text": [
      "开始处理论文 https://openalex.org/W3192664314，总被引: 36，预计页数: 1\n"
     ]
    },
    {
     "name": "stderr",
     "output_type": "stream",
     "text": [
      "分页获取: 100%|██████████| 1/1 [00:02<00:00,  2.11s/it]\n",
      "处理参考文献 https://openalex.org/W4401806686: 100%|██████████| 185/185 [03:29<00:00,  1.13s/it]\n"
     ]
    },
    {
     "name": "stdout",
     "output_type": "stream",
     "text": [
      "开始处理论文 https://openalex.org/W4401806686，总被引: 42，预计页数: 1\n"
     ]
    },
    {
     "name": "stderr",
     "output_type": "stream",
     "text": [
      "分页获取: 100%|██████████| 1/1 [00:02<00:00,  2.24s/it]\n",
      "处理种子论文:  14%|█▎        | 253/1849 [4:20:43<39:26:48, 88.98s/it]"
     ]
    },
    {
     "name": "stdout",
     "output_type": "stream",
     "text": [
      "警告: 论文 https://openalex.org/W4401806686 应获取 42 条，实际获取 46 条\n"
     ]
    },
    {
     "name": "stderr",
     "output_type": "stream",
     "text": [
      "处理参考文献 https://openalex.org/W4367310870: 100%|██████████| 39/39 [00:42<00:00,  1.09s/it]\n"
     ]
    },
    {
     "name": "stdout",
     "output_type": "stream",
     "text": [
      "开始处理论文 https://openalex.org/W4367310870，总被引: 33，预计页数: 1\n"
     ]
    },
    {
     "name": "stderr",
     "output_type": "stream",
     "text": [
      "分页获取: 100%|██████████| 1/1 [00:02<00:00,  2.00s/it]\n",
      "处理种子论文:  14%|█▎        | 254/1849 [4:21:27<33:30:35, 75.63s/it]"
     ]
    },
    {
     "name": "stdout",
     "output_type": "stream",
     "text": [
      "获取论文W3092139026时出错：('Connection aborted.', ConnectionResetError(10054, 'An existing connection was forcibly closed by the remote host', None, 10054, None))\n"
     ]
    },
    {
     "name": "stderr",
     "output_type": "stream",
     "text": [
      "处理参考文献 https://openalex.org/W4385698406: 100%|██████████| 103/103 [02:01<00:00,  1.18s/it]\n"
     ]
    },
    {
     "name": "stdout",
     "output_type": "stream",
     "text": [
      "开始处理论文 https://openalex.org/W4385698406，总被引: 14，预计页数: 1\n"
     ]
    },
    {
     "name": "stderr",
     "output_type": "stream",
     "text": [
      "分页获取: 100%|██████████| 1/1 [00:01<00:00,  1.71s/it]\n",
      "处理参考文献 https://openalex.org/W3192520623: 100%|██████████| 4/4 [00:04<00:00,  1.07s/it]\n",
      "处理种子论文:  14%|█▍        | 256/1849 [4:23:39<28:54:02, 65.31s/it]"
     ]
    },
    {
     "name": "stdout",
     "output_type": "stream",
     "text": [
      "已保存临时结果\n"
     ]
    },
    {
     "name": "stderr",
     "output_type": "stream",
     "text": [
      "处理参考文献 https://openalex.org/W4327635427: 100%|██████████| 1/1 [00:01<00:00,  1.07s/it]\n",
      "处理参考文献 https://openalex.org/W4380991226: 100%|██████████| 10/10 [00:10<00:00,  1.10s/it]\n"
     ]
    },
    {
     "name": "stdout",
     "output_type": "stream",
     "text": [
      "开始处理论文 https://openalex.org/W4380991226，总被引: 2，预计页数: 1\n"
     ]
    },
    {
     "name": "stderr",
     "output_type": "stream",
     "text": [
      "分页获取: 100%|██████████| 1/1 [00:01<00:00,  1.31s/it]\n",
      "处理参考文献 https://openalex.org/W4283786485: 100%|██████████| 96/96 [01:48<00:00,  1.13s/it]\n"
     ]
    },
    {
     "name": "stdout",
     "output_type": "stream",
     "text": [
      "开始处理论文 https://openalex.org/W4283786485，总被引: 24，预计页数: 1\n"
     ]
    },
    {
     "name": "stderr",
     "output_type": "stream",
     "text": [
      "分页获取: 100%|██████████| 1/1 [00:02<00:00,  2.06s/it]\n",
      "处理种子论文:  14%|█▍        | 261/1849 [4:25:46<20:13:19, 45.84s/it]"
     ]
    },
    {
     "name": "stdout",
     "output_type": "stream",
     "text": [
      "已保存临时结果\n"
     ]
    },
    {
     "name": "stderr",
     "output_type": "stream",
     "text": [
      "处理参考文献 https://openalex.org/W2912540451: 100%|██████████| 19/19 [00:21<00:00,  1.13s/it]\n"
     ]
    },
    {
     "name": "stdout",
     "output_type": "stream",
     "text": [
      "开始处理论文 https://openalex.org/W2912540451，总被引: 20，预计页数: 1\n"
     ]
    },
    {
     "name": "stderr",
     "output_type": "stream",
     "text": [
      "分页获取: 100%|██████████| 1/1 [00:02<00:00,  2.04s/it]\n",
      "处理参考文献 https://openalex.org/W2991700435: 100%|██████████| 16/16 [00:18<00:00,  1.15s/it]\n"
     ]
    },
    {
     "name": "stdout",
     "output_type": "stream",
     "text": [
      "开始处理论文 https://openalex.org/W2991700435，总被引: 22，预计页数: 1\n"
     ]
    },
    {
     "name": "stderr",
     "output_type": "stream",
     "text": [
      "分页获取: 100%|██████████| 1/1 [00:01<00:00,  1.97s/it]\n",
      "处理参考文献 https://openalex.org/W4318460921: 100%|██████████| 43/43 [00:48<00:00,  1.13s/it]\n"
     ]
    },
    {
     "name": "stdout",
     "output_type": "stream",
     "text": [
      "开始处理论文 https://openalex.org/W4318460921，总被引: 15，预计页数: 1\n"
     ]
    },
    {
     "name": "stderr",
     "output_type": "stream",
     "text": [
      "分页获取: 100%|██████████| 1/1 [00:01<00:00,  1.69s/it]\n",
      "处理参考文献 https://openalex.org/W4385163663: 100%|██████████| 48/48 [00:55<00:00,  1.15s/it]\n"
     ]
    },
    {
     "name": "stdout",
     "output_type": "stream",
     "text": [
      "开始处理论文 https://openalex.org/W4385163663，总被引: 11，预计页数: 1\n"
     ]
    },
    {
     "name": "stderr",
     "output_type": "stream",
     "text": [
      "分页获取: 100%|██████████| 1/1 [00:01<00:00,  1.81s/it]\n",
      "处理种子论文:  14%|█▍        | 266/1849 [4:28:21<15:32:32, 35.35s/it]"
     ]
    },
    {
     "name": "stdout",
     "output_type": "stream",
     "text": [
      "已保存临时结果\n"
     ]
    },
    {
     "name": "stderr",
     "output_type": "stream",
     "text": [
      "处理参考文献 https://openalex.org/W4366538285: 100%|██████████| 17/17 [00:19<00:00,  1.13s/it]\n"
     ]
    },
    {
     "name": "stdout",
     "output_type": "stream",
     "text": [
      "开始处理论文 https://openalex.org/W4366538285，总被引: 24，预计页数: 1\n"
     ]
    },
    {
     "name": "stderr",
     "output_type": "stream",
     "text": [
      "分页获取: 100%|██████████| 1/1 [00:02<00:00,  2.06s/it]\n",
      "处理参考文献 https://openalex.org/W4406763555: 100%|██████████| 45/45 [00:49<00:00,  1.11s/it]\n",
      "处理参考文献 https://openalex.org/W4393405308: 100%|██████████| 35/35 [00:40<00:00,  1.15s/it]\n"
     ]
    },
    {
     "name": "stdout",
     "output_type": "stream",
     "text": [
      "开始处理论文 https://openalex.org/W4393405308，总被引: 19，预计页数: 1\n"
     ]
    },
    {
     "name": "stderr",
     "output_type": "stream",
     "text": [
      "分页获取: 100%|██████████| 1/1 [00:01<00:00,  1.72s/it]\n",
      "处理参考文献 https://openalex.org/W4212852473: 100%|██████████| 31/31 [00:36<00:00,  1.19s/it]\n"
     ]
    },
    {
     "name": "stdout",
     "output_type": "stream",
     "text": [
      "开始处理论文 https://openalex.org/W4212852473，总被引: 18，预计页数: 1\n"
     ]
    },
    {
     "name": "stderr",
     "output_type": "stream",
     "text": [
      "分页获取: 100%|██████████| 1/1 [00:02<00:00,  2.69s/it]\n",
      "处理参考文献 https://openalex.org/W2890397306: 100%|██████████| 8/8 [00:09<00:00,  1.16s/it]\n"
     ]
    },
    {
     "name": "stdout",
     "output_type": "stream",
     "text": [
      "开始处理论文 https://openalex.org/W2890397306，总被引: 26，预计页数: 1\n"
     ]
    },
    {
     "name": "stderr",
     "output_type": "stream",
     "text": [
      "分页获取: 100%|██████████| 1/1 [00:01<00:00,  1.78s/it]\n",
      "处理种子论文:  15%|█▍        | 271/1849 [4:31:08<13:53:59, 31.71s/it]"
     ]
    },
    {
     "name": "stdout",
     "output_type": "stream",
     "text": [
      "已保存临时结果\n"
     ]
    },
    {
     "name": "stderr",
     "output_type": "stream",
     "text": [
      "处理参考文献 https://openalex.org/W2621071254: 100%|██████████| 8/8 [00:09<00:00,  1.15s/it]\n"
     ]
    },
    {
     "name": "stdout",
     "output_type": "stream",
     "text": [
      "开始处理论文 https://openalex.org/W2621071254，总被引: 16，预计页数: 1\n"
     ]
    },
    {
     "name": "stderr",
     "output_type": "stream",
     "text": [
      "分页获取: 100%|██████████| 1/1 [00:01<00:00,  1.72s/it]\n",
      "处理参考文献 https://openalex.org/W4366760064: 100%|██████████| 32/32 [00:37<00:00,  1.19s/it]\n"
     ]
    },
    {
     "name": "stdout",
     "output_type": "stream",
     "text": [
      "开始处理论文 https://openalex.org/W4366760064，总被引: 17，预计页数: 1\n"
     ]
    },
    {
     "name": "stderr",
     "output_type": "stream",
     "text": [
      "分页获取: 100%|██████████| 1/1 [00:02<00:00,  2.15s/it]\n",
      "处理参考文献 https://openalex.org/W4366404608: 100%|██████████| 8/8 [00:08<00:00,  1.11s/it]\n"
     ]
    },
    {
     "name": "stdout",
     "output_type": "stream",
     "text": [
      "开始处理论文 https://openalex.org/W4366404608，总被引: 26，预计页数: 1\n"
     ]
    },
    {
     "name": "stderr",
     "output_type": "stream",
     "text": [
      "分页获取: 100%|██████████| 1/1 [00:02<00:00,  2.11s/it]\n",
      "处理种子论文:  15%|█▍        | 274/1849 [4:32:11<10:40:00, 24.38s/it]"
     ]
    },
    {
     "name": "stdout",
     "output_type": "stream",
     "text": [
      "警告: 论文 https://openalex.org/W4366404608 应获取 26 条，实际获取 29 条\n"
     ]
    },
    {
     "name": "stderr",
     "output_type": "stream",
     "text": [
      "处理参考文献 https://openalex.org/W4286452857: 100%|██████████| 22/22 [00:24<00:00,  1.14s/it]\n"
     ]
    },
    {
     "name": "stdout",
     "output_type": "stream",
     "text": [
      "开始处理论文 https://openalex.org/W4286452857，总被引: 19，预计页数: 1\n"
     ]
    },
    {
     "name": "stderr",
     "output_type": "stream",
     "text": [
      "分页获取: 100%|██████████| 1/1 [00:01<00:00,  1.64s/it]\n",
      "处理种子论文:  15%|█▍        | 275/1849 [4:32:37<10:57:18, 25.06s/it]"
     ]
    },
    {
     "name": "stdout",
     "output_type": "stream",
     "text": [
      "开始处理论文 https://openalex.org/W3039165045，总被引: 11，预计页数: 1\n"
     ]
    },
    {
     "name": "stderr",
     "output_type": "stream",
     "text": [
      "分页获取: 100%|██████████| 1/1 [00:01<00:00,  1.68s/it]\n",
      "处理种子论文:  15%|█▍        | 276/1849 [4:32:42<8:22:46, 19.18s/it] "
     ]
    },
    {
     "name": "stdout",
     "output_type": "stream",
     "text": [
      "已保存临时结果\n",
      "开始处理论文 https://openalex.org/W3123286026，总被引: 27，预计页数: 1\n"
     ]
    },
    {
     "name": "stderr",
     "output_type": "stream",
     "text": [
      "分页获取: 100%|██████████| 1/1 [00:02<00:00,  2.14s/it]\n",
      "处理参考文献 https://openalex.org/W4407167293: 100%|██████████| 97/97 [01:52<00:00,  1.16s/it]\n",
      "处理参考文献 https://openalex.org/W4225004004: 100%|██████████| 24/24 [00:26<00:00,  1.12s/it]\n"
     ]
    },
    {
     "name": "stdout",
     "output_type": "stream",
     "text": [
      "开始处理论文 https://openalex.org/W4225004004，总被引: 12，预计页数: 1\n"
     ]
    },
    {
     "name": "stderr",
     "output_type": "stream",
     "text": [
      "分页获取: 100%|██████████| 1/1 [00:01<00:00,  1.70s/it]\n",
      "处理种子论文:  15%|█▌        | 280/1849 [4:35:05<14:48:59, 34.00s/it]"
     ]
    },
    {
     "name": "stdout",
     "output_type": "stream",
     "text": [
      "警告: 论文 https://openalex.org/W4225004004 应获取 12 条，实际获取 13 条\n"
     ]
    },
    {
     "name": "stderr",
     "output_type": "stream",
     "text": [
      "处理参考文献 https://openalex.org/W4399717054: 100%|██████████| 6/6 [00:06<00:00,  1.11s/it]\n",
      "处理种子论文:  15%|█▌        | 281/1849 [4:35:16<12:00:03, 27.55s/it]"
     ]
    },
    {
     "name": "stdout",
     "output_type": "stream",
     "text": [
      "已保存临时结果\n"
     ]
    },
    {
     "name": "stderr",
     "output_type": "stream",
     "text": [
      "处理参考文献 https://openalex.org/W3196284517: 100%|██████████| 113/113 [02:12<00:00,  1.17s/it]\n"
     ]
    },
    {
     "name": "stdout",
     "output_type": "stream",
     "text": [
      "开始处理论文 https://openalex.org/W3196284517，总被引: 18，预计页数: 1\n"
     ]
    },
    {
     "name": "stderr",
     "output_type": "stream",
     "text": [
      "分页获取: 100%|██████████| 1/1 [00:01<00:00,  1.97s/it]\n",
      "处理参考文献 https://openalex.org/W4399323027: 100%|██████████| 32/32 [00:34<00:00,  1.09s/it]\n",
      "处理参考文献 https://openalex.org/W4387958955: 100%|██████████| 23/23 [00:26<00:00,  1.17s/it]\n",
      "处理参考文献 https://openalex.org/W2888011899: 100%|██████████| 9/9 [00:10<00:00,  1.13s/it]\n"
     ]
    },
    {
     "name": "stdout",
     "output_type": "stream",
     "text": [
      "开始处理论文 https://openalex.org/W2888011899，总被引: 7，预计页数: 1\n"
     ]
    },
    {
     "name": "stderr",
     "output_type": "stream",
     "text": [
      "分页获取: 100%|██████████| 1/1 [00:01<00:00,  1.72s/it]\n",
      "处理种子论文:  15%|█▌        | 286/1849 [4:38:47<11:58:56, 27.60s/it]"
     ]
    },
    {
     "name": "stdout",
     "output_type": "stream",
     "text": [
      "已保存临时结果\n"
     ]
    },
    {
     "name": "stderr",
     "output_type": "stream",
     "text": [
      "处理参考文献 https://openalex.org/W2891915267: 100%|██████████| 3/3 [00:03<00:00,  1.12s/it]\n"
     ]
    },
    {
     "name": "stdout",
     "output_type": "stream",
     "text": [
      "开始处理论文 https://openalex.org/W2891915267，总被引: 29，预计页数: 1\n"
     ]
    },
    {
     "name": "stderr",
     "output_type": "stream",
     "text": [
      "分页获取: 100%|██████████| 1/1 [00:01<00:00,  1.99s/it]\n",
      "处理种子论文:  16%|█▌        | 287/1849 [4:38:53<9:37:04, 22.17s/it] "
     ]
    },
    {
     "name": "stdout",
     "output_type": "stream",
     "text": [
      "开始处理论文 https://openalex.org/W4385776110，总被引: 16，预计页数: 1\n"
     ]
    },
    {
     "name": "stderr",
     "output_type": "stream",
     "text": [
      "分页获取: 100%|██████████| 1/1 [00:01<00:00,  1.72s/it]\n",
      "处理参考文献 https://openalex.org/W4309212331: 100%|██████████| 87/87 [01:38<00:00,  1.13s/it]\n"
     ]
    },
    {
     "name": "stdout",
     "output_type": "stream",
     "text": [
      "开始处理论文 https://openalex.org/W4309212331，总被引: 16，预计页数: 1\n"
     ]
    },
    {
     "name": "stderr",
     "output_type": "stream",
     "text": [
      "分页获取: 100%|██████████| 1/1 [00:01<00:00,  1.79s/it]\n",
      "处理参考文献 https://openalex.org/W4283777199: 100%|██████████| 15/15 [00:16<00:00,  1.12s/it]\n"
     ]
    },
    {
     "name": "stdout",
     "output_type": "stream",
     "text": [
      "开始处理论文 https://openalex.org/W4283777199，总被引: 18，预计页数: 1\n"
     ]
    },
    {
     "name": "stderr",
     "output_type": "stream",
     "text": [
      "分页获取: 100%|██████████| 1/1 [00:01<00:00,  1.72s/it]\n",
      "处理种子论文:  16%|█▌        | 290/1849 [4:40:53<14:31:12, 33.53s/it]"
     ]
    },
    {
     "name": "stdout",
     "output_type": "stream",
     "text": [
      "警告: 论文 https://openalex.org/W4283777199 应获取 18 条，实际获取 19 条\n"
     ]
    },
    {
     "name": "stderr",
     "output_type": "stream",
     "text": [
      "处理种子论文:  16%|█▌        | 291/1849 [4:40:57<10:49:42, 25.02s/it]"
     ]
    },
    {
     "name": "stdout",
     "output_type": "stream",
     "text": [
      "已保存临时结果\n"
     ]
    },
    {
     "name": "stderr",
     "output_type": "stream",
     "text": [
      "处理参考文献 https://openalex.org/W4221040219: 100%|██████████| 156/156 [02:57<00:00,  1.14s/it]\n"
     ]
    },
    {
     "name": "stdout",
     "output_type": "stream",
     "text": [
      "开始处理论文 https://openalex.org/W4221040219，总被引: 18，预计页数: 1\n"
     ]
    },
    {
     "name": "stderr",
     "output_type": "stream",
     "text": [
      "分页获取: 100%|██████████| 1/1 [00:01<00:00,  1.97s/it]\n",
      "处理参考文献 https://openalex.org/W2227119543: 100%|██████████| 54/54 [01:04<00:00,  1.19s/it]\n"
     ]
    },
    {
     "name": "stdout",
     "output_type": "stream",
     "text": [
      "开始处理论文 https://openalex.org/W2227119543，总被引: 26，预计页数: 1\n"
     ]
    },
    {
     "name": "stderr",
     "output_type": "stream",
     "text": [
      "分页获取: 100%|██████████| 1/1 [00:02<00:00,  2.14s/it]\n",
      "处理参考文献 https://openalex.org/W4368364654: 100%|██████████| 23/23 [00:25<00:00,  1.12s/it]\n",
      "处理参考文献 https://openalex.org/W3145806017: 100%|██████████| 17/17 [00:19<00:00,  1.18s/it]\n"
     ]
    },
    {
     "name": "stdout",
     "output_type": "stream",
     "text": [
      "开始处理论文 https://openalex.org/W3145806017，总被引: 18，预计页数: 1\n"
     ]
    },
    {
     "name": "stderr",
     "output_type": "stream",
     "text": [
      "分页获取: 100%|██████████| 1/1 [00:01<00:00,  1.85s/it]\n",
      "处理种子论文:  16%|█▌        | 296/1849 [4:45:53<15:37:57, 36.24s/it]"
     ]
    },
    {
     "name": "stdout",
     "output_type": "stream",
     "text": [
      "已保存临时结果\n"
     ]
    },
    {
     "name": "stderr",
     "output_type": "stream",
     "text": [
      "处理参考文献 https://openalex.org/W2961371223: 100%|██████████| 8/8 [00:08<00:00,  1.09s/it]\n"
     ]
    },
    {
     "name": "stdout",
     "output_type": "stream",
     "text": [
      "开始处理论文 https://openalex.org/W2961371223，总被引: 8，预计页数: 1\n"
     ]
    },
    {
     "name": "stderr",
     "output_type": "stream",
     "text": [
      "分页获取: 100%|██████████| 1/1 [00:01<00:00,  1.73s/it]\n",
      "处理种子论文:  16%|█▌        | 297/1849 [4:46:04<12:53:18, 29.90s/it]"
     ]
    },
    {
     "name": "stdout",
     "output_type": "stream",
     "text": [
      "开始处理论文 https://openalex.org/W4386639203，总被引: 1，预计页数: 1\n"
     ]
    },
    {
     "name": "stderr",
     "output_type": "stream",
     "text": [
      "分页获取: 100%|██████████| 1/1 [00:01<00:00,  1.52s/it]\n",
      "处理参考文献 https://openalex.org/W4403172203: 100%|██████████| 37/37 [00:41<00:00,  1.11s/it]\n",
      "处理参考文献 https://openalex.org/W3040282630: 100%|██████████| 36/36 [00:38<00:00,  1.07s/it]\n"
     ]
    },
    {
     "name": "stdout",
     "output_type": "stream",
     "text": [
      "开始处理论文 https://openalex.org/W3040282630，总被引: 17，预计页数: 1\n"
     ]
    },
    {
     "name": "stderr",
     "output_type": "stream",
     "text": [
      "分页获取: 100%|██████████| 1/1 [00:01<00:00,  1.82s/it]\n",
      "处理种子论文:  16%|█▋        | 301/1849 [4:47:31<10:49:06, 25.16s/it]"
     ]
    },
    {
     "name": "stdout",
     "output_type": "stream",
     "text": [
      "已保存临时结果\n"
     ]
    },
    {
     "name": "stderr",
     "output_type": "stream",
     "text": [
      "处理参考文献 https://openalex.org/W3099830605: 100%|██████████| 54/54 [01:01<00:00,  1.15s/it]\n"
     ]
    },
    {
     "name": "stdout",
     "output_type": "stream",
     "text": [
      "开始处理论文 https://openalex.org/W3099830605，总被引: 9，预计页数: 1\n"
     ]
    },
    {
     "name": "stderr",
     "output_type": "stream",
     "text": [
      "分页获取: 100%|██████████| 1/1 [00:01<00:00,  1.72s/it]\n",
      "处理参考文献 https://openalex.org/W3208522983: 100%|██████████| 93/93 [01:46<00:00,  1.14s/it]\n"
     ]
    },
    {
     "name": "stdout",
     "output_type": "stream",
     "text": [
      "开始处理论文 https://openalex.org/W3208522983，总被引: 31，预计页数: 1\n"
     ]
    },
    {
     "name": "stderr",
     "output_type": "stream",
     "text": [
      "分页获取: 100%|██████████| 1/1 [00:02<00:00,  2.30s/it]\n",
      "处理种子论文:  16%|█▋        | 303/1849 [4:50:23<22:49:14, 53.14s/it]"
     ]
    },
    {
     "name": "stdout",
     "output_type": "stream",
     "text": [
      "警告: 论文 https://openalex.org/W3208522983 应获取 31 条，实际获取 32 条\n"
     ]
    },
    {
     "name": "stderr",
     "output_type": "stream",
     "text": [
      "处理参考文献 https://openalex.org/W4378908589: 100%|██████████| 50/50 [00:57<00:00,  1.14s/it]\n"
     ]
    },
    {
     "name": "stdout",
     "output_type": "stream",
     "text": [
      "开始处理论文 https://openalex.org/W4378908589，总被引: 9，预计页数: 1\n"
     ]
    },
    {
     "name": "stderr",
     "output_type": "stream",
     "text": [
      "分页获取: 100%|██████████| 1/1 [00:01<00:00,  1.79s/it]\n",
      "处理参考文献 https://openalex.org/W4386494262: 100%|██████████| 12/12 [00:14<00:00,  1.20s/it]\n",
      "处理参考文献 https://openalex.org/W4200010713: 100%|██████████| 8/8 [00:09<00:00,  1.15s/it]\n"
     ]
    },
    {
     "name": "stdout",
     "output_type": "stream",
     "text": [
      "开始处理论文 https://openalex.org/W4200010713，总被引: 17，预计页数: 1\n"
     ]
    },
    {
     "name": "stderr",
     "output_type": "stream",
     "text": [
      "分页获取: 100%|██████████| 1/1 [00:01<00:00,  1.73s/it]\n",
      "处理种子论文:  17%|█▋        | 306/1849 [4:51:51<15:11:44, 35.45s/it]"
     ]
    },
    {
     "name": "stdout",
     "output_type": "stream",
     "text": [
      "已保存临时结果\n"
     ]
    },
    {
     "name": "stderr",
     "output_type": "stream",
     "text": [
      "处理参考文献 https://openalex.org/W4323306195: 100%|██████████| 38/38 [00:43<00:00,  1.16s/it]\n"
     ]
    },
    {
     "name": "stdout",
     "output_type": "stream",
     "text": [
      "开始处理论文 https://openalex.org/W4323306195，总被引: 18，预计页数: 1\n"
     ]
    },
    {
     "name": "stderr",
     "output_type": "stream",
     "text": [
      "分页获取: 100%|██████████| 1/1 [00:01<00:00,  1.68s/it]\n",
      "处理参考文献 https://openalex.org/W2986700191: 100%|██████████| 2/2 [00:02<00:00,  1.11s/it]\n"
     ]
    },
    {
     "name": "stdout",
     "output_type": "stream",
     "text": [
      "开始处理论文 https://openalex.org/W2986700191，总被引: 8，预计页数: 1\n"
     ]
    },
    {
     "name": "stderr",
     "output_type": "stream",
     "text": [
      "分页获取: 100%|██████████| 1/1 [00:01<00:00,  1.63s/it]\n",
      "处理参考文献 https://openalex.org/W3201587132: 100%|██████████| 34/34 [00:39<00:00,  1.16s/it]\n"
     ]
    },
    {
     "name": "stdout",
     "output_type": "stream",
     "text": [
      "开始处理论文 https://openalex.org/W3201587132，总被引: 9，预计页数: 1\n"
     ]
    },
    {
     "name": "stderr",
     "output_type": "stream",
     "text": [
      "分页获取: 100%|██████████| 1/1 [00:01<00:00,  1.66s/it]\n",
      "处理种子论文:  17%|█▋        | 309/1849 [4:53:22<13:43:55, 32.10s/it]"
     ]
    },
    {
     "name": "stdout",
     "output_type": "stream",
     "text": [
      "开始处理论文 https://openalex.org/W4285163285，总被引: 18，预计页数: 1\n"
     ]
    },
    {
     "name": "stderr",
     "output_type": "stream",
     "text": [
      "分页获取: 100%|██████████| 1/1 [00:02<00:00,  2.10s/it]\n",
      "处理参考文献 https://openalex.org/W4285138359: 100%|██████████| 38/38 [00:42<00:00,  1.11s/it]\n"
     ]
    },
    {
     "name": "stdout",
     "output_type": "stream",
     "text": [
      "开始处理论文 https://openalex.org/W4285138359，总被引: 13，预计页数: 1\n"
     ]
    },
    {
     "name": "stderr",
     "output_type": "stream",
     "text": [
      "分页获取: 100%|██████████| 1/1 [00:01<00:00,  1.73s/it]\n",
      "处理种子论文:  17%|█▋        | 311/1849 [4:54:11<13:01:12, 30.48s/it]"
     ]
    },
    {
     "name": "stdout",
     "output_type": "stream",
     "text": [
      "已保存临时结果\n"
     ]
    },
    {
     "name": "stderr",
     "output_type": "stream",
     "text": [
      "处理参考文献 https://openalex.org/W4304182460: 100%|██████████| 102/102 [01:55<00:00,  1.13s/it]\n"
     ]
    },
    {
     "name": "stdout",
     "output_type": "stream",
     "text": [
      "开始处理论文 https://openalex.org/W4304182460，总被引: 22，预计页数: 1\n"
     ]
    },
    {
     "name": "stderr",
     "output_type": "stream",
     "text": [
      "分页获取: 100%|██████████| 1/1 [00:02<00:00,  2.13s/it]\n",
      "处理参考文献 https://openalex.org/W4200506939: 100%|██████████| 16/16 [00:19<00:00,  1.20s/it]\n"
     ]
    },
    {
     "name": "stdout",
     "output_type": "stream",
     "text": [
      "开始处理论文 https://openalex.org/W4200506939，总被引: 16，预计页数: 1\n"
     ]
    },
    {
     "name": "stderr",
     "output_type": "stream",
     "text": [
      "分页获取: 100%|██████████| 1/1 [00:01<00:00,  1.65s/it]\n",
      "处理种子论文:  17%|█▋        | 313/1849 [4:56:30<19:31:58, 45.78s/it]"
     ]
    },
    {
     "name": "stdout",
     "output_type": "stream",
     "text": [
      "警告: 论文 https://openalex.org/W4200506939 应获取 16 条，实际获取 17 条\n"
     ]
    },
    {
     "name": "stderr",
     "output_type": "stream",
     "text": [
      "处理参考文献 https://openalex.org/W4391573023: 100%|██████████| 12/12 [00:14<00:00,  1.24s/it]\n"
     ]
    },
    {
     "name": "stdout",
     "output_type": "stream",
     "text": [
      "开始处理论文 https://openalex.org/W4391573023，总被引: 24，预计页数: 1\n"
     ]
    },
    {
     "name": "stderr",
     "output_type": "stream",
     "text": [
      "分页获取: 100%|██████████| 1/1 [00:01<00:00,  1.82s/it]\n",
      "处理种子论文:  17%|█▋        | 314/1849 [4:56:46<15:49:15, 37.10s/it]"
     ]
    },
    {
     "name": "stdout",
     "output_type": "stream",
     "text": [
      "警告: 论文 https://openalex.org/W4391573023 应获取 24 条，实际获取 26 条\n",
      "开始处理论文 https://openalex.org/W3157002053，总被引: 29，预计页数: 1\n"
     ]
    },
    {
     "name": "stderr",
     "output_type": "stream",
     "text": [
      "分页获取: 100%|██████████| 1/1 [00:02<00:00,  2.17s/it]\n",
      "处理参考文献 https://openalex.org/W4399769950: 100%|██████████| 9/9 [00:10<00:00,  1.15s/it]\n",
      "处理种子论文:  17%|█▋        | 316/1849 [4:57:03<9:45:32, 22.92s/it] "
     ]
    },
    {
     "name": "stdout",
     "output_type": "stream",
     "text": [
      "已保存临时结果\n"
     ]
    },
    {
     "name": "stderr",
     "output_type": "stream",
     "text": [
      "处理参考文献 https://openalex.org/W4392740847: 100%|██████████| 12/12 [00:14<00:00,  1.19s/it]\n"
     ]
    },
    {
     "name": "stdout",
     "output_type": "stream",
     "text": [
      "开始处理论文 https://openalex.org/W4392740847，总被引: 25，预计页数: 1\n"
     ]
    },
    {
     "name": "stderr",
     "output_type": "stream",
     "text": [
      "分页获取: 100%|██████████| 1/1 [00:02<00:00,  2.11s/it]\n",
      "处理参考文献 https://openalex.org/W4385164698: 100%|██████████| 25/25 [00:28<00:00,  1.14s/it]\n"
     ]
    },
    {
     "name": "stdout",
     "output_type": "stream",
     "text": [
      "开始处理论文 https://openalex.org/W4385164698，总被引: 8，预计页数: 1\n"
     ]
    },
    {
     "name": "stderr",
     "output_type": "stream",
     "text": [
      "分页获取: 100%|██████████| 1/1 [00:01<00:00,  1.63s/it]\n",
      "处理种子论文:  17%|█▋        | 318/1849 [4:57:49<10:05:44, 23.74s/it]"
     ]
    },
    {
     "name": "stdout",
     "output_type": "stream",
     "text": [
      "开始处理论文 https://openalex.org/W4403658469，总被引: 18，预计页数: 1\n"
     ]
    },
    {
     "name": "stderr",
     "output_type": "stream",
     "text": [
      "分页获取: 100%|██████████| 1/1 [00:01<00:00,  1.75s/it]\n",
      "处理参考文献 https://openalex.org/W4379385691: 100%|██████████| 89/89 [01:39<00:00,  1.11s/it]\n"
     ]
    },
    {
     "name": "stdout",
     "output_type": "stream",
     "text": [
      "开始处理论文 https://openalex.org/W4379385691，总被引: 13，预计页数: 1\n"
     ]
    },
    {
     "name": "stderr",
     "output_type": "stream",
     "text": [
      "分页获取: 100%|██████████| 1/1 [00:01<00:00,  1.73s/it]\n",
      "处理种子论文:  17%|█▋        | 321/1849 [4:59:36<13:02:44, 30.74s/it]"
     ]
    },
    {
     "name": "stdout",
     "output_type": "stream",
     "text": [
      "已保存临时结果\n"
     ]
    },
    {
     "name": "stderr",
     "output_type": "stream",
     "text": [
      "处理参考文献 https://openalex.org/W4365503767: 100%|██████████| 76/76 [01:26<00:00,  1.14s/it]\n"
     ]
    },
    {
     "name": "stdout",
     "output_type": "stream",
     "text": [
      "开始处理论文 https://openalex.org/W4365503767，总被引: 17，预计页数: 1\n"
     ]
    },
    {
     "name": "stderr",
     "output_type": "stream",
     "text": [
      "分页获取: 100%|██████████| 1/1 [00:01<00:00,  1.80s/it]\n",
      "处理种子论文:  17%|█▋        | 322/1849 [5:01:05<20:24:51, 48.13s/it]"
     ]
    },
    {
     "name": "stdout",
     "output_type": "stream",
     "text": [
      "开始处理论文 https://openalex.org/W4391062620，总被引: 16，预计页数: 1\n"
     ]
    },
    {
     "name": "stderr",
     "output_type": "stream",
     "text": [
      "分页获取: 100%|██████████| 1/1 [00:01<00:00,  1.82s/it]\n",
      "处理参考文献 https://openalex.org/W4376278198: 100%|██████████| 38/38 [00:44<00:00,  1.17s/it]\n"
     ]
    },
    {
     "name": "stdout",
     "output_type": "stream",
     "text": [
      "开始处理论文 https://openalex.org/W4376278198，总被引: 13，预计页数: 1\n"
     ]
    },
    {
     "name": "stderr",
     "output_type": "stream",
     "text": [
      "分页获取: 100%|██████████| 1/1 [00:01<00:00,  1.93s/it]\n",
      "处理参考文献 https://openalex.org/W4392839128: 100%|██████████| 48/48 [00:53<00:00,  1.11s/it]\n"
     ]
    },
    {
     "name": "stdout",
     "output_type": "stream",
     "text": [
      "开始处理论文 https://openalex.org/W4392839128，总被引: 14，预计页数: 1\n"
     ]
    },
    {
     "name": "stderr",
     "output_type": "stream",
     "text": [
      "分页获取: 100%|██████████| 1/1 [00:01<00:00,  1.74s/it]\n",
      "处理参考文献 https://openalex.org/W3133399089: 100%|██████████| 83/83 [01:33<00:00,  1.12s/it]\n"
     ]
    },
    {
     "name": "stdout",
     "output_type": "stream",
     "text": [
      "开始处理论文 https://openalex.org/W3133399089，总被引: 10，预计页数: 1\n"
     ]
    },
    {
     "name": "stderr",
     "output_type": "stream",
     "text": [
      "分页获取: 100%|██████████| 1/1 [00:01<00:00,  1.80s/it]\n",
      "处理种子论文:  18%|█▊        | 326/1849 [5:04:27<25:15:40, 59.71s/it]"
     ]
    },
    {
     "name": "stdout",
     "output_type": "stream",
     "text": [
      "已保存临时结果\n"
     ]
    },
    {
     "name": "stderr",
     "output_type": "stream",
     "text": [
      "处理参考文献 https://openalex.org/W2767220178: 100%|██████████| 35/35 [00:39<00:00,  1.14s/it]\n"
     ]
    },
    {
     "name": "stdout",
     "output_type": "stream",
     "text": [
      "开始处理论文 https://openalex.org/W2767220178，总被引: 10，预计页数: 1\n"
     ]
    },
    {
     "name": "stderr",
     "output_type": "stream",
     "text": [
      "分页获取: 100%|██████████| 1/1 [00:01<00:00,  1.79s/it]\n",
      "处理参考文献 https://openalex.org/W4318485499: 100%|██████████| 25/25 [00:29<00:00,  1.17s/it]\n"
     ]
    },
    {
     "name": "stdout",
     "output_type": "stream",
     "text": [
      "开始处理论文 https://openalex.org/W4318485499，总被引: 11，预计页数: 1\n"
     ]
    },
    {
     "name": "stderr",
     "output_type": "stream",
     "text": [
      "分页获取: 100%|██████████| 1/1 [00:01<00:00,  1.64s/it]\n",
      "处理参考文献 https://openalex.org/W4389266097: 100%|██████████| 35/35 [00:40<00:00,  1.15s/it]\n"
     ]
    },
    {
     "name": "stdout",
     "output_type": "stream",
     "text": [
      "开始处理论文 https://openalex.org/W4389266097，总被引: 24，预计页数: 1\n"
     ]
    },
    {
     "name": "stderr",
     "output_type": "stream",
     "text": [
      "分页获取: 100%|██████████| 1/1 [00:02<00:00,  2.15s/it]\n",
      "处理参考文献 https://openalex.org/W4396911828: 100%|██████████| 24/24 [00:27<00:00,  1.14s/it]\n"
     ]
    },
    {
     "name": "stdout",
     "output_type": "stream",
     "text": [
      "开始处理论文 https://openalex.org/W4396911828，总被引: 19，预计页数: 1\n"
     ]
    },
    {
     "name": "stderr",
     "output_type": "stream",
     "text": [
      "分页获取: 100%|██████████| 1/1 [00:02<00:00,  2.35s/it]\n",
      "处理参考文献 https://openalex.org/W2977106552: 100%|██████████| 6/6 [00:07<00:00,  1.20s/it]\n"
     ]
    },
    {
     "name": "stdout",
     "output_type": "stream",
     "text": [
      "开始处理论文 https://openalex.org/W2977106552，总被引: 21，预计页数: 1\n"
     ]
    },
    {
     "name": "stderr",
     "output_type": "stream",
     "text": [
      "分页获取: 100%|██████████| 1/1 [00:01<00:00,  1.72s/it]\n",
      "处理种子论文:  18%|█▊        | 331/1849 [5:07:04<13:43:44, 32.56s/it]"
     ]
    },
    {
     "name": "stdout",
     "output_type": "stream",
     "text": [
      "已保存临时结果\n"
     ]
    },
    {
     "name": "stderr",
     "output_type": "stream",
     "text": [
      "处理参考文献 https://openalex.org/W4392620564: 100%|██████████| 65/65 [01:14<00:00,  1.14s/it]\n"
     ]
    },
    {
     "name": "stdout",
     "output_type": "stream",
     "text": [
      "开始处理论文 https://openalex.org/W4392620564，总被引: 32，预计页数: 1\n"
     ]
    },
    {
     "name": "stderr",
     "output_type": "stream",
     "text": [
      "分页获取: 100%|██████████| 1/1 [00:02<00:00,  2.09s/it]\n",
      "处理参考文献 https://openalex.org/W2142431034: 100%|██████████| 36/36 [00:41<00:00,  1.17s/it]\n"
     ]
    },
    {
     "name": "stdout",
     "output_type": "stream",
     "text": [
      "开始处理论文 https://openalex.org/W2142431034，总被引: 16，预计页数: 1\n"
     ]
    },
    {
     "name": "stderr",
     "output_type": "stream",
     "text": [
      "分页获取: 100%|██████████| 1/1 [00:01<00:00,  1.78s/it]\n",
      "处理参考文献 https://openalex.org/W4293040270: 100%|██████████| 5/5 [00:05<00:00,  1.12s/it]\n"
     ]
    },
    {
     "name": "stdout",
     "output_type": "stream",
     "text": [
      "开始处理论文 https://openalex.org/W4293040270，总被引: 6，预计页数: 1\n"
     ]
    },
    {
     "name": "stderr",
     "output_type": "stream",
     "text": [
      "分页获取: 100%|██████████| 1/1 [00:01<00:00,  1.71s/it]\n",
      "处理参考文献 https://openalex.org/W3066034534: 100%|██████████| 7/7 [00:07<00:00,  1.11s/it]\n"
     ]
    },
    {
     "name": "stdout",
     "output_type": "stream",
     "text": [
      "开始处理论文 https://openalex.org/W3066034534，总被引: 8，预计页数: 1\n"
     ]
    },
    {
     "name": "stderr",
     "output_type": "stream",
     "text": [
      "分页获取: 100%|██████████| 1/1 [00:01<00:00,  1.70s/it]\n",
      "处理参考文献 https://openalex.org/W4389508302: 100%|██████████| 25/25 [00:29<00:00,  1.18s/it]\n",
      "处理种子论文:  18%|█▊        | 336/1849 [5:09:55<12:00:57, 28.59s/it]"
     ]
    },
    {
     "name": "stdout",
     "output_type": "stream",
     "text": [
      "已保存临时结果\n"
     ]
    },
    {
     "name": "stderr",
     "output_type": "stream",
     "text": [
      "处理参考文献 https://openalex.org/W2968037914: 100%|██████████| 58/58 [01:05<00:00,  1.14s/it]\n"
     ]
    },
    {
     "name": "stdout",
     "output_type": "stream",
     "text": [
      "开始处理论文 https://openalex.org/W2968037914，总被引: 22，预计页数: 1\n"
     ]
    },
    {
     "name": "stderr",
     "output_type": "stream",
     "text": [
      "分页获取: 100%|██████████| 1/1 [00:01<00:00,  1.96s/it]\n",
      "处理种子论文:  18%|█▊        | 337/1849 [5:11:02<16:57:22, 40.37s/it]"
     ]
    },
    {
     "name": "stdout",
     "output_type": "stream",
     "text": [
      "获取论文W4390665742时出错：('Connection aborted.', ConnectionResetError(10054, 'An existing connection was forcibly closed by the remote host', None, 10054, None))\n"
     ]
    },
    {
     "name": "stderr",
     "output_type": "stream",
     "text": [
      "处理参考文献 https://openalex.org/W4392643703: 100%|██████████| 50/50 [01:02<00:00,  1.25s/it]\n"
     ]
    },
    {
     "name": "stdout",
     "output_type": "stream",
     "text": [
      "开始处理论文 https://openalex.org/W4392643703，总被引: 13，预计页数: 1\n"
     ]
    },
    {
     "name": "stderr",
     "output_type": "stream",
     "text": [
      "分页获取: 100%|██████████| 1/1 [00:01<00:00,  1.65s/it]\n",
      "处理种子论文:  18%|█▊        | 338/1849 [5:12:07<19:56:11, 47.50s/it]"
     ]
    },
    {
     "name": "stdout",
     "output_type": "stream",
     "text": [
      "警告: 论文 https://openalex.org/W4392643703 应获取 13 条，实际获取 14 条\n"
     ]
    },
    {
     "name": "stderr",
     "output_type": "stream",
     "text": [
      "处理参考文献 https://openalex.org/W4391321540: 100%|██████████| 55/55 [01:04<00:00,  1.17s/it]\n"
     ]
    },
    {
     "name": "stdout",
     "output_type": "stream",
     "text": [
      "开始处理论文 https://openalex.org/W4391321540，总被引: 45，预计页数: 1\n"
     ]
    },
    {
     "name": "stderr",
     "output_type": "stream",
     "text": [
      "分页获取: 100%|██████████| 1/1 [00:02<00:00,  2.34s/it]\n",
      "处理参考文献 https://openalex.org/W4281684141: 100%|██████████| 14/14 [00:15<00:00,  1.12s/it]\n"
     ]
    },
    {
     "name": "stdout",
     "output_type": "stream",
     "text": [
      "开始处理论文 https://openalex.org/W4281684141，总被引: 13，预计页数: 1\n"
     ]
    },
    {
     "name": "stderr",
     "output_type": "stream",
     "text": [
      "分页获取: 100%|██████████| 1/1 [00:01<00:00,  1.80s/it]\n",
      "处理种子论文:  18%|█▊        | 340/1849 [5:13:31<17:48:45, 42.50s/it]"
     ]
    },
    {
     "name": "stdout",
     "output_type": "stream",
     "text": [
      "开始处理论文 https://openalex.org/W4230523833，总被引: 14，预计页数: 1\n"
     ]
    },
    {
     "name": "stderr",
     "output_type": "stream",
     "text": [
      "分页获取: 100%|██████████| 1/1 [00:01<00:00,  1.91s/it]\n",
      "处理种子论文:  18%|█▊        | 341/1849 [5:13:36<13:12:12, 31.52s/it]"
     ]
    },
    {
     "name": "stdout",
     "output_type": "stream",
     "text": [
      "已保存临时结果\n"
     ]
    },
    {
     "name": "stderr",
     "output_type": "stream",
     "text": [
      "处理参考文献 https://openalex.org/W3143409530: 100%|██████████| 21/21 [00:24<00:00,  1.16s/it]\n"
     ]
    },
    {
     "name": "stdout",
     "output_type": "stream",
     "text": [
      "开始处理论文 https://openalex.org/W3143409530，总被引: 17，预计页数: 1\n"
     ]
    },
    {
     "name": "stderr",
     "output_type": "stream",
     "text": [
      "分页获取: 100%|██████████| 1/1 [00:01<00:00,  1.81s/it]\n",
      "处理参考文献 https://openalex.org/W4200535672: 100%|██████████| 60/60 [01:12<00:00,  1.21s/it]\n"
     ]
    },
    {
     "name": "stdout",
     "output_type": "stream",
     "text": [
      "开始处理论文 https://openalex.org/W4200535672，总被引: 16，预计页数: 1\n"
     ]
    },
    {
     "name": "stderr",
     "output_type": "stream",
     "text": [
      "分页获取: 100%|██████████| 1/1 [00:02<00:00,  2.07s/it]\n",
      "处理参考文献 https://openalex.org/W4392378164: 100%|██████████| 103/103 [01:57<00:00,  1.14s/it]\n"
     ]
    },
    {
     "name": "stdout",
     "output_type": "stream",
     "text": [
      "开始处理论文 https://openalex.org/W4392378164，总被引: 22，预计页数: 1\n"
     ]
    },
    {
     "name": "stderr",
     "output_type": "stream",
     "text": [
      "分页获取: 100%|██████████| 1/1 [00:01<00:00,  1.68s/it]\n",
      "处理种子论文:  19%|█▊        | 344/1849 [5:17:16<27:36:50, 66.05s/it]"
     ]
    },
    {
     "name": "stdout",
     "output_type": "stream",
     "text": [
      "警告: 论文 https://openalex.org/W4392378164 应获取 22 条，实际获取 23 条\n",
      "开始处理论文 https://openalex.org/W4288825177，总被引: 12，预计页数: 1\n"
     ]
    },
    {
     "name": "stderr",
     "output_type": "stream",
     "text": [
      "分页获取: 100%|██████████| 1/1 [00:01<00:00,  1.67s/it]\n",
      "处理种子论文:  19%|█▊        | 345/1849 [5:17:18<19:31:41, 46.74s/it]"
     ]
    },
    {
     "name": "stdout",
     "output_type": "stream",
     "text": [
      "开始处理论文 https://openalex.org/W4386993481，总被引: 10，预计页数: 1\n"
     ]
    },
    {
     "name": "stderr",
     "output_type": "stream",
     "text": [
      "分页获取: 100%|██████████| 1/1 [00:01<00:00,  1.62s/it]\n",
      "处理种子论文:  19%|█▊        | 346/1849 [5:17:24<14:21:31, 34.39s/it]"
     ]
    },
    {
     "name": "stdout",
     "output_type": "stream",
     "text": [
      "已保存临时结果\n"
     ]
    },
    {
     "name": "stderr",
     "output_type": "stream",
     "text": [
      "处理参考文献 https://openalex.org/W4220963437: 100%|██████████| 15/15 [00:17<00:00,  1.15s/it]\n"
     ]
    },
    {
     "name": "stdout",
     "output_type": "stream",
     "text": [
      "开始处理论文 https://openalex.org/W4220963437，总被引: 13，预计页数: 1\n"
     ]
    },
    {
     "name": "stderr",
     "output_type": "stream",
     "text": [
      "分页获取: 100%|██████████| 1/1 [00:01<00:00,  1.73s/it]\n",
      "处理参考文献 https://openalex.org/W4213432531: 100%|██████████| 15/15 [00:18<00:00,  1.21s/it]\n"
     ]
    },
    {
     "name": "stdout",
     "output_type": "stream",
     "text": [
      "开始处理论文 https://openalex.org/W4213432531，总被引: 22，预计页数: 1\n"
     ]
    },
    {
     "name": "stderr",
     "output_type": "stream",
     "text": [
      "分页获取: 100%|██████████| 1/1 [00:02<00:00,  2.31s/it]\n",
      "处理参考文献 https://openalex.org/W4384571252: 100%|██████████| 2/2 [00:02<00:00,  1.16s/it]\n"
     ]
    },
    {
     "name": "stdout",
     "output_type": "stream",
     "text": [
      "开始处理论文 https://openalex.org/W4384571252，总被引: 9，预计页数: 1\n"
     ]
    },
    {
     "name": "stderr",
     "output_type": "stream",
     "text": [
      "分页获取: 100%|██████████| 1/1 [00:02<00:00,  2.97s/it]\n",
      "处理种子论文:  19%|█▉        | 349/1849 [5:18:08<8:31:49, 20.47s/it] "
     ]
    },
    {
     "name": "stdout",
     "output_type": "stream",
     "text": [
      "开始处理论文 https://openalex.org/W2981013979，总被引: 9，预计页数: 1\n"
     ]
    },
    {
     "name": "stderr",
     "output_type": "stream",
     "text": [
      "分页获取: 100%|██████████| 1/1 [00:01<00:00,  1.83s/it]\n",
      "处理参考文献 https://openalex.org/W4281930683: 100%|██████████| 3/3 [00:03<00:00,  1.23s/it]\n"
     ]
    },
    {
     "name": "stdout",
     "output_type": "stream",
     "text": [
      "开始处理论文 https://openalex.org/W4281930683，总被引: 6，预计页数: 1\n"
     ]
    },
    {
     "name": "stderr",
     "output_type": "stream",
     "text": [
      "分页获取: 100%|██████████| 1/1 [00:01<00:00,  1.77s/it]\n",
      "处理种子论文:  19%|█▉        | 351/1849 [5:18:20<5:31:18, 13.27s/it]"
     ]
    },
    {
     "name": "stdout",
     "output_type": "stream",
     "text": [
      "已保存临时结果\n"
     ]
    },
    {
     "name": "stderr",
     "output_type": "stream",
     "text": []
    },
    {
     "name": "stdout",
     "output_type": "stream",
     "text": [
      "获取论文W4226312371时出错：('Connection aborted.', ConnectionResetError(10054, 'An existing connection was forcibly closed by the remote host', None, 10054, None))\n"
     ]
    },
    {
     "name": "stderr",
     "output_type": "stream",
     "text": [
      "处理参考文献 https://openalex.org/W4391693533: 100%|██████████| 17/17 [00:24<00:00,  1.44s/it]\n"
     ]
    },
    {
     "name": "stdout",
     "output_type": "stream",
     "text": [
      "开始处理论文 https://openalex.org/W4391693533，总被引: 8，预计页数: 1\n"
     ]
    },
    {
     "name": "stderr",
     "output_type": "stream",
     "text": [
      "分页获取: 100%|██████████| 1/1 [00:01<00:00,  1.69s/it]\n",
      "处理参考文献 https://openalex.org/W4283209030: 100%|██████████| 41/41 [00:46<00:00,  1.14s/it]\n"
     ]
    },
    {
     "name": "stdout",
     "output_type": "stream",
     "text": [
      "开始处理论文 https://openalex.org/W4283209030，总被引: 12，预计页数: 1\n"
     ]
    },
    {
     "name": "stderr",
     "output_type": "stream",
     "text": [
      "分页获取: 100%|██████████| 1/1 [00:01<00:00,  1.81s/it]\n",
      "处理参考文献 https://openalex.org/W3181003307: 100%|██████████| 46/46 [00:53<00:00,  1.15s/it]\n"
     ]
    },
    {
     "name": "stdout",
     "output_type": "stream",
     "text": [
      "开始处理论文 https://openalex.org/W3181003307，总被引: 18，预计页数: 1\n"
     ]
    },
    {
     "name": "stderr",
     "output_type": "stream",
     "text": [
      "分页获取: 100%|██████████| 1/1 [00:01<00:00,  1.90s/it]\n",
      "处理参考文献 https://openalex.org/W4313127268: 100%|██████████| 28/28 [00:32<00:00,  1.15s/it]\n"
     ]
    },
    {
     "name": "stdout",
     "output_type": "stream",
     "text": [
      "开始处理论文 https://openalex.org/W4313127268，总被引: 7，预计页数: 1\n"
     ]
    },
    {
     "name": "stderr",
     "output_type": "stream",
     "text": [
      "分页获取: 100%|██████████| 1/1 [00:01<00:00,  1.85s/it]\n",
      "处理参考文献 https://openalex.org/W2995804959: 100%|██████████| 18/18 [00:20<00:00,  1.12s/it]\n"
     ]
    },
    {
     "name": "stdout",
     "output_type": "stream",
     "text": [
      "开始处理论文 https://openalex.org/W2995804959，总被引: 20，预计页数: 1\n"
     ]
    },
    {
     "name": "stderr",
     "output_type": "stream",
     "text": [
      "分页获取: 100%|██████████| 1/1 [00:02<00:00,  2.48s/it]\n",
      "处理种子论文:  19%|█▉        | 356/1849 [5:21:30<13:25:38, 32.38s/it]"
     ]
    },
    {
     "name": "stdout",
     "output_type": "stream",
     "text": [
      "已保存临时结果\n"
     ]
    },
    {
     "name": "stderr",
     "output_type": "stream",
     "text": [
      "处理参考文献 https://openalex.org/W4224327207: 100%|██████████| 2/2 [00:02<00:00,  1.19s/it]\n"
     ]
    },
    {
     "name": "stdout",
     "output_type": "stream",
     "text": [
      "开始处理论文 https://openalex.org/W4224327207，总被引: 10，预计页数: 1\n"
     ]
    },
    {
     "name": "stderr",
     "output_type": "stream",
     "text": [
      "分页获取: 100%|██████████| 1/1 [00:02<00:00,  2.23s/it]\n",
      "处理参考文献 https://openalex.org/W4390921997: 100%|██████████| 69/69 [01:19<00:00,  1.15s/it]\n"
     ]
    },
    {
     "name": "stdout",
     "output_type": "stream",
     "text": [
      "开始处理论文 https://openalex.org/W4390921997，总被引: 11，预计页数: 1\n"
     ]
    },
    {
     "name": "stderr",
     "output_type": "stream",
     "text": [
      "分页获取: 100%|██████████| 1/1 [00:01<00:00,  1.85s/it]\n",
      "处理参考文献 https://openalex.org/W4223635542: 100%|██████████| 23/23 [00:26<00:00,  1.14s/it]\n"
     ]
    },
    {
     "name": "stdout",
     "output_type": "stream",
     "text": [
      "开始处理论文 https://openalex.org/W4223635542，总被引: 18，预计页数: 1\n"
     ]
    },
    {
     "name": "stderr",
     "output_type": "stream",
     "text": [
      "分页获取: 100%|██████████| 1/1 [00:02<00:00,  2.09s/it]\n",
      "处理参考文献 https://openalex.org/W4281728089: 100%|██████████| 21/21 [00:23<00:00,  1.11s/it]\n"
     ]
    },
    {
     "name": "stdout",
     "output_type": "stream",
     "text": [
      "开始处理论文 https://openalex.org/W4281728089，总被引: 9，预计页数: 1\n"
     ]
    },
    {
     "name": "stderr",
     "output_type": "stream",
     "text": [
      "分页获取: 100%|██████████| 1/1 [00:01<00:00,  1.71s/it]\n",
      "处理种子论文:  19%|█▉        | 360/1849 [5:23:50<13:56:36, 33.71s/it]"
     ]
    },
    {
     "name": "stdout",
     "output_type": "stream",
     "text": [
      "开始处理论文 https://openalex.org/W4210650131，总被引: 6，预计页数: 1\n"
     ]
    },
    {
     "name": "stderr",
     "output_type": "stream",
     "text": [
      "分页获取: 100%|██████████| 1/1 [00:01<00:00,  1.39s/it]\n",
      "处理种子论文:  20%|█▉        | 361/1849 [5:23:55<10:24:45, 25.19s/it]"
     ]
    },
    {
     "name": "stdout",
     "output_type": "stream",
     "text": [
      "已保存临时结果\n"
     ]
    },
    {
     "name": "stderr",
     "output_type": "stream",
     "text": [
      "处理参考文献 https://openalex.org/W4288926427: 100%|██████████| 35/35 [00:42<00:00,  1.20s/it]\n"
     ]
    },
    {
     "name": "stdout",
     "output_type": "stream",
     "text": [
      "开始处理论文 https://openalex.org/W4288926427，总被引: 25，预计页数: 1\n"
     ]
    },
    {
     "name": "stderr",
     "output_type": "stream",
     "text": [
      "分页获取: 100%|██████████| 1/1 [00:02<00:00,  2.22s/it]\n",
      "处理参考文献 https://openalex.org/W4210465708: 100%|██████████| 54/54 [01:06<00:00,  1.24s/it]\n"
     ]
    },
    {
     "name": "stdout",
     "output_type": "stream",
     "text": [
      "开始处理论文 https://openalex.org/W4210465708，总被引: 16，预计页数: 1\n"
     ]
    },
    {
     "name": "stderr",
     "output_type": "stream",
     "text": [
      "分页获取: 100%|██████████| 1/1 [00:01<00:00,  1.95s/it]\n",
      "处理参考文献 https://openalex.org/W2189553973: 100%|██████████| 22/22 [00:26<00:00,  1.21s/it]\n"
     ]
    },
    {
     "name": "stdout",
     "output_type": "stream",
     "text": [
      "开始处理论文 https://openalex.org/W2189553973，总被引: 18，预计页数: 1\n"
     ]
    },
    {
     "name": "stderr",
     "output_type": "stream",
     "text": [
      "分页获取: 100%|██████████| 1/1 [00:01<00:00,  1.96s/it]\n",
      "处理参考文献 https://openalex.org/W4376881157: 100%|██████████| 16/16 [00:20<00:00,  1.27s/it]\n"
     ]
    },
    {
     "name": "stdout",
     "output_type": "stream",
     "text": [
      "开始处理论文 https://openalex.org/W4376881157，总被引: 10，预计页数: 1\n"
     ]
    },
    {
     "name": "stderr",
     "output_type": "stream",
     "text": [
      "分页获取: 100%|██████████| 1/1 [00:01<00:00,  1.66s/it]\n",
      "处理参考文献 https://openalex.org/W2890642487: 100%|██████████| 7/7 [00:07<00:00,  1.14s/it]\n"
     ]
    },
    {
     "name": "stdout",
     "output_type": "stream",
     "text": [
      "开始处理论文 https://openalex.org/W2890642487，总被引: 10，预计页数: 1\n"
     ]
    },
    {
     "name": "stderr",
     "output_type": "stream",
     "text": [
      "分页获取: 100%|██████████| 1/1 [00:01<00:00,  1.69s/it]\n",
      "处理种子论文:  20%|█▉        | 366/1849 [5:26:53<11:18:48, 27.46s/it]"
     ]
    },
    {
     "name": "stdout",
     "output_type": "stream",
     "text": [
      "已保存临时结果\n"
     ]
    },
    {
     "name": "stderr",
     "output_type": "stream",
     "text": [
      "处理参考文献 https://openalex.org/W4282933114: 100%|██████████| 111/111 [03:24<00:00,  1.84s/it]\n"
     ]
    },
    {
     "name": "stdout",
     "output_type": "stream",
     "text": [
      "开始处理论文 https://openalex.org/W4282933114，总被引: 24，预计页数: 1\n"
     ]
    },
    {
     "name": "stderr",
     "output_type": "stream",
     "text": [
      "分页获取: 100%|██████████| 1/1 [00:02<00:00,  2.02s/it]\n",
      "处理参考文献 https://openalex.org/W4205736490: 100%|██████████| 8/8 [00:09<00:00,  1.18s/it]\n"
     ]
    },
    {
     "name": "stdout",
     "output_type": "stream",
     "text": [
      "开始处理论文 https://openalex.org/W4205736490，总被引: 13，预计页数: 1\n"
     ]
    },
    {
     "name": "stderr",
     "output_type": "stream",
     "text": [
      "分页获取: 100%|██████████| 1/1 [00:01<00:00,  1.88s/it]\n",
      "处理参考文献 https://openalex.org/W4392894027: 100%|██████████| 27/27 [00:36<00:00,  1.36s/it]\n"
     ]
    },
    {
     "name": "stdout",
     "output_type": "stream",
     "text": [
      "开始处理论文 https://openalex.org/W4392894027，总被引: 24，预计页数: 1\n"
     ]
    },
    {
     "name": "stderr",
     "output_type": "stream",
     "text": [
      "分页获取: 100%|██████████| 1/1 [00:02<00:00,  2.06s/it]\n",
      "处理参考文献 https://openalex.org/W3198159900: 100%|██████████| 42/42 [00:49<00:00,  1.18s/it]\n"
     ]
    },
    {
     "name": "stdout",
     "output_type": "stream",
     "text": [
      "开始处理论文 https://openalex.org/W3198159900，总被引: 10，预计页数: 1\n"
     ]
    },
    {
     "name": "stderr",
     "output_type": "stream",
     "text": [
      "分页获取: 100%|██████████| 1/1 [00:01<00:00,  1.82s/it]\n",
      "处理参考文献 https://openalex.org/W4398191155: 100%|██████████| 8/8 [00:09<00:00,  1.23s/it]\n"
     ]
    },
    {
     "name": "stdout",
     "output_type": "stream",
     "text": [
      "开始处理论文 https://openalex.org/W4398191155，总被引: 16，预计页数: 1\n"
     ]
    },
    {
     "name": "stderr",
     "output_type": "stream",
     "text": [
      "分页获取: 100%|██████████| 1/1 [00:01<00:00,  1.75s/it]\n",
      "处理种子论文:  20%|██        | 371/1849 [5:32:17<17:12:27, 41.91s/it]"
     ]
    },
    {
     "name": "stdout",
     "output_type": "stream",
     "text": [
      "已保存临时结果\n"
     ]
    },
    {
     "name": "stderr",
     "output_type": "stream",
     "text": [
      "处理参考文献 https://openalex.org/W4378620150: 100%|██████████| 19/19 [00:23<00:00,  1.24s/it]\n"
     ]
    },
    {
     "name": "stdout",
     "output_type": "stream",
     "text": [
      "开始处理论文 https://openalex.org/W4378620150，总被引: 10，预计页数: 1\n"
     ]
    },
    {
     "name": "stderr",
     "output_type": "stream",
     "text": [
      "分页获取: 100%|██████████| 1/1 [00:01<00:00,  1.82s/it]\n",
      "处理种子论文:  20%|██        | 372/1849 [5:32:42<15:09:14, 36.94s/it]"
     ]
    },
    {
     "name": "stdout",
     "output_type": "stream",
     "text": [
      "警告: 论文 https://openalex.org/W4378620150 应获取 10 条，实际获取 11 条\n",
      "开始处理论文 https://openalex.org/W4403585070，总被引: 18，预计页数: 1\n"
     ]
    },
    {
     "name": "stderr",
     "output_type": "stream",
     "text": [
      "分页获取: 100%|██████████| 1/1 [00:01<00:00,  1.81s/it]\n",
      "处理参考文献 https://openalex.org/W3012376524: 100%|██████████| 27/27 [00:31<00:00,  1.16s/it]\n"
     ]
    },
    {
     "name": "stdout",
     "output_type": "stream",
     "text": [
      "开始处理论文 https://openalex.org/W3012376524，总被引: 16，预计页数: 1\n"
     ]
    },
    {
     "name": "stderr",
     "output_type": "stream",
     "text": [
      "分页获取: 100%|██████████| 1/1 [00:01<00:00,  1.78s/it]\n",
      "处理参考文献 https://openalex.org/W3179713268: 100%|██████████| 701/701 [14:25<00:00,  1.23s/it]\n"
     ]
    },
    {
     "name": "stdout",
     "output_type": "stream",
     "text": [
      "开始处理论文 https://openalex.org/W3179713268，总被引: 19，预计页数: 1\n"
     ]
    },
    {
     "name": "stderr",
     "output_type": "stream",
     "text": [
      "分页获取: 100%|██████████| 1/1 [00:02<00:00,  2.19s/it]\n",
      "处理参考文献 https://openalex.org/W4401465215: 100%|██████████| 8/8 [00:09<00:00,  1.14s/it]\n",
      "处理种子论文:  20%|██        | 376/1849 [5:47:58<81:53:17, 200.13s/it] "
     ]
    },
    {
     "name": "stdout",
     "output_type": "stream",
     "text": [
      "已保存临时结果\n"
     ]
    },
    {
     "name": "stderr",
     "output_type": "stream",
     "text": [
      "处理参考文献 https://openalex.org/W2969076975: 100%|██████████| 15/15 [00:18<00:00,  1.21s/it]\n"
     ]
    },
    {
     "name": "stdout",
     "output_type": "stream",
     "text": [
      "开始处理论文 https://openalex.org/W2969076975，总被引: 62，预计页数: 1\n"
     ]
    },
    {
     "name": "stderr",
     "output_type": "stream",
     "text": [
      "分页获取: 100%|██████████| 1/1 [00:02<00:00,  2.83s/it]\n",
      "处理参考文献 https://openalex.org/W3014139430: 100%|██████████| 14/14 [00:15<00:00,  1.11s/it]\n"
     ]
    },
    {
     "name": "stdout",
     "output_type": "stream",
     "text": [
      "开始处理论文 https://openalex.org/W3014139430，总被引: 11，预计页数: 1\n"
     ]
    },
    {
     "name": "stderr",
     "output_type": "stream",
     "text": [
      "分页获取: 100%|██████████| 1/1 [00:01<00:00,  1.79s/it]\n",
      "处理参考文献 https://openalex.org/W4386263838: 100%|██████████| 40/40 [00:51<00:00,  1.28s/it]\n"
     ]
    },
    {
     "name": "stdout",
     "output_type": "stream",
     "text": [
      "开始处理论文 https://openalex.org/W4386263838，总被引: 14，预计页数: 1\n"
     ]
    },
    {
     "name": "stderr",
     "output_type": "stream",
     "text": [
      "分页获取: 100%|██████████| 1/1 [00:01<00:00,  1.99s/it]\n",
      "处理种子论文:  20%|██        | 379/1849 [5:49:29<37:16:23, 91.28s/it] "
     ]
    },
    {
     "name": "stdout",
     "output_type": "stream",
     "text": [
      "开始处理论文 https://openalex.org/W4365999807，总被引: 6，预计页数: 1\n"
     ]
    },
    {
     "name": "stderr",
     "output_type": "stream",
     "text": [
      "分页获取: 100%|██████████| 1/1 [00:01<00:00,  1.74s/it]\n",
      "处理参考文献 https://openalex.org/W2913205139: 100%|██████████| 15/15 [00:19<00:00,  1.29s/it]\n"
     ]
    },
    {
     "name": "stdout",
     "output_type": "stream",
     "text": [
      "开始处理论文 https://openalex.org/W2913205139，总被引: 6，预计页数: 1\n"
     ]
    },
    {
     "name": "stderr",
     "output_type": "stream",
     "text": [
      "分页获取: 100%|██████████| 1/1 [00:01<00:00,  1.88s/it]\n",
      "处理种子论文:  21%|██        | 381/1849 [5:49:57<21:30:29, 52.74s/it]"
     ]
    },
    {
     "name": "stdout",
     "output_type": "stream",
     "text": [
      "已保存临时结果\n"
     ]
    },
    {
     "name": "stderr",
     "output_type": "stream",
     "text": [
      "处理参考文献 https://openalex.org/W3130356071: 100%|██████████| 17/17 [00:22<00:00,  1.35s/it]\n"
     ]
    },
    {
     "name": "stdout",
     "output_type": "stream",
     "text": [
      "开始处理论文 https://openalex.org/W3130356071，总被引: 15，预计页数: 1\n"
     ]
    },
    {
     "name": "stderr",
     "output_type": "stream",
     "text": [
      "分页获取: 100%|██████████| 1/1 [00:01<00:00,  1.74s/it]\n",
      "处理参考文献 https://openalex.org/W4392925707: 100%|██████████| 51/51 [01:01<00:00,  1.20s/it]\n"
     ]
    },
    {
     "name": "stdout",
     "output_type": "stream",
     "text": [
      "开始处理论文 https://openalex.org/W4392925707，总被引: 20，预计页数: 1\n"
     ]
    },
    {
     "name": "stderr",
     "output_type": "stream",
     "text": [
      "分页获取: 100%|██████████| 1/1 [00:02<00:00,  2.02s/it]\n",
      "处理种子论文:  21%|██        | 383/1849 [5:51:25<20:23:56, 50.09s/it]"
     ]
    },
    {
     "name": "stdout",
     "output_type": "stream",
     "text": [
      "警告: 论文 https://openalex.org/W4392925707 应获取 20 条，实际获取 21 条\n"
     ]
    },
    {
     "name": "stderr",
     "output_type": "stream",
     "text": [
      "处理参考文献 https://openalex.org/W4313490759: 100%|██████████| 64/64 [01:18<00:00,  1.23s/it]\n"
     ]
    },
    {
     "name": "stdout",
     "output_type": "stream",
     "text": [
      "开始处理论文 https://openalex.org/W4313490759，总被引: 13，预计页数: 1\n"
     ]
    },
    {
     "name": "stderr",
     "output_type": "stream",
     "text": [
      "分页获取: 100%|██████████| 1/1 [00:02<00:00,  2.36s/it]\n",
      "处理参考文献 https://openalex.org/W2886383250: 100%|██████████| 20/20 [00:24<00:00,  1.21s/it]\n"
     ]
    },
    {
     "name": "stdout",
     "output_type": "stream",
     "text": [
      "开始处理论文 https://openalex.org/W2886383250，总被引: 7，预计页数: 1\n"
     ]
    },
    {
     "name": "stderr",
     "output_type": "stream",
     "text": [
      "分页获取: 100%|██████████| 1/1 [00:01<00:00,  1.86s/it]\n",
      "处理参考文献 https://openalex.org/W4394990725: 100%|██████████| 6/6 [00:07<00:00,  1.19s/it]\n"
     ]
    },
    {
     "name": "stdout",
     "output_type": "stream",
     "text": [
      "开始处理论文 https://openalex.org/W4394990725，总被引: 10，预计页数: 1\n"
     ]
    },
    {
     "name": "stderr",
     "output_type": "stream",
     "text": [
      "分页获取: 100%|██████████| 1/1 [00:01<00:00,  1.77s/it]\n",
      "处理种子论文:  21%|██        | 386/1849 [5:53:25<15:40:36, 38.58s/it]"
     ]
    },
    {
     "name": "stdout",
     "output_type": "stream",
     "text": [
      "已保存临时结果\n"
     ]
    },
    {
     "name": "stderr",
     "output_type": "stream",
     "text": [
      "处理参考文献 https://openalex.org/W4391350532: 100%|██████████| 46/46 [00:55<00:00,  1.20s/it]\n"
     ]
    },
    {
     "name": "stdout",
     "output_type": "stream",
     "text": [
      "开始处理论文 https://openalex.org/W4391350532，总被引: 8，预计页数: 1\n"
     ]
    },
    {
     "name": "stderr",
     "output_type": "stream",
     "text": [
      "分页获取: 100%|██████████| 1/1 [00:01<00:00,  1.71s/it]\n",
      "处理参考文献 https://openalex.org/W3154007715: 100%|██████████| 16/16 [00:18<00:00,  1.18s/it]\n"
     ]
    },
    {
     "name": "stdout",
     "output_type": "stream",
     "text": [
      "开始处理论文 https://openalex.org/W3154007715，总被引: 10，预计页数: 1\n"
     ]
    },
    {
     "name": "stderr",
     "output_type": "stream",
     "text": [
      "分页获取: 100%|██████████| 1/1 [00:02<00:00,  2.08s/it]\n",
      "处理参考文献 https://openalex.org/W3201081331: 100%|██████████| 39/39 [00:45<00:00,  1.17s/it]\n"
     ]
    },
    {
     "name": "stdout",
     "output_type": "stream",
     "text": [
      "开始处理论文 https://openalex.org/W3201081331，总被引: 12，预计页数: 1\n"
     ]
    },
    {
     "name": "stderr",
     "output_type": "stream",
     "text": [
      "分页获取: 100%|██████████| 1/1 [00:02<00:00,  2.17s/it]\n",
      "处理参考文献 https://openalex.org/W4387585398: 100%|██████████| 46/46 [00:53<00:00,  1.16s/it]\n"
     ]
    },
    {
     "name": "stdout",
     "output_type": "stream",
     "text": [
      "开始处理论文 https://openalex.org/W4387585398，总被引: 7，预计页数: 1\n"
     ]
    },
    {
     "name": "stderr",
     "output_type": "stream",
     "text": [
      "分页获取: 100%|██████████| 1/1 [00:01<00:00,  1.66s/it]\n",
      "处理种子论文:  21%|██        | 390/1849 [5:56:27<18:09:37, 44.81s/it]"
     ]
    },
    {
     "name": "stdout",
     "output_type": "stream",
     "text": [
      "开始处理论文 https://openalex.org/W4403901847，总被引: 19，预计页数: 1\n"
     ]
    },
    {
     "name": "stderr",
     "output_type": "stream",
     "text": [
      "分页获取: 100%|██████████| 1/1 [00:02<00:00,  2.21s/it]\n",
      "处理种子论文:  21%|██        | 391/1849 [5:56:33<13:29:08, 33.30s/it]"
     ]
    },
    {
     "name": "stdout",
     "output_type": "stream",
     "text": [
      "已保存临时结果\n"
     ]
    },
    {
     "name": "stderr",
     "output_type": "stream",
     "text": [
      "处理参考文献 https://openalex.org/W4391790500: 100%|██████████| 11/11 [00:14<00:00,  1.31s/it]\n",
      "处理参考文献 https://openalex.org/W4389936417: 100%|██████████| 2/2 [00:02<00:00,  1.26s/it]\n"
     ]
    },
    {
     "name": "stdout",
     "output_type": "stream",
     "text": [
      "开始处理论文 https://openalex.org/W4389936417，总被引: 11，预计页数: 1\n"
     ]
    },
    {
     "name": "stderr",
     "output_type": "stream",
     "text": [
      "分页获取: 100%|██████████| 1/1 [00:02<00:00,  2.19s/it]\n",
      "处理参考文献 https://openalex.org/W4306399852: 100%|██████████| 6/6 [00:07<00:00,  1.32s/it]\n"
     ]
    },
    {
     "name": "stdout",
     "output_type": "stream",
     "text": [
      "开始处理论文 https://openalex.org/W4306399852，总被引: 10，预计页数: 1\n"
     ]
    },
    {
     "name": "stderr",
     "output_type": "stream",
     "text": [
      "分页获取: 100%|██████████| 1/1 [00:01<00:00,  1.65s/it]\n",
      "处理参考文献 https://openalex.org/W4390515026: 100%|██████████| 10/10 [00:11<00:00,  1.16s/it]\n"
     ]
    },
    {
     "name": "stdout",
     "output_type": "stream",
     "text": [
      "开始处理论文 https://openalex.org/W4390515026，总被引: 8，预计页数: 1\n"
     ]
    },
    {
     "name": "stderr",
     "output_type": "stream",
     "text": [
      "分页获取: 100%|██████████| 1/1 [00:02<00:00,  2.01s/it]\n",
      "处理参考文献 https://openalex.org/W4200457345: 100%|██████████| 21/21 [00:28<00:00,  1.35s/it]\n"
     ]
    },
    {
     "name": "stdout",
     "output_type": "stream",
     "text": [
      "开始处理论文 https://openalex.org/W4200457345，总被引: 16，预计页数: 1\n"
     ]
    },
    {
     "name": "stderr",
     "output_type": "stream",
     "text": [
      "分页获取: 100%|██████████| 1/1 [00:02<00:00,  2.28s/it]\n",
      "处理种子论文:  21%|██▏       | 396/1849 [5:57:50<8:49:15, 21.86s/it]"
     ]
    },
    {
     "name": "stdout",
     "output_type": "stream",
     "text": [
      "已保存临时结果\n"
     ]
    },
    {
     "name": "stderr",
     "output_type": "stream",
     "text": [
      "处理参考文献 https://openalex.org/W4390483884: 100%|██████████| 16/16 [00:20<00:00,  1.27s/it]\n"
     ]
    },
    {
     "name": "stdout",
     "output_type": "stream",
     "text": [
      "开始处理论文 https://openalex.org/W4390483884，总被引: 22，预计页数: 1\n"
     ]
    },
    {
     "name": "stderr",
     "output_type": "stream",
     "text": [
      "分页获取: 100%|██████████| 1/1 [00:02<00:00,  2.21s/it]\n",
      "处理种子论文:  21%|██▏       | 397/1849 [5:58:13<8:54:22, 22.08s/it]"
     ]
    },
    {
     "name": "stdout",
     "output_type": "stream",
     "text": [
      "警告: 论文 https://openalex.org/W4390483884 应获取 22 条，实际获取 23 条\n",
      "开始处理论文 https://openalex.org/W3042698149，总被引: 7，预计页数: 1\n"
     ]
    },
    {
     "name": "stderr",
     "output_type": "stream",
     "text": [
      "分页获取: 100%|██████████| 1/1 [00:01<00:00,  1.51s/it]\n",
      "处理参考文献 https://openalex.org/W4318307490: 100%|██████████| 48/48 [00:54<00:00,  1.13s/it]\n"
     ]
    },
    {
     "name": "stdout",
     "output_type": "stream",
     "text": [
      "开始处理论文 https://openalex.org/W4318307490，总被引: 13，预计页数: 1\n"
     ]
    },
    {
     "name": "stderr",
     "output_type": "stream",
     "text": [
      "分页获取: 100%|██████████| 1/1 [00:01<00:00,  1.82s/it]\n",
      "处理种子论文:  22%|██▏       | 399/1849 [5:59:10<11:15:32, 27.95s/it]"
     ]
    },
    {
     "name": "stdout",
     "output_type": "stream",
     "text": [
      "警告: 论文 https://openalex.org/W4318307490 应获取 13 条，实际获取 14 条\n"
     ]
    },
    {
     "name": "stderr",
     "output_type": "stream",
     "text": [
      "处理参考文献 https://openalex.org/W3081659665: 100%|██████████| 57/57 [01:08<00:00,  1.20s/it]\n"
     ]
    },
    {
     "name": "stdout",
     "output_type": "stream",
     "text": [
      "开始处理论文 https://openalex.org/W3081659665，总被引: 9，预计页数: 1\n"
     ]
    },
    {
     "name": "stderr",
     "output_type": "stream",
     "text": [
      "分页获取: 100%|██████████| 1/1 [00:01<00:00,  1.77s/it]\n",
      "处理参考文献 https://openalex.org/W4225706338: 100%|██████████| 25/25 [00:28<00:00,  1.16s/it]\n"
     ]
    },
    {
     "name": "stdout",
     "output_type": "stream",
     "text": [
      "开始处理论文 https://openalex.org/W4225706338，总被引: 12，预计页数: 1\n"
     ]
    },
    {
     "name": "stderr",
     "output_type": "stream",
     "text": [
      "分页获取: 100%|██████████| 1/1 [00:01<00:00,  1.73s/it]\n",
      "处理种子论文:  22%|██▏       | 401/1849 [6:00:56<15:39:42, 38.94s/it]"
     ]
    },
    {
     "name": "stdout",
     "output_type": "stream",
     "text": [
      "已保存临时结果\n"
     ]
    },
    {
     "name": "stderr",
     "output_type": "stream",
     "text": [
      "处理参考文献 https://openalex.org/W3174426180: 100%|██████████| 77/77 [01:28<00:00,  1.15s/it]\n"
     ]
    },
    {
     "name": "stdout",
     "output_type": "stream",
     "text": [
      "开始处理论文 https://openalex.org/W3174426180，总被引: 12，预计页数: 1\n"
     ]
    },
    {
     "name": "stderr",
     "output_type": "stream",
     "text": [
      "分页获取: 100%|██████████| 1/1 [00:01<00:00,  1.73s/it]\n",
      "处理参考文献 https://openalex.org/W4323349753: 100%|██████████| 29/29 [00:32<00:00,  1.12s/it]\n"
     ]
    },
    {
     "name": "stdout",
     "output_type": "stream",
     "text": [
      "开始处理论文 https://openalex.org/W4323349753，总被引: 12，预计页数: 1\n"
     ]
    },
    {
     "name": "stderr",
     "output_type": "stream",
     "text": [
      "分页获取: 100%|██████████| 1/1 [00:01<00:00,  1.62s/it]\n",
      "处理参考文献 https://openalex.org/W4391914519: 100%|██████████| 57/57 [01:08<00:00,  1.20s/it]\n"
     ]
    },
    {
     "name": "stdout",
     "output_type": "stream",
     "text": [
      "开始处理论文 https://openalex.org/W4391914519，总被引: 21，预计页数: 1\n"
     ]
    },
    {
     "name": "stderr",
     "output_type": "stream",
     "text": [
      "分页获取: 100%|██████████| 1/1 [00:02<00:00,  2.11s/it]\n",
      "处理种子论文:  22%|██▏       | 404/1849 [6:04:10<22:02:11, 54.90s/it]"
     ]
    },
    {
     "name": "stdout",
     "output_type": "stream",
     "text": [
      "开始处理论文 https://openalex.org/W4381684931，总被引: 4，预计页数: 1\n"
     ]
    },
    {
     "name": "stderr",
     "output_type": "stream",
     "text": [
      "分页获取: 100%|██████████| 1/1 [00:01<00:00,  1.41s/it]\n",
      "处理种子论文:  22%|██▏       | 405/1849 [6:04:12<15:35:10, 38.86s/it]"
     ]
    },
    {
     "name": "stdout",
     "output_type": "stream",
     "text": [
      "开始处理论文 https://openalex.org/W2982606701，总被引: 3，预计页数: 1\n"
     ]
    },
    {
     "name": "stderr",
     "output_type": "stream",
     "text": [
      "分页获取: 100%|██████████| 1/1 [00:01<00:00,  1.35s/it]\n",
      "处理种子论文:  22%|██▏       | 406/1849 [6:04:18<11:35:46, 28.93s/it]"
     ]
    },
    {
     "name": "stdout",
     "output_type": "stream",
     "text": [
      "已保存临时结果\n"
     ]
    },
    {
     "name": "stderr",
     "output_type": "stream",
     "text": [
      "处理参考文献 https://openalex.org/W2947447580: 100%|██████████| 2/2 [00:02<00:00,  1.39s/it]\n"
     ]
    },
    {
     "name": "stdout",
     "output_type": "stream",
     "text": [
      "开始处理论文 https://openalex.org/W2947447580，总被引: 12，预计页数: 1\n"
     ]
    },
    {
     "name": "stderr",
     "output_type": "stream",
     "text": [
      "分页获取: 100%|██████████| 1/1 [00:02<00:00,  2.00s/it]\n",
      "处理种子论文:  22%|██▏       | 407/1849 [6:04:22<8:41:41, 21.71s/it] "
     ]
    },
    {
     "name": "stdout",
     "output_type": "stream",
     "text": [
      "警告: 论文 https://openalex.org/W2947447580 应获取 12 条，实际获取 13 条\n"
     ]
    },
    {
     "name": "stderr",
     "output_type": "stream",
     "text": [
      "处理参考文献 https://openalex.org/W3103032306: 100%|██████████| 133/133 [02:43<00:00,  1.23s/it]\n"
     ]
    },
    {
     "name": "stdout",
     "output_type": "stream",
     "text": [
      "开始处理论文 https://openalex.org/W3103032306，总被引: 4，预计页数: 1\n"
     ]
    },
    {
     "name": "stderr",
     "output_type": "stream",
     "text": [
      "分页获取: 100%|██████████| 1/1 [00:01<00:00,  1.38s/it]\n",
      "处理参考文献 https://openalex.org/W3011504968: 100%|██████████| 17/17 [00:20<00:00,  1.23s/it]\n"
     ]
    },
    {
     "name": "stdout",
     "output_type": "stream",
     "text": [
      "开始处理论文 https://openalex.org/W3011504968，总被引: 7，预计页数: 1\n"
     ]
    },
    {
     "name": "stderr",
     "output_type": "stream",
     "text": [
      "分页获取: 100%|██████████| 1/1 [00:02<00:00,  2.02s/it]\n",
      "处理参考文献 https://openalex.org/W4313224208: 100%|██████████| 10/10 [00:11<00:00,  1.13s/it]\n"
     ]
    },
    {
     "name": "stdout",
     "output_type": "stream",
     "text": [
      "开始处理论文 https://openalex.org/W4313224208，总被引: 4，预计页数: 1\n"
     ]
    },
    {
     "name": "stderr",
     "output_type": "stream",
     "text": [
      "分页获取: 100%|██████████| 1/1 [00:01<00:00,  1.39s/it]\n",
      "处理种子论文:  22%|██▏       | 410/1849 [6:07:43<16:07:16, 40.33s/it]"
     ]
    },
    {
     "name": "stdout",
     "output_type": "stream",
     "text": [
      "警告: 论文 https://openalex.org/W4313224208 应获取 4 条，实际获取 5 条\n"
     ]
    },
    {
     "name": "stderr",
     "output_type": "stream",
     "text": [
      "处理参考文献 https://openalex.org/W3022563550: 100%|██████████| 11/11 [00:12<00:00,  1.15s/it]\n"
     ]
    },
    {
     "name": "stdout",
     "output_type": "stream",
     "text": [
      "开始处理论文 https://openalex.org/W3022563550，总被引: 4，预计页数: 1\n"
     ]
    },
    {
     "name": "stderr",
     "output_type": "stream",
     "text": [
      "分页获取: 100%|██████████| 1/1 [00:01<00:00,  1.54s/it]\n",
      "处理种子论文:  22%|██▏       | 411/1849 [6:08:02<13:29:39, 33.78s/it]"
     ]
    },
    {
     "name": "stdout",
     "output_type": "stream",
     "text": [
      "已保存临时结果\n"
     ]
    },
    {
     "name": "stderr",
     "output_type": "stream",
     "text": [
      "处理参考文献 https://openalex.org/W3200468334: 100%|██████████| 11/11 [00:13<00:00,  1.20s/it]\n"
     ]
    },
    {
     "name": "stdout",
     "output_type": "stream",
     "text": [
      "开始处理论文 https://openalex.org/W3200468334，总被引: 18，预计页数: 1\n"
     ]
    },
    {
     "name": "stderr",
     "output_type": "stream",
     "text": [
      "分页获取: 100%|██████████| 1/1 [00:01<00:00,  1.83s/it]\n",
      "处理参考文献 https://openalex.org/W4283321591: 100%|██████████| 26/26 [00:30<00:00,  1.19s/it]\n"
     ]
    },
    {
     "name": "stdout",
     "output_type": "stream",
     "text": [
      "开始处理论文 https://openalex.org/W4283321591，总被引: 9，预计页数: 1\n"
     ]
    },
    {
     "name": "stderr",
     "output_type": "stream",
     "text": [
      "分页获取: 100%|██████████| 1/1 [00:02<00:00,  2.46s/it]\n",
      "处理参考文献 https://openalex.org/W3121815051: 100%|██████████| 7/7 [00:08<00:00,  1.18s/it]\n"
     ]
    },
    {
     "name": "stdout",
     "output_type": "stream",
     "text": [
      "开始处理论文 https://openalex.org/W3121815051，总被引: 11，预计页数: 1\n"
     ]
    },
    {
     "name": "stderr",
     "output_type": "stream",
     "text": [
      "分页获取: 100%|██████████| 1/1 [00:01<00:00,  1.93s/it]\n",
      "处理种子论文:  22%|██▏       | 414/1849 [6:09:00<9:31:23, 23.89s/it] "
     ]
    },
    {
     "name": "stdout",
     "output_type": "stream",
     "text": [
      "警告: 论文 https://openalex.org/W3121815051 应获取 11 条，实际获取 12 条\n",
      "开始处理论文 https://openalex.org/W4403659566，总被引: 19，预计页数: 1\n"
     ]
    },
    {
     "name": "stderr",
     "output_type": "stream",
     "text": [
      "分页获取: 100%|██████████| 1/1 [00:01<00:00,  1.76s/it]\n",
      "处理参考文献 https://openalex.org/W4388982797: 100%|██████████| 5/5 [00:05<00:00,  1.13s/it]\n"
     ]
    },
    {
     "name": "stdout",
     "output_type": "stream",
     "text": [
      "开始处理论文 https://openalex.org/W4388982797，总被引: 12，预计页数: 1\n"
     ]
    },
    {
     "name": "stderr",
     "output_type": "stream",
     "text": [
      "分页获取: 100%|██████████| 1/1 [00:01<00:00,  1.84s/it]\n",
      "处理种子论文:  22%|██▏       | 416/1849 [6:09:14<6:12:37, 15.60s/it]"
     ]
    },
    {
     "name": "stdout",
     "output_type": "stream",
     "text": [
      "已保存临时结果\n"
     ]
    },
    {
     "name": "stderr",
     "output_type": "stream",
     "text": [
      "处理参考文献 https://openalex.org/W4390116642: 100%|██████████| 9/9 [00:10<00:00,  1.21s/it]\n"
     ]
    },
    {
     "name": "stdout",
     "output_type": "stream",
     "text": [
      "开始处理论文 https://openalex.org/W4390116642，总被引: 7，预计页数: 1\n"
     ]
    },
    {
     "name": "stderr",
     "output_type": "stream",
     "text": [
      "分页获取: 100%|██████████| 1/1 [00:01<00:00,  1.86s/it]\n",
      "处理种子论文:  23%|██▎       | 417/1849 [6:09:27<5:52:01, 14.75s/it]"
     ]
    },
    {
     "name": "stdout",
     "output_type": "stream",
     "text": [
      "警告: 论文 https://openalex.org/W4390116642 应获取 7 条，实际获取 8 条\n",
      "开始处理论文 https://openalex.org/W3123656425，总被引: 13，预计页数: 1\n"
     ]
    },
    {
     "name": "stderr",
     "output_type": "stream",
     "text": [
      "分页获取: 100%|██████████| 1/1 [00:01<00:00,  1.69s/it]\n",
      "处理参考文献 https://openalex.org/W4385767939: 100%|██████████| 44/44 [00:56<00:00,  1.28s/it]\n"
     ]
    },
    {
     "name": "stdout",
     "output_type": "stream",
     "text": [
      "开始处理论文 https://openalex.org/W4385767939，总被引: 11，预计页数: 1\n"
     ]
    },
    {
     "name": "stderr",
     "output_type": "stream",
     "text": [
      "分页获取: 100%|██████████| 1/1 [00:01<00:00,  1.70s/it]\n",
      "处理参考文献 https://openalex.org/W4386805155: 100%|██████████| 48/48 [00:58<00:00,  1.21s/it]\n"
     ]
    },
    {
     "name": "stdout",
     "output_type": "stream",
     "text": [
      "开始处理论文 https://openalex.org/W4386805155，总被引: 12，预计页数: 1\n"
     ]
    },
    {
     "name": "stderr",
     "output_type": "stream",
     "text": [
      "分页获取: 100%|██████████| 1/1 [00:01<00:00,  1.76s/it]\n",
      "处理参考文献 https://openalex.org/W4404454114: 100%|██████████| 17/17 [00:21<00:00,  1.28s/it]\n"
     ]
    },
    {
     "name": "stdout",
     "output_type": "stream",
     "text": [
      "开始处理论文 https://openalex.org/W4404454114，总被引: 6，预计页数: 1\n"
     ]
    },
    {
     "name": "stderr",
     "output_type": "stream",
     "text": [
      "分页获取: 100%|██████████| 1/1 [00:01<00:00,  1.46s/it]\n",
      "处理种子论文:  23%|██▎       | 421/1849 [6:11:54<13:08:24, 33.13s/it]"
     ]
    },
    {
     "name": "stdout",
     "output_type": "stream",
     "text": [
      "已保存临时结果\n"
     ]
    },
    {
     "name": "stderr",
     "output_type": "stream",
     "text": [
      "处理参考文献 https://openalex.org/W4210323413: 100%|██████████| 167/167 [03:32<00:00,  1.27s/it]\n"
     ]
    },
    {
     "name": "stdout",
     "output_type": "stream",
     "text": [
      "开始处理论文 https://openalex.org/W4210323413，总被引: 11，预计页数: 1\n"
     ]
    },
    {
     "name": "stderr",
     "output_type": "stream",
     "text": [
      "分页获取: 100%|██████████| 1/1 [00:02<00:00,  2.17s/it]\n",
      "处理种子论文:  23%|██▎       | 422/1849 [6:15:29<34:44:31, 87.65s/it]"
     ]
    },
    {
     "name": "stdout",
     "output_type": "stream",
     "text": [
      "开始处理论文 https://openalex.org/W2960192357，总被引: 3，预计页数: 1\n"
     ]
    },
    {
     "name": "stderr",
     "output_type": "stream",
     "text": [
      "分页获取: 100%|██████████| 1/1 [00:01<00:00,  1.39s/it]\n",
      "处理参考文献 https://openalex.org/W4388240348: 100%|██████████| 101/101 [02:18<00:00,  1.37s/it]\n"
     ]
    },
    {
     "name": "stdout",
     "output_type": "stream",
     "text": [
      "开始处理论文 https://openalex.org/W4388240348，总被引: 12，预计页数: 1\n"
     ]
    },
    {
     "name": "stderr",
     "output_type": "stream",
     "text": [
      "分页获取: 100%|██████████| 1/1 [00:01<00:00,  1.78s/it]\n",
      "处理参考文献 https://openalex.org/W3202830893: 100%|██████████| 34/34 [00:41<00:00,  1.22s/it]\n"
     ]
    },
    {
     "name": "stdout",
     "output_type": "stream",
     "text": [
      "开始处理论文 https://openalex.org/W3202830893，总被引: 14，预计页数: 1\n"
     ]
    },
    {
     "name": "stderr",
     "output_type": "stream",
     "text": [
      "分页获取: 100%|██████████| 1/1 [00:02<00:00,  2.07s/it]\n",
      "处理参考文献 https://openalex.org/W4361282549: 100%|██████████| 73/73 [01:34<00:00,  1.30s/it]\n"
     ]
    },
    {
     "name": "stdout",
     "output_type": "stream",
     "text": [
      "开始处理论文 https://openalex.org/W4361282549，总被引: 7，预计页数: 1\n"
     ]
    },
    {
     "name": "stderr",
     "output_type": "stream",
     "text": [
      "分页获取: 100%|██████████| 1/1 [00:01<00:00,  1.79s/it]\n"
     ]
    },
    {
     "name": "stdout",
     "output_type": "stream",
     "text": [
      "警告: 论文 https://openalex.org/W4361282549 应获取 7 条，实际获取 8 条\n"
     ]
    },
    {
     "name": "stderr",
     "output_type": "stream",
     "text": [
      "处理种子论文:  23%|██▎       | 426/1849 [6:20:15<32:08:03, 81.30s/it]"
     ]
    },
    {
     "name": "stdout",
     "output_type": "stream",
     "text": [
      "已保存临时结果\n"
     ]
    },
    {
     "name": "stderr",
     "output_type": "stream",
     "text": [
      "处理参考文献 https://openalex.org/W4212962269: 100%|██████████| 24/24 [00:27<00:00,  1.15s/it]\n"
     ]
    },
    {
     "name": "stdout",
     "output_type": "stream",
     "text": [
      "开始处理论文 https://openalex.org/W4212962269，总被引: 9，预计页数: 1\n"
     ]
    },
    {
     "name": "stderr",
     "output_type": "stream",
     "text": [
      "分页获取: 100%|██████████| 1/1 [00:01<00:00,  1.86s/it]\n",
      "处理参考文献 https://openalex.org/W3166239307: 100%|██████████| 17/17 [00:20<00:00,  1.19s/it]\n"
     ]
    },
    {
     "name": "stdout",
     "output_type": "stream",
     "text": [
      "开始处理论文 https://openalex.org/W3166239307，总被引: 13，预计页数: 1\n"
     ]
    },
    {
     "name": "stderr",
     "output_type": "stream",
     "text": [
      "分页获取: 100%|██████████| 1/1 [00:02<00:00,  2.09s/it]\n",
      "处理种子论文:  23%|██▎       | 428/1849 [6:21:07<20:48:43, 52.73s/it]"
     ]
    },
    {
     "name": "stdout",
     "output_type": "stream",
     "text": [
      "开始处理论文 https://openalex.org/W4403648349，总被引: 19，预计页数: 1\n"
     ]
    },
    {
     "name": "stderr",
     "output_type": "stream",
     "text": [
      "分页获取: 100%|██████████| 1/1 [00:01<00:00,  1.99s/it]\n",
      "处理参考文献 https://openalex.org/W3191099422: 100%|██████████| 64/64 [01:20<00:00,  1.25s/it]\n"
     ]
    },
    {
     "name": "stdout",
     "output_type": "stream",
     "text": [
      "开始处理论文 https://openalex.org/W3191099422，总被引: 10，预计页数: 1\n"
     ]
    },
    {
     "name": "stderr",
     "output_type": "stream",
     "text": [
      "分页获取: 100%|██████████| 1/1 [00:02<00:00,  2.06s/it]\n",
      "处理参考文献 https://openalex.org/W3161739057: 100%|██████████| 31/31 [00:38<00:00,  1.24s/it]\n"
     ]
    },
    {
     "name": "stdout",
     "output_type": "stream",
     "text": [
      "开始处理论文 https://openalex.org/W3161739057，总被引: 12，预计页数: 1\n"
     ]
    },
    {
     "name": "stderr",
     "output_type": "stream",
     "text": [
      "分页获取: 100%|██████████| 1/1 [00:02<00:00,  2.04s/it]\n",
      "处理种子论文:  23%|██▎       | 431/1849 [6:23:16<19:21:47, 49.16s/it]"
     ]
    },
    {
     "name": "stdout",
     "output_type": "stream",
     "text": [
      "已保存临时结果\n"
     ]
    },
    {
     "name": "stderr",
     "output_type": "stream",
     "text": [
      "处理参考文献 https://openalex.org/W2959773868: 100%|██████████| 12/12 [00:15<00:00,  1.26s/it]\n"
     ]
    },
    {
     "name": "stdout",
     "output_type": "stream",
     "text": [
      "开始处理论文 https://openalex.org/W2959773868，总被引: 6，预计页数: 1\n"
     ]
    },
    {
     "name": "stderr",
     "output_type": "stream",
     "text": [
      "分页获取: 100%|██████████| 1/1 [00:01<00:00,  1.87s/it]\n",
      "处理种子论文:  23%|██▎       | 432/1849 [6:23:34<15:33:25, 39.52s/it]"
     ]
    },
    {
     "name": "stdout",
     "output_type": "stream",
     "text": [
      "开始处理论文 https://openalex.org/W4243810277，总被引: 4，预计页数: 1\n"
     ]
    },
    {
     "name": "stderr",
     "output_type": "stream",
     "text": [
      "分页获取: 100%|██████████| 1/1 [00:01<00:00,  1.60s/it]\n",
      "处理参考文献 https://openalex.org/W3210334949: 100%|██████████| 11/11 [00:13<00:00,  1.22s/it]\n"
     ]
    },
    {
     "name": "stdout",
     "output_type": "stream",
     "text": [
      "开始处理论文 https://openalex.org/W3210334949，总被引: 27，预计页数: 1\n"
     ]
    },
    {
     "name": "stderr",
     "output_type": "stream",
     "text": [
      "分页获取: 100%|██████████| 1/1 [00:02<00:00,  2.35s/it]\n",
      "处理参考文献 https://openalex.org/W3159821816: 100%|██████████| 4/4 [00:04<00:00,  1.15s/it]\n"
     ]
    },
    {
     "name": "stdout",
     "output_type": "stream",
     "text": [
      "开始处理论文 https://openalex.org/W3159821816，总被引: 16，预计页数: 1\n"
     ]
    },
    {
     "name": "stderr",
     "output_type": "stream",
     "text": [
      "分页获取: 100%|██████████| 1/1 [00:01<00:00,  1.83s/it]\n",
      "处理参考文献 https://openalex.org/W4388752095: 100%|██████████| 36/36 [00:43<00:00,  1.21s/it]\n"
     ]
    },
    {
     "name": "stdout",
     "output_type": "stream",
     "text": [
      "开始处理论文 https://openalex.org/W4388752095，总被引: 10，预计页数: 1\n"
     ]
    },
    {
     "name": "stderr",
     "output_type": "stream",
     "text": [
      "分页获取: 100%|██████████| 1/1 [00:01<00:00,  1.74s/it]\n",
      "处理种子论文:  24%|██▎       | 436/1849 [6:24:47<11:04:58, 28.24s/it]"
     ]
    },
    {
     "name": "stdout",
     "output_type": "stream",
     "text": [
      "已保存临时结果\n"
     ]
    },
    {
     "name": "stderr",
     "output_type": "stream",
     "text": [
      "处理参考文献 https://openalex.org/W4367157472: 100%|██████████| 18/18 [00:21<00:00,  1.20s/it]\n"
     ]
    },
    {
     "name": "stdout",
     "output_type": "stream",
     "text": [
      "开始处理论文 https://openalex.org/W4367157472，总被引: 4，预计页数: 1\n"
     ]
    },
    {
     "name": "stderr",
     "output_type": "stream",
     "text": [
      "分页获取: 100%|██████████| 1/1 [00:01<00:00,  1.49s/it]\n",
      "处理参考文献 https://openalex.org/W4396498564: 100%|██████████| 15/15 [00:19<00:00,  1.30s/it]\n"
     ]
    },
    {
     "name": "stdout",
     "output_type": "stream",
     "text": [
      "开始处理论文 https://openalex.org/W4396498564，总被引: 15，预计页数: 1\n"
     ]
    },
    {
     "name": "stderr",
     "output_type": "stream",
     "text": [
      "分页获取: 100%|██████████| 1/1 [00:01<00:00,  1.95s/it]\n",
      "处理参考文献 https://openalex.org/W4280615283: 100%|██████████| 6/6 [00:06<00:00,  1.16s/it]\n"
     ]
    },
    {
     "name": "stdout",
     "output_type": "stream",
     "text": [
      "开始处理论文 https://openalex.org/W4280615283，总被引: 8，预计页数: 1\n"
     ]
    },
    {
     "name": "stderr",
     "output_type": "stream",
     "text": [
      "分页获取: 100%|██████████| 1/1 [00:01<00:00,  1.84s/it]\n",
      "处理种子论文:  24%|██▎       | 439/1849 [6:25:41<7:56:03, 20.26s/it]"
     ]
    },
    {
     "name": "stdout",
     "output_type": "stream",
     "text": [
      "开始处理论文 https://openalex.org/W4390508424，总被引: 5，预计页数: 1\n"
     ]
    },
    {
     "name": "stderr",
     "output_type": "stream",
     "text": [
      "分页获取: 100%|██████████| 1/1 [00:01<00:00,  1.72s/it]\n",
      "处理参考文献 https://openalex.org/W4221071734: 100%|██████████| 24/24 [00:29<00:00,  1.22s/it]\n"
     ]
    },
    {
     "name": "stdout",
     "output_type": "stream",
     "text": [
      "开始处理论文 https://openalex.org/W4221071734，总被引: 14，预计页数: 1\n"
     ]
    },
    {
     "name": "stderr",
     "output_type": "stream",
     "text": [
      "分页获取: 100%|██████████| 1/1 [00:02<00:00,  2.04s/it]\n",
      "处理种子论文:  24%|██▍       | 441/1849 [6:26:18<8:14:16, 21.06s/it]"
     ]
    },
    {
     "name": "stdout",
     "output_type": "stream",
     "text": [
      "已保存临时结果\n"
     ]
    },
    {
     "name": "stderr",
     "output_type": "stream",
     "text": [
      "处理参考文献 https://openalex.org/W4377820394: 100%|██████████| 21/21 [00:27<00:00,  1.29s/it]\n"
     ]
    },
    {
     "name": "stdout",
     "output_type": "stream",
     "text": [
      "开始处理论文 https://openalex.org/W4377820394，总被引: 9，预计页数: 1\n"
     ]
    },
    {
     "name": "stderr",
     "output_type": "stream",
     "text": [
      "分页获取: 100%|██████████| 1/1 [00:02<00:00,  2.03s/it]\n",
      "处理参考文献 https://openalex.org/W3184070459: 100%|██████████| 2/2 [00:02<00:00,  1.26s/it]\n"
     ]
    },
    {
     "name": "stdout",
     "output_type": "stream",
     "text": [
      "开始处理论文 https://openalex.org/W3184070459，总被引: 4，预计页数: 1\n"
     ]
    },
    {
     "name": "stderr",
     "output_type": "stream",
     "text": [
      "分页获取: 100%|██████████| 1/1 [00:01<00:00,  1.72s/it]\n",
      "处理参考文献 https://openalex.org/W4376643866: 100%|██████████| 13/13 [00:14<00:00,  1.08s/it]\n"
     ]
    },
    {
     "name": "stdout",
     "output_type": "stream",
     "text": [
      "开始处理论文 https://openalex.org/W4376643866，总被引: 10，预计页数: 1\n"
     ]
    },
    {
     "name": "stderr",
     "output_type": "stream",
     "text": [
      "分页获取: 100%|██████████| 1/1 [00:01<00:00,  1.82s/it]\n",
      "处理参考文献 https://openalex.org/W3112431566: 100%|██████████| 1/1 [00:01<00:00,  1.06s/it]\n"
     ]
    },
    {
     "name": "stdout",
     "output_type": "stream",
     "text": [
      "开始处理论文 https://openalex.org/W3112431566，总被引: 3，预计页数: 1\n"
     ]
    },
    {
     "name": "stderr",
     "output_type": "stream",
     "text": [
      "分页获取: 100%|██████████| 1/1 [00:01<00:00,  1.87s/it]\n",
      "处理参考文献 https://openalex.org/W4395673279: 100%|██████████| 60/60 [01:25<00:00,  1.43s/it]\n"
     ]
    },
    {
     "name": "stdout",
     "output_type": "stream",
     "text": [
      "开始处理论文 https://openalex.org/W4395673279，总被引: 52，预计页数: 1\n"
     ]
    },
    {
     "name": "stderr",
     "output_type": "stream",
     "text": [
      "分页获取: 100%|██████████| 1/1 [00:02<00:00,  2.68s/it]\n",
      "处理种子论文:  24%|██▍       | 446/1849 [6:28:44<14:25:18, 37.01s/it]"
     ]
    },
    {
     "name": "stdout",
     "output_type": "stream",
     "text": [
      "已保存临时结果\n"
     ]
    },
    {
     "name": "stderr",
     "output_type": "stream",
     "text": [
      "处理参考文献 https://openalex.org/W2949420557: 100%|██████████| 3/3 [00:03<00:00,  1.14s/it]\n"
     ]
    },
    {
     "name": "stdout",
     "output_type": "stream",
     "text": [
      "开始处理论文 https://openalex.org/W2949420557，总被引: 19，预计页数: 1\n"
     ]
    },
    {
     "name": "stderr",
     "output_type": "stream",
     "text": [
      "分页获取: 100%|██████████| 1/1 [00:02<00:00,  2.04s/it]\n",
      "处理参考文献 https://openalex.org/W4313238360: 100%|██████████| 70/70 [01:28<00:00,  1.27s/it]\n"
     ]
    },
    {
     "name": "stdout",
     "output_type": "stream",
     "text": [
      "开始处理论文 https://openalex.org/W4313238360，总被引: 15，预计页数: 1\n"
     ]
    },
    {
     "name": "stderr",
     "output_type": "stream",
     "text": [
      "分页获取: 100%|██████████| 1/1 [00:01<00:00,  1.75s/it]\n",
      "处理参考文献 https://openalex.org/W4385154445: 100%|██████████| 65/65 [01:13<00:00,  1.13s/it]\n"
     ]
    },
    {
     "name": "stdout",
     "output_type": "stream",
     "text": [
      "开始处理论文 https://openalex.org/W4385154445，总被引: 16，预计页数: 1\n"
     ]
    },
    {
     "name": "stderr",
     "output_type": "stream",
     "text": [
      "分页获取: 100%|██████████| 1/1 [00:01<00:00,  1.89s/it]\n",
      "处理参考文献 https://openalex.org/W4309681898: 100%|██████████| 34/34 [00:39<00:00,  1.17s/it]\n"
     ]
    },
    {
     "name": "stdout",
     "output_type": "stream",
     "text": [
      "开始处理论文 https://openalex.org/W4309681898，总被引: 11，预计页数: 1\n"
     ]
    },
    {
     "name": "stderr",
     "output_type": "stream",
     "text": [
      "分页获取: 100%|██████████| 1/1 [00:01<00:00,  1.77s/it]\n",
      "处理参考文献 https://openalex.org/W4286912227: 100%|██████████| 45/45 [00:53<00:00,  1.18s/it]\n"
     ]
    },
    {
     "name": "stdout",
     "output_type": "stream",
     "text": [
      "开始处理论文 https://openalex.org/W4286912227，总被引: 15，预计页数: 1\n"
     ]
    },
    {
     "name": "stderr",
     "output_type": "stream",
     "text": [
      "分页获取: 100%|██████████| 1/1 [00:01<00:00,  1.95s/it]\n",
      "处理种子论文:  24%|██▍       | 451/1849 [6:33:17<20:50:33, 53.67s/it]"
     ]
    },
    {
     "name": "stdout",
     "output_type": "stream",
     "text": [
      "已保存临时结果\n"
     ]
    },
    {
     "name": "stderr",
     "output_type": "stream",
     "text": [
      "处理参考文献 https://openalex.org/W3137711108: 100%|██████████| 6/6 [00:07<00:00,  1.27s/it]\n"
     ]
    },
    {
     "name": "stdout",
     "output_type": "stream",
     "text": [
      "开始处理论文 https://openalex.org/W3137711108，总被引: 5，预计页数: 1\n"
     ]
    },
    {
     "name": "stderr",
     "output_type": "stream",
     "text": [
      "分页获取: 100%|██████████| 1/1 [00:01<00:00,  1.90s/it]\n",
      "处理参考文献 https://openalex.org/W4387964517: 100%|██████████| 12/12 [00:14<00:00,  1.22s/it]\n"
     ]
    },
    {
     "name": "stdout",
     "output_type": "stream",
     "text": [
      "开始处理论文 https://openalex.org/W4387964517，总被引: 4，预计页数: 1\n"
     ]
    },
    {
     "name": "stderr",
     "output_type": "stream",
     "text": [
      "分页获取: 100%|██████████| 1/1 [00:01<00:00,  1.55s/it]\n",
      "处理参考文献 https://openalex.org/W4397018410: 100%|██████████| 2/2 [00:02<00:00,  1.22s/it]\n"
     ]
    },
    {
     "name": "stdout",
     "output_type": "stream",
     "text": [
      "开始处理论文 https://openalex.org/W4397018410，总被引: 11，预计页数: 1\n"
     ]
    },
    {
     "name": "stderr",
     "output_type": "stream",
     "text": [
      "分页获取: 100%|██████████| 1/1 [00:01<00:00,  1.83s/it]\n",
      "处理参考文献 https://openalex.org/W4226075473: 100%|██████████| 16/16 [00:19<00:00,  1.22s/it]\n"
     ]
    },
    {
     "name": "stdout",
     "output_type": "stream",
     "text": [
      "开始处理论文 https://openalex.org/W4226075473，总被引: 5，预计页数: 1\n"
     ]
    },
    {
     "name": "stderr",
     "output_type": "stream",
     "text": [
      "分页获取: 100%|██████████| 1/1 [00:01<00:00,  1.52s/it]\n",
      "处理种子论文:  25%|██▍       | 456/1849 [6:34:12<6:53:11, 17.80s/it]"
     ]
    },
    {
     "name": "stdout",
     "output_type": "stream",
     "text": [
      "已保存临时结果\n"
     ]
    },
    {
     "name": "stderr",
     "output_type": "stream",
     "text": [
      "处理参考文献 https://openalex.org/W3201145784: 100%|██████████| 30/30 [00:38<00:00,  1.30s/it]\n"
     ]
    },
    {
     "name": "stdout",
     "output_type": "stream",
     "text": [
      "开始处理论文 https://openalex.org/W3201145784，总被引: 4，预计页数: 1\n"
     ]
    },
    {
     "name": "stderr",
     "output_type": "stream",
     "text": [
      "分页获取: 100%|██████████| 1/1 [00:01<00:00,  1.61s/it]\n",
      "处理参考文献 https://openalex.org/W3108710195: 100%|██████████| 6/6 [00:08<00:00,  1.47s/it]\n"
     ]
    },
    {
     "name": "stdout",
     "output_type": "stream",
     "text": [
      "开始处理论文 https://openalex.org/W3108710195，总被引: 5，预计页数: 1\n"
     ]
    },
    {
     "name": "stderr",
     "output_type": "stream",
     "text": [
      "分页获取: 100%|██████████| 1/1 [00:01<00:00,  1.62s/it]\n",
      "处理参考文献 https://openalex.org/W3035568201: 100%|██████████| 35/35 [00:44<00:00,  1.26s/it]\n"
     ]
    },
    {
     "name": "stdout",
     "output_type": "stream",
     "text": [
      "开始处理论文 https://openalex.org/W3035568201，总被引: 9，预计页数: 1\n"
     ]
    },
    {
     "name": "stderr",
     "output_type": "stream",
     "text": [
      "分页获取: 100%|██████████| 1/1 [00:01<00:00,  1.60s/it]\n",
      "处理参考文献 https://openalex.org/W2073616444: 100%|██████████| 25/25 [00:31<00:00,  1.28s/it]\n"
     ]
    },
    {
     "name": "stdout",
     "output_type": "stream",
     "text": [
      "开始处理论文 https://openalex.org/W2073616444，总被引: 3，预计页数: 1\n"
     ]
    },
    {
     "name": "stderr",
     "output_type": "stream",
     "text": [
      "分页获取: 100%|██████████| 1/1 [00:01<00:00,  1.53s/it]\n",
      "处理参考文献 https://openalex.org/W4220831121: 100%|██████████| 64/64 [01:20<00:00,  1.26s/it]\n"
     ]
    },
    {
     "name": "stdout",
     "output_type": "stream",
     "text": [
      "开始处理论文 https://openalex.org/W4220831121，总被引: 10，预计页数: 1\n"
     ]
    },
    {
     "name": "stderr",
     "output_type": "stream",
     "text": [
      "分页获取: 100%|██████████| 1/1 [00:01<00:00,  1.87s/it]\n",
      "处理种子论文:  25%|██▍       | 461/1849 [6:37:50<18:03:37, 46.84s/it]"
     ]
    },
    {
     "name": "stdout",
     "output_type": "stream",
     "text": [
      "已保存临时结果\n"
     ]
    },
    {
     "name": "stderr",
     "output_type": "stream",
     "text": [
      "处理参考文献 https://openalex.org/W4390768020: 100%|██████████| 22/22 [00:27<00:00,  1.27s/it]\n"
     ]
    },
    {
     "name": "stdout",
     "output_type": "stream",
     "text": [
      "开始处理论文 https://openalex.org/W4390768020，总被引: 9，预计页数: 1\n"
     ]
    },
    {
     "name": "stderr",
     "output_type": "stream",
     "text": [
      "分页获取: 100%|██████████| 1/1 [00:02<00:00,  2.19s/it]\n",
      "处理参考文献 https://openalex.org/W4224939751: 100%|██████████| 15/15 [00:19<00:00,  1.29s/it]\n"
     ]
    },
    {
     "name": "stdout",
     "output_type": "stream",
     "text": [
      "开始处理论文 https://openalex.org/W4224939751，总被引: 8，预计页数: 1\n"
     ]
    },
    {
     "name": "stderr",
     "output_type": "stream",
     "text": [
      "分页获取: 100%|██████████| 1/1 [00:01<00:00,  1.79s/it]\n",
      "处理种子论文:  25%|██▌       | 463/1849 [6:38:41<13:42:38, 35.61s/it]"
     ]
    },
    {
     "name": "stdout",
     "output_type": "stream",
     "text": [
      "开始处理论文 https://openalex.org/W4240774862，总被引: 8，预计页数: 1\n"
     ]
    },
    {
     "name": "stderr",
     "output_type": "stream",
     "text": [
      "分页获取: 100%|██████████| 1/1 [00:01<00:00,  1.88s/it]\n",
      "处理参考文献 https://openalex.org/W4390147654: 100%|██████████| 41/41 [00:55<00:00,  1.34s/it]\n"
     ]
    },
    {
     "name": "stdout",
     "output_type": "stream",
     "text": [
      "开始处理论文 https://openalex.org/W4390147654，总被引: 4，预计页数: 1\n"
     ]
    },
    {
     "name": "stderr",
     "output_type": "stream",
     "text": [
      "分页获取: 100%|██████████| 1/1 [00:01<00:00,  1.45s/it]\n",
      "处理参考文献 https://openalex.org/W4224307573: 100%|██████████| 62/62 [01:14<00:00,  1.20s/it]\n"
     ]
    },
    {
     "name": "stdout",
     "output_type": "stream",
     "text": [
      "开始处理论文 https://openalex.org/W4224307573，总被引: 11，预计页数: 1\n"
     ]
    },
    {
     "name": "stderr",
     "output_type": "stream",
     "text": [
      "分页获取: 100%|██████████| 1/1 [00:01<00:00,  1.75s/it]\n",
      "处理种子论文:  25%|██▌       | 466/1849 [6:41:00<18:41:44, 48.67s/it]"
     ]
    },
    {
     "name": "stdout",
     "output_type": "stream",
     "text": [
      "已保存临时结果\n"
     ]
    },
    {
     "name": "stderr",
     "output_type": "stream",
     "text": [
      "处理参考文献 https://openalex.org/W3215322949: 100%|██████████| 8/8 [00:12<00:00,  1.53s/it]\n"
     ]
    },
    {
     "name": "stdout",
     "output_type": "stream",
     "text": [
      "开始处理论文 https://openalex.org/W3215322949，总被引: 23，预计页数: 1\n"
     ]
    },
    {
     "name": "stderr",
     "output_type": "stream",
     "text": [
      "分页获取: 100%|██████████| 1/1 [00:02<00:00,  2.26s/it]\n",
      "处理参考文献 https://openalex.org/W4390281078: 100%|██████████| 20/20 [00:29<00:00,  1.47s/it]\n"
     ]
    },
    {
     "name": "stdout",
     "output_type": "stream",
     "text": [
      "开始处理论文 https://openalex.org/W4390281078，总被引: 13，预计页数: 1\n"
     ]
    },
    {
     "name": "stderr",
     "output_type": "stream",
     "text": [
      "分页获取: 100%|██████████| 1/1 [00:01<00:00,  1.99s/it]\n",
      "处理参考文献 https://openalex.org/W4297982274: 100%|██████████| 149/149 [03:21<00:00,  1.35s/it]\n"
     ]
    },
    {
     "name": "stdout",
     "output_type": "stream",
     "text": [
      "开始处理论文 https://openalex.org/W4297982274，总被引: 9，预计页数: 1\n"
     ]
    },
    {
     "name": "stderr",
     "output_type": "stream",
     "text": [
      "分页获取: 100%|██████████| 1/1 [00:02<00:00,  2.01s/it]\n",
      "处理参考文献 https://openalex.org/W4390885128: 100%|██████████| 6/6 [00:08<00:00,  1.50s/it]\n"
     ]
    },
    {
     "name": "stdout",
     "output_type": "stream",
     "text": [
      "开始处理论文 https://openalex.org/W4390885128，总被引: 6，预计页数: 1\n"
     ]
    },
    {
     "name": "stderr",
     "output_type": "stream",
     "text": [
      "分页获取: 100%|██████████| 1/1 [00:01<00:00,  1.55s/it]\n",
      "处理参考文献 https://openalex.org/W4404189366: 100%|██████████| 46/46 [00:58<00:00,  1.27s/it]\n"
     ]
    },
    {
     "name": "stdout",
     "output_type": "stream",
     "text": [
      "开始处理论文 https://openalex.org/W4404189366，总被引: 17，预计页数: 1\n"
     ]
    },
    {
     "name": "stderr",
     "output_type": "stream",
     "text": [
      "分页获取: 100%|██████████| 1/1 [00:02<00:00,  2.03s/it]\n",
      "处理种子论文:  25%|██▌       | 471/1849 [6:46:25<24:32:22, 64.11s/it]"
     ]
    },
    {
     "name": "stdout",
     "output_type": "stream",
     "text": [
      "已保存临时结果\n"
     ]
    },
    {
     "name": "stderr",
     "output_type": "stream",
     "text": [
      "处理参考文献 https://openalex.org/W4200435668: 100%|██████████| 3/3 [00:03<00:00,  1.14s/it]\n"
     ]
    },
    {
     "name": "stdout",
     "output_type": "stream",
     "text": [
      "开始处理论文 https://openalex.org/W4200435668，总被引: 3，预计页数: 1\n"
     ]
    },
    {
     "name": "stderr",
     "output_type": "stream",
     "text": [
      "分页获取: 100%|██████████| 1/1 [00:01<00:00,  1.44s/it]\n",
      "处理参考文献 https://openalex.org/W4286214266: 100%|██████████| 26/26 [00:39<00:00,  1.51s/it]\n"
     ]
    },
    {
     "name": "stdout",
     "output_type": "stream",
     "text": [
      "开始处理论文 https://openalex.org/W4286214266，总被引: 15，预计页数: 1\n"
     ]
    },
    {
     "name": "stderr",
     "output_type": "stream",
     "text": [
      "分页获取: 100%|██████████| 1/1 [00:01<00:00,  1.77s/it]\n",
      "处理参考文献 https://openalex.org/W4390658443: 100%|██████████| 11/11 [00:13<00:00,  1.22s/it]\n"
     ]
    },
    {
     "name": "stdout",
     "output_type": "stream",
     "text": [
      "开始处理论文 https://openalex.org/W4390658443，总被引: 5，预计页数: 1\n"
     ]
    },
    {
     "name": "stderr",
     "output_type": "stream",
     "text": [
      "分页获取: 100%|██████████| 1/1 [00:01<00:00,  1.42s/it]\n",
      "处理参考文献 https://openalex.org/W4386776066: 100%|██████████| 49/49 [01:01<00:00,  1.26s/it]\n"
     ]
    },
    {
     "name": "stdout",
     "output_type": "stream",
     "text": [
      "开始处理论文 https://openalex.org/W4386776066，总被引: 5，预计页数: 1\n"
     ]
    },
    {
     "name": "stderr",
     "output_type": "stream",
     "text": [
      "分页获取: 100%|██████████| 1/1 [00:01<00:00,  1.59s/it]\n",
      "处理参考文献 https://openalex.org/W3097369156: 100%|██████████| 9/9 [00:11<00:00,  1.28s/it]\n"
     ]
    },
    {
     "name": "stdout",
     "output_type": "stream",
     "text": [
      "开始处理论文 https://openalex.org/W3097369156，总被引: 22，预计页数: 1\n"
     ]
    },
    {
     "name": "stderr",
     "output_type": "stream",
     "text": [
      "分页获取: 100%|██████████| 1/1 [00:02<00:00,  2.69s/it]\n",
      "处理种子论文:  26%|██▌       | 476/1849 [6:48:49<13:56:37, 36.56s/it]"
     ]
    },
    {
     "name": "stdout",
     "output_type": "stream",
     "text": [
      "已保存临时结果\n"
     ]
    },
    {
     "name": "stderr",
     "output_type": "stream",
     "text": [
      "处理参考文献 https://openalex.org/W4392895005: 100%|██████████| 26/26 [00:35<00:00,  1.36s/it]\n"
     ]
    },
    {
     "name": "stdout",
     "output_type": "stream",
     "text": [
      "开始处理论文 https://openalex.org/W4392895005，总被引: 15，预计页数: 1\n"
     ]
    },
    {
     "name": "stderr",
     "output_type": "stream",
     "text": [
      "分页获取: 100%|██████████| 1/1 [00:01<00:00,  2.00s/it]\n",
      "处理参考文献 https://openalex.org/W4387672238: 100%|██████████| 3/3 [00:03<00:00,  1.06s/it]\n"
     ]
    },
    {
     "name": "stdout",
     "output_type": "stream",
     "text": [
      "开始处理论文 https://openalex.org/W4387672238，总被引: 4，预计页数: 1\n"
     ]
    },
    {
     "name": "stderr",
     "output_type": "stream",
     "text": [
      "分页获取: 100%|██████████| 1/1 [00:01<00:00,  1.61s/it]\n",
      "处理参考文献 https://openalex.org/W4229376579: 100%|██████████| 60/60 [01:10<00:00,  1.17s/it]\n"
     ]
    },
    {
     "name": "stdout",
     "output_type": "stream",
     "text": [
      "开始处理论文 https://openalex.org/W4229376579，总被引: 43，预计页数: 1\n"
     ]
    },
    {
     "name": "stderr",
     "output_type": "stream",
     "text": [
      "分页获取: 100%|██████████| 1/1 [00:02<00:00,  2.18s/it]\n",
      "处理种子论文:  26%|██▌       | 479/1849 [6:50:43<15:30:33, 40.75s/it]"
     ]
    },
    {
     "name": "stdout",
     "output_type": "stream",
     "text": [
      "警告: 论文 https://openalex.org/W4229376579 应获取 43 条，实际获取 44 条\n"
     ]
    },
    {
     "name": "stderr",
     "output_type": "stream",
     "text": [
      "处理参考文献 https://openalex.org/W2765852474: 100%|██████████| 26/26 [00:31<00:00,  1.21s/it]\n"
     ]
    },
    {
     "name": "stdout",
     "output_type": "stream",
     "text": [
      "开始处理论文 https://openalex.org/W2765852474，总被引: 3，预计页数: 1\n"
     ]
    },
    {
     "name": "stderr",
     "output_type": "stream",
     "text": [
      "分页获取: 100%|██████████| 1/1 [00:01<00:00,  1.64s/it]\n",
      "处理种子论文:  26%|██▌       | 480/1849 [6:51:16<14:37:52, 38.48s/it]"
     ]
    },
    {
     "name": "stdout",
     "output_type": "stream",
     "text": [
      "开始处理论文 https://openalex.org/W2973554532，总被引: 4，预计页数: 1\n"
     ]
    },
    {
     "name": "stderr",
     "output_type": "stream",
     "text": [
      "分页获取: 100%|██████████| 1/1 [00:01<00:00,  1.57s/it]\n",
      "处理种子论文:  26%|██▌       | 481/1849 [6:51:23<10:58:11, 28.87s/it]"
     ]
    },
    {
     "name": "stdout",
     "output_type": "stream",
     "text": [
      "已保存临时结果\n"
     ]
    },
    {
     "name": "stderr",
     "output_type": "stream",
     "text": [
      "处理参考文献 https://openalex.org/W4386778049: 100%|██████████| 12/12 [00:13<00:00,  1.15s/it]\n"
     ]
    },
    {
     "name": "stdout",
     "output_type": "stream",
     "text": [
      "开始处理论文 https://openalex.org/W4386778049，总被引: 5，预计页数: 1\n"
     ]
    },
    {
     "name": "stderr",
     "output_type": "stream",
     "text": [
      "分页获取: 100%|██████████| 1/1 [00:01<00:00,  1.81s/it]\n",
      "处理种子论文:  26%|██▌       | 482/1849 [6:51:39<9:27:29, 24.91s/it] "
     ]
    },
    {
     "name": "stdout",
     "output_type": "stream",
     "text": [
      "警告: 论文 https://openalex.org/W4386778049 应获取 5 条，实际获取 6 条\n"
     ]
    },
    {
     "name": "stderr",
     "output_type": "stream",
     "text": [
      "处理参考文献 https://openalex.org/W3162290828: 100%|██████████| 39/39 [00:54<00:00,  1.40s/it]\n"
     ]
    },
    {
     "name": "stdout",
     "output_type": "stream",
     "text": [
      "开始处理论文 https://openalex.org/W3162290828，总被引: 9，预计页数: 1\n"
     ]
    },
    {
     "name": "stderr",
     "output_type": "stream",
     "text": [
      "分页获取: 100%|██████████| 1/1 [00:01<00:00,  1.86s/it]\n",
      "处理参考文献 https://openalex.org/W4327874004: 100%|██████████| 82/82 [01:52<00:00,  1.37s/it]\n"
     ]
    },
    {
     "name": "stdout",
     "output_type": "stream",
     "text": [
      "开始处理论文 https://openalex.org/W4327874004，总被引: 8，预计页数: 1\n"
     ]
    },
    {
     "name": "stderr",
     "output_type": "stream",
     "text": [
      "分页获取: 100%|██████████| 1/1 [00:01<00:00,  1.91s/it]\n",
      "处理参考文献 https://openalex.org/W3212000630: 100%|██████████| 23/23 [00:28<00:00,  1.22s/it]\n"
     ]
    },
    {
     "name": "stdout",
     "output_type": "stream",
     "text": [
      "开始处理论文 https://openalex.org/W3212000630，总被引: 7，预计页数: 1\n"
     ]
    },
    {
     "name": "stderr",
     "output_type": "stream",
     "text": [
      "分页获取: 100%|██████████| 1/1 [00:01<00:00,  1.82s/it]\n",
      "处理种子论文:  26%|██▌       | 485/1849 [6:54:59<18:51:09, 49.76s/it]"
     ]
    },
    {
     "name": "stdout",
     "output_type": "stream",
     "text": [
      "警告: 论文 https://openalex.org/W3212000630 应获取 7 条，实际获取 8 条\n"
     ]
    },
    {
     "name": "stderr",
     "output_type": "stream",
     "text": [
      "处理参考文献 https://openalex.org/W4240661095: 100%|██████████| 7/7 [00:07<00:00,  1.11s/it]\n"
     ]
    },
    {
     "name": "stdout",
     "output_type": "stream",
     "text": [
      "开始处理论文 https://openalex.org/W4240661095，总被引: 5，预计页数: 1\n"
     ]
    },
    {
     "name": "stderr",
     "output_type": "stream",
     "text": [
      "分页获取: 100%|██████████| 1/1 [00:01<00:00,  1.88s/it]\n",
      "处理种子论文:  26%|██▋       | 486/1849 [6:55:13<14:49:55, 39.18s/it]"
     ]
    },
    {
     "name": "stdout",
     "output_type": "stream",
     "text": [
      "已保存临时结果\n"
     ]
    },
    {
     "name": "stderr",
     "output_type": "stream",
     "text": [
      "处理参考文献 https://openalex.org/W4304891180: 100%|██████████| 23/23 [00:26<00:00,  1.16s/it]\n"
     ]
    },
    {
     "name": "stdout",
     "output_type": "stream",
     "text": [
      "开始处理论文 https://openalex.org/W4304891180，总被引: 7，预计页数: 1\n"
     ]
    },
    {
     "name": "stderr",
     "output_type": "stream",
     "text": [
      "分页获取: 100%|██████████| 1/1 [00:01<00:00,  1.97s/it]\n",
      "处理参考文献 https://openalex.org/W4382405198: 100%|██████████| 30/30 [00:37<00:00,  1.25s/it]\n"
     ]
    },
    {
     "name": "stdout",
     "output_type": "stream",
     "text": [
      "开始处理论文 https://openalex.org/W4382405198，总被引: 8，预计页数: 1\n"
     ]
    },
    {
     "name": "stderr",
     "output_type": "stream",
     "text": [
      "分页获取: 100%|██████████| 1/1 [00:01<00:00,  1.72s/it]\n",
      "处理参考文献 https://openalex.org/W3037716092: 100%|██████████| 21/21 [00:28<00:00,  1.38s/it]\n"
     ]
    },
    {
     "name": "stdout",
     "output_type": "stream",
     "text": [
      "开始处理论文 https://openalex.org/W3037716092，总被引: 7，预计页数: 1\n"
     ]
    },
    {
     "name": "stderr",
     "output_type": "stream",
     "text": [
      "分页获取: 100%|██████████| 1/1 [00:01<00:00,  1.79s/it]\n",
      "处理种子论文:  26%|██▋       | 489/1849 [6:56:52<13:16:01, 35.12s/it]"
     ]
    },
    {
     "name": "stdout",
     "output_type": "stream",
     "text": [
      "开始处理论文 https://openalex.org/W4395117817，总被引: 16，预计页数: 1\n"
     ]
    },
    {
     "name": "stderr",
     "output_type": "stream",
     "text": [
      "分页获取: 100%|██████████| 1/1 [00:01<00:00,  1.74s/it]\n",
      "处理参考文献 https://openalex.org/W3132714340: 100%|██████████| 16/16 [00:21<00:00,  1.37s/it]\n"
     ]
    },
    {
     "name": "stdout",
     "output_type": "stream",
     "text": [
      "开始处理论文 https://openalex.org/W3132714340，总被引: 8，预计页数: 1\n"
     ]
    },
    {
     "name": "stderr",
     "output_type": "stream",
     "text": [
      "分页获取: 100%|██████████| 1/1 [00:02<00:00,  2.17s/it]\n",
      "处理种子论文:  27%|██▋       | 491/1849 [6:57:23<9:54:30, 26.27s/it]"
     ]
    },
    {
     "name": "stdout",
     "output_type": "stream",
     "text": [
      "已保存临时结果\n"
     ]
    },
    {
     "name": "stderr",
     "output_type": "stream",
     "text": [
      "处理参考文献 https://openalex.org/W4323065564: 100%|██████████| 9/9 [00:12<00:00,  1.34s/it]\n"
     ]
    },
    {
     "name": "stdout",
     "output_type": "stream",
     "text": [
      "开始处理论文 https://openalex.org/W4323065564，总被引: 4，预计页数: 1\n"
     ]
    },
    {
     "name": "stderr",
     "output_type": "stream",
     "text": [
      "分页获取: 100%|██████████| 1/1 [00:02<00:00,  2.63s/it]\n",
      "处理参考文献 https://openalex.org/W3110837477: 100%|██████████| 37/37 [00:48<00:00,  1.31s/it]\n"
     ]
    },
    {
     "name": "stdout",
     "output_type": "stream",
     "text": [
      "开始处理论文 https://openalex.org/W3110837477，总被引: 4，预计页数: 1\n"
     ]
    },
    {
     "name": "stderr",
     "output_type": "stream",
     "text": [
      "分页获取: 100%|██████████| 1/1 [00:01<00:00,  1.73s/it]\n",
      "处理参考文献 https://openalex.org/W2982188034: 100%|██████████| 6/6 [00:08<00:00,  1.37s/it]\n"
     ]
    },
    {
     "name": "stdout",
     "output_type": "stream",
     "text": [
      "开始处理论文 https://openalex.org/W2982188034，总被引: 8，预计页数: 1\n"
     ]
    },
    {
     "name": "stderr",
     "output_type": "stream",
     "text": [
      "分页获取: 100%|██████████| 1/1 [00:01<00:00,  1.72s/it]\n",
      "处理参考文献 https://openalex.org/W4226541500: 100%|██████████| 17/17 [00:20<00:00,  1.22s/it]\n"
     ]
    },
    {
     "name": "stdout",
     "output_type": "stream",
     "text": [
      "开始处理论文 https://openalex.org/W4226541500，总被引: 6，预计页数: 1\n"
     ]
    },
    {
     "name": "stderr",
     "output_type": "stream",
     "text": [
      "分页获取: 100%|██████████| 1/1 [00:01<00:00,  1.98s/it]\n",
      "处理参考文献 https://openalex.org/W3207067261: 100%|██████████| 35/35 [00:40<00:00,  1.17s/it]\n"
     ]
    },
    {
     "name": "stdout",
     "output_type": "stream",
     "text": [
      "开始处理论文 https://openalex.org/W3207067261，总被引: 7，预计页数: 1\n"
     ]
    },
    {
     "name": "stderr",
     "output_type": "stream",
     "text": [
      "分页获取: 100%|██████████| 1/1 [00:02<00:00,  2.25s/it]\n",
      "处理种子论文:  27%|██▋       | 496/1849 [6:59:49<11:46:26, 31.33s/it]"
     ]
    },
    {
     "name": "stdout",
     "output_type": "stream",
     "text": [
      "已保存临时结果\n"
     ]
    },
    {
     "name": "stderr",
     "output_type": "stream",
     "text": [
      "处理参考文献 https://openalex.org/W4365451066: 100%|██████████| 42/42 [00:56<00:00,  1.34s/it]\n"
     ]
    },
    {
     "name": "stdout",
     "output_type": "stream",
     "text": [
      "开始处理论文 https://openalex.org/W4365451066，总被引: 7，预计页数: 1\n"
     ]
    },
    {
     "name": "stderr",
     "output_type": "stream",
     "text": [
      "分页获取: 100%|██████████| 1/1 [00:02<00:00,  2.32s/it]\n",
      "处理参考文献 https://openalex.org/W3195349844: 100%|██████████| 5/5 [00:06<00:00,  1.37s/it]\n"
     ]
    },
    {
     "name": "stdout",
     "output_type": "stream",
     "text": [
      "开始处理论文 https://openalex.org/W3195349844，总被引: 4，预计页数: 1\n"
     ]
    },
    {
     "name": "stderr",
     "output_type": "stream",
     "text": [
      "分页获取: 100%|██████████| 1/1 [00:01<00:00,  1.80s/it]\n",
      "处理参考文献 https://openalex.org/W4226282037: 100%|██████████| 39/39 [00:52<00:00,  1.34s/it]\n"
     ]
    },
    {
     "name": "stdout",
     "output_type": "stream",
     "text": [
      "开始处理论文 https://openalex.org/W4226282037，总被引: 7，预计页数: 1\n"
     ]
    },
    {
     "name": "stderr",
     "output_type": "stream",
     "text": [
      "分页获取: 100%|██████████| 1/1 [00:01<00:00,  1.62s/it]\n",
      "处理参考文献 https://openalex.org/W3104812046: 100%|██████████| 1/1 [00:01<00:00,  1.20s/it]\n"
     ]
    },
    {
     "name": "stdout",
     "output_type": "stream",
     "text": [
      "开始处理论文 https://openalex.org/W3104812046，总被引: 3，预计页数: 1\n"
     ]
    },
    {
     "name": "stderr",
     "output_type": "stream",
     "text": [
      "分页获取: 100%|██████████| 1/1 [00:01<00:00,  1.63s/it]\n",
      "处理参考文献 https://openalex.org/W4380629498: 100%|██████████| 1/1 [00:01<00:00,  1.43s/it]\n"
     ]
    },
    {
     "name": "stdout",
     "output_type": "stream",
     "text": [
      "开始处理论文 https://openalex.org/W4380629498，总被引: 4，预计页数: 1\n"
     ]
    },
    {
     "name": "stderr",
     "output_type": "stream",
     "text": [
      "分页获取: 100%|██████████| 1/1 [00:01<00:00,  1.52s/it]\n",
      "处理种子论文:  27%|██▋       | 501/1849 [7:02:01<7:59:03, 21.32s/it] "
     ]
    },
    {
     "name": "stdout",
     "output_type": "stream",
     "text": [
      "已保存临时结果\n"
     ]
    },
    {
     "name": "stderr",
     "output_type": "stream",
     "text": [
      "处理参考文献 https://openalex.org/W4392366360: 100%|██████████| 13/13 [00:16<00:00,  1.26s/it]\n"
     ]
    },
    {
     "name": "stdout",
     "output_type": "stream",
     "text": [
      "开始处理论文 https://openalex.org/W4392366360，总被引: 5，预计页数: 1\n"
     ]
    },
    {
     "name": "stderr",
     "output_type": "stream",
     "text": [
      "分页获取: 100%|██████████| 1/1 [00:02<00:00,  2.35s/it]\n",
      "处理参考文献 https://openalex.org/W4229365800: 100%|██████████| 20/20 [00:26<00:00,  1.33s/it]\n"
     ]
    },
    {
     "name": "stdout",
     "output_type": "stream",
     "text": [
      "开始处理论文 https://openalex.org/W4229365800，总被引: 15，预计页数: 1\n"
     ]
    },
    {
     "name": "stderr",
     "output_type": "stream",
     "text": [
      "分页获取: 100%|██████████| 1/1 [00:02<00:00,  2.22s/it]\n",
      "处理种子论文:  27%|██▋       | 503/1849 [7:02:49<8:37:37, 23.07s/it]"
     ]
    },
    {
     "name": "stdout",
     "output_type": "stream",
     "text": [
      "开始处理论文 https://openalex.org/W3045186157，总被引: 3，预计页数: 1\n"
     ]
    },
    {
     "name": "stderr",
     "output_type": "stream",
     "text": [
      "分页获取: 100%|██████████| 1/1 [00:06<00:00,  6.10s/it]\n",
      "处理参考文献 https://openalex.org/W4381165726: 100%|██████████| 43/43 [00:56<00:00,  1.32s/it]\n"
     ]
    },
    {
     "name": "stdout",
     "output_type": "stream",
     "text": [
      "开始处理论文 https://openalex.org/W4381165726，总被引: 5，预计页数: 1\n"
     ]
    },
    {
     "name": "stderr",
     "output_type": "stream",
     "text": [
      "分页获取: 100%|██████████| 1/1 [00:01<00:00,  1.83s/it]\n",
      "处理参考文献 https://openalex.org/W4226445800: 100%|██████████| 28/28 [00:35<00:00,  1.28s/it]\n"
     ]
    },
    {
     "name": "stdout",
     "output_type": "stream",
     "text": [
      "开始处理论文 https://openalex.org/W4226445800，总被引: 9，预计页数: 1\n"
     ]
    },
    {
     "name": "stderr",
     "output_type": "stream",
     "text": [
      "分页获取: 100%|██████████| 1/1 [00:01<00:00,  1.92s/it]\n",
      "处理种子论文:  27%|██▋       | 506/1849 [7:04:36<12:40:55, 34.00s/it]"
     ]
    },
    {
     "name": "stdout",
     "output_type": "stream",
     "text": [
      "已保存临时结果\n"
     ]
    },
    {
     "name": "stderr",
     "output_type": "stream",
     "text": [
      "处理参考文献 https://openalex.org/W4205332954: 100%|██████████| 21/21 [00:25<00:00,  1.20s/it]\n"
     ]
    },
    {
     "name": "stdout",
     "output_type": "stream",
     "text": [
      "开始处理论文 https://openalex.org/W4205332954，总被引: 6，预计页数: 1\n"
     ]
    },
    {
     "name": "stderr",
     "output_type": "stream",
     "text": [
      "分页获取: 100%|██████████| 1/1 [00:01<00:00,  1.80s/it]\n",
      "处理参考文献 https://openalex.org/W4388465373: 100%|██████████| 33/33 [00:43<00:00,  1.33s/it]\n"
     ]
    },
    {
     "name": "stdout",
     "output_type": "stream",
     "text": [
      "开始处理论文 https://openalex.org/W4388465373，总被引: 7，预计页数: 1\n"
     ]
    },
    {
     "name": "stderr",
     "output_type": "stream",
     "text": [
      "分页获取: 100%|██████████| 1/1 [00:01<00:00,  1.68s/it]\n",
      "处理参考文献 https://openalex.org/W2147086367: 100%|██████████| 23/23 [00:32<00:00,  1.41s/it]\n"
     ]
    },
    {
     "name": "stdout",
     "output_type": "stream",
     "text": [
      "开始处理论文 https://openalex.org/W2147086367，总被引: 7，预计页数: 1\n"
     ]
    },
    {
     "name": "stderr",
     "output_type": "stream",
     "text": [
      "分页获取: 100%|██████████| 1/1 [00:01<00:00,  1.52s/it]\n",
      "处理种子论文:  28%|██▊       | 509/1849 [7:06:23<13:11:11, 35.43s/it]"
     ]
    },
    {
     "name": "stdout",
     "output_type": "stream",
     "text": [
      "警告: 论文 https://openalex.org/W2147086367 应获取 7 条，实际获取 6 条\n"
     ]
    },
    {
     "name": "stderr",
     "output_type": "stream",
     "text": [
      "处理参考文献 https://openalex.org/W4288729124: 100%|██████████| 17/17 [00:24<00:00,  1.45s/it]\n"
     ]
    },
    {
     "name": "stdout",
     "output_type": "stream",
     "text": [
      "开始处理论文 https://openalex.org/W4288729124，总被引: 3，预计页数: 1\n"
     ]
    },
    {
     "name": "stderr",
     "output_type": "stream",
     "text": [
      "分页获取: 100%|██████████| 1/1 [00:01<00:00,  1.71s/it]\n",
      "处理参考文献 https://openalex.org/W4385873764: 100%|██████████| 2/2 [00:02<00:00,  1.05s/it]\n"
     ]
    },
    {
     "name": "stdout",
     "output_type": "stream",
     "text": [
      "开始处理论文 https://openalex.org/W4385873764，总被引: 7，预计页数: 1\n"
     ]
    },
    {
     "name": "stderr",
     "output_type": "stream",
     "text": [
      "分页获取: 100%|██████████| 1/1 [00:02<00:00,  2.01s/it]\n",
      "处理种子论文:  28%|██▊       | 511/1849 [7:06:59<9:31:47, 25.64s/it] "
     ]
    },
    {
     "name": "stdout",
     "output_type": "stream",
     "text": [
      "已保存临时结果\n"
     ]
    },
    {
     "name": "stderr",
     "output_type": "stream",
     "text": [
      "处理参考文献 https://openalex.org/W4390245866: 100%|██████████| 12/12 [00:13<00:00,  1.16s/it]\n"
     ]
    },
    {
     "name": "stdout",
     "output_type": "stream",
     "text": [
      "开始处理论文 https://openalex.org/W4390245866，总被引: 5，预计页数: 1\n"
     ]
    },
    {
     "name": "stderr",
     "output_type": "stream",
     "text": [
      "分页获取: 100%|██████████| 1/1 [00:01<00:00,  1.56s/it]\n",
      "处理参考文献 https://openalex.org/W2995995568: 100%|██████████| 1/1 [00:01<00:00,  1.06s/it]\n"
     ]
    },
    {
     "name": "stdout",
     "output_type": "stream",
     "text": [
      "开始处理论文 https://openalex.org/W2995995568，总被引: 9，预计页数: 1\n"
     ]
    },
    {
     "name": "stderr",
     "output_type": "stream",
     "text": [
      "分页获取: 100%|██████████| 1/1 [00:01<00:00,  1.82s/it]\n",
      "处理参考文献 https://openalex.org/W4390620565: 100%|██████████| 17/17 [00:21<00:00,  1.26s/it]\n"
     ]
    },
    {
     "name": "stdout",
     "output_type": "stream",
     "text": [
      "开始处理论文 https://openalex.org/W4390620565，总被引: 6，预计页数: 1\n"
     ]
    },
    {
     "name": "stderr",
     "output_type": "stream",
     "text": [
      "分页获取: 100%|██████████| 1/1 [00:01<00:00,  1.78s/it]\n",
      "处理参考文献 https://openalex.org/W4281477915: 100%|██████████| 40/40 [00:52<00:00,  1.32s/it]\n"
     ]
    },
    {
     "name": "stdout",
     "output_type": "stream",
     "text": [
      "开始处理论文 https://openalex.org/W4281477915，总被引: 6，预计页数: 1\n"
     ]
    },
    {
     "name": "stderr",
     "output_type": "stream",
     "text": [
      "分页获取: 100%|██████████| 1/1 [00:01<00:00,  1.86s/it]\n",
      "处理参考文献 https://openalex.org/W4392665093: 100%|██████████| 7/7 [00:08<00:00,  1.21s/it]\n"
     ]
    },
    {
     "name": "stdout",
     "output_type": "stream",
     "text": [
      "开始处理论文 https://openalex.org/W4392665093，总被引: 5，预计页数: 1\n"
     ]
    },
    {
     "name": "stderr",
     "output_type": "stream",
     "text": [
      "分页获取: 100%|██████████| 1/1 [00:01<00:00,  1.89s/it]\n",
      "处理种子论文:  28%|██▊       | 516/1849 [7:08:50<9:21:14, 25.26s/it] "
     ]
    },
    {
     "name": "stdout",
     "output_type": "stream",
     "text": [
      "已保存临时结果\n"
     ]
    },
    {
     "name": "stderr",
     "output_type": "stream",
     "text": [
      "处理参考文献 https://openalex.org/W4388239826: 100%|██████████| 10/10 [00:13<00:00,  1.39s/it]\n"
     ]
    },
    {
     "name": "stdout",
     "output_type": "stream",
     "text": [
      "开始处理论文 https://openalex.org/W4388239826，总被引: 2，预计页数: 1\n"
     ]
    },
    {
     "name": "stderr",
     "output_type": "stream",
     "text": [
      "分页获取: 100%|██████████| 1/1 [00:01<00:00,  1.36s/it]\n",
      "处理种子论文:  28%|██▊       | 517/1849 [7:09:06<8:14:22, 22.27s/it]"
     ]
    },
    {
     "name": "stdout",
     "output_type": "stream",
     "text": [
      "开始处理论文 https://openalex.org/W4244638387，总被引: 8，预计页数: 1\n"
     ]
    },
    {
     "name": "stderr",
     "output_type": "stream",
     "text": [
      "分页获取: 100%|██████████| 1/1 [00:02<00:00,  2.04s/it]\n",
      "处理参考文献 https://openalex.org/W4387339568: 100%|██████████| 8/8 [00:09<00:00,  1.24s/it]\n"
     ]
    },
    {
     "name": "stdout",
     "output_type": "stream",
     "text": [
      "开始处理论文 https://openalex.org/W4387339568，总被引: 24，预计页数: 1\n"
     ]
    },
    {
     "name": "stderr",
     "output_type": "stream",
     "text": [
      "分页获取: 100%|██████████| 1/1 [00:02<00:00,  2.51s/it]\n",
      "处理参考文献 https://openalex.org/W4282541537: 100%|██████████| 9/9 [00:11<00:00,  1.30s/it]\n"
     ]
    },
    {
     "name": "stdout",
     "output_type": "stream",
     "text": [
      "开始处理论文 https://openalex.org/W4282541537，总被引: 3，预计页数: 1\n"
     ]
    },
    {
     "name": "stderr",
     "output_type": "stream",
     "text": [
      "分页获取: 100%|██████████| 1/1 [00:02<00:00,  2.03s/it]\n",
      "处理种子论文:  28%|██▊       | 520/1849 [7:09:34<5:25:29, 14.69s/it]"
     ]
    },
    {
     "name": "stdout",
     "output_type": "stream",
     "text": [
      "开始处理论文 https://openalex.org/W4366963531，总被引: 7，预计页数: 1\n"
     ]
    },
    {
     "name": "stderr",
     "output_type": "stream",
     "text": [
      "分页获取: 100%|██████████| 1/1 [00:01<00:00,  1.89s/it]\n",
      "处理种子论文:  28%|██▊       | 521/1849 [7:09:41<4:34:43, 12.41s/it]"
     ]
    },
    {
     "name": "stdout",
     "output_type": "stream",
     "text": [
      "已保存临时结果\n"
     ]
    },
    {
     "name": "stderr",
     "output_type": "stream",
     "text": [
      "处理参考文献 https://openalex.org/W4376630523: 100%|██████████| 41/41 [00:53<00:00,  1.31s/it]\n"
     ]
    },
    {
     "name": "stdout",
     "output_type": "stream",
     "text": [
      "开始处理论文 https://openalex.org/W4376630523，总被引: 7，预计页数: 1\n"
     ]
    },
    {
     "name": "stderr",
     "output_type": "stream",
     "text": [
      "分页获取: 100%|██████████| 1/1 [00:04<00:00,  4.11s/it]\n",
      "处理参考文献 https://openalex.org/W4389616544: 100%|██████████| 26/26 [00:34<00:00,  1.32s/it]\n"
     ]
    },
    {
     "name": "stdout",
     "output_type": "stream",
     "text": [
      "开始处理论文 https://openalex.org/W4389616544，总被引: 10，预计页数: 1\n"
     ]
    },
    {
     "name": "stderr",
     "output_type": "stream",
     "text": [
      "分页获取: 100%|██████████| 1/1 [00:01<00:00,  1.84s/it]\n",
      "处理参考文献 https://openalex.org/W4206670172: 100%|██████████| 37/37 [00:50<00:00,  1.38s/it]\n"
     ]
    },
    {
     "name": "stdout",
     "output_type": "stream",
     "text": [
      "开始处理论文 https://openalex.org/W4206670172，总被引: 7，预计页数: 1\n"
     ]
    },
    {
     "name": "stderr",
     "output_type": "stream",
     "text": [
      "分页获取: 100%|██████████| 1/1 [00:01<00:00,  1.89s/it]\n",
      "处理参考文献 https://openalex.org/W4281785379: 100%|██████████| 9/9 [00:11<00:00,  1.26s/it]\n"
     ]
    },
    {
     "name": "stdout",
     "output_type": "stream",
     "text": [
      "开始处理论文 https://openalex.org/W4281785379，总被引: 7，预计页数: 1\n"
     ]
    },
    {
     "name": "stderr",
     "output_type": "stream",
     "text": [
      "分页获取: 100%|██████████| 1/1 [00:01<00:00,  1.42s/it]\n",
      "处理参考文献 https://openalex.org/W3033781665: 100%|██████████| 21/21 [00:28<00:00,  1.34s/it]\n"
     ]
    },
    {
     "name": "stdout",
     "output_type": "stream",
     "text": [
      "开始处理论文 https://openalex.org/W3033781665，总被引: 6，预计页数: 1\n"
     ]
    },
    {
     "name": "stderr",
     "output_type": "stream",
     "text": [
      "分页获取: 100%|██████████| 1/1 [00:01<00:00,  1.94s/it]\n",
      "处理种子论文:  28%|██▊       | 526/1849 [7:12:56<11:22:26, 30.95s/it]"
     ]
    },
    {
     "name": "stdout",
     "output_type": "stream",
     "text": [
      "已保存临时结果\n"
     ]
    },
    {
     "name": "stderr",
     "output_type": "stream",
     "text": [
      "处理参考文献 https://openalex.org/W4205829630: 100%|██████████| 1/1 [00:01<00:00,  1.03s/it]\n"
     ]
    },
    {
     "name": "stdout",
     "output_type": "stream",
     "text": [
      "开始处理论文 https://openalex.org/W4205829630，总被引: 2，预计页数: 1\n"
     ]
    },
    {
     "name": "stderr",
     "output_type": "stream",
     "text": [
      "分页获取: 100%|██████████| 1/1 [00:01<00:00,  1.62s/it]\n",
      "处理种子论文:  29%|██▊       | 527/1849 [7:12:59<8:15:03, 22.47s/it] "
     ]
    },
    {
     "name": "stdout",
     "output_type": "stream",
     "text": [
      "开始处理论文 https://openalex.org/W4250321466，总被引: 10，预计页数: 1\n"
     ]
    },
    {
     "name": "stderr",
     "output_type": "stream",
     "text": [
      "分页获取: 100%|██████████| 1/1 [00:01<00:00,  1.97s/it]\n",
      "处理参考文献 https://openalex.org/W2942155101: 100%|██████████| 18/18 [00:27<00:00,  1.51s/it]\n"
     ]
    },
    {
     "name": "stdout",
     "output_type": "stream",
     "text": [
      "开始处理论文 https://openalex.org/W2942155101，总被引: 4，预计页数: 1\n"
     ]
    },
    {
     "name": "stderr",
     "output_type": "stream",
     "text": [
      "分页获取: 100%|██████████| 1/1 [00:03<00:00,  3.11s/it]\n",
      "处理参考文献 https://openalex.org/W4403548313: 100%|██████████| 12/12 [00:19<00:00,  1.62s/it]\n"
     ]
    },
    {
     "name": "stdout",
     "output_type": "stream",
     "text": [
      "开始处理论文 https://openalex.org/W4403548313，总被引: 6，预计页数: 1\n"
     ]
    },
    {
     "name": "stderr",
     "output_type": "stream",
     "text": [
      "分页获取: 100%|██████████| 1/1 [00:01<00:00,  1.71s/it]\n",
      "处理种子论文:  29%|██▊       | 530/1849 [7:13:52<7:36:00, 20.74s/it]"
     ]
    },
    {
     "name": "stdout",
     "output_type": "stream",
     "text": [
      "开始处理论文 https://openalex.org/W4232901434，总被引: 6，预计页数: 1\n"
     ]
    },
    {
     "name": "stderr",
     "output_type": "stream",
     "text": [
      "分页获取: 100%|██████████| 1/1 [00:03<00:00,  3.61s/it]\n",
      "处理种子论文:  29%|██▊       | 531/1849 [7:14:01<6:15:13, 17.08s/it]"
     ]
    },
    {
     "name": "stdout",
     "output_type": "stream",
     "text": [
      "已保存临时结果\n"
     ]
    },
    {
     "name": "stderr",
     "output_type": "stream",
     "text": [
      "处理参考文献 https://openalex.org/W4386424603: 100%|██████████| 25/25 [00:39<00:00,  1.56s/it]\n"
     ]
    },
    {
     "name": "stdout",
     "output_type": "stream",
     "text": [
      "开始处理论文 https://openalex.org/W4386424603，总被引: 5，预计页数: 1\n"
     ]
    },
    {
     "name": "stderr",
     "output_type": "stream",
     "text": [
      "分页获取: 100%|██████████| 1/1 [00:01<00:00,  1.62s/it]\n",
      "处理参考文献 https://openalex.org/W3197975961: 100%|██████████| 120/120 [02:41<00:00,  1.35s/it]\n"
     ]
    },
    {
     "name": "stdout",
     "output_type": "stream",
     "text": [
      "开始处理论文 https://openalex.org/W3197975961，总被引: 13，预计页数: 1\n"
     ]
    },
    {
     "name": "stderr",
     "output_type": "stream",
     "text": [
      "分页获取: 100%|██████████| 1/1 [00:01<00:00,  1.92s/it]\n",
      "处理种子论文:  29%|██▉       | 533/1849 [7:17:25<24:07:39, 66.00s/it]"
     ]
    },
    {
     "name": "stdout",
     "output_type": "stream",
     "text": [
      "开始处理论文 https://openalex.org/W3164809896，总被引: 4，预计页数: 1\n"
     ]
    },
    {
     "name": "stderr",
     "output_type": "stream",
     "text": [
      "分页获取: 100%|██████████| 1/1 [00:01<00:00,  1.79s/it]\n",
      "处理种子论文:  29%|██▉       | 534/1849 [7:17:27<17:04:28, 46.74s/it]"
     ]
    },
    {
     "name": "stdout",
     "output_type": "stream",
     "text": [
      "开始处理论文 https://openalex.org/W4295832394，总被引: 6，预计页数: 1\n"
     ]
    },
    {
     "name": "stderr",
     "output_type": "stream",
     "text": [
      "分页获取: 100%|██████████| 1/1 [00:01<00:00,  1.87s/it]\n",
      "处理参考文献 https://openalex.org/W4394573649: 100%|██████████| 319/319 [08:15<00:00,  1.55s/it]\n"
     ]
    },
    {
     "name": "stdout",
     "output_type": "stream",
     "text": [
      "开始处理论文 https://openalex.org/W4394573649，总被引: 4，预计页数: 1\n"
     ]
    },
    {
     "name": "stderr",
     "output_type": "stream",
     "text": [
      "分页获取: 100%|██████████| 1/1 [00:01<00:00,  1.54s/it]\n",
      "处理种子论文:  29%|██▉       | 536/1849 [7:25:51<63:24:07, 173.84s/it]"
     ]
    },
    {
     "name": "stdout",
     "output_type": "stream",
     "text": [
      "已保存临时结果\n"
     ]
    },
    {
     "name": "stderr",
     "output_type": "stream",
     "text": [
      "处理参考文献 https://openalex.org/W4392054560: 100%|██████████| 38/38 [00:51<00:00,  1.34s/it]\n"
     ]
    },
    {
     "name": "stdout",
     "output_type": "stream",
     "text": [
      "开始处理论文 https://openalex.org/W4392054560，总被引: 5，预计页数: 1\n"
     ]
    },
    {
     "name": "stderr",
     "output_type": "stream",
     "text": [
      "分页获取: 100%|██████████| 1/1 [00:01<00:00,  1.63s/it]\n",
      "处理参考文献 https://openalex.org/W4367624656: 100%|██████████| 20/20 [00:34<00:00,  1.71s/it]\n"
     ]
    },
    {
     "name": "stdout",
     "output_type": "stream",
     "text": [
      "开始处理论文 https://openalex.org/W4367624656，总被引: 10，预计页数: 1\n"
     ]
    },
    {
     "name": "stderr",
     "output_type": "stream",
     "text": [
      "分页获取: 100%|██████████| 1/1 [00:01<00:00,  1.96s/it]\n",
      "处理参考文献 https://openalex.org/W3200252980: 100%|██████████| 22/22 [00:30<00:00,  1.38s/it]\n"
     ]
    },
    {
     "name": "stdout",
     "output_type": "stream",
     "text": [
      "开始处理论文 https://openalex.org/W3200252980，总被引: 5，预计页数: 1\n"
     ]
    },
    {
     "name": "stderr",
     "output_type": "stream",
     "text": [
      "分页获取: 100%|██████████| 1/1 [00:01<00:00,  1.59s/it]\n",
      "处理参考文献 https://openalex.org/W4396769045: 100%|██████████| 120/120 [03:03<00:00,  1.53s/it]\n"
     ]
    },
    {
     "name": "stdout",
     "output_type": "stream",
     "text": [
      "开始处理论文 https://openalex.org/W4396769045，总被引: 16，预计页数: 1\n"
     ]
    },
    {
     "name": "stderr",
     "output_type": "stream",
     "text": [
      "分页获取: 100%|██████████| 1/1 [00:02<00:00,  2.64s/it]\n",
      "处理种子论文:  29%|██▉       | 540/1849 [7:30:58<41:52:45, 115.18s/it]"
     ]
    },
    {
     "name": "stdout",
     "output_type": "stream",
     "text": [
      "警告: 论文 https://openalex.org/W4396769045 应获取 16 条，实际获取 17 条\n"
     ]
    },
    {
     "name": "stderr",
     "output_type": "stream",
     "text": [
      "处理参考文献 https://openalex.org/W4385892579: 100%|██████████| 1/1 [00:01<00:00,  1.11s/it]\n"
     ]
    },
    {
     "name": "stdout",
     "output_type": "stream",
     "text": [
      "开始处理论文 https://openalex.org/W4385892579，总被引: 3，预计页数: 1\n"
     ]
    },
    {
     "name": "stderr",
     "output_type": "stream",
     "text": [
      "分页获取: 100%|██████████| 1/1 [00:01<00:00,  1.78s/it]\n",
      "处理种子论文:  29%|██▉       | 541/1849 [7:31:06<30:10:43, 83.06s/it] "
     ]
    },
    {
     "name": "stdout",
     "output_type": "stream",
     "text": [
      "已保存临时结果\n"
     ]
    },
    {
     "name": "stderr",
     "output_type": "stream",
     "text": [
      "处理参考文献 https://openalex.org/W3196975904: 100%|██████████| 66/66 [01:18<00:00,  1.18s/it]\n"
     ]
    },
    {
     "name": "stdout",
     "output_type": "stream",
     "text": [
      "开始处理论文 https://openalex.org/W3196975904，总被引: 4，预计页数: 1\n"
     ]
    },
    {
     "name": "stderr",
     "output_type": "stream",
     "text": [
      "分页获取: 100%|██████████| 1/1 [00:01<00:00,  1.48s/it]\n",
      "处理参考文献 https://openalex.org/W3166654276: 100%|██████████| 11/11 [00:27<00:00,  2.49s/it]\n"
     ]
    },
    {
     "name": "stdout",
     "output_type": "stream",
     "text": [
      "开始处理论文 https://openalex.org/W3166654276，总被引: 3，预计页数: 1\n"
     ]
    },
    {
     "name": "stderr",
     "output_type": "stream",
     "text": [
      "分页获取: 100%|██████████| 1/1 [00:01<00:00,  1.53s/it]\n",
      "处理种子论文:  29%|██▉       | 543/1849 [7:32:55<23:58:17, 66.08s/it]"
     ]
    },
    {
     "name": "stdout",
     "output_type": "stream",
     "text": [
      "警告: 论文 https://openalex.org/W3166654276 应获取 3 条，实际获取 4 条\n",
      "开始处理论文 https://openalex.org/W4285346037，总被引: 9，预计页数: 1\n"
     ]
    },
    {
     "name": "stderr",
     "output_type": "stream",
     "text": [
      "分页获取: 100%|██████████| 1/1 [00:01<00:00,  1.76s/it]\n",
      "处理参考文献 https://openalex.org/W4205132527: 100%|██████████| 28/28 [00:34<00:00,  1.22s/it]\n"
     ]
    },
    {
     "name": "stdout",
     "output_type": "stream",
     "text": [
      "开始处理论文 https://openalex.org/W4205132527，总被引: 4，预计页数: 1\n"
     ]
    },
    {
     "name": "stderr",
     "output_type": "stream",
     "text": [
      "分页获取: 100%|██████████| 1/1 [00:01<00:00,  1.73s/it]\n",
      "处理参考文献 https://openalex.org/W4382769656: 100%|██████████| 53/53 [01:29<00:00,  1.68s/it]\n"
     ]
    },
    {
     "name": "stdout",
     "output_type": "stream",
     "text": [
      "开始处理论文 https://openalex.org/W4382769656，总被引: 7，预计页数: 1\n"
     ]
    },
    {
     "name": "stderr",
     "output_type": "stream",
     "text": [
      "分页获取: 100%|██████████| 1/1 [00:02<00:00,  2.75s/it]\n",
      "处理种子论文:  30%|██▉       | 546/1849 [7:35:10<21:34:23, 59.60s/it]"
     ]
    },
    {
     "name": "stdout",
     "output_type": "stream",
     "text": [
      "已保存临时结果\n",
      "开始处理论文 https://openalex.org/W1997832238，总被引: 2，预计页数: 1\n"
     ]
    },
    {
     "name": "stderr",
     "output_type": "stream",
     "text": [
      "分页获取: 100%|██████████| 1/1 [00:01<00:00,  1.70s/it]\n",
      "处理参考文献 https://openalex.org/W4385318047: 100%|██████████| 25/25 [00:38<00:00,  1.55s/it]\n"
     ]
    },
    {
     "name": "stdout",
     "output_type": "stream",
     "text": [
      "开始处理论文 https://openalex.org/W4385318047，总被引: 14，预计页数: 1\n"
     ]
    },
    {
     "name": "stderr",
     "output_type": "stream",
     "text": [
      "分页获取: 100%|██████████| 1/1 [00:01<00:00,  1.87s/it]\n",
      "处理参考文献 https://openalex.org/W262686696: 100%|██████████| 34/34 [00:54<00:00,  1.59s/it]\n"
     ]
    },
    {
     "name": "stdout",
     "output_type": "stream",
     "text": [
      "开始处理论文 https://openalex.org/W262686696，总被引: 2，预计页数: 1\n"
     ]
    },
    {
     "name": "stderr",
     "output_type": "stream",
     "text": [
      "分页获取: 100%|██████████| 1/1 [00:01<00:00,  1.81s/it]\n",
      "处理参考文献 https://openalex.org/W4221116348: 100%|██████████| 19/19 [00:29<00:00,  1.55s/it]\n"
     ]
    },
    {
     "name": "stdout",
     "output_type": "stream",
     "text": [
      "开始处理论文 https://openalex.org/W4221116348，总被引: 7，预计页数: 1\n"
     ]
    },
    {
     "name": "stderr",
     "output_type": "stream",
     "text": [
      "分页获取: 100%|██████████| 1/1 [00:01<00:00,  1.75s/it]\n",
      "处理参考文献 https://openalex.org/W4379796397: 100%|██████████| 21/21 [00:25<00:00,  1.21s/it]\n"
     ]
    },
    {
     "name": "stdout",
     "output_type": "stream",
     "text": [
      "开始处理论文 https://openalex.org/W4379796397，总被引: 4，预计页数: 1\n"
     ]
    },
    {
     "name": "stderr",
     "output_type": "stream",
     "text": [
      "分页获取: 100%|██████████| 1/1 [00:01<00:00,  1.83s/it]\n",
      "处理种子论文:  30%|██▉       | 551/1849 [7:37:52<14:00:03, 38.83s/it]"
     ]
    },
    {
     "name": "stdout",
     "output_type": "stream",
     "text": [
      "已保存临时结果\n"
     ]
    },
    {
     "name": "stderr",
     "output_type": "stream",
     "text": [
      "处理参考文献 https://openalex.org/W3182442431: 100%|██████████| 40/40 [00:55<00:00,  1.38s/it]\n"
     ]
    },
    {
     "name": "stdout",
     "output_type": "stream",
     "text": [
      "开始处理论文 https://openalex.org/W3182442431，总被引: 3，预计页数: 1\n"
     ]
    },
    {
     "name": "stderr",
     "output_type": "stream",
     "text": [
      "分页获取: 100%|██████████| 1/1 [00:01<00:00,  1.60s/it]\n",
      "处理参考文献 https://openalex.org/W4280555890: 100%|██████████| 35/35 [00:44<00:00,  1.27s/it]\n"
     ]
    },
    {
     "name": "stdout",
     "output_type": "stream",
     "text": [
      "开始处理论文 https://openalex.org/W4280555890，总被引: 5，预计页数: 1\n"
     ]
    },
    {
     "name": "stderr",
     "output_type": "stream",
     "text": [
      "分页获取: 100%|██████████| 1/1 [00:01<00:00,  1.88s/it]\n",
      "处理参考文献 https://openalex.org/W4391261881: 100%|██████████| 8/8 [00:09<00:00,  1.24s/it]\n"
     ]
    },
    {
     "name": "stdout",
     "output_type": "stream",
     "text": [
      "开始处理论文 https://openalex.org/W4391261881，总被引: 3，预计页数: 1\n"
     ]
    },
    {
     "name": "stderr",
     "output_type": "stream",
     "text": [
      "分页获取: 100%|██████████| 1/1 [00:01<00:00,  1.37s/it]\n",
      "处理参考文献 https://openalex.org/W4393116223: 100%|██████████| 26/26 [00:32<00:00,  1.24s/it]\n"
     ]
    },
    {
     "name": "stdout",
     "output_type": "stream",
     "text": [
      "开始处理论文 https://openalex.org/W4393116223，总被引: 11，预计页数: 1\n"
     ]
    },
    {
     "name": "stderr",
     "output_type": "stream",
     "text": [
      "分页获取: 100%|██████████| 1/1 [00:01<00:00,  1.89s/it]\n",
      "处理参考文献 https://openalex.org/W4382559875: 100%|██████████| 4/4 [00:04<00:00,  1.16s/it]\n"
     ]
    },
    {
     "name": "stdout",
     "output_type": "stream",
     "text": [
      "开始处理论文 https://openalex.org/W4382559875，总被引: 4，预计页数: 1\n"
     ]
    },
    {
     "name": "stderr",
     "output_type": "stream",
     "text": [
      "分页获取: 100%|██████████| 1/1 [00:02<00:00,  2.92s/it]\n",
      "处理种子论文:  30%|███       | 556/1849 [7:40:33<10:06:52, 28.16s/it]"
     ]
    },
    {
     "name": "stdout",
     "output_type": "stream",
     "text": [
      "已保存临时结果\n"
     ]
    },
    {
     "name": "stderr",
     "output_type": "stream",
     "text": [
      "处理参考文献 https://openalex.org/W4296711119: 100%|██████████| 32/32 [00:41<00:00,  1.28s/it]\n"
     ]
    },
    {
     "name": "stdout",
     "output_type": "stream",
     "text": [
      "开始处理论文 https://openalex.org/W4296711119，总被引: 7，预计页数: 1\n"
     ]
    },
    {
     "name": "stderr",
     "output_type": "stream",
     "text": [
      "分页获取: 100%|██████████| 1/1 [00:02<00:00,  2.54s/it]\n",
      "处理参考文献 https://openalex.org/W4295837809: 100%|██████████| 23/23 [00:33<00:00,  1.46s/it]\n"
     ]
    },
    {
     "name": "stdout",
     "output_type": "stream",
     "text": [
      "开始处理论文 https://openalex.org/W4295837809，总被引: 4，预计页数: 1\n"
     ]
    },
    {
     "name": "stderr",
     "output_type": "stream",
     "text": [
      "分页获取: 100%|██████████| 1/1 [00:01<00:00,  1.87s/it]\n",
      "处理参考文献 https://openalex.org/W4391794941: 100%|██████████| 2/2 [00:03<00:00,  1.60s/it]\n"
     ]
    },
    {
     "name": "stdout",
     "output_type": "stream",
     "text": [
      "开始处理论文 https://openalex.org/W4391794941，总被引: 4，预计页数: 1\n"
     ]
    },
    {
     "name": "stderr",
     "output_type": "stream",
     "text": [
      "分页获取: 100%|██████████| 1/1 [00:01<00:00,  1.52s/it]\n",
      "处理种子论文:  30%|███       | 559/1849 [7:41:57<8:56:05, 24.93s/it] "
     ]
    },
    {
     "name": "stdout",
     "output_type": "stream",
     "text": [
      "开始处理论文 https://openalex.org/W4297542760，总被引: 4，预计页数: 1\n"
     ]
    },
    {
     "name": "stderr",
     "output_type": "stream",
     "text": [
      "分页获取: 100%|██████████| 1/1 [00:02<00:00,  2.15s/it]\n",
      "处理参考文献 https://openalex.org/W3022746193: 100%|██████████| 6/6 [00:06<00:00,  1.16s/it]\n"
     ]
    },
    {
     "name": "stdout",
     "output_type": "stream",
     "text": [
      "开始处理论文 https://openalex.org/W3022746193，总被引: 2，预计页数: 1\n"
     ]
    },
    {
     "name": "stderr",
     "output_type": "stream",
     "text": [
      "分页获取: 100%|██████████| 1/1 [00:01<00:00,  1.68s/it]\n",
      "处理种子论文:  30%|███       | 561/1849 [7:42:13<6:02:09, 16.87s/it]"
     ]
    },
    {
     "name": "stdout",
     "output_type": "stream",
     "text": [
      "已保存临时结果\n"
     ]
    },
    {
     "name": "stderr",
     "output_type": "stream",
     "text": [
      "处理参考文献 https://openalex.org/W4281936039: 100%|██████████| 3/3 [00:04<00:00,  1.43s/it]\n"
     ]
    },
    {
     "name": "stdout",
     "output_type": "stream",
     "text": [
      "开始处理论文 https://openalex.org/W4281936039，总被引: 3，预计页数: 1\n"
     ]
    },
    {
     "name": "stderr",
     "output_type": "stream",
     "text": [
      "分页获取: 100%|██████████| 1/1 [00:02<00:00,  2.82s/it]\n",
      "处理参考文献 https://openalex.org/W4400981518: 100%|██████████| 58/58 [01:15<00:00,  1.30s/it]\n"
     ]
    },
    {
     "name": "stdout",
     "output_type": "stream",
     "text": [
      "开始处理论文 https://openalex.org/W4400981518，总被引: 9，预计页数: 1\n"
     ]
    },
    {
     "name": "stderr",
     "output_type": "stream",
     "text": [
      "分页获取: 100%|██████████| 1/1 [00:02<00:00,  2.03s/it]\n",
      "处理参考文献 https://openalex.org/W3190927236: 100%|██████████| 33/33 [00:39<00:00,  1.20s/it]\n"
     ]
    },
    {
     "name": "stdout",
     "output_type": "stream",
     "text": [
      "开始处理论文 https://openalex.org/W3190927236，总被引: 3，预计页数: 1\n"
     ]
    },
    {
     "name": "stderr",
     "output_type": "stream",
     "text": [
      "分页获取: 100%|██████████| 1/1 [00:01<00:00,  1.52s/it]\n",
      "处理种子论文:  31%|███       | 564/1849 [7:44:19<12:40:51, 35.53s/it]"
     ]
    },
    {
     "name": "stdout",
     "output_type": "stream",
     "text": [
      "获取论文W2145339207时出错：('Connection aborted.', ConnectionResetError(10054, 'An existing connection was forcibly closed by the remote host', None, 10054, None))\n"
     ]
    },
    {
     "name": "stderr",
     "output_type": "stream",
     "text": [
      "处理参考文献 https://openalex.org/W4390777244: 100%|██████████| 9/9 [00:17<00:00,  1.89s/it]\n"
     ]
    },
    {
     "name": "stdout",
     "output_type": "stream",
     "text": [
      "开始处理论文 https://openalex.org/W4390777244，总被引: 8，预计页数: 1\n"
     ]
    },
    {
     "name": "stderr",
     "output_type": "stream",
     "text": [
      "分页获取: 100%|██████████| 1/1 [00:03<00:00,  3.34s/it]\n",
      "处理种子论文:  31%|███       | 565/1849 [7:44:40<11:03:10, 30.99s/it]"
     ]
    },
    {
     "name": "stdout",
     "output_type": "stream",
     "text": [
      "警告: 论文 https://openalex.org/W4390777244 应获取 8 条，实际获取 9 条\n"
     ]
    },
    {
     "name": "stderr",
     "output_type": "stream",
     "text": [
      "处理参考文献 https://openalex.org/W4386825977: 100%|██████████| 43/43 [00:50<00:00,  1.18s/it]\n"
     ]
    },
    {
     "name": "stdout",
     "output_type": "stream",
     "text": [
      "开始处理论文 https://openalex.org/W4386825977，总被引: 8，预计页数: 1\n"
     ]
    },
    {
     "name": "stderr",
     "output_type": "stream",
     "text": [
      "分页获取: 100%|██████████| 1/1 [00:04<00:00,  4.21s/it]\n"
     ]
    },
    {
     "name": "stdout",
     "output_type": "stream",
     "text": [
      "警告: 论文 https://openalex.org/W4386825977 应获取 8 条，实际获取 10 条\n"
     ]
    },
    {
     "name": "stderr",
     "output_type": "stream",
     "text": [
      "处理种子论文:  31%|███       | 566/1849 [7:45:40<14:13:54, 39.93s/it]"
     ]
    },
    {
     "name": "stdout",
     "output_type": "stream",
     "text": [
      "已保存临时结果\n"
     ]
    },
    {
     "name": "stderr",
     "output_type": "stream",
     "text": [
      "处理参考文献 https://openalex.org/W4316035980: 100%|██████████| 24/24 [00:30<00:00,  1.27s/it]\n"
     ]
    },
    {
     "name": "stdout",
     "output_type": "stream",
     "text": [
      "开始处理论文 https://openalex.org/W4316035980，总被引: 4，预计页数: 1\n"
     ]
    },
    {
     "name": "stderr",
     "output_type": "stream",
     "text": [
      "分页获取: 100%|██████████| 1/1 [00:01<00:00,  1.99s/it]\n",
      "处理参考文献 https://openalex.org/W4394883974: 100%|██████████| 54/54 [01:19<00:00,  1.47s/it]\n"
     ]
    },
    {
     "name": "stdout",
     "output_type": "stream",
     "text": [
      "开始处理论文 https://openalex.org/W4394883974，总被引: 4，预计页数: 1\n"
     ]
    },
    {
     "name": "stderr",
     "output_type": "stream",
     "text": [
      "分页获取: 100%|██████████| 1/1 [00:01<00:00,  1.63s/it]\n",
      "处理参考文献 https://openalex.org/W4389257885: 100%|██████████| 51/51 [01:16<00:00,  1.50s/it]\n"
     ]
    },
    {
     "name": "stdout",
     "output_type": "stream",
     "text": [
      "开始处理论文 https://openalex.org/W4389257885，总被引: 5，预计页数: 1\n"
     ]
    },
    {
     "name": "stderr",
     "output_type": "stream",
     "text": [
      "分页获取: 100%|██████████| 1/1 [00:01<00:00,  1.96s/it]\n",
      "处理种子论文:  31%|███       | 569/1849 [7:48:53<21:01:42, 59.14s/it]"
     ]
    },
    {
     "name": "stdout",
     "output_type": "stream",
     "text": [
      "开始处理论文 https://openalex.org/W3154646819，总被引: 8，预计页数: 1\n"
     ]
    },
    {
     "name": "stderr",
     "output_type": "stream",
     "text": [
      "分页获取: 100%|██████████| 1/1 [00:01<00:00,  1.53s/it]\n",
      "处理参考文献 https://openalex.org/W4221011706: 100%|██████████| 22/22 [00:28<00:00,  1.30s/it]\n"
     ]
    },
    {
     "name": "stdout",
     "output_type": "stream",
     "text": [
      "开始处理论文 https://openalex.org/W4221011706，总被引: 9，预计页数: 1\n"
     ]
    },
    {
     "name": "stderr",
     "output_type": "stream",
     "text": [
      "分页获取: 100%|██████████| 1/1 [00:01<00:00,  1.78s/it]\n",
      "处理种子论文:  31%|███       | 571/1849 [7:49:31<14:19:13, 40.34s/it]"
     ]
    },
    {
     "name": "stdout",
     "output_type": "stream",
     "text": [
      "已保存临时结果\n"
     ]
    },
    {
     "name": "stderr",
     "output_type": "stream",
     "text": [
      "处理参考文献 https://openalex.org/W4210679228: 100%|██████████| 62/62 [01:22<00:00,  1.33s/it]\n"
     ]
    },
    {
     "name": "stdout",
     "output_type": "stream",
     "text": [
      "开始处理论文 https://openalex.org/W4210679228，总被引: 6，预计页数: 1\n"
     ]
    },
    {
     "name": "stderr",
     "output_type": "stream",
     "text": [
      "分页获取: 100%|██████████| 1/1 [00:02<00:00,  2.83s/it]\n",
      "处理种子论文:  31%|███       | 572/1849 [7:50:57<19:05:50, 53.84s/it]"
     ]
    },
    {
     "name": "stdout",
     "output_type": "stream",
     "text": [
      "开始处理论文 https://openalex.org/W4220882863，总被引: 5，预计页数: 1\n"
     ]
    },
    {
     "name": "stderr",
     "output_type": "stream",
     "text": [
      "分页获取: 100%|██████████| 1/1 [00:01<00:00,  1.79s/it]\n",
      "处理参考文献 https://openalex.org/W4382877914: 100%|██████████| 5/5 [00:06<00:00,  1.29s/it]\n"
     ]
    },
    {
     "name": "stdout",
     "output_type": "stream",
     "text": [
      "开始处理论文 https://openalex.org/W4382877914，总被引: 6，预计页数: 1\n"
     ]
    },
    {
     "name": "stderr",
     "output_type": "stream",
     "text": [
      "分页获取: 100%|██████████| 1/1 [00:02<00:00,  2.74s/it]\n",
      "处理参考文献 https://openalex.org/W3189206326: 100%|██████████| 20/20 [00:25<00:00,  1.29s/it]\n"
     ]
    },
    {
     "name": "stdout",
     "output_type": "stream",
     "text": [
      "开始处理论文 https://openalex.org/W3189206326，总被引: 9，预计页数: 1\n"
     ]
    },
    {
     "name": "stderr",
     "output_type": "stream",
     "text": [
      "分页获取: 100%|██████████| 1/1 [00:02<00:00,  2.47s/it]\n",
      "处理参考文献 https://openalex.org/W3013685219: 100%|██████████| 1/1 [00:01<00:00,  1.24s/it]\n"
     ]
    },
    {
     "name": "stdout",
     "output_type": "stream",
     "text": [
      "开始处理论文 https://openalex.org/W3013685219，总被引: 102，预计页数: 1\n"
     ]
    },
    {
     "name": "stderr",
     "output_type": "stream",
     "text": [
      "分页获取: 100%|██████████| 1/1 [00:03<00:00,  3.35s/it]\n"
     ]
    },
    {
     "name": "stdout",
     "output_type": "stream",
     "text": [
      "警告: 论文 https://openalex.org/W3013685219 应获取 102 条，实际获取 104 条\n"
     ]
    },
    {
     "name": "stderr",
     "output_type": "stream",
     "text": [
      "处理种子论文:  31%|███       | 576/1849 [7:51:46<8:17:22, 23.44s/it] "
     ]
    },
    {
     "name": "stdout",
     "output_type": "stream",
     "text": [
      "已保存临时结果\n"
     ]
    },
    {
     "name": "stderr",
     "output_type": "stream",
     "text": [
      "处理参考文献 https://openalex.org/W4225135687: 100%|██████████| 19/19 [00:25<00:00,  1.37s/it]\n"
     ]
    },
    {
     "name": "stdout",
     "output_type": "stream",
     "text": [
      "开始处理论文 https://openalex.org/W4225135687，总被引: 9，预计页数: 1\n"
     ]
    },
    {
     "name": "stderr",
     "output_type": "stream",
     "text": [
      "分页获取: 100%|██████████| 1/1 [00:02<00:00,  2.08s/it]\n",
      "处理种子论文:  31%|███       | 577/1849 [7:52:14<8:46:37, 24.84s/it]"
     ]
    },
    {
     "name": "stdout",
     "output_type": "stream",
     "text": [
      "开始处理论文 https://openalex.org/W4403797481，总被引: 3，预计页数: 1\n"
     ]
    },
    {
     "name": "stderr",
     "output_type": "stream",
     "text": [
      "分页获取: 100%|██████████| 1/1 [00:01<00:00,  1.62s/it]\n",
      "处理参考文献 https://openalex.org/W4382753988: 100%|██████████| 64/64 [01:19<00:00,  1.23s/it]\n"
     ]
    },
    {
     "name": "stdout",
     "output_type": "stream",
     "text": [
      "开始处理论文 https://openalex.org/W4382753988，总被引: 5，预计页数: 1\n"
     ]
    },
    {
     "name": "stderr",
     "output_type": "stream",
     "text": [
      "分页获取: 100%|██████████| 1/1 [00:01<00:00,  1.50s/it]\n",
      "处理参考文献 https://openalex.org/W4297808713: 100%|██████████| 5/5 [00:05<00:00,  1.14s/it]\n"
     ]
    },
    {
     "name": "stdout",
     "output_type": "stream",
     "text": [
      "开始处理论文 https://openalex.org/W4297808713，总被引: 2，预计页数: 1\n"
     ]
    },
    {
     "name": "stderr",
     "output_type": "stream",
     "text": [
      "分页获取: 100%|██████████| 1/1 [00:01<00:00,  1.44s/it]\n",
      "处理参考文献 https://openalex.org/W4382698661: 100%|██████████| 52/52 [01:17<00:00,  1.48s/it]\n"
     ]
    },
    {
     "name": "stdout",
     "output_type": "stream",
     "text": [
      "开始处理论文 https://openalex.org/W4382698661，总被引: 5，预计页数: 1\n"
     ]
    },
    {
     "name": "stderr",
     "output_type": "stream",
     "text": [
      "分页获取: 100%|██████████| 1/1 [00:01<00:00,  1.40s/it]\n",
      "处理种子论文:  31%|███▏      | 581/1849 [7:55:07<15:43:50, 44.66s/it]"
     ]
    },
    {
     "name": "stdout",
     "output_type": "stream",
     "text": [
      "已保存临时结果\n"
     ]
    },
    {
     "name": "stderr",
     "output_type": "stream",
     "text": [
      "处理参考文献 https://openalex.org/W3128851272: 100%|██████████| 6/6 [00:06<00:00,  1.11s/it]\n"
     ]
    },
    {
     "name": "stdout",
     "output_type": "stream",
     "text": [
      "开始处理论文 https://openalex.org/W3128851272，总被引: 3，预计页数: 1\n"
     ]
    },
    {
     "name": "stderr",
     "output_type": "stream",
     "text": [
      "分页获取: 100%|██████████| 1/1 [00:01<00:00,  1.61s/it]\n",
      "处理参考文献 https://openalex.org/W4281710171: 100%|██████████| 24/24 [00:35<00:00,  1.46s/it]\n"
     ]
    },
    {
     "name": "stdout",
     "output_type": "stream",
     "text": [
      "开始处理论文 https://openalex.org/W4281710171，总被引: 4，预计页数: 1\n"
     ]
    },
    {
     "name": "stderr",
     "output_type": "stream",
     "text": [
      "分页获取: 100%|██████████| 1/1 [00:02<00:00,  2.42s/it]\n",
      "处理参考文献 https://openalex.org/W3086934053: 100%|██████████| 34/34 [00:38<00:00,  1.14s/it]\n"
     ]
    },
    {
     "name": "stdout",
     "output_type": "stream",
     "text": [
      "开始处理论文 https://openalex.org/W3086934053，总被引: 6，预计页数: 1\n"
     ]
    },
    {
     "name": "stderr",
     "output_type": "stream",
     "text": [
      "分页获取: 100%|██████████| 1/1 [00:01<00:00,  1.81s/it]\n",
      "处理参考文献 https://openalex.org/W4396577200: 100%|██████████| 45/45 [01:08<00:00,  1.53s/it]\n"
     ]
    },
    {
     "name": "stdout",
     "output_type": "stream",
     "text": [
      "开始处理论文 https://openalex.org/W4396577200，总被引: 4，预计页数: 1\n"
     ]
    },
    {
     "name": "stderr",
     "output_type": "stream",
     "text": [
      "分页获取: 100%|██████████| 1/1 [00:06<00:00,  6.10s/it]\n",
      "处理参考文献 https://openalex.org/W4399783058: 100%|██████████| 13/13 [00:16<00:00,  1.23s/it]\n"
     ]
    },
    {
     "name": "stdout",
     "output_type": "stream",
     "text": [
      "开始处理论文 https://openalex.org/W4399783058，总被引: 4，预计页数: 1\n"
     ]
    },
    {
     "name": "stderr",
     "output_type": "stream",
     "text": [
      "分页获取: 100%|██████████| 1/1 [00:01<00:00,  1.72s/it]\n"
     ]
    },
    {
     "name": "stdout",
     "output_type": "stream",
     "text": [
      "警告: 论文 https://openalex.org/W4399783058 应获取 4 条，实际获取 5 条\n"
     ]
    },
    {
     "name": "stderr",
     "output_type": "stream",
     "text": [
      "处理种子论文:  32%|███▏      | 586/1849 [7:58:12<14:15:48, 40.66s/it]"
     ]
    },
    {
     "name": "stdout",
     "output_type": "stream",
     "text": [
      "已保存临时结果\n",
      "开始处理论文 https://openalex.org/W2996042922，总被引: 3，预计页数: 1\n"
     ]
    },
    {
     "name": "stderr",
     "output_type": "stream",
     "text": [
      "分页获取: 100%|██████████| 1/1 [00:02<00:00,  2.08s/it]\n",
      "处理参考文献 https://openalex.org/W2987486071: 100%|██████████| 29/29 [00:35<00:00,  1.21s/it]\n"
     ]
    },
    {
     "name": "stdout",
     "output_type": "stream",
     "text": [
      "开始处理论文 https://openalex.org/W2987486071，总被引: 3，预计页数: 1\n"
     ]
    },
    {
     "name": "stderr",
     "output_type": "stream",
     "text": [
      "分页获取: 100%|██████████| 1/1 [00:02<00:00,  2.33s/it]\n",
      "处理参考文献 https://openalex.org/W4386204314: 100%|██████████| 4/4 [00:04<00:00,  1.12s/it]\n"
     ]
    },
    {
     "name": "stdout",
     "output_type": "stream",
     "text": [
      "开始处理论文 https://openalex.org/W4386204314，总被引: 2，预计页数: 1\n"
     ]
    },
    {
     "name": "stderr",
     "output_type": "stream",
     "text": [
      "分页获取: 100%|██████████| 1/1 [00:01<00:00,  1.49s/it]\n",
      "处理种子论文:  32%|███▏      | 589/1849 [7:58:58<8:22:10, 23.91s/it] "
     ]
    },
    {
     "name": "stdout",
     "output_type": "stream",
     "text": [
      "开始处理论文 https://openalex.org/W3152504401，总被引: 3，预计页数: 1\n"
     ]
    },
    {
     "name": "stderr",
     "output_type": "stream",
     "text": [
      "分页获取: 100%|██████████| 1/1 [00:01<00:00,  1.55s/it]\n",
      "处理参考文献 https://openalex.org/W3215807875: 100%|██████████| 45/45 [00:52<00:00,  1.17s/it]\n"
     ]
    },
    {
     "name": "stdout",
     "output_type": "stream",
     "text": [
      "开始处理论文 https://openalex.org/W3215807875，总被引: 7，预计页数: 1\n"
     ]
    },
    {
     "name": "stderr",
     "output_type": "stream",
     "text": [
      "分页获取: 100%|██████████| 1/1 [00:02<00:00,  2.01s/it]\n",
      "处理种子论文:  32%|███▏      | 591/1849 [7:59:59<10:30:19, 30.06s/it]"
     ]
    },
    {
     "name": "stdout",
     "output_type": "stream",
     "text": [
      "已保存临时结果\n"
     ]
    },
    {
     "name": "stderr",
     "output_type": "stream",
     "text": [
      "处理参考文献 https://openalex.org/W4200282691: 100%|██████████| 14/14 [00:17<00:00,  1.25s/it]\n"
     ]
    },
    {
     "name": "stdout",
     "output_type": "stream",
     "text": [
      "开始处理论文 https://openalex.org/W4200282691，总被引: 2，预计页数: 1\n"
     ]
    },
    {
     "name": "stderr",
     "output_type": "stream",
     "text": [
      "分页获取: 100%|██████████| 1/1 [00:01<00:00,  1.45s/it]\n",
      "处理参考文献 https://openalex.org/W3130008805: 100%|██████████| 7/7 [00:07<00:00,  1.08s/it]\n"
     ]
    },
    {
     "name": "stdout",
     "output_type": "stream",
     "text": [
      "开始处理论文 https://openalex.org/W3130008805，总被引: 3，预计页数: 1\n"
     ]
    },
    {
     "name": "stderr",
     "output_type": "stream",
     "text": [
      "分页获取: 100%|██████████| 1/1 [00:01<00:00,  1.34s/it]\n",
      "处理参考文献 https://openalex.org/W3164275068: 100%|██████████| 123/123 [02:44<00:00,  1.34s/it]\n"
     ]
    },
    {
     "name": "stdout",
     "output_type": "stream",
     "text": [
      "开始处理论文 https://openalex.org/W3164275068，总被引: 6，预计页数: 1\n"
     ]
    },
    {
     "name": "stderr",
     "output_type": "stream",
     "text": [
      "分页获取: 100%|██████████| 1/1 [00:01<00:00,  1.98s/it]\n",
      "处理参考文献 https://openalex.org/W4294253397: 100%|██████████| 46/46 [00:56<00:00,  1.23s/it]\n"
     ]
    },
    {
     "name": "stdout",
     "output_type": "stream",
     "text": [
      "开始处理论文 https://openalex.org/W4294253397，总被引: 2，预计页数: 1\n"
     ]
    },
    {
     "name": "stderr",
     "output_type": "stream",
     "text": [
      "分页获取: 100%|██████████| 1/1 [00:01<00:00,  1.43s/it]\n",
      "处理参考文献 https://openalex.org/W3177732945: 100%|██████████| 17/17 [00:20<00:00,  1.20s/it]\n"
     ]
    },
    {
     "name": "stdout",
     "output_type": "stream",
     "text": [
      "开始处理论文 https://openalex.org/W3177732945，总被引: 3，预计页数: 1\n"
     ]
    },
    {
     "name": "stderr",
     "output_type": "stream",
     "text": [
      "分页获取: 100%|██████████| 1/1 [00:01<00:00,  1.50s/it]\n",
      "处理种子论文:  32%|███▏      | 596/1849 [8:04:40<18:12:26, 52.31s/it]"
     ]
    },
    {
     "name": "stdout",
     "output_type": "stream",
     "text": [
      "已保存临时结果\n"
     ]
    },
    {
     "name": "stderr",
     "output_type": "stream",
     "text": [
      "处理参考文献 https://openalex.org/W4387865657: 100%|██████████| 7/7 [00:08<00:00,  1.25s/it]\n"
     ]
    },
    {
     "name": "stdout",
     "output_type": "stream",
     "text": [
      "开始处理论文 https://openalex.org/W4387865657，总被引: 4，预计页数: 1\n"
     ]
    },
    {
     "name": "stderr",
     "output_type": "stream",
     "text": [
      "分页获取: 100%|██████████| 1/1 [00:01<00:00,  1.45s/it]\n",
      "处理参考文献 https://openalex.org/W4392112647: 100%|██████████| 18/18 [00:22<00:00,  1.27s/it]\n"
     ]
    },
    {
     "name": "stdout",
     "output_type": "stream",
     "text": [
      "开始处理论文 https://openalex.org/W4392112647，总被引: 4，预计页数: 1\n"
     ]
    },
    {
     "name": "stderr",
     "output_type": "stream",
     "text": [
      "分页获取: 100%|██████████| 1/1 [00:01<00:00,  1.88s/it]\n",
      "处理参考文献 https://openalex.org/W4362606524: 100%|██████████| 5/5 [00:05<00:00,  1.10s/it]\n"
     ]
    },
    {
     "name": "stdout",
     "output_type": "stream",
     "text": [
      "开始处理论文 https://openalex.org/W4362606524，总被引: 4，预计页数: 1\n"
     ]
    },
    {
     "name": "stderr",
     "output_type": "stream",
     "text": [
      "分页获取: 100%|██████████| 1/1 [00:01<00:00,  1.45s/it]\n",
      "处理参考文献 https://openalex.org/W3042378994: 100%|██████████| 5/5 [00:06<00:00,  1.36s/it]\n"
     ]
    },
    {
     "name": "stdout",
     "output_type": "stream",
     "text": [
      "开始处理论文 https://openalex.org/W3042378994，总被引: 4，预计页数: 1\n"
     ]
    },
    {
     "name": "stderr",
     "output_type": "stream",
     "text": [
      "分页获取: 100%|██████████| 1/1 [00:01<00:00,  1.43s/it]\n",
      "处理参考文献 https://openalex.org/W4320509766: 100%|██████████| 14/14 [00:16<00:00,  1.17s/it]\n"
     ]
    },
    {
     "name": "stdout",
     "output_type": "stream",
     "text": [
      "开始处理论文 https://openalex.org/W4320509766，总被引: 3，预计页数: 1\n"
     ]
    },
    {
     "name": "stderr",
     "output_type": "stream",
     "text": [
      "分页获取: 100%|██████████| 1/1 [00:01<00:00,  1.52s/it]\n",
      "处理种子论文:  33%|███▎      | 601/1849 [8:05:53<7:34:03, 21.83s/it]"
     ]
    },
    {
     "name": "stdout",
     "output_type": "stream",
     "text": [
      "已保存临时结果\n"
     ]
    },
    {
     "name": "stderr",
     "output_type": "stream",
     "text": [
      "处理参考文献 https://openalex.org/W3016758761: 100%|██████████| 5/5 [00:06<00:00,  1.27s/it]\n"
     ]
    },
    {
     "name": "stdout",
     "output_type": "stream",
     "text": [
      "开始处理论文 https://openalex.org/W3016758761，总被引: 9，预计页数: 1\n"
     ]
    },
    {
     "name": "stderr",
     "output_type": "stream",
     "text": [
      "分页获取: 100%|██████████| 1/1 [00:01<00:00,  1.84s/it]\n",
      "处理种子论文:  33%|███▎      | 602/1849 [8:06:01<6:08:54, 17.75s/it]"
     ]
    },
    {
     "name": "stdout",
     "output_type": "stream",
     "text": [
      "开始处理论文 https://openalex.org/W2810570244，总被引: 8，预计页数: 1\n"
     ]
    },
    {
     "name": "stderr",
     "output_type": "stream",
     "text": [
      "分页获取: 100%|██████████| 1/1 [00:01<00:00,  1.68s/it]\n",
      "处理参考文献 https://openalex.org/W4285468550: 100%|██████████| 4/4 [00:04<00:00,  1.20s/it]\n"
     ]
    },
    {
     "name": "stdout",
     "output_type": "stream",
     "text": [
      "开始处理论文 https://openalex.org/W4285468550，总被引: 5，预计页数: 1\n"
     ]
    },
    {
     "name": "stderr",
     "output_type": "stream",
     "text": [
      "分页获取: 100%|██████████| 1/1 [00:01<00:00,  1.82s/it]\n",
      "处理参考文献 https://openalex.org/W4297997532: 100%|██████████| 11/11 [00:13<00:00,  1.25s/it]\n"
     ]
    },
    {
     "name": "stdout",
     "output_type": "stream",
     "text": [
      "开始处理论文 https://openalex.org/W4297997532，总被引: 3，预计页数: 1\n"
     ]
    },
    {
     "name": "stderr",
     "output_type": "stream",
     "text": [
      "分页获取: 100%|██████████| 1/1 [00:01<00:00,  1.69s/it]\n",
      "处理参考文献 https://openalex.org/W4392623987: 100%|██████████| 48/48 [01:06<00:00,  1.39s/it]\n"
     ]
    },
    {
     "name": "stdout",
     "output_type": "stream",
     "text": [
      "开始处理论文 https://openalex.org/W4392623987，总被引: 9，预计页数: 1\n"
     ]
    },
    {
     "name": "stderr",
     "output_type": "stream",
     "text": [
      "分页获取: 100%|██████████| 1/1 [00:01<00:00,  1.67s/it]\n",
      "处理种子论文:  33%|███▎      | 606/1849 [8:07:39<10:38:45, 30.83s/it]"
     ]
    },
    {
     "name": "stdout",
     "output_type": "stream",
     "text": [
      "已保存临时结果\n"
     ]
    },
    {
     "name": "stderr",
     "output_type": "stream",
     "text": [
      "处理参考文献 https://openalex.org/W2895317931: 100%|██████████| 2/2 [00:02<00:00,  1.28s/it]\n"
     ]
    },
    {
     "name": "stdout",
     "output_type": "stream",
     "text": [
      "开始处理论文 https://openalex.org/W2895317931，总被引: 2，预计页数: 1\n"
     ]
    },
    {
     "name": "stderr",
     "output_type": "stream",
     "text": [
      "分页获取: 100%|██████████| 1/1 [00:01<00:00,  1.50s/it]\n",
      "处理参考文献 https://openalex.org/W4385514879: 100%|██████████| 10/10 [00:11<00:00,  1.15s/it]\n"
     ]
    },
    {
     "name": "stdout",
     "output_type": "stream",
     "text": [
      "开始处理论文 https://openalex.org/W4385514879，总被引: 3，预计页数: 1\n"
     ]
    },
    {
     "name": "stderr",
     "output_type": "stream",
     "text": [
      "分页获取: 100%|██████████| 1/1 [00:01<00:00,  1.59s/it]\n",
      "处理参考文献 https://openalex.org/W4380849107: 100%|██████████| 16/16 [00:20<00:00,  1.28s/it]\n"
     ]
    },
    {
     "name": "stdout",
     "output_type": "stream",
     "text": [
      "开始处理论文 https://openalex.org/W4380849107，总被引: 1，预计页数: 1\n"
     ]
    },
    {
     "name": "stderr",
     "output_type": "stream",
     "text": [
      "分页获取: 100%|██████████| 1/1 [00:01<00:00,  1.57s/it]\n",
      "处理参考文献 https://openalex.org/W4385811625: 100%|██████████| 18/18 [00:22<00:00,  1.22s/it]\n"
     ]
    },
    {
     "name": "stdout",
     "output_type": "stream",
     "text": [
      "开始处理论文 https://openalex.org/W4385811625，总被引: 7，预计页数: 1\n"
     ]
    },
    {
     "name": "stderr",
     "output_type": "stream",
     "text": [
      "分页获取: 100%|██████████| 1/1 [00:01<00:00,  1.78s/it]\n",
      "处理参考文献 https://openalex.org/W4396623214: 100%|██████████| 2/2 [00:02<00:00,  1.09s/it]\n"
     ]
    },
    {
     "name": "stdout",
     "output_type": "stream",
     "text": [
      "开始处理论文 https://openalex.org/W4396623214，总被引: 3，预计页数: 1\n"
     ]
    },
    {
     "name": "stderr",
     "output_type": "stream",
     "text": [
      "分页获取: 100%|██████████| 1/1 [00:01<00:00,  1.30s/it]\n",
      "处理种子论文:  33%|███▎      | 611/1849 [8:08:51<6:07:17, 17.80s/it]"
     ]
    },
    {
     "name": "stdout",
     "output_type": "stream",
     "text": [
      "已保存临时结果\n"
     ]
    },
    {
     "name": "stderr",
     "output_type": "stream",
     "text": [
      "处理参考文献 https://openalex.org/W4378211287: 100%|██████████| 77/77 [01:38<00:00,  1.28s/it]\n"
     ]
    },
    {
     "name": "stdout",
     "output_type": "stream",
     "text": [
      "开始处理论文 https://openalex.org/W4378211287，总被引: 4，预计页数: 1\n"
     ]
    },
    {
     "name": "stderr",
     "output_type": "stream",
     "text": [
      "分页获取: 100%|██████████| 1/1 [00:01<00:00,  1.66s/it]\n",
      "处理参考文献 https://openalex.org/W4312408175: 100%|██████████| 55/55 [01:11<00:00,  1.30s/it]\n"
     ]
    },
    {
     "name": "stdout",
     "output_type": "stream",
     "text": [
      "开始处理论文 https://openalex.org/W4312408175，总被引: 4，预计页数: 1\n"
     ]
    },
    {
     "name": "stderr",
     "output_type": "stream",
     "text": [
      "分页获取: 100%|██████████| 1/1 [00:01<00:00,  1.68s/it]\n",
      "处理参考文献 https://openalex.org/W4386559215: 100%|██████████| 4/4 [00:05<00:00,  1.37s/it]\n"
     ]
    },
    {
     "name": "stdout",
     "output_type": "stream",
     "text": [
      "开始处理论文 https://openalex.org/W4386559215，总被引: 2，预计页数: 1\n"
     ]
    },
    {
     "name": "stderr",
     "output_type": "stream",
     "text": [
      "分页获取: 100%|██████████| 1/1 [00:01<00:00,  1.70s/it]\n",
      "处理参考文献 https://openalex.org/W4391685253: 100%|██████████| 25/25 [00:27<00:00,  1.12s/it]\n"
     ]
    },
    {
     "name": "stdout",
     "output_type": "stream",
     "text": [
      "开始处理论文 https://openalex.org/W4391685253，总被引: 5，预计页数: 1\n"
     ]
    },
    {
     "name": "stderr",
     "output_type": "stream",
     "text": [
      "分页获取: 100%|██████████| 1/1 [00:01<00:00,  1.64s/it]\n",
      "处理种子论文:  33%|███▎      | 615/1849 [8:12:22<12:15:35, 35.77s/it]"
     ]
    },
    {
     "name": "stdout",
     "output_type": "stream",
     "text": [
      "开始处理论文 https://openalex.org/W3136238115，总被引: 3，预计页数: 1\n"
     ]
    },
    {
     "name": "stderr",
     "output_type": "stream",
     "text": [
      "分页获取: 100%|██████████| 1/1 [00:01<00:00,  1.86s/it]\n",
      "处理种子论文:  33%|███▎      | 616/1849 [8:12:29<9:18:54, 27.20s/it] "
     ]
    },
    {
     "name": "stdout",
     "output_type": "stream",
     "text": [
      "已保存临时结果\n"
     ]
    },
    {
     "name": "stderr",
     "output_type": "stream",
     "text": [
      "处理参考文献 https://openalex.org/W4386824905: 100%|██████████| 18/18 [00:22<00:00,  1.23s/it]\n"
     ]
    },
    {
     "name": "stdout",
     "output_type": "stream",
     "text": [
      "开始处理论文 https://openalex.org/W4386824905，总被引: 2，预计页数: 1\n"
     ]
    },
    {
     "name": "stderr",
     "output_type": "stream",
     "text": [
      "分页获取: 100%|██████████| 1/1 [00:01<00:00,  1.35s/it]\n",
      "处理参考文献 https://openalex.org/W4386742334: 100%|██████████| 49/49 [00:56<00:00,  1.16s/it]\n"
     ]
    },
    {
     "name": "stdout",
     "output_type": "stream",
     "text": [
      "开始处理论文 https://openalex.org/W4386742334，总被引: 4，预计页数: 1\n"
     ]
    },
    {
     "name": "stderr",
     "output_type": "stream",
     "text": [
      "分页获取: 100%|██████████| 1/1 [00:01<00:00,  1.83s/it]\n",
      "处理参考文献 https://openalex.org/W2915056244: 100%|██████████| 5/5 [00:08<00:00,  1.64s/it]\n"
     ]
    },
    {
     "name": "stdout",
     "output_type": "stream",
     "text": [
      "开始处理论文 https://openalex.org/W2915056244，总被引: 4，预计页数: 1\n"
     ]
    },
    {
     "name": "stderr",
     "output_type": "stream",
     "text": [
      "分页获取: 100%|██████████| 1/1 [00:01<00:00,  1.88s/it]\n",
      "处理参考文献 https://openalex.org/W4401198324: 100%|██████████| 60/60 [01:16<00:00,  1.28s/it]\n"
     ]
    },
    {
     "name": "stdout",
     "output_type": "stream",
     "text": [
      "开始处理论文 https://openalex.org/W4401198324，总被引: 6，预计页数: 1\n"
     ]
    },
    {
     "name": "stderr",
     "output_type": "stream",
     "text": [
      "分页获取: 100%|██████████| 1/1 [00:01<00:00,  1.94s/it]\n",
      "处理种子论文:  34%|███▎      | 620/1849 [8:15:20<14:48:10, 43.36s/it]"
     ]
    },
    {
     "name": "stdout",
     "output_type": "stream",
     "text": [
      "开始处理论文 https://openalex.org/W4391052954，总被引: 8，预计页数: 1\n"
     ]
    },
    {
     "name": "stderr",
     "output_type": "stream",
     "text": [
      "分页获取: 100%|██████████| 1/1 [00:02<00:00,  2.82s/it]\n",
      "处理种子论文:  34%|███▎      | 621/1849 [8:15:29<11:12:12, 32.84s/it]"
     ]
    },
    {
     "name": "stdout",
     "output_type": "stream",
     "text": [
      "已保存临时结果\n"
     ]
    },
    {
     "name": "stderr",
     "output_type": "stream",
     "text": [
      "处理参考文献 https://openalex.org/W4327795421: 100%|██████████| 48/48 [00:59<00:00,  1.23s/it]\n"
     ]
    },
    {
     "name": "stdout",
     "output_type": "stream",
     "text": [
      "开始处理论文 https://openalex.org/W4327795421，总被引: 5，预计页数: 1\n"
     ]
    },
    {
     "name": "stderr",
     "output_type": "stream",
     "text": [
      "分页获取: 100%|██████████| 1/1 [00:01<00:00,  1.42s/it]\n",
      "处理参考文献 https://openalex.org/W3137061345: 100%|██████████| 50/50 [01:03<00:00,  1.27s/it]\n"
     ]
    },
    {
     "name": "stdout",
     "output_type": "stream",
     "text": [
      "开始处理论文 https://openalex.org/W3137061345，总被引: 1，预计页数: 1\n"
     ]
    },
    {
     "name": "stderr",
     "output_type": "stream",
     "text": [
      "分页获取: 100%|██████████| 1/1 [00:01<00:00,  1.54s/it]\n",
      "处理参考文献 https://openalex.org/W2889038430: 100%|██████████| 9/9 [00:10<00:00,  1.14s/it]\n"
     ]
    },
    {
     "name": "stdout",
     "output_type": "stream",
     "text": [
      "开始处理论文 https://openalex.org/W2889038430，总被引: 1，预计页数: 1\n"
     ]
    },
    {
     "name": "stderr",
     "output_type": "stream",
     "text": [
      "分页获取: 100%|██████████| 1/1 [00:01<00:00,  1.47s/it]\n",
      "处理参考文献 https://openalex.org/W4380363215: 100%|██████████| 19/19 [00:23<00:00,  1.23s/it]\n"
     ]
    },
    {
     "name": "stdout",
     "output_type": "stream",
     "text": [
      "开始处理论文 https://openalex.org/W4380363215，总被引: 3，预计页数: 1\n"
     ]
    },
    {
     "name": "stderr",
     "output_type": "stream",
     "text": [
      "分页获取: 100%|██████████| 1/1 [00:01<00:00,  1.36s/it]\n",
      "处理参考文献 https://openalex.org/W4380225154: 100%|██████████| 22/22 [00:25<00:00,  1.15s/it]\n"
     ]
    },
    {
     "name": "stdout",
     "output_type": "stream",
     "text": [
      "开始处理论文 https://openalex.org/W4380225154，总被引: 9，预计页数: 1\n"
     ]
    },
    {
     "name": "stderr",
     "output_type": "stream",
     "text": [
      "分页获取: 100%|██████████| 1/1 [00:01<00:00,  1.68s/it]\n",
      "处理种子论文:  34%|███▍      | 626/1849 [8:18:43<11:17:08, 33.22s/it]"
     ]
    },
    {
     "name": "stdout",
     "output_type": "stream",
     "text": [
      "已保存临时结果\n"
     ]
    },
    {
     "name": "stderr",
     "output_type": "stream",
     "text": [
      "处理参考文献 https://openalex.org/W4400257155: 100%|██████████| 31/31 [00:35<00:00,  1.15s/it]\n"
     ]
    },
    {
     "name": "stdout",
     "output_type": "stream",
     "text": [
      "开始处理论文 https://openalex.org/W4400257155，总被引: 6，预计页数: 1\n"
     ]
    },
    {
     "name": "stderr",
     "output_type": "stream",
     "text": [
      "分页获取: 100%|██████████| 1/1 [00:01<00:00,  1.72s/it]\n",
      "处理参考文献 https://openalex.org/W4377115890: 100%|██████████| 15/15 [00:18<00:00,  1.24s/it]\n"
     ]
    },
    {
     "name": "stdout",
     "output_type": "stream",
     "text": [
      "开始处理论文 https://openalex.org/W4377115890，总被引: 4，预计页数: 1\n"
     ]
    },
    {
     "name": "stderr",
     "output_type": "stream",
     "text": [
      "分页获取: 100%|██████████| 1/1 [00:01<00:00,  1.37s/it]\n",
      "处理种子论文:  34%|███▍      | 628/1849 [8:19:40<10:13:03, 30.13s/it]"
     ]
    },
    {
     "name": "stdout",
     "output_type": "stream",
     "text": [
      "开始处理论文 https://openalex.org/W2913694659，总被引: 1，预计页数: 1\n"
     ]
    },
    {
     "name": "stderr",
     "output_type": "stream",
     "text": [
      "分页获取: 100%|██████████| 1/1 [00:01<00:00,  1.43s/it]\n",
      "处理参考文献 https://openalex.org/W4311890041: 100%|██████████| 1/1 [00:01<00:00,  1.18s/it]\n"
     ]
    },
    {
     "name": "stdout",
     "output_type": "stream",
     "text": [
      "开始处理论文 https://openalex.org/W4311890041，总被引: 1，预计页数: 1\n"
     ]
    },
    {
     "name": "stderr",
     "output_type": "stream",
     "text": [
      "分页获取: 100%|██████████| 1/1 [00:01<00:00,  1.32s/it]\n",
      "处理参考文献 https://openalex.org/W4387179515: 100%|██████████| 12/12 [00:14<00:00,  1.21s/it]\n"
     ]
    },
    {
     "name": "stdout",
     "output_type": "stream",
     "text": [
      "开始处理论文 https://openalex.org/W4387179515，总被引: 3，预计页数: 1\n"
     ]
    },
    {
     "name": "stderr",
     "output_type": "stream",
     "text": [
      "分页获取: 100%|██████████| 1/1 [00:01<00:00,  1.50s/it]\n",
      "处理种子论文:  34%|███▍      | 631/1849 [8:20:06<5:55:34, 17.52s/it]"
     ]
    },
    {
     "name": "stdout",
     "output_type": "stream",
     "text": [
      "已保存临时结果\n",
      "开始处理论文 https://openalex.org/W3021704162，总被引: 7，预计页数: 1\n"
     ]
    },
    {
     "name": "stderr",
     "output_type": "stream",
     "text": [
      "分页获取: 100%|██████████| 1/1 [00:01<00:00,  1.71s/it]\n",
      "处理参考文献 https://openalex.org/W4391968381: 100%|██████████| 9/9 [00:10<00:00,  1.12s/it]\n"
     ]
    },
    {
     "name": "stdout",
     "output_type": "stream",
     "text": [
      "开始处理论文 https://openalex.org/W4391968381，总被引: 2，预计页数: 1\n"
     ]
    },
    {
     "name": "stderr",
     "output_type": "stream",
     "text": [
      "分页获取: 100%|██████████| 1/1 [00:01<00:00,  1.43s/it]\n",
      "处理参考文献 https://openalex.org/W4308721289: 100%|██████████| 109/109 [02:16<00:00,  1.26s/it]\n"
     ]
    },
    {
     "name": "stdout",
     "output_type": "stream",
     "text": [
      "开始处理论文 https://openalex.org/W4308721289，总被引: 6，预计页数: 1\n"
     ]
    },
    {
     "name": "stderr",
     "output_type": "stream",
     "text": [
      "分页获取: 100%|██████████| 1/1 [00:01<00:00,  1.70s/it]\n",
      "处理参考文献 https://openalex.org/W4250512141: 100%|██████████| 33/33 [00:35<00:00,  1.06s/it]\n"
     ]
    },
    {
     "name": "stdout",
     "output_type": "stream",
     "text": [
      "开始处理论文 https://openalex.org/W4250512141，总被引: 2，预计页数: 1\n"
     ]
    },
    {
     "name": "stderr",
     "output_type": "stream",
     "text": [
      "分页获取: 100%|██████████| 1/1 [00:01<00:00,  1.39s/it]\n",
      "处理参考文献 https://openalex.org/W4312934296: 100%|██████████| 17/17 [00:19<00:00,  1.16s/it]\n"
     ]
    },
    {
     "name": "stdout",
     "output_type": "stream",
     "text": [
      "开始处理论文 https://openalex.org/W4312934296，总被引: 6，预计页数: 1\n"
     ]
    },
    {
     "name": "stderr",
     "output_type": "stream",
     "text": [
      "分页获取: 100%|██████████| 1/1 [00:01<00:00,  1.81s/it]\n",
      "处理种子论文:  34%|███▍      | 636/1849 [8:23:42<13:39:05, 40.52s/it]"
     ]
    },
    {
     "name": "stdout",
     "output_type": "stream",
     "text": [
      "已保存临时结果\n"
     ]
    },
    {
     "name": "stderr",
     "output_type": "stream",
     "text": [
      "处理参考文献 https://openalex.org/W3153170656: 100%|██████████| 7/7 [00:08<00:00,  1.21s/it]\n"
     ]
    },
    {
     "name": "stdout",
     "output_type": "stream",
     "text": [
      "开始处理论文 https://openalex.org/W3153170656，总被引: 3，预计页数: 1\n"
     ]
    },
    {
     "name": "stderr",
     "output_type": "stream",
     "text": [
      "分页获取: 100%|██████████| 1/1 [00:01<00:00,  1.41s/it]\n",
      "处理参考文献 https://openalex.org/W4394875003: 100%|██████████| 19/19 [00:21<00:00,  1.15s/it]\n"
     ]
    },
    {
     "name": "stdout",
     "output_type": "stream",
     "text": [
      "开始处理论文 https://openalex.org/W4394875003，总被引: 4，预计页数: 1\n"
     ]
    },
    {
     "name": "stderr",
     "output_type": "stream",
     "text": [
      "分页获取: 100%|██████████| 1/1 [00:01<00:00,  1.44s/it]\n",
      "处理种子论文:  35%|███▍      | 638/1849 [8:24:15<9:43:32, 28.91s/it] "
     ]
    },
    {
     "name": "stdout",
     "output_type": "stream",
     "text": [
      "警告: 论文 https://openalex.org/W4394875003 应获取 4 条，实际获取 5 条\n"
     ]
    },
    {
     "name": "stderr",
     "output_type": "stream",
     "text": [
      "处理参考文献 https://openalex.org/W4390629746: 100%|██████████| 1/1 [00:01<00:00,  1.18s/it]\n"
     ]
    },
    {
     "name": "stdout",
     "output_type": "stream",
     "text": [
      "开始处理论文 https://openalex.org/W4390629746，总被引: 2，预计页数: 1\n"
     ]
    },
    {
     "name": "stderr",
     "output_type": "stream",
     "text": [
      "分页获取: 100%|██████████| 1/1 [00:01<00:00,  1.37s/it]\n",
      "处理参考文献 https://openalex.org/W3212354103: 100%|██████████| 34/34 [00:40<00:00,  1.18s/it]\n"
     ]
    },
    {
     "name": "stdout",
     "output_type": "stream",
     "text": [
      "开始处理论文 https://openalex.org/W3212354103，总被引: 8，预计页数: 1\n"
     ]
    },
    {
     "name": "stderr",
     "output_type": "stream",
     "text": [
      "分页获取: 100%|██████████| 1/1 [00:01<00:00,  1.94s/it]\n",
      "处理参考文献 https://openalex.org/W4390499814: 100%|██████████| 27/27 [00:30<00:00,  1.14s/it]\n"
     ]
    },
    {
     "name": "stdout",
     "output_type": "stream",
     "text": [
      "开始处理论文 https://openalex.org/W4390499814，总被引: 3，预计页数: 1\n"
     ]
    },
    {
     "name": "stderr",
     "output_type": "stream",
     "text": [
      "分页获取: 100%|██████████| 1/1 [00:01<00:00,  1.42s/it]\n",
      "处理种子论文:  35%|███▍      | 641/1849 [8:25:37<10:13:45, 30.48s/it]"
     ]
    },
    {
     "name": "stdout",
     "output_type": "stream",
     "text": [
      "已保存临时结果\n"
     ]
    },
    {
     "name": "stderr",
     "output_type": "stream",
     "text": [
      "处理参考文献 https://openalex.org/W4405546422: 100%|██████████| 59/59 [01:06<00:00,  1.13s/it]\n"
     ]
    },
    {
     "name": "stdout",
     "output_type": "stream",
     "text": [
      "开始处理论文 https://openalex.org/W4405546422，总被引: 5，预计页数: 1\n"
     ]
    },
    {
     "name": "stderr",
     "output_type": "stream",
     "text": [
      "分页获取: 100%|██████████| 1/1 [00:01<00:00,  1.34s/it]\n",
      "处理参考文献 https://openalex.org/W4391847909: 100%|██████████| 101/101 [02:03<00:00,  1.22s/it]\n"
     ]
    },
    {
     "name": "stdout",
     "output_type": "stream",
     "text": [
      "开始处理论文 https://openalex.org/W4391847909，总被引: 8，预计页数: 1\n"
     ]
    },
    {
     "name": "stderr",
     "output_type": "stream",
     "text": [
      "分页获取: 100%|██████████| 1/1 [00:01<00:00,  1.68s/it]\n",
      "处理种子论文:  35%|███▍      | 643/1849 [8:28:50<22:21:33, 66.74s/it]"
     ]
    },
    {
     "name": "stdout",
     "output_type": "stream",
     "text": [
      "警告: 论文 https://openalex.org/W4391847909 应获取 8 条，实际获取 9 条\n"
     ]
    },
    {
     "name": "stderr",
     "output_type": "stream",
     "text": [
      "处理参考文献 https://openalex.org/W4392706990: 100%|██████████| 4/4 [00:06<00:00,  1.71s/it]\n"
     ]
    },
    {
     "name": "stdout",
     "output_type": "stream",
     "text": [
      "开始处理论文 https://openalex.org/W4392706990，总被引: 2，预计页数: 1\n"
     ]
    },
    {
     "name": "stderr",
     "output_type": "stream",
     "text": [
      "分页获取: 100%|██████████| 1/1 [00:01<00:00,  1.35s/it]\n",
      "处理种子论文:  35%|███▍      | 644/1849 [8:28:59<16:27:50, 49.19s/it]"
     ]
    },
    {
     "name": "stdout",
     "output_type": "stream",
     "text": [
      "开始处理论文 https://openalex.org/W3112300605，总被引: 3，预计页数: 1\n"
     ]
    },
    {
     "name": "stderr",
     "output_type": "stream",
     "text": [
      "分页获取: 100%|██████████| 1/1 [00:01<00:00,  1.59s/it]\n",
      "处理参考文献 https://openalex.org/W4312249094: 100%|██████████| 20/20 [00:23<00:00,  1.17s/it]\n"
     ]
    },
    {
     "name": "stdout",
     "output_type": "stream",
     "text": [
      "开始处理论文 https://openalex.org/W4312249094，总被引: 4，预计页数: 1\n"
     ]
    },
    {
     "name": "stderr",
     "output_type": "stream",
     "text": [
      "分页获取: 100%|██████████| 1/1 [00:01<00:00,  1.57s/it]\n",
      "处理种子论文:  35%|███▍      | 646/1849 [8:29:31<11:13:40, 33.60s/it]"
     ]
    },
    {
     "name": "stdout",
     "output_type": "stream",
     "text": [
      "已保存临时结果\n"
     ]
    },
    {
     "name": "stderr",
     "output_type": "stream",
     "text": [
      "处理参考文献 https://openalex.org/W3202115369: 100%|██████████| 3/3 [00:03<00:00,  1.05s/it]\n"
     ]
    },
    {
     "name": "stdout",
     "output_type": "stream",
     "text": [
      "开始处理论文 https://openalex.org/W3202115369，总被引: 1，预计页数: 1\n"
     ]
    },
    {
     "name": "stderr",
     "output_type": "stream",
     "text": [
      "分页获取: 100%|██████████| 1/1 [00:01<00:00,  1.39s/it]\n",
      "处理参考文献 https://openalex.org/W4396863907: 100%|██████████| 55/55 [01:05<00:00,  1.18s/it]\n"
     ]
    },
    {
     "name": "stdout",
     "output_type": "stream",
     "text": [
      "开始处理论文 https://openalex.org/W4396863907，总被引: 10，预计页数: 1\n"
     ]
    },
    {
     "name": "stderr",
     "output_type": "stream",
     "text": [
      "分页获取: 100%|██████████| 1/1 [00:01<00:00,  1.85s/it]\n",
      "处理参考文献 https://openalex.org/W3156258129: 100%|██████████| 1/1 [00:01<00:00,  1.34s/it]\n"
     ]
    },
    {
     "name": "stdout",
     "output_type": "stream",
     "text": [
      "开始处理论文 https://openalex.org/W3156258129，总被引: 2，预计页数: 1\n"
     ]
    },
    {
     "name": "stderr",
     "output_type": "stream",
     "text": [
      "分页获取: 100%|██████████| 1/1 [00:01<00:00,  1.50s/it]\n",
      "处理参考文献 https://openalex.org/W4377020697: 100%|██████████| 8/8 [00:08<00:00,  1.09s/it]\n"
     ]
    },
    {
     "name": "stdout",
     "output_type": "stream",
     "text": [
      "开始处理论文 https://openalex.org/W4377020697，总被引: 3，预计页数: 1\n"
     ]
    },
    {
     "name": "stderr",
     "output_type": "stream",
     "text": [
      "分页获取: 100%|██████████| 1/1 [00:01<00:00,  1.53s/it]\n",
      "处理参考文献 https://openalex.org/W4394201237: 100%|██████████| 14/14 [00:15<00:00,  1.12s/it]\n"
     ]
    },
    {
     "name": "stdout",
     "output_type": "stream",
     "text": [
      "开始处理论文 https://openalex.org/W4394201237，总被引: 4，预计页数: 1\n"
     ]
    },
    {
     "name": "stderr",
     "output_type": "stream",
     "text": [
      "分页获取: 100%|██████████| 1/1 [00:01<00:00,  1.67s/it]\n",
      "处理种子论文:  35%|███▌      | 651/1849 [8:31:18<7:25:01, 22.29s/it]"
     ]
    },
    {
     "name": "stdout",
     "output_type": "stream",
     "text": [
      "已保存临时结果\n"
     ]
    },
    {
     "name": "stderr",
     "output_type": "stream",
     "text": [
      "处理参考文献 https://openalex.org/W4399619293: 100%|██████████| 91/91 [01:51<00:00,  1.23s/it]\n"
     ]
    },
    {
     "name": "stdout",
     "output_type": "stream",
     "text": [
      "开始处理论文 https://openalex.org/W4399619293，总被引: 11，预计页数: 1\n"
     ]
    },
    {
     "name": "stderr",
     "output_type": "stream",
     "text": [
      "分页获取: 100%|██████████| 1/1 [00:04<00:00,  4.01s/it]\n",
      "处理参考文献 https://openalex.org/W4401452457: 100%|██████████| 71/71 [01:24<00:00,  1.19s/it]\n"
     ]
    },
    {
     "name": "stdout",
     "output_type": "stream",
     "text": [
      "开始处理论文 https://openalex.org/W4401452457，总被引: 10，预计页数: 1\n"
     ]
    },
    {
     "name": "stderr",
     "output_type": "stream",
     "text": [
      "分页获取: 100%|██████████| 1/1 [00:02<00:00,  2.30s/it]\n",
      "处理种子论文:  35%|███▌      | 653/1849 [8:34:41<20:22:52, 61.35s/it]"
     ]
    },
    {
     "name": "stdout",
     "output_type": "stream",
     "text": [
      "警告: 论文 https://openalex.org/W4401452457 应获取 10 条，实际获取 15 条\n"
     ]
    },
    {
     "name": "stderr",
     "output_type": "stream",
     "text": [
      "处理参考文献 https://openalex.org/W4387428818: 100%|██████████| 23/23 [00:29<00:00,  1.26s/it]\n"
     ]
    },
    {
     "name": "stdout",
     "output_type": "stream",
     "text": [
      "开始处理论文 https://openalex.org/W4387428818，总被引: 3，预计页数: 1\n"
     ]
    },
    {
     "name": "stderr",
     "output_type": "stream",
     "text": [
      "分页获取: 100%|██████████| 1/1 [00:01<00:00,  1.52s/it]\n",
      "处理种子论文:  35%|███▌      | 654/1849 [8:35:12<17:18:10, 52.13s/it]"
     ]
    },
    {
     "name": "stdout",
     "output_type": "stream",
     "text": [
      "开始处理论文 https://openalex.org/W3133957155，总被引: 2，预计页数: 1\n"
     ]
    },
    {
     "name": "stderr",
     "output_type": "stream",
     "text": [
      "分页获取: 100%|██████████| 1/1 [00:01<00:00,  1.42s/it]\n",
      "处理参考文献 https://openalex.org/W2991184684: 100%|██████████| 6/6 [00:06<00:00,  1.16s/it]\n"
     ]
    },
    {
     "name": "stdout",
     "output_type": "stream",
     "text": [
      "开始处理论文 https://openalex.org/W2991184684，总被引: 20，预计页数: 1\n"
     ]
    },
    {
     "name": "stderr",
     "output_type": "stream",
     "text": [
      "分页获取: 100%|██████████| 1/1 [00:02<00:00,  2.34s/it]\n",
      "处理种子论文:  35%|███▌      | 656/1849 [8:35:28<10:02:36, 30.31s/it]"
     ]
    },
    {
     "name": "stdout",
     "output_type": "stream",
     "text": [
      "已保存临时结果\n"
     ]
    },
    {
     "name": "stderr",
     "output_type": "stream",
     "text": [
      "处理参考文献 https://openalex.org/W4384832771: 100%|██████████| 38/38 [00:44<00:00,  1.18s/it]\n"
     ]
    },
    {
     "name": "stdout",
     "output_type": "stream",
     "text": [
      "开始处理论文 https://openalex.org/W4384832771，总被引: 3，预计页数: 1\n"
     ]
    },
    {
     "name": "stderr",
     "output_type": "stream",
     "text": [
      "分页获取: 100%|██████████| 1/1 [00:01<00:00,  1.39s/it]\n",
      "处理参考文献 https://openalex.org/W2091027521: 100%|██████████| 14/14 [00:17<00:00,  1.24s/it]\n"
     ]
    },
    {
     "name": "stdout",
     "output_type": "stream",
     "text": [
      "开始处理论文 https://openalex.org/W2091027521，总被引: 5，预计页数: 1\n"
     ]
    },
    {
     "name": "stderr",
     "output_type": "stream",
     "text": [
      "分页获取: 100%|██████████| 1/1 [00:01<00:00,  1.69s/it]\n",
      "处理参考文献 https://openalex.org/W4390610239: 100%|██████████| 74/74 [01:35<00:00,  1.29s/it]\n"
     ]
    },
    {
     "name": "stdout",
     "output_type": "stream",
     "text": [
      "开始处理论文 https://openalex.org/W4390610239，总被引: 12，预计页数: 1\n"
     ]
    },
    {
     "name": "stderr",
     "output_type": "stream",
     "text": [
      "分页获取: 100%|██████████| 1/1 [00:01<00:00,  1.78s/it]\n",
      "处理参考文献 https://openalex.org/W3197826761: 100%|██████████| 35/35 [00:40<00:00,  1.15s/it]\n"
     ]
    },
    {
     "name": "stdout",
     "output_type": "stream",
     "text": [
      "开始处理论文 https://openalex.org/W3197826761，总被引: 2，预计页数: 1\n"
     ]
    },
    {
     "name": "stderr",
     "output_type": "stream",
     "text": [
      "分页获取: 100%|██████████| 1/1 [00:01<00:00,  1.46s/it]\n",
      "处理参考文献 https://openalex.org/W4389788988: 100%|██████████| 7/7 [00:08<00:00,  1.20s/it]\n"
     ]
    },
    {
     "name": "stdout",
     "output_type": "stream",
     "text": [
      "开始处理论文 https://openalex.org/W4389788988，总被引: 6，预计页数: 1\n"
     ]
    },
    {
     "name": "stderr",
     "output_type": "stream",
     "text": [
      "分页获取: 100%|██████████| 1/1 [00:01<00:00,  1.64s/it]\n",
      "处理种子论文:  36%|███▌      | 661/1849 [8:39:08<12:35:25, 38.15s/it]"
     ]
    },
    {
     "name": "stdout",
     "output_type": "stream",
     "text": [
      "已保存临时结果\n"
     ]
    },
    {
     "name": "stderr",
     "output_type": "stream",
     "text": [
      "处理参考文献 https://openalex.org/W4304606288: 100%|██████████| 21/21 [00:24<00:00,  1.16s/it]\n"
     ]
    },
    {
     "name": "stdout",
     "output_type": "stream",
     "text": [
      "开始处理论文 https://openalex.org/W4304606288，总被引: 5，预计页数: 1\n"
     ]
    },
    {
     "name": "stderr",
     "output_type": "stream",
     "text": [
      "分页获取: 100%|██████████| 1/1 [00:01<00:00,  1.81s/it]\n",
      "处理参考文献 https://openalex.org/W4400600382: 100%|██████████| 28/28 [00:32<00:00,  1.15s/it]\n"
     ]
    },
    {
     "name": "stdout",
     "output_type": "stream",
     "text": [
      "开始处理论文 https://openalex.org/W4400600382，总被引: 7，预计页数: 1\n"
     ]
    },
    {
     "name": "stderr",
     "output_type": "stream",
     "text": [
      "分页获取: 100%|██████████| 1/1 [00:01<00:00,  1.79s/it]\n",
      "处理种子论文:  36%|███▌      | 663/1849 [8:40:08<11:19:18, 34.37s/it]"
     ]
    },
    {
     "name": "stdout",
     "output_type": "stream",
     "text": [
      "警告: 论文 https://openalex.org/W4400600382 应获取 7 条，实际获取 8 条\n"
     ]
    },
    {
     "name": "stderr",
     "output_type": "stream",
     "text": [
      "处理参考文献 https://openalex.org/W4361007225: 100%|██████████| 47/47 [00:57<00:00,  1.22s/it]\n"
     ]
    },
    {
     "name": "stdout",
     "output_type": "stream",
     "text": [
      "开始处理论文 https://openalex.org/W4361007225，总被引: 5，预计页数: 1\n"
     ]
    },
    {
     "name": "stderr",
     "output_type": "stream",
     "text": [
      "分页获取: 100%|██████████| 1/1 [00:01<00:00,  1.67s/it]\n",
      "处理参考文献 https://openalex.org/W4384343684: 100%|██████████| 4/4 [00:04<00:00,  1.16s/it]\n"
     ]
    },
    {
     "name": "stdout",
     "output_type": "stream",
     "text": [
      "开始处理论文 https://openalex.org/W4384343684，总被引: 2，预计页数: 1\n"
     ]
    },
    {
     "name": "stderr",
     "output_type": "stream",
     "text": [
      "分页获取: 100%|██████████| 1/1 [00:01<00:00,  1.50s/it]\n",
      "处理参考文献 https://openalex.org/W3081905504: 100%|██████████| 27/27 [00:32<00:00,  1.22s/it]\n"
     ]
    },
    {
     "name": "stdout",
     "output_type": "stream",
     "text": [
      "开始处理论文 https://openalex.org/W3081905504，总被引: 6，预计页数: 1\n"
     ]
    },
    {
     "name": "stderr",
     "output_type": "stream",
     "text": [
      "分页获取: 100%|██████████| 1/1 [00:01<00:00,  1.86s/it]\n",
      "处理种子论文:  36%|███▌      | 666/1849 [8:41:54<11:07:41, 33.86s/it]"
     ]
    },
    {
     "name": "stdout",
     "output_type": "stream",
     "text": [
      "已保存临时结果\n"
     ]
    },
    {
     "name": "stderr",
     "output_type": "stream",
     "text": [
      "处理参考文献 https://openalex.org/W3098425247: 100%|██████████| 129/129 [02:36<00:00,  1.22s/it]\n"
     ]
    },
    {
     "name": "stdout",
     "output_type": "stream",
     "text": [
      "开始处理论文 https://openalex.org/W3098425247，总被引: 4，预计页数: 1\n"
     ]
    },
    {
     "name": "stderr",
     "output_type": "stream",
     "text": [
      "分页获取: 100%|██████████| 1/1 [00:03<00:00,  3.03s/it]\n",
      "处理参考文献 https://openalex.org/W4390231752: 100%|██████████| 49/49 [00:57<00:00,  1.17s/it]\n"
     ]
    },
    {
     "name": "stdout",
     "output_type": "stream",
     "text": [
      "开始处理论文 https://openalex.org/W4390231752，总被引: 3，预计页数: 1\n"
     ]
    },
    {
     "name": "stderr",
     "output_type": "stream",
     "text": [
      "分页获取: 100%|██████████| 1/1 [00:01<00:00,  1.70s/it]\n",
      "处理种子论文:  36%|███▌      | 668/1849 [8:45:32<22:15:44, 67.86s/it]"
     ]
    },
    {
     "name": "stdout",
     "output_type": "stream",
     "text": [
      "警告: 论文 https://openalex.org/W4390231752 应获取 3 条，实际获取 5 条\n"
     ]
    },
    {
     "name": "stderr",
     "output_type": "stream",
     "text": [
      "处理参考文献 https://openalex.org/W2620970310: 100%|██████████| 64/64 [01:14<00:00,  1.17s/it]\n"
     ]
    },
    {
     "name": "stdout",
     "output_type": "stream",
     "text": [
      "开始处理论文 https://openalex.org/W2620970310，总被引: 2，预计页数: 1\n"
     ]
    },
    {
     "name": "stderr",
     "output_type": "stream",
     "text": [
      "分页获取: 100%|██████████| 1/1 [00:01<00:00,  1.33s/it]\n",
      "处理参考文献 https://openalex.org/W4397037549: 100%|██████████| 92/92 [01:45<00:00,  1.15s/it]\n"
     ]
    },
    {
     "name": "stdout",
     "output_type": "stream",
     "text": [
      "开始处理论文 https://openalex.org/W4397037549，总被引: 6，预计页数: 1\n"
     ]
    },
    {
     "name": "stderr",
     "output_type": "stream",
     "text": [
      "分页获取: 100%|██████████| 1/1 [00:02<00:00,  2.11s/it]\n",
      "处理参考文献 https://openalex.org/W4401482275: 100%|██████████| 16/16 [00:19<00:00,  1.24s/it]\n"
     ]
    },
    {
     "name": "stdout",
     "output_type": "stream",
     "text": [
      "开始处理论文 https://openalex.org/W4401482275，总被引: 2，预计页数: 1\n"
     ]
    },
    {
     "name": "stderr",
     "output_type": "stream",
     "text": [
      "分页获取: 100%|██████████| 1/1 [00:01<00:00,  1.65s/it]\n",
      "处理种子论文:  36%|███▋      | 671/1849 [8:49:04<21:22:49, 65.34s/it]"
     ]
    },
    {
     "name": "stdout",
     "output_type": "stream",
     "text": [
      "已保存临时结果\n"
     ]
    },
    {
     "name": "stderr",
     "output_type": "stream",
     "text": [
      "处理参考文献 https://openalex.org/W4304587348: 100%|██████████| 12/12 [00:16<00:00,  1.35s/it]\n"
     ]
    },
    {
     "name": "stdout",
     "output_type": "stream",
     "text": [
      "开始处理论文 https://openalex.org/W4304587348，总被引: 4，预计页数: 1\n"
     ]
    },
    {
     "name": "stderr",
     "output_type": "stream",
     "text": [
      "分页获取: 100%|██████████| 1/1 [00:01<00:00,  1.39s/it]\n",
      "处理参考文献 https://openalex.org/W4281738886: 100%|██████████| 30/30 [00:37<00:00,  1.26s/it]\n"
     ]
    },
    {
     "name": "stdout",
     "output_type": "stream",
     "text": [
      "开始处理论文 https://openalex.org/W4281738886，总被引: 4，预计页数: 1\n"
     ]
    },
    {
     "name": "stderr",
     "output_type": "stream",
     "text": [
      "分页获取: 100%|██████████| 1/1 [00:01<00:00,  1.34s/it]\n",
      "处理参考文献 https://openalex.org/W4390849784: 100%|██████████| 10/10 [00:10<00:00,  1.08s/it]\n"
     ]
    },
    {
     "name": "stdout",
     "output_type": "stream",
     "text": [
      "开始处理论文 https://openalex.org/W4390849784，总被引: 1，预计页数: 1\n"
     ]
    },
    {
     "name": "stderr",
     "output_type": "stream",
     "text": [
      "分页获取: 100%|██████████| 1/1 [00:01<00:00,  1.37s/it]\n",
      "处理参考文献 https://openalex.org/W3118967088: 100%|██████████| 2/2 [00:02<00:00,  1.02s/it]\n"
     ]
    },
    {
     "name": "stdout",
     "output_type": "stream",
     "text": [
      "开始处理论文 https://openalex.org/W3118967088，总被引: 4，预计页数: 1\n"
     ]
    },
    {
     "name": "stderr",
     "output_type": "stream",
     "text": [
      "分页获取: 100%|██████████| 1/1 [00:01<00:00,  1.41s/it]\n",
      "处理参考文献 https://openalex.org/W4388782310: 100%|██████████| 16/16 [00:16<00:00,  1.05s/it]\n"
     ]
    },
    {
     "name": "stdout",
     "output_type": "stream",
     "text": [
      "开始处理论文 https://openalex.org/W4388782310，总被引: 3，预计页数: 1\n"
     ]
    },
    {
     "name": "stderr",
     "output_type": "stream",
     "text": [
      "分页获取: 100%|██████████| 1/1 [00:01<00:00,  1.45s/it]\n",
      "处理种子论文:  37%|███▋      | 676/1849 [8:50:41<8:32:14, 26.20s/it]"
     ]
    },
    {
     "name": "stdout",
     "output_type": "stream",
     "text": [
      "已保存临时结果\n"
     ]
    },
    {
     "name": "stderr",
     "output_type": "stream",
     "text": [
      "处理参考文献 https://openalex.org/W4315782587: 100%|██████████| 20/20 [00:23<00:00,  1.18s/it]\n"
     ]
    },
    {
     "name": "stdout",
     "output_type": "stream",
     "text": [
      "开始处理论文 https://openalex.org/W4315782587，总被引: 3，预计页数: 1\n"
     ]
    },
    {
     "name": "stderr",
     "output_type": "stream",
     "text": [
      "分页获取: 100%|██████████| 1/1 [00:01<00:00,  1.37s/it]\n",
      "处理参考文献 https://openalex.org/W4392291474: 100%|██████████| 38/38 [00:43<00:00,  1.15s/it]\n"
     ]
    },
    {
     "name": "stdout",
     "output_type": "stream",
     "text": [
      "开始处理论文 https://openalex.org/W4392291474，总被引: 5，预计页数: 1\n"
     ]
    },
    {
     "name": "stderr",
     "output_type": "stream",
     "text": [
      "分页获取: 100%|██████████| 1/1 [00:01<00:00,  1.37s/it]\n",
      "处理种子论文:  37%|███▋      | 678/1849 [8:51:51<10:16:26, 31.59s/it]"
     ]
    },
    {
     "name": "stdout",
     "output_type": "stream",
     "text": [
      "开始处理论文 https://openalex.org/W4403914782，总被引: 2，预计页数: 1\n"
     ]
    },
    {
     "name": "stderr",
     "output_type": "stream",
     "text": [
      "分页获取: 100%|██████████| 1/1 [00:01<00:00,  1.36s/it]\n",
      "处理参考文献 https://openalex.org/W4392643591: 100%|██████████| 52/52 [01:04<00:00,  1.23s/it]\n"
     ]
    },
    {
     "name": "stdout",
     "output_type": "stream",
     "text": [
      "开始处理论文 https://openalex.org/W4392643591，总被引: 4，预计页数: 1\n"
     ]
    },
    {
     "name": "stderr",
     "output_type": "stream",
     "text": [
      "分页获取: 100%|██████████| 1/1 [00:01<00:00,  1.39s/it]\n",
      "处理参考文献 https://openalex.org/W4403690304: 100%|██████████| 72/72 [01:24<00:00,  1.17s/it]\n"
     ]
    },
    {
     "name": "stdout",
     "output_type": "stream",
     "text": [
      "开始处理论文 https://openalex.org/W4403690304，总被引: 2，预计页数: 1\n"
     ]
    },
    {
     "name": "stderr",
     "output_type": "stream",
     "text": [
      "分页获取: 100%|██████████| 1/1 [00:01<00:00,  1.34s/it]\n",
      "处理种子论文:  37%|███▋      | 681/1849 [8:54:30<16:57:53, 52.29s/it]"
     ]
    },
    {
     "name": "stdout",
     "output_type": "stream",
     "text": [
      "已保存临时结果\n",
      "开始处理论文 https://openalex.org/W4225412106，总被引: 3，预计页数: 1\n"
     ]
    },
    {
     "name": "stderr",
     "output_type": "stream",
     "text": [
      "分页获取: 100%|██████████| 1/1 [00:01<00:00,  1.43s/it]\n",
      "处理种子论文:  37%|███▋      | 682/1849 [8:54:31<12:00:21, 37.04s/it]"
     ]
    },
    {
     "name": "stdout",
     "output_type": "stream",
     "text": [
      "开始处理论文 https://openalex.org/W4283391149，总被引: 2，预计页数: 1\n"
     ]
    },
    {
     "name": "stderr",
     "output_type": "stream",
     "text": [
      "分页获取: 100%|██████████| 1/1 [00:01<00:00,  1.53s/it]\n",
      "处理参考文献 https://openalex.org/W4327935674: 100%|██████████| 10/10 [00:11<00:00,  1.15s/it]\n"
     ]
    },
    {
     "name": "stdout",
     "output_type": "stream",
     "text": [
      "开始处理论文 https://openalex.org/W4327935674，总被引: 9，预计页数: 1\n"
     ]
    },
    {
     "name": "stderr",
     "output_type": "stream",
     "text": [
      "分页获取: 100%|██████████| 1/1 [00:01<00:00,  1.73s/it]\n",
      "处理种子论文:  37%|███▋      | 684/1849 [8:54:46<7:15:57, 22.45s/it]"
     ]
    },
    {
     "name": "stdout",
     "output_type": "stream",
     "text": [
      "开始处理论文 https://openalex.org/W4312722328，总被引: 3，预计页数: 1\n"
     ]
    },
    {
     "name": "stderr",
     "output_type": "stream",
     "text": [
      "分页获取: 100%|██████████| 1/1 [00:01<00:00,  1.52s/it]\n",
      "处理参考文献 https://openalex.org/W4392165109: 100%|██████████| 52/52 [01:04<00:00,  1.25s/it]\n"
     ]
    },
    {
     "name": "stdout",
     "output_type": "stream",
     "text": [
      "开始处理论文 https://openalex.org/W4392165109，总被引: 10，预计页数: 1\n"
     ]
    },
    {
     "name": "stderr",
     "output_type": "stream",
     "text": [
      "分页获取: 100%|██████████| 1/1 [00:01<00:00,  1.95s/it]\n",
      "处理种子论文:  37%|███▋      | 686/1849 [8:56:00<10:41:42, 33.11s/it]"
     ]
    },
    {
     "name": "stdout",
     "output_type": "stream",
     "text": [
      "已保存临时结果\n"
     ]
    },
    {
     "name": "stderr",
     "output_type": "stream",
     "text": [
      "处理参考文献 https://openalex.org/W4393123957: 100%|██████████| 16/16 [00:18<00:00,  1.16s/it]\n"
     ]
    },
    {
     "name": "stdout",
     "output_type": "stream",
     "text": [
      "开始处理论文 https://openalex.org/W4393123957，总被引: 3，预计页数: 1\n"
     ]
    },
    {
     "name": "stderr",
     "output_type": "stream",
     "text": [
      "分页获取: 100%|██████████| 1/1 [00:01<00:00,  1.44s/it]\n",
      "处理参考文献 https://openalex.org/W4309721579: 100%|██████████| 47/47 [00:56<00:00,  1.20s/it]\n"
     ]
    },
    {
     "name": "stdout",
     "output_type": "stream",
     "text": [
      "开始处理论文 https://openalex.org/W4309721579，总被引: 3，预计页数: 1\n"
     ]
    },
    {
     "name": "stderr",
     "output_type": "stream",
     "text": [
      "分页获取: 100%|██████████| 1/1 [00:01<00:00,  1.70s/it]\n",
      "处理参考文献 https://openalex.org/W4390407773: 100%|██████████| 51/51 [01:03<00:00,  1.24s/it]\n"
     ]
    },
    {
     "name": "stdout",
     "output_type": "stream",
     "text": [
      "开始处理论文 https://openalex.org/W4390407773，总被引: 6，预计页数: 1\n"
     ]
    },
    {
     "name": "stderr",
     "output_type": "stream",
     "text": [
      "分页获取: 100%|██████████| 1/1 [00:01<00:00,  1.59s/it]\n",
      "处理参考文献 https://openalex.org/W3175163672: 100%|██████████| 16/16 [00:21<00:00,  1.34s/it]\n"
     ]
    },
    {
     "name": "stdout",
     "output_type": "stream",
     "text": [
      "开始处理论文 https://openalex.org/W3175163672，总被引: 2，预计页数: 1\n"
     ]
    },
    {
     "name": "stderr",
     "output_type": "stream",
     "text": [
      "分页获取: 100%|██████████| 1/1 [00:01<00:00,  1.37s/it]\n",
      "处理参考文献 https://openalex.org/W4387109761: 100%|██████████| 11/11 [00:12<00:00,  1.13s/it]\n"
     ]
    },
    {
     "name": "stdout",
     "output_type": "stream",
     "text": [
      "开始处理论文 https://openalex.org/W4387109761，总被引: 4，预计页数: 1\n"
     ]
    },
    {
     "name": "stderr",
     "output_type": "stream",
     "text": [
      "分页获取: 100%|██████████| 1/1 [00:01<00:00,  1.61s/it]\n",
      "处理种子论文:  37%|███▋      | 691/1849 [8:59:06<10:42:39, 33.30s/it]"
     ]
    },
    {
     "name": "stdout",
     "output_type": "stream",
     "text": [
      "已保存临时结果\n"
     ]
    },
    {
     "name": "stderr",
     "output_type": "stream",
     "text": [
      "处理参考文献 https://openalex.org/W4285186421: 100%|██████████| 16/16 [00:18<00:00,  1.13s/it]\n"
     ]
    },
    {
     "name": "stdout",
     "output_type": "stream",
     "text": [
      "开始处理论文 https://openalex.org/W4285186421，总被引: 1，预计页数: 1\n"
     ]
    },
    {
     "name": "stderr",
     "output_type": "stream",
     "text": [
      "分页获取: 100%|██████████| 1/1 [00:01<00:00,  1.31s/it]\n",
      "处理参考文献 https://openalex.org/W4393341132: 100%|██████████| 41/41 [00:47<00:00,  1.17s/it]\n"
     ]
    },
    {
     "name": "stdout",
     "output_type": "stream",
     "text": [
      "开始处理论文 https://openalex.org/W4393341132，总被引: 2，预计页数: 1\n"
     ]
    },
    {
     "name": "stderr",
     "output_type": "stream",
     "text": [
      "分页获取: 100%|██████████| 1/1 [00:01<00:00,  1.38s/it]\n",
      "处理参考文献 https://openalex.org/W4311392818: 100%|██████████| 26/26 [00:30<00:00,  1.19s/it]\n"
     ]
    },
    {
     "name": "stdout",
     "output_type": "stream",
     "text": [
      "开始处理论文 https://openalex.org/W4311392818，总被引: 5，预计页数: 1\n"
     ]
    },
    {
     "name": "stderr",
     "output_type": "stream",
     "text": [
      "分页获取: 100%|██████████| 1/1 [00:02<00:00,  2.40s/it]\n",
      "处理参考文献 https://openalex.org/W3208762691: 100%|██████████| 35/35 [00:41<00:00,  1.18s/it]\n"
     ]
    },
    {
     "name": "stdout",
     "output_type": "stream",
     "text": [
      "开始处理论文 https://openalex.org/W3208762691，总被引: 3，预计页数: 1\n"
     ]
    },
    {
     "name": "stderr",
     "output_type": "stream",
     "text": [
      "分页获取: 100%|██████████| 1/1 [00:01<00:00,  1.48s/it]\n",
      "处理参考文献 https://openalex.org/W4352990920: 100%|██████████| 2/2 [00:02<00:00,  1.10s/it]\n"
     ]
    },
    {
     "name": "stdout",
     "output_type": "stream",
     "text": [
      "开始处理论文 https://openalex.org/W4352990920，总被引: 1，预计页数: 1\n"
     ]
    },
    {
     "name": "stderr",
     "output_type": "stream",
     "text": [
      "分页获取: 100%|██████████| 1/1 [00:01<00:00,  1.41s/it]\n",
      "处理种子论文:  38%|███▊      | 696/1849 [9:01:40<9:13:14, 28.79s/it] "
     ]
    },
    {
     "name": "stdout",
     "output_type": "stream",
     "text": [
      "已保存临时结果\n"
     ]
    },
    {
     "name": "stderr",
     "output_type": "stream",
     "text": [
      "处理参考文献 https://openalex.org/W4294416233: 100%|██████████| 55/55 [00:57<00:00,  1.05s/it]\n"
     ]
    },
    {
     "name": "stdout",
     "output_type": "stream",
     "text": [
      "开始处理论文 https://openalex.org/W4294416233，总被引: 3，预计页数: 1\n"
     ]
    },
    {
     "name": "stderr",
     "output_type": "stream",
     "text": [
      "分页获取: 100%|██████████| 1/1 [00:02<00:00,  2.94s/it]\n",
      "处理参考文献 https://openalex.org/W4382810970: 100%|██████████| 21/21 [00:27<00:00,  1.32s/it]\n"
     ]
    },
    {
     "name": "stdout",
     "output_type": "stream",
     "text": [
      "开始处理论文 https://openalex.org/W4382810970，总被引: 3，预计页数: 1\n"
     ]
    },
    {
     "name": "stderr",
     "output_type": "stream",
     "text": [
      "分页获取: 100%|██████████| 1/1 [00:01<00:00,  1.34s/it]\n",
      "处理参考文献 https://openalex.org/W4391898157: 100%|██████████| 34/34 [00:44<00:00,  1.31s/it]\n"
     ]
    },
    {
     "name": "stdout",
     "output_type": "stream",
     "text": [
      "开始处理论文 https://openalex.org/W4391898157，总被引: 5，预计页数: 1\n"
     ]
    },
    {
     "name": "stderr",
     "output_type": "stream",
     "text": [
      "分页获取: 100%|██████████| 1/1 [00:02<00:00,  2.44s/it]\n",
      "处理参考文献 https://openalex.org/W4391184050: 100%|██████████| 43/43 [00:49<00:00,  1.16s/it]\n"
     ]
    },
    {
     "name": "stdout",
     "output_type": "stream",
     "text": [
      "开始处理论文 https://openalex.org/W4391184050，总被引: 2，预计页数: 1\n"
     ]
    },
    {
     "name": "stderr",
     "output_type": "stream",
     "text": [
      "分页获取: 100%|██████████| 1/1 [00:01<00:00,  1.36s/it]\n",
      "处理参考文献 https://openalex.org/W4285148334: 100%|██████████| 8/8 [00:09<00:00,  1.13s/it]\n"
     ]
    },
    {
     "name": "stdout",
     "output_type": "stream",
     "text": [
      "开始处理论文 https://openalex.org/W4285148334，总被引: 1，预计页数: 1\n"
     ]
    },
    {
     "name": "stderr",
     "output_type": "stream",
     "text": [
      "分页获取: 100%|██████████| 1/1 [00:01<00:00,  1.57s/it]\n",
      "处理种子论文:  38%|███▊      | 701/1849 [9:05:05<11:05:06, 34.76s/it]"
     ]
    },
    {
     "name": "stdout",
     "output_type": "stream",
     "text": [
      "已保存临时结果\n"
     ]
    },
    {
     "name": "stderr",
     "output_type": "stream",
     "text": [
      "处理参考文献 https://openalex.org/W4390168117: 100%|██████████| 36/36 [00:43<00:00,  1.22s/it]\n"
     ]
    },
    {
     "name": "stdout",
     "output_type": "stream",
     "text": [
      "开始处理论文 https://openalex.org/W4390168117，总被引: 4，预计页数: 1\n"
     ]
    },
    {
     "name": "stderr",
     "output_type": "stream",
     "text": [
      "分页获取: 100%|██████████| 1/1 [00:01<00:00,  1.36s/it]\n",
      "处理参考文献 https://openalex.org/W4281569213: 100%|██████████| 24/24 [00:28<00:00,  1.19s/it]\n"
     ]
    },
    {
     "name": "stdout",
     "output_type": "stream",
     "text": [
      "开始处理论文 https://openalex.org/W4281569213，总被引: 4，预计页数: 1\n"
     ]
    },
    {
     "name": "stderr",
     "output_type": "stream",
     "text": [
      "分页获取: 100%|██████████| 1/1 [00:01<00:00,  1.52s/it]\n",
      "处理参考文献 https://openalex.org/W4403602101: 100%|██████████| 84/84 [01:43<00:00,  1.23s/it]\n"
     ]
    },
    {
     "name": "stdout",
     "output_type": "stream",
     "text": [
      "开始处理论文 https://openalex.org/W4403602101，总被引: 2，预计页数: 1\n"
     ]
    },
    {
     "name": "stderr",
     "output_type": "stream",
     "text": [
      "分页获取: 100%|██████████| 1/1 [00:01<00:00,  1.40s/it]\n",
      "处理参考文献 https://openalex.org/W4396899458: 100%|██████████| 4/4 [00:04<00:00,  1.24s/it]\n"
     ]
    },
    {
     "name": "stdout",
     "output_type": "stream",
     "text": [
      "开始处理论文 https://openalex.org/W4396899458，总被引: 2，预计页数: 1\n"
     ]
    },
    {
     "name": "stderr",
     "output_type": "stream",
     "text": [
      "分页获取: 100%|██████████| 1/1 [00:01<00:00,  1.52s/it]\n",
      "处理参考文献 https://openalex.org/W4385465804: 100%|██████████| 2/2 [00:02<00:00,  1.14s/it]\n"
     ]
    },
    {
     "name": "stdout",
     "output_type": "stream",
     "text": [
      "开始处理论文 https://openalex.org/W4385465804，总被引: 2，预计页数: 1\n"
     ]
    },
    {
     "name": "stderr",
     "output_type": "stream",
     "text": [
      "分页获取: 100%|██████████| 1/1 [00:01<00:00,  1.40s/it]\n",
      "处理种子论文:  38%|███▊      | 706/1849 [9:08:21<10:06:50, 31.86s/it]"
     ]
    },
    {
     "name": "stdout",
     "output_type": "stream",
     "text": [
      "已保存临时结果\n"
     ]
    },
    {
     "name": "stderr",
     "output_type": "stream",
     "text": [
      "处理参考文献 https://openalex.org/W4399349824: 100%|██████████| 11/11 [00:12<00:00,  1.18s/it]\n"
     ]
    },
    {
     "name": "stdout",
     "output_type": "stream",
     "text": [
      "开始处理论文 https://openalex.org/W4399349824，总被引: 3，预计页数: 1\n"
     ]
    },
    {
     "name": "stderr",
     "output_type": "stream",
     "text": [
      "分页获取: 100%|██████████| 1/1 [00:01<00:00,  1.40s/it]\n",
      "处理参考文献 https://openalex.org/W4401894358: 100%|██████████| 73/73 [01:29<00:00,  1.22s/it]\n"
     ]
    },
    {
     "name": "stdout",
     "output_type": "stream",
     "text": [
      "开始处理论文 https://openalex.org/W4401894358，总被引: 4，预计页数: 1\n"
     ]
    },
    {
     "name": "stderr",
     "output_type": "stream",
     "text": [
      "分页获取: 100%|██████████| 1/1 [00:01<00:00,  1.38s/it]\n",
      "处理参考文献 https://openalex.org/W4214710500: 100%|██████████| 23/23 [00:26<00:00,  1.17s/it]\n"
     ]
    },
    {
     "name": "stdout",
     "output_type": "stream",
     "text": [
      "开始处理论文 https://openalex.org/W4214710500，总被引: 2，预计页数: 1\n"
     ]
    },
    {
     "name": "stderr",
     "output_type": "stream",
     "text": [
      "分页获取: 100%|██████████| 1/1 [00:01<00:00,  1.54s/it]\n",
      "处理参考文献 https://openalex.org/W4304842621: 100%|██████████| 37/37 [00:42<00:00,  1.14s/it]\n"
     ]
    },
    {
     "name": "stdout",
     "output_type": "stream",
     "text": [
      "开始处理论文 https://openalex.org/W4304842621，总被引: 2，预计页数: 1\n"
     ]
    },
    {
     "name": "stderr",
     "output_type": "stream",
     "text": [
      "分页获取: 100%|██████████| 1/1 [00:01<00:00,  1.44s/it]\n",
      "处理参考文献 https://openalex.org/W2938344512: 100%|██████████| 57/57 [01:08<00:00,  1.20s/it]\n"
     ]
    },
    {
     "name": "stdout",
     "output_type": "stream",
     "text": [
      "开始处理论文 https://openalex.org/W2938344512，总被引: 5，预计页数: 1\n"
     ]
    },
    {
     "name": "stderr",
     "output_type": "stream",
     "text": [
      "分页获取: 100%|██████████| 1/1 [00:01<00:00,  1.87s/it]\n",
      "处理种子论文:  38%|███▊      | 711/1849 [9:12:35<16:24:59, 51.93s/it]"
     ]
    },
    {
     "name": "stdout",
     "output_type": "stream",
     "text": [
      "已保存临时结果\n"
     ]
    },
    {
     "name": "stderr",
     "output_type": "stream",
     "text": [
      "处理参考文献 https://openalex.org/W4399653779: 100%|██████████| 131/131 [02:42<00:00,  1.24s/it]\n"
     ]
    },
    {
     "name": "stdout",
     "output_type": "stream",
     "text": [
      "开始处理论文 https://openalex.org/W4399653779，总被引: 4，预计页数: 1\n"
     ]
    },
    {
     "name": "stderr",
     "output_type": "stream",
     "text": [
      "分页获取: 100%|██████████| 1/1 [00:02<00:00,  2.19s/it]\n",
      "处理种子论文:  39%|███▊      | 712/1849 [9:15:19<27:02:57, 85.64s/it]"
     ]
    },
    {
     "name": "stdout",
     "output_type": "stream",
     "text": [
      "警告: 论文 https://openalex.org/W4399653779 应获取 4 条，实际获取 5 条\n"
     ]
    },
    {
     "name": "stderr",
     "output_type": "stream",
     "text": [
      "处理参考文献 https://openalex.org/W4388012878: 100%|██████████| 17/17 [00:21<00:00,  1.25s/it]\n"
     ]
    },
    {
     "name": "stdout",
     "output_type": "stream",
     "text": [
      "开始处理论文 https://openalex.org/W4388012878，总被引: 4，预计页数: 1\n"
     ]
    },
    {
     "name": "stderr",
     "output_type": "stream",
     "text": [
      "分页获取: 100%|██████████| 1/1 [00:01<00:00,  1.47s/it]\n",
      "处理参考文献 https://openalex.org/W4392291653: 100%|██████████| 33/33 [00:37<00:00,  1.15s/it]\n"
     ]
    },
    {
     "name": "stdout",
     "output_type": "stream",
     "text": [
      "开始处理论文 https://openalex.org/W4392291653，总被引: 2，预计页数: 1\n"
     ]
    },
    {
     "name": "stderr",
     "output_type": "stream",
     "text": [
      "分页获取: 100%|██████████| 1/1 [00:01<00:00,  1.45s/it]\n",
      "处理种子论文:  39%|███▊      | 714/1849 [9:16:21<18:27:15, 58.53s/it]"
     ]
    },
    {
     "name": "stdout",
     "output_type": "stream",
     "text": [
      "开始处理论文 https://openalex.org/W4393204730，总被引: 4，预计页数: 1\n"
     ]
    },
    {
     "name": "stderr",
     "output_type": "stream",
     "text": [
      "分页获取: 100%|██████████| 1/1 [00:01<00:00,  1.87s/it]\n",
      "处理种子论文:  39%|███▊      | 715/1849 [9:16:23<13:05:04, 41.54s/it]"
     ]
    },
    {
     "name": "stdout",
     "output_type": "stream",
     "text": [
      "警告: 论文 https://openalex.org/W4393204730 应获取 4 条，实际获取 5 条\n"
     ]
    },
    {
     "name": "stderr",
     "output_type": "stream",
     "text": [
      "处理参考文献 https://openalex.org/W4361001341: 100%|██████████| 1/1 [00:01<00:00,  1.13s/it]\n"
     ]
    },
    {
     "name": "stdout",
     "output_type": "stream",
     "text": [
      "开始处理论文 https://openalex.org/W4361001341，总被引: 2，预计页数: 1\n"
     ]
    },
    {
     "name": "stderr",
     "output_type": "stream",
     "text": [
      "分页获取: 100%|██████████| 1/1 [00:01<00:00,  1.49s/it]\n",
      "处理种子论文:  39%|███▊      | 716/1849 [9:16:31<9:56:47, 31.60s/it] "
     ]
    },
    {
     "name": "stdout",
     "output_type": "stream",
     "text": [
      "已保存临时结果\n"
     ]
    },
    {
     "name": "stderr",
     "output_type": "stream",
     "text": [
      "处理参考文献 https://openalex.org/W4401287702: 100%|██████████| 15/15 [00:18<00:00,  1.22s/it]\n"
     ]
    },
    {
     "name": "stdout",
     "output_type": "stream",
     "text": [
      "开始处理论文 https://openalex.org/W4401287702，总被引: 9，预计页数: 1\n"
     ]
    },
    {
     "name": "stderr",
     "output_type": "stream",
     "text": [
      "分页获取: 100%|██████████| 1/1 [00:01<00:00,  1.69s/it]\n",
      "处理种子论文:  39%|███▉      | 717/1849 [9:16:51<8:50:49, 28.14s/it]"
     ]
    },
    {
     "name": "stdout",
     "output_type": "stream",
     "text": [
      "开始处理论文 https://openalex.org/W4388248497，总被引: 1，预计页数: 1\n"
     ]
    },
    {
     "name": "stderr",
     "output_type": "stream",
     "text": [
      "分页获取: 100%|██████████| 1/1 [00:01<00:00,  1.40s/it]\n",
      "处理参考文献 https://openalex.org/W3011973876: 100%|██████████| 7/7 [00:07<00:00,  1.10s/it]\n"
     ]
    },
    {
     "name": "stdout",
     "output_type": "stream",
     "text": [
      "开始处理论文 https://openalex.org/W3011973876，总被引: 3，预计页数: 1\n"
     ]
    },
    {
     "name": "stderr",
     "output_type": "stream",
     "text": [
      "分页获取: 100%|██████████| 1/1 [00:01<00:00,  1.53s/it]\n",
      "处理参考文献 https://openalex.org/W4397009076: 100%|██████████| 33/33 [00:40<00:00,  1.22s/it]\n"
     ]
    },
    {
     "name": "stdout",
     "output_type": "stream",
     "text": [
      "开始处理论文 https://openalex.org/W4397009076，总被引: 5，预计页数: 1\n"
     ]
    },
    {
     "name": "stderr",
     "output_type": "stream",
     "text": [
      "分页获取: 100%|██████████| 1/1 [00:01<00:00,  1.60s/it]\n",
      "处理参考文献 https://openalex.org/W4394841540: 100%|██████████| 40/40 [00:54<00:00,  1.36s/it]\n"
     ]
    },
    {
     "name": "stdout",
     "output_type": "stream",
     "text": [
      "开始处理论文 https://openalex.org/W4394841540，总被引: 3，预计页数: 1\n"
     ]
    },
    {
     "name": "stderr",
     "output_type": "stream",
     "text": [
      "分页获取: 100%|██████████| 1/1 [00:01<00:00,  1.39s/it]\n",
      "处理种子论文:  39%|███▉      | 721/1849 [9:18:46<11:07:59, 35.53s/it]"
     ]
    },
    {
     "name": "stdout",
     "output_type": "stream",
     "text": [
      "已保存临时结果\n",
      "开始处理论文 https://openalex.org/W3197909694，总被引: 1，预计页数: 1\n"
     ]
    },
    {
     "name": "stderr",
     "output_type": "stream",
     "text": [
      "分页获取: 100%|██████████| 1/1 [00:01<00:00,  1.29s/it]\n",
      "处理参考文献 https://openalex.org/W4390065202: 100%|██████████| 1/1 [00:01<00:00,  1.05s/it]\n"
     ]
    },
    {
     "name": "stdout",
     "output_type": "stream",
     "text": [
      "开始处理论文 https://openalex.org/W4390065202，总被引: 2，预计页数: 1\n"
     ]
    },
    {
     "name": "stderr",
     "output_type": "stream",
     "text": [
      "分页获取: 100%|██████████| 1/1 [00:01<00:00,  1.45s/it]\n",
      "处理参考文献 https://openalex.org/W3016953184: 100%|██████████| 1/1 [00:01<00:00,  1.41s/it]\n"
     ]
    },
    {
     "name": "stdout",
     "output_type": "stream",
     "text": [
      "开始处理论文 https://openalex.org/W3016953184，总被引: 2，预计页数: 1\n"
     ]
    },
    {
     "name": "stderr",
     "output_type": "stream",
     "text": [
      "分页获取: 100%|██████████| 1/1 [00:01<00:00,  1.54s/it]\n",
      "处理参考文献 https://openalex.org/W2998303423: 100%|██████████| 2/2 [00:02<00:00,  1.21s/it]\n"
     ]
    },
    {
     "name": "stdout",
     "output_type": "stream",
     "text": [
      "开始处理论文 https://openalex.org/W2998303423，总被引: 1，预计页数: 1\n"
     ]
    },
    {
     "name": "stderr",
     "output_type": "stream",
     "text": [
      "分页获取: 100%|██████████| 1/1 [00:01<00:00,  1.34s/it]\n",
      "处理参考文献 https://openalex.org/W4225906434: 100%|██████████| 4/4 [00:04<00:00,  1.13s/it]\n"
     ]
    },
    {
     "name": "stdout",
     "output_type": "stream",
     "text": [
      "开始处理论文 https://openalex.org/W4225906434，总被引: 22，预计页数: 1\n"
     ]
    },
    {
     "name": "stderr",
     "output_type": "stream",
     "text": [
      "分页获取: 100%|██████████| 1/1 [00:02<00:00,  2.09s/it]\n",
      "处理种子论文:  39%|███▉      | 726/1849 [9:19:09<3:30:59, 11.27s/it]"
     ]
    },
    {
     "name": "stdout",
     "output_type": "stream",
     "text": [
      "已保存临时结果\n"
     ]
    },
    {
     "name": "stderr",
     "output_type": "stream",
     "text": [
      "处理参考文献 https://openalex.org/W4396891438: 100%|██████████| 10/10 [00:12<00:00,  1.21s/it]\n"
     ]
    },
    {
     "name": "stdout",
     "output_type": "stream",
     "text": [
      "开始处理论文 https://openalex.org/W4396891438，总被引: 2，预计页数: 1\n"
     ]
    },
    {
     "name": "stderr",
     "output_type": "stream",
     "text": [
      "分页获取: 100%|██████████| 1/1 [00:01<00:00,  1.42s/it]\n",
      "处理参考文献 https://openalex.org/W4390237322: 100%|██████████| 14/14 [00:16<00:00,  1.21s/it]\n"
     ]
    },
    {
     "name": "stdout",
     "output_type": "stream",
     "text": [
      "开始处理论文 https://openalex.org/W4390237322，总被引: 2，预计页数: 1\n"
     ]
    },
    {
     "name": "stderr",
     "output_type": "stream",
     "text": [
      "分页获取: 100%|██████████| 1/1 [00:01<00:00,  1.48s/it]\n",
      "处理参考文献 https://openalex.org/W4295678155: 100%|██████████| 4/4 [00:04<00:00,  1.12s/it]\n"
     ]
    },
    {
     "name": "stdout",
     "output_type": "stream",
     "text": [
      "开始处理论文 https://openalex.org/W4295678155，总被引: 2，预计页数: 1\n"
     ]
    },
    {
     "name": "stderr",
     "output_type": "stream",
     "text": [
      "分页获取: 100%|██████████| 1/1 [00:01<00:00,  1.36s/it]\n",
      "处理参考文献 https://openalex.org/W4280630488: 100%|██████████| 7/7 [00:08<00:00,  1.23s/it]\n"
     ]
    },
    {
     "name": "stdout",
     "output_type": "stream",
     "text": [
      "开始处理论文 https://openalex.org/W4280630488，总被引: 3，预计页数: 1\n"
     ]
    },
    {
     "name": "stderr",
     "output_type": "stream",
     "text": [
      "分页获取: 100%|██████████| 1/1 [00:01<00:00,  1.47s/it]\n",
      "处理参考文献 https://openalex.org/W4389665047: 100%|██████████| 45/45 [00:58<00:00,  1.31s/it]\n"
     ]
    },
    {
     "name": "stdout",
     "output_type": "stream",
     "text": [
      "开始处理论文 https://openalex.org/W4389665047，总被引: 3，预计页数: 1\n"
     ]
    },
    {
     "name": "stderr",
     "output_type": "stream",
     "text": [
      "分页获取: 100%|██████████| 1/1 [00:01<00:00,  1.35s/it]\n",
      "处理种子论文:  40%|███▉      | 731/1849 [9:21:03<8:33:51, 27.58s/it]"
     ]
    },
    {
     "name": "stdout",
     "output_type": "stream",
     "text": [
      "已保存临时结果\n",
      "开始处理论文 https://openalex.org/W3126861701，总被引: 2，预计页数: 1\n"
     ]
    },
    {
     "name": "stderr",
     "output_type": "stream",
     "text": [
      "分页获取: 100%|██████████| 1/1 [00:01<00:00,  1.32s/it]\n",
      "处理参考文献 https://openalex.org/W4399324660: 100%|██████████| 39/39 [00:47<00:00,  1.21s/it]\n"
     ]
    },
    {
     "name": "stdout",
     "output_type": "stream",
     "text": [
      "开始处理论文 https://openalex.org/W4399324660，总被引: 2，预计页数: 1\n"
     ]
    },
    {
     "name": "stderr",
     "output_type": "stream",
     "text": [
      "分页获取: 100%|██████████| 1/1 [00:01<00:00,  1.47s/it]\n",
      "处理参考文献 https://openalex.org/W4405972181: 100%|██████████| 185/185 [03:44<00:00,  1.21s/it]\n"
     ]
    },
    {
     "name": "stdout",
     "output_type": "stream",
     "text": [
      "开始处理论文 https://openalex.org/W4405972181，总被引: 2，预计页数: 1\n"
     ]
    },
    {
     "name": "stderr",
     "output_type": "stream",
     "text": [
      "分页获取: 100%|██████████| 1/1 [00:01<00:00,  1.35s/it]\n",
      "处理种子论文:  40%|███▉      | 734/1849 [9:25:39<27:09:26, 87.68s/it]"
     ]
    },
    {
     "name": "stdout",
     "output_type": "stream",
     "text": [
      "警告: 论文 https://openalex.org/W4405972181 应获取 2 条，实际获取 4 条\n"
     ]
    },
    {
     "name": "stderr",
     "output_type": "stream",
     "text": [
      "处理参考文献 https://openalex.org/W3194329382: 100%|██████████| 5/5 [00:06<00:00,  1.24s/it]\n"
     ]
    },
    {
     "name": "stdout",
     "output_type": "stream",
     "text": [
      "开始处理论文 https://openalex.org/W3194329382，总被引: 1，预计页数: 1\n"
     ]
    },
    {
     "name": "stderr",
     "output_type": "stream",
     "text": [
      "分页获取: 100%|██████████| 1/1 [00:01<00:00,  1.38s/it]\n",
      "处理种子论文:  40%|███▉      | 735/1849 [9:25:46<19:42:12, 63.67s/it]"
     ]
    },
    {
     "name": "stdout",
     "output_type": "stream",
     "text": [
      "开始处理论文 https://openalex.org/W4320511594，总被引: 1，预计页数: 1\n"
     ]
    },
    {
     "name": "stderr",
     "output_type": "stream",
     "text": [
      "分页获取: 100%|██████████| 1/1 [00:01<00:00,  1.41s/it]\n",
      "处理种子论文:  40%|███▉      | 736/1849 [9:25:53<14:26:34, 46.72s/it]"
     ]
    },
    {
     "name": "stdout",
     "output_type": "stream",
     "text": [
      "已保存临时结果\n"
     ]
    },
    {
     "name": "stderr",
     "output_type": "stream",
     "text": [
      "处理参考文献 https://openalex.org/W4399264077: 100%|██████████| 43/43 [01:00<00:00,  1.41s/it]\n"
     ]
    },
    {
     "name": "stdout",
     "output_type": "stream",
     "text": [
      "开始处理论文 https://openalex.org/W4399264077，总被引: 1，预计页数: 1\n"
     ]
    },
    {
     "name": "stderr",
     "output_type": "stream",
     "text": [
      "分页获取: 100%|██████████| 1/1 [00:01<00:00,  1.33s/it]\n",
      "处理参考文献 https://openalex.org/W4388228582: 100%|██████████| 25/25 [00:28<00:00,  1.14s/it]\n"
     ]
    },
    {
     "name": "stdout",
     "output_type": "stream",
     "text": [
      "开始处理论文 https://openalex.org/W4388228582，总被引: 1，预计页数: 1\n"
     ]
    },
    {
     "name": "stderr",
     "output_type": "stream",
     "text": [
      "分页获取: 100%|██████████| 1/1 [00:01<00:00,  1.38s/it]\n",
      "处理种子论文:  40%|███▉      | 738/1849 [9:27:25<13:49:52, 44.82s/it]"
     ]
    },
    {
     "name": "stdout",
     "output_type": "stream",
     "text": [
      "开始处理论文 https://openalex.org/W3181614042，总被引: 5，预计页数: 1\n"
     ]
    },
    {
     "name": "stderr",
     "output_type": "stream",
     "text": [
      "分页获取: 100%|██████████| 1/1 [00:01<00:00,  1.43s/it]\n",
      "处理参考文献 https://openalex.org/W4392154900: 100%|██████████| 26/26 [00:29<00:00,  1.15s/it]\n"
     ]
    },
    {
     "name": "stdout",
     "output_type": "stream",
     "text": [
      "开始处理论文 https://openalex.org/W4392154900，总被引: 4，预计页数: 1\n"
     ]
    },
    {
     "name": "stderr",
     "output_type": "stream",
     "text": [
      "分页获取: 100%|██████████| 1/1 [00:01<00:00,  1.40s/it]\n",
      "处理参考文献 https://openalex.org/W4314446182: 100%|██████████| 2/2 [00:02<00:00,  1.11s/it]\n"
     ]
    },
    {
     "name": "stdout",
     "output_type": "stream",
     "text": [
      "开始处理论文 https://openalex.org/W4314446182，总被引: 1，预计页数: 1\n"
     ]
    },
    {
     "name": "stderr",
     "output_type": "stream",
     "text": [
      "分页获取: 100%|██████████| 1/1 [00:01<00:00,  1.48s/it]\n",
      "处理种子论文:  40%|████      | 741/1849 [9:28:07<7:42:33, 25.05s/it]"
     ]
    },
    {
     "name": "stdout",
     "output_type": "stream",
     "text": [
      "已保存临时结果\n"
     ]
    },
    {
     "name": "stderr",
     "output_type": "stream",
     "text": [
      "处理参考文献 https://openalex.org/W4387502846: 100%|██████████| 32/32 [00:40<00:00,  1.26s/it]\n"
     ]
    },
    {
     "name": "stdout",
     "output_type": "stream",
     "text": [
      "开始处理论文 https://openalex.org/W4387502846，总被引: 1，预计页数: 1\n"
     ]
    },
    {
     "name": "stderr",
     "output_type": "stream",
     "text": [
      "分页获取: 100%|██████████| 1/1 [00:01<00:00,  1.47s/it]\n",
      "处理参考文献 https://openalex.org/W3035987216: 100%|██████████| 9/9 [00:11<00:00,  1.27s/it]\n"
     ]
    },
    {
     "name": "stdout",
     "output_type": "stream",
     "text": [
      "开始处理论文 https://openalex.org/W3035987216，总被引: 1，预计页数: 1\n"
     ]
    },
    {
     "name": "stderr",
     "output_type": "stream",
     "text": [
      "分页获取: 100%|██████████| 1/1 [00:01<00:00,  1.34s/it]\n",
      "处理种子论文:  40%|████      | 743/1849 [9:29:02<7:39:04, 24.90s/it]"
     ]
    },
    {
     "name": "stdout",
     "output_type": "stream",
     "text": [
      "开始处理论文 https://openalex.org/W3175602774，总被引: 2，预计页数: 1\n"
     ]
    },
    {
     "name": "stderr",
     "output_type": "stream",
     "text": [
      "分页获取: 100%|██████████| 1/1 [00:01<00:00,  1.38s/it]\n",
      "处理参考文献 https://openalex.org/W2890736909: 100%|██████████| 98/98 [02:00<00:00,  1.23s/it]\n"
     ]
    },
    {
     "name": "stdout",
     "output_type": "stream",
     "text": [
      "开始处理论文 https://openalex.org/W2890736909，总被引: 8，预计页数: 1\n"
     ]
    },
    {
     "name": "stderr",
     "output_type": "stream",
     "text": [
      "分页获取: 100%|██████████| 1/1 [00:01<00:00,  1.77s/it]\n",
      "处理参考文献 https://openalex.org/W4377043493: 100%|██████████| 71/71 [01:23<00:00,  1.18s/it]\n"
     ]
    },
    {
     "name": "stdout",
     "output_type": "stream",
     "text": [
      "开始处理论文 https://openalex.org/W4377043493，总被引: 4，预计页数: 1\n"
     ]
    },
    {
     "name": "stderr",
     "output_type": "stream",
     "text": [
      "分页获取: 100%|██████████| 1/1 [00:01<00:00,  1.78s/it]\n",
      "处理种子论文:  40%|████      | 746/1849 [9:32:37<18:57:38, 61.88s/it]"
     ]
    },
    {
     "name": "stdout",
     "output_type": "stream",
     "text": [
      "已保存临时结果\n"
     ]
    },
    {
     "name": "stderr",
     "output_type": "stream",
     "text": [
      "处理参考文献 https://openalex.org/W4390732409: 100%|██████████| 30/30 [00:32<00:00,  1.10s/it]\n"
     ]
    },
    {
     "name": "stdout",
     "output_type": "stream",
     "text": [
      "开始处理论文 https://openalex.org/W4390732409，总被引: 4，预计页数: 1\n"
     ]
    },
    {
     "name": "stderr",
     "output_type": "stream",
     "text": [
      "分页获取: 100%|██████████| 1/1 [00:01<00:00,  1.38s/it]\n",
      "处理种子论文:  40%|████      | 747/1849 [9:33:12<16:25:01, 53.63s/it]"
     ]
    },
    {
     "name": "stdout",
     "output_type": "stream",
     "text": [
      "警告: 论文 https://openalex.org/W4390732409 应获取 4 条，实际获取 5 条\n"
     ]
    },
    {
     "name": "stderr",
     "output_type": "stream",
     "text": [
      "处理参考文献 https://openalex.org/W4392559090: 100%|██████████| 28/28 [00:34<00:00,  1.25s/it]\n"
     ]
    },
    {
     "name": "stdout",
     "output_type": "stream",
     "text": [
      "开始处理论文 https://openalex.org/W4392559090，总被引: 2，预计页数: 1\n"
     ]
    },
    {
     "name": "stderr",
     "output_type": "stream",
     "text": [
      "分页获取: 100%|██████████| 1/1 [00:01<00:00,  1.34s/it]\n",
      "处理参考文献 https://openalex.org/W4311879161: 100%|██████████| 4/4 [00:04<00:00,  1.11s/it]\n"
     ]
    },
    {
     "name": "stdout",
     "output_type": "stream",
     "text": [
      "开始处理论文 https://openalex.org/W4311879161，总被引: 2，预计页数: 1\n"
     ]
    },
    {
     "name": "stderr",
     "output_type": "stream",
     "text": [
      "分页获取: 100%|██████████| 1/1 [00:01<00:00,  1.49s/it]\n",
      "处理种子论文:  41%|████      | 749/1849 [9:33:54<10:54:08, 35.68s/it]"
     ]
    },
    {
     "name": "stdout",
     "output_type": "stream",
     "text": [
      "开始处理论文 https://openalex.org/W3036045927，总被引: 5，预计页数: 1\n"
     ]
    },
    {
     "name": "stderr",
     "output_type": "stream",
     "text": [
      "分页获取: 100%|██████████| 1/1 [00:01<00:00,  1.70s/it]\n",
      "处理参考文献 https://openalex.org/W4390108808: 100%|██████████| 89/89 [01:46<00:00,  1.19s/it]\n"
     ]
    },
    {
     "name": "stdout",
     "output_type": "stream",
     "text": [
      "开始处理论文 https://openalex.org/W4390108808，总被引: 3，预计页数: 1\n"
     ]
    },
    {
     "name": "stderr",
     "output_type": "stream",
     "text": [
      "分页获取: 100%|██████████| 1/1 [00:01<00:00,  1.52s/it]\n",
      "处理种子论文:  41%|████      | 751/1849 [9:35:49<15:51:19, 51.98s/it]"
     ]
    },
    {
     "name": "stdout",
     "output_type": "stream",
     "text": [
      "已保存临时结果\n"
     ]
    },
    {
     "name": "stderr",
     "output_type": "stream",
     "text": [
      "处理参考文献 https://openalex.org/W4293228522: 100%|██████████| 8/8 [00:09<00:00,  1.18s/it]\n"
     ]
    },
    {
     "name": "stdout",
     "output_type": "stream",
     "text": [
      "开始处理论文 https://openalex.org/W4293228522，总被引: 1，预计页数: 1\n"
     ]
    },
    {
     "name": "stderr",
     "output_type": "stream",
     "text": [
      "分页获取: 100%|██████████| 1/1 [00:01<00:00,  1.37s/it]\n",
      "处理参考文献 https://openalex.org/W4362580028: 100%|██████████| 5/5 [00:05<00:00,  1.05s/it]\n"
     ]
    },
    {
     "name": "stdout",
     "output_type": "stream",
     "text": [
      "开始处理论文 https://openalex.org/W4362580028，总被引: 19，预计页数: 1\n"
     ]
    },
    {
     "name": "stderr",
     "output_type": "stream",
     "text": [
      "分页获取: 100%|██████████| 1/1 [00:02<00:00,  2.02s/it]\n",
      "处理参考文献 https://openalex.org/W3004292620: 100%|██████████| 28/28 [00:35<00:00,  1.27s/it]\n"
     ]
    },
    {
     "name": "stdout",
     "output_type": "stream",
     "text": [
      "开始处理论文 https://openalex.org/W3004292620，总被引: 3，预计页数: 1\n"
     ]
    },
    {
     "name": "stderr",
     "output_type": "stream",
     "text": [
      "分页获取: 100%|██████████| 1/1 [00:01<00:00,  1.40s/it]\n",
      "处理参考文献 https://openalex.org/W4389331893: 100%|██████████| 103/103 [01:57<00:00,  1.14s/it]\n"
     ]
    },
    {
     "name": "stdout",
     "output_type": "stream",
     "text": [
      "开始处理论文 https://openalex.org/W4389331893，总被引: 6，预计页数: 1\n"
     ]
    },
    {
     "name": "stderr",
     "output_type": "stream",
     "text": [
      "分页获取: 100%|██████████| 1/1 [00:01<00:00,  1.73s/it]\n",
      "处理种子论文:  41%|████      | 755/1849 [9:38:43<17:38:43, 58.07s/it]"
     ]
    },
    {
     "name": "stdout",
     "output_type": "stream",
     "text": [
      "开始处理论文 https://openalex.org/W4386632714，总被引: 2，预计页数: 1\n"
     ]
    },
    {
     "name": "stderr",
     "output_type": "stream",
     "text": [
      "分页获取: 100%|██████████| 1/1 [00:01<00:00,  1.33s/it]\n",
      "处理种子论文:  41%|████      | 756/1849 [9:38:51<13:00:16, 42.83s/it]"
     ]
    },
    {
     "name": "stdout",
     "output_type": "stream",
     "text": [
      "已保存临时结果\n"
     ]
    },
    {
     "name": "stderr",
     "output_type": "stream",
     "text": [
      "处理参考文献 https://openalex.org/W4383000871: 100%|██████████| 13/13 [00:15<00:00,  1.16s/it]\n"
     ]
    },
    {
     "name": "stdout",
     "output_type": "stream",
     "text": [
      "开始处理论文 https://openalex.org/W4383000871，总被引: 4，预计页数: 1\n"
     ]
    },
    {
     "name": "stderr",
     "output_type": "stream",
     "text": [
      "分页获取: 100%|██████████| 1/1 [00:01<00:00,  1.50s/it]\n",
      "处理参考文献 https://openalex.org/W4386257939: 100%|██████████| 17/17 [00:23<00:00,  1.39s/it]\n"
     ]
    },
    {
     "name": "stdout",
     "output_type": "stream",
     "text": [
      "开始处理论文 https://openalex.org/W4386257939，总被引: 3，预计页数: 1\n"
     ]
    },
    {
     "name": "stderr",
     "output_type": "stream",
     "text": [
      "分页获取: 100%|██████████| 1/1 [00:01<00:00,  1.45s/it]\n",
      "处理参考文献 https://openalex.org/W4392941116: 100%|██████████| 1/1 [00:02<00:00,  2.11s/it]\n"
     ]
    },
    {
     "name": "stdout",
     "output_type": "stream",
     "text": [
      "开始处理论文 https://openalex.org/W4392941116，总被引: 1，预计页数: 1\n"
     ]
    },
    {
     "name": "stderr",
     "output_type": "stream",
     "text": [
      "分页获取: 100%|██████████| 1/1 [00:01<00:00,  1.35s/it]\n",
      "处理参考文献 https://openalex.org/W4318148162: 100%|██████████| 23/23 [00:24<00:00,  1.07s/it]\n"
     ]
    },
    {
     "name": "stdout",
     "output_type": "stream",
     "text": [
      "开始处理论文 https://openalex.org/W4318148162，总被引: 2，预计页数: 1\n"
     ]
    },
    {
     "name": "stderr",
     "output_type": "stream",
     "text": [
      "分页获取: 100%|██████████| 1/1 [00:01<00:00,  1.47s/it]\n",
      "处理种子论文:  41%|████      | 760/1849 [9:40:02<7:20:37, 24.28s/it]"
     ]
    },
    {
     "name": "stdout",
     "output_type": "stream",
     "text": [
      "开始处理论文 https://openalex.org/W3090694503，总被引: 2，预计页数: 1\n"
     ]
    },
    {
     "name": "stderr",
     "output_type": "stream",
     "text": [
      "分页获取: 100%|██████████| 1/1 [00:01<00:00,  1.40s/it]\n",
      "处理种子论文:  41%|████      | 761/1849 [9:40:09<5:48:14, 19.20s/it]"
     ]
    },
    {
     "name": "stdout",
     "output_type": "stream",
     "text": [
      "已保存临时结果\n"
     ]
    },
    {
     "name": "stderr",
     "output_type": "stream",
     "text": [
      "处理参考文献 https://openalex.org/W4390523506: 100%|██████████| 3/3 [00:03<00:00,  1.17s/it]\n"
     ]
    },
    {
     "name": "stdout",
     "output_type": "stream",
     "text": [
      "开始处理论文 https://openalex.org/W4390523506，总被引: 2，预计页数: 1\n"
     ]
    },
    {
     "name": "stderr",
     "output_type": "stream",
     "text": [
      "分页获取: 100%|██████████| 1/1 [00:01<00:00,  1.38s/it]\n",
      "处理参考文献 https://openalex.org/W4285360502: 100%|██████████| 3/3 [00:03<00:00,  1.12s/it]\n"
     ]
    },
    {
     "name": "stdout",
     "output_type": "stream",
     "text": [
      "开始处理论文 https://openalex.org/W4285360502，总被引: 1，预计页数: 1\n"
     ]
    },
    {
     "name": "stderr",
     "output_type": "stream",
     "text": [
      "分页获取: 100%|██████████| 1/1 [00:01<00:00,  1.47s/it]\n",
      "处理参考文献 https://openalex.org/W4388592759: 100%|██████████| 17/17 [00:23<00:00,  1.39s/it]\n"
     ]
    },
    {
     "name": "stdout",
     "output_type": "stream",
     "text": [
      "开始处理论文 https://openalex.org/W4388592759，总被引: 2，预计页数: 1\n"
     ]
    },
    {
     "name": "stderr",
     "output_type": "stream",
     "text": [
      "分页获取: 100%|██████████| 1/1 [00:01<00:00,  1.54s/it]\n",
      "处理参考文献 https://openalex.org/W3193912344: 100%|██████████| 11/11 [00:12<00:00,  1.11s/it]\n"
     ]
    },
    {
     "name": "stdout",
     "output_type": "stream",
     "text": [
      "开始处理论文 https://openalex.org/W3193912344，总被引: 2，预计页数: 1\n"
     ]
    },
    {
     "name": "stderr",
     "output_type": "stream",
     "text": [
      "分页获取: 100%|██████████| 1/1 [00:01<00:00,  1.40s/it]\n",
      "处理参考文献 https://openalex.org/W4284960613: 100%|██████████| 8/8 [00:09<00:00,  1.15s/it]\n"
     ]
    },
    {
     "name": "stdout",
     "output_type": "stream",
     "text": [
      "开始处理论文 https://openalex.org/W4284960613，总被引: 6，预计页数: 1\n"
     ]
    },
    {
     "name": "stderr",
     "output_type": "stream",
     "text": [
      "分页获取: 100%|██████████| 1/1 [00:01<00:00,  1.87s/it]\n",
      "处理种子论文:  41%|████▏     | 766/1849 [9:41:15<4:46:06, 15.85s/it]"
     ]
    },
    {
     "name": "stdout",
     "output_type": "stream",
     "text": [
      "已保存临时结果\n"
     ]
    },
    {
     "name": "stderr",
     "output_type": "stream",
     "text": [
      "处理参考文献 https://openalex.org/W4225271032: 100%|██████████| 2/2 [00:02<00:00,  1.16s/it]\n"
     ]
    },
    {
     "name": "stdout",
     "output_type": "stream",
     "text": [
      "开始处理论文 https://openalex.org/W4225271032，总被引: 2，预计页数: 1\n"
     ]
    },
    {
     "name": "stderr",
     "output_type": "stream",
     "text": [
      "分页获取: 100%|██████████| 1/1 [00:01<00:00,  1.37s/it]\n",
      "处理种子论文:  41%|████▏     | 767/1849 [9:41:19<3:40:25, 12.22s/it]"
     ]
    },
    {
     "name": "stdout",
     "output_type": "stream",
     "text": [
      "开始处理论文 https://openalex.org/W4385878820，总被引: 1，预计页数: 1\n"
     ]
    },
    {
     "name": "stderr",
     "output_type": "stream",
     "text": [
      "分页获取: 100%|██████████| 1/1 [00:01<00:00,  1.40s/it]\n",
      "处理参考文献 https://openalex.org/W4399548031: 100%|██████████| 56/56 [01:08<00:00,  1.22s/it]\n"
     ]
    },
    {
     "name": "stdout",
     "output_type": "stream",
     "text": [
      "开始处理论文 https://openalex.org/W4399548031，总被引: 4，预计页数: 1\n"
     ]
    },
    {
     "name": "stderr",
     "output_type": "stream",
     "text": [
      "分页获取: 100%|██████████| 1/1 [00:01<00:00,  1.38s/it]\n",
      "处理种子论文:  42%|████▏     | 769/1849 [9:42:30<8:09:54, 27.22s/it]"
     ]
    },
    {
     "name": "stdout",
     "output_type": "stream",
     "text": [
      "开始处理论文 https://openalex.org/W4393308772，总被引: 3，预计页数: 1\n"
     ]
    },
    {
     "name": "stderr",
     "output_type": "stream",
     "text": [
      "分页获取: 100%|██████████| 1/1 [00:01<00:00,  1.45s/it]\n",
      "处理种子论文:  42%|████▏     | 770/1849 [9:42:32<5:50:32, 19.49s/it]"
     ]
    },
    {
     "name": "stdout",
     "output_type": "stream",
     "text": [
      "开始处理论文 https://openalex.org/W4313298659，总被引: 1，预计页数: 1\n"
     ]
    },
    {
     "name": "stderr",
     "output_type": "stream",
     "text": [
      "分页获取: 100%|██████████| 1/1 [00:01<00:00,  1.33s/it]\n",
      "处理种子论文:  42%|████▏     | 771/1849 [9:42:39<4:44:47, 15.85s/it]"
     ]
    },
    {
     "name": "stdout",
     "output_type": "stream",
     "text": [
      "已保存临时结果\n"
     ]
    },
    {
     "name": "stderr",
     "output_type": "stream",
     "text": [
      "处理参考文献 https://openalex.org/W3046914698: 100%|██████████| 40/40 [00:43<00:00,  1.10s/it]\n"
     ]
    },
    {
     "name": "stdout",
     "output_type": "stream",
     "text": [
      "开始处理论文 https://openalex.org/W3046914698，总被引: 2，预计页数: 1\n"
     ]
    },
    {
     "name": "stderr",
     "output_type": "stream",
     "text": [
      "分页获取: 100%|██████████| 1/1 [00:01<00:00,  1.36s/it]\n",
      "处理参考文献 https://openalex.org/W4387242292: 100%|██████████| 43/43 [00:53<00:00,  1.24s/it]\n"
     ]
    },
    {
     "name": "stdout",
     "output_type": "stream",
     "text": [
      "开始处理论文 https://openalex.org/W4387242292，总被引: 5，预计页数: 1\n"
     ]
    },
    {
     "name": "stderr",
     "output_type": "stream",
     "text": [
      "分页获取: 100%|██████████| 1/1 [00:01<00:00,  1.67s/it]\n",
      "处理参考文献 https://openalex.org/W4311614015: 100%|██████████| 4/4 [00:07<00:00,  1.98s/it]\n"
     ]
    },
    {
     "name": "stdout",
     "output_type": "stream",
     "text": [
      "开始处理论文 https://openalex.org/W4311614015，总被引: 3，预计页数: 1\n"
     ]
    },
    {
     "name": "stderr",
     "output_type": "stream",
     "text": [
      "分页获取: 100%|██████████| 1/1 [00:01<00:00,  1.47s/it]\n",
      "处理参考文献 https://openalex.org/W4318474281: 100%|██████████| 2/2 [00:02<00:00,  1.15s/it]\n"
     ]
    },
    {
     "name": "stdout",
     "output_type": "stream",
     "text": [
      "开始处理论文 https://openalex.org/W4318474281，总被引: 1，预计页数: 1\n"
     ]
    },
    {
     "name": "stderr",
     "output_type": "stream",
     "text": [
      "分页获取: 100%|██████████| 1/1 [00:01<00:00,  1.50s/it]\n",
      "处理参考文献 https://openalex.org/W4214580865: 100%|██████████| 60/60 [01:14<00:00,  1.24s/it]\n"
     ]
    },
    {
     "name": "stdout",
     "output_type": "stream",
     "text": [
      "开始处理论文 https://openalex.org/W4214580865，总被引: 2，预计页数: 1\n"
     ]
    },
    {
     "name": "stderr",
     "output_type": "stream",
     "text": [
      "分页获取: 100%|██████████| 1/1 [00:01<00:00,  1.32s/it]\n",
      "处理种子论文:  42%|████▏     | 776/1849 [9:45:55<11:25:33, 38.34s/it]"
     ]
    },
    {
     "name": "stdout",
     "output_type": "stream",
     "text": [
      "已保存临时结果\n"
     ]
    },
    {
     "name": "stderr",
     "output_type": "stream",
     "text": [
      "处理参考文献 https://openalex.org/W4312074657: 100%|██████████| 5/5 [00:05<00:00,  1.19s/it]\n"
     ]
    },
    {
     "name": "stdout",
     "output_type": "stream",
     "text": [
      "开始处理论文 https://openalex.org/W4312074657，总被引: 2，预计页数: 1\n"
     ]
    },
    {
     "name": "stderr",
     "output_type": "stream",
     "text": [
      "分页获取: 100%|██████████| 1/1 [00:01<00:00,  1.40s/it]\n",
      "处理种子论文:  42%|████▏     | 777/1849 [9:46:02<8:38:58, 29.05s/it] "
     ]
    },
    {
     "name": "stdout",
     "output_type": "stream",
     "text": [
      "开始处理论文 https://openalex.org/W4400467296，总被引: 1，预计页数: 1\n"
     ]
    },
    {
     "name": "stderr",
     "output_type": "stream",
     "text": [
      "分页获取: 100%|██████████| 1/1 [00:01<00:00,  1.34s/it]\n",
      "处理参考文献 https://openalex.org/W4364349001: 100%|██████████| 65/65 [01:18<00:00,  1.20s/it]\n"
     ]
    },
    {
     "name": "stdout",
     "output_type": "stream",
     "text": [
      "开始处理论文 https://openalex.org/W4364349001，总被引: 1，预计页数: 1\n"
     ]
    },
    {
     "name": "stderr",
     "output_type": "stream",
     "text": [
      "分页获取: 100%|██████████| 1/1 [00:01<00:00,  1.35s/it]\n",
      "处理参考文献 https://openalex.org/W4400934770: 100%|██████████| 21/21 [00:23<00:00,  1.14s/it]\n"
     ]
    },
    {
     "name": "stdout",
     "output_type": "stream",
     "text": [
      "开始处理论文 https://openalex.org/W4400934770，总被引: 1，预计页数: 1\n"
     ]
    },
    {
     "name": "stderr",
     "output_type": "stream",
     "text": [
      "分页获取: 100%|██████████| 1/1 [00:01<00:00,  1.31s/it]\n",
      "处理参考文献 https://openalex.org/W4402919928: 100%|██████████| 28/28 [00:32<00:00,  1.16s/it]\n"
     ]
    },
    {
     "name": "stdout",
     "output_type": "stream",
     "text": [
      "开始处理论文 https://openalex.org/W4402919928，总被引: 6，预计页数: 1\n"
     ]
    },
    {
     "name": "stderr",
     "output_type": "stream",
     "text": [
      "分页获取: 100%|██████████| 1/1 [00:01<00:00,  1.66s/it]\n",
      "处理种子论文:  42%|████▏     | 781/1849 [9:48:28<10:44:22, 36.20s/it]"
     ]
    },
    {
     "name": "stdout",
     "output_type": "stream",
     "text": [
      "已保存临时结果\n"
     ]
    },
    {
     "name": "stderr",
     "output_type": "stream",
     "text": [
      "处理参考文献 https://openalex.org/W4394572441: 100%|██████████| 4/4 [00:04<00:00,  1.20s/it]\n"
     ]
    },
    {
     "name": "stdout",
     "output_type": "stream",
     "text": [
      "开始处理论文 https://openalex.org/W4394572441，总被引: 1，预计页数: 1\n"
     ]
    },
    {
     "name": "stderr",
     "output_type": "stream",
     "text": [
      "分页获取: 100%|██████████| 1/1 [00:01<00:00,  1.45s/it]\n",
      "处理参考文献 https://openalex.org/W4386639101: 100%|██████████| 9/9 [00:11<00:00,  1.24s/it]\n"
     ]
    },
    {
     "name": "stdout",
     "output_type": "stream",
     "text": [
      "开始处理论文 https://openalex.org/W4386639101，总被引: 1，预计页数: 1\n"
     ]
    },
    {
     "name": "stderr",
     "output_type": "stream",
     "text": [
      "分页获取: 100%|██████████| 1/1 [00:02<00:00,  2.65s/it]\n",
      "处理参考文献 https://openalex.org/W4402994544: 100%|██████████| 42/42 [00:55<00:00,  1.31s/it]\n"
     ]
    },
    {
     "name": "stdout",
     "output_type": "stream",
     "text": [
      "开始处理论文 https://openalex.org/W4402994544，总被引: 3，预计页数: 1\n"
     ]
    },
    {
     "name": "stderr",
     "output_type": "stream",
     "text": [
      "分页获取: 100%|██████████| 1/1 [00:01<00:00,  1.34s/it]\n",
      "处理参考文献 https://openalex.org/W4397038133: 100%|██████████| 4/4 [00:04<00:00,  1.13s/it]\n"
     ]
    },
    {
     "name": "stdout",
     "output_type": "stream",
     "text": [
      "开始处理论文 https://openalex.org/W4397038133，总被引: 1，预计页数: 1\n"
     ]
    },
    {
     "name": "stderr",
     "output_type": "stream",
     "text": [
      "分页获取: 100%|██████████| 1/1 [00:01<00:00,  1.39s/it]\n",
      "处理参考文献 https://openalex.org/W4396985366: 100%|██████████| 36/36 [00:39<00:00,  1.10s/it]\n"
     ]
    },
    {
     "name": "stdout",
     "output_type": "stream",
     "text": [
      "开始处理论文 https://openalex.org/W4396985366，总被引: 8，预计页数: 1\n"
     ]
    },
    {
     "name": "stderr",
     "output_type": "stream",
     "text": [
      "分页获取: 100%|██████████| 1/1 [00:01<00:00,  1.66s/it]\n",
      "处理种子论文:  43%|████▎     | 786/1849 [9:50:38<9:21:12, 31.68s/it]"
     ]
    },
    {
     "name": "stdout",
     "output_type": "stream",
     "text": [
      "已保存临时结果\n"
     ]
    },
    {
     "name": "stderr",
     "output_type": "stream",
     "text": [
      "处理参考文献 https://openalex.org/W4387133472: 100%|██████████| 8/8 [00:09<00:00,  1.16s/it]\n"
     ]
    },
    {
     "name": "stdout",
     "output_type": "stream",
     "text": [
      "开始处理论文 https://openalex.org/W4387133472，总被引: 2，预计页数: 1\n"
     ]
    },
    {
     "name": "stderr",
     "output_type": "stream",
     "text": [
      "分页获取: 100%|██████████| 1/1 [00:01<00:00,  1.41s/it]\n",
      "处理参考文献 https://openalex.org/W4283591299: 100%|██████████| 19/19 [00:21<00:00,  1.12s/it]\n"
     ]
    },
    {
     "name": "stdout",
     "output_type": "stream",
     "text": [
      "开始处理论文 https://openalex.org/W4283591299，总被引: 5，预计页数: 1\n"
     ]
    },
    {
     "name": "stderr",
     "output_type": "stream",
     "text": [
      "分页获取: 100%|██████████| 1/1 [00:01<00:00,  1.70s/it]\n",
      "处理参考文献 https://openalex.org/W4280600988: 100%|██████████| 31/31 [00:36<00:00,  1.19s/it]\n"
     ]
    },
    {
     "name": "stdout",
     "output_type": "stream",
     "text": [
      "开始处理论文 https://openalex.org/W4280600988，总被引: 3，预计页数: 1\n"
     ]
    },
    {
     "name": "stderr",
     "output_type": "stream",
     "text": [
      "分页获取: 100%|██████████| 1/1 [00:01<00:00,  1.61s/it]\n",
      "处理参考文献 https://openalex.org/W2970763591: 100%|██████████| 10/10 [00:12<00:00,  1.22s/it]\n"
     ]
    },
    {
     "name": "stdout",
     "output_type": "stream",
     "text": [
      "开始处理论文 https://openalex.org/W2970763591，总被引: 34，预计页数: 1\n"
     ]
    },
    {
     "name": "stderr",
     "output_type": "stream",
     "text": [
      "分页获取: 100%|██████████| 1/1 [00:02<00:00,  2.34s/it]\n",
      "处理参考文献 https://openalex.org/W4378717126: 100%|██████████| 6/6 [00:06<00:00,  1.06s/it]\n"
     ]
    },
    {
     "name": "stdout",
     "output_type": "stream",
     "text": [
      "开始处理论文 https://openalex.org/W4378717126，总被引: 1，预计页数: 1\n"
     ]
    },
    {
     "name": "stderr",
     "output_type": "stream",
     "text": [
      "分页获取: 100%|██████████| 1/1 [00:01<00:00,  1.44s/it]\n",
      "处理种子论文:  43%|████▎     | 791/1849 [9:52:19<6:16:27, 21.35s/it]"
     ]
    },
    {
     "name": "stdout",
     "output_type": "stream",
     "text": [
      "已保存临时结果\n"
     ]
    },
    {
     "name": "stderr",
     "output_type": "stream",
     "text": [
      "处理参考文献 https://openalex.org/W4392010319: 100%|██████████| 15/15 [00:18<00:00,  1.26s/it]\n"
     ]
    },
    {
     "name": "stdout",
     "output_type": "stream",
     "text": [
      "开始处理论文 https://openalex.org/W4392010319，总被引: 2，预计页数: 1\n"
     ]
    },
    {
     "name": "stderr",
     "output_type": "stream",
     "text": [
      "分页获取: 100%|██████████| 1/1 [00:01<00:00,  1.39s/it]\n",
      "处理参考文献 https://openalex.org/W3004576306: 100%|██████████| 1/1 [00:01<00:00,  1.14s/it]\n"
     ]
    },
    {
     "name": "stdout",
     "output_type": "stream",
     "text": [
      "开始处理论文 https://openalex.org/W3004576306，总被引: 2，预计页数: 1\n"
     ]
    },
    {
     "name": "stderr",
     "output_type": "stream",
     "text": [
      "分页获取: 100%|██████████| 1/1 [00:01<00:00,  1.42s/it]\n",
      "处理参考文献 https://openalex.org/W4319586339: 100%|██████████| 31/31 [00:35<00:00,  1.15s/it]\n"
     ]
    },
    {
     "name": "stdout",
     "output_type": "stream",
     "text": [
      "开始处理论文 https://openalex.org/W4319586339，总被引: 4，预计页数: 1\n"
     ]
    },
    {
     "name": "stderr",
     "output_type": "stream",
     "text": [
      "分页获取: 100%|██████████| 1/1 [00:01<00:00,  1.69s/it]\n",
      "处理参考文献 https://openalex.org/W4385447399: 100%|██████████| 17/17 [00:18<00:00,  1.11s/it]\n"
     ]
    },
    {
     "name": "stdout",
     "output_type": "stream",
     "text": [
      "开始处理论文 https://openalex.org/W4385447399，总被引: 2，预计页数: 1\n"
     ]
    },
    {
     "name": "stderr",
     "output_type": "stream",
     "text": [
      "分页获取: 100%|██████████| 1/1 [00:01<00:00,  1.34s/it]\n",
      "处理参考文献 https://openalex.org/W3193739974: 100%|██████████| 34/34 [00:41<00:00,  1.21s/it]\n"
     ]
    },
    {
     "name": "stdout",
     "output_type": "stream",
     "text": [
      "开始处理论文 https://openalex.org/W3193739974，总被引: 3，预计页数: 1\n"
     ]
    },
    {
     "name": "stderr",
     "output_type": "stream",
     "text": [
      "分页获取: 100%|██████████| 1/1 [00:01<00:00,  1.39s/it]\n",
      "处理种子论文:  43%|████▎     | 796/1849 [9:54:28<8:39:45, 29.62s/it]"
     ]
    },
    {
     "name": "stdout",
     "output_type": "stream",
     "text": [
      "已保存临时结果\n"
     ]
    },
    {
     "name": "stderr",
     "output_type": "stream",
     "text": [
      "处理参考文献 https://openalex.org/W3159842831: 100%|██████████| 13/13 [00:14<00:00,  1.12s/it]\n"
     ]
    },
    {
     "name": "stdout",
     "output_type": "stream",
     "text": [
      "开始处理论文 https://openalex.org/W3159842831，总被引: 19，预计页数: 1\n"
     ]
    },
    {
     "name": "stderr",
     "output_type": "stream",
     "text": [
      "分页获取: 100%|██████████| 1/1 [00:02<00:00,  2.16s/it]\n",
      "处理参考文献 https://openalex.org/W4388539566: 100%|██████████| 37/37 [00:41<00:00,  1.12s/it]\n"
     ]
    },
    {
     "name": "stdout",
     "output_type": "stream",
     "text": [
      "开始处理论文 https://openalex.org/W4388539566，总被引: 2，预计页数: 1\n"
     ]
    },
    {
     "name": "stderr",
     "output_type": "stream",
     "text": [
      "分页获取: 100%|██████████| 1/1 [00:01<00:00,  1.49s/it]\n",
      "处理参考文献 https://openalex.org/W4396648648: 100%|██████████| 15/15 [00:17<00:00,  1.16s/it]\n"
     ]
    },
    {
     "name": "stdout",
     "output_type": "stream",
     "text": [
      "开始处理论文 https://openalex.org/W4396648648，总被引: 2，预计页数: 1\n"
     ]
    },
    {
     "name": "stderr",
     "output_type": "stream",
     "text": [
      "分页获取: 100%|██████████| 1/1 [00:01<00:00,  1.51s/it]\n",
      "处理参考文献 https://openalex.org/W4323341828: 100%|██████████| 19/19 [00:20<00:00,  1.09s/it]\n"
     ]
    },
    {
     "name": "stdout",
     "output_type": "stream",
     "text": [
      "开始处理论文 https://openalex.org/W4323341828，总被引: 2，预计页数: 1\n"
     ]
    },
    {
     "name": "stderr",
     "output_type": "stream",
     "text": [
      "分页获取: 100%|██████████| 1/1 [00:01<00:00,  1.43s/it]\n",
      "处理种子论文:  43%|████▎     | 800/1849 [9:56:09<7:30:48, 25.79s/it]"
     ]
    },
    {
     "name": "stdout",
     "output_type": "stream",
     "text": [
      "开始处理论文 https://openalex.org/W3081734958，总被引: 1，预计页数: 1\n"
     ]
    },
    {
     "name": "stderr",
     "output_type": "stream",
     "text": [
      "分页获取: 100%|██████████| 1/1 [00:01<00:00,  1.51s/it]\n",
      "处理种子论文:  43%|████▎     | 801/1849 [9:56:16<5:54:47, 20.31s/it]"
     ]
    },
    {
     "name": "stdout",
     "output_type": "stream",
     "text": [
      "已保存临时结果\n"
     ]
    },
    {
     "name": "stderr",
     "output_type": "stream",
     "text": [
      "处理参考文献 https://openalex.org/W4386785877: 100%|██████████| 79/79 [01:33<00:00,  1.18s/it]\n"
     ]
    },
    {
     "name": "stdout",
     "output_type": "stream",
     "text": [
      "开始处理论文 https://openalex.org/W4386785877，总被引: 15，预计页数: 1\n"
     ]
    },
    {
     "name": "stderr",
     "output_type": "stream",
     "text": [
      "分页获取: 100%|██████████| 1/1 [00:01<00:00,  1.75s/it]\n",
      "处理种子论文:  43%|████▎     | 802/1849 [9:57:52<12:26:02, 42.75s/it]"
     ]
    },
    {
     "name": "stdout",
     "output_type": "stream",
     "text": [
      "警告: 论文 https://openalex.org/W4386785877 应获取 15 条，实际获取 16 条\n"
     ]
    },
    {
     "name": "stderr",
     "output_type": "stream",
     "text": [
      "处理参考文献 https://openalex.org/W4388535476: 100%|██████████| 6/6 [00:07<00:00,  1.19s/it]\n"
     ]
    },
    {
     "name": "stdout",
     "output_type": "stream",
     "text": [
      "开始处理论文 https://openalex.org/W4388535476，总被引: 1，预计页数: 1\n"
     ]
    },
    {
     "name": "stderr",
     "output_type": "stream",
     "text": [
      "分页获取: 100%|██████████| 1/1 [00:01<00:00,  1.39s/it]\n",
      "处理参考文献 https://openalex.org/W4386518069: 100%|██████████| 2/2 [00:02<00:00,  1.09s/it]\n"
     ]
    },
    {
     "name": "stdout",
     "output_type": "stream",
     "text": [
      "开始处理论文 https://openalex.org/W4386518069，总被引: 3，预计页数: 1\n"
     ]
    },
    {
     "name": "stderr",
     "output_type": "stream",
     "text": [
      "分页获取: 100%|██████████| 1/1 [00:01<00:00,  1.59s/it]\n",
      "处理种子论文:  43%|████▎     | 804/1849 [9:58:04<6:56:04, 23.89s/it]"
     ]
    },
    {
     "name": "stdout",
     "output_type": "stream",
     "text": [
      "警告: 论文 https://openalex.org/W4386518069 应获取 3 条，实际获取 4 条\n"
     ]
    },
    {
     "name": "stderr",
     "output_type": "stream",
     "text": [
      "处理参考文献 https://openalex.org/W4394735384: 100%|██████████| 5/5 [00:05<00:00,  1.09s/it]\n"
     ]
    },
    {
     "name": "stdout",
     "output_type": "stream",
     "text": [
      "开始处理论文 https://openalex.org/W4394735384，总被引: 1，预计页数: 1\n"
     ]
    },
    {
     "name": "stderr",
     "output_type": "stream",
     "text": [
      "分页获取: 100%|██████████| 1/1 [00:01<00:00,  1.39s/it]\n",
      "处理参考文献 https://openalex.org/W4379377968: 100%|██████████| 2/2 [00:02<00:00,  1.10s/it]\n"
     ]
    },
    {
     "name": "stdout",
     "output_type": "stream",
     "text": [
      "开始处理论文 https://openalex.org/W4379377968，总被引: 1，预计页数: 1\n"
     ]
    },
    {
     "name": "stderr",
     "output_type": "stream",
     "text": [
      "分页获取: 100%|██████████| 1/1 [00:01<00:00,  1.48s/it]\n",
      "处理种子论文:  44%|████▎     | 806/1849 [9:58:20<4:39:18, 16.07s/it]"
     ]
    },
    {
     "name": "stdout",
     "output_type": "stream",
     "text": [
      "已保存临时结果\n"
     ]
    },
    {
     "name": "stderr",
     "output_type": "stream",
     "text": [
      "处理参考文献 https://openalex.org/W4385458802: 100%|██████████| 1/1 [00:01<00:00,  1.17s/it]\n"
     ]
    },
    {
     "name": "stdout",
     "output_type": "stream",
     "text": [
      "开始处理论文 https://openalex.org/W4385458802，总被引: 1，预计页数: 1\n"
     ]
    },
    {
     "name": "stderr",
     "output_type": "stream",
     "text": [
      "分页获取: 100%|██████████| 1/1 [00:01<00:00,  1.52s/it]\n",
      "处理参考文献 https://openalex.org/W4404700322: 100%|██████████| 116/116 [02:14<00:00,  1.16s/it]\n"
     ]
    },
    {
     "name": "stdout",
     "output_type": "stream",
     "text": [
      "开始处理论文 https://openalex.org/W4404700322，总被引: 2，预计页数: 1\n"
     ]
    },
    {
     "name": "stderr",
     "output_type": "stream",
     "text": [
      "分页获取: 100%|██████████| 1/1 [00:01<00:00,  1.42s/it]\n",
      "处理种子论文:  44%|████▎     | 808/1849 [10:00:39<14:12:32, 49.14s/it]"
     ]
    },
    {
     "name": "stdout",
     "output_type": "stream",
     "text": [
      "警告: 论文 https://openalex.org/W4404700322 应获取 2 条，实际获取 3 条\n"
     ]
    },
    {
     "name": "stderr",
     "output_type": "stream",
     "text": [
      "处理参考文献 https://openalex.org/W3125313318: 100%|██████████| 2/2 [00:02<00:00,  1.26s/it]\n"
     ]
    },
    {
     "name": "stdout",
     "output_type": "stream",
     "text": [
      "开始处理论文 https://openalex.org/W3125313318，总被引: 1，预计页数: 1\n"
     ]
    },
    {
     "name": "stderr",
     "output_type": "stream",
     "text": [
      "分页获取: 100%|██████████| 1/1 [00:01<00:00,  1.39s/it]\n",
      "处理参考文献 https://openalex.org/W4399766780: 100%|██████████| 4/4 [00:11<00:00,  2.87s/it]\n"
     ]
    },
    {
     "name": "stdout",
     "output_type": "stream",
     "text": [
      "开始处理论文 https://openalex.org/W4399766780，总被引: 3，预计页数: 1\n"
     ]
    },
    {
     "name": "stderr",
     "output_type": "stream",
     "text": [
      "分页获取: 100%|██████████| 1/1 [00:01<00:00,  1.39s/it]\n",
      "处理参考文献 https://openalex.org/W4220997217: 100%|██████████| 17/17 [00:19<00:00,  1.13s/it]\n"
     ]
    },
    {
     "name": "stdout",
     "output_type": "stream",
     "text": [
      "开始处理论文 https://openalex.org/W4220997217，总被引: 8，预计页数: 1\n"
     ]
    },
    {
     "name": "stderr",
     "output_type": "stream",
     "text": [
      "分页获取: 100%|██████████| 1/1 [00:04<00:00,  4.17s/it]\n",
      "处理种子论文:  44%|████▍     | 811/1849 [10:01:25<8:21:43, 29.00s/it]"
     ]
    },
    {
     "name": "stdout",
     "output_type": "stream",
     "text": [
      "已保存临时结果\n"
     ]
    },
    {
     "name": "stderr",
     "output_type": "stream",
     "text": [
      "处理参考文献 https://openalex.org/W2892259173: 100%|██████████| 2/2 [00:02<00:00,  1.29s/it]\n"
     ]
    },
    {
     "name": "stdout",
     "output_type": "stream",
     "text": [
      "开始处理论文 https://openalex.org/W2892259173，总被引: 9，预计页数: 1\n"
     ]
    },
    {
     "name": "stderr",
     "output_type": "stream",
     "text": [
      "分页获取: 100%|██████████| 1/1 [00:01<00:00,  1.88s/it]\n",
      "处理参考文献 https://openalex.org/W4318447377: 100%|██████████| 29/29 [00:34<00:00,  1.20s/it]\n"
     ]
    },
    {
     "name": "stdout",
     "output_type": "stream",
     "text": [
      "开始处理论文 https://openalex.org/W4318447377，总被引: 4，预计页数: 1\n"
     ]
    },
    {
     "name": "stderr",
     "output_type": "stream",
     "text": [
      "分页获取: 100%|██████████| 1/1 [00:01<00:00,  1.64s/it]\n",
      "处理参考文献 https://openalex.org/W4390194899: 100%|██████████| 13/13 [00:19<00:00,  1.49s/it]\n"
     ]
    },
    {
     "name": "stdout",
     "output_type": "stream",
     "text": [
      "开始处理论文 https://openalex.org/W4390194899，总被引: 2，预计页数: 1\n"
     ]
    },
    {
     "name": "stderr",
     "output_type": "stream",
     "text": [
      "分页获取: 100%|██████████| 1/1 [00:01<00:00,  1.36s/it]\n",
      "处理参考文献 https://openalex.org/W4389691282: 100%|██████████| 34/34 [00:39<00:00,  1.17s/it]\n"
     ]
    },
    {
     "name": "stdout",
     "output_type": "stream",
     "text": [
      "开始处理论文 https://openalex.org/W4389691282，总被引: 4，预计页数: 1\n"
     ]
    },
    {
     "name": "stderr",
     "output_type": "stream",
     "text": [
      "分页获取: 100%|██████████| 1/1 [00:01<00:00,  1.77s/it]\n",
      "处理参考文献 https://openalex.org/W4321385170: 100%|██████████| 1/1 [00:01<00:00,  1.14s/it]\n"
     ]
    },
    {
     "name": "stdout",
     "output_type": "stream",
     "text": [
      "开始处理论文 https://openalex.org/W4321385170，总被引: 1，预计页数: 1\n"
     ]
    },
    {
     "name": "stderr",
     "output_type": "stream",
     "text": [
      "分页获取: 100%|██████████| 1/1 [00:01<00:00,  1.42s/it]\n",
      "处理种子论文:  44%|████▍     | 816/1849 [10:03:17<6:42:06, 23.36s/it]"
     ]
    },
    {
     "name": "stdout",
     "output_type": "stream",
     "text": [
      "已保存临时结果\n"
     ]
    },
    {
     "name": "stderr",
     "output_type": "stream",
     "text": [
      "处理参考文献 https://openalex.org/W4386727944: 100%|██████████| 27/27 [00:33<00:00,  1.25s/it]\n"
     ]
    },
    {
     "name": "stdout",
     "output_type": "stream",
     "text": [
      "开始处理论文 https://openalex.org/W4386727944，总被引: 2，预计页数: 1\n"
     ]
    },
    {
     "name": "stderr",
     "output_type": "stream",
     "text": [
      "分页获取: 100%|██████████| 1/1 [00:01<00:00,  1.33s/it]\n",
      "处理种子论文:  44%|████▍     | 817/1849 [10:03:53<7:43:08, 26.93s/it]"
     ]
    },
    {
     "name": "stdout",
     "output_type": "stream",
     "text": [
      "开始处理论文 https://openalex.org/W4404682098，总被引: 2，预计页数: 1\n"
     ]
    },
    {
     "name": "stderr",
     "output_type": "stream",
     "text": [
      "分页获取: 100%|██████████| 1/1 [00:01<00:00,  1.31s/it]\n",
      "处理参考文献 https://openalex.org/W4390398366: 100%|██████████| 7/7 [00:08<00:00,  1.20s/it]\n"
     ]
    },
    {
     "name": "stdout",
     "output_type": "stream",
     "text": [
      "开始处理论文 https://openalex.org/W4390398366，总被引: 2，预计页数: 1\n"
     ]
    },
    {
     "name": "stderr",
     "output_type": "stream",
     "text": [
      "分页获取: 100%|██████████| 1/1 [00:02<00:00,  2.56s/it]\n",
      "处理参考文献 https://openalex.org/W4386713055: 100%|██████████| 9/9 [00:11<00:00,  1.28s/it]\n"
     ]
    },
    {
     "name": "stdout",
     "output_type": "stream",
     "text": [
      "开始处理论文 https://openalex.org/W4386713055，总被引: 2，预计页数: 1\n"
     ]
    },
    {
     "name": "stderr",
     "output_type": "stream",
     "text": [
      "分页获取: 100%|██████████| 1/1 [00:01<00:00,  1.47s/it]\n",
      "处理种子论文:  44%|████▍     | 820/1849 [10:04:18<4:28:10, 15.64s/it]"
     ]
    },
    {
     "name": "stdout",
     "output_type": "stream",
     "text": [
      "开始处理论文 https://openalex.org/W4382896053，总被引: 1，预计页数: 1\n"
     ]
    },
    {
     "name": "stderr",
     "output_type": "stream",
     "text": [
      "分页获取: 100%|██████████| 1/1 [00:01<00:00,  1.43s/it]\n",
      "处理种子论文:  44%|████▍     | 821/1849 [10:04:25<3:46:04, 13.20s/it]"
     ]
    },
    {
     "name": "stdout",
     "output_type": "stream",
     "text": [
      "已保存临时结果\n"
     ]
    },
    {
     "name": "stderr",
     "output_type": "stream",
     "text": [
      "处理参考文献 https://openalex.org/W4394860307: 100%|██████████| 17/17 [00:20<00:00,  1.21s/it]\n"
     ]
    },
    {
     "name": "stdout",
     "output_type": "stream",
     "text": [
      "开始处理论文 https://openalex.org/W4394860307，总被引: 3，预计页数: 1\n"
     ]
    },
    {
     "name": "stderr",
     "output_type": "stream",
     "text": [
      "分页获取: 100%|██████████| 1/1 [00:01<00:00,  1.77s/it]\n",
      "处理种子论文:  44%|████▍     | 822/1849 [10:04:48<4:32:55, 15.94s/it]"
     ]
    },
    {
     "name": "stdout",
     "output_type": "stream",
     "text": [
      "警告: 论文 https://openalex.org/W4394860307 应获取 3 条，实际获取 4 条\n"
     ]
    },
    {
     "name": "stderr",
     "output_type": "stream",
     "text": [
      "处理参考文献 https://openalex.org/W4382239479: 100%|██████████| 26/26 [00:29<00:00,  1.13s/it]\n"
     ]
    },
    {
     "name": "stdout",
     "output_type": "stream",
     "text": [
      "开始处理论文 https://openalex.org/W4382239479，总被引: 2，预计页数: 1\n"
     ]
    },
    {
     "name": "stderr",
     "output_type": "stream",
     "text": [
      "分页获取: 100%|██████████| 1/1 [00:01<00:00,  1.35s/it]\n",
      "处理参考文献 https://openalex.org/W4385791012: 100%|██████████| 31/31 [00:36<00:00,  1.17s/it]\n"
     ]
    },
    {
     "name": "stdout",
     "output_type": "stream",
     "text": [
      "开始处理论文 https://openalex.org/W4385791012，总被引: 2，预计页数: 1\n"
     ]
    },
    {
     "name": "stderr",
     "output_type": "stream",
     "text": [
      "分页获取: 100%|██████████| 1/1 [00:01<00:00,  1.42s/it]\n",
      "处理参考文献 https://openalex.org/W4379983978: 100%|██████████| 18/18 [00:20<00:00,  1.16s/it]\n"
     ]
    },
    {
     "name": "stdout",
     "output_type": "stream",
     "text": [
      "开始处理论文 https://openalex.org/W4379983978，总被引: 2，预计页数: 1\n"
     ]
    },
    {
     "name": "stderr",
     "output_type": "stream",
     "text": [
      "分页获取: 100%|██████████| 1/1 [00:01<00:00,  1.40s/it]\n",
      "处理参考文献 https://openalex.org/W4391350192: 100%|██████████| 81/81 [01:33<00:00,  1.16s/it]\n"
     ]
    },
    {
     "name": "stdout",
     "output_type": "stream",
     "text": [
      "开始处理论文 https://openalex.org/W4391350192，总被引: 2，预计页数: 1\n"
     ]
    },
    {
     "name": "stderr",
     "output_type": "stream",
     "text": [
      "分页获取: 100%|██████████| 1/1 [00:01<00:00,  1.49s/it]\n",
      "处理种子论文:  45%|████▍     | 826/1849 [10:08:00<13:33:50, 47.73s/it]"
     ]
    },
    {
     "name": "stdout",
     "output_type": "stream",
     "text": [
      "已保存临时结果\n"
     ]
    },
    {
     "name": "stderr",
     "output_type": "stream",
     "text": [
      "处理参考文献 https://openalex.org/W4205406505: 100%|██████████| 10/10 [00:12<00:00,  1.25s/it]\n"
     ]
    },
    {
     "name": "stdout",
     "output_type": "stream",
     "text": [
      "开始处理论文 https://openalex.org/W4205406505，总被引: 2，预计页数: 1\n"
     ]
    },
    {
     "name": "stderr",
     "output_type": "stream",
     "text": [
      "分页获取: 100%|██████████| 1/1 [00:01<00:00,  1.52s/it]\n",
      "处理参考文献 https://openalex.org/W4401354317: 100%|██████████| 29/29 [00:39<00:00,  1.37s/it]\n"
     ]
    },
    {
     "name": "stdout",
     "output_type": "stream",
     "text": [
      "开始处理论文 https://openalex.org/W4401354317，总被引: 2，预计页数: 1\n"
     ]
    },
    {
     "name": "stderr",
     "output_type": "stream",
     "text": [
      "分页获取: 100%|██████████| 1/1 [00:01<00:00,  1.47s/it]\n",
      "处理参考文献 https://openalex.org/W4390737570: 100%|██████████| 6/6 [00:07<00:00,  1.31s/it]\n"
     ]
    },
    {
     "name": "stdout",
     "output_type": "stream",
     "text": [
      "开始处理论文 https://openalex.org/W4390737570，总被引: 1，预计页数: 1\n"
     ]
    },
    {
     "name": "stderr",
     "output_type": "stream",
     "text": [
      "分页获取: 100%|██████████| 1/1 [00:01<00:00,  1.44s/it]\n",
      "处理参考文献 https://openalex.org/W4393171709: 100%|██████████| 98/98 [02:02<00:00,  1.25s/it]\n"
     ]
    },
    {
     "name": "stdout",
     "output_type": "stream",
     "text": [
      "开始处理论文 https://openalex.org/W4393171709，总被引: 3，预计页数: 1\n"
     ]
    },
    {
     "name": "stderr",
     "output_type": "stream",
     "text": [
      "分页获取: 100%|██████████| 1/1 [00:01<00:00,  1.35s/it]\n",
      "处理种子论文:  45%|████▍     | 830/1849 [10:11:09<16:28:03, 58.18s/it]"
     ]
    },
    {
     "name": "stdout",
     "output_type": "stream",
     "text": [
      "开始处理论文 https://openalex.org/W3214775526，总被引: 1，预计页数: 1\n"
     ]
    },
    {
     "name": "stderr",
     "output_type": "stream",
     "text": [
      "分页获取: 100%|██████████| 1/1 [00:01<00:00,  1.54s/it]\n",
      "处理种子论文:  45%|████▍     | 831/1849 [10:11:17<12:10:10, 43.04s/it]"
     ]
    },
    {
     "name": "stdout",
     "output_type": "stream",
     "text": [
      "已保存临时结果\n",
      "开始处理论文 https://openalex.org/W4387958357，总被引: 1，预计页数: 1\n"
     ]
    },
    {
     "name": "stderr",
     "output_type": "stream",
     "text": [
      "分页获取: 100%|██████████| 1/1 [00:01<00:00,  1.34s/it]\n",
      "处理参考文献 https://openalex.org/W2772480846: 100%|██████████| 8/8 [00:08<00:00,  1.12s/it]\n"
     ]
    },
    {
     "name": "stdout",
     "output_type": "stream",
     "text": [
      "开始处理论文 https://openalex.org/W2772480846，总被引: 1，预计页数: 1\n"
     ]
    },
    {
     "name": "stderr",
     "output_type": "stream",
     "text": [
      "分页获取: 100%|██████████| 1/1 [00:01<00:00,  1.36s/it]\n",
      "处理参考文献 https://openalex.org/W3194085221: 100%|██████████| 3/3 [00:03<00:00,  1.08s/it]\n"
     ]
    },
    {
     "name": "stdout",
     "output_type": "stream",
     "text": [
      "开始处理论文 https://openalex.org/W3194085221，总被引: 1，预计页数: 1\n"
     ]
    },
    {
     "name": "stderr",
     "output_type": "stream",
     "text": [
      "分页获取: 100%|██████████| 1/1 [00:01<00:00,  1.39s/it]\n",
      "处理参考文献 https://openalex.org/W4403917863: 100%|██████████| 30/30 [00:34<00:00,  1.16s/it]\n"
     ]
    },
    {
     "name": "stdout",
     "output_type": "stream",
     "text": [
      "开始处理论文 https://openalex.org/W4403917863，总被引: 2，预计页数: 1\n"
     ]
    },
    {
     "name": "stderr",
     "output_type": "stream",
     "text": [
      "分页获取: 100%|██████████| 1/1 [00:01<00:00,  1.44s/it]\n",
      "处理参考文献 https://openalex.org/W2978150694: 100%|██████████| 10/10 [00:11<00:00,  1.10s/it]\n"
     ]
    },
    {
     "name": "stdout",
     "output_type": "stream",
     "text": [
      "开始处理论文 https://openalex.org/W2978150694，总被引: 5，预计页数: 1\n"
     ]
    },
    {
     "name": "stderr",
     "output_type": "stream",
     "text": [
      "分页获取: 100%|██████████| 1/1 [00:01<00:00,  1.41s/it]\n",
      "处理种子论文:  45%|████▌     | 836/1849 [10:12:28<6:17:00, 22.33s/it]"
     ]
    },
    {
     "name": "stdout",
     "output_type": "stream",
     "text": [
      "已保存临时结果\n"
     ]
    },
    {
     "name": "stderr",
     "output_type": "stream",
     "text": [
      "处理参考文献 https://openalex.org/W4385949815: 100%|██████████| 29/29 [00:33<00:00,  1.17s/it]\n"
     ]
    },
    {
     "name": "stdout",
     "output_type": "stream",
     "text": [
      "开始处理论文 https://openalex.org/W4385949815，总被引: 2，预计页数: 1\n"
     ]
    },
    {
     "name": "stderr",
     "output_type": "stream",
     "text": [
      "分页获取: 100%|██████████| 1/1 [00:01<00:00,  1.48s/it]\n",
      "处理参考文献 https://openalex.org/W4388280167: 100%|██████████| 12/12 [00:14<00:00,  1.19s/it]\n"
     ]
    },
    {
     "name": "stdout",
     "output_type": "stream",
     "text": [
      "开始处理论文 https://openalex.org/W4388280167，总被引: 1，预计页数: 1\n"
     ]
    },
    {
     "name": "stderr",
     "output_type": "stream",
     "text": [
      "分页获取: 100%|██████████| 1/1 [00:01<00:00,  1.42s/it]\n",
      "处理参考文献 https://openalex.org/W4281476425: 100%|██████████| 15/15 [00:19<00:00,  1.27s/it]\n"
     ]
    },
    {
     "name": "stdout",
     "output_type": "stream",
     "text": [
      "开始处理论文 https://openalex.org/W4281476425，总被引: 2，预计页数: 1\n"
     ]
    },
    {
     "name": "stderr",
     "output_type": "stream",
     "text": [
      "分页获取: 100%|██████████| 1/1 [00:01<00:00,  1.43s/it]\n",
      "处理参考文献 https://openalex.org/W4378422603: 100%|██████████| 15/15 [00:18<00:00,  1.26s/it]\n"
     ]
    },
    {
     "name": "stdout",
     "output_type": "stream",
     "text": [
      "开始处理论文 https://openalex.org/W4378422603，总被引: 3，预计页数: 1\n"
     ]
    },
    {
     "name": "stderr",
     "output_type": "stream",
     "text": [
      "分页获取: 100%|██████████| 1/1 [00:01<00:00,  1.52s/it]\n",
      "处理参考文献 https://openalex.org/W4386057126: 100%|██████████| 2/2 [00:02<00:00,  1.17s/it]\n"
     ]
    },
    {
     "name": "stdout",
     "output_type": "stream",
     "text": [
      "开始处理论文 https://openalex.org/W4386057126，总被引: 2，预计页数: 1\n"
     ]
    },
    {
     "name": "stderr",
     "output_type": "stream",
     "text": [
      "分页获取: 100%|██████████| 1/1 [00:01<00:00,  1.34s/it]\n",
      "处理种子论文:  45%|████▌     | 841/1849 [10:14:10<5:06:21, 18.24s/it]"
     ]
    },
    {
     "name": "stdout",
     "output_type": "stream",
     "text": [
      "已保存临时结果\n"
     ]
    },
    {
     "name": "stderr",
     "output_type": "stream",
     "text": [
      "处理参考文献 https://openalex.org/W4377091558: 100%|██████████| 38/38 [00:45<00:00,  1.19s/it]\n"
     ]
    },
    {
     "name": "stdout",
     "output_type": "stream",
     "text": [
      "开始处理论文 https://openalex.org/W4377091558，总被引: 5，预计页数: 1\n"
     ]
    },
    {
     "name": "stderr",
     "output_type": "stream",
     "text": [
      "分页获取: 100%|██████████| 1/1 [00:01<00:00,  1.40s/it]\n",
      "处理参考文献 https://openalex.org/W3156069046: 100%|██████████| 21/21 [00:24<00:00,  1.16s/it]\n"
     ]
    },
    {
     "name": "stdout",
     "output_type": "stream",
     "text": [
      "开始处理论文 https://openalex.org/W3156069046，总被引: 2，预计页数: 1\n"
     ]
    },
    {
     "name": "stderr",
     "output_type": "stream",
     "text": [
      "分页获取: 100%|██████████| 1/1 [00:01<00:00,  1.69s/it]\n",
      "处理参考文献 https://openalex.org/W2946317524: 100%|██████████| 11/11 [00:13<00:00,  1.23s/it]\n"
     ]
    },
    {
     "name": "stdout",
     "output_type": "stream",
     "text": [
      "开始处理论文 https://openalex.org/W2946317524，总被引: 1，预计页数: 1\n"
     ]
    },
    {
     "name": "stderr",
     "output_type": "stream",
     "text": [
      "分页获取: 100%|██████████| 1/1 [00:01<00:00,  1.44s/it]\n",
      "处理参考文献 https://openalex.org/W3172385040: 100%|██████████| 3/3 [00:03<00:00,  1.17s/it]\n"
     ]
    },
    {
     "name": "stdout",
     "output_type": "stream",
     "text": [
      "开始处理论文 https://openalex.org/W3172385040，总被引: 5，预计页数: 1\n"
     ]
    },
    {
     "name": "stderr",
     "output_type": "stream",
     "text": [
      "分页获取: 100%|██████████| 1/1 [00:01<00:00,  1.49s/it]\n",
      "处理参考文献 https://openalex.org/W4399117650: 100%|██████████| 29/29 [00:38<00:00,  1.32s/it]\n"
     ]
    },
    {
     "name": "stdout",
     "output_type": "stream",
     "text": [
      "开始处理论文 https://openalex.org/W4399117650，总被引: 2，预计页数: 1\n"
     ]
    },
    {
     "name": "stderr",
     "output_type": "stream",
     "text": [
      "分页获取: 100%|██████████| 1/1 [00:01<00:00,  1.52s/it]\n",
      "处理种子论文:  46%|████▌     | 846/1849 [10:16:29<7:16:39, 26.12s/it]"
     ]
    },
    {
     "name": "stdout",
     "output_type": "stream",
     "text": [
      "已保存临时结果\n"
     ]
    },
    {
     "name": "stderr",
     "output_type": "stream",
     "text": [
      "处理参考文献 https://openalex.org/W4392860551: 100%|██████████| 6/6 [00:06<00:00,  1.11s/it]\n"
     ]
    },
    {
     "name": "stdout",
     "output_type": "stream",
     "text": [
      "开始处理论文 https://openalex.org/W4392860551，总被引: 1，预计页数: 1\n"
     ]
    },
    {
     "name": "stderr",
     "output_type": "stream",
     "text": [
      "分页获取: 100%|██████████| 1/1 [00:01<00:00,  1.41s/it]\n",
      "处理参考文献 https://openalex.org/W3166073117: 100%|██████████| 1/1 [00:01<00:00,  1.04s/it]\n"
     ]
    },
    {
     "name": "stdout",
     "output_type": "stream",
     "text": [
      "开始处理论文 https://openalex.org/W3166073117，总被引: 3，预计页数: 1\n"
     ]
    },
    {
     "name": "stderr",
     "output_type": "stream",
     "text": [
      "分页获取: 100%|██████████| 1/1 [00:01<00:00,  1.40s/it]\n",
      "处理参考文献 https://openalex.org/W4390752628: 100%|██████████| 15/15 [00:16<00:00,  1.09s/it]\n"
     ]
    },
    {
     "name": "stdout",
     "output_type": "stream",
     "text": [
      "开始处理论文 https://openalex.org/W4390752628，总被引: 2，预计页数: 1\n"
     ]
    },
    {
     "name": "stderr",
     "output_type": "stream",
     "text": [
      "分页获取: 100%|██████████| 1/1 [00:01<00:00,  1.40s/it]\n",
      "处理种子论文:  46%|████▌     | 849/1849 [10:16:57<4:26:53, 16.01s/it]"
     ]
    },
    {
     "name": "stdout",
     "output_type": "stream",
     "text": [
      "开始处理论文 https://openalex.org/W4362592432，总被引: 1，预计页数: 1\n"
     ]
    },
    {
     "name": "stderr",
     "output_type": "stream",
     "text": [
      "分页获取: 100%|██████████| 1/1 [00:01<00:00,  1.32s/it]\n",
      "处理参考文献 https://openalex.org/W2982655249: 100%|██████████| 39/39 [00:46<00:00,  1.18s/it]\n"
     ]
    },
    {
     "name": "stdout",
     "output_type": "stream",
     "text": [
      "开始处理论文 https://openalex.org/W2982655249，总被引: 2，预计页数: 1\n"
     ]
    },
    {
     "name": "stderr",
     "output_type": "stream",
     "text": [
      "分页获取: 100%|██████████| 1/1 [00:01<00:00,  1.32s/it]\n",
      "处理种子论文:  46%|████▌     | 851/1849 [10:17:52<6:43:07, 24.24s/it]"
     ]
    },
    {
     "name": "stdout",
     "output_type": "stream",
     "text": [
      "已保存临时结果\n"
     ]
    },
    {
     "name": "stderr",
     "output_type": "stream",
     "text": [
      "处理参考文献 https://openalex.org/W4311057305: 100%|██████████| 25/25 [00:29<00:00,  1.19s/it]\n"
     ]
    },
    {
     "name": "stdout",
     "output_type": "stream",
     "text": [
      "开始处理论文 https://openalex.org/W4311057305，总被引: 1，预计页数: 1\n"
     ]
    },
    {
     "name": "stderr",
     "output_type": "stream",
     "text": [
      "分页获取: 100%|██████████| 1/1 [00:01<00:00,  1.34s/it]\n",
      "处理参考文献 https://openalex.org/W4289869397: 100%|██████████| 1/1 [00:01<00:00,  1.18s/it]\n"
     ]
    },
    {
     "name": "stdout",
     "output_type": "stream",
     "text": [
      "开始处理论文 https://openalex.org/W4289869397，总被引: 1，预计页数: 1\n"
     ]
    },
    {
     "name": "stderr",
     "output_type": "stream",
     "text": [
      "分页获取: 100%|██████████| 1/1 [00:01<00:00,  1.46s/it]\n",
      "处理参考文献 https://openalex.org/W4224014016: 100%|██████████| 11/11 [00:12<00:00,  1.13s/it]\n"
     ]
    },
    {
     "name": "stdout",
     "output_type": "stream",
     "text": [
      "开始处理论文 https://openalex.org/W4224014016，总被引: 2，预计页数: 1\n"
     ]
    },
    {
     "name": "stderr",
     "output_type": "stream",
     "text": [
      "分页获取: 100%|██████████| 1/1 [00:01<00:00,  1.77s/it]\n",
      "处理参考文献 https://openalex.org/W4297790364: 100%|██████████| 3/3 [00:03<00:00,  1.27s/it]\n"
     ]
    },
    {
     "name": "stdout",
     "output_type": "stream",
     "text": [
      "开始处理论文 https://openalex.org/W4297790364，总被引: 3，预计页数: 1\n"
     ]
    },
    {
     "name": "stderr",
     "output_type": "stream",
     "text": [
      "分页获取: 100%|██████████| 1/1 [00:01<00:00,  1.32s/it]\n",
      "处理参考文献 https://openalex.org/W2809303504: 100%|██████████| 19/19 [00:23<00:00,  1.22s/it]\n"
     ]
    },
    {
     "name": "stdout",
     "output_type": "stream",
     "text": [
      "开始处理论文 https://openalex.org/W2809303504，总被引: 1，预计页数: 1\n"
     ]
    },
    {
     "name": "stderr",
     "output_type": "stream",
     "text": [
      "分页获取: 100%|██████████| 1/1 [00:01<00:00,  1.55s/it]\n",
      "处理种子论文:  46%|████▋     | 856/1849 [10:19:17<5:16:12, 19.11s/it]"
     ]
    },
    {
     "name": "stdout",
     "output_type": "stream",
     "text": [
      "已保存临时结果\n"
     ]
    },
    {
     "name": "stderr",
     "output_type": "stream",
     "text": [
      "处理参考文献 https://openalex.org/W4386862768: 100%|██████████| 5/5 [00:08<00:00,  1.79s/it]\n"
     ]
    },
    {
     "name": "stdout",
     "output_type": "stream",
     "text": [
      "开始处理论文 https://openalex.org/W4386862768，总被引: 1，预计页数: 1\n"
     ]
    },
    {
     "name": "stderr",
     "output_type": "stream",
     "text": [
      "分页获取: 100%|██████████| 1/1 [00:01<00:00,  1.41s/it]\n",
      "处理种子论文:  46%|████▋     | 857/1849 [10:19:27<4:32:45, 16.50s/it]"
     ]
    },
    {
     "name": "stdout",
     "output_type": "stream",
     "text": [
      "开始处理论文 https://openalex.org/W4385436823，总被引: 1，预计页数: 1\n"
     ]
    },
    {
     "name": "stderr",
     "output_type": "stream",
     "text": [
      "分页获取: 100%|██████████| 1/1 [00:01<00:00,  1.34s/it]\n",
      "处理种子论文:  46%|████▋     | 858/1849 [10:19:29<3:17:27, 11.96s/it]"
     ]
    },
    {
     "name": "stdout",
     "output_type": "stream",
     "text": [
      "开始处理论文 https://openalex.org/W4388047046，总被引: 1，预计页数: 1\n"
     ]
    },
    {
     "name": "stderr",
     "output_type": "stream",
     "text": [
      "分页获取: 100%|██████████| 1/1 [00:01<00:00,  1.56s/it]\n",
      "处理参考文献 https://openalex.org/W4402865194: 100%|██████████| 87/87 [01:41<00:00,  1.17s/it]\n"
     ]
    },
    {
     "name": "stdout",
     "output_type": "stream",
     "text": [
      "开始处理论文 https://openalex.org/W4402865194，总被引: 1，预计页数: 1\n"
     ]
    },
    {
     "name": "stderr",
     "output_type": "stream",
     "text": [
      "分页获取: 100%|██████████| 1/1 [00:01<00:00,  1.37s/it]\n",
      "处理参考文献 https://openalex.org/W3042634865: 100%|██████████| 3/3 [00:03<00:00,  1.23s/it]\n"
     ]
    },
    {
     "name": "stdout",
     "output_type": "stream",
     "text": [
      "开始处理论文 https://openalex.org/W3042634865，总被引: 1，预计页数: 1\n"
     ]
    },
    {
     "name": "stderr",
     "output_type": "stream",
     "text": [
      "分页获取: 100%|██████████| 1/1 [00:01<00:00,  1.46s/it]\n",
      "处理种子论文:  47%|████▋     | 861/1849 [10:21:24<8:03:07, 29.34s/it] "
     ]
    },
    {
     "name": "stdout",
     "output_type": "stream",
     "text": [
      "已保存临时结果\n"
     ]
    },
    {
     "name": "stderr",
     "output_type": "stream",
     "text": [
      "处理参考文献 https://openalex.org/W3199720002: 100%|██████████| 39/39 [00:46<00:00,  1.20s/it]\n"
     ]
    },
    {
     "name": "stdout",
     "output_type": "stream",
     "text": [
      "开始处理论文 https://openalex.org/W3199720002，总被引: 3，预计页数: 1\n"
     ]
    },
    {
     "name": "stderr",
     "output_type": "stream",
     "text": [
      "分页获取: 100%|██████████| 1/1 [00:01<00:00,  1.33s/it]\n",
      "处理参考文献 https://openalex.org/W4402087274: 100%|██████████| 8/8 [00:09<00:00,  1.20s/it]\n"
     ]
    },
    {
     "name": "stdout",
     "output_type": "stream",
     "text": [
      "开始处理论文 https://openalex.org/W4402087274，总被引: 4，预计页数: 1\n"
     ]
    },
    {
     "name": "stderr",
     "output_type": "stream",
     "text": [
      "分页获取: 100%|██████████| 1/1 [00:01<00:00,  1.49s/it]\n",
      "处理参考文献 https://openalex.org/W4394884046: 100%|██████████| 53/53 [00:57<00:00,  1.08s/it]\n"
     ]
    },
    {
     "name": "stdout",
     "output_type": "stream",
     "text": [
      "开始处理论文 https://openalex.org/W4394884046，总被引: 2，预计页数: 1\n"
     ]
    },
    {
     "name": "stderr",
     "output_type": "stream",
     "text": [
      "分页获取: 100%|██████████| 1/1 [00:01<00:00,  1.45s/it]\n",
      "处理参考文献 https://openalex.org/W4392859876: 100%|██████████| 1/1 [00:01<00:00,  1.16s/it]\n"
     ]
    },
    {
     "name": "stdout",
     "output_type": "stream",
     "text": [
      "开始处理论文 https://openalex.org/W4392859876，总被引: 1，预计页数: 1\n"
     ]
    },
    {
     "name": "stderr",
     "output_type": "stream",
     "text": [
      "分页获取: 100%|██████████| 1/1 [00:01<00:00,  1.38s/it]\n",
      "处理参考文献 https://openalex.org/W4390540249: 100%|██████████| 29/29 [00:33<00:00,  1.15s/it]\n"
     ]
    },
    {
     "name": "stdout",
     "output_type": "stream",
     "text": [
      "开始处理论文 https://openalex.org/W4390540249，总被引: 3，预计页数: 1\n"
     ]
    },
    {
     "name": "stderr",
     "output_type": "stream",
     "text": [
      "分页获取: 100%|██████████| 1/1 [00:01<00:00,  1.50s/it]\n",
      "处理种子论文:  47%|████▋     | 866/1849 [10:24:06<8:29:43, 31.11s/it]"
     ]
    },
    {
     "name": "stdout",
     "output_type": "stream",
     "text": [
      "已保存临时结果\n"
     ]
    },
    {
     "name": "stderr",
     "output_type": "stream",
     "text": [
      "处理参考文献 https://openalex.org/W4401587250: 100%|██████████| 68/68 [01:12<00:00,  1.07s/it]\n"
     ]
    },
    {
     "name": "stdout",
     "output_type": "stream",
     "text": [
      "开始处理论文 https://openalex.org/W4401587250，总被引: 2，预计页数: 1\n"
     ]
    },
    {
     "name": "stderr",
     "output_type": "stream",
     "text": [
      "分页获取: 100%|██████████| 1/1 [00:01<00:00,  1.97s/it]\n",
      "处理参考文献 https://openalex.org/W4388263175: 100%|██████████| 40/40 [00:47<00:00,  1.18s/it]\n"
     ]
    },
    {
     "name": "stdout",
     "output_type": "stream",
     "text": [
      "开始处理论文 https://openalex.org/W4388263175，总被引: 2，预计页数: 1\n"
     ]
    },
    {
     "name": "stderr",
     "output_type": "stream",
     "text": [
      "分页获取: 100%|██████████| 1/1 [00:01<00:00,  1.37s/it]\n",
      "处理参考文献 https://openalex.org/W4376487073: 100%|██████████| 14/14 [00:16<00:00,  1.16s/it]\n"
     ]
    },
    {
     "name": "stdout",
     "output_type": "stream",
     "text": [
      "开始处理论文 https://openalex.org/W4376487073，总被引: 1，预计页数: 1\n"
     ]
    },
    {
     "name": "stderr",
     "output_type": "stream",
     "text": [
      "分页获取: 100%|██████████| 1/1 [00:01<00:00,  1.47s/it]\n",
      "处理参考文献 https://openalex.org/W4402607346: 100%|██████████| 11/11 [00:12<00:00,  1.11s/it]\n"
     ]
    },
    {
     "name": "stdout",
     "output_type": "stream",
     "text": [
      "开始处理论文 https://openalex.org/W4402607346，总被引: 1，预计页数: 1\n"
     ]
    },
    {
     "name": "stderr",
     "output_type": "stream",
     "text": [
      "分页获取: 100%|██████████| 1/1 [00:01<00:00,  1.49s/it]\n",
      "处理种子论文:  47%|████▋     | 870/1849 [10:26:41<8:11:55, 30.15s/it] "
     ]
    },
    {
     "name": "stdout",
     "output_type": "stream",
     "text": [
      "开始处理论文 https://openalex.org/W4401784510，总被引: 1，预计页数: 1\n"
     ]
    },
    {
     "name": "stderr",
     "output_type": "stream",
     "text": [
      "分页获取: 100%|██████████| 1/1 [00:01<00:00,  1.35s/it]\n",
      "处理种子论文:  47%|████▋     | 871/1849 [10:26:49<6:21:24, 23.40s/it]"
     ]
    },
    {
     "name": "stdout",
     "output_type": "stream",
     "text": [
      "已保存临时结果\n",
      "开始处理论文 https://openalex.org/W4245059039，总被引: 2，预计页数: 1\n"
     ]
    },
    {
     "name": "stderr",
     "output_type": "stream",
     "text": [
      "分页获取: 100%|██████████| 1/1 [00:01<00:00,  1.37s/it]\n",
      "处理参考文献 https://openalex.org/W3201689101: 100%|██████████| 119/119 [02:28<00:00,  1.25s/it]\n"
     ]
    },
    {
     "name": "stdout",
     "output_type": "stream",
     "text": [
      "开始处理论文 https://openalex.org/W3201689101，总被引: 2，预计页数: 1\n"
     ]
    },
    {
     "name": "stderr",
     "output_type": "stream",
     "text": [
      "分页获取: 100%|██████████| 1/1 [00:01<00:00,  1.36s/it]\n",
      "处理种子论文:  47%|████▋     | 873/1849 [10:29:20<15:21:37, 56.66s/it]"
     ]
    },
    {
     "name": "stdout",
     "output_type": "stream",
     "text": [
      "开始处理论文 https://openalex.org/W4399500601，总被引: 1，预计页数: 1\n"
     ]
    },
    {
     "name": "stderr",
     "output_type": "stream",
     "text": [
      "分页获取: 100%|██████████| 1/1 [00:01<00:00,  1.37s/it]\n",
      "处理参考文献 https://openalex.org/W4385559893: 100%|██████████| 12/12 [00:13<00:00,  1.16s/it]\n"
     ]
    },
    {
     "name": "stdout",
     "output_type": "stream",
     "text": [
      "开始处理论文 https://openalex.org/W4385559893，总被引: 2，预计页数: 1\n"
     ]
    },
    {
     "name": "stderr",
     "output_type": "stream",
     "text": [
      "分页获取: 100%|██████████| 1/1 [00:01<00:00,  1.38s/it]\n",
      "处理参考文献 https://openalex.org/W4390724207: 100%|██████████| 11/11 [00:13<00:00,  1.24s/it]\n"
     ]
    },
    {
     "name": "stdout",
     "output_type": "stream",
     "text": [
      "开始处理论文 https://openalex.org/W4390724207，总被引: 2，预计页数: 1\n"
     ]
    },
    {
     "name": "stderr",
     "output_type": "stream",
     "text": [
      "分页获取: 100%|██████████| 1/1 [00:01<00:00,  1.38s/it]\n",
      "处理种子论文:  47%|████▋     | 876/1849 [10:29:58<7:54:27, 29.26s/it]"
     ]
    },
    {
     "name": "stdout",
     "output_type": "stream",
     "text": [
      "已保存临时结果\n"
     ]
    },
    {
     "name": "stderr",
     "output_type": "stream",
     "text": [
      "处理参考文献 https://openalex.org/W3092023210: 100%|██████████| 19/19 [00:22<00:00,  1.20s/it]\n"
     ]
    },
    {
     "name": "stdout",
     "output_type": "stream",
     "text": [
      "开始处理论文 https://openalex.org/W3092023210，总被引: 1，预计页数: 1\n"
     ]
    },
    {
     "name": "stderr",
     "output_type": "stream",
     "text": [
      "分页获取: 100%|██████████| 1/1 [00:02<00:00,  2.00s/it]\n",
      "处理种子论文:  47%|████▋     | 877/1849 [10:30:23<7:32:41, 27.94s/it]"
     ]
    },
    {
     "name": "stdout",
     "output_type": "stream",
     "text": [
      "开始处理论文 https://openalex.org/W4220836902，总被引: 1，预计页数: 1\n"
     ]
    },
    {
     "name": "stderr",
     "output_type": "stream",
     "text": [
      "分页获取: 100%|██████████| 1/1 [00:01<00:00,  1.37s/it]\n",
      "处理参考文献 https://openalex.org/W4397032731: 100%|██████████| 6/6 [00:07<00:00,  1.28s/it]\n"
     ]
    },
    {
     "name": "stdout",
     "output_type": "stream",
     "text": [
      "开始处理论文 https://openalex.org/W4397032731，总被引: 1，预计页数: 1\n"
     ]
    },
    {
     "name": "stderr",
     "output_type": "stream",
     "text": [
      "分页获取: 100%|██████████| 1/1 [00:01<00:00,  1.38s/it]\n",
      "处理参考文献 https://openalex.org/W4406103404: 100%|██████████| 45/45 [00:55<00:00,  1.23s/it]\n"
     ]
    },
    {
     "name": "stdout",
     "output_type": "stream",
     "text": [
      "开始处理论文 https://openalex.org/W4406103404，总被引: 1，预计页数: 1\n"
     ]
    },
    {
     "name": "stderr",
     "output_type": "stream",
     "text": [
      "分页获取: 100%|██████████| 1/1 [00:01<00:00,  1.40s/it]\n",
      "处理参考文献 https://openalex.org/W4391171420: 100%|██████████| 33/33 [00:36<00:00,  1.11s/it]\n"
     ]
    },
    {
     "name": "stdout",
     "output_type": "stream",
     "text": [
      "开始处理论文 https://openalex.org/W4391171420，总被引: 3，预计页数: 1\n"
     ]
    },
    {
     "name": "stderr",
     "output_type": "stream",
     "text": [
      "分页获取: 100%|██████████| 1/1 [00:01<00:00,  1.52s/it]\n",
      "处理种子论文:  48%|████▊     | 881/1849 [10:32:14<8:59:23, 33.43s/it]"
     ]
    },
    {
     "name": "stdout",
     "output_type": "stream",
     "text": [
      "已保存临时结果\n"
     ]
    },
    {
     "name": "stderr",
     "output_type": "stream",
     "text": [
      "处理参考文献 https://openalex.org/W2108663150: 100%|██████████| 25/25 [00:28<00:00,  1.14s/it]\n"
     ]
    },
    {
     "name": "stdout",
     "output_type": "stream",
     "text": [
      "开始处理论文 https://openalex.org/W2108663150，总被引: 2，预计页数: 1\n"
     ]
    },
    {
     "name": "stderr",
     "output_type": "stream",
     "text": [
      "分页获取: 100%|██████████| 1/1 [00:01<00:00,  1.47s/it]\n",
      "处理种子论文:  48%|████▊     | 882/1849 [10:32:44<8:42:28, 32.42s/it]"
     ]
    },
    {
     "name": "stdout",
     "output_type": "stream",
     "text": [
      "开始处理论文 https://openalex.org/W4396584317，总被引: 2，预计页数: 1\n"
     ]
    },
    {
     "name": "stderr",
     "output_type": "stream",
     "text": [
      "分页获取: 100%|██████████| 1/1 [00:01<00:00,  1.41s/it]\n",
      "处理参考文献 https://openalex.org/W4396981543: 100%|██████████| 50/50 [00:58<00:00,  1.17s/it]\n"
     ]
    },
    {
     "name": "stdout",
     "output_type": "stream",
     "text": [
      "开始处理论文 https://openalex.org/W4396981543，总被引: 2，预计页数: 1\n"
     ]
    },
    {
     "name": "stderr",
     "output_type": "stream",
     "text": [
      "分页获取: 100%|██████████| 1/1 [00:01<00:00,  1.39s/it]\n",
      "处理参考文献 https://openalex.org/W3143333720: 100%|██████████| 19/19 [00:22<00:00,  1.16s/it]\n"
     ]
    },
    {
     "name": "stdout",
     "output_type": "stream",
     "text": [
      "开始处理论文 https://openalex.org/W3143333720，总被引: 1，预计页数: 1\n"
     ]
    },
    {
     "name": "stderr",
     "output_type": "stream",
     "text": [
      "分页获取: 100%|██████████| 1/1 [00:01<00:00,  1.35s/it]\n",
      "处理参考文献 https://openalex.org/W4285215505: 100%|██████████| 2/2 [00:02<00:00,  1.16s/it]\n"
     ]
    },
    {
     "name": "stdout",
     "output_type": "stream",
     "text": [
      "开始处理论文 https://openalex.org/W4285215505，总被引: 2，预计页数: 1\n"
     ]
    },
    {
     "name": "stderr",
     "output_type": "stream",
     "text": [
      "分页获取: 100%|██████████| 1/1 [00:01<00:00,  1.39s/it]\n",
      "处理种子论文:  48%|████▊     | 886/1849 [10:34:19<6:36:04, 24.68s/it]"
     ]
    },
    {
     "name": "stdout",
     "output_type": "stream",
     "text": [
      "已保存临时结果\n"
     ]
    },
    {
     "name": "stderr",
     "output_type": "stream",
     "text": [
      "处理参考文献 https://openalex.org/W4388498955: 100%|██████████| 15/15 [00:17<00:00,  1.15s/it]\n"
     ]
    },
    {
     "name": "stdout",
     "output_type": "stream",
     "text": [
      "开始处理论文 https://openalex.org/W4388498955，总被引: 1，预计页数: 1\n"
     ]
    },
    {
     "name": "stderr",
     "output_type": "stream",
     "text": [
      "分页获取: 100%|██████████| 1/1 [00:01<00:00,  1.35s/it]\n",
      "处理参考文献 https://openalex.org/W4387020982: 100%|██████████| 27/27 [00:31<00:00,  1.15s/it]\n"
     ]
    },
    {
     "name": "stdout",
     "output_type": "stream",
     "text": [
      "开始处理论文 https://openalex.org/W4387020982，总被引: 2，预计页数: 1\n"
     ]
    },
    {
     "name": "stderr",
     "output_type": "stream",
     "text": [
      "分页获取: 100%|██████████| 1/1 [00:01<00:00,  1.40s/it]\n",
      "处理参考文献 https://openalex.org/W4390563981: 100%|██████████| 1/1 [00:01<00:00,  1.20s/it]\n"
     ]
    },
    {
     "name": "stdout",
     "output_type": "stream",
     "text": [
      "开始处理论文 https://openalex.org/W4390563981，总被引: 1，预计页数: 1\n"
     ]
    },
    {
     "name": "stderr",
     "output_type": "stream",
     "text": [
      "分页获取: 100%|██████████| 1/1 [00:01<00:00,  1.44s/it]\n",
      "处理参考文献 https://openalex.org/W4285222712: 100%|██████████| 3/3 [00:03<00:00,  1.09s/it]\n"
     ]
    },
    {
     "name": "stdout",
     "output_type": "stream",
     "text": [
      "开始处理论文 https://openalex.org/W4285222712，总被引: 1，预计页数: 1\n"
     ]
    },
    {
     "name": "stderr",
     "output_type": "stream",
     "text": [
      "分页获取: 100%|██████████| 1/1 [00:01<00:00,  1.33s/it]\n",
      "处理参考文献 https://openalex.org/W4295798796: 100%|██████████| 3/3 [00:03<00:00,  1.18s/it]\n"
     ]
    },
    {
     "name": "stdout",
     "output_type": "stream",
     "text": [
      "开始处理论文 https://openalex.org/W4295798796，总被引: 1，预计页数: 1\n"
     ]
    },
    {
     "name": "stderr",
     "output_type": "stream",
     "text": [
      "分页获取: 100%|██████████| 1/1 [00:01<00:00,  1.55s/it]\n",
      "处理种子论文:  48%|████▊     | 891/1849 [10:35:29<3:37:41, 13.63s/it]"
     ]
    },
    {
     "name": "stdout",
     "output_type": "stream",
     "text": [
      "已保存临时结果\n"
     ]
    },
    {
     "name": "stderr",
     "output_type": "stream",
     "text": [
      "处理参考文献 https://openalex.org/W4312351598: 100%|██████████| 54/54 [01:04<00:00,  1.20s/it]\n"
     ]
    },
    {
     "name": "stdout",
     "output_type": "stream",
     "text": [
      "开始处理论文 https://openalex.org/W4312351598，总被引: 1，预计页数: 1\n"
     ]
    },
    {
     "name": "stderr",
     "output_type": "stream",
     "text": [
      "分页获取: 100%|██████████| 1/1 [00:01<00:00,  1.39s/it]\n",
      "处理参考文献 https://openalex.org/W4225102715: 100%|██████████| 3/3 [00:03<00:00,  1.21s/it]\n"
     ]
    },
    {
     "name": "stdout",
     "output_type": "stream",
     "text": [
      "开始处理论文 https://openalex.org/W4225102715，总被引: 1，预计页数: 1\n"
     ]
    },
    {
     "name": "stderr",
     "output_type": "stream",
     "text": [
      "分页获取: 100%|██████████| 1/1 [00:01<00:00,  1.42s/it]\n",
      "处理参考文献 https://openalex.org/W3094163554: 100%|██████████| 41/41 [00:56<00:00,  1.37s/it]\n"
     ]
    },
    {
     "name": "stdout",
     "output_type": "stream",
     "text": [
      "开始处理论文 https://openalex.org/W3094163554，总被引: 1，预计页数: 1\n"
     ]
    },
    {
     "name": "stderr",
     "output_type": "stream",
     "text": [
      "分页获取: 100%|██████████| 1/1 [00:01<00:00,  1.46s/it]\n",
      "处理参考文献 https://openalex.org/W4297833994: 100%|██████████| 1/1 [00:01<00:00,  1.16s/it]\n"
     ]
    },
    {
     "name": "stdout",
     "output_type": "stream",
     "text": [
      "开始处理论文 https://openalex.org/W4297833994，总被引: 1，预计页数: 1\n"
     ]
    },
    {
     "name": "stderr",
     "output_type": "stream",
     "text": [
      "分页获取: 100%|██████████| 1/1 [00:01<00:00,  1.34s/it]\n",
      "处理参考文献 https://openalex.org/W4402203239: 100%|██████████| 89/89 [01:43<00:00,  1.17s/it]\n"
     ]
    },
    {
     "name": "stdout",
     "output_type": "stream",
     "text": [
      "开始处理论文 https://openalex.org/W4402203239，总被引: 3，预计页数: 1\n"
     ]
    },
    {
     "name": "stderr",
     "output_type": "stream",
     "text": [
      "分页获取: 100%|██████████| 1/1 [00:01<00:00,  1.39s/it]\n",
      "处理种子论文:  48%|████▊     | 896/1849 [10:39:32<13:15:56, 50.11s/it]"
     ]
    },
    {
     "name": "stdout",
     "output_type": "stream",
     "text": [
      "已保存临时结果\n"
     ]
    },
    {
     "name": "stderr",
     "output_type": "stream",
     "text": [
      "处理参考文献 https://openalex.org/W3109326087: 100%|██████████| 3/3 [00:03<00:00,  1.13s/it]\n"
     ]
    },
    {
     "name": "stdout",
     "output_type": "stream",
     "text": [
      "开始处理论文 https://openalex.org/W3109326087，总被引: 35，预计页数: 1\n"
     ]
    },
    {
     "name": "stderr",
     "output_type": "stream",
     "text": [
      "分页获取: 100%|██████████| 1/1 [00:02<00:00,  2.32s/it]\n",
      "处理参考文献 https://openalex.org/W4400699698: 100%|██████████| 19/19 [00:22<00:00,  1.19s/it]\n"
     ]
    },
    {
     "name": "stdout",
     "output_type": "stream",
     "text": [
      "开始处理论文 https://openalex.org/W4400699698，总被引: 3，预计页数: 1\n"
     ]
    },
    {
     "name": "stderr",
     "output_type": "stream",
     "text": [
      "分页获取: 100%|██████████| 1/1 [00:01<00:00,  1.44s/it]\n",
      "处理种子论文:  49%|████▊     | 898/1849 [10:40:02<8:42:55, 32.99s/it]"
     ]
    },
    {
     "name": "stdout",
     "output_type": "stream",
     "text": [
      "开始处理论文 https://openalex.org/W3152824158，总被引: 1，预计页数: 1\n"
     ]
    },
    {
     "name": "stderr",
     "output_type": "stream",
     "text": [
      "分页获取: 100%|██████████| 1/1 [00:01<00:00,  1.63s/it]\n",
      "处理参考文献 https://openalex.org/W4386781130: 100%|██████████| 13/13 [00:19<00:00,  1.52s/it]\n"
     ]
    },
    {
     "name": "stdout",
     "output_type": "stream",
     "text": [
      "开始处理论文 https://openalex.org/W4386781130，总被引: 2，预计页数: 1\n"
     ]
    },
    {
     "name": "stderr",
     "output_type": "stream",
     "text": [
      "分页获取: 100%|██████████| 1/1 [00:01<00:00,  1.42s/it]\n",
      "处理参考文献 https://openalex.org/W4396782449: 100%|██████████| 41/41 [00:48<00:00,  1.19s/it]\n"
     ]
    },
    {
     "name": "stdout",
     "output_type": "stream",
     "text": [
      "开始处理论文 https://openalex.org/W4396782449，总被引: 1，预计页数: 1\n"
     ]
    },
    {
     "name": "stderr",
     "output_type": "stream",
     "text": [
      "分页获取: 100%|██████████| 1/1 [00:01<00:00,  1.42s/it]\n",
      "处理种子论文:  49%|████▊     | 901/1849 [10:41:21<8:40:50, 32.96s/it]"
     ]
    },
    {
     "name": "stdout",
     "output_type": "stream",
     "text": [
      "已保存临时结果\n"
     ]
    },
    {
     "name": "stderr",
     "output_type": "stream",
     "text": [
      "处理参考文献 https://openalex.org/W4245275987: 100%|██████████| 9/9 [00:11<00:00,  1.23s/it]\n"
     ]
    },
    {
     "name": "stdout",
     "output_type": "stream",
     "text": [
      "开始处理论文 https://openalex.org/W4245275987，总被引: 1，预计页数: 1\n"
     ]
    },
    {
     "name": "stderr",
     "output_type": "stream",
     "text": [
      "分页获取: 100%|██████████| 1/1 [00:01<00:00,  1.36s/it]\n",
      "处理参考文献 https://openalex.org/W4390240163: 100%|██████████| 72/72 [01:25<00:00,  1.19s/it]\n"
     ]
    },
    {
     "name": "stdout",
     "output_type": "stream",
     "text": [
      "开始处理论文 https://openalex.org/W4390240163，总被引: 2，预计页数: 1\n"
     ]
    },
    {
     "name": "stderr",
     "output_type": "stream",
     "text": [
      "分页获取: 100%|██████████| 1/1 [00:01<00:00,  1.40s/it]\n",
      "处理参考文献 https://openalex.org/W4399715882: 100%|██████████| 24/24 [00:26<00:00,  1.11s/it]\n"
     ]
    },
    {
     "name": "stdout",
     "output_type": "stream",
     "text": [
      "开始处理论文 https://openalex.org/W4399715882，总被引: 2，预计页数: 1\n"
     ]
    },
    {
     "name": "stderr",
     "output_type": "stream",
     "text": [
      "分页获取: 100%|██████████| 1/1 [00:01<00:00,  1.43s/it]\n",
      "处理参考文献 https://openalex.org/W3035084161: 100%|██████████| 3/3 [00:03<00:00,  1.25s/it]\n"
     ]
    },
    {
     "name": "stdout",
     "output_type": "stream",
     "text": [
      "开始处理论文 https://openalex.org/W3035084161，总被引: 13，预计页数: 1\n"
     ]
    },
    {
     "name": "stderr",
     "output_type": "stream",
     "text": [
      "分页获取: 100%|██████████| 1/1 [00:02<00:00,  2.06s/it]\n",
      "处理种子论文:  49%|████▉     | 905/1849 [10:43:35<7:46:20, 29.64s/it] "
     ]
    },
    {
     "name": "stdout",
     "output_type": "stream",
     "text": [
      "开始处理论文 https://openalex.org/W4401201158，总被引: 2，预计页数: 1\n"
     ]
    },
    {
     "name": "stderr",
     "output_type": "stream",
     "text": [
      "分页获取: 100%|██████████| 1/1 [00:01<00:00,  1.67s/it]\n",
      "处理种子论文:  49%|████▉     | 906/1849 [10:43:43<6:04:13, 23.17s/it]"
     ]
    },
    {
     "name": "stdout",
     "output_type": "stream",
     "text": [
      "已保存临时结果\n",
      "开始处理论文 https://openalex.org/W4404579002，总被引: 1，预计页数: 1\n"
     ]
    },
    {
     "name": "stderr",
     "output_type": "stream",
     "text": [
      "分页获取: 100%|██████████| 1/1 [00:01<00:00,  1.32s/it]\n",
      "处理参考文献 https://openalex.org/W3012538234: 100%|██████████| 11/11 [00:12<00:00,  1.15s/it]\n"
     ]
    },
    {
     "name": "stdout",
     "output_type": "stream",
     "text": [
      "开始处理论文 https://openalex.org/W3012538234，总被引: 62，预计页数: 1\n"
     ]
    },
    {
     "name": "stderr",
     "output_type": "stream",
     "text": [
      "分页获取: 100%|██████████| 1/1 [00:03<00:00,  3.12s/it]\n",
      "处理参考文献 https://openalex.org/W4392648055: 100%|██████████| 4/4 [00:04<00:00,  1.04s/it]\n"
     ]
    },
    {
     "name": "stdout",
     "output_type": "stream",
     "text": [
      "开始处理论文 https://openalex.org/W4392648055，总被引: 3，预计页数: 1\n"
     ]
    },
    {
     "name": "stderr",
     "output_type": "stream",
     "text": [
      "分页获取: 100%|██████████| 1/1 [00:01<00:00,  1.41s/it]\n",
      "处理参考文献 https://openalex.org/W4393933212: 100%|██████████| 24/24 [00:27<00:00,  1.17s/it]\n"
     ]
    },
    {
     "name": "stdout",
     "output_type": "stream",
     "text": [
      "开始处理论文 https://openalex.org/W4393933212，总被引: 1，预计页数: 1\n"
     ]
    },
    {
     "name": "stderr",
     "output_type": "stream",
     "text": [
      "分页获取: 100%|██████████| 1/1 [00:01<00:00,  1.39s/it]\n",
      "处理参考文献 https://openalex.org/W4310893882: 100%|██████████| 16/16 [00:20<00:00,  1.26s/it]\n"
     ]
    },
    {
     "name": "stdout",
     "output_type": "stream",
     "text": [
      "开始处理论文 https://openalex.org/W4310893882，总被引: 1，预计页数: 1\n"
     ]
    },
    {
     "name": "stderr",
     "output_type": "stream",
     "text": [
      "分页获取: 100%|██████████| 1/1 [00:01<00:00,  1.48s/it]\n",
      "处理种子论文:  49%|████▉     | 911/1849 [10:45:03<5:29:06, 21.05s/it]"
     ]
    },
    {
     "name": "stdout",
     "output_type": "stream",
     "text": [
      "已保存临时结果\n"
     ]
    },
    {
     "name": "stderr",
     "output_type": "stream",
     "text": [
      "处理参考文献 https://openalex.org/W4379164807: 100%|██████████| 4/4 [00:06<00:00,  1.64s/it]\n"
     ]
    },
    {
     "name": "stdout",
     "output_type": "stream",
     "text": [
      "开始处理论文 https://openalex.org/W4379164807，总被引: 1，预计页数: 1\n"
     ]
    },
    {
     "name": "stderr",
     "output_type": "stream",
     "text": [
      "分页获取: 100%|██████████| 1/1 [00:01<00:00,  1.37s/it]\n",
      "处理参考文献 https://openalex.org/W4400958838: 100%|██████████| 60/60 [01:08<00:00,  1.15s/it]\n"
     ]
    },
    {
     "name": "stdout",
     "output_type": "stream",
     "text": [
      "开始处理论文 https://openalex.org/W4400958838，总被引: 1，预计页数: 1\n"
     ]
    },
    {
     "name": "stderr",
     "output_type": "stream",
     "text": [
      "分页获取: 100%|██████████| 1/1 [00:01<00:00,  1.40s/it]\n",
      "处理参考文献 https://openalex.org/W4376862553: 100%|██████████| 9/9 [00:09<00:00,  1.07s/it]\n"
     ]
    },
    {
     "name": "stdout",
     "output_type": "stream",
     "text": [
      "开始处理论文 https://openalex.org/W4376862553，总被引: 1，预计页数: 1\n"
     ]
    },
    {
     "name": "stderr",
     "output_type": "stream",
     "text": [
      "分页获取: 100%|██████████| 1/1 [00:01<00:00,  1.37s/it]\n",
      "处理参考文献 https://openalex.org/W4205190529: 100%|██████████| 4/4 [00:04<00:00,  1.13s/it]\n"
     ]
    },
    {
     "name": "stdout",
     "output_type": "stream",
     "text": [
      "开始处理论文 https://openalex.org/W4205190529，总被引: 1，预计页数: 1\n"
     ]
    },
    {
     "name": "stderr",
     "output_type": "stream",
     "text": [
      "分页获取: 100%|██████████| 1/1 [00:03<00:00,  3.16s/it]\n",
      "处理种子论文:  49%|████▉     | 915/1849 [10:46:40<5:24:14, 20.83s/it]"
     ]
    },
    {
     "name": "stdout",
     "output_type": "stream",
     "text": [
      "开始处理论文 https://openalex.org/W4316652325，总被引: 4，预计页数: 1\n"
     ]
    },
    {
     "name": "stderr",
     "output_type": "stream",
     "text": [
      "分页获取: 100%|██████████| 1/1 [00:01<00:00,  1.43s/it]\n",
      "处理种子论文:  50%|████▉     | 916/1849 [10:46:48<4:22:58, 16.91s/it]"
     ]
    },
    {
     "name": "stdout",
     "output_type": "stream",
     "text": [
      "已保存临时结果\n"
     ]
    },
    {
     "name": "stderr",
     "output_type": "stream",
     "text": [
      "处理参考文献 https://openalex.org/W4404279884: 100%|██████████| 48/48 [00:56<00:00,  1.18s/it]\n"
     ]
    },
    {
     "name": "stdout",
     "output_type": "stream",
     "text": [
      "开始处理论文 https://openalex.org/W4404279884，总被引: 1，预计页数: 1\n"
     ]
    },
    {
     "name": "stderr",
     "output_type": "stream",
     "text": [
      "分页获取: 100%|██████████| 1/1 [00:01<00:00,  1.37s/it]\n",
      "处理参考文献 https://openalex.org/W3127437874: 100%|██████████| 4/4 [00:04<00:00,  1.05s/it]\n"
     ]
    },
    {
     "name": "stdout",
     "output_type": "stream",
     "text": [
      "开始处理论文 https://openalex.org/W3127437874，总被引: 2，预计页数: 1\n"
     ]
    },
    {
     "name": "stderr",
     "output_type": "stream",
     "text": [
      "分页获取: 100%|██████████| 1/1 [00:01<00:00,  1.44s/it]\n",
      "处理种子论文:  50%|████▉     | 918/1849 [10:47:51<5:43:39, 22.15s/it]"
     ]
    },
    {
     "name": "stdout",
     "output_type": "stream",
     "text": [
      "开始处理论文 https://openalex.org/W4391051654，总被引: 1，预计页数: 1\n"
     ]
    },
    {
     "name": "stderr",
     "output_type": "stream",
     "text": [
      "分页获取: 100%|██████████| 1/1 [00:01<00:00,  1.36s/it]\n",
      "处理参考文献 https://openalex.org/W4375830728: 100%|██████████| 29/29 [00:36<00:00,  1.27s/it]\n"
     ]
    },
    {
     "name": "stdout",
     "output_type": "stream",
     "text": [
      "开始处理论文 https://openalex.org/W4375830728，总被引: 2，预计页数: 1\n"
     ]
    },
    {
     "name": "stderr",
     "output_type": "stream",
     "text": [
      "分页获取: 100%|██████████| 1/1 [00:01<00:00,  1.35s/it]\n",
      "处理参考文献 https://openalex.org/W4391042079: 100%|██████████| 94/94 [01:53<00:00,  1.20s/it]\n"
     ]
    },
    {
     "name": "stdout",
     "output_type": "stream",
     "text": [
      "开始处理论文 https://openalex.org/W4391042079，总被引: 16，预计页数: 1\n"
     ]
    },
    {
     "name": "stderr",
     "output_type": "stream",
     "text": [
      "分页获取: 100%|██████████| 1/1 [00:02<00:00,  2.21s/it]\n"
     ]
    },
    {
     "name": "stdout",
     "output_type": "stream",
     "text": [
      "警告: 论文 https://openalex.org/W4391042079 应获取 16 条，实际获取 19 条\n"
     ]
    },
    {
     "name": "stderr",
     "output_type": "stream",
     "text": [
      "处理种子论文:  50%|████▉     | 921/1849 [10:50:33<13:30:12, 52.38s/it]"
     ]
    },
    {
     "name": "stdout",
     "output_type": "stream",
     "text": [
      "已保存临时结果\n",
      "开始处理论文 https://openalex.org/W4399261940，总被引: 2，预计页数: 1\n"
     ]
    },
    {
     "name": "stderr",
     "output_type": "stream",
     "text": [
      "分页获取: 100%|██████████| 1/1 [00:01<00:00,  1.38s/it]\n",
      "处理参考文献 https://openalex.org/W4396890706: 100%|██████████| 3/3 [00:03<00:00,  1.18s/it]\n"
     ]
    },
    {
     "name": "stdout",
     "output_type": "stream",
     "text": [
      "开始处理论文 https://openalex.org/W4396890706，总被引: 1，预计页数: 1\n"
     ]
    },
    {
     "name": "stderr",
     "output_type": "stream",
     "text": [
      "分页获取: 100%|██████████| 1/1 [00:01<00:00,  1.32s/it]\n",
      "处理参考文献 https://openalex.org/W4386103220: 100%|██████████| 3/3 [00:03<00:00,  1.30s/it]\n"
     ]
    },
    {
     "name": "stdout",
     "output_type": "stream",
     "text": [
      "开始处理论文 https://openalex.org/W4386103220，总被引: 1，预计页数: 1\n"
     ]
    },
    {
     "name": "stderr",
     "output_type": "stream",
     "text": [
      "分页获取: 100%|██████████| 1/1 [00:01<00:00,  1.36s/it]\n",
      "处理参考文献 https://openalex.org/W4384469429: 100%|██████████| 5/5 [00:05<00:00,  1.09s/it]\n"
     ]
    },
    {
     "name": "stdout",
     "output_type": "stream",
     "text": [
      "开始处理论文 https://openalex.org/W4384469429，总被引: 1，预计页数: 1\n"
     ]
    },
    {
     "name": "stderr",
     "output_type": "stream",
     "text": [
      "分页获取: 100%|██████████| 1/1 [00:03<00:00,  3.14s/it]\n",
      "处理参考文献 https://openalex.org/W3101894506: 100%|██████████| 14/14 [00:16<00:00,  1.18s/it]\n"
     ]
    },
    {
     "name": "stdout",
     "output_type": "stream",
     "text": [
      "开始处理论文 https://openalex.org/W3101894506，总被引: 1，预计页数: 1\n"
     ]
    },
    {
     "name": "stderr",
     "output_type": "stream",
     "text": [
      "分页获取: 100%|██████████| 1/1 [00:01<00:00,  1.35s/it]\n",
      "处理种子论文:  50%|█████     | 926/1849 [10:51:17<4:56:58, 19.30s/it]"
     ]
    },
    {
     "name": "stdout",
     "output_type": "stream",
     "text": [
      "已保存临时结果\n"
     ]
    },
    {
     "name": "stderr",
     "output_type": "stream",
     "text": [
      "处理参考文献 https://openalex.org/W4383746889: 100%|██████████| 16/16 [00:18<00:00,  1.14s/it]\n"
     ]
    },
    {
     "name": "stdout",
     "output_type": "stream",
     "text": [
      "开始处理论文 https://openalex.org/W4383746889，总被引: 1，预计页数: 1\n"
     ]
    },
    {
     "name": "stderr",
     "output_type": "stream",
     "text": [
      "分页获取: 100%|██████████| 1/1 [00:01<00:00,  1.48s/it]\n",
      "处理种子论文:  50%|█████     | 927/1849 [10:51:37<4:58:32, 19.43s/it]"
     ]
    },
    {
     "name": "stdout",
     "output_type": "stream",
     "text": [
      "开始处理论文 https://openalex.org/W4403862718，总被引: 1，预计页数: 1\n"
     ]
    },
    {
     "name": "stderr",
     "output_type": "stream",
     "text": [
      "分页获取: 100%|██████████| 1/1 [00:01<00:00,  1.93s/it]\n",
      "处理参考文献 https://openalex.org/W3200986727: 100%|██████████| 9/9 [00:10<00:00,  1.14s/it]\n"
     ]
    },
    {
     "name": "stdout",
     "output_type": "stream",
     "text": [
      "开始处理论文 https://openalex.org/W3200986727，总被引: 1，预计页数: 1\n"
     ]
    },
    {
     "name": "stderr",
     "output_type": "stream",
     "text": [
      "分页获取: 100%|██████████| 1/1 [00:01<00:00,  1.54s/it]\n",
      "处理参考文献 https://openalex.org/W4361222370: 100%|██████████| 37/37 [00:44<00:00,  1.20s/it]\n"
     ]
    },
    {
     "name": "stdout",
     "output_type": "stream",
     "text": [
      "开始处理论文 https://openalex.org/W4361222370，总被引: 1，预计页数: 1\n"
     ]
    },
    {
     "name": "stderr",
     "output_type": "stream",
     "text": [
      "分页获取: 100%|██████████| 1/1 [00:01<00:00,  1.38s/it]\n",
      "处理参考文献 https://openalex.org/W4399264090: 100%|██████████| 8/8 [00:08<00:00,  1.12s/it]\n"
     ]
    },
    {
     "name": "stdout",
     "output_type": "stream",
     "text": [
      "开始处理论文 https://openalex.org/W4399264090，总被引: 1，预计页数: 1\n"
     ]
    },
    {
     "name": "stderr",
     "output_type": "stream",
     "text": [
      "分页获取: 100%|██████████| 1/1 [00:01<00:00,  1.36s/it]\n",
      "处理种子论文:  50%|█████     | 931/1849 [10:52:53<5:24:31, 21.21s/it]"
     ]
    },
    {
     "name": "stdout",
     "output_type": "stream",
     "text": [
      "已保存临时结果\n"
     ]
    },
    {
     "name": "stderr",
     "output_type": "stream",
     "text": [
      "处理参考文献 https://openalex.org/W4221134366: 100%|██████████| 35/35 [00:44<00:00,  1.26s/it]\n"
     ]
    },
    {
     "name": "stdout",
     "output_type": "stream",
     "text": [
      "开始处理论文 https://openalex.org/W4221134366，总被引: 2，预计页数: 1\n"
     ]
    },
    {
     "name": "stderr",
     "output_type": "stream",
     "text": [
      "分页获取: 100%|██████████| 1/1 [00:01<00:00,  1.37s/it]\n",
      "处理参考文献 https://openalex.org/W4401964015: 100%|██████████| 23/23 [00:26<00:00,  1.16s/it]\n"
     ]
    },
    {
     "name": "stdout",
     "output_type": "stream",
     "text": [
      "开始处理论文 https://openalex.org/W4401964015，总被引: 1，预计页数: 1\n"
     ]
    },
    {
     "name": "stderr",
     "output_type": "stream",
     "text": [
      "分页获取: 100%|██████████| 1/1 [00:01<00:00,  1.44s/it]\n",
      "处理参考文献 https://openalex.org/W4392590651: 100%|██████████| 31/31 [00:34<00:00,  1.13s/it]\n"
     ]
    },
    {
     "name": "stdout",
     "output_type": "stream",
     "text": [
      "开始处理论文 https://openalex.org/W4392590651，总被引: 3，预计页数: 1\n"
     ]
    },
    {
     "name": "stderr",
     "output_type": "stream",
     "text": [
      "分页获取: 100%|██████████| 1/1 [00:01<00:00,  1.31s/it]\n",
      "处理参考文献 https://openalex.org/W4381735263: 100%|██████████| 36/36 [00:40<00:00,  1.13s/it]\n"
     ]
    },
    {
     "name": "stdout",
     "output_type": "stream",
     "text": [
      "开始处理论文 https://openalex.org/W4381735263，总被引: 1，预计页数: 1\n"
     ]
    },
    {
     "name": "stderr",
     "output_type": "stream",
     "text": [
      "分页获取: 100%|██████████| 1/1 [00:01<00:00,  1.36s/it]\n",
      "处理参考文献 https://openalex.org/W1544438540: 100%|██████████| 64/64 [01:18<00:00,  1.22s/it]\n"
     ]
    },
    {
     "name": "stdout",
     "output_type": "stream",
     "text": [
      "开始处理论文 https://openalex.org/W1544438540，总被引: 72，预计页数: 1\n"
     ]
    },
    {
     "name": "stderr",
     "output_type": "stream",
     "text": [
      "分页获取: 100%|██████████| 1/1 [00:02<00:00,  2.70s/it]\n",
      "处理种子论文:  51%|█████     | 936/1849 [10:56:53<12:42:45, 50.13s/it]"
     ]
    },
    {
     "name": "stdout",
     "output_type": "stream",
     "text": [
      "已保存临时结果\n"
     ]
    },
    {
     "name": "stderr",
     "output_type": "stream",
     "text": [
      "处理参考文献 https://openalex.org/W2965146260: 100%|██████████| 1/1 [00:01<00:00,  1.07s/it]\n"
     ]
    },
    {
     "name": "stdout",
     "output_type": "stream",
     "text": [
      "开始处理论文 https://openalex.org/W2965146260，总被引: 1，预计页数: 1\n"
     ]
    },
    {
     "name": "stderr",
     "output_type": "stream",
     "text": [
      "分页获取: 100%|██████████| 1/1 [00:01<00:00,  1.46s/it]\n",
      "处理种子论文:  51%|█████     | 937/1849 [10:56:56<9:05:02, 35.86s/it] "
     ]
    },
    {
     "name": "stdout",
     "output_type": "stream",
     "text": [
      "开始处理论文 https://openalex.org/W2979911450，总被引: 1，预计页数: 1\n"
     ]
    },
    {
     "name": "stderr",
     "output_type": "stream",
     "text": [
      "分页获取: 100%|██████████| 1/1 [00:01<00:00,  1.36s/it]\n",
      "处理参考文献 https://openalex.org/W4386370597: 100%|██████████| 4/4 [00:04<00:00,  1.21s/it]\n"
     ]
    },
    {
     "name": "stdout",
     "output_type": "stream",
     "text": [
      "开始处理论文 https://openalex.org/W4386370597，总被引: 1，预计页数: 1\n"
     ]
    },
    {
     "name": "stderr",
     "output_type": "stream",
     "text": [
      "分页获取: 100%|██████████| 1/1 [00:01<00:00,  1.40s/it]\n",
      "处理参考文献 https://openalex.org/W4399783095: 100%|██████████| 11/11 [00:15<00:00,  1.42s/it]\n"
     ]
    },
    {
     "name": "stdout",
     "output_type": "stream",
     "text": [
      "开始处理论文 https://openalex.org/W4399783095，总被引: 2，预计页数: 1\n"
     ]
    },
    {
     "name": "stderr",
     "output_type": "stream",
     "text": [
      "分页获取: 100%|██████████| 1/1 [00:01<00:00,  1.47s/it]\n",
      "处理种子论文:  51%|█████     | 940/1849 [10:57:20<4:47:16, 18.96s/it]"
     ]
    },
    {
     "name": "stdout",
     "output_type": "stream",
     "text": [
      "开始处理论文 https://openalex.org/W4310905458，总被引: 1，预计页数: 1\n"
     ]
    },
    {
     "name": "stderr",
     "output_type": "stream",
     "text": [
      "分页获取: 100%|██████████| 1/1 [00:02<00:00,  2.37s/it]\n",
      "处理种子论文:  51%|█████     | 941/1849 [10:57:29<4:00:32, 15.90s/it]"
     ]
    },
    {
     "name": "stdout",
     "output_type": "stream",
     "text": [
      "已保存临时结果\n"
     ]
    },
    {
     "name": "stderr",
     "output_type": "stream",
     "text": [
      "处理参考文献 https://openalex.org/W4313885939: 100%|██████████| 4/4 [00:04<00:00,  1.18s/it]\n"
     ]
    },
    {
     "name": "stdout",
     "output_type": "stream",
     "text": [
      "开始处理论文 https://openalex.org/W4313885939，总被引: 1，预计页数: 1\n"
     ]
    },
    {
     "name": "stderr",
     "output_type": "stream",
     "text": [
      "分页获取: 100%|██████████| 1/1 [00:01<00:00,  1.43s/it]\n",
      "处理参考文献 https://openalex.org/W4380610643: 100%|██████████| 1/1 [00:01<00:00,  1.14s/it]\n"
     ]
    },
    {
     "name": "stdout",
     "output_type": "stream",
     "text": [
      "开始处理论文 https://openalex.org/W4380610643，总被引: 1，预计页数: 1\n"
     ]
    },
    {
     "name": "stderr",
     "output_type": "stream",
     "text": [
      "分页获取: 100%|██████████| 1/1 [00:01<00:00,  1.50s/it]\n",
      "处理参考文献 https://openalex.org/W4283394719: 100%|██████████| 1/1 [00:01<00:00,  1.05s/it]\n"
     ]
    },
    {
     "name": "stdout",
     "output_type": "stream",
     "text": [
      "开始处理论文 https://openalex.org/W4283394719，总被引: 1，预计页数: 1\n"
     ]
    },
    {
     "name": "stderr",
     "output_type": "stream",
     "text": [
      "分页获取: 100%|██████████| 1/1 [00:01<00:00,  1.41s/it]\n",
      "处理参考文献 https://openalex.org/W4404113906: 100%|██████████| 43/43 [00:49<00:00,  1.16s/it]\n"
     ]
    },
    {
     "name": "stdout",
     "output_type": "stream",
     "text": [
      "开始处理论文 https://openalex.org/W4404113906，总被引: 3，预计页数: 1\n"
     ]
    },
    {
     "name": "stderr",
     "output_type": "stream",
     "text": [
      "分页获取: 100%|██████████| 1/1 [00:01<00:00,  1.32s/it]\n",
      "处理参考文献 https://openalex.org/W3195467920: 100%|██████████| 15/15 [00:17<00:00,  1.14s/it]\n"
     ]
    },
    {
     "name": "stdout",
     "output_type": "stream",
     "text": [
      "开始处理论文 https://openalex.org/W3195467920，总被引: 1，预计页数: 1\n"
     ]
    },
    {
     "name": "stderr",
     "output_type": "stream",
     "text": [
      "分页获取: 100%|██████████| 1/1 [00:01<00:00,  1.37s/it]\n",
      "处理种子论文:  51%|█████     | 946/1849 [10:58:57<5:30:59, 21.99s/it]"
     ]
    },
    {
     "name": "stdout",
     "output_type": "stream",
     "text": [
      "已保存临时结果\n"
     ]
    },
    {
     "name": "stderr",
     "output_type": "stream",
     "text": [
      "处理参考文献 https://openalex.org/W4392894128: 100%|██████████| 43/43 [00:45<00:00,  1.06s/it]\n"
     ]
    },
    {
     "name": "stdout",
     "output_type": "stream",
     "text": [
      "开始处理论文 https://openalex.org/W4392894128，总被引: 2，预计页数: 1\n"
     ]
    },
    {
     "name": "stderr",
     "output_type": "stream",
     "text": [
      "分页获取: 100%|██████████| 1/1 [00:01<00:00,  1.36s/it]\n",
      "处理种子论文:  51%|█████     | 947/1849 [10:59:43<7:22:32, 29.44s/it]"
     ]
    },
    {
     "name": "stdout",
     "output_type": "stream",
     "text": [
      "开始处理论文 https://openalex.org/W4404042082，总被引: 1，预计页数: 1\n"
     ]
    },
    {
     "name": "stderr",
     "output_type": "stream",
     "text": [
      "分页获取: 100%|██████████| 1/1 [00:01<00:00,  1.34s/it]\n",
      "处理参考文献 https://openalex.org/W4392104644: 100%|██████████| 16/16 [00:17<00:00,  1.12s/it]\n"
     ]
    },
    {
     "name": "stdout",
     "output_type": "stream",
     "text": [
      "开始处理论文 https://openalex.org/W4392104644，总被引: 1，预计页数: 1\n"
     ]
    },
    {
     "name": "stderr",
     "output_type": "stream",
     "text": [
      "分页获取: 100%|██████████| 1/1 [00:01<00:00,  1.30s/it]\n",
      "处理参考文献 https://openalex.org/W4226352603: 100%|██████████| 2/2 [00:02<00:00,  1.16s/it]\n"
     ]
    },
    {
     "name": "stdout",
     "output_type": "stream",
     "text": [
      "开始处理论文 https://openalex.org/W4226352603，总被引: 3，预计页数: 1\n"
     ]
    },
    {
     "name": "stderr",
     "output_type": "stream",
     "text": [
      "分页获取: 100%|██████████| 1/1 [00:01<00:00,  1.38s/it]\n",
      "处理参考文献 https://openalex.org/W4393194777: 100%|██████████| 18/18 [00:20<00:00,  1.14s/it]\n"
     ]
    },
    {
     "name": "stdout",
     "output_type": "stream",
     "text": [
      "开始处理论文 https://openalex.org/W4393194777，总被引: 6，预计页数: 1\n"
     ]
    },
    {
     "name": "stderr",
     "output_type": "stream",
     "text": [
      "分页获取: 100%|██████████| 1/1 [00:02<00:00,  2.10s/it]\n"
     ]
    },
    {
     "name": "stdout",
     "output_type": "stream",
     "text": [
      "警告: 论文 https://openalex.org/W4393194777 应获取 6 条，实际获取 7 条\n"
     ]
    },
    {
     "name": "stderr",
     "output_type": "stream",
     "text": [
      "处理种子论文:  51%|█████▏    | 951/1849 [11:00:37<4:53:19, 19.60s/it]"
     ]
    },
    {
     "name": "stdout",
     "output_type": "stream",
     "text": [
      "已保存临时结果\n",
      "开始处理论文 https://openalex.org/W4403170318，总被引: 1，预计页数: 1\n"
     ]
    },
    {
     "name": "stderr",
     "output_type": "stream",
     "text": [
      "分页获取: 100%|██████████| 1/1 [00:02<00:00,  2.11s/it]\n",
      "处理参考文献 https://openalex.org/W4386963518: 100%|██████████| 4/4 [00:05<00:00,  1.27s/it]\n"
     ]
    },
    {
     "name": "stdout",
     "output_type": "stream",
     "text": [
      "开始处理论文 https://openalex.org/W4386963518，总被引: 1，预计页数: 1\n"
     ]
    },
    {
     "name": "stderr",
     "output_type": "stream",
     "text": [
      "分页获取: 100%|██████████| 1/1 [00:01<00:00,  1.51s/it]\n",
      "处理参考文献 https://openalex.org/W3044483911: 100%|██████████| 6/6 [00:07<00:00,  1.21s/it]\n"
     ]
    },
    {
     "name": "stdout",
     "output_type": "stream",
     "text": [
      "开始处理论文 https://openalex.org/W3044483911，总被引: 2，预计页数: 1\n"
     ]
    },
    {
     "name": "stderr",
     "output_type": "stream",
     "text": [
      "分页获取: 100%|██████████| 1/1 [00:01<00:00,  1.34s/it]\n",
      "处理参考文献 https://openalex.org/W2944225460: 100%|██████████| 15/15 [00:16<00:00,  1.12s/it]\n"
     ]
    },
    {
     "name": "stdout",
     "output_type": "stream",
     "text": [
      "开始处理论文 https://openalex.org/W2944225460，总被引: 1，预计页数: 1\n"
     ]
    },
    {
     "name": "stderr",
     "output_type": "stream",
     "text": [
      "分页获取: 100%|██████████| 1/1 [00:01<00:00,  1.35s/it]\n",
      "处理参考文献 https://openalex.org/W4398770695: 100%|██████████| 7/7 [00:08<00:00,  1.20s/it]\n"
     ]
    },
    {
     "name": "stdout",
     "output_type": "stream",
     "text": [
      "开始处理论文 https://openalex.org/W4398770695，总被引: 2，预计页数: 1\n"
     ]
    },
    {
     "name": "stderr",
     "output_type": "stream",
     "text": [
      "分页获取: 100%|██████████| 1/1 [00:01<00:00,  1.36s/it]\n",
      "处理种子论文:  52%|█████▏    | 956/1849 [11:01:29<3:29:15, 14.06s/it]"
     ]
    },
    {
     "name": "stdout",
     "output_type": "stream",
     "text": [
      "已保存临时结果\n"
     ]
    },
    {
     "name": "stderr",
     "output_type": "stream",
     "text": [
      "处理参考文献 https://openalex.org/W4328095909: 100%|██████████| 4/4 [00:04<00:00,  1.15s/it]\n"
     ]
    },
    {
     "name": "stdout",
     "output_type": "stream",
     "text": [
      "开始处理论文 https://openalex.org/W4328095909，总被引: 1，预计页数: 1\n"
     ]
    },
    {
     "name": "stderr",
     "output_type": "stream",
     "text": [
      "分页获取: 100%|██████████| 1/1 [00:04<00:00,  4.95s/it]\n",
      "处理种子论文:  52%|█████▏    | 957/1849 [11:01:38<3:09:06, 12.72s/it]"
     ]
    },
    {
     "name": "stdout",
     "output_type": "stream",
     "text": [
      "警告: 论文 https://openalex.org/W4328095909 应获取 1 条，实际获取 2 条\n"
     ]
    },
    {
     "name": "stderr",
     "output_type": "stream",
     "text": [
      "处理参考文献 https://openalex.org/W4396233449: 100%|██████████| 21/21 [00:23<00:00,  1.12s/it]\n"
     ]
    },
    {
     "name": "stdout",
     "output_type": "stream",
     "text": [
      "开始处理论文 https://openalex.org/W4396233449，总被引: 1，预计页数: 1\n"
     ]
    },
    {
     "name": "stderr",
     "output_type": "stream",
     "text": [
      "分页获取: 100%|██████████| 1/1 [00:01<00:00,  1.39s/it]\n",
      "处理参考文献 https://openalex.org/W4312621842: 100%|██████████| 10/10 [00:11<00:00,  1.14s/it]\n"
     ]
    },
    {
     "name": "stdout",
     "output_type": "stream",
     "text": [
      "开始处理论文 https://openalex.org/W4312621842，总被引: 2，预计页数: 1\n"
     ]
    },
    {
     "name": "stderr",
     "output_type": "stream",
     "text": [
      "分页获取: 100%|██████████| 1/1 [00:01<00:00,  1.85s/it]\n",
      "处理参考文献 https://openalex.org/W4392165308: 100%|██████████| 26/26 [00:29<00:00,  1.15s/it]\n"
     ]
    },
    {
     "name": "stdout",
     "output_type": "stream",
     "text": [
      "开始处理论文 https://openalex.org/W4392165308，总被引: 2，预计页数: 1\n"
     ]
    },
    {
     "name": "stderr",
     "output_type": "stream",
     "text": [
      "分页获取: 100%|██████████| 1/1 [00:01<00:00,  1.50s/it]\n",
      "处理参考文献 https://openalex.org/W4393974504: 100%|██████████| 42/42 [00:46<00:00,  1.11s/it]\n"
     ]
    },
    {
     "name": "stdout",
     "output_type": "stream",
     "text": [
      "开始处理论文 https://openalex.org/W4393974504，总被引: 2，预计页数: 1\n"
     ]
    },
    {
     "name": "stderr",
     "output_type": "stream",
     "text": [
      "分页获取: 100%|██████████| 1/1 [00:01<00:00,  1.36s/it]\n",
      "处理种子论文:  52%|█████▏    | 961/1849 [11:03:43<7:32:36, 30.58s/it]"
     ]
    },
    {
     "name": "stdout",
     "output_type": "stream",
     "text": [
      "已保存临时结果\n"
     ]
    },
    {
     "name": "stderr",
     "output_type": "stream",
     "text": [
      "处理参考文献 https://openalex.org/W4220950883: 100%|██████████| 13/13 [00:15<00:00,  1.19s/it]\n"
     ]
    },
    {
     "name": "stdout",
     "output_type": "stream",
     "text": [
      "开始处理论文 https://openalex.org/W4220950883，总被引: 1，预计页数: 1\n"
     ]
    },
    {
     "name": "stderr",
     "output_type": "stream",
     "text": [
      "分页获取: 100%|██████████| 1/1 [00:01<00:00,  1.36s/it]\n",
      "处理参考文献 https://openalex.org/W4280505367: 100%|██████████| 21/21 [00:24<00:00,  1.16s/it]\n"
     ]
    },
    {
     "name": "stdout",
     "output_type": "stream",
     "text": [
      "开始处理论文 https://openalex.org/W4280505367，总被引: 1，预计页数: 1\n"
     ]
    },
    {
     "name": "stderr",
     "output_type": "stream",
     "text": [
      "分页获取: 100%|██████████| 1/1 [00:01<00:00,  1.34s/it]\n",
      "处理参考文献 https://openalex.org/W4392896554: 100%|██████████| 26/26 [00:29<00:00,  1.14s/it]\n"
     ]
    },
    {
     "name": "stdout",
     "output_type": "stream",
     "text": [
      "开始处理论文 https://openalex.org/W4392896554，总被引: 3，预计页数: 1\n"
     ]
    },
    {
     "name": "stderr",
     "output_type": "stream",
     "text": [
      "分页获取: 100%|██████████| 1/1 [00:01<00:00,  1.36s/it]\n",
      "处理参考文献 https://openalex.org/W4402096304: 100%|██████████| 23/23 [00:26<00:00,  1.14s/it]\n"
     ]
    },
    {
     "name": "stdout",
     "output_type": "stream",
     "text": [
      "开始处理论文 https://openalex.org/W4402096304，总被引: 1，预计页数: 1\n"
     ]
    },
    {
     "name": "stderr",
     "output_type": "stream",
     "text": [
      "分页获取: 100%|██████████| 1/1 [00:01<00:00,  1.29s/it]\n",
      "处理参考文献 https://openalex.org/W4377107951: 100%|██████████| 19/19 [00:22<00:00,  1.19s/it]\n"
     ]
    },
    {
     "name": "stdout",
     "output_type": "stream",
     "text": [
      "开始处理论文 https://openalex.org/W4377107951，总被引: 4，预计页数: 1\n"
     ]
    },
    {
     "name": "stderr",
     "output_type": "stream",
     "text": [
      "分页获取: 100%|██████████| 1/1 [00:01<00:00,  1.69s/it]\n",
      "处理种子论文:  52%|█████▏    | 966/1849 [11:05:54<6:59:52, 28.53s/it]"
     ]
    },
    {
     "name": "stdout",
     "output_type": "stream",
     "text": [
      "已保存临时结果\n"
     ]
    },
    {
     "name": "stderr",
     "output_type": "stream",
     "text": [
      "处理参考文献 https://openalex.org/W4368367148: 100%|██████████| 8/8 [00:09<00:00,  1.14s/it]\n"
     ]
    },
    {
     "name": "stdout",
     "output_type": "stream",
     "text": [
      "开始处理论文 https://openalex.org/W4368367148，总被引: 2，预计页数: 1\n"
     ]
    },
    {
     "name": "stderr",
     "output_type": "stream",
     "text": [
      "分页获取: 100%|██████████| 1/1 [00:01<00:00,  1.48s/it]\n",
      "处理种子论文:  52%|█████▏    | 967/1849 [11:06:05<5:40:18, 23.15s/it]"
     ]
    },
    {
     "name": "stdout",
     "output_type": "stream",
     "text": [
      "开始处理论文 https://openalex.org/W4404829034，总被引: 1，预计页数: 1\n"
     ]
    },
    {
     "name": "stderr",
     "output_type": "stream",
     "text": [
      "分页获取: 100%|██████████| 1/1 [00:01<00:00,  1.36s/it]\n",
      "处理参考文献 https://openalex.org/W3216538978: 100%|██████████| 12/12 [00:13<00:00,  1.17s/it]\n"
     ]
    },
    {
     "name": "stdout",
     "output_type": "stream",
     "text": [
      "开始处理论文 https://openalex.org/W3216538978，总被引: 3，预计页数: 1\n"
     ]
    },
    {
     "name": "stderr",
     "output_type": "stream",
     "text": [
      "分页获取: 100%|██████████| 1/1 [00:01<00:00,  1.36s/it]\n",
      "处理参考文献 https://openalex.org/W4322583597: 100%|██████████| 5/5 [00:05<00:00,  1.19s/it]\n"
     ]
    },
    {
     "name": "stdout",
     "output_type": "stream",
     "text": [
      "开始处理论文 https://openalex.org/W4322583597，总被引: 1，预计页数: 1\n"
     ]
    },
    {
     "name": "stderr",
     "output_type": "stream",
     "text": [
      "分页获取: 100%|██████████| 1/1 [00:01<00:00,  1.55s/it]\n",
      "处理参考文献 https://openalex.org/W4392880920: 100%|██████████| 5/5 [00:05<00:00,  1.12s/it]\n"
     ]
    },
    {
     "name": "stdout",
     "output_type": "stream",
     "text": [
      "开始处理论文 https://openalex.org/W4392880920，总被引: 2，预计页数: 1\n"
     ]
    },
    {
     "name": "stderr",
     "output_type": "stream",
     "text": [
      "分页获取: 100%|██████████| 1/1 [00:01<00:00,  1.37s/it]\n",
      "处理种子论文:  53%|█████▎    | 971/1849 [11:06:44<3:22:53, 13.87s/it]"
     ]
    },
    {
     "name": "stdout",
     "output_type": "stream",
     "text": [
      "已保存临时结果\n"
     ]
    },
    {
     "name": "stderr",
     "output_type": "stream",
     "text": [
      "处理参考文献 https://openalex.org/W4386476800: 100%|██████████| 9/9 [00:10<00:00,  1.14s/it]\n"
     ]
    },
    {
     "name": "stdout",
     "output_type": "stream",
     "text": [
      "开始处理论文 https://openalex.org/W4386476800，总被引: 1，预计页数: 1\n"
     ]
    },
    {
     "name": "stderr",
     "output_type": "stream",
     "text": [
      "分页获取: 100%|██████████| 1/1 [00:01<00:00,  1.37s/it]\n",
      "处理参考文献 https://openalex.org/W4392135558: 100%|██████████| 14/14 [00:21<00:00,  1.53s/it]\n"
     ]
    },
    {
     "name": "stdout",
     "output_type": "stream",
     "text": [
      "开始处理论文 https://openalex.org/W4392135558，总被引: 1，预计页数: 1\n"
     ]
    },
    {
     "name": "stderr",
     "output_type": "stream",
     "text": [
      "分页获取: 100%|██████████| 1/1 [00:04<00:00,  4.73s/it]\n",
      "处理参考文献 https://openalex.org/W4389379030: 100%|██████████| 18/18 [00:22<00:00,  1.23s/it]\n"
     ]
    },
    {
     "name": "stdout",
     "output_type": "stream",
     "text": [
      "开始处理论文 https://openalex.org/W4389379030，总被引: 2，预计页数: 1\n"
     ]
    },
    {
     "name": "stderr",
     "output_type": "stream",
     "text": [
      "分页获取: 100%|██████████| 1/1 [00:01<00:00,  1.66s/it]\n",
      "处理种子论文:  53%|█████▎    | 974/1849 [11:07:45<4:38:48, 19.12s/it]"
     ]
    },
    {
     "name": "stdout",
     "output_type": "stream",
     "text": [
      "开始处理论文 https://openalex.org/W3037238769，总被引: 1，预计页数: 1\n"
     ]
    },
    {
     "name": "stderr",
     "output_type": "stream",
     "text": [
      "分页获取: 100%|██████████| 1/1 [00:01<00:00,  1.56s/it]\n",
      "处理参考文献 https://openalex.org/W4405538792: 100%|██████████| 36/36 [00:43<00:00,  1.19s/it]\n"
     ]
    },
    {
     "name": "stdout",
     "output_type": "stream",
     "text": [
      "开始处理论文 https://openalex.org/W4405538792，总被引: 1，预计页数: 1\n"
     ]
    },
    {
     "name": "stderr",
     "output_type": "stream",
     "text": [
      "分页获取: 100%|██████████| 1/1 [00:01<00:00,  1.35s/it]\n",
      "处理种子论文:  53%|█████▎    | 976/1849 [11:08:38<6:03:00, 24.95s/it]"
     ]
    },
    {
     "name": "stdout",
     "output_type": "stream",
     "text": [
      "已保存临时结果\n"
     ]
    },
    {
     "name": "stderr",
     "output_type": "stream",
     "text": [
      "处理参考文献 https://openalex.org/W4401550589: 100%|██████████| 28/28 [00:35<00:00,  1.26s/it]\n"
     ]
    },
    {
     "name": "stdout",
     "output_type": "stream",
     "text": [
      "开始处理论文 https://openalex.org/W4401550589，总被引: 1，预计页数: 1\n"
     ]
    },
    {
     "name": "stderr",
     "output_type": "stream",
     "text": [
      "分页获取: 100%|██████████| 1/1 [00:01<00:00,  1.40s/it]\n",
      "处理参考文献 https://openalex.org/W4242764333: 100%|██████████| 27/27 [00:31<00:00,  1.18s/it]\n"
     ]
    },
    {
     "name": "stdout",
     "output_type": "stream",
     "text": [
      "开始处理论文 https://openalex.org/W4242764333，总被引: 1，预计页数: 1\n"
     ]
    },
    {
     "name": "stderr",
     "output_type": "stream",
     "text": [
      "分页获取: 100%|██████████| 1/1 [00:01<00:00,  1.40s/it]\n",
      "处理参考文献 https://openalex.org/W4367047646: 100%|██████████| 43/43 [00:49<00:00,  1.16s/it]\n"
     ]
    },
    {
     "name": "stdout",
     "output_type": "stream",
     "text": [
      "开始处理论文 https://openalex.org/W4367047646，总被引: 16，预计页数: 1\n"
     ]
    },
    {
     "name": "stderr",
     "output_type": "stream",
     "text": [
      "分页获取: 100%|██████████| 1/1 [00:01<00:00,  1.86s/it]\n",
      "处理种子论文:  53%|█████▎    | 979/1849 [11:10:40<8:49:09, 36.49s/it]"
     ]
    },
    {
     "name": "stdout",
     "output_type": "stream",
     "text": [
      "警告: 论文 https://openalex.org/W4367047646 应获取 16 条，实际获取 17 条\n"
     ]
    },
    {
     "name": "stderr",
     "output_type": "stream",
     "text": [
      "处理参考文献 https://openalex.org/W3186949583: 100%|██████████| 1/1 [00:01<00:00,  1.13s/it]\n"
     ]
    },
    {
     "name": "stdout",
     "output_type": "stream",
     "text": [
      "开始处理论文 https://openalex.org/W3186949583，总被引: 1，预计页数: 1\n"
     ]
    },
    {
     "name": "stderr",
     "output_type": "stream",
     "text": [
      "分页获取: 100%|██████████| 1/1 [00:01<00:00,  1.37s/it]\n",
      "处理参考文献 https://openalex.org/W4403197143: 100%|██████████| 1/1 [00:01<00:00,  1.03s/it]\n"
     ]
    },
    {
     "name": "stdout",
     "output_type": "stream",
     "text": [
      "开始处理论文 https://openalex.org/W4403197143，总被引: 1，预计页数: 1\n"
     ]
    },
    {
     "name": "stderr",
     "output_type": "stream",
     "text": [
      "分页获取: 100%|██████████| 1/1 [00:01<00:00,  1.40s/it]\n",
      "处理种子论文:  53%|█████▎    | 981/1849 [11:10:51<5:05:20, 21.11s/it]"
     ]
    },
    {
     "name": "stdout",
     "output_type": "stream",
     "text": [
      "已保存临时结果\n"
     ]
    },
    {
     "name": "stderr",
     "output_type": "stream",
     "text": [
      "处理参考文献 https://openalex.org/W4399623937: 100%|██████████| 31/31 [00:35<00:00,  1.14s/it]\n"
     ]
    },
    {
     "name": "stdout",
     "output_type": "stream",
     "text": [
      "开始处理论文 https://openalex.org/W4399623937，总被引: 1，预计页数: 1\n"
     ]
    },
    {
     "name": "stderr",
     "output_type": "stream",
     "text": [
      "分页获取: 100%|██████████| 1/1 [00:01<00:00,  1.73s/it]\n",
      "处理参考文献 https://openalex.org/W4401892516: 100%|██████████| 30/30 [00:33<00:00,  1.13s/it]\n"
     ]
    },
    {
     "name": "stdout",
     "output_type": "stream",
     "text": [
      "开始处理论文 https://openalex.org/W4401892516，总被引: 1，预计页数: 1\n"
     ]
    },
    {
     "name": "stderr",
     "output_type": "stream",
     "text": [
      "分页获取: 100%|██████████| 1/1 [00:01<00:00,  1.34s/it]\n",
      "处理种子论文:  53%|█████▎    | 983/1849 [11:12:04<6:54:48, 28.74s/it]"
     ]
    },
    {
     "name": "stdout",
     "output_type": "stream",
     "text": [
      "开始处理论文 https://openalex.org/W4403908261，总被引: 1，预计页数: 1\n"
     ]
    },
    {
     "name": "stderr",
     "output_type": "stream",
     "text": [
      "分页获取: 100%|██████████| 1/1 [00:01<00:00,  1.30s/it]\n",
      "处理参考文献 https://openalex.org/W2177906644: 100%|██████████| 13/13 [00:15<00:00,  1.16s/it]\n"
     ]
    },
    {
     "name": "stdout",
     "output_type": "stream",
     "text": [
      "开始处理论文 https://openalex.org/W2177906644，总被引: 1，预计页数: 1\n"
     ]
    },
    {
     "name": "stderr",
     "output_type": "stream",
     "text": [
      "分页获取: 100%|██████████| 1/1 [00:01<00:00,  1.33s/it]\n",
      "处理参考文献 https://openalex.org/W4391135989: 100%|██████████| 3/3 [00:03<00:00,  1.12s/it]\n"
     ]
    },
    {
     "name": "stdout",
     "output_type": "stream",
     "text": [
      "开始处理论文 https://openalex.org/W4391135989，总被引: 2，预计页数: 1\n"
     ]
    },
    {
     "name": "stderr",
     "output_type": "stream",
     "text": [
      "分页获取: 100%|██████████| 1/1 [00:01<00:00,  1.40s/it]\n",
      "处理种子论文:  53%|█████▎    | 986/1849 [11:12:33<4:02:53, 16.89s/it]"
     ]
    },
    {
     "name": "stdout",
     "output_type": "stream",
     "text": [
      "已保存临时结果\n"
     ]
    },
    {
     "name": "stderr",
     "output_type": "stream",
     "text": [
      "处理参考文献 https://openalex.org/W4401178510: 100%|██████████| 25/25 [00:29<00:00,  1.19s/it]\n"
     ]
    },
    {
     "name": "stdout",
     "output_type": "stream",
     "text": [
      "开始处理论文 https://openalex.org/W4401178510，总被引: 1，预计页数: 1\n"
     ]
    },
    {
     "name": "stderr",
     "output_type": "stream",
     "text": [
      "分页获取: 100%|██████████| 1/1 [00:01<00:00,  1.38s/it]\n",
      "处理参考文献 https://openalex.org/W2894954870: 100%|██████████| 5/5 [00:06<00:00,  1.24s/it]\n"
     ]
    },
    {
     "name": "stdout",
     "output_type": "stream",
     "text": [
      "开始处理论文 https://openalex.org/W2894954870，总被引: 2，预计页数: 1\n"
     ]
    },
    {
     "name": "stderr",
     "output_type": "stream",
     "text": [
      "分页获取: 100%|██████████| 1/1 [00:01<00:00,  1.34s/it]\n",
      "处理种子论文:  53%|█████▎    | 988/1849 [11:13:11<4:05:10, 17.09s/it]"
     ]
    },
    {
     "name": "stdout",
     "output_type": "stream",
     "text": [
      "开始处理论文 https://openalex.org/W4282008756，总被引: 1，预计页数: 1\n"
     ]
    },
    {
     "name": "stderr",
     "output_type": "stream",
     "text": [
      "分页获取: 100%|██████████| 1/1 [00:01<00:00,  1.49s/it]\n",
      "处理参考文献 https://openalex.org/W4362583088: 100%|██████████| 12/12 [00:14<00:00,  1.22s/it]\n"
     ]
    },
    {
     "name": "stdout",
     "output_type": "stream",
     "text": [
      "开始处理论文 https://openalex.org/W4362583088，总被引: 2，预计页数: 1\n"
     ]
    },
    {
     "name": "stderr",
     "output_type": "stream",
     "text": [
      "分页获取: 100%|██████████| 1/1 [00:01<00:00,  1.35s/it]\n",
      "处理种子论文:  54%|█████▎    | 990/1849 [11:13:29<3:12:57, 13.48s/it]"
     ]
    },
    {
     "name": "stdout",
     "output_type": "stream",
     "text": [
      "开始处理论文 https://openalex.org/W4316652362，总被引: 2，预计页数: 1\n"
     ]
    },
    {
     "name": "stderr",
     "output_type": "stream",
     "text": [
      "分页获取: 100%|██████████| 1/1 [00:01<00:00,  1.41s/it]\n",
      "处理种子论文:  54%|█████▎    | 991/1849 [11:13:39<2:57:16, 12.40s/it]"
     ]
    },
    {
     "name": "stdout",
     "output_type": "stream",
     "text": [
      "已保存临时结果\n"
     ]
    },
    {
     "name": "stderr",
     "output_type": "stream",
     "text": [
      "处理参考文献 https://openalex.org/W4392903196: 100%|██████████| 2/2 [00:02<00:00,  1.18s/it]\n"
     ]
    },
    {
     "name": "stdout",
     "output_type": "stream",
     "text": [
      "开始处理论文 https://openalex.org/W4392903196，总被引: 1，预计页数: 1\n"
     ]
    },
    {
     "name": "stderr",
     "output_type": "stream",
     "text": [
      "分页获取: 100%|██████████| 1/1 [00:01<00:00,  1.34s/it]\n",
      "处理参考文献 https://openalex.org/W4399986222: 100%|██████████| 14/14 [00:17<00:00,  1.22s/it]\n"
     ]
    },
    {
     "name": "stdout",
     "output_type": "stream",
     "text": [
      "开始处理论文 https://openalex.org/W4399986222，总被引: 1，预计页数: 1\n"
     ]
    },
    {
     "name": "stderr",
     "output_type": "stream",
     "text": [
      "分页获取: 100%|██████████| 1/1 [00:01<00:00,  1.37s/it]\n",
      "处理参考文献 https://openalex.org/W4398214734: 100%|██████████| 13/13 [00:14<00:00,  1.13s/it]\n"
     ]
    },
    {
     "name": "stdout",
     "output_type": "stream",
     "text": [
      "开始处理论文 https://openalex.org/W4398214734，总被引: 1，预计页数: 1\n"
     ]
    },
    {
     "name": "stderr",
     "output_type": "stream",
     "text": [
      "分页获取: 100%|██████████| 1/1 [00:01<00:00,  1.33s/it]\n",
      "处理参考文献 https://openalex.org/W3211834782: 100%|██████████| 8/8 [00:08<00:00,  1.12s/it]\n"
     ]
    },
    {
     "name": "stdout",
     "output_type": "stream",
     "text": [
      "开始处理论文 https://openalex.org/W3211834782，总被引: 26，预计页数: 1\n"
     ]
    },
    {
     "name": "stderr",
     "output_type": "stream",
     "text": [
      "分页获取: 100%|██████████| 1/1 [00:02<00:00,  2.23s/it]\n",
      "处理参考文献 https://openalex.org/W2990048804: 100%|██████████| 6/6 [00:06<00:00,  1.15s/it]\n"
     ]
    },
    {
     "name": "stdout",
     "output_type": "stream",
     "text": [
      "获取论文W2984095168失败，状态码：404\n",
      "开始处理论文 https://openalex.org/W2990048804，总被引: 1，预计页数: 1\n"
     ]
    },
    {
     "name": "stderr",
     "output_type": "stream",
     "text": [
      "分页获取: 100%|██████████| 1/1 [00:01<00:00,  1.42s/it]\n",
      "处理种子论文:  54%|█████▍    | 996/1849 [11:14:43<3:12:12, 13.52s/it]"
     ]
    },
    {
     "name": "stdout",
     "output_type": "stream",
     "text": [
      "已保存临时结果\n"
     ]
    },
    {
     "name": "stderr",
     "output_type": "stream",
     "text": [
      "处理参考文献 https://openalex.org/W4401369247: 100%|██████████| 25/25 [00:29<00:00,  1.19s/it]\n"
     ]
    },
    {
     "name": "stdout",
     "output_type": "stream",
     "text": [
      "开始处理论文 https://openalex.org/W4401369247，总被引: 1，预计页数: 1\n"
     ]
    },
    {
     "name": "stderr",
     "output_type": "stream",
     "text": [
      "分页获取: 100%|██████████| 1/1 [00:01<00:00,  1.51s/it]\n",
      "处理种子论文:  54%|█████▍    | 997/1849 [11:15:15<4:27:23, 18.83s/it]"
     ]
    },
    {
     "name": "stdout",
     "output_type": "stream",
     "text": [
      "开始处理论文 https://openalex.org/W4403999694，总被引: 1，预计页数: 1\n"
     ]
    },
    {
     "name": "stderr",
     "output_type": "stream",
     "text": [
      "分页获取: 100%|██████████| 1/1 [00:01<00:00,  1.34s/it]\n",
      "处理参考文献 https://openalex.org/W4283764233: 100%|██████████| 4/4 [00:04<00:00,  1.22s/it]\n"
     ]
    },
    {
     "name": "stdout",
     "output_type": "stream",
     "text": [
      "开始处理论文 https://openalex.org/W4283764233，总被引: 1，预计页数: 1\n"
     ]
    },
    {
     "name": "stderr",
     "output_type": "stream",
     "text": [
      "分页获取: 100%|██████████| 1/1 [00:01<00:00,  1.39s/it]\n",
      "处理参考文献 https://openalex.org/W3076465811: 100%|██████████| 16/16 [00:18<00:00,  1.15s/it]\n"
     ]
    },
    {
     "name": "stdout",
     "output_type": "stream",
     "text": [
      "开始处理论文 https://openalex.org/W3076465811，总被引: 2，预计页数: 1\n"
     ]
    },
    {
     "name": "stderr",
     "output_type": "stream",
     "text": [
      "分页获取: 100%|██████████| 1/1 [00:01<00:00,  1.56s/it]\n",
      "处理种子论文:  54%|█████▍    | 1000/1849 [11:15:42<3:17:47, 13.98s/it]"
     ]
    },
    {
     "name": "stdout",
     "output_type": "stream",
     "text": [
      "开始处理论文 https://openalex.org/W4398184941，总被引: 1，预计页数: 1\n"
     ]
    },
    {
     "name": "stderr",
     "output_type": "stream",
     "text": [
      "分页获取: 100%|██████████| 1/1 [00:01<00:00,  1.98s/it]\n",
      "处理种子论文:  54%|█████▍    | 1001/1849 [11:15:51<2:54:12, 12.33s/it]"
     ]
    },
    {
     "name": "stdout",
     "output_type": "stream",
     "text": [
      "已保存临时结果\n"
     ]
    },
    {
     "name": "stderr",
     "output_type": "stream",
     "text": [
      "处理参考文献 https://openalex.org/W4400588483: 100%|██████████| 9/9 [00:09<00:00,  1.07s/it]\n"
     ]
    },
    {
     "name": "stdout",
     "output_type": "stream",
     "text": [
      "开始处理论文 https://openalex.org/W4400588483，总被引: 1，预计页数: 1\n"
     ]
    },
    {
     "name": "stderr",
     "output_type": "stream",
     "text": [
      "分页获取: 100%|██████████| 1/1 [00:01<00:00,  1.36s/it]\n",
      "处理种子论文:  54%|█████▍    | 1002/1849 [11:16:02<2:48:21, 11.93s/it]"
     ]
    },
    {
     "name": "stdout",
     "output_type": "stream",
     "text": [
      "开始处理论文 https://openalex.org/W4389527884，总被引: 1，预计页数: 1\n"
     ]
    },
    {
     "name": "stderr",
     "output_type": "stream",
     "text": [
      "分页获取: 100%|██████████| 1/1 [00:01<00:00,  1.41s/it]\n",
      "处理参考文献 https://openalex.org/W4392821174: 100%|██████████| 25/25 [00:29<00:00,  1.17s/it]\n"
     ]
    },
    {
     "name": "stdout",
     "output_type": "stream",
     "text": [
      "开始处理论文 https://openalex.org/W4392821174，总被引: 1，预计页数: 1\n"
     ]
    },
    {
     "name": "stderr",
     "output_type": "stream",
     "text": [
      "分页获取: 100%|██████████| 1/1 [00:01<00:00,  1.37s/it]\n",
      "处理参考文献 https://openalex.org/W4387678250: 100%|██████████| 5/5 [00:06<00:00,  1.34s/it]\n"
     ]
    },
    {
     "name": "stdout",
     "output_type": "stream",
     "text": [
      "开始处理论文 https://openalex.org/W4387678250，总被引: 1，预计页数: 1\n"
     ]
    },
    {
     "name": "stderr",
     "output_type": "stream",
     "text": [
      "分页获取: 100%|██████████| 1/1 [00:01<00:00,  1.37s/it]\n",
      "处理种子论文:  54%|█████▍    | 1005/1849 [11:16:42<3:04:52, 13.14s/it]"
     ]
    },
    {
     "name": "stdout",
     "output_type": "stream",
     "text": [
      "开始处理论文 https://openalex.org/W4390839115，总被引: 1，预计页数: 1\n"
     ]
    },
    {
     "name": "stderr",
     "output_type": "stream",
     "text": [
      "分页获取: 100%|██████████| 1/1 [00:01<00:00,  1.45s/it]\n",
      "处理种子论文:  54%|█████▍    | 1006/1849 [11:16:50<2:42:56, 11.60s/it]"
     ]
    },
    {
     "name": "stdout",
     "output_type": "stream",
     "text": [
      "已保存临时结果\n",
      "开始处理论文 https://openalex.org/W2932901442，总被引: 1，预计页数: 1\n"
     ]
    },
    {
     "name": "stderr",
     "output_type": "stream",
     "text": [
      "分页获取: 100%|██████████| 1/1 [00:01<00:00,  1.45s/it]\n",
      "处理参考文献 https://openalex.org/W3014312017: 100%|██████████| 2/2 [00:02<00:00,  1.23s/it]\n"
     ]
    },
    {
     "name": "stdout",
     "output_type": "stream",
     "text": [
      "开始处理论文 https://openalex.org/W3014312017，总被引: 44，预计页数: 1\n"
     ]
    },
    {
     "name": "stderr",
     "output_type": "stream",
     "text": [
      "分页获取: 100%|██████████| 1/1 [00:02<00:00,  2.53s/it]\n",
      "处理参考文献 https://openalex.org/W4399529712: 100%|██████████| 47/47 [00:54<00:00,  1.16s/it]\n"
     ]
    },
    {
     "name": "stdout",
     "output_type": "stream",
     "text": [
      "开始处理论文 https://openalex.org/W4399529712，总被引: 2，预计页数: 1\n"
     ]
    },
    {
     "name": "stderr",
     "output_type": "stream",
     "text": [
      "分页获取: 100%|██████████| 1/1 [00:01<00:00,  1.43s/it]\n",
      "处理种子论文:  55%|█████▍    | 1009/1849 [11:17:52<5:08:32, 22.04s/it]"
     ]
    },
    {
     "name": "stdout",
     "output_type": "stream",
     "text": [
      "开始处理论文 https://openalex.org/W4393258851，总被引: 2，预计页数: 1\n"
     ]
    },
    {
     "name": "stderr",
     "output_type": "stream",
     "text": [
      "分页获取: 100%|██████████| 1/1 [00:01<00:00,  1.43s/it]\n",
      "处理参考文献 https://openalex.org/W4403835135: 100%|██████████| 63/63 [01:10<00:00,  1.12s/it]\n"
     ]
    },
    {
     "name": "stdout",
     "output_type": "stream",
     "text": [
      "开始处理论文 https://openalex.org/W4403835135，总被引: 2，预计页数: 1\n"
     ]
    },
    {
     "name": "stderr",
     "output_type": "stream",
     "text": [
      "分页获取: 100%|██████████| 1/1 [00:01<00:00,  1.47s/it]\n",
      "处理种子论文:  55%|█████▍    | 1011/1849 [11:19:12<8:05:13, 34.74s/it]"
     ]
    },
    {
     "name": "stdout",
     "output_type": "stream",
     "text": [
      "已保存临时结果\n"
     ]
    },
    {
     "name": "stderr",
     "output_type": "stream",
     "text": [
      "处理参考文献 https://openalex.org/W4379404804: 100%|██████████| 7/7 [00:07<00:00,  1.09s/it]\n"
     ]
    },
    {
     "name": "stdout",
     "output_type": "stream",
     "text": [
      "开始处理论文 https://openalex.org/W4379404804，总被引: 1，预计页数: 1\n"
     ]
    },
    {
     "name": "stderr",
     "output_type": "stream",
     "text": [
      "分页获取: 100%|██████████| 1/1 [00:01<00:00,  1.44s/it]\n",
      "处理种子论文:  55%|█████▍    | 1012/1849 [11:19:22<6:17:24, 27.05s/it]"
     ]
    },
    {
     "name": "stdout",
     "output_type": "stream",
     "text": [
      "开始处理论文 https://openalex.org/W4391411786，总被引: 1，预计页数: 1\n"
     ]
    },
    {
     "name": "stderr",
     "output_type": "stream",
     "text": [
      "分页获取: 100%|██████████| 1/1 [00:01<00:00,  1.36s/it]\n",
      "处理参考文献 https://openalex.org/W4399768190: 100%|██████████| 9/9 [00:10<00:00,  1.13s/it]\n"
     ]
    },
    {
     "name": "stdout",
     "output_type": "stream",
     "text": [
      "开始处理论文 https://openalex.org/W4399768190，总被引: 1，预计页数: 1\n"
     ]
    },
    {
     "name": "stderr",
     "output_type": "stream",
     "text": [
      "分页获取: 100%|██████████| 1/1 [00:01<00:00,  1.36s/it]\n",
      "处理种子论文:  55%|█████▍    | 1014/1849 [11:19:35<3:56:55, 17.03s/it]"
     ]
    },
    {
     "name": "stdout",
     "output_type": "stream",
     "text": [
      "开始处理论文 https://openalex.org/W4251726723，总被引: 1，预计页数: 1\n"
     ]
    },
    {
     "name": "stderr",
     "output_type": "stream",
     "text": [
      "分页获取: 100%|██████████| 1/1 [00:01<00:00,  1.49s/it]\n",
      "处理参考文献 https://openalex.org/W4392731431: 100%|██████████| 16/16 [00:18<00:00,  1.14s/it]\n"
     ]
    },
    {
     "name": "stdout",
     "output_type": "stream",
     "text": [
      "开始处理论文 https://openalex.org/W4392731431，总被引: 1，预计页数: 1\n"
     ]
    },
    {
     "name": "stderr",
     "output_type": "stream",
     "text": [
      "分页获取: 100%|██████████| 1/1 [00:01<00:00,  1.44s/it]\n",
      "处理种子论文:  55%|█████▍    | 1016/1849 [11:20:02<3:49:41, 16.54s/it]"
     ]
    },
    {
     "name": "stdout",
     "output_type": "stream",
     "text": [
      "已保存临时结果\n"
     ]
    },
    {
     "name": "stderr",
     "output_type": "stream",
     "text": [
      "处理参考文献 https://openalex.org/W4252124083: 100%|██████████| 10/10 [00:11<00:00,  1.18s/it]\n"
     ]
    },
    {
     "name": "stdout",
     "output_type": "stream",
     "text": [
      "开始处理论文 https://openalex.org/W4252124083，总被引: 2，预计页数: 1\n"
     ]
    },
    {
     "name": "stderr",
     "output_type": "stream",
     "text": [
      "分页获取: 100%|██████████| 1/1 [00:01<00:00,  1.44s/it]\n",
      "处理种子论文:  55%|█████▌    | 1017/1849 [11:20:16<3:35:43, 15.56s/it]"
     ]
    },
    {
     "name": "stdout",
     "output_type": "stream",
     "text": [
      "开始处理论文 https://openalex.org/W3132927133，总被引: 1，预计页数: 1\n"
     ]
    },
    {
     "name": "stderr",
     "output_type": "stream",
     "text": [
      "分页获取: 100%|██████████| 1/1 [00:01<00:00,  1.37s/it]\n",
      "处理参考文献 https://openalex.org/W4396671431: 100%|██████████| 18/18 [00:21<00:00,  1.17s/it]\n"
     ]
    },
    {
     "name": "stdout",
     "output_type": "stream",
     "text": [
      "开始处理论文 https://openalex.org/W4396671431，总被引: 1，预计页数: 1\n"
     ]
    },
    {
     "name": "stderr",
     "output_type": "stream",
     "text": [
      "分页获取: 100%|██████████| 1/1 [00:01<00:00,  1.43s/it]\n",
      "处理参考文献 https://openalex.org/W4393156243: 100%|██████████| 20/20 [00:25<00:00,  1.27s/it]\n"
     ]
    },
    {
     "name": "stdout",
     "output_type": "stream",
     "text": [
      "开始处理论文 https://openalex.org/W4393156243，总被引: 2，预计页数: 1\n"
     ]
    },
    {
     "name": "stderr",
     "output_type": "stream",
     "text": [
      "分页获取: 100%|██████████| 1/1 [00:01<00:00,  1.49s/it]\n",
      "处理参考文献 https://openalex.org/W4388994359: 100%|██████████| 20/20 [00:22<00:00,  1.12s/it]\n"
     ]
    },
    {
     "name": "stdout",
     "output_type": "stream",
     "text": [
      "开始处理论文 https://openalex.org/W4388994359，总被引: 1，预计页数: 1\n"
     ]
    },
    {
     "name": "stderr",
     "output_type": "stream",
     "text": [
      "分页获取: 100%|██████████| 1/1 [00:01<00:00,  1.49s/it]\n",
      "处理种子论文:  55%|█████▌    | 1021/1849 [11:21:37<5:03:47, 22.01s/it]"
     ]
    },
    {
     "name": "stdout",
     "output_type": "stream",
     "text": [
      "已保存临时结果\n",
      "开始处理论文 https://openalex.org/W4390142284，总被引: 1，预计页数: 1\n"
     ]
    },
    {
     "name": "stderr",
     "output_type": "stream",
     "text": [
      "分页获取: 100%|██████████| 1/1 [00:01<00:00,  1.49s/it]\n",
      "处理种子论文:  55%|█████▌    | 1022/1849 [11:21:39<3:38:38, 15.86s/it]"
     ]
    },
    {
     "name": "stdout",
     "output_type": "stream",
     "text": [
      "开始处理论文 https://openalex.org/W4391858518，总被引: 1，预计页数: 1\n"
     ]
    },
    {
     "name": "stderr",
     "output_type": "stream",
     "text": [
      "分页获取: 100%|██████████| 1/1 [00:01<00:00,  1.44s/it]\n",
      "处理参考文献 https://openalex.org/W4400330719: 100%|██████████| 51/51 [00:59<00:00,  1.17s/it]\n"
     ]
    },
    {
     "name": "stdout",
     "output_type": "stream",
     "text": [
      "开始处理论文 https://openalex.org/W4400330719，总被引: 1，预计页数: 1\n"
     ]
    },
    {
     "name": "stderr",
     "output_type": "stream",
     "text": [
      "分页获取: 100%|██████████| 1/1 [00:01<00:00,  1.33s/it]\n",
      "处理参考文献 https://openalex.org/W4394819756: 100%|██████████| 53/53 [01:01<00:00,  1.16s/it]\n"
     ]
    },
    {
     "name": "stdout",
     "output_type": "stream",
     "text": [
      "开始处理论文 https://openalex.org/W4394819756，总被引: 1，预计页数: 1\n"
     ]
    },
    {
     "name": "stderr",
     "output_type": "stream",
     "text": [
      "分页获取: 100%|██████████| 1/1 [00:01<00:00,  1.31s/it]\n",
      "处理参考文献 https://openalex.org/W4281618651: 100%|██████████| 17/17 [00:20<00:00,  1.21s/it]\n"
     ]
    },
    {
     "name": "stdout",
     "output_type": "stream",
     "text": [
      "开始处理论文 https://openalex.org/W4281618651，总被引: 1，预计页数: 1\n"
     ]
    },
    {
     "name": "stderr",
     "output_type": "stream",
     "text": [
      "分页获取: 100%|██████████| 1/1 [00:01<00:00,  1.40s/it]\n",
      "处理种子论文:  55%|█████▌    | 1026/1849 [11:24:12<7:55:23, 34.66s/it]"
     ]
    },
    {
     "name": "stdout",
     "output_type": "stream",
     "text": [
      "已保存临时结果\n"
     ]
    },
    {
     "name": "stderr",
     "output_type": "stream",
     "text": [
      "处理参考文献 https://openalex.org/W4396813354: 100%|██████████| 17/17 [00:19<00:00,  1.15s/it]\n"
     ]
    },
    {
     "name": "stdout",
     "output_type": "stream",
     "text": [
      "开始处理论文 https://openalex.org/W4396813354，总被引: 1，预计页数: 1\n"
     ]
    },
    {
     "name": "stderr",
     "output_type": "stream",
     "text": [
      "分页获取: 100%|██████████| 1/1 [00:01<00:00,  1.36s/it]\n",
      "处理参考文献 https://openalex.org/W4399284154: 100%|██████████| 60/60 [01:11<00:00,  1.19s/it]\n"
     ]
    },
    {
     "name": "stdout",
     "output_type": "stream",
     "text": [
      "开始处理论文 https://openalex.org/W4399284154，总被引: 3，预计页数: 1\n"
     ]
    },
    {
     "name": "stderr",
     "output_type": "stream",
     "text": [
      "分页获取: 100%|██████████| 1/1 [00:01<00:00,  1.37s/it]\n",
      "处理种子论文:  56%|█████▌    | 1028/1849 [11:25:46<9:50:52, 43.18s/it]"
     ]
    },
    {
     "name": "stdout",
     "output_type": "stream",
     "text": [
      "警告: 论文 https://openalex.org/W4399284154 应获取 3 条，实际获取 4 条\n"
     ]
    },
    {
     "name": "stderr",
     "output_type": "stream",
     "text": [
      "处理参考文献 https://openalex.org/W4244498136: 100%|██████████| 24/24 [00:31<00:00,  1.30s/it]\n"
     ]
    },
    {
     "name": "stdout",
     "output_type": "stream",
     "text": [
      "开始处理论文 https://openalex.org/W4244498136，总被引: 2，预计页数: 1\n"
     ]
    },
    {
     "name": "stderr",
     "output_type": "stream",
     "text": [
      "分页获取: 100%|██████████| 1/1 [00:01<00:00,  1.39s/it]\n",
      "处理种子论文:  56%|█████▌    | 1029/1849 [11:26:18<9:06:28, 39.99s/it]"
     ]
    },
    {
     "name": "stdout",
     "output_type": "stream",
     "text": [
      "开始处理论文 https://openalex.org/W4390650207，总被引: 1，预计页数: 1\n"
     ]
    },
    {
     "name": "stderr",
     "output_type": "stream",
     "text": [
      "分页获取: 100%|██████████| 1/1 [00:01<00:00,  1.38s/it]\n",
      "处理参考文献 https://openalex.org/W4392516207: 100%|██████████| 26/26 [00:30<00:00,  1.19s/it]\n"
     ]
    },
    {
     "name": "stdout",
     "output_type": "stream",
     "text": [
      "开始处理论文 https://openalex.org/W4392516207，总被引: 2，预计页数: 1\n"
     ]
    },
    {
     "name": "stderr",
     "output_type": "stream",
     "text": [
      "分页获取: 100%|██████████| 1/1 [00:01<00:00,  1.38s/it]\n",
      "处理种子论文:  56%|█████▌    | 1031/1849 [11:26:59<7:10:29, 31.58s/it]"
     ]
    },
    {
     "name": "stdout",
     "output_type": "stream",
     "text": [
      "已保存临时结果\n"
     ]
    },
    {
     "name": "stderr",
     "output_type": "stream",
     "text": [
      "处理参考文献 https://openalex.org/W4395043838: 100%|██████████| 15/15 [00:17<00:00,  1.19s/it]\n"
     ]
    },
    {
     "name": "stdout",
     "output_type": "stream",
     "text": [
      "开始处理论文 https://openalex.org/W4395043838，总被引: 2，预计页数: 1\n"
     ]
    },
    {
     "name": "stderr",
     "output_type": "stream",
     "text": [
      "分页获取: 100%|██████████| 1/1 [00:01<00:00,  1.35s/it]\n",
      "处理参考文献 https://openalex.org/W4399583420: 100%|██████████| 33/33 [00:36<00:00,  1.11s/it]\n"
     ]
    },
    {
     "name": "stdout",
     "output_type": "stream",
     "text": [
      "开始处理论文 https://openalex.org/W4399583420，总被引: 2，预计页数: 1\n"
     ]
    },
    {
     "name": "stderr",
     "output_type": "stream",
     "text": [
      "分页获取: 100%|██████████| 1/1 [00:01<00:00,  1.61s/it]\n",
      "处理参考文献 https://openalex.org/W4385334596: 100%|██████████| 38/38 [00:45<00:00,  1.19s/it]\n"
     ]
    },
    {
     "name": "stdout",
     "output_type": "stream",
     "text": [
      "开始处理论文 https://openalex.org/W4385334596，总被引: 1，预计页数: 1\n"
     ]
    },
    {
     "name": "stderr",
     "output_type": "stream",
     "text": [
      "分页获取: 100%|██████████| 1/1 [00:01<00:00,  1.40s/it]\n",
      "处理参考文献 https://openalex.org/W4401707932: 100%|██████████| 38/38 [00:45<00:00,  1.19s/it]\n"
     ]
    },
    {
     "name": "stdout",
     "output_type": "stream",
     "text": [
      "开始处理论文 https://openalex.org/W4401707932，总被引: 2，预计页数: 1\n"
     ]
    },
    {
     "name": "stderr",
     "output_type": "stream",
     "text": [
      "分页获取: 100%|██████████| 1/1 [00:01<00:00,  1.45s/it]\n",
      "处理参考文献 https://openalex.org/W4391699037: 100%|██████████| 18/18 [00:20<00:00,  1.15s/it]\n"
     ]
    },
    {
     "name": "stdout",
     "output_type": "stream",
     "text": [
      "开始处理论文 https://openalex.org/W4391699037，总被引: 1，预计页数: 1\n"
     ]
    },
    {
     "name": "stderr",
     "output_type": "stream",
     "text": [
      "分页获取: 100%|██████████| 1/1 [00:01<00:00,  1.32s/it]\n",
      "处理种子论文:  56%|█████▌    | 1036/1849 [11:29:58<8:06:17, 35.89s/it]"
     ]
    },
    {
     "name": "stdout",
     "output_type": "stream",
     "text": [
      "已保存临时结果\n"
     ]
    },
    {
     "name": "stderr",
     "output_type": "stream",
     "text": [
      "处理参考文献 https://openalex.org/W4391290519: 100%|██████████| 19/19 [00:20<00:00,  1.09s/it]\n"
     ]
    },
    {
     "name": "stdout",
     "output_type": "stream",
     "text": [
      "开始处理论文 https://openalex.org/W4391290519，总被引: 1，预计页数: 1\n"
     ]
    },
    {
     "name": "stderr",
     "output_type": "stream",
     "text": [
      "分页获取: 100%|██████████| 1/1 [00:01<00:00,  1.30s/it]\n",
      "处理参考文献 https://openalex.org/W4378083619: 100%|██████████| 17/17 [00:20<00:00,  1.20s/it]\n"
     ]
    },
    {
     "name": "stdout",
     "output_type": "stream",
     "text": [
      "开始处理论文 https://openalex.org/W4378083619，总被引: 1，预计页数: 1\n"
     ]
    },
    {
     "name": "stderr",
     "output_type": "stream",
     "text": [
      "分页获取: 100%|██████████| 1/1 [00:01<00:00,  1.39s/it]\n",
      "处理参考文献 https://openalex.org/W4401363662: 100%|██████████| 11/11 [00:12<00:00,  1.17s/it]\n"
     ]
    },
    {
     "name": "stdout",
     "output_type": "stream",
     "text": [
      "开始处理论文 https://openalex.org/W4401363662，总被引: 1，预计页数: 1\n"
     ]
    },
    {
     "name": "stderr",
     "output_type": "stream",
     "text": [
      "分页获取: 100%|██████████| 1/1 [00:01<00:00,  1.87s/it]\n",
      "处理参考文献 https://openalex.org/W3197118614: 100%|██████████| 17/17 [00:18<00:00,  1.11s/it]\n"
     ]
    },
    {
     "name": "stdout",
     "output_type": "stream",
     "text": [
      "开始处理论文 https://openalex.org/W3197118614，总被引: 1，预计页数: 1\n"
     ]
    },
    {
     "name": "stderr",
     "output_type": "stream",
     "text": [
      "分页获取: 100%|██████████| 1/1 [00:01<00:00,  1.33s/it]\n",
      "处理参考文献 https://openalex.org/W4393435552: 100%|██████████| 9/9 [00:09<00:00,  1.07s/it]\n"
     ]
    },
    {
     "name": "stdout",
     "output_type": "stream",
     "text": [
      "开始处理论文 https://openalex.org/W4393435552，总被引: 1，预计页数: 1\n"
     ]
    },
    {
     "name": "stderr",
     "output_type": "stream",
     "text": [
      "分页获取: 100%|██████████| 1/1 [00:01<00:00,  1.41s/it]\n",
      "处理种子论文:  56%|█████▋    | 1041/1849 [11:31:35<4:50:26, 21.57s/it]"
     ]
    },
    {
     "name": "stdout",
     "output_type": "stream",
     "text": [
      "已保存临时结果\n"
     ]
    },
    {
     "name": "stderr",
     "output_type": "stream",
     "text": [
      "处理参考文献 https://openalex.org/W4294626595: 100%|██████████| 34/34 [00:41<00:00,  1.23s/it]\n"
     ]
    },
    {
     "name": "stdout",
     "output_type": "stream",
     "text": [
      "开始处理论文 https://openalex.org/W4294626595，总被引: 1，预计页数: 1\n"
     ]
    },
    {
     "name": "stderr",
     "output_type": "stream",
     "text": [
      "分页获取: 100%|██████████| 1/1 [00:01<00:00,  1.39s/it]\n",
      "处理参考文献 https://openalex.org/W4312769455: 100%|██████████| 9/9 [00:10<00:00,  1.18s/it]\n"
     ]
    },
    {
     "name": "stdout",
     "output_type": "stream",
     "text": [
      "开始处理论文 https://openalex.org/W4312769455，总被引: 1，预计页数: 1\n"
     ]
    },
    {
     "name": "stderr",
     "output_type": "stream",
     "text": [
      "分页获取: 100%|██████████| 1/1 [00:01<00:00,  1.39s/it]\n",
      "处理参考文献 https://openalex.org/W4384567368: 100%|██████████| 50/50 [01:00<00:00,  1.20s/it]\n"
     ]
    },
    {
     "name": "stdout",
     "output_type": "stream",
     "text": [
      "开始处理论文 https://openalex.org/W4384567368，总被引: 9，预计页数: 1\n"
     ]
    },
    {
     "name": "stderr",
     "output_type": "stream",
     "text": [
      "分页获取: 100%|██████████| 1/1 [00:01<00:00,  1.68s/it]\n",
      "处理参考文献 https://openalex.org/W4285729986: 100%|██████████| 5/5 [00:06<00:00,  1.24s/it]\n"
     ]
    },
    {
     "name": "stdout",
     "output_type": "stream",
     "text": [
      "开始处理论文 https://openalex.org/W4285729986，总被引: 1，预计页数: 1\n"
     ]
    },
    {
     "name": "stderr",
     "output_type": "stream",
     "text": [
      "分页获取: 100%|██████████| 1/1 [00:01<00:00,  1.42s/it]\n",
      "处理参考文献 https://openalex.org/W4313305004: 100%|██████████| 8/8 [00:09<00:00,  1.17s/it]\n"
     ]
    },
    {
     "name": "stdout",
     "output_type": "stream",
     "text": [
      "开始处理论文 https://openalex.org/W4313305004，总被引: 1，预计页数: 1\n"
     ]
    },
    {
     "name": "stderr",
     "output_type": "stream",
     "text": [
      "分页获取: 100%|██████████| 1/1 [00:01<00:00,  1.31s/it]\n",
      "处理种子论文:  57%|█████▋    | 1046/1849 [11:33:57<5:20:24, 23.94s/it]"
     ]
    },
    {
     "name": "stdout",
     "output_type": "stream",
     "text": [
      "已保存临时结果\n"
     ]
    },
    {
     "name": "stderr",
     "output_type": "stream",
     "text": [
      "处理参考文献 https://openalex.org/W4402490421: 100%|██████████| 7/7 [00:07<00:00,  1.11s/it]\n"
     ]
    },
    {
     "name": "stdout",
     "output_type": "stream",
     "text": [
      "开始处理论文 https://openalex.org/W4402490421，总被引: 1，预计页数: 1\n"
     ]
    },
    {
     "name": "stderr",
     "output_type": "stream",
     "text": [
      "分页获取: 100%|██████████| 1/1 [00:01<00:00,  1.32s/it]\n",
      "处理参考文献 https://openalex.org/W4387052584: 100%|██████████| 34/34 [00:39<00:00,  1.17s/it]\n"
     ]
    },
    {
     "name": "stdout",
     "output_type": "stream",
     "text": [
      "开始处理论文 https://openalex.org/W4387052584，总被引: 1，预计页数: 1\n"
     ]
    },
    {
     "name": "stderr",
     "output_type": "stream",
     "text": [
      "分页获取: 100%|██████████| 1/1 [00:01<00:00,  1.38s/it]\n",
      "处理参考文献 https://openalex.org/W4393225513: 100%|██████████| 61/61 [01:13<00:00,  1.20s/it]\n"
     ]
    },
    {
     "name": "stdout",
     "output_type": "stream",
     "text": [
      "开始处理论文 https://openalex.org/W4393225513，总被引: 1，预计页数: 1\n"
     ]
    },
    {
     "name": "stderr",
     "output_type": "stream",
     "text": [
      "分页获取: 100%|██████████| 1/1 [00:01<00:00,  1.34s/it]\n",
      "处理参考文献 https://openalex.org/W4392165975: 100%|██████████| 6/6 [00:06<00:00,  1.12s/it]\n"
     ]
    },
    {
     "name": "stdout",
     "output_type": "stream",
     "text": [
      "开始处理论文 https://openalex.org/W4392165975，总被引: 1，预计页数: 1\n"
     ]
    },
    {
     "name": "stderr",
     "output_type": "stream",
     "text": [
      "分页获取: 100%|██████████| 1/1 [00:01<00:00,  1.33s/it]\n",
      "处理参考文献 https://openalex.org/W4401418144: 100%|██████████| 16/16 [00:17<00:00,  1.11s/it]\n"
     ]
    },
    {
     "name": "stdout",
     "output_type": "stream",
     "text": [
      "开始处理论文 https://openalex.org/W4401418144，总被引: 1，预计页数: 1\n"
     ]
    },
    {
     "name": "stderr",
     "output_type": "stream",
     "text": [
      "分页获取: 100%|██████████| 1/1 [00:01<00:00,  1.48s/it]\n",
      "处理种子论文:  57%|█████▋    | 1051/1849 [11:36:36<6:31:46, 29.46s/it]"
     ]
    },
    {
     "name": "stdout",
     "output_type": "stream",
     "text": [
      "已保存临时结果\n"
     ]
    },
    {
     "name": "stderr",
     "output_type": "stream",
     "text": [
      "处理参考文献 https://openalex.org/W4396556122: 100%|██████████| 6/6 [00:08<00:00,  1.37s/it]\n"
     ]
    },
    {
     "name": "stdout",
     "output_type": "stream",
     "text": [
      "开始处理论文 https://openalex.org/W4396556122，总被引: 2，预计页数: 1\n"
     ]
    },
    {
     "name": "stderr",
     "output_type": "stream",
     "text": [
      "分页获取: 100%|██████████| 1/1 [00:01<00:00,  1.44s/it]\n",
      "处理参考文献 https://openalex.org/W4403122976: 100%|██████████| 40/40 [00:46<00:00,  1.15s/it]\n"
     ]
    },
    {
     "name": "stdout",
     "output_type": "stream",
     "text": [
      "开始处理论文 https://openalex.org/W4403122976，总被引: 6，预计页数: 1\n"
     ]
    },
    {
     "name": "stderr",
     "output_type": "stream",
     "text": [
      "分页获取: 100%|██████████| 1/1 [00:01<00:00,  1.66s/it]\n",
      "处理参考文献 https://openalex.org/W4387354374: 100%|██████████| 7/7 [00:08<00:00,  1.16s/it]\n"
     ]
    },
    {
     "name": "stdout",
     "output_type": "stream",
     "text": [
      "开始处理论文 https://openalex.org/W4387354374，总被引: 1，预计页数: 1\n"
     ]
    },
    {
     "name": "stderr",
     "output_type": "stream",
     "text": [
      "分页获取: 100%|██████████| 1/1 [00:01<00:00,  1.51s/it]\n",
      "处理参考文献 https://openalex.org/W4407243994: 100%|██████████| 24/24 [00:26<00:00,  1.12s/it]\n"
     ]
    },
    {
     "name": "stdout",
     "output_type": "stream",
     "text": [
      "开始处理论文 https://openalex.org/W4407243994，总被引: 1，预计页数: 1\n"
     ]
    },
    {
     "name": "stderr",
     "output_type": "stream",
     "text": [
      "分页获取: 100%|██████████| 1/1 [00:01<00:00,  1.34s/it]\n",
      "处理参考文献 https://openalex.org/W4252877708: 100%|██████████| 1/1 [00:01<00:00,  1.19s/it]\n"
     ]
    },
    {
     "name": "stdout",
     "output_type": "stream",
     "text": [
      "开始处理论文 https://openalex.org/W4252877708，总被引: 1，预计页数: 1\n"
     ]
    },
    {
     "name": "stderr",
     "output_type": "stream",
     "text": [
      "分页获取: 100%|██████████| 1/1 [00:01<00:00,  1.36s/it]\n",
      "处理种子论文:  57%|█████▋    | 1056/1849 [11:38:21<4:34:05, 20.74s/it]"
     ]
    },
    {
     "name": "stdout",
     "output_type": "stream",
     "text": [
      "已保存临时结果\n"
     ]
    },
    {
     "name": "stderr",
     "output_type": "stream",
     "text": [
      "处理参考文献 https://openalex.org/W3206910410: 100%|██████████| 5/5 [00:05<00:00,  1.12s/it]\n"
     ]
    },
    {
     "name": "stdout",
     "output_type": "stream",
     "text": [
      "开始处理论文 https://openalex.org/W3206910410，总被引: 1，预计页数: 1\n"
     ]
    },
    {
     "name": "stderr",
     "output_type": "stream",
     "text": [
      "分页获取: 100%|██████████| 1/1 [00:01<00:00,  1.32s/it]\n",
      "处理种子论文:  57%|█████▋    | 1057/1849 [11:38:28<3:39:08, 16.60s/it]"
     ]
    },
    {
     "name": "stdout",
     "output_type": "stream",
     "text": [
      "开始处理论文 https://openalex.org/W3041264183，总被引: 8，预计页数: 1\n"
     ]
    },
    {
     "name": "stderr",
     "output_type": "stream",
     "text": [
      "分页获取: 100%|██████████| 1/1 [00:01<00:00,  1.93s/it]\n",
      "处理参考文献 https://openalex.org/W4399891658: 100%|██████████| 96/96 [01:51<00:00,  1.16s/it]\n"
     ]
    },
    {
     "name": "stdout",
     "output_type": "stream",
     "text": [
      "开始处理论文 https://openalex.org/W4399891658，总被引: 1，预计页数: 1\n"
     ]
    },
    {
     "name": "stderr",
     "output_type": "stream",
     "text": [
      "分页获取: 100%|██████████| 1/1 [00:01<00:00,  1.37s/it]\n",
      "处理参考文献 https://openalex.org/W4404067778: 100%|██████████| 54/54 [01:03<00:00,  1.17s/it]\n"
     ]
    },
    {
     "name": "stdout",
     "output_type": "stream",
     "text": [
      "开始处理论文 https://openalex.org/W4404067778，总被引: 1，预计页数: 1\n"
     ]
    },
    {
     "name": "stderr",
     "output_type": "stream",
     "text": [
      "分页获取: 100%|██████████| 1/1 [00:01<00:00,  1.32s/it]\n",
      "处理种子论文:  57%|█████▋    | 1060/1849 [11:41:27<10:44:54, 49.04s/it]"
     ]
    },
    {
     "name": "stdout",
     "output_type": "stream",
     "text": [
      "开始处理论文 https://openalex.org/W4404852800，总被引: 1，预计页数: 1\n"
     ]
    },
    {
     "name": "stderr",
     "output_type": "stream",
     "text": [
      "分页获取: 100%|██████████| 1/1 [00:01<00:00,  1.77s/it]\n",
      "处理种子论文:  57%|█████▋    | 1061/1849 [11:41:36<8:04:05, 36.86s/it] "
     ]
    },
    {
     "name": "stdout",
     "output_type": "stream",
     "text": [
      "已保存临时结果\n"
     ]
    },
    {
     "name": "stderr",
     "output_type": "stream",
     "text": [
      "处理参考文献 https://openalex.org/W4392518402: 100%|██████████| 5/5 [00:05<00:00,  1.11s/it]\n"
     ]
    },
    {
     "name": "stdout",
     "output_type": "stream",
     "text": [
      "开始处理论文 https://openalex.org/W4392518402，总被引: 1，预计页数: 1\n"
     ]
    },
    {
     "name": "stderr",
     "output_type": "stream",
     "text": [
      "分页获取: 100%|██████████| 1/1 [00:01<00:00,  1.34s/it]\n",
      "处理参考文献 https://openalex.org/W3092422639: 100%|██████████| 1/1 [00:01<00:00,  1.03s/it]\n"
     ]
    },
    {
     "name": "stdout",
     "output_type": "stream",
     "text": [
      "开始处理论文 https://openalex.org/W3092422639，总被引: 1，预计页数: 1\n"
     ]
    },
    {
     "name": "stderr",
     "output_type": "stream",
     "text": [
      "分页获取: 100%|██████████| 1/1 [00:01<00:00,  1.63s/it]\n",
      "处理参考文献 https://openalex.org/W4391713824: 100%|██████████| 12/12 [00:13<00:00,  1.13s/it]\n"
     ]
    },
    {
     "name": "stdout",
     "output_type": "stream",
     "text": [
      "开始处理论文 https://openalex.org/W4391713824，总被引: 1，预计页数: 1\n"
     ]
    },
    {
     "name": "stderr",
     "output_type": "stream",
     "text": [
      "分页获取: 100%|██████████| 1/1 [00:01<00:00,  1.35s/it]\n",
      "处理参考文献 https://openalex.org/W4386453033: 100%|██████████| 11/11 [00:12<00:00,  1.12s/it]\n"
     ]
    },
    {
     "name": "stdout",
     "output_type": "stream",
     "text": [
      "开始处理论文 https://openalex.org/W4386453033，总被引: 1，预计页数: 1\n"
     ]
    },
    {
     "name": "stderr",
     "output_type": "stream",
     "text": [
      "分页获取: 100%|██████████| 1/1 [00:01<00:00,  1.40s/it]\n",
      "处理参考文献 https://openalex.org/W3183398756: 100%|██████████| 1/1 [00:01<00:00,  1.16s/it]\n"
     ]
    },
    {
     "name": "stdout",
     "output_type": "stream",
     "text": [
      "开始处理论文 https://openalex.org/W3183398756，总被引: 1，预计页数: 1\n"
     ]
    },
    {
     "name": "stderr",
     "output_type": "stream",
     "text": [
      "分页获取: 100%|██████████| 1/1 [00:01<00:00,  1.42s/it]\n",
      "处理种子论文:  58%|█████▊    | 1066/1849 [11:42:24<3:13:50, 14.85s/it]"
     ]
    },
    {
     "name": "stdout",
     "output_type": "stream",
     "text": [
      "已保存临时结果\n"
     ]
    },
    {
     "name": "stderr",
     "output_type": "stream",
     "text": [
      "处理参考文献 https://openalex.org/W4392162769: 100%|██████████| 24/24 [00:28<00:00,  1.19s/it]\n"
     ]
    },
    {
     "name": "stdout",
     "output_type": "stream",
     "text": [
      "开始处理论文 https://openalex.org/W4392162769，总被引: 2，预计页数: 1\n"
     ]
    },
    {
     "name": "stderr",
     "output_type": "stream",
     "text": [
      "分页获取: 100%|██████████| 1/1 [00:01<00:00,  1.46s/it]\n",
      "处理参考文献 https://openalex.org/W3131721780: 100%|██████████| 12/12 [00:13<00:00,  1.13s/it]\n"
     ]
    },
    {
     "name": "stdout",
     "output_type": "stream",
     "text": [
      "开始处理论文 https://openalex.org/W3131721780，总被引: 32，预计页数: 1\n"
     ]
    },
    {
     "name": "stderr",
     "output_type": "stream",
     "text": [
      "分页获取: 100%|██████████| 1/1 [00:02<00:00,  2.32s/it]\n",
      "处理参考文献 https://openalex.org/W2953274773: 100%|██████████| 14/14 [00:17<00:00,  1.24s/it]\n"
     ]
    },
    {
     "name": "stdout",
     "output_type": "stream",
     "text": [
      "开始处理论文 https://openalex.org/W2953274773，总被引: 1，预计页数: 1\n"
     ]
    },
    {
     "name": "stderr",
     "output_type": "stream",
     "text": [
      "分页获取: 100%|██████████| 1/1 [00:01<00:00,  1.58s/it]\n",
      "处理参考文献 https://openalex.org/W4391489450: 100%|██████████| 32/32 [00:38<00:00,  1.22s/it]\n"
     ]
    },
    {
     "name": "stdout",
     "output_type": "stream",
     "text": [
      "开始处理论文 https://openalex.org/W4391489450，总被引: 1，预计页数: 1\n"
     ]
    },
    {
     "name": "stderr",
     "output_type": "stream",
     "text": [
      "分页获取: 100%|██████████| 1/1 [00:01<00:00,  1.34s/it]\n",
      "处理参考文献 https://openalex.org/W4402449477: 100%|██████████| 30/30 [00:34<00:00,  1.14s/it]\n"
     ]
    },
    {
     "name": "stdout",
     "output_type": "stream",
     "text": [
      "开始处理论文 https://openalex.org/W4402449477，总被引: 1，预计页数: 1\n"
     ]
    },
    {
     "name": "stderr",
     "output_type": "stream",
     "text": [
      "分页获取: 100%|██████████| 1/1 [00:01<00:00,  1.43s/it]\n",
      "处理种子论文:  58%|█████▊    | 1071/1849 [11:44:51<6:33:08, 30.32s/it]"
     ]
    },
    {
     "name": "stdout",
     "output_type": "stream",
     "text": [
      "已保存临时结果\n",
      "开始处理论文 https://openalex.org/W4386004756，总被引: 1，预计页数: 1\n"
     ]
    },
    {
     "name": "stderr",
     "output_type": "stream",
     "text": [
      "分页获取: 100%|██████████| 1/1 [00:01<00:00,  1.31s/it]\n",
      "处理参考文献 https://openalex.org/W4387614334: 100%|██████████| 31/31 [00:36<00:00,  1.18s/it]\n"
     ]
    },
    {
     "name": "stdout",
     "output_type": "stream",
     "text": [
      "开始处理论文 https://openalex.org/W4387614334，总被引: 1，预计页数: 1\n"
     ]
    },
    {
     "name": "stderr",
     "output_type": "stream",
     "text": [
      "分页获取: 100%|██████████| 1/1 [00:01<00:00,  1.34s/it]\n",
      "处理种子论文:  58%|█████▊    | 1073/1849 [11:45:31<5:42:54, 26.51s/it]"
     ]
    },
    {
     "name": "stdout",
     "output_type": "stream",
     "text": [
      "开始处理论文 https://openalex.org/W4406756422，总被引: 1，预计页数: 1\n"
     ]
    },
    {
     "name": "stderr",
     "output_type": "stream",
     "text": [
      "分页获取: 100%|██████████| 1/1 [00:01<00:00,  1.41s/it]\n",
      "处理参考文献 https://openalex.org/W2966700789: 100%|██████████| 8/8 [00:09<00:00,  1.14s/it]\n"
     ]
    },
    {
     "name": "stdout",
     "output_type": "stream",
     "text": [
      "开始处理论文 https://openalex.org/W2966700789，总被引: 18，预计页数: 1\n"
     ]
    },
    {
     "name": "stderr",
     "output_type": "stream",
     "text": [
      "分页获取: 100%|██████████| 1/1 [00:02<00:00,  2.17s/it]\n",
      "处理种子论文:  58%|█████▊    | 1075/1849 [11:45:43<3:35:18, 16.69s/it]"
     ]
    },
    {
     "name": "stdout",
     "output_type": "stream",
     "text": [
      "警告: 论文 https://openalex.org/W2966700789 应获取 18 条，实际获取 19 条\n"
     ]
    },
    {
     "name": "stderr",
     "output_type": "stream",
     "text": [
      "处理参考文献 https://openalex.org/W4205253490: 100%|██████████| 10/10 [00:11<00:00,  1.19s/it]\n"
     ]
    },
    {
     "name": "stdout",
     "output_type": "stream",
     "text": [
      "开始处理论文 https://openalex.org/W4205253490，总被引: 1，预计页数: 1\n"
     ]
    },
    {
     "name": "stderr",
     "output_type": "stream",
     "text": [
      "分页获取: 100%|██████████| 1/1 [00:01<00:00,  1.48s/it]\n",
      "处理种子论文:  58%|█████▊    | 1076/1849 [11:46:03<3:48:12, 17.71s/it]"
     ]
    },
    {
     "name": "stdout",
     "output_type": "stream",
     "text": [
      "已保存临时结果\n"
     ]
    },
    {
     "name": "stderr",
     "output_type": "stream",
     "text": [
      "处理参考文献 https://openalex.org/W3032903051: 100%|██████████| 30/30 [00:34<00:00,  1.15s/it]\n"
     ]
    },
    {
     "name": "stdout",
     "output_type": "stream",
     "text": [
      "开始处理论文 https://openalex.org/W3032903051，总被引: 28，预计页数: 1\n"
     ]
    },
    {
     "name": "stderr",
     "output_type": "stream",
     "text": [
      "分页获取: 100%|██████████| 1/1 [00:02<00:00,  2.71s/it]\n",
      "处理种子论文:  58%|█████▊    | 1077/1849 [11:46:41<5:03:50, 23.61s/it]"
     ]
    },
    {
     "name": "stdout",
     "output_type": "stream",
     "text": [
      "开始处理论文 https://openalex.org/W4403229326，总被引: 1，预计页数: 1\n"
     ]
    },
    {
     "name": "stderr",
     "output_type": "stream",
     "text": [
      "分页获取: 100%|██████████| 1/1 [00:01<00:00,  1.42s/it]\n",
      "处理参考文献 https://openalex.org/W4396723481: 100%|██████████| 6/6 [00:06<00:00,  1.08s/it]\n"
     ]
    },
    {
     "name": "stdout",
     "output_type": "stream",
     "text": [
      "开始处理论文 https://openalex.org/W4396723481，总被引: 1，预计页数: 1\n"
     ]
    },
    {
     "name": "stderr",
     "output_type": "stream",
     "text": [
      "分页获取: 100%|██████████| 1/1 [00:01<00:00,  1.32s/it]\n",
      "处理参考文献 https://openalex.org/W4403576934: 100%|██████████| 128/128 [02:32<00:00,  1.19s/it]\n"
     ]
    },
    {
     "name": "stdout",
     "output_type": "stream",
     "text": [
      "开始处理论文 https://openalex.org/W4403576934，总被引: 1，预计页数: 1\n"
     ]
    },
    {
     "name": "stderr",
     "output_type": "stream",
     "text": [
      "分页获取: 100%|██████████| 1/1 [00:01<00:00,  1.37s/it]\n",
      "处理参考文献 https://openalex.org/W4406030392: 100%|██████████| 100/100 [01:54<00:00,  1.15s/it]\n"
     ]
    },
    {
     "name": "stdout",
     "output_type": "stream",
     "text": [
      "开始处理论文 https://openalex.org/W4406030392，总被引: 1，预计页数: 1\n"
     ]
    },
    {
     "name": "stderr",
     "output_type": "stream",
     "text": [
      "分页获取: 100%|██████████| 1/1 [00:01<00:00,  1.51s/it]\n",
      "处理种子论文:  58%|█████▊    | 1081/1849 [11:51:27<16:16:28, 76.29s/it]"
     ]
    },
    {
     "name": "stdout",
     "output_type": "stream",
     "text": [
      "已保存临时结果\n"
     ]
    },
    {
     "name": "stderr",
     "output_type": "stream",
     "text": [
      "处理参考文献 https://openalex.org/W4393006695: 100%|██████████| 8/8 [00:08<00:00,  1.11s/it]\n"
     ]
    },
    {
     "name": "stdout",
     "output_type": "stream",
     "text": [
      "开始处理论文 https://openalex.org/W4393006695，总被引: 1，预计页数: 1\n"
     ]
    },
    {
     "name": "stderr",
     "output_type": "stream",
     "text": [
      "分页获取: 100%|██████████| 1/1 [00:01<00:00,  1.35s/it]\n",
      "处理参考文献 https://openalex.org/W4380322355: 100%|██████████| 2/2 [00:02<00:00,  1.16s/it]\n"
     ]
    },
    {
     "name": "stdout",
     "output_type": "stream",
     "text": [
      "开始处理论文 https://openalex.org/W4380322355，总被引: 1，预计页数: 1\n"
     ]
    },
    {
     "name": "stderr",
     "output_type": "stream",
     "text": [
      "分页获取: 100%|██████████| 1/1 [00:01<00:00,  1.41s/it]\n",
      "处理种子论文:  59%|█████▊    | 1083/1849 [11:51:41<8:39:22, 40.68s/it] "
     ]
    },
    {
     "name": "stdout",
     "output_type": "stream",
     "text": [
      "开始处理论文 https://openalex.org/W3088617563，总被引: 1，预计页数: 1\n"
     ]
    },
    {
     "name": "stderr",
     "output_type": "stream",
     "text": [
      "分页获取: 100%|██████████| 1/1 [00:01<00:00,  1.41s/it]\n",
      "处理参考文献 https://openalex.org/W4396957617: 100%|██████████| 2/2 [00:02<00:00,  1.19s/it]\n"
     ]
    },
    {
     "name": "stdout",
     "output_type": "stream",
     "text": [
      "开始处理论文 https://openalex.org/W4396957617，总被引: 1，预计页数: 1\n"
     ]
    },
    {
     "name": "stderr",
     "output_type": "stream",
     "text": [
      "分页获取: 100%|██████████| 1/1 [00:01<00:00,  1.34s/it]\n",
      "处理种子论文:  59%|█████▊    | 1086/1849 [11:51:53<3:48:37, 17.98s/it]"
     ]
    },
    {
     "name": "stdout",
     "output_type": "stream",
     "text": [
      "已保存临时结果\n"
     ]
    },
    {
     "name": "stderr",
     "output_type": "stream",
     "text": []
    },
    {
     "name": "stdout",
     "output_type": "stream",
     "text": [
      "获取论文W4286907227时出错：('Connection aborted.', ConnectionResetError(10054, 'An existing connection was forcibly closed by the remote host', None, 10054, None))\n"
     ]
    },
    {
     "name": "stderr",
     "output_type": "stream",
     "text": [
      "处理参考文献 https://openalex.org/W4285277404: 100%|██████████| 29/29 [00:37<00:00,  1.28s/it]\n"
     ]
    },
    {
     "name": "stdout",
     "output_type": "stream",
     "text": [
      "开始处理论文 https://openalex.org/W4285277404，总被引: 3，预计页数: 1\n"
     ]
    },
    {
     "name": "stderr",
     "output_type": "stream",
     "text": [
      "分页获取: 100%|██████████| 1/1 [00:01<00:00,  1.42s/it]\n",
      "处理参考文献 https://openalex.org/W4405403465: 100%|██████████| 5/5 [00:05<00:00,  1.08s/it]\n"
     ]
    },
    {
     "name": "stdout",
     "output_type": "stream",
     "text": [
      "开始处理论文 https://openalex.org/W4405403465，总被引: 1，预计页数: 1\n"
     ]
    },
    {
     "name": "stderr",
     "output_type": "stream",
     "text": [
      "分页获取: 100%|██████████| 1/1 [00:01<00:00,  1.36s/it]\n",
      "处理参考文献 https://openalex.org/W4404500196: 100%|██████████| 139/139 [02:37<00:00,  1.13s/it]\n"
     ]
    },
    {
     "name": "stdout",
     "output_type": "stream",
     "text": [
      "开始处理论文 https://openalex.org/W4404500196，总被引: 1，预计页数: 1\n"
     ]
    },
    {
     "name": "stderr",
     "output_type": "stream",
     "text": [
      "分页获取: 100%|██████████| 1/1 [00:01<00:00,  1.40s/it]\n",
      "处理参考文献 https://openalex.org/W4393435697: 100%|██████████| 21/21 [00:24<00:00,  1.19s/it]\n"
     ]
    },
    {
     "name": "stdout",
     "output_type": "stream",
     "text": [
      "开始处理论文 https://openalex.org/W4393435697，总被引: 2，预计页数: 1\n"
     ]
    },
    {
     "name": "stderr",
     "output_type": "stream",
     "text": [
      "分页获取: 100%|██████████| 1/1 [00:01<00:00,  1.39s/it]\n",
      "处理参考文献 https://openalex.org/W4361771275: 100%|██████████| 15/15 [00:16<00:00,  1.13s/it]\n"
     ]
    },
    {
     "name": "stdout",
     "output_type": "stream",
     "text": [
      "开始处理论文 https://openalex.org/W4361771275，总被引: 1，预计页数: 1\n"
     ]
    },
    {
     "name": "stderr",
     "output_type": "stream",
     "text": [
      "分页获取: 100%|██████████| 1/1 [00:01<00:00,  1.31s/it]\n",
      "处理种子论文:  59%|█████▉    | 1091/1849 [11:56:10<8:48:38, 41.85s/it] "
     ]
    },
    {
     "name": "stdout",
     "output_type": "stream",
     "text": [
      "已保存临时结果\n"
     ]
    },
    {
     "name": "stderr",
     "output_type": "stream",
     "text": []
    },
    {
     "name": "stdout",
     "output_type": "stream",
     "text": [
      "获取论文W1993617851失败，状态码：404\n"
     ]
    },
    {
     "name": "stderr",
     "output_type": "stream",
     "text": [
      "处理参考文献 https://openalex.org/W3096426450: 100%|██████████| 30/30 [00:36<00:00,  1.21s/it]\n"
     ]
    },
    {
     "name": "stdout",
     "output_type": "stream",
     "text": [
      "开始处理论文 https://openalex.org/W3096426450，总被引: 5，预计页数: 1\n"
     ]
    },
    {
     "name": "stderr",
     "output_type": "stream",
     "text": [
      "分页获取: 100%|██████████| 1/1 [00:01<00:00,  1.81s/it]\n",
      "处理参考文献 https://openalex.org/W4401588031: 100%|██████████| 19/19 [00:22<00:00,  1.18s/it]\n"
     ]
    },
    {
     "name": "stdout",
     "output_type": "stream",
     "text": [
      "开始处理论文 https://openalex.org/W4401588031，总被引: 1，预计页数: 1\n"
     ]
    },
    {
     "name": "stderr",
     "output_type": "stream",
     "text": [
      "分页获取: 100%|██████████| 1/1 [00:01<00:00,  1.40s/it]\n",
      "处理参考文献 https://openalex.org/W4399025839: 100%|██████████| 5/5 [00:05<00:00,  1.19s/it]\n"
     ]
    },
    {
     "name": "stdout",
     "output_type": "stream",
     "text": [
      "开始处理论文 https://openalex.org/W4399025839，总被引: 1，预计页数: 1\n"
     ]
    },
    {
     "name": "stderr",
     "output_type": "stream",
     "text": [
      "分页获取: 100%|██████████| 1/1 [00:01<00:00,  1.35s/it]\n",
      "处理参考文献 https://openalex.org/W4401252348: 100%|██████████| 41/41 [00:44<00:00,  1.08s/it]\n"
     ]
    },
    {
     "name": "stdout",
     "output_type": "stream",
     "text": [
      "开始处理论文 https://openalex.org/W4401252348，总被引: 1，预计页数: 1\n"
     ]
    },
    {
     "name": "stderr",
     "output_type": "stream",
     "text": [
      "分页获取: 100%|██████████| 1/1 [00:01<00:00,  1.31s/it]\n",
      "处理参考文献 https://openalex.org/W4313528501: 100%|██████████| 139/139 [02:43<00:00,  1.17s/it]\n"
     ]
    },
    {
     "name": "stdout",
     "output_type": "stream",
     "text": [
      "开始处理论文 https://openalex.org/W4313528501，总被引: 4，预计页数: 1\n"
     ]
    },
    {
     "name": "stderr",
     "output_type": "stream",
     "text": [
      "分页获取: 100%|██████████| 1/1 [00:01<00:00,  1.47s/it]\n",
      "处理种子论文:  59%|█████▉    | 1096/1849 [12:00:56<15:30:03, 74.11s/it]"
     ]
    },
    {
     "name": "stdout",
     "output_type": "stream",
     "text": [
      "已保存临时结果\n",
      "开始处理论文 https://openalex.org/W2067374515，总被引: 2，预计页数: 1\n"
     ]
    },
    {
     "name": "stderr",
     "output_type": "stream",
     "text": [
      "分页获取: 100%|██████████| 1/1 [00:01<00:00,  1.35s/it]\n",
      "处理参考文献 https://openalex.org/W4367154580: 100%|██████████| 4/4 [00:04<00:00,  1.09s/it]\n"
     ]
    },
    {
     "name": "stdout",
     "output_type": "stream",
     "text": [
      "开始处理论文 https://openalex.org/W4367154580，总被引: 3，预计页数: 1\n"
     ]
    },
    {
     "name": "stderr",
     "output_type": "stream",
     "text": [
      "分页获取: 100%|██████████| 1/1 [00:01<00:00,  1.63s/it]\n",
      "处理参考文献 https://openalex.org/W3126713774: 100%|██████████| 33/33 [00:38<00:00,  1.16s/it]\n"
     ]
    },
    {
     "name": "stdout",
     "output_type": "stream",
     "text": [
      "开始处理论文 https://openalex.org/W3126713774，总被引: 40，预计页数: 1\n"
     ]
    },
    {
     "name": "stderr",
     "output_type": "stream",
     "text": [
      "分页获取: 100%|██████████| 1/1 [00:02<00:00,  2.14s/it]\n",
      "处理参考文献 https://openalex.org/W4395011056: 100%|██████████| 17/17 [00:19<00:00,  1.15s/it]\n"
     ]
    },
    {
     "name": "stdout",
     "output_type": "stream",
     "text": [
      "开始处理论文 https://openalex.org/W4395011056，总被引: 1，预计页数: 1\n"
     ]
    },
    {
     "name": "stderr",
     "output_type": "stream",
     "text": [
      "分页获取: 100%|██████████| 1/1 [00:01<00:00,  1.43s/it]\n",
      "处理参考文献 https://openalex.org/W4400867616: 100%|██████████| 44/44 [00:51<00:00,  1.18s/it]\n"
     ]
    },
    {
     "name": "stdout",
     "output_type": "stream",
     "text": [
      "开始处理论文 https://openalex.org/W4400867616，总被引: 1，预计页数: 1\n"
     ]
    },
    {
     "name": "stderr",
     "output_type": "stream",
     "text": [
      "分页获取: 100%|██████████| 1/1 [00:01<00:00,  1.41s/it]\n",
      "处理种子论文:  60%|█████▉    | 1101/1849 [12:03:05<8:38:44, 41.61s/it]"
     ]
    },
    {
     "name": "stdout",
     "output_type": "stream",
     "text": [
      "已保存临时结果\n"
     ]
    },
    {
     "name": "stderr",
     "output_type": "stream",
     "text": [
      "处理参考文献 https://openalex.org/W4404482119: 100%|██████████| 19/19 [00:21<00:00,  1.13s/it]\n",
      "处理参考文献 https://openalex.org/W4392622901: 100%|██████████| 12/12 [00:12<00:00,  1.06s/it]\n"
     ]
    },
    {
     "name": "stdout",
     "output_type": "stream",
     "text": [
      "开始处理论文 https://openalex.org/W4392622901，总被引: 1，预计页数: 1\n"
     ]
    },
    {
     "name": "stderr",
     "output_type": "stream",
     "text": [
      "分页获取: 100%|██████████| 1/1 [00:01<00:00,  1.46s/it]\n",
      "处理参考文献 https://openalex.org/W2244034530: 100%|██████████| 42/42 [00:47<00:00,  1.13s/it]\n"
     ]
    },
    {
     "name": "stdout",
     "output_type": "stream",
     "text": [
      "开始处理论文 https://openalex.org/W2244034530，总被引: 2，预计页数: 1\n"
     ]
    },
    {
     "name": "stderr",
     "output_type": "stream",
     "text": [
      "分页获取: 100%|██████████| 1/1 [00:01<00:00,  1.47s/it]\n",
      "处理参考文献 https://openalex.org/W4366603527: 100%|██████████| 10/10 [00:11<00:00,  1.11s/it]\n"
     ]
    },
    {
     "name": "stdout",
     "output_type": "stream",
     "text": [
      "开始处理论文 https://openalex.org/W4366603527，总被引: 10，预计页数: 1\n"
     ]
    },
    {
     "name": "stderr",
     "output_type": "stream",
     "text": [
      "分页获取: 100%|██████████| 1/1 [00:01<00:00,  1.77s/it]\n",
      "处理参考文献 https://openalex.org/W4399771314: 100%|██████████| 13/13 [00:14<00:00,  1.14s/it]\n"
     ]
    },
    {
     "name": "stdout",
     "output_type": "stream",
     "text": [
      "开始处理论文 https://openalex.org/W4399771314，总被引: 1，预计页数: 1\n"
     ]
    },
    {
     "name": "stderr",
     "output_type": "stream",
     "text": [
      "分页获取: 100%|██████████| 1/1 [00:01<00:00,  1.37s/it]\n",
      "处理种子论文:  60%|█████▉    | 1106/1849 [12:05:07<5:36:32, 27.18s/it]"
     ]
    },
    {
     "name": "stdout",
     "output_type": "stream",
     "text": [
      "已保存临时结果\n"
     ]
    },
    {
     "name": "stderr",
     "output_type": "stream",
     "text": [
      "处理参考文献 https://openalex.org/W4387574838: 100%|██████████| 17/17 [00:19<00:00,  1.16s/it]\n"
     ]
    },
    {
     "name": "stdout",
     "output_type": "stream",
     "text": [
      "开始处理论文 https://openalex.org/W4387574838，总被引: 16，预计页数: 1\n"
     ]
    },
    {
     "name": "stderr",
     "output_type": "stream",
     "text": [
      "分页获取: 100%|██████████| 1/1 [00:02<00:00,  2.40s/it]\n",
      "处理参考文献 https://openalex.org/W4210531492: 100%|██████████| 8/8 [00:09<00:00,  1.16s/it]\n"
     ]
    },
    {
     "name": "stdout",
     "output_type": "stream",
     "text": [
      "开始处理论文 https://openalex.org/W4210531492，总被引: 1，预计页数: 1\n"
     ]
    },
    {
     "name": "stderr",
     "output_type": "stream",
     "text": [
      "分页获取: 100%|██████████| 1/1 [00:01<00:00,  1.34s/it]\n",
      "处理参考文献 https://openalex.org/W4390273661: 100%|██████████| 1/1 [00:01<00:00,  1.12s/it]\n"
     ]
    },
    {
     "name": "stdout",
     "output_type": "stream",
     "text": [
      "开始处理论文 https://openalex.org/W4390273661，总被引: 1，预计页数: 1\n"
     ]
    },
    {
     "name": "stderr",
     "output_type": "stream",
     "text": [
      "分页获取: 100%|██████████| 1/1 [00:01<00:00,  1.30s/it]\n",
      "处理参考文献 https://openalex.org/W4386525526: 100%|██████████| 37/37 [00:43<00:00,  1.16s/it]\n",
      "处理参考文献 https://openalex.org/W4393098284: 100%|██████████| 12/12 [00:12<00:00,  1.06s/it]\n"
     ]
    },
    {
     "name": "stdout",
     "output_type": "stream",
     "text": [
      "开始处理论文 https://openalex.org/W4393098284，总被引: 1，预计页数: 1\n"
     ]
    },
    {
     "name": "stderr",
     "output_type": "stream",
     "text": [
      "分页获取: 100%|██████████| 1/1 [00:01<00:00,  1.45s/it]\n",
      "处理种子论文:  60%|██████    | 1111/1849 [12:06:47<4:45:52, 23.24s/it]"
     ]
    },
    {
     "name": "stdout",
     "output_type": "stream",
     "text": [
      "已保存临时结果\n"
     ]
    },
    {
     "name": "stderr",
     "output_type": "stream",
     "text": [
      "处理参考文献 https://openalex.org/W4211198878: 100%|██████████| 2/2 [00:02<00:00,  1.16s/it]\n"
     ]
    },
    {
     "name": "stdout",
     "output_type": "stream",
     "text": [
      "开始处理论文 https://openalex.org/W4211198878，总被引: 3，预计页数: 1\n"
     ]
    },
    {
     "name": "stderr",
     "output_type": "stream",
     "text": [
      "分页获取: 100%|██████████| 1/1 [00:01<00:00,  1.58s/it]\n",
      "处理参考文献 https://openalex.org/W4392213592: 100%|██████████| 44/44 [00:48<00:00,  1.10s/it]\n"
     ]
    },
    {
     "name": "stdout",
     "output_type": "stream",
     "text": [
      "开始处理论文 https://openalex.org/W4392213592，总被引: 2，预计页数: 1\n"
     ]
    },
    {
     "name": "stderr",
     "output_type": "stream",
     "text": [
      "分页获取: 100%|██████████| 1/1 [00:01<00:00,  1.34s/it]\n",
      "处理参考文献 https://openalex.org/W4312166530: 100%|██████████| 28/28 [00:31<00:00,  1.14s/it]\n"
     ]
    },
    {
     "name": "stdout",
     "output_type": "stream",
     "text": [
      "开始处理论文 https://openalex.org/W4312166530，总被引: 1，预计页数: 1\n"
     ]
    },
    {
     "name": "stderr",
     "output_type": "stream",
     "text": [
      "分页获取: 100%|██████████| 1/1 [00:01<00:00,  1.37s/it]\n",
      "处理种子论文:  60%|██████    | 1114/1849 [12:08:14<5:55:30, 29.02s/it]"
     ]
    },
    {
     "name": "stdout",
     "output_type": "stream",
     "text": [
      "开始处理论文 https://openalex.org/W4233694118，总被引: 1，预计页数: 1\n"
     ]
    },
    {
     "name": "stderr",
     "output_type": "stream",
     "text": [
      "分页获取: 100%|██████████| 1/1 [00:01<00:00,  1.35s/it]\n",
      "处理参考文献 https://openalex.org/W4397039412: 100%|██████████| 84/84 [01:36<00:00,  1.15s/it]\n"
     ]
    },
    {
     "name": "stdout",
     "output_type": "stream",
     "text": [
      "开始处理论文 https://openalex.org/W4397039412，总被引: 2，预计页数: 1\n"
     ]
    },
    {
     "name": "stderr",
     "output_type": "stream",
     "text": [
      "分页获取: 100%|██████████| 1/1 [00:01<00:00,  1.31s/it]\n",
      "处理种子论文:  60%|██████    | 1116/1849 [12:10:01<9:21:56, 46.00s/it]"
     ]
    },
    {
     "name": "stdout",
     "output_type": "stream",
     "text": [
      "已保存临时结果\n",
      "开始处理论文 https://openalex.org/W4382652029，总被引: 1，预计页数: 1\n"
     ]
    },
    {
     "name": "stderr",
     "output_type": "stream",
     "text": [
      "分页获取: 100%|██████████| 1/1 [00:01<00:00,  1.36s/it]\n",
      "处理种子论文:  60%|██████    | 1117/1849 [12:10:02<6:37:50, 32.61s/it]"
     ]
    },
    {
     "name": "stdout",
     "output_type": "stream",
     "text": [
      "开始处理论文 https://openalex.org/W4280582544，总被引: 1，预计页数: 1\n"
     ]
    },
    {
     "name": "stderr",
     "output_type": "stream",
     "text": [
      "分页获取: 100%|██████████| 1/1 [00:01<00:00,  1.41s/it]\n",
      "处理参考文献 https://openalex.org/W4361292031: 100%|██████████| 7/7 [00:07<00:00,  1.12s/it]\n"
     ]
    },
    {
     "name": "stdout",
     "output_type": "stream",
     "text": [
      "开始处理论文 https://openalex.org/W4361292031，总被引: 9，预计页数: 1\n"
     ]
    },
    {
     "name": "stderr",
     "output_type": "stream",
     "text": [
      "分页获取: 100%|██████████| 1/1 [00:01<00:00,  1.69s/it]\n",
      "处理种子论文:  61%|██████    | 1119/1849 [12:10:13<3:53:04, 19.16s/it]"
     ]
    },
    {
     "name": "stdout",
     "output_type": "stream",
     "text": [
      "开始处理论文 https://openalex.org/W4403986843，总被引: 1，预计页数: 1\n"
     ]
    },
    {
     "name": "stderr",
     "output_type": "stream",
     "text": [
      "分页获取: 100%|██████████| 1/1 [00:01<00:00,  1.29s/it]\n",
      "处理参考文献 https://openalex.org/W3092927671: 100%|██████████| 11/11 [00:12<00:00,  1.14s/it]\n"
     ]
    },
    {
     "name": "stdout",
     "output_type": "stream",
     "text": [
      "开始处理论文 https://openalex.org/W3092927671，总被引: 15，预计页数: 1\n"
     ]
    },
    {
     "name": "stderr",
     "output_type": "stream",
     "text": [
      "分页获取: 100%|██████████| 1/1 [00:01<00:00,  1.81s/it]\n",
      "处理种子论文:  61%|██████    | 1121/1849 [12:10:36<3:14:22, 16.02s/it]"
     ]
    },
    {
     "name": "stdout",
     "output_type": "stream",
     "text": [
      "已保存临时结果\n",
      "开始处理论文 https://openalex.org/W4406109204，总被引: 1，预计页数: 1\n"
     ]
    },
    {
     "name": "stderr",
     "output_type": "stream",
     "text": [
      "分页获取: 100%|██████████| 1/1 [00:01<00:00,  1.40s/it]\n",
      "处理参考文献 https://openalex.org/W4386939821: 100%|██████████| 6/6 [00:06<00:00,  1.09s/it]\n"
     ]
    },
    {
     "name": "stdout",
     "output_type": "stream",
     "text": [
      "开始处理论文 https://openalex.org/W4386939821，总被引: 3，预计页数: 1\n"
     ]
    },
    {
     "name": "stderr",
     "output_type": "stream",
     "text": [
      "分页获取: 100%|██████████| 1/1 [00:01<00:00,  1.33s/it]\n",
      "处理种子论文:  61%|██████    | 1124/1849 [12:10:45<1:45:10,  8.70s/it]"
     ]
    },
    {
     "name": "stdout",
     "output_type": "stream",
     "text": [
      "开始处理论文 https://openalex.org/W2437019557，总被引: 1，预计页数: 1\n"
     ]
    },
    {
     "name": "stderr",
     "output_type": "stream",
     "text": [
      "分页获取: 100%|██████████| 1/1 [00:01<00:00,  1.52s/it]\n",
      "处理种子论文:  61%|██████    | 1125/1849 [12:10:46<1:22:23,  6.83s/it]"
     ]
    },
    {
     "name": "stdout",
     "output_type": "stream",
     "text": [
      "开始处理论文 https://openalex.org/W3100627416，总被引: 5，预计页数: 1\n"
     ]
    },
    {
     "name": "stderr",
     "output_type": "stream",
     "text": [
      "分页获取: 100%|██████████| 1/1 [00:01<00:00,  1.42s/it]\n",
      "处理种子论文:  61%|██████    | 1126/1849 [12:10:55<1:27:30,  7.26s/it]"
     ]
    },
    {
     "name": "stdout",
     "output_type": "stream",
     "text": [
      "已保存临时结果\n",
      "开始处理论文 https://openalex.org/W3197438988，总被引: 1，预计页数: 1\n"
     ]
    },
    {
     "name": "stderr",
     "output_type": "stream",
     "text": [
      "分页获取: 100%|██████████| 1/1 [00:01<00:00,  1.32s/it]\n",
      "处理参考文献 https://openalex.org/W4399574498: 100%|██████████| 84/84 [01:36<00:00,  1.15s/it]\n"
     ]
    },
    {
     "name": "stdout",
     "output_type": "stream",
     "text": [
      "开始处理论文 https://openalex.org/W4399574498，总被引: 1，预计页数: 1\n"
     ]
    },
    {
     "name": "stderr",
     "output_type": "stream",
     "text": [
      "分页获取: 100%|██████████| 1/1 [00:01<00:00,  1.30s/it]\n",
      "处理参考文献 https://openalex.org/W4390825855: 100%|██████████| 4/4 [00:04<00:00,  1.13s/it]\n"
     ]
    },
    {
     "name": "stdout",
     "output_type": "stream",
     "text": [
      "开始处理论文 https://openalex.org/W4390825855，总被引: 3，预计页数: 1\n"
     ]
    },
    {
     "name": "stderr",
     "output_type": "stream",
     "text": [
      "分页获取: 100%|██████████| 1/1 [00:01<00:00,  1.40s/it]\n",
      "处理种子论文:  61%|██████    | 1129/1849 [12:12:40<4:52:28, 24.37s/it]"
     ]
    },
    {
     "name": "stdout",
     "output_type": "stream",
     "text": [
      "开始处理论文 https://openalex.org/W4403139619，总被引: 1，预计页数: 1\n"
     ]
    },
    {
     "name": "stderr",
     "output_type": "stream",
     "text": [
      "分页获取: 100%|██████████| 1/1 [00:01<00:00,  1.36s/it]\n",
      "处理参考文献 https://openalex.org/W4400051877: 100%|██████████| 50/50 [00:55<00:00,  1.11s/it]\n"
     ]
    },
    {
     "name": "stdout",
     "output_type": "stream",
     "text": [
      "开始处理论文 https://openalex.org/W4400051877，总被引: 1，预计页数: 1\n"
     ]
    },
    {
     "name": "stderr",
     "output_type": "stream",
     "text": [
      "分页获取: 100%|██████████| 1/1 [00:01<00:00,  1.32s/it]\n",
      "处理种子论文:  61%|██████    | 1131/1849 [12:13:45<6:14:51, 31.32s/it]"
     ]
    },
    {
     "name": "stdout",
     "output_type": "stream",
     "text": [
      "已保存临时结果\n"
     ]
    },
    {
     "name": "stderr",
     "output_type": "stream",
     "text": [
      "处理参考文献 https://openalex.org/W2900562530: 100%|██████████| 12/12 [00:14<00:00,  1.22s/it]\n"
     ]
    },
    {
     "name": "stdout",
     "output_type": "stream",
     "text": [
      "开始处理论文 https://openalex.org/W2900562530，总被引: 12，预计页数: 1\n"
     ]
    },
    {
     "name": "stderr",
     "output_type": "stream",
     "text": [
      "分页获取: 100%|██████████| 1/1 [00:01<00:00,  1.76s/it]\n",
      "处理参考文献 https://openalex.org/W2774124979: 100%|██████████| 8/8 [00:10<00:00,  1.31s/it]\n"
     ]
    },
    {
     "name": "stdout",
     "output_type": "stream",
     "text": [
      "开始处理论文 https://openalex.org/W2774124979，总被引: 24，预计页数: 1\n"
     ]
    },
    {
     "name": "stderr",
     "output_type": "stream",
     "text": [
      "分页获取: 100%|██████████| 1/1 [00:02<00:00,  2.32s/it]\n",
      "处理参考文献 https://openalex.org/W3156533510: 100%|██████████| 10/10 [00:12<00:00,  1.21s/it]\n"
     ]
    },
    {
     "name": "stdout",
     "output_type": "stream",
     "text": [
      "开始处理论文 https://openalex.org/W3156533510，总被引: 1，预计页数: 1\n"
     ]
    },
    {
     "name": "stderr",
     "output_type": "stream",
     "text": [
      "分页获取: 100%|██████████| 1/1 [00:01<00:00,  1.47s/it]\n",
      "处理参考文献 https://openalex.org/W1606697474: 100%|██████████| 13/13 [00:15<00:00,  1.22s/it]\n"
     ]
    },
    {
     "name": "stdout",
     "output_type": "stream",
     "text": [
      "开始处理论文 https://openalex.org/W1606697474，总被引: 1，预计页数: 1\n"
     ]
    },
    {
     "name": "stderr",
     "output_type": "stream",
     "text": [
      "分页获取: 100%|██████████| 1/1 [00:01<00:00,  1.54s/it]\n",
      "处理参考文献 https://openalex.org/W1520765923: 100%|██████████| 27/27 [00:32<00:00,  1.22s/it]\n"
     ]
    },
    {
     "name": "stdout",
     "output_type": "stream",
     "text": [
      "开始处理论文 https://openalex.org/W1520765923，总被引: 2，预计页数: 1\n"
     ]
    },
    {
     "name": "stderr",
     "output_type": "stream",
     "text": [
      "分页获取: 100%|██████████| 1/1 [00:01<00:00,  1.51s/it]\n",
      "处理种子论文:  61%|██████▏   | 1136/1849 [12:15:27<5:08:05, 25.93s/it]"
     ]
    },
    {
     "name": "stdout",
     "output_type": "stream",
     "text": [
      "已保存临时结果\n",
      "开始处理论文 https://openalex.org/W2944821460，总被引: 10，预计页数: 1\n"
     ]
    },
    {
     "name": "stderr",
     "output_type": "stream",
     "text": [
      "分页获取: 100%|██████████| 1/1 [00:01<00:00,  1.83s/it]\n",
      "处理种子论文:  61%|██████▏   | 1137/1849 [12:15:29<3:42:06, 18.72s/it]"
     ]
    },
    {
     "name": "stdout",
     "output_type": "stream",
     "text": [
      "开始处理论文 https://openalex.org/W2107149244，总被引: 4，预计页数: 1\n"
     ]
    },
    {
     "name": "stderr",
     "output_type": "stream",
     "text": [
      "分页获取: 100%|██████████| 1/1 [00:01<00:00,  1.72s/it]\n",
      "处理种子论文:  62%|██████▏   | 1138/1849 [12:15:31<2:41:31, 13.63s/it]"
     ]
    },
    {
     "name": "stdout",
     "output_type": "stream",
     "text": [
      "开始处理论文 https://openalex.org/W3020536834，总被引: 3，预计页数: 1\n"
     ]
    },
    {
     "name": "stderr",
     "output_type": "stream",
     "text": [
      "分页获取: 100%|██████████| 1/1 [00:01<00:00,  1.38s/it]\n",
      "处理参考文献 https://openalex.org/W4294597236: 100%|██████████| 36/36 [00:41<00:00,  1.15s/it]\n"
     ]
    },
    {
     "name": "stdout",
     "output_type": "stream",
     "text": [
      "开始处理论文 https://openalex.org/W4294597236，总被引: 29，预计页数: 1\n"
     ]
    },
    {
     "name": "stderr",
     "output_type": "stream",
     "text": [
      "分页获取: 100%|██████████| 1/1 [00:02<00:00,  2.23s/it]\n",
      "处理种子论文:  62%|██████▏   | 1140/1849 [12:16:16<3:57:46, 20.12s/it]"
     ]
    },
    {
     "name": "stdout",
     "output_type": "stream",
     "text": [
      "警告: 论文 https://openalex.org/W4294597236 应获取 29 条，实际获取 30 条\n"
     ]
    },
    {
     "name": "stderr",
     "output_type": "stream",
     "text": [
      "处理参考文献 https://openalex.org/W4385792115: 100%|██████████| 64/64 [01:13<00:00,  1.15s/it]\n"
     ]
    },
    {
     "name": "stdout",
     "output_type": "stream",
     "text": [
      "开始处理论文 https://openalex.org/W4385792115，总被引: 39，预计页数: 1\n"
     ]
    },
    {
     "name": "stderr",
     "output_type": "stream",
     "text": [
      "分页获取: 100%|██████████| 1/1 [00:02<00:00,  2.08s/it]\n",
      "处理种子论文:  62%|██████▏   | 1141/1849 [12:17:39<7:38:35, 38.86s/it]"
     ]
    },
    {
     "name": "stdout",
     "output_type": "stream",
     "text": [
      "已保存临时结果\n"
     ]
    },
    {
     "name": "stderr",
     "output_type": "stream",
     "text": [
      "处理参考文献 https://openalex.org/W4386425171: 100%|██████████| 5/5 [00:05<00:00,  1.18s/it]\n"
     ]
    },
    {
     "name": "stdout",
     "output_type": "stream",
     "text": [
      "开始处理论文 https://openalex.org/W4386425171，总被引: 3，预计页数: 1\n"
     ]
    },
    {
     "name": "stderr",
     "output_type": "stream",
     "text": [
      "分页获取: 100%|██████████| 1/1 [00:01<00:00,  1.83s/it]\n",
      "处理种子论文:  62%|██████▏   | 1142/1849 [12:17:46<5:48:04, 29.54s/it]"
     ]
    },
    {
     "name": "stdout",
     "output_type": "stream",
     "text": [
      "警告: 论文 https://openalex.org/W4386425171 应获取 3 条，实际获取 4 条\n"
     ]
    },
    {
     "name": "stderr",
     "output_type": "stream",
     "text": [
      "处理参考文献 https://openalex.org/W3037122631: 100%|██████████| 4/4 [00:04<00:00,  1.25s/it]\n"
     ]
    },
    {
     "name": "stdout",
     "output_type": "stream",
     "text": [
      "开始处理论文 https://openalex.org/W3037122631，总被引: 4，预计页数: 1\n"
     ]
    },
    {
     "name": "stderr",
     "output_type": "stream",
     "text": [
      "分页获取: 100%|██████████| 1/1 [00:02<00:00,  2.08s/it]\n",
      "处理种子论文:  62%|██████▏   | 1143/1849 [12:17:53<4:28:20, 22.81s/it]"
     ]
    },
    {
     "name": "stdout",
     "output_type": "stream",
     "text": [
      "开始处理论文 https://openalex.org/W2780514827，总被引: 26，预计页数: 1\n"
     ]
    },
    {
     "name": "stderr",
     "output_type": "stream",
     "text": [
      "分页获取: 100%|██████████| 1/1 [00:02<00:00,  2.19s/it]\n",
      "处理种子论文:  62%|██████▏   | 1144/1849 [12:17:56<3:15:20, 16.63s/it]"
     ]
    },
    {
     "name": "stdout",
     "output_type": "stream",
     "text": [
      "开始处理论文 https://openalex.org/W3165181364，总被引: 1，预计页数: 1\n"
     ]
    },
    {
     "name": "stderr",
     "output_type": "stream",
     "text": [
      "分页获取: 100%|██████████| 1/1 [00:01<00:00,  1.45s/it]\n",
      "处理参考文献 https://openalex.org/W3091884603: 100%|██████████| 10/10 [00:12<00:00,  1.23s/it]\n"
     ]
    },
    {
     "name": "stdout",
     "output_type": "stream",
     "text": [
      "开始处理论文 https://openalex.org/W3091884603，总被引: 17，预计页数: 1\n"
     ]
    },
    {
     "name": "stderr",
     "output_type": "stream",
     "text": [
      "分页获取: 100%|██████████| 1/1 [00:02<00:00,  2.17s/it]\n",
      "处理种子论文:  62%|██████▏   | 1146/1849 [12:18:19<2:54:43, 14.91s/it]"
     ]
    },
    {
     "name": "stdout",
     "output_type": "stream",
     "text": [
      "已保存临时结果\n"
     ]
    },
    {
     "name": "stderr",
     "output_type": "stream",
     "text": [
      "处理参考文献 https://openalex.org/W3135873556: 100%|██████████| 4/4 [00:04<00:00,  1.16s/it]\n"
     ]
    },
    {
     "name": "stdout",
     "output_type": "stream",
     "text": [
      "开始处理论文 https://openalex.org/W3135873556，总被引: 12，预计页数: 1\n"
     ]
    },
    {
     "name": "stderr",
     "output_type": "stream",
     "text": [
      "分页获取: 100%|██████████| 1/1 [00:01<00:00,  1.95s/it]\n",
      "处理参考文献 https://openalex.org/W2935205226: 100%|██████████| 30/30 [00:36<00:00,  1.22s/it]\n"
     ]
    },
    {
     "name": "stdout",
     "output_type": "stream",
     "text": [
      "开始处理论文 https://openalex.org/W2935205226，总被引: 6，预计页数: 1\n"
     ]
    },
    {
     "name": "stderr",
     "output_type": "stream",
     "text": [
      "分页获取: 100%|██████████| 1/1 [00:01<00:00,  1.91s/it]\n",
      "处理参考文献 https://openalex.org/W3205907281: 100%|██████████| 10/10 [00:11<00:00,  1.16s/it]\n"
     ]
    },
    {
     "name": "stdout",
     "output_type": "stream",
     "text": [
      "开始处理论文 https://openalex.org/W3205907281，总被引: 3，预计页数: 1\n"
     ]
    },
    {
     "name": "stderr",
     "output_type": "stream",
     "text": [
      "分页获取: 100%|██████████| 1/1 [00:01<00:00,  1.38s/it]\n",
      "处理参考文献 https://openalex.org/W3171896847: 100%|██████████| 16/16 [00:18<00:00,  1.15s/it]\n"
     ]
    },
    {
     "name": "stdout",
     "output_type": "stream",
     "text": [
      "开始处理论文 https://openalex.org/W3171896847，总被引: 1，预计页数: 1\n"
     ]
    },
    {
     "name": "stderr",
     "output_type": "stream",
     "text": [
      "分页获取: 100%|██████████| 1/1 [00:01<00:00,  1.36s/it]\n",
      "处理种子论文:  62%|██████▏   | 1150/1849 [12:19:37<3:37:00, 18.63s/it]"
     ]
    },
    {
     "name": "stdout",
     "output_type": "stream",
     "text": [
      "警告: 论文 https://openalex.org/W3171896847 应获取 1 条，实际获取 2 条\n",
      "开始处理论文 https://openalex.org/W4399993625，总被引: 1，预计页数: 1\n"
     ]
    },
    {
     "name": "stderr",
     "output_type": "stream",
     "text": [
      "分页获取: 100%|██████████| 1/1 [00:01<00:00,  1.36s/it]\n",
      "处理种子论文:  62%|██████▏   | 1151/1849 [12:19:46<3:02:32, 15.69s/it]"
     ]
    },
    {
     "name": "stdout",
     "output_type": "stream",
     "text": [
      "已保存临时结果\n"
     ]
    },
    {
     "name": "stderr",
     "output_type": "stream",
     "text": [
      "处理参考文献 https://openalex.org/W2887463338: 100%|██████████| 3/3 [00:03<00:00,  1.10s/it]\n",
      "处理参考文献 https://openalex.org/W4322721822: 100%|██████████| 60/60 [01:10<00:00,  1.18s/it]\n"
     ]
    },
    {
     "name": "stdout",
     "output_type": "stream",
     "text": [
      "开始处理论文 https://openalex.org/W4322721822，总被引: 2，预计页数: 1\n"
     ]
    },
    {
     "name": "stderr",
     "output_type": "stream",
     "text": [
      "分页获取: 100%|██████████| 1/1 [00:01<00:00,  1.65s/it]\n",
      "处理种子论文:  63%|██████▎   | 1156/1849 [12:21:08<3:05:14, 16.04s/it]"
     ]
    },
    {
     "name": "stdout",
     "output_type": "stream",
     "text": [
      "已保存临时结果\n"
     ]
    },
    {
     "name": "stderr",
     "output_type": "stream",
     "text": [
      "处理参考文献 https://openalex.org/W4319442923: 100%|██████████| 2/2 [00:02<00:00,  1.13s/it]\n",
      "处理参考文献 https://openalex.org/W4307140457: 100%|██████████| 11/11 [00:12<00:00,  1.16s/it]\n"
     ]
    },
    {
     "name": "stdout",
     "output_type": "stream",
     "text": [
      "开始处理论文 https://openalex.org/W4307140457，总被引: 2，预计页数: 1\n"
     ]
    },
    {
     "name": "stderr",
     "output_type": "stream",
     "text": [
      "分页获取: 100%|██████████| 1/1 [00:01<00:00,  1.36s/it]\n",
      "处理参考文献 https://openalex.org/W4390729717: 100%|██████████| 6/6 [00:07<00:00,  1.18s/it]\n",
      "处理种子论文:  63%|██████▎   | 1161/1849 [12:21:39<1:52:36,  9.82s/it]"
     ]
    },
    {
     "name": "stdout",
     "output_type": "stream",
     "text": [
      "已保存临时结果\n"
     ]
    },
    {
     "name": "stderr",
     "output_type": "stream",
     "text": [
      "处理参考文献 https://openalex.org/W4389221599: 100%|██████████| 7/7 [00:08<00:00,  1.18s/it]\n",
      "处理参考文献 https://openalex.org/W3014914943: 100%|██████████| 8/8 [00:12<00:00,  1.52s/it]\n",
      "处理参考文献 https://openalex.org/W4313438753: 100%|██████████| 4/4 [00:04<00:00,  1.15s/it]\n",
      "处理参考文献 https://openalex.org/W4200186993: 100%|██████████| 3/3 [00:03<00:00,  1.15s/it]\n",
      "处理种子论文:  63%|██████▎   | 1166/1849 [12:22:15<1:32:59,  8.17s/it]"
     ]
    },
    {
     "name": "stdout",
     "output_type": "stream",
     "text": [
      "已保存临时结果\n",
      "开始处理论文 https://openalex.org/W4206515110，总被引: 5，预计页数: 1\n"
     ]
    },
    {
     "name": "stderr",
     "output_type": "stream",
     "text": [
      "分页获取: 100%|██████████| 1/1 [00:01<00:00,  1.72s/it]\n",
      "处理参考文献 https://openalex.org/W4393326938: 100%|██████████| 1/1 [00:01<00:00,  1.20s/it]\n",
      "处理参考文献 https://openalex.org/W3009235700: 100%|██████████| 12/12 [00:13<00:00,  1.15s/it]\n",
      "处理参考文献 https://openalex.org/W4393075296: 100%|██████████| 24/24 [00:28<00:00,  1.20s/it]\n",
      "处理种子论文:  63%|██████▎   | 1171/1849 [12:23:07<2:25:53, 12.91s/it]"
     ]
    },
    {
     "name": "stdout",
     "output_type": "stream",
     "text": [
      "已保存临时结果\n"
     ]
    },
    {
     "name": "stderr",
     "output_type": "stream",
     "text": [
      "处理参考文献 https://openalex.org/W4385400936: 100%|██████████| 14/14 [00:16<00:00,  1.14s/it]\n",
      "处理种子论文:  63%|██████▎   | 1172/1849 [12:23:23<2:34:31, 13.69s/it]"
     ]
    },
    {
     "name": "stdout",
     "output_type": "stream",
     "text": [
      "开始处理论文 https://openalex.org/W3048587711，总被引: 1，预计页数: 1\n"
     ]
    },
    {
     "name": "stderr",
     "output_type": "stream",
     "text": [
      "分页获取: 100%|██████████| 1/1 [00:01<00:00,  1.32s/it]\n",
      "处理参考文献 https://openalex.org/W4281988307: 100%|██████████| 3/3 [00:03<00:00,  1.13s/it]\n",
      "处理参考文献 https://openalex.org/W4390741636: 100%|██████████| 49/49 [00:55<00:00,  1.14s/it]\n",
      "处理参考文献 https://openalex.org/W3131382925: 100%|██████████| 7/7 [00:08<00:00,  1.18s/it]\n"
     ]
    },
    {
     "name": "stdout",
     "output_type": "stream",
     "text": [
      "开始处理论文 https://openalex.org/W3131382925，总被引: 2，预计页数: 1\n"
     ]
    },
    {
     "name": "stderr",
     "output_type": "stream",
     "text": [
      "分页获取: 100%|██████████| 1/1 [00:01<00:00,  1.32s/it]\n",
      "处理种子论文:  64%|██████▎   | 1176/1849 [12:24:41<3:48:48, 20.40s/it]"
     ]
    },
    {
     "name": "stdout",
     "output_type": "stream",
     "text": [
      "已保存临时结果\n"
     ]
    },
    {
     "name": "stderr",
     "output_type": "stream",
     "text": [
      "处理参考文献 https://openalex.org/W4397036516: 100%|██████████| 14/14 [00:15<00:00,  1.11s/it]\n",
      "处理种子论文:  64%|██████▎   | 1177/1849 [12:24:56<3:32:38, 18.99s/it]"
     ]
    },
    {
     "name": "stdout",
     "output_type": "stream",
     "text": [
      "开始处理论文 https://openalex.org/W4224943442，总被引: 8，预计页数: 1\n"
     ]
    },
    {
     "name": "stderr",
     "output_type": "stream",
     "text": [
      "分页获取: 100%|██████████| 1/1 [00:01<00:00,  1.72s/it]\n",
      "处理种子论文:  64%|██████▍   | 1181/1849 [12:25:05<1:23:05,  7.46s/it]"
     ]
    },
    {
     "name": "stdout",
     "output_type": "stream",
     "text": [
      "已保存临时结果\n"
     ]
    },
    {
     "name": "stderr",
     "output_type": "stream",
     "text": [
      "处理参考文献 https://openalex.org/W4377093673: 100%|██████████| 1/1 [00:01<00:00,  1.17s/it]\n",
      "处理参考文献 https://openalex.org/W4312314953: 100%|██████████| 7/7 [00:07<00:00,  1.08s/it]\n",
      "处理参考文献 https://openalex.org/W4361290731: 100%|██████████| 13/13 [00:14<00:00,  1.08s/it]\n",
      "处理参考文献 https://openalex.org/W4408712316: 100%|██████████| 14/14 [00:15<00:00,  1.13s/it]\n",
      "处理种子论文:  64%|██████▍   | 1186/1849 [12:25:51<1:53:45, 10.29s/it]"
     ]
    },
    {
     "name": "stdout",
     "output_type": "stream",
     "text": [
      "已保存临时结果\n"
     ]
    },
    {
     "name": "stderr",
     "output_type": "stream",
     "text": [
      "处理参考文献 https://openalex.org/W4393945474: 100%|██████████| 14/14 [00:14<00:00,  1.07s/it]\n",
      "处理参考文献 https://openalex.org/W4385078017: 100%|██████████| 48/48 [00:52<00:00,  1.10s/it]\n",
      "处理参考文献 https://openalex.org/W4386111748: 100%|██████████| 13/13 [00:16<00:00,  1.28s/it]\n",
      "处理参考文献 https://openalex.org/W2010775809: 100%|██████████| 14/14 [00:16<00:00,  1.15s/it]\n",
      "处理种子论文:  64%|██████▍   | 1191/1849 [12:27:38<3:25:52, 18.77s/it]"
     ]
    },
    {
     "name": "stdout",
     "output_type": "stream",
     "text": [
      "已保存临时结果\n"
     ]
    },
    {
     "name": "stderr",
     "output_type": "stream",
     "text": [
      "处理参考文献 https://openalex.org/W4388536506: 100%|██████████| 8/8 [00:09<00:00,  1.13s/it]\n",
      "处理参考文献 https://openalex.org/W4387372841: 100%|██████████| 8/8 [00:09<00:00,  1.22s/it]\n",
      "处理参考文献 https://openalex.org/W4220970683: 100%|██████████| 5/5 [00:05<00:00,  1.14s/it]\n",
      "处理种子论文:  65%|██████▍   | 1196/1849 [12:28:10<1:30:17,  8.30s/it]"
     ]
    },
    {
     "name": "stdout",
     "output_type": "stream",
     "text": [
      "已保存临时结果\n"
     ]
    },
    {
     "name": "stderr",
     "output_type": "stream",
     "text": [
      "处理参考文献 https://openalex.org/W4395468589: 100%|██████████| 4/4 [00:04<00:00,  1.14s/it]\n",
      "处理参考文献 https://openalex.org/W3014130092: 100%|██████████| 4/4 [00:04<00:00,  1.14s/it]\n",
      "处理参考文献 https://openalex.org/W4406782520: 100%|██████████| 30/30 [00:35<00:00,  1.18s/it]\n",
      "处理种子论文:  65%|██████▍   | 1201/1849 [12:29:02<2:07:35, 11.81s/it]"
     ]
    },
    {
     "name": "stdout",
     "output_type": "stream",
     "text": [
      "已保存临时结果\n"
     ]
    },
    {
     "name": "stderr",
     "output_type": "stream",
     "text": [
      "处理参考文献 https://openalex.org/W4388589347: 100%|██████████| 3/3 [00:03<00:00,  1.05s/it]\n",
      "处理参考文献 https://openalex.org/W3088905563: 100%|██████████| 5/5 [00:05<00:00,  1.11s/it]\n",
      "处理种子论文:  65%|██████▌   | 1206/1849 [12:29:17<1:05:48,  6.14s/it]"
     ]
    },
    {
     "name": "stdout",
     "output_type": "stream",
     "text": [
      "已保存临时结果\n"
     ]
    },
    {
     "name": "stderr",
     "output_type": "stream",
     "text": [
      "处理参考文献 https://openalex.org/W4401228116: 100%|██████████| 8/8 [00:08<00:00,  1.10s/it]\n",
      "处理参考文献 https://openalex.org/W4402111677: 100%|██████████| 11/11 [00:13<00:00,  1.26s/it]\n",
      "处理种子论文:  65%|██████▌   | 1211/1849 [12:29:48<1:12:13,  6.79s/it]"
     ]
    },
    {
     "name": "stdout",
     "output_type": "stream",
     "text": [
      "已保存临时结果\n"
     ]
    },
    {
     "name": "stderr",
     "output_type": "stream",
     "text": [
      "处理种子论文:  66%|██████▌   | 1216/1849 [12:29:55<41:46,  3.96s/it]  "
     ]
    },
    {
     "name": "stdout",
     "output_type": "stream",
     "text": [
      "已保存临时结果\n"
     ]
    },
    {
     "name": "stderr",
     "output_type": "stream",
     "text": [
      "处理参考文献 https://openalex.org/W3195974048: 100%|██████████| 14/14 [00:18<00:00,  1.30s/it]\n",
      "处理参考文献 https://openalex.org/W4390264121: 100%|██████████| 16/16 [00:18<00:00,  1.16s/it]\n"
     ]
    },
    {
     "name": "stdout",
     "output_type": "stream",
     "text": [
      "开始处理论文 https://openalex.org/W4390264121，总被引: 1，预计页数: 1\n"
     ]
    },
    {
     "name": "stderr",
     "output_type": "stream",
     "text": [
      "分页获取: 100%|██████████| 1/1 [00:01<00:00,  1.35s/it]\n",
      "处理参考文献 https://openalex.org/W4382236911: 100%|██████████| 7/7 [00:08<00:00,  1.16s/it]\n",
      "处理种子论文:  66%|██████▌   | 1221/1849 [12:30:48<1:12:17,  6.91s/it]"
     ]
    },
    {
     "name": "stdout",
     "output_type": "stream",
     "text": [
      "已保存临时结果\n"
     ]
    },
    {
     "name": "stderr",
     "output_type": "stream",
     "text": [
      "处理参考文献 https://openalex.org/W4402493013: 100%|██████████| 5/5 [00:05<00:00,  1.07s/it]\n",
      "处理参考文献 https://openalex.org/W4393265176: 100%|██████████| 4/4 [00:04<00:00,  1.19s/it]\n",
      "处理种子论文:  66%|██████▋   | 1226/1849 [12:31:06<47:04,  4.53s/it]  "
     ]
    },
    {
     "name": "stdout",
     "output_type": "stream",
     "text": [
      "已保存临时结果\n"
     ]
    },
    {
     "name": "stderr",
     "output_type": "stream",
     "text": [
      "处理参考文献 https://openalex.org/W4386465907: 100%|██████████| 6/6 [00:07<00:00,  1.28s/it]\n",
      "处理参考文献 https://openalex.org/W4401851120: 100%|██████████| 8/8 [00:09<00:00,  1.18s/it]\n",
      "处理参考文献 https://openalex.org/W4387184574: 100%|██████████| 10/10 [00:10<00:00,  1.10s/it]\n",
      "处理种子论文:  67%|██████▋   | 1231/1849 [12:31:41<1:06:18,  6.44s/it]"
     ]
    },
    {
     "name": "stdout",
     "output_type": "stream",
     "text": [
      "已保存临时结果\n"
     ]
    },
    {
     "name": "stderr",
     "output_type": "stream",
     "text": [
      "处理参考文献 https://openalex.org/W4401828754: 100%|██████████| 4/4 [00:04<00:00,  1.16s/it]\n",
      "处理参考文献 https://openalex.org/W4394983760: 100%|██████████| 5/5 [00:05<00:00,  1.15s/it]\n",
      "处理参考文献 https://openalex.org/W1998697240: 100%|██████████| 1/1 [00:01<00:00,  1.19s/it]\n"
     ]
    },
    {
     "name": "stdout",
     "output_type": "stream",
     "text": [
      "开始处理论文 https://openalex.org/W1998697240，总被引: 7，预计页数: 1\n"
     ]
    },
    {
     "name": "stderr",
     "output_type": "stream",
     "text": [
      "分页获取: 100%|██████████| 1/1 [00:01<00:00,  1.77s/it]\n",
      "处理参考文献 https://openalex.org/W4398783625: 100%|██████████| 3/3 [00:03<00:00,  1.08s/it]\n",
      "处理种子论文:  67%|██████▋   | 1236/1849 [12:32:05<54:04,  5.29s/it]"
     ]
    },
    {
     "name": "stdout",
     "output_type": "stream",
     "text": [
      "已保存临时结果\n"
     ]
    },
    {
     "name": "stderr",
     "output_type": "stream",
     "text": [
      "处理参考文献 https://openalex.org/W4313004283: 100%|██████████| 1/1 [00:01<00:00,  1.16s/it]\n",
      "处理参考文献 https://openalex.org/W4401964171: 100%|██████████| 3/3 [00:03<00:00,  1.13s/it]\n",
      "处理参考文献 https://openalex.org/W4390323109: 100%|██████████| 20/20 [00:22<00:00,  1.11s/it]\n",
      "处理种子论文:  67%|██████▋   | 1241/1849 [12:32:39<1:19:37,  7.86s/it]"
     ]
    },
    {
     "name": "stdout",
     "output_type": "stream",
     "text": [
      "已保存临时结果\n"
     ]
    },
    {
     "name": "stderr",
     "output_type": "stream",
     "text": [
      "处理参考文献 https://openalex.org/W4391175089: 100%|██████████| 3/3 [00:03<00:00,  1.09s/it]\n",
      "处理参考文献 https://openalex.org/W2761444555: 100%|██████████| 10/10 [00:11<00:00,  1.19s/it]\n",
      "处理参考文献 https://openalex.org/W4405334572: 100%|██████████| 13/13 [00:15<00:00,  1.18s/it]\n",
      "处理参考文献 https://openalex.org/W4381284354: 100%|██████████| 13/13 [00:14<00:00,  1.11s/it]\n",
      "处理种子论文:  67%|██████▋   | 1246/1849 [12:33:32<1:55:28, 11.49s/it]"
     ]
    },
    {
     "name": "stdout",
     "output_type": "stream",
     "text": [
      "已保存临时结果\n"
     ]
    },
    {
     "name": "stderr",
     "output_type": "stream",
     "text": [
      "处理参考文献 https://openalex.org/W4390680347: 100%|██████████| 21/21 [00:25<00:00,  1.22s/it]\n",
      "处理参考文献 https://openalex.org/W4402631676: 100%|██████████| 21/21 [00:24<00:00,  1.17s/it]\n",
      "处理参考文献 https://openalex.org/W2177262889: 100%|██████████| 5/5 [00:05<00:00,  1.13s/it]\n",
      "处理种子论文:  68%|██████▊   | 1251/1849 [12:34:35<1:35:49,  9.61s/it]"
     ]
    },
    {
     "name": "stdout",
     "output_type": "stream",
     "text": [
      "已保存临时结果\n"
     ]
    },
    {
     "name": "stderr",
     "output_type": "stream",
     "text": [
      "处理参考文献 https://openalex.org/W4394675236: 100%|██████████| 16/16 [00:19<00:00,  1.24s/it]\n",
      "处理参考文献 https://openalex.org/W4403997396: 100%|██████████| 26/26 [00:29<00:00,  1.14s/it]\n",
      "处理参考文献 https://openalex.org/W4402942311: 100%|██████████| 13/13 [00:14<00:00,  1.11s/it]\n",
      "处理种子论文:  68%|██████▊   | 1256/1849 [12:35:46<2:20:52, 14.25s/it]"
     ]
    },
    {
     "name": "stdout",
     "output_type": "stream",
     "text": [
      "已保存临时结果\n"
     ]
    },
    {
     "name": "stderr",
     "output_type": "stream",
     "text": [
      "处理参考文献 https://openalex.org/W4390270955: 100%|██████████| 5/5 [00:05<00:00,  1.12s/it]\n",
      "处理参考文献 https://openalex.org/W4386690257: 100%|██████████| 6/6 [00:06<00:00,  1.09s/it]\n",
      "处理参考文献 https://openalex.org/W4390011311: 100%|██████████| 17/17 [00:20<00:00,  1.18s/it]\n",
      "处理参考文献 https://openalex.org/W4400172112: 100%|██████████| 19/19 [00:22<00:00,  1.18s/it]\n",
      "处理参考文献 https://openalex.org/W3177312708: 100%|██████████| 1/1 [00:01<00:00,  1.15s/it]\n",
      "处理种子论文:  68%|██████▊   | 1261/1849 [12:36:49<2:14:29, 13.72s/it]"
     ]
    },
    {
     "name": "stdout",
     "output_type": "stream",
     "text": [
      "已保存临时结果\n"
     ]
    },
    {
     "name": "stderr",
     "output_type": "stream",
     "text": [
      "处理参考文献 https://openalex.org/W4399740493: 100%|██████████| 8/8 [00:08<00:00,  1.12s/it]\n",
      "处理参考文献 https://openalex.org/W2907151512: 100%|██████████| 2/2 [00:02<00:00,  1.18s/it]\n",
      "处理参考文献 https://openalex.org/W2886608811: 100%|██████████| 10/10 [00:11<00:00,  1.13s/it]\n",
      "处理参考文献 https://openalex.org/W4315567764: 100%|██████████| 8/8 [00:09<00:00,  1.23s/it]\n",
      "处理种子论文:  68%|██████▊   | 1266/1849 [12:37:29<1:30:46,  9.34s/it]"
     ]
    },
    {
     "name": "stdout",
     "output_type": "stream",
     "text": [
      "已保存临时结果\n"
     ]
    },
    {
     "name": "stderr",
     "output_type": "stream",
     "text": [
      "处理参考文献 https://openalex.org/W4394983837: 100%|██████████| 2/2 [00:02<00:00,  1.23s/it]\n",
      "处理参考文献 https://openalex.org/W4388813342: 100%|██████████| 2/2 [00:02<00:00,  1.05s/it]\n",
      "处理参考文献 https://openalex.org/W4392562008: 100%|██████████| 25/25 [00:28<00:00,  1.14s/it]\n",
      "处理参考文献 https://openalex.org/W4387354286: 100%|██████████| 29/29 [00:33<00:00,  1.17s/it]\n",
      "处理种子论文:  69%|██████▊   | 1271/1849 [12:38:44<2:59:55, 18.68s/it]"
     ]
    },
    {
     "name": "stdout",
     "output_type": "stream",
     "text": [
      "已保存临时结果\n"
     ]
    },
    {
     "name": "stderr",
     "output_type": "stream",
     "text": [
      "处理参考文献 https://openalex.org/W4401711412: 100%|██████████| 40/40 [00:45<00:00,  1.13s/it]\n",
      "处理参考文献 https://openalex.org/W2823280743: 100%|██████████| 1/1 [00:01<00:00,  1.17s/it]\n",
      "处理种子论文:  69%|██████▉   | 1276/1849 [12:39:37<1:40:44, 10.55s/it]"
     ]
    },
    {
     "name": "stdout",
     "output_type": "stream",
     "text": [
      "已保存临时结果\n"
     ]
    },
    {
     "name": "stderr",
     "output_type": "stream",
     "text": [
      "处理参考文献 https://openalex.org/W3124689112: 100%|██████████| 15/15 [00:17<00:00,  1.14s/it]\n",
      "处理参考文献 https://openalex.org/W4392815213: 100%|██████████| 13/13 [00:15<00:00,  1.20s/it]\n",
      "处理参考文献 https://openalex.org/W4320156675: 100%|██████████| 9/9 [00:09<00:00,  1.11s/it]\n",
      "处理参考文献 https://openalex.org/W4394974151: 100%|██████████| 7/7 [00:07<00:00,  1.08s/it]\n",
      "处理参考文献 https://openalex.org/W4396673746: 100%|██████████| 23/23 [00:25<00:00,  1.11s/it]\n",
      "处理种子论文:  69%|██████▉   | 1281/1849 [12:41:00<2:40:14, 16.93s/it]"
     ]
    },
    {
     "name": "stdout",
     "output_type": "stream",
     "text": [
      "已保存临时结果\n"
     ]
    },
    {
     "name": "stderr",
     "output_type": "stream",
     "text": [
      "处理参考文献 https://openalex.org/W4401289027: 100%|██████████| 13/13 [00:15<00:00,  1.18s/it]\n",
      "处理参考文献 https://openalex.org/W3111154679: 100%|██████████| 7/7 [00:07<00:00,  1.11s/it]\n",
      "处理参考文献 https://openalex.org/W4315479124: 100%|██████████| 13/13 [00:16<00:00,  1.24s/it]\n"
     ]
    },
    {
     "name": "stdout",
     "output_type": "stream",
     "text": [
      "开始处理论文 https://openalex.org/W4315479124，总被引: 3，预计页数: 1\n"
     ]
    },
    {
     "name": "stderr",
     "output_type": "stream",
     "text": [
      "分页获取: 100%|██████████| 1/1 [00:01<00:00,  1.38s/it]\n",
      "处理参考文献 https://openalex.org/W4321015646: 100%|██████████| 8/8 [00:09<00:00,  1.21s/it]\n"
     ]
    },
    {
     "name": "stdout",
     "output_type": "stream",
     "text": [
      "开始处理论文 https://openalex.org/W4321015646，总被引: 4，预计页数: 1\n"
     ]
    },
    {
     "name": "stderr",
     "output_type": "stream",
     "text": [
      "分页获取: 100%|██████████| 1/1 [00:01<00:00,  1.71s/it]\n",
      "处理种子论文:  70%|██████▉   | 1286/1849 [12:42:00<1:52:33, 12.00s/it]"
     ]
    },
    {
     "name": "stdout",
     "output_type": "stream",
     "text": [
      "已保存临时结果\n"
     ]
    },
    {
     "name": "stderr",
     "output_type": "stream",
     "text": [
      "处理参考文献 https://openalex.org/W4379164847: 100%|██████████| 4/4 [00:04<00:00,  1.14s/it]\n",
      "处理参考文献 https://openalex.org/W4402637634: 100%|██████████| 20/20 [00:22<00:00,  1.15s/it]\n",
      "处理参考文献 https://openalex.org/W4399467804: 100%|██████████| 4/4 [00:04<00:00,  1.11s/it]\n",
      "处理参考文献 https://openalex.org/W4391736885: 100%|██████████| 6/6 [00:06<00:00,  1.09s/it]\n",
      "处理种子论文:  70%|██████▉   | 1291/1849 [12:42:46<1:35:40, 10.29s/it]"
     ]
    },
    {
     "name": "stdout",
     "output_type": "stream",
     "text": [
      "已保存临时结果\n"
     ]
    },
    {
     "name": "stderr",
     "output_type": "stream",
     "text": [
      "处理参考文献 https://openalex.org/W4401863511: 100%|██████████| 2/2 [00:02<00:00,  1.06s/it]\n",
      "处理参考文献 https://openalex.org/W4312402047: 100%|██████████| 9/9 [00:29<00:00,  3.29s/it]\n",
      "处理参考文献 https://openalex.org/W4392837907: 100%|██████████| 39/39 [00:44<00:00,  1.14s/it]\n",
      "处理参考文献 https://openalex.org/W4319837352: 100%|██████████| 8/8 [00:08<00:00,  1.09s/it]\n",
      "处理参考文献 https://openalex.org/W4399580444: 100%|██████████| 2/2 [00:02<00:00,  1.12s/it]\n",
      "处理种子论文:  70%|███████   | 1296/1849 [12:44:20<2:27:47, 16.04s/it]"
     ]
    },
    {
     "name": "stdout",
     "output_type": "stream",
     "text": [
      "已保存临时结果\n"
     ]
    },
    {
     "name": "stderr",
     "output_type": "stream",
     "text": [
      "处理参考文献 https://openalex.org/W4396875170: 100%|██████████| 9/9 [00:09<00:00,  1.06s/it]\n",
      "处理参考文献 https://openalex.org/W4399768166: 100%|██████████| 4/4 [00:04<00:00,  1.07s/it]\n",
      "处理参考文献 https://openalex.org/W4384301461: 100%|██████████| 16/16 [00:18<00:00,  1.14s/it]\n",
      "处理参考文献 https://openalex.org/W4323026787: 100%|██████████| 3/3 [00:03<00:00,  1.16s/it]\n",
      "处理参考文献 https://openalex.org/W4396711510: 100%|██████████| 8/8 [00:08<00:00,  1.11s/it]\n",
      "处理种子论文:  70%|███████   | 1301/1849 [12:45:12<1:50:42, 12.12s/it]"
     ]
    },
    {
     "name": "stdout",
     "output_type": "stream",
     "text": [
      "已保存临时结果\n"
     ]
    },
    {
     "name": "stderr",
     "output_type": "stream",
     "text": [
      "处理参考文献 https://openalex.org/W4399893600: 100%|██████████| 69/69 [01:17<00:00,  1.12s/it]\n",
      "处理参考文献 https://openalex.org/W4399167577: 100%|██████████| 10/10 [00:11<00:00,  1.14s/it]\n",
      "处理参考文献 https://openalex.org/W4396826956: 100%|██████████| 19/19 [00:20<00:00,  1.08s/it]\n",
      "处理参考文献 https://openalex.org/W4391327319: 100%|██████████| 9/9 [00:09<00:00,  1.07s/it]\n",
      "处理种子论文:  71%|███████   | 1306/1849 [12:47:19<2:33:04, 16.91s/it]"
     ]
    },
    {
     "name": "stdout",
     "output_type": "stream",
     "text": [
      "已保存临时结果\n"
     ]
    },
    {
     "name": "stderr",
     "output_type": "stream",
     "text": [
      "处理参考文献 https://openalex.org/W4290098496: 100%|██████████| 9/9 [00:10<00:00,  1.14s/it]\n",
      "处理参考文献 https://openalex.org/W4392621006: 100%|██████████| 32/32 [00:34<00:00,  1.07s/it]\n",
      "处理参考文献 https://openalex.org/W4403093733: 100%|██████████| 7/7 [00:07<00:00,  1.12s/it]\n",
      "处理参考文献 https://openalex.org/W2957075985: 100%|██████████| 6/6 [00:06<00:00,  1.13s/it]\n",
      "处理种子论文:  71%|███████   | 1311/1849 [12:48:25<2:06:39, 14.13s/it]"
     ]
    },
    {
     "name": "stdout",
     "output_type": "stream",
     "text": [
      "已保存临时结果\n"
     ]
    },
    {
     "name": "stderr",
     "output_type": "stream",
     "text": [
      "处理参考文献 https://openalex.org/W4390599841: 100%|██████████| 29/29 [00:34<00:00,  1.20s/it]\n",
      "处理参考文献 https://openalex.org/W3047134293: 100%|██████████| 14/14 [00:15<00:00,  1.11s/it]\n",
      "处理参考文献 https://openalex.org/W4390860275: 100%|██████████| 6/6 [00:06<00:00,  1.15s/it]\n",
      "处理参考文献 https://openalex.org/W4394976117: 100%|██████████| 16/16 [00:17<00:00,  1.12s/it]\n",
      "处理参考文献 https://openalex.org/W3131310261: 100%|██████████| 15/15 [00:16<00:00,  1.11s/it]\n",
      "处理种子论文:  71%|███████   | 1316/1849 [12:50:04<2:42:38, 18.31s/it]"
     ]
    },
    {
     "name": "stdout",
     "output_type": "stream",
     "text": [
      "已保存临时结果\n"
     ]
    },
    {
     "name": "stderr",
     "output_type": "stream",
     "text": [
      "处理参考文献 https://openalex.org/W4394577183: 100%|██████████| 20/20 [00:22<00:00,  1.15s/it]\n",
      "处理参考文献 https://openalex.org/W4407425484: 100%|██████████| 46/46 [00:54<00:00,  1.19s/it]\n",
      "处理参考文献 https://openalex.org/W4393435434: 100%|██████████| 10/10 [00:11<00:00,  1.13s/it]\n",
      "处理参考文献 https://openalex.org/W4396826294: 100%|██████████| 5/5 [00:05<00:00,  1.07s/it]\n",
      "处理参考文献 https://openalex.org/W4399028853: 100%|██████████| 2/2 [00:02<00:00,  1.17s/it]\n",
      "处理种子论文:  71%|███████▏  | 1321/1849 [12:51:49<2:22:32, 16.20s/it]"
     ]
    },
    {
     "name": "stdout",
     "output_type": "stream",
     "text": [
      "已保存临时结果\n"
     ]
    },
    {
     "name": "stderr",
     "output_type": "stream",
     "text": [
      "处理参考文献 https://openalex.org/W4226105921: 100%|██████████| 5/5 [00:05<00:00,  1.13s/it]\n",
      "处理参考文献 https://openalex.org/W4385787140: 100%|██████████| 61/61 [01:10<00:00,  1.16s/it]\n",
      "处理参考文献 https://openalex.org/W4401380619: 100%|██████████| 6/6 [00:06<00:00,  1.13s/it]\n",
      "处理参考文献 https://openalex.org/W4392160176: 100%|██████████| 13/13 [00:14<00:00,  1.15s/it]\n",
      "处理参考文献 https://openalex.org/W4404882601: 100%|██████████| 31/31 [00:35<00:00,  1.15s/it]\n",
      "处理种子论文:  72%|███████▏  | 1326/1849 [12:54:10<3:59:43, 27.50s/it]"
     ]
    },
    {
     "name": "stdout",
     "output_type": "stream",
     "text": [
      "已保存临时结果\n"
     ]
    },
    {
     "name": "stderr",
     "output_type": "stream",
     "text": [
      "处理参考文献 https://openalex.org/W4321120718: 100%|██████████| 4/4 [00:04<00:00,  1.11s/it]\n",
      "处理参考文献 https://openalex.org/W4388524409: 100%|██████████| 12/12 [00:14<00:00,  1.25s/it]\n"
     ]
    },
    {
     "name": "stdout",
     "output_type": "stream",
     "text": [
      "开始处理论文 https://openalex.org/W4388524409，总被引: 21，预计页数: 1\n"
     ]
    },
    {
     "name": "stderr",
     "output_type": "stream",
     "text": [
      "分页获取: 100%|██████████| 1/1 [00:02<00:00,  2.10s/it]\n",
      "处理种子论文:  72%|███████▏  | 1330/1849 [12:54:32<1:59:05, 13.77s/it]"
     ]
    },
    {
     "name": "stdout",
     "output_type": "stream",
     "text": [
      "警告: 论文 https://openalex.org/W4388524409 应获取 21 条，实际获取 22 条\n"
     ]
    },
    {
     "name": "stderr",
     "output_type": "stream",
     "text": [
      "处理参考文献 https://openalex.org/W4396863351: 100%|██████████| 21/21 [00:24<00:00,  1.17s/it]\n",
      "处理种子论文:  72%|███████▏  | 1331/1849 [12:55:04<2:35:06, 17.97s/it]"
     ]
    },
    {
     "name": "stdout",
     "output_type": "stream",
     "text": [
      "已保存临时结果\n"
     ]
    },
    {
     "name": "stderr",
     "output_type": "stream",
     "text": [
      "处理参考文献 https://openalex.org/W4406183571: 100%|██████████| 11/11 [00:12<00:00,  1.11s/it]\n",
      "处理参考文献 https://openalex.org/W4407562272: 100%|██████████| 26/26 [00:31<00:00,  1.23s/it]\n",
      "处理参考文献 https://openalex.org/W4379348621: 100%|██████████| 1/1 [00:01<00:00,  1.05s/it]\n",
      "处理种子论文:  72%|███████▏  | 1336/1849 [12:55:56<1:27:06, 10.19s/it]"
     ]
    },
    {
     "name": "stdout",
     "output_type": "stream",
     "text": [
      "已保存临时结果\n"
     ]
    },
    {
     "name": "stderr",
     "output_type": "stream",
     "text": [
      "处理参考文献 https://openalex.org/W4391782439: 100%|██████████| 2/2 [00:02<00:00,  1.15s/it]\n",
      "处理参考文献 https://openalex.org/W4390680892: 100%|██████████| 4/4 [00:04<00:00,  1.17s/it]\n",
      "处理参考文献 https://openalex.org/W4384571103: 100%|██████████| 3/3 [00:03<00:00,  1.19s/it]\n",
      "处理参考文献 https://openalex.org/W4313574767: 100%|██████████| 2/2 [00:02<00:00,  1.16s/it]\n",
      "处理种子论文:  73%|███████▎  | 1341/1849 [12:56:16<54:06,  6.39s/it]"
     ]
    },
    {
     "name": "stdout",
     "output_type": "stream",
     "text": [
      "已保存临时结果\n"
     ]
    },
    {
     "name": "stderr",
     "output_type": "stream",
     "text": [
      "处理参考文献 https://openalex.org/W4390006944: 100%|██████████| 11/11 [00:12<00:00,  1.15s/it]\n",
      "处理参考文献 https://openalex.org/W4396678475: 100%|██████████| 18/18 [00:22<00:00,  1.24s/it]\n",
      "处理参考文献 https://openalex.org/W4403874496: 100%|██████████| 2/2 [00:02<00:00,  1.21s/it]\n",
      "处理参考文献 https://openalex.org/W4393077144: 100%|██████████| 21/21 [00:23<00:00,  1.11s/it]\n",
      "处理种子论文:  73%|███████▎  | 1346/1849 [12:57:25<1:36:44, 11.54s/it]"
     ]
    },
    {
     "name": "stdout",
     "output_type": "stream",
     "text": [
      "已保存临时结果\n"
     ]
    },
    {
     "name": "stderr",
     "output_type": "stream",
     "text": [
      "处理参考文献 https://openalex.org/W4386641329: 100%|██████████| 9/9 [00:09<00:00,  1.06s/it]\n",
      "处理参考文献 https://openalex.org/W4404350683: 100%|██████████| 25/25 [00:27<00:00,  1.12s/it]\n",
      "处理参考文献 https://openalex.org/W4408834437: 100%|██████████| 10/10 [00:10<00:00,  1.08s/it]\n",
      "处理参考文献 https://openalex.org/W3120212240: 100%|██████████| 1/1 [00:01<00:00,  1.22s/it]\n",
      "处理种子论文:  73%|███████▎  | 1351/1849 [12:58:22<1:27:08, 10.50s/it]"
     ]
    },
    {
     "name": "stdout",
     "output_type": "stream",
     "text": [
      "已保存临时结果\n"
     ]
    },
    {
     "name": "stderr",
     "output_type": "stream",
     "text": [
      "处理参考文献 https://openalex.org/W4400986170: 100%|██████████| 32/32 [00:36<00:00,  1.14s/it]\n",
      "处理参考文献 https://openalex.org/W4381167880: 100%|██████████| 37/37 [00:41<00:00,  1.12s/it]\n",
      "处理参考文献 https://openalex.org/W2964890503: 100%|██████████| 14/14 [00:16<00:00,  1.17s/it]\n",
      "处理参考文献 https://openalex.org/W4404681744: 100%|██████████| 6/6 [00:06<00:00,  1.12s/it]\n",
      "处理参考文献 https://openalex.org/W4394865049: 100%|██████████| 7/7 [00:07<00:00,  1.12s/it]\n",
      "处理种子论文:  73%|███████▎  | 1356/1849 [13:00:18<2:18:25, 16.85s/it]"
     ]
    },
    {
     "name": "stdout",
     "output_type": "stream",
     "text": [
      "已保存临时结果\n"
     ]
    },
    {
     "name": "stderr",
     "output_type": "stream",
     "text": [
      "处理参考文献 https://openalex.org/W4387973534: 100%|██████████| 36/36 [00:39<00:00,  1.11s/it]\n",
      "处理参考文献 https://openalex.org/W4313988040: 100%|██████████| 4/4 [00:04<00:00,  1.14s/it]\n",
      "处理种子论文:  74%|███████▎  | 1361/1849 [13:01:10<1:29:00, 10.94s/it]"
     ]
    },
    {
     "name": "stdout",
     "output_type": "stream",
     "text": [
      "已保存临时结果\n"
     ]
    },
    {
     "name": "stderr",
     "output_type": "stream",
     "text": [
      "处理参考文献 https://openalex.org/W4401206398: 100%|██████████| 83/83 [01:35<00:00,  1.15s/it]\n",
      "处理参考文献 https://openalex.org/W4372402471: 100%|██████████| 4/4 [00:04<00:00,  1.10s/it]\n",
      "处理种子论文:  74%|███████▍  | 1366/1849 [13:02:57<2:17:07, 17.03s/it]"
     ]
    },
    {
     "name": "stdout",
     "output_type": "stream",
     "text": [
      "已保存临时结果\n"
     ]
    },
    {
     "name": "stderr",
     "output_type": "stream",
     "text": [
      "处理参考文献 https://openalex.org/W4390728097: 100%|██████████| 4/4 [00:04<00:00,  1.14s/it]\n",
      "处理参考文献 https://openalex.org/W4394707154: 100%|██████████| 7/7 [00:07<00:00,  1.05s/it]\n",
      "处理参考文献 https://openalex.org/W4405131765: 100%|██████████| 2/2 [00:02<00:00,  1.14s/it]\n",
      "处理种子论文:  74%|███████▍  | 1371/1849 [13:03:18<1:16:22,  9.59s/it]"
     ]
    },
    {
     "name": "stdout",
     "output_type": "stream",
     "text": [
      "已保存临时结果\n"
     ]
    },
    {
     "name": "stderr",
     "output_type": "stream",
     "text": [
      "处理参考文献 https://openalex.org/W4200382038: 100%|██████████| 7/7 [00:07<00:00,  1.10s/it]\n",
      "处理种子论文:  74%|███████▍  | 1376/1849 [13:03:33<46:39,  5.92s/it]  "
     ]
    },
    {
     "name": "stdout",
     "output_type": "stream",
     "text": [
      "已保存临时结果\n"
     ]
    },
    {
     "name": "stderr",
     "output_type": "stream",
     "text": [
      "处理参考文献 https://openalex.org/W4200026186: 100%|██████████| 6/6 [00:06<00:00,  1.04s/it]\n",
      "处理参考文献 https://openalex.org/W4200072937: 100%|██████████| 10/10 [00:12<00:00,  1.21s/it]\n",
      "处理种子论文:  75%|███████▍  | 1381/1849 [13:03:59<42:20,  5.43s/it]"
     ]
    },
    {
     "name": "stdout",
     "output_type": "stream",
     "text": [
      "已保存临时结果\n"
     ]
    },
    {
     "name": "stderr",
     "output_type": "stream",
     "text": [
      "处理参考文献 https://openalex.org/W3047492689: 100%|██████████| 7/7 [00:08<00:00,  1.22s/it]\n",
      "处理参考文献 https://openalex.org/W4393196729: 100%|██████████| 34/34 [00:38<00:00,  1.14s/it]\n",
      "处理参考文献 https://openalex.org/W4408195791: 100%|██████████| 2/2 [00:02<00:00,  1.11s/it]\n",
      "处理种子论文:  75%|███████▍  | 1386/1849 [13:04:56<1:14:08,  9.61s/it]"
     ]
    },
    {
     "name": "stdout",
     "output_type": "stream",
     "text": [
      "已保存临时结果\n"
     ]
    },
    {
     "name": "stderr",
     "output_type": "stream",
     "text": [
      "处理参考文献 https://openalex.org/W4323023926: 100%|██████████| 23/23 [00:27<00:00,  1.18s/it]\n",
      "处理参考文献 https://openalex.org/W4401815128: 100%|██████████| 42/42 [00:49<00:00,  1.19s/it]\n",
      "处理参考文献 https://openalex.org/W4394837935: 100%|██████████| 10/10 [00:11<00:00,  1.14s/it]\n",
      "处理参考文献 https://openalex.org/W4323023926: 100%|██████████| 23/23 [00:24<00:00,  1.06s/it]\n",
      "处理参考文献 https://openalex.org/W4401825946: 100%|██████████| 11/11 [00:12<00:00,  1.12s/it]\n",
      "处理种子论文:  75%|███████▌  | 1391/1849 [13:07:08<2:34:58, 20.30s/it]"
     ]
    },
    {
     "name": "stdout",
     "output_type": "stream",
     "text": [
      "已保存临时结果\n"
     ]
    },
    {
     "name": "stderr",
     "output_type": "stream",
     "text": [
      "处理参考文献 https://openalex.org/W4226016190: 100%|██████████| 23/23 [00:24<00:00,  1.07s/it]\n",
      "处理参考文献 https://openalex.org/W4286214428: 100%|██████████| 27/27 [00:31<00:00,  1.16s/it]\n",
      "处理参考文献 https://openalex.org/W4398182662: 100%|██████████| 6/6 [00:06<00:00,  1.15s/it]\n",
      "处理种子论文:  76%|███████▌  | 1396/1849 [13:08:18<1:48:07, 14.32s/it]"
     ]
    },
    {
     "name": "stdout",
     "output_type": "stream",
     "text": [
      "已保存临时结果\n"
     ]
    },
    {
     "name": "stderr",
     "output_type": "stream",
     "text": [
      "处理参考文献 https://openalex.org/W2891144498: 100%|██████████| 2/2 [00:02<00:00,  1.15s/it]\n",
      "处理参考文献 https://openalex.org/W4403680385: 100%|██████████| 6/6 [00:06<00:00,  1.06s/it]\n",
      "处理参考文献 https://openalex.org/W4394064026: 100%|██████████| 7/7 [00:07<00:00,  1.05s/it]\n",
      "处理参考文献 https://openalex.org/W4385293308: 100%|██████████| 9/9 [00:10<00:00,  1.15s/it]\n",
      "处理种子论文:  76%|███████▌  | 1401/1849 [13:08:52<1:09:52,  9.36s/it]"
     ]
    },
    {
     "name": "stdout",
     "output_type": "stream",
     "text": [
      "已保存临时结果\n"
     ]
    },
    {
     "name": "stderr",
     "output_type": "stream",
     "text": [
      "处理参考文献 https://openalex.org/W2867330413: 100%|██████████| 2/2 [00:02<00:00,  1.08s/it]\n",
      "处理参考文献 https://openalex.org/W4385180596: 100%|██████████| 8/8 [00:09<00:00,  1.17s/it]\n",
      "处理参考文献 https://openalex.org/W4393198913: 100%|██████████| 5/5 [00:05<00:00,  1.06s/it]\n",
      "处理种子论文:  76%|███████▌  | 1406/1849 [13:09:16<47:31,  6.44s/it]"
     ]
    },
    {
     "name": "stdout",
     "output_type": "stream",
     "text": [
      "已保存临时结果\n"
     ]
    },
    {
     "name": "stderr",
     "output_type": "stream",
     "text": [
      "处理参考文献 https://openalex.org/W4407889376: 100%|██████████| 22/22 [00:25<00:00,  1.16s/it]\n",
      "处理参考文献 https://openalex.org/W4408837980: 100%|██████████| 30/30 [00:33<00:00,  1.11s/it]\n",
      "处理参考文献 https://openalex.org/W4395666109: 100%|██████████| 15/15 [00:17<00:00,  1.19s/it]\n",
      "处理参考文献 https://openalex.org/W4390581886: 100%|██████████| 84/84 [01:37<00:00,  1.16s/it]\n",
      "处理种子论文:  76%|███████▋  | 1411/1849 [13:12:18<3:46:23, 31.01s/it]"
     ]
    },
    {
     "name": "stdout",
     "output_type": "stream",
     "text": [
      "已保存临时结果\n"
     ]
    },
    {
     "name": "stderr",
     "output_type": "stream",
     "text": [
      "处理参考文献 https://openalex.org/W4391320626: 100%|██████████| 45/45 [00:50<00:00,  1.12s/it]\n",
      "处理参考文献 https://openalex.org/W4391603533: 100%|██████████| 2/2 [00:02<00:00,  1.18s/it]\n",
      "处理种子论文:  76%|███████▋  | 1413/1849 [13:13:10<3:18:30, 27.32s/it]"
     ]
    },
    {
     "name": "stdout",
     "output_type": "stream",
     "text": [
      "开始处理论文 https://openalex.org/W4246300017，总被引: 1，预计页数: 1\n"
     ]
    },
    {
     "name": "stderr",
     "output_type": "stream",
     "text": [
      "分页获取: 100%|██████████| 1/1 [00:01<00:00,  1.37s/it]\n",
      "处理种子论文:  77%|███████▋  | 1416/1849 [13:13:19<1:47:00, 14.83s/it]"
     ]
    },
    {
     "name": "stdout",
     "output_type": "stream",
     "text": [
      "已保存临时结果\n"
     ]
    },
    {
     "name": "stderr",
     "output_type": "stream",
     "text": [
      "处理参考文献 https://openalex.org/W3215224556: 100%|██████████| 13/13 [00:15<00:00,  1.16s/it]\n",
      "处理参考文献 https://openalex.org/W4401421514: 100%|██████████| 58/58 [01:06<00:00,  1.15s/it]\n",
      "处理参考文献 https://openalex.org/W4398170054: 100%|██████████| 6/6 [00:07<00:00,  1.31s/it]\n",
      "处理种子论文:  77%|███████▋  | 1421/1849 [13:14:56<1:54:02, 15.99s/it]"
     ]
    },
    {
     "name": "stdout",
     "output_type": "stream",
     "text": [
      "已保存临时结果\n"
     ]
    },
    {
     "name": "stderr",
     "output_type": "stream",
     "text": [
      "处理参考文献 https://openalex.org/W4387544535: 100%|██████████| 6/6 [00:06<00:00,  1.14s/it]\n",
      "处理参考文献 https://openalex.org/W4391028248: 100%|██████████| 12/12 [00:13<00:00,  1.09s/it]\n",
      "处理参考文献 https://openalex.org/W4385808739: 100%|██████████| 14/14 [00:17<00:00,  1.22s/it]\n",
      "处理参考文献 https://openalex.org/W4386745292: 100%|██████████| 12/12 [00:13<00:00,  1.15s/it]\n",
      "处理种子论文:  77%|███████▋  | 1426/1849 [13:15:54<1:46:07, 15.05s/it]"
     ]
    },
    {
     "name": "stdout",
     "output_type": "stream",
     "text": [
      "已保存临时结果\n"
     ]
    },
    {
     "name": "stderr",
     "output_type": "stream",
     "text": [
      "处理参考文献 https://openalex.org/W4391698521: 100%|██████████| 1/1 [00:01<00:00,  1.04s/it]\n",
      "处理参考文献 https://openalex.org/W4313065382: 100%|██████████| 5/5 [00:05<00:00,  1.18s/it]\n",
      "处理参考文献 https://openalex.org/W4389620842: 100%|██████████| 4/4 [00:04<00:00,  1.16s/it]\n",
      "处理参考文献 https://openalex.org/W3082276053: 100%|██████████| 3/3 [00:03<00:00,  1.15s/it]\n",
      "处理种子论文:  77%|███████▋  | 1431/1849 [13:16:17<53:49,  7.73s/it]"
     ]
    },
    {
     "name": "stdout",
     "output_type": "stream",
     "text": [
      "已保存临时结果\n"
     ]
    },
    {
     "name": "stderr",
     "output_type": "stream",
     "text": [
      "处理参考文献 https://openalex.org/W4311175909: 100%|██████████| 6/6 [00:07<00:00,  1.20s/it]\n",
      "处理参考文献 https://openalex.org/W2955068147: 100%|██████████| 7/7 [00:08<00:00,  1.16s/it]\n",
      "处理种子论文:  78%|███████▊  | 1436/1849 [13:16:40<36:12,  5.26s/it]"
     ]
    },
    {
     "name": "stdout",
     "output_type": "stream",
     "text": [
      "已保存临时结果\n"
     ]
    },
    {
     "name": "stderr",
     "output_type": "stream",
     "text": [
      "处理参考文献 https://openalex.org/W4408292750: 100%|██████████| 16/16 [00:17<00:00,  1.12s/it]\n",
      "处理参考文献 https://openalex.org/W4408680675: 100%|██████████| 4/4 [00:04<00:00,  1.13s/it]\n",
      "处理参考文献 https://openalex.org/W4392851713: 100%|██████████| 4/4 [00:04<00:00,  1.12s/it]\n",
      "处理参考文献 https://openalex.org/W4399922411: 100%|██████████| 16/16 [00:19<00:00,  1.21s/it]\n",
      "处理种子论文:  78%|███████▊  | 1441/1849 [13:17:34<1:07:47,  9.97s/it]"
     ]
    },
    {
     "name": "stdout",
     "output_type": "stream",
     "text": [
      "已保存临时结果\n"
     ]
    },
    {
     "name": "stderr",
     "output_type": "stream",
     "text": [
      "处理参考文献 https://openalex.org/W4241264845: 100%|██████████| 13/13 [00:15<00:00,  1.22s/it]\n"
     ]
    },
    {
     "name": "stdout",
     "output_type": "stream",
     "text": [
      "开始处理论文 https://openalex.org/W4241264845，总被引: 3，预计页数: 1\n"
     ]
    },
    {
     "name": "stderr",
     "output_type": "stream",
     "text": [
      "分页获取: 100%|██████████| 1/1 [00:01<00:00,  1.67s/it]\n",
      "处理参考文献 https://openalex.org/W4210649917: 100%|██████████| 2/2 [00:02<00:00,  1.18s/it]\n",
      "处理参考文献 https://openalex.org/W4323923285: 100%|██████████| 9/9 [00:10<00:00,  1.18s/it]\n",
      "处理参考文献 https://openalex.org/W4393060288: 100%|██████████| 3/3 [00:03<00:00,  1.03s/it]\n",
      "处理种子论文:  78%|███████▊  | 1446/1849 [13:18:15<58:41,  8.74s/it]"
     ]
    },
    {
     "name": "stdout",
     "output_type": "stream",
     "text": [
      "已保存临时结果\n"
     ]
    },
    {
     "name": "stderr",
     "output_type": "stream",
     "text": [
      "处理参考文献 https://openalex.org/W4390713846: 100%|██████████| 12/12 [00:13<00:00,  1.15s/it]\n",
      "处理参考文献 https://openalex.org/W4389086775: 100%|██████████| 26/26 [00:30<00:00,  1.15s/it]\n",
      "处理参考文献 https://openalex.org/W4404252150: 100%|██████████| 2/2 [00:02<00:00,  1.16s/it]\n",
      "处理种子论文:  78%|███████▊  | 1451/1849 [13:19:08<1:06:01,  9.95s/it]"
     ]
    },
    {
     "name": "stdout",
     "output_type": "stream",
     "text": [
      "已保存临时结果\n"
     ]
    },
    {
     "name": "stderr",
     "output_type": "stream",
     "text": [
      "处理参考文献 https://openalex.org/W4394686672: 100%|██████████| 6/6 [00:06<00:00,  1.06s/it]\n",
      "处理参考文献 https://openalex.org/W4403998729: 100%|██████████| 17/17 [00:19<00:00,  1.16s/it]\n",
      "处理参考文献 https://openalex.org/W4408697316: 100%|██████████| 86/86 [01:41<00:00,  1.18s/it]\n",
      "处理种子论文:  79%|███████▊  | 1456/1849 [13:21:23<3:11:44, 29.27s/it]"
     ]
    },
    {
     "name": "stdout",
     "output_type": "stream",
     "text": [
      "已保存临时结果\n"
     ]
    },
    {
     "name": "stderr",
     "output_type": "stream",
     "text": [
      "处理参考文献 https://openalex.org/W4399582728: 100%|██████████| 12/12 [00:15<00:00,  1.29s/it]\n",
      "处理参考文献 https://openalex.org/W4405083455: 100%|██████████| 57/57 [01:05<00:00,  1.15s/it]\n",
      "处理参考文献 https://openalex.org/W4405285871: 100%|██████████| 1/1 [00:01<00:00,  1.04s/it]\n",
      "处理种子论文:  79%|███████▉  | 1461/1849 [13:22:53<2:16:45, 21.15s/it]"
     ]
    },
    {
     "name": "stdout",
     "output_type": "stream",
     "text": [
      "已保存临时结果\n"
     ]
    },
    {
     "name": "stderr",
     "output_type": "stream",
     "text": [
      "处理参考文献 https://openalex.org/W4321600894: 100%|██████████| 22/22 [00:24<00:00,  1.12s/it]\n",
      "处理参考文献 https://openalex.org/W4399293088: 100%|██████████| 2/2 [00:02<00:00,  1.15s/it]\n",
      "处理参考文献 https://openalex.org/W4405374279: 100%|██████████| 2/2 [00:02<00:00,  1.20s/it]\n",
      "处理参考文献 https://openalex.org/W4395702166: 100%|██████████| 9/9 [00:10<00:00,  1.12s/it]\n",
      "处理种子论文:  79%|███████▉  | 1466/1849 [13:23:40<1:18:59, 12.38s/it]"
     ]
    },
    {
     "name": "stdout",
     "output_type": "stream",
     "text": [
      "已保存临时结果\n"
     ]
    },
    {
     "name": "stderr",
     "output_type": "stream",
     "text": [
      "处理参考文献 https://openalex.org/W4404730791: 100%|██████████| 12/12 [00:13<00:00,  1.10s/it]\n",
      "处理参考文献 https://openalex.org/W4400299434: 100%|██████████| 14/14 [00:16<00:00,  1.17s/it]\n",
      "处理种子论文:  80%|███████▉  | 1471/1849 [13:24:18<49:36,  7.87s/it]  "
     ]
    },
    {
     "name": "stdout",
     "output_type": "stream",
     "text": [
      "已保存临时结果\n"
     ]
    },
    {
     "name": "stderr",
     "output_type": "stream",
     "text": [
      "处理参考文献 https://openalex.org/W3008565154: 100%|██████████| 5/5 [00:05<00:00,  1.20s/it]\n",
      "处理参考文献 https://openalex.org/W4401615907: 100%|██████████| 4/4 [00:04<00:00,  1.13s/it]\n",
      "处理种子论文:  80%|███████▉  | 1473/1849 [13:24:28<42:51,  6.84s/it]"
     ]
    },
    {
     "name": "stdout",
     "output_type": "stream",
     "text": [
      "获取论文W3142039076时出错：('Connection aborted.', ConnectionResetError(10054, 'An existing connection was forcibly closed by the remote host', None, 10054, None))\n"
     ]
    },
    {
     "name": "stderr",
     "output_type": "stream",
     "text": [
      "处理参考文献 https://openalex.org/W4392295599: 100%|██████████| 59/59 [01:10<00:00,  1.19s/it]\n",
      "处理参考文献 https://openalex.org/W4372353266: 100%|██████████| 7/7 [00:08<00:00,  1.15s/it]\n",
      "处理种子论文:  80%|███████▉  | 1476/1849 [13:25:54<1:41:08, 16.27s/it]"
     ]
    },
    {
     "name": "stdout",
     "output_type": "stream",
     "text": [
      "已保存临时结果\n"
     ]
    },
    {
     "name": "stderr",
     "output_type": "stream",
     "text": [
      "处理参考文献 https://openalex.org/W4387063746: 100%|██████████| 5/5 [00:05<00:00,  1.14s/it]\n",
      "处理参考文献 https://openalex.org/W4396682876: 100%|██████████| 11/11 [00:12<00:00,  1.17s/it]\n",
      "处理参考文献 https://openalex.org/W4304144027: 100%|██████████| 1/1 [00:01<00:00,  1.10s/it]\n",
      "处理种子论文:  80%|████████  | 1481/1849 [13:26:22<58:06,  9.47s/it]"
     ]
    },
    {
     "name": "stdout",
     "output_type": "stream",
     "text": [
      "已保存临时结果\n"
     ]
    },
    {
     "name": "stderr",
     "output_type": "stream",
     "text": [
      "处理参考文献 https://openalex.org/W4363625512: 100%|██████████| 7/7 [00:07<00:00,  1.14s/it]\n",
      "处理参考文献 https://openalex.org/W4378219977: 100%|██████████| 10/10 [00:11<00:00,  1.12s/it]\n",
      "处理参考文献 https://openalex.org/W4391861393: 100%|██████████| 13/13 [00:13<00:00,  1.06s/it]\n",
      "处理种子论文:  80%|████████  | 1486/1849 [13:27:02<54:53,  9.07s/it]"
     ]
    },
    {
     "name": "stdout",
     "output_type": "stream",
     "text": [
      "已保存临时结果\n"
     ]
    },
    {
     "name": "stderr",
     "output_type": "stream",
     "text": [
      "处理参考文献 https://openalex.org/W4398197574: 100%|██████████| 7/7 [00:08<00:00,  1.18s/it]\n",
      "处理参考文献 https://openalex.org/W4392001529: 100%|██████████| 16/16 [00:18<00:00,  1.18s/it]\n",
      "处理参考文献 https://openalex.org/W4400604604: 100%|██████████| 3/3 [00:03<00:00,  1.06s/it]\n",
      "处理种子论文:  81%|████████  | 1491/1849 [13:27:40<47:35,  7.98s/it]"
     ]
    },
    {
     "name": "stdout",
     "output_type": "stream",
     "text": [
      "已保存临时结果\n"
     ]
    },
    {
     "name": "stderr",
     "output_type": "stream",
     "text": [
      "处理参考文献 https://openalex.org/W3163869063: 100%|██████████| 6/6 [00:06<00:00,  1.15s/it]\n",
      "处理参考文献 https://openalex.org/W3138004044: 100%|██████████| 2/2 [00:02<00:00,  1.13s/it]\n",
      "处理参考文献 https://openalex.org/W2807774849: 100%|██████████| 17/17 [00:19<00:00,  1.16s/it]\n",
      "处理种子论文:  81%|████████  | 1496/1849 [13:28:16<49:26,  8.40s/it]"
     ]
    },
    {
     "name": "stdout",
     "output_type": "stream",
     "text": [
      "已保存临时结果\n"
     ]
    },
    {
     "name": "stderr",
     "output_type": "stream",
     "text": [
      "处理参考文献 https://openalex.org/W4401400501: 100%|██████████| 19/19 [00:21<00:00,  1.13s/it]\n",
      "处理参考文献 https://openalex.org/W4394014645: 100%|██████████| 5/5 [00:06<00:00,  1.20s/it]\n",
      "处理参考文献 https://openalex.org/W4392864159: 100%|██████████| 8/8 [00:09<00:00,  1.14s/it]\n",
      "处理种子论文:  81%|████████  | 1501/1849 [13:29:00<54:48,  9.45s/it]"
     ]
    },
    {
     "name": "stdout",
     "output_type": "stream",
     "text": [
      "已保存临时结果\n"
     ]
    },
    {
     "name": "stderr",
     "output_type": "stream",
     "text": [
      "处理参考文献 https://openalex.org/W4393299656: 100%|██████████| 4/4 [00:04<00:00,  1.16s/it]\n",
      "处理参考文献 https://openalex.org/W4403789951: 100%|██████████| 25/25 [00:28<00:00,  1.13s/it]\n",
      "处理参考文献 https://openalex.org/W4405309305: 100%|██████████| 13/13 [00:15<00:00,  1.16s/it]\n",
      "处理参考文献 https://openalex.org/W4390656561: 100%|██████████| 34/34 [00:38<00:00,  1.14s/it]\n",
      "处理参考文献 https://openalex.org/W4408190306: 100%|██████████| 132/132 [02:32<00:00,  1.15s/it]\n",
      "处理种子论文:  81%|████████▏ | 1506/1849 [13:33:07<5:42:40, 59.94s/it]"
     ]
    },
    {
     "name": "stdout",
     "output_type": "stream",
     "text": [
      "已保存临时结果\n"
     ]
    },
    {
     "name": "stderr",
     "output_type": "stream",
     "text": [
      "处理参考文献 https://openalex.org/W4285013185: 100%|██████████| 12/12 [00:13<00:00,  1.13s/it]\n",
      "处理参考文献 https://openalex.org/W4391263929: 100%|██████████| 4/4 [00:04<00:00,  1.12s/it]\n",
      "处理种子论文:  82%|████████▏ | 1511/1849 [13:33:33<2:07:40, 22.66s/it]"
     ]
    },
    {
     "name": "stdout",
     "output_type": "stream",
     "text": [
      "已保存临时结果\n"
     ]
    },
    {
     "name": "stderr",
     "output_type": "stream",
     "text": [
      "处理参考文献 https://openalex.org/W4394993584: 100%|██████████| 3/3 [00:03<00:00,  1.15s/it]\n",
      "处理参考文献 https://openalex.org/W4390459062: 100%|██████████| 37/37 [00:42<00:00,  1.14s/it]\n",
      "处理种子论文:  82%|████████▏ | 1516/1849 [13:34:26<1:25:07, 15.34s/it]"
     ]
    },
    {
     "name": "stdout",
     "output_type": "stream",
     "text": [
      "已保存临时结果\n"
     ]
    },
    {
     "name": "stderr",
     "output_type": "stream",
     "text": [
      "处理参考文献 https://openalex.org/W4390542113: 100%|██████████| 19/19 [00:20<00:00,  1.08s/it]\n",
      "处理参考文献 https://openalex.org/W2799749673: 100%|██████████| 3/3 [00:03<00:00,  1.17s/it]\n",
      "处理参考文献 https://openalex.org/W4397037027: 100%|██████████| 12/12 [00:12<00:00,  1.08s/it]\n",
      "处理参考文献 https://openalex.org/W4393716327: 100%|██████████| 1/1 [00:01<00:00,  1.18s/it]\n",
      "处理种子论文:  82%|████████▏ | 1521/1849 [13:35:12<58:45, 10.75s/it]  "
     ]
    },
    {
     "name": "stdout",
     "output_type": "stream",
     "text": [
      "已保存临时结果\n"
     ]
    },
    {
     "name": "stderr",
     "output_type": "stream",
     "text": [
      "处理参考文献 https://openalex.org/W4387678249: 100%|██████████| 11/11 [00:12<00:00,  1.18s/it]\n",
      "处理参考文献 https://openalex.org/W4389148356: 100%|██████████| 12/12 [00:13<00:00,  1.13s/it]\n",
      "处理参考文献 https://openalex.org/W4388829816: 100%|██████████| 1/1 [00:01<00:00,  1.30s/it]\n",
      "处理参考文献 https://openalex.org/W4401025815: 100%|██████████| 34/34 [00:39<00:00,  1.15s/it]\n",
      "处理种子论文:  83%|████████▎ | 1526/1849 [13:36:26<1:21:44, 15.18s/it]"
     ]
    },
    {
     "name": "stdout",
     "output_type": "stream",
     "text": [
      "已保存临时结果\n"
     ]
    },
    {
     "name": "stderr",
     "output_type": "stream",
     "text": [
      "处理参考文献 https://openalex.org/W4408412532: 100%|██████████| 30/30 [00:33<00:00,  1.12s/it]\n",
      "处理参考文献 https://openalex.org/W4404854169: 100%|██████████| 73/73 [01:25<00:00,  1.18s/it]\n",
      "处理参考文献 https://openalex.org/W4317824921: 100%|██████████| 29/29 [00:35<00:00,  1.21s/it]\n",
      "处理种子论文:  83%|████████▎ | 1531/1849 [13:39:12<2:14:59, 25.47s/it]"
     ]
    },
    {
     "name": "stdout",
     "output_type": "stream",
     "text": [
      "已保存临时结果\n"
     ]
    },
    {
     "name": "stderr",
     "output_type": "stream",
     "text": [
      "处理参考文献 https://openalex.org/W4405727560: 100%|██████████| 11/11 [00:13<00:00,  1.21s/it]\n",
      "处理参考文献 https://openalex.org/W4401610352: 100%|██████████| 3/3 [00:03<00:00,  1.12s/it]\n",
      "处理种子论文:  83%|████████▎ | 1536/1849 [13:39:36<54:57, 10.54s/it]  "
     ]
    },
    {
     "name": "stdout",
     "output_type": "stream",
     "text": [
      "已保存临时结果\n"
     ]
    },
    {
     "name": "stderr",
     "output_type": "stream",
     "text": [
      "处理参考文献 https://openalex.org/W4393157267: 100%|██████████| 11/11 [00:12<00:00,  1.13s/it]\n",
      "处理参考文献 https://openalex.org/W4401275588: 100%|██████████| 1/1 [00:01<00:00,  1.13s/it]\n",
      "处理参考文献 https://openalex.org/W4394694699: 100%|██████████| 2/2 [00:02<00:00,  1.13s/it]\n",
      "处理参考文献 https://openalex.org/W3116345411: 100%|██████████| 4/4 [00:04<00:00,  1.18s/it]\n",
      "处理参考文献 https://openalex.org/W3040087779: 100%|██████████| 7/7 [00:07<00:00,  1.14s/it]\n",
      "处理种子论文:  83%|████████▎ | 1541/1849 [13:40:12<45:45,  8.91s/it]"
     ]
    },
    {
     "name": "stdout",
     "output_type": "stream",
     "text": [
      "已保存临时结果\n"
     ]
    },
    {
     "name": "stderr",
     "output_type": "stream",
     "text": [
      "处理参考文献 https://openalex.org/W4402448371: 100%|██████████| 48/48 [00:54<00:00,  1.14s/it]\n",
      "处理种子论文:  84%|████████▎ | 1546/1849 [13:41:14<50:24,  9.98s/it]  "
     ]
    },
    {
     "name": "stdout",
     "output_type": "stream",
     "text": [
      "已保存临时结果\n"
     ]
    },
    {
     "name": "stderr",
     "output_type": "stream",
     "text": [
      "处理参考文献 https://openalex.org/W4407088923: 100%|██████████| 4/4 [00:04<00:00,  1.19s/it]\n",
      "处理参考文献 https://openalex.org/W4407188987: 100%|██████████| 34/34 [00:38<00:00,  1.12s/it]\n",
      "处理种子论文:  84%|████████▍ | 1551/1849 [13:42:05<57:52, 11.65s/it]"
     ]
    },
    {
     "name": "stdout",
     "output_type": "stream",
     "text": [
      "已保存临时结果\n"
     ]
    },
    {
     "name": "stderr",
     "output_type": "stream",
     "text": [
      "处理参考文献 https://openalex.org/W4309978452: 100%|██████████| 13/13 [00:14<00:00,  1.08s/it]\n",
      "处理参考文献 https://openalex.org/W4313228595: 100%|██████████| 41/41 [00:45<00:00,  1.11s/it]\n",
      "处理种子论文:  84%|████████▍ | 1556/1849 [13:43:12<57:39, 11.81s/it]  "
     ]
    },
    {
     "name": "stdout",
     "output_type": "stream",
     "text": [
      "已保存临时结果\n"
     ]
    },
    {
     "name": "stderr",
     "output_type": "stream",
     "text": [
      "处理参考文献 https://openalex.org/W4389566636: 100%|██████████| 29/29 [00:33<00:00,  1.16s/it]\n",
      "处理参考文献 https://openalex.org/W4389200157: 100%|██████████| 8/8 [00:09<00:00,  1.14s/it]\n",
      "处理参考文献 https://openalex.org/W4391922364: 100%|██████████| 29/29 [00:32<00:00,  1.11s/it]\n",
      "处理参考文献 https://openalex.org/W4395070370: 100%|██████████| 15/15 [00:16<00:00,  1.13s/it]\n",
      "处理种子论文:  84%|████████▍ | 1561/1849 [13:44:52<1:22:10, 17.12s/it]"
     ]
    },
    {
     "name": "stdout",
     "output_type": "stream",
     "text": [
      "已保存临时结果\n"
     ]
    },
    {
     "name": "stderr",
     "output_type": "stream",
     "text": [
      "处理参考文献 https://openalex.org/W4401828019: 100%|██████████| 43/43 [00:48<00:00,  1.13s/it]\n",
      "处理参考文献 https://openalex.org/W4405696776: 100%|██████████| 23/23 [00:27<00:00,  1.18s/it]\n",
      "处理参考文献 https://openalex.org/W4388775654: 100%|██████████| 9/9 [00:09<00:00,  1.08s/it]\n",
      "处理参考文献 https://openalex.org/W4388827768: 100%|██████████| 4/4 [00:04<00:00,  1.16s/it]\n",
      "处理参考文献 https://openalex.org/W4398331157: 100%|██████████| 15/15 [00:17<00:00,  1.17s/it]\n",
      "处理种子论文:  85%|████████▍ | 1566/1849 [13:46:48<1:29:54, 19.06s/it]"
     ]
    },
    {
     "name": "stdout",
     "output_type": "stream",
     "text": [
      "已保存临时结果\n"
     ]
    },
    {
     "name": "stderr",
     "output_type": "stream",
     "text": [
      "处理参考文献 https://openalex.org/W4401228084: 100%|██████████| 9/9 [00:10<00:00,  1.13s/it]\n",
      "处理参考文献 https://openalex.org/W4402928930: 100%|██████████| 82/82 [01:33<00:00,  1.14s/it]\n",
      "处理种子论文:  85%|████████▍ | 1570/1849 [13:48:32<1:54:31, 24.63s/it]"
     ]
    },
    {
     "name": "stdout",
     "output_type": "stream",
     "text": [
      "开始处理论文 https://openalex.org/W3080528188，总被引: 1，预计页数: 1\n"
     ]
    },
    {
     "name": "stderr",
     "output_type": "stream",
     "text": [
      "分页获取: 100%|██████████| 1/1 [00:01<00:00,  1.36s/it]\n",
      "处理种子论文:  85%|████████▍ | 1571/1849 [13:48:41<1:39:07, 21.40s/it]"
     ]
    },
    {
     "name": "stdout",
     "output_type": "stream",
     "text": [
      "已保存临时结果\n"
     ]
    },
    {
     "name": "stderr",
     "output_type": "stream",
     "text": [
      "处理参考文献 https://openalex.org/W4393430456: 100%|██████████| 10/10 [00:11<00:00,  1.14s/it]\n",
      "处理参考文献 https://openalex.org/W4399784542: 100%|██████████| 8/8 [00:08<00:00,  1.12s/it]\n",
      "处理参考文献 https://openalex.org/W4385790789: 100%|██████████| 58/58 [01:07<00:00,  1.16s/it]\n"
     ]
    },
    {
     "name": "stdout",
     "output_type": "stream",
     "text": [
      "开始处理论文 https://openalex.org/W4385790789，总被引: 1，预计页数: 1\n"
     ]
    },
    {
     "name": "stderr",
     "output_type": "stream",
     "text": [
      "分页获取: 100%|██████████| 1/1 [00:01<00:00,  1.68s/it]\n",
      "处理种子论文:  85%|████████▌ | 1576/1849 [13:50:18<1:32:07, 20.25s/it]"
     ]
    },
    {
     "name": "stdout",
     "output_type": "stream",
     "text": [
      "已保存临时结果\n"
     ]
    },
    {
     "name": "stderr",
     "output_type": "stream",
     "text": [
      "处理参考文献 https://openalex.org/W4408422145: 100%|██████████| 74/74 [01:26<00:00,  1.16s/it]\n",
      "处理参考文献 https://openalex.org/W4408527464: 100%|██████████| 19/19 [00:20<00:00,  1.10s/it]\n",
      "处理参考文献 https://openalex.org/W4387898410: 100%|██████████| 1/1 [00:01<00:00,  1.20s/it]\n",
      "处理参考文献 https://openalex.org/W4386135279: 100%|██████████| 4/4 [00:04<00:00,  1.15s/it]\n",
      "处理种子论文:  86%|████████▌ | 1581/1849 [13:52:18<1:24:16, 18.87s/it]"
     ]
    },
    {
     "name": "stdout",
     "output_type": "stream",
     "text": [
      "已保存临时结果\n"
     ]
    },
    {
     "name": "stderr",
     "output_type": "stream",
     "text": []
    },
    {
     "name": "stdout",
     "output_type": "stream",
     "text": [
      "获取论文W4229632424时出错：('Connection aborted.', ConnectionResetError(10054, 'An existing connection was forcibly closed by the remote host', None, 10054, None))\n"
     ]
    },
    {
     "name": "stderr",
     "output_type": "stream",
     "text": [
      "处理参考文献 https://openalex.org/W4408122917: 100%|██████████| 59/59 [01:09<00:00,  1.17s/it]\n",
      "处理参考文献 https://openalex.org/W4396848077: 100%|██████████| 2/2 [00:02<00:00,  1.15s/it]\n",
      "处理参考文献 https://openalex.org/W4394688572: 100%|██████████| 44/44 [00:50<00:00,  1.16s/it]\n",
      "处理种子论文:  86%|████████▌ | 1586/1849 [13:54:28<1:24:07, 19.19s/it]"
     ]
    },
    {
     "name": "stdout",
     "output_type": "stream",
     "text": [
      "已保存临时结果\n"
     ]
    },
    {
     "name": "stderr",
     "output_type": "stream",
     "text": [
      "处理参考文献 https://openalex.org/W4396875168: 100%|██████████| 81/81 [01:28<00:00,  1.09s/it]\n",
      "处理参考文献 https://openalex.org/W4406329808: 100%|██████████| 28/28 [00:32<00:00,  1.17s/it]\n",
      "处理参考文献 https://openalex.org/W4396762871: 100%|██████████| 59/59 [01:04<00:00,  1.09s/it]\n",
      "处理参考文献 https://openalex.org/W4396744526: 100%|██████████| 14/14 [00:15<00:00,  1.12s/it]\n",
      "处理种子论文:  86%|████████▌ | 1591/1849 [13:57:58<2:16:21, 31.71s/it]"
     ]
    },
    {
     "name": "stdout",
     "output_type": "stream",
     "text": [
      "已保存临时结果\n"
     ]
    },
    {
     "name": "stderr",
     "output_type": "stream",
     "text": [
      "处理参考文献 https://openalex.org/W4401133936: 100%|██████████| 2/2 [00:02<00:00,  1.16s/it]\n",
      "处理参考文献 https://openalex.org/W4311597544: 100%|██████████| 13/13 [00:15<00:00,  1.16s/it]\n",
      "处理参考文献 https://openalex.org/W2949186057: 100%|██████████| 44/44 [00:49<00:00,  1.13s/it]\n",
      "处理参考文献 https://openalex.org/W4408318851: 100%|██████████| 19/19 [00:21<00:00,  1.13s/it]\n",
      "处理种子论文:  86%|████████▋ | 1596/1849 [13:59:35<1:36:54, 22.98s/it]"
     ]
    },
    {
     "name": "stdout",
     "output_type": "stream",
     "text": [
      "已保存临时结果\n"
     ]
    },
    {
     "name": "stderr",
     "output_type": "stream",
     "text": [
      "处理参考文献 https://openalex.org/W4407837512: 100%|██████████| 4/4 [00:04<00:00,  1.15s/it]\n",
      "处理参考文献 https://openalex.org/W4245569265: 100%|██████████| 5/5 [00:05<00:00,  1.15s/it]\n",
      "处理参考文献 https://openalex.org/W4400960006: 100%|██████████| 22/22 [00:25<00:00,  1.16s/it]\n",
      "处理参考文献 https://openalex.org/W4390763805: 100%|██████████| 3/3 [00:03<00:00,  1.04s/it]\n",
      "处理种子论文:  87%|████████▋ | 1601/1849 [14:00:22<1:00:49, 14.72s/it]"
     ]
    },
    {
     "name": "stdout",
     "output_type": "stream",
     "text": [
      "已保存临时结果\n"
     ]
    },
    {
     "name": "stderr",
     "output_type": "stream",
     "text": [
      "处理参考文献 https://openalex.org/W4395080049: 100%|██████████| 1/1 [00:01<00:00,  1.36s/it]\n",
      "处理参考文献 https://openalex.org/W4401288000: 100%|██████████| 1/1 [00:01<00:00,  1.12s/it]\n",
      "处理参考文献 https://openalex.org/W4391880948: 100%|██████████| 35/35 [00:38<00:00,  1.09s/it]\n",
      "处理种子论文:  87%|████████▋ | 1606/1849 [14:01:10<54:10, 13.38s/it]"
     ]
    },
    {
     "name": "stdout",
     "output_type": "stream",
     "text": [
      "已保存临时结果\n"
     ]
    },
    {
     "name": "stderr",
     "output_type": "stream",
     "text": [
      "处理参考文献 https://openalex.org/W4392032068: 100%|██████████| 5/5 [00:05<00:00,  1.05s/it]\n",
      "处理参考文献 https://openalex.org/W4402699679: 100%|██████████| 1/1 [00:01<00:00,  1.10s/it]\n",
      "处理参考文献 https://openalex.org/W4394782807: 100%|██████████| 6/6 [00:07<00:00,  1.20s/it]\n",
      "处理种子论文:  87%|████████▋ | 1611/1849 [14:01:31<26:06,  6.58s/it]"
     ]
    },
    {
     "name": "stdout",
     "output_type": "stream",
     "text": [
      "已保存临时结果\n"
     ]
    },
    {
     "name": "stderr",
     "output_type": "stream",
     "text": [
      "处理参考文献 https://openalex.org/W4401346638: 100%|██████████| 72/72 [01:21<00:00,  1.14s/it]\n",
      "处理参考文献 https://openalex.org/W4396879610: 100%|██████████| 1/1 [00:01<00:00,  1.14s/it]\n",
      "处理参考文献 https://openalex.org/W4385493917: 100%|██████████| 8/8 [00:11<00:00,  1.47s/it]\n",
      "处理参考文献 https://openalex.org/W4210259044: 100%|██████████| 20/20 [00:22<00:00,  1.14s/it]\n",
      "处理种子论文:  87%|████████▋ | 1616/1849 [14:03:36<1:06:32, 17.14s/it]"
     ]
    },
    {
     "name": "stdout",
     "output_type": "stream",
     "text": [
      "已保存临时结果\n"
     ]
    },
    {
     "name": "stderr",
     "output_type": "stream",
     "text": [
      "处理参考文献 https://openalex.org/W3013613451: 100%|██████████| 8/8 [00:09<00:00,  1.14s/it]\n",
      "处理参考文献 https://openalex.org/W4400093789: 100%|██████████| 25/25 [00:29<00:00,  1.16s/it]\n",
      "处理参考文献 https://openalex.org/W4396863020: 100%|██████████| 17/17 [00:19<00:00,  1.12s/it]\n",
      "处理参考文献 https://openalex.org/W4403189702: 100%|██████████| 57/57 [01:05<00:00,  1.16s/it]\n",
      "处理种子论文:  88%|████████▊ | 1621/1849 [14:05:48<1:58:32, 31.19s/it]"
     ]
    },
    {
     "name": "stdout",
     "output_type": "stream",
     "text": [
      "已保存临时结果\n"
     ]
    },
    {
     "name": "stderr",
     "output_type": "stream",
     "text": [
      "处理参考文献 https://openalex.org/W4396712147: 100%|██████████| 8/8 [00:08<00:00,  1.10s/it]\n",
      "处理参考文献 https://openalex.org/W4401778364: 100%|██████████| 6/6 [00:06<00:00,  1.10s/it]\n",
      "处理参考文献 https://openalex.org/W4394709040: 100%|██████████| 4/4 [00:04<00:00,  1.14s/it]\n",
      "处理种子论文:  88%|████████▊ | 1626/1849 [14:06:15<46:49, 12.60s/it]  "
     ]
    },
    {
     "name": "stdout",
     "output_type": "stream",
     "text": [
      "已保存临时结果\n"
     ]
    },
    {
     "name": "stderr",
     "output_type": "stream",
     "text": [
      "处理参考文献 https://openalex.org/W4403321734: 100%|██████████| 47/47 [00:52<00:00,  1.13s/it]\n",
      "处理参考文献 https://openalex.org/W4387712037: 100%|██████████| 5/5 [00:06<00:00,  1.24s/it]\n",
      "处理参考文献 https://openalex.org/W4406771353: 100%|██████████| 3/3 [00:03<00:00,  1.11s/it]\n",
      "处理种子论文:  88%|████████▊ | 1631/1849 [14:07:26<40:00, 11.01s/it]"
     ]
    },
    {
     "name": "stdout",
     "output_type": "stream",
     "text": [
      "已保存临时结果\n"
     ]
    },
    {
     "name": "stderr",
     "output_type": "stream",
     "text": [
      "处理参考文献 https://openalex.org/W4408773824: 100%|██████████| 60/60 [01:07<00:00,  1.13s/it]\n",
      "处理参考文献 https://openalex.org/W4393238867: 100%|██████████| 1/1 [00:01<00:00,  1.03s/it]\n",
      "处理参考文献 https://openalex.org/W4401120872: 100%|██████████| 31/31 [00:37<00:00,  1.20s/it]\n",
      "处理种子论文:  88%|████████▊ | 1636/1849 [14:09:20<1:13:32, 20.71s/it]"
     ]
    },
    {
     "name": "stdout",
     "output_type": "stream",
     "text": [
      "已保存临时结果\n"
     ]
    },
    {
     "name": "stderr",
     "output_type": "stream",
     "text": [
      "处理参考文献 https://openalex.org/W4399270190: 100%|██████████| 43/43 [00:48<00:00,  1.12s/it]\n",
      "处理参考文献 https://openalex.org/W4400095062: 100%|██████████| 3/3 [00:03<00:00,  1.12s/it]\n",
      "处理种子论文:  89%|████████▉ | 1641/1849 [14:10:20<39:59, 11.53s/it]  "
     ]
    },
    {
     "name": "stdout",
     "output_type": "stream",
     "text": [
      "已保存临时结果\n"
     ]
    },
    {
     "name": "stderr",
     "output_type": "stream",
     "text": [
      "处理参考文献 https://openalex.org/W4398235065: 100%|██████████| 1/1 [00:01<00:00,  1.13s/it]\n",
      "处理参考文献 https://openalex.org/W4404303591: 100%|██████████| 59/59 [01:07<00:00,  1.15s/it]\n",
      "处理参考文献 https://openalex.org/W4405703961: 100%|██████████| 8/8 [00:09<00:00,  1.14s/it]\n",
      "处理种子论文:  89%|████████▉ | 1646/1849 [14:11:46<43:54, 12.98s/it]  "
     ]
    },
    {
     "name": "stdout",
     "output_type": "stream",
     "text": [
      "已保存临时结果\n"
     ]
    },
    {
     "name": "stderr",
     "output_type": "stream",
     "text": [
      "处理参考文献 https://openalex.org/W4396832441: 100%|██████████| 18/18 [00:19<00:00,  1.09s/it]\n",
      "处理参考文献 https://openalex.org/W4400317954: 100%|██████████| 15/15 [00:17<00:00,  1.16s/it]\n",
      "处理参考文献 https://openalex.org/W4389817662: 100%|██████████| 1/1 [00:01<00:00,  1.12s/it]\n",
      "处理种子论文:  89%|████████▉ | 1651/1849 [14:12:32<27:24,  8.31s/it]"
     ]
    },
    {
     "name": "stdout",
     "output_type": "stream",
     "text": [
      "已保存临时结果\n"
     ]
    },
    {
     "name": "stderr",
     "output_type": "stream",
     "text": [
      "处理参考文献 https://openalex.org/W4387907243: 100%|██████████| 6/6 [00:06<00:00,  1.15s/it]\n",
      "处理参考文献 https://openalex.org/W3183562530: 100%|██████████| 4/4 [00:04<00:00,  1.07s/it]\n",
      "处理参考文献 https://openalex.org/W4406088715: 100%|██████████| 67/67 [01:17<00:00,  1.16s/it]\n",
      "处理参考文献 https://openalex.org/W4320020395: 100%|██████████| 3/3 [00:03<00:00,  1.10s/it]\n",
      "处理种子论文:  90%|████████▉ | 1656/1849 [14:14:12<52:11, 16.22s/it]  "
     ]
    },
    {
     "name": "stdout",
     "output_type": "stream",
     "text": [
      "已保存临时结果\n"
     ]
    },
    {
     "name": "stderr",
     "output_type": "stream",
     "text": [
      "处理参考文献 https://openalex.org/W4394860283: 100%|██████████| 28/28 [00:32<00:00,  1.17s/it]\n",
      "处理参考文献 https://openalex.org/W4400386024: 100%|██████████| 99/99 [01:51<00:00,  1.13s/it]\n",
      "处理参考文献 https://openalex.org/W4405363172: 100%|██████████| 15/15 [00:17<00:00,  1.20s/it]\n",
      "处理参考文献 https://openalex.org/W4395666854: 100%|██████████| 2/2 [00:02<00:00,  1.16s/it]\n",
      "处理种子论文:  90%|████████▉ | 1661/1849 [14:17:04<1:13:12, 23.37s/it]"
     ]
    },
    {
     "name": "stdout",
     "output_type": "stream",
     "text": [
      "已保存临时结果\n"
     ]
    },
    {
     "name": "stderr",
     "output_type": "stream",
     "text": [
      "处理参考文献 https://openalex.org/W4399274670: 100%|██████████| 7/7 [00:07<00:00,  1.10s/it]\n",
      "处理参考文献 https://openalex.org/W4401081713: 100%|██████████| 31/31 [00:35<00:00,  1.15s/it]\n",
      "处理种子论文:  90%|█████████ | 1666/1849 [14:17:55<44:07, 14.47s/it]  "
     ]
    },
    {
     "name": "stdout",
     "output_type": "stream",
     "text": [
      "已保存临时结果\n"
     ]
    },
    {
     "name": "stderr",
     "output_type": "stream",
     "text": [
      "处理参考文献 https://openalex.org/W4391017841: 100%|██████████| 15/15 [00:17<00:00,  1.14s/it]\n",
      "处理种子论文:  90%|█████████ | 1671/1849 [14:18:21<28:34,  9.63s/it]"
     ]
    },
    {
     "name": "stdout",
     "output_type": "stream",
     "text": [
      "已保存临时结果\n"
     ]
    },
    {
     "name": "stderr",
     "output_type": "stream",
     "text": [
      "处理参考文献 https://openalex.org/W4391563930: 100%|██████████| 7/7 [00:07<00:00,  1.09s/it]\n",
      "处理参考文献 https://openalex.org/W4407923461: 100%|██████████| 28/28 [00:31<00:00,  1.14s/it]\n",
      "处理参考文献 https://openalex.org/W4408904359: 100%|██████████| 51/51 [00:59<00:00,  1.16s/it]\n",
      "处理种子论文:  91%|█████████ | 1676/1849 [14:20:07<50:39, 17.57s/it]"
     ]
    },
    {
     "name": "stdout",
     "output_type": "stream",
     "text": [
      "已保存临时结果\n"
     ]
    },
    {
     "name": "stderr",
     "output_type": "stream",
     "text": [
      "处理参考文献 https://openalex.org/W4365395940: 100%|██████████| 4/4 [00:04<00:00,  1.12s/it]\n",
      "处理参考文献 https://openalex.org/W4365396604: 100%|██████████| 4/4 [00:04<00:00,  1.03s/it]\n",
      "处理参考文献 https://openalex.org/W4389050407: 100%|██████████| 13/13 [00:15<00:00,  1.16s/it]\n",
      "处理种子论文:  91%|█████████ | 1681/1849 [14:20:39<34:57, 12.49s/it]"
     ]
    },
    {
     "name": "stdout",
     "output_type": "stream",
     "text": [
      "已保存临时结果\n"
     ]
    },
    {
     "name": "stderr",
     "output_type": "stream",
     "text": [
      "处理参考文献 https://openalex.org/W2908950495: 100%|██████████| 3/3 [00:03<00:00,  1.13s/it]\n",
      "处理参考文献 https://openalex.org/W3168473569: 100%|██████████| 8/8 [00:09<00:00,  1.17s/it]\n",
      "处理参考文献 https://openalex.org/W4381233238: 100%|██████████| 6/6 [00:06<00:00,  1.12s/it]\n",
      "处理种子论文:  91%|█████████ | 1686/1849 [14:21:06<23:45,  8.75s/it]"
     ]
    },
    {
     "name": "stdout",
     "output_type": "stream",
     "text": [
      "已保存临时结果\n"
     ]
    },
    {
     "name": "stderr",
     "output_type": "stream",
     "text": [
      "处理参考文献 https://openalex.org/W4385067089: 100%|██████████| 77/77 [01:27<00:00,  1.14s/it]\n"
     ]
    },
    {
     "name": "stdout",
     "output_type": "stream",
     "text": [
      "开始处理论文 https://openalex.org/W4385067089，总被引: 6，预计页数: 1\n"
     ]
    },
    {
     "name": "stderr",
     "output_type": "stream",
     "text": [
      "分页获取: 100%|██████████| 1/1 [00:01<00:00,  1.75s/it]\n",
      "处理参考文献 https://openalex.org/W4406246425: 100%|██████████| 1/1 [00:01<00:00,  1.13s/it]\n",
      "处理参考文献 https://openalex.org/W4393046683: 100%|██████████| 8/8 [00:08<00:00,  1.06s/it]\n",
      "处理种子论文:  91%|█████████▏| 1691/1849 [14:22:53<35:30, 13.49s/it]"
     ]
    },
    {
     "name": "stdout",
     "output_type": "stream",
     "text": [
      "已保存临时结果\n"
     ]
    },
    {
     "name": "stderr",
     "output_type": "stream",
     "text": [
      "处理参考文献 https://openalex.org/W4399418987: 100%|██████████| 21/21 [00:23<00:00,  1.12s/it]\n",
      "处理参考文献 https://openalex.org/W4395454845: 100%|██████████| 15/15 [00:16<00:00,  1.13s/it]\n",
      "处理参考文献 https://openalex.org/W4403184883: 100%|██████████| 43/43 [00:49<00:00,  1.16s/it]\n",
      "处理参考文献 https://openalex.org/W4405802735: 100%|██████████| 4/4 [00:04<00:00,  1.15s/it]\n",
      "处理参考文献 https://openalex.org/W4393336490: 100%|██████████| 2/2 [00:02<00:00,  1.12s/it]\n",
      "处理种子论文:  92%|█████████▏| 1696/1849 [14:24:38<42:29, 16.66s/it]"
     ]
    },
    {
     "name": "stdout",
     "output_type": "stream",
     "text": [
      "已保存临时结果\n"
     ]
    },
    {
     "name": "stderr",
     "output_type": "stream",
     "text": [
      "处理参考文献 https://openalex.org/W4394691255: 100%|██████████| 45/45 [00:48<00:00,  1.07s/it]\n",
      "处理参考文献 https://openalex.org/W4404978841: 100%|██████████| 21/21 [00:23<00:00,  1.12s/it]\n",
      "处理参考文献 https://openalex.org/W4394595046: 100%|██████████| 9/9 [00:10<00:00,  1.12s/it]\n",
      "处理种子论文:  92%|█████████▏| 1701/1849 [14:26:08<36:26, 14.78s/it]"
     ]
    },
    {
     "name": "stdout",
     "output_type": "stream",
     "text": [
      "已保存临时结果\n"
     ]
    },
    {
     "name": "stderr",
     "output_type": "stream",
     "text": [
      "处理参考文献 https://openalex.org/W4406363268: 100%|██████████| 67/67 [01:17<00:00,  1.15s/it]\n",
      "处理参考文献 https://openalex.org/W4383668210: 100%|██████████| 10/10 [00:11<00:00,  1.13s/it]\n",
      "处理参考文献 https://openalex.org/W4404019138: 100%|██████████| 3/3 [00:03<00:00,  1.12s/it]\n",
      "处理种子论文:  92%|█████████▏| 1706/1849 [14:27:47<33:03, 13.87s/it]  "
     ]
    },
    {
     "name": "stdout",
     "output_type": "stream",
     "text": [
      "已保存临时结果\n"
     ]
    },
    {
     "name": "stderr",
     "output_type": "stream",
     "text": [
      "处理参考文献 https://openalex.org/W4391730574: 100%|██████████| 12/12 [00:13<00:00,  1.13s/it]\n",
      "处理参考文献 https://openalex.org/W3153109931: 100%|██████████| 24/24 [00:26<00:00,  1.11s/it]\n",
      "处理参考文献 https://openalex.org/W4389526349: 100%|██████████| 53/53 [01:01<00:00,  1.16s/it]\n"
     ]
    },
    {
     "name": "stdout",
     "output_type": "stream",
     "text": [
      "开始处理论文 https://openalex.org/W4389526349，总被引: 2，预计页数: 1\n"
     ]
    },
    {
     "name": "stderr",
     "output_type": "stream",
     "text": [
      "分页获取: 100%|██████████| 1/1 [00:01<00:00,  1.60s/it]\n",
      "处理参考文献 https://openalex.org/W4390356043: 100%|██████████| 4/4 [00:04<00:00,  1.15s/it]\n",
      "处理参考文献 https://openalex.org/W4400185775: 100%|██████████| 3/3 [00:03<00:00,  1.13s/it]\n",
      "处理种子论文:  93%|█████████▎| 1711/1849 [14:29:47<43:57, 19.11s/it]"
     ]
    },
    {
     "name": "stdout",
     "output_type": "stream",
     "text": [
      "已保存临时结果\n"
     ]
    },
    {
     "name": "stderr",
     "output_type": "stream",
     "text": [
      "处理参考文献 https://openalex.org/W4388601708: 100%|██████████| 35/35 [00:38<00:00,  1.10s/it]\n",
      "处理参考文献 https://openalex.org/W4402434245: 100%|██████████| 4/4 [00:04<00:00,  1.14s/it]\n",
      "处理参考文献 https://openalex.org/W4392873520: 100%|██████████| 12/12 [00:12<00:00,  1.07s/it]\n",
      "处理种子论文:  93%|█████████▎| 1716/1849 [14:30:51<29:06, 13.13s/it]"
     ]
    },
    {
     "name": "stdout",
     "output_type": "stream",
     "text": [
      "已保存临时结果\n"
     ]
    },
    {
     "name": "stderr",
     "output_type": "stream",
     "text": [
      "处理参考文献 https://openalex.org/W4396647242: 100%|██████████| 8/8 [00:09<00:00,  1.18s/it]\n",
      "处理种子论文:  93%|█████████▎| 1721/1849 [14:31:08<13:53,  6.51s/it]"
     ]
    },
    {
     "name": "stdout",
     "output_type": "stream",
     "text": [
      "已保存临时结果\n"
     ]
    },
    {
     "name": "stderr",
     "output_type": "stream",
     "text": [
      "处理参考文献 https://openalex.org/W4400936711: 100%|██████████| 70/70 [01:20<00:00,  1.14s/it]\n",
      "处理参考文献 https://openalex.org/W4401627023: 100%|██████████| 126/126 [02:23<00:00,  1.14s/it]\n",
      "处理参考文献 https://openalex.org/W4402313402: 100%|██████████| 44/44 [00:50<00:00,  1.16s/it]\n",
      "处理参考文献 https://openalex.org/W4403655676: 100%|██████████| 49/49 [00:55<00:00,  1.13s/it]\n",
      "处理种子论文:  93%|█████████▎| 1726/1849 [14:36:47<1:25:33, 41.74s/it]"
     ]
    },
    {
     "name": "stdout",
     "output_type": "stream",
     "text": [
      "已保存临时结果\n"
     ]
    },
    {
     "name": "stderr",
     "output_type": "stream",
     "text": [
      "处理参考文献 https://openalex.org/W4396876339: 100%|██████████| 11/11 [00:12<00:00,  1.10s/it]\n",
      "处理参考文献 https://openalex.org/W4397003571: 100%|██████████| 11/11 [00:12<00:00,  1.14s/it]\n",
      "处理参考文献 https://openalex.org/W4404636580: 100%|██████████| 61/61 [01:09<00:00,  1.14s/it]\n",
      "处理种子论文:  94%|█████████▎| 1731/1849 [14:38:29<54:35, 27.75s/it]"
     ]
    },
    {
     "name": "stdout",
     "output_type": "stream",
     "text": [
      "已保存临时结果\n"
     ]
    },
    {
     "name": "stderr",
     "output_type": "stream",
     "text": [
      "处理参考文献 https://openalex.org/W4380884907: 100%|██████████| 1/1 [00:01<00:00,  1.39s/it]\n",
      "处理参考文献 https://openalex.org/W4389310296: 100%|██████████| 13/13 [00:15<00:00,  1.17s/it]\n",
      "处理种子论文:  94%|█████████▍| 1736/1849 [14:38:55<26:34, 14.11s/it]"
     ]
    },
    {
     "name": "stdout",
     "output_type": "stream",
     "text": [
      "已保存临时结果\n"
     ]
    },
    {
     "name": "stderr",
     "output_type": "stream",
     "text": [
      "处理参考文献 https://openalex.org/W4386422775: 100%|██████████| 36/36 [00:40<00:00,  1.14s/it]\n",
      "处理参考文献 https://openalex.org/W4408529498: 100%|██████████| 11/11 [00:12<00:00,  1.10s/it]\n",
      "处理参考文献 https://openalex.org/W4408827984: 100%|██████████| 10/10 [00:11<00:00,  1.14s/it]\n",
      "处理种子论文:  94%|█████████▍| 1741/1849 [14:40:07<24:26, 13.58s/it]"
     ]
    },
    {
     "name": "stdout",
     "output_type": "stream",
     "text": [
      "已保存临时结果\n"
     ]
    },
    {
     "name": "stderr",
     "output_type": "stream",
     "text": [
      "处理参考文献 https://openalex.org/W4392849169: 100%|██████████| 19/19 [00:21<00:00,  1.12s/it]\n",
      "处理种子论文:  94%|█████████▍| 1746/1849 [14:40:37<15:50,  9.23s/it]"
     ]
    },
    {
     "name": "stdout",
     "output_type": "stream",
     "text": [
      "已保存临时结果\n"
     ]
    },
    {
     "name": "stderr",
     "output_type": "stream",
     "text": [
      "处理参考文献 https://openalex.org/W4401655804: 100%|██████████| 22/22 [00:25<00:00,  1.15s/it]\n",
      "处理参考文献 https://openalex.org/W4399982344: 100%|██████████| 4/4 [00:04<00:00,  1.15s/it]\n",
      "处理参考文献 https://openalex.org/W4402649319: 100%|██████████| 2/2 [00:02<00:00,  1.18s/it]\n",
      "处理参考文献 https://openalex.org/W4401223163: 100%|██████████| 8/8 [00:08<00:00,  1.10s/it]\n",
      "处理种子论文:  95%|█████████▍| 1751/1849 [14:41:26<16:04,  9.85s/it]"
     ]
    },
    {
     "name": "stdout",
     "output_type": "stream",
     "text": [
      "已保存临时结果\n"
     ]
    },
    {
     "name": "stderr",
     "output_type": "stream",
     "text": [
      "处理参考文献 https://openalex.org/W4405428685: 100%|██████████| 16/16 [00:18<00:00,  1.17s/it]\n",
      "处理参考文献 https://openalex.org/W4403718346: 100%|██████████| 7/7 [00:07<00:00,  1.13s/it]\n",
      "处理参考文献 https://openalex.org/W4392748665: 100%|██████████| 5/5 [00:05<00:00,  1.14s/it]\n",
      "处理参考文献 https://openalex.org/W2960785045: 100%|██████████| 48/48 [00:55<00:00,  1.15s/it]\n"
     ]
    },
    {
     "name": "stdout",
     "output_type": "stream",
     "text": [
      "开始处理论文 https://openalex.org/W2960785045，总被引: 10，预计页数: 1\n"
     ]
    },
    {
     "name": "stderr",
     "output_type": "stream",
     "text": [
      "分页获取: 100%|██████████| 1/1 [00:01<00:00,  1.78s/it]\n",
      "处理种子论文:  95%|█████████▍| 1756/1849 [14:43:03<33:27, 21.59s/it]"
     ]
    },
    {
     "name": "stdout",
     "output_type": "stream",
     "text": [
      "已保存临时结果\n"
     ]
    },
    {
     "name": "stderr",
     "output_type": "stream",
     "text": [
      "处理参考文献 https://openalex.org/W4401726523: 100%|██████████| 36/36 [00:43<00:00,  1.22s/it]\n"
     ]
    },
    {
     "name": "stdout",
     "output_type": "stream",
     "text": [
      "开始处理论文 https://openalex.org/W4401726523，总被引: 2，预计页数: 1\n"
     ]
    },
    {
     "name": "stderr",
     "output_type": "stream",
     "text": [
      "分页获取: 100%|██████████| 1/1 [00:01<00:00,  1.61s/it]\n",
      "处理参考文献 https://openalex.org/W4396692009: 100%|██████████| 12/12 [00:14<00:00,  1.18s/it]\n",
      "处理种子论文:  95%|█████████▌| 1761/1849 [14:44:11<23:26, 15.99s/it]"
     ]
    },
    {
     "name": "stdout",
     "output_type": "stream",
     "text": [
      "已保存临时结果\n"
     ]
    },
    {
     "name": "stderr",
     "output_type": "stream",
     "text": [
      "处理参考文献 https://openalex.org/W4379032240: 100%|██████████| 61/61 [01:10<00:00,  1.15s/it]\n",
      "处理种子论文:  95%|█████████▌| 1762/1849 [14:45:21<37:56, 26.16s/it]"
     ]
    },
    {
     "name": "stdout",
     "output_type": "stream",
     "text": [
      "开始处理论文 https://openalex.org/W4392179730，总被引: 2，预计页数: 1\n"
     ]
    },
    {
     "name": "stderr",
     "output_type": "stream",
     "text": [
      "分页获取: 100%|██████████| 1/1 [00:01<00:00,  1.33s/it]\n",
      "处理参考文献 https://openalex.org/W4394882103: 100%|██████████| 46/46 [00:52<00:00,  1.15s/it]\n",
      "处理参考文献 https://openalex.org/W4404295906: 100%|██████████| 29/29 [00:34<00:00,  1.19s/it]\n",
      "处理种子论文:  96%|█████████▌| 1766/1849 [14:46:58<35:23, 25.58s/it]"
     ]
    },
    {
     "name": "stdout",
     "output_type": "stream",
     "text": [
      "已保存临时结果\n"
     ]
    },
    {
     "name": "stderr",
     "output_type": "stream",
     "text": [
      "处理参考文献 https://openalex.org/W4393365053: 100%|██████████| 7/7 [00:08<00:00,  1.16s/it]\n",
      "处理种子论文:  96%|█████████▌| 1771/1849 [14:47:14<14:29, 11.15s/it]"
     ]
    },
    {
     "name": "stdout",
     "output_type": "stream",
     "text": [
      "已保存临时结果\n"
     ]
    },
    {
     "name": "stderr",
     "output_type": "stream",
     "text": [
      "处理参考文献 https://openalex.org/W4394825014: 100%|██████████| 4/4 [00:04<00:00,  1.15s/it]\n",
      "处理参考文献 https://openalex.org/W4388973668: 100%|██████████| 15/15 [00:17<00:00,  1.17s/it]\n"
     ]
    },
    {
     "name": "stdout",
     "output_type": "stream",
     "text": [
      "开始处理论文 https://openalex.org/W4388973668，总被引: 1，预计页数: 1\n"
     ]
    },
    {
     "name": "stderr",
     "output_type": "stream",
     "text": [
      "分页获取: 100%|██████████| 1/1 [00:01<00:00,  1.49s/it]\n",
      "处理参考文献 https://openalex.org/W4387023575: 100%|██████████| 46/46 [00:52<00:00,  1.14s/it]\n"
     ]
    },
    {
     "name": "stdout",
     "output_type": "stream",
     "text": [
      "开始处理论文 https://openalex.org/W4387023575，总被引: 1，预计页数: 1\n"
     ]
    },
    {
     "name": "stderr",
     "output_type": "stream",
     "text": [
      "分页获取: 100%|██████████| 1/1 [00:01<00:00,  1.27s/it]\n",
      "处理种子论文:  96%|█████████▌| 1776/1849 [14:48:40<22:02, 18.11s/it]"
     ]
    },
    {
     "name": "stdout",
     "output_type": "stream",
     "text": [
      "已保存临时结果\n"
     ]
    },
    {
     "name": "stderr",
     "output_type": "stream",
     "text": [
      "处理参考文献 https://openalex.org/W4396661626: 100%|██████████| 2/2 [00:02<00:00,  1.10s/it]\n",
      "处理参考文献 https://openalex.org/W4404399397: 100%|██████████| 171/171 [03:12<00:00,  1.13s/it]\n",
      "处理参考文献 https://openalex.org/W4402770905: 100%|██████████| 10/10 [00:11<00:00,  1.16s/it]\n",
      "处理种子论文:  96%|█████████▋| 1781/1849 [14:52:15<36:23, 32.11s/it]"
     ]
    },
    {
     "name": "stdout",
     "output_type": "stream",
     "text": [
      "已保存临时结果\n",
      "开始处理论文 https://openalex.org/W2504951369，总被引: 1，预计页数: 1\n"
     ]
    },
    {
     "name": "stderr",
     "output_type": "stream",
     "text": [
      "分页获取: 100%|██████████| 1/1 [00:01<00:00,  1.48s/it]\n",
      "处理参考文献 https://openalex.org/W4396711501: 100%|██████████| 14/14 [00:15<00:00,  1.12s/it]\n",
      "处理参考文献 https://openalex.org/W3049262859: 100%|██████████| 2/2 [00:02<00:00,  1.20s/it]\n"
     ]
    },
    {
     "name": "stdout",
     "output_type": "stream",
     "text": [
      "开始处理论文 https://openalex.org/W3049262859，总被引: 1，预计页数: 1\n"
     ]
    },
    {
     "name": "stderr",
     "output_type": "stream",
     "text": [
      "分页获取: 100%|██████████| 1/1 [00:01<00:00,  1.38s/it]\n",
      "处理参考文献 https://openalex.org/W3201350604: 100%|██████████| 3/3 [00:03<00:00,  1.11s/it]\n",
      "处理种子论文:  97%|█████████▋| 1786/1849 [14:52:47<13:34, 12.92s/it]"
     ]
    },
    {
     "name": "stdout",
     "output_type": "stream",
     "text": [
      "已保存临时结果\n"
     ]
    },
    {
     "name": "stderr",
     "output_type": "stream",
     "text": [
      "处理参考文献 https://openalex.org/W3117490981: 100%|██████████| 3/3 [00:03<00:00,  1.11s/it]\n",
      "处理参考文献 https://openalex.org/W4401586480: 100%|██████████| 18/18 [00:22<00:00,  1.22s/it]\n",
      "处理参考文献 https://openalex.org/W4400974473: 100%|██████████| 7/7 [00:07<00:00,  1.13s/it]\n",
      "处理种子论文:  97%|█████████▋| 1791/1849 [14:53:29<08:14,  8.52s/it]"
     ]
    },
    {
     "name": "stdout",
     "output_type": "stream",
     "text": [
      "已保存临时结果\n"
     ]
    },
    {
     "name": "stderr",
     "output_type": "stream",
     "text": [
      "处理参考文献 https://openalex.org/W4404044985: 100%|██████████| 11/11 [00:12<00:00,  1.16s/it]\n",
      "处理种子论文:  97%|█████████▋| 1796/1849 [14:53:49<05:10,  5.86s/it]"
     ]
    },
    {
     "name": "stdout",
     "output_type": "stream",
     "text": [
      "已保存临时结果\n"
     ]
    },
    {
     "name": "stderr",
     "output_type": "stream",
     "text": [
      "处理参考文献 https://openalex.org/W4400173216: 100%|██████████| 5/5 [00:05<00:00,  1.15s/it]\n",
      "处理参考文献 https://openalex.org/W4408963829: 100%|██████████| 13/13 [00:14<00:00,  1.09s/it]\n",
      "处理参考文献 https://openalex.org/W2937015982: 100%|██████████| 5/5 [00:05<00:00,  1.12s/it]\n"
     ]
    },
    {
     "name": "stdout",
     "output_type": "stream",
     "text": [
      "开始处理论文 https://openalex.org/W2937015982，总被引: 3，预计页数: 1\n"
     ]
    },
    {
     "name": "stderr",
     "output_type": "stream",
     "text": [
      "分页获取: 100%|██████████| 1/1 [00:01<00:00,  1.41s/it]\n",
      "处理参考文献 https://openalex.org/W4283752185: 100%|██████████| 21/21 [00:24<00:00,  1.15s/it]\n"
     ]
    },
    {
     "name": "stdout",
     "output_type": "stream",
     "text": [
      "开始处理论文 https://openalex.org/W4283752185，总被引: 4，预计页数: 1\n"
     ]
    },
    {
     "name": "stderr",
     "output_type": "stream",
     "text": [
      "分页获取: 100%|██████████| 1/1 [00:02<00:00,  2.01s/it]\n",
      "处理参考文献 https://openalex.org/W4309637974: 100%|██████████| 13/13 [00:15<00:00,  1.18s/it]\n",
      "处理种子论文:  97%|█████████▋| 1801/1849 [14:55:06<11:30, 14.39s/it]"
     ]
    },
    {
     "name": "stdout",
     "output_type": "stream",
     "text": [
      "已保存临时结果\n"
     ]
    },
    {
     "name": "stderr",
     "output_type": "stream",
     "text": [
      "处理参考文献 https://openalex.org/W4400969559: 100%|██████████| 20/20 [00:23<00:00,  1.16s/it]\n"
     ]
    },
    {
     "name": "stdout",
     "output_type": "stream",
     "text": [
      "开始处理论文 https://openalex.org/W4400969559，总被引: 4，预计页数: 1\n"
     ]
    },
    {
     "name": "stderr",
     "output_type": "stream",
     "text": [
      "分页获取: 100%|██████████| 1/1 [00:01<00:00,  1.83s/it]\n",
      "处理参考文献 https://openalex.org/W4323825254: 100%|██████████| 2/2 [00:02<00:00,  1.13s/it]\n"
     ]
    },
    {
     "name": "stdout",
     "output_type": "stream",
     "text": [
      "开始处理论文 https://openalex.org/W4323825254，总被引: 1，预计页数: 1\n"
     ]
    },
    {
     "name": "stderr",
     "output_type": "stream",
     "text": [
      "分页获取: 100%|██████████| 1/1 [00:01<00:00,  1.31s/it]\n",
      "处理种子论文:  98%|█████████▊| 1806/1849 [14:55:43<06:11,  8.64s/it]"
     ]
    },
    {
     "name": "stdout",
     "output_type": "stream",
     "text": [
      "已保存临时结果\n",
      "开始处理论文 https://openalex.org/W4313537864，总被引: 1，预计页数: 1\n"
     ]
    },
    {
     "name": "stderr",
     "output_type": "stream",
     "text": [
      "分页获取: 100%|██████████| 1/1 [00:01<00:00,  1.41s/it]\n",
      "处理参考文献 https://openalex.org/W4388524906: 100%|██████████| 1/1 [00:01<00:00,  1.41s/it]\n"
     ]
    },
    {
     "name": "stdout",
     "output_type": "stream",
     "text": [
      "开始处理论文 https://openalex.org/W4388524906，总被引: 2，预计页数: 1\n"
     ]
    },
    {
     "name": "stderr",
     "output_type": "stream",
     "text": [
      "分页获取: 100%|██████████| 1/1 [00:01<00:00,  1.94s/it]\n",
      "处理种子论文:  98%|█████████▊| 1811/1849 [14:55:56<03:00,  4.76s/it]"
     ]
    },
    {
     "name": "stdout",
     "output_type": "stream",
     "text": [
      "已保存临时结果\n"
     ]
    },
    {
     "name": "stderr",
     "output_type": "stream",
     "text": [
      "处理参考文献 https://openalex.org/W2911746338: 100%|██████████| 8/8 [00:09<00:00,  1.14s/it]\n"
     ]
    },
    {
     "name": "stdout",
     "output_type": "stream",
     "text": [
      "开始处理论文 https://openalex.org/W2911746338，总被引: 1，预计页数: 1\n"
     ]
    },
    {
     "name": "stderr",
     "output_type": "stream",
     "text": [
      "分页获取: 100%|██████████| 1/1 [00:01<00:00,  1.39s/it]\n",
      "处理参考文献 https://openalex.org/W4401389579: 100%|██████████| 1/1 [00:01<00:00,  1.04s/it]\n",
      "处理参考文献 https://openalex.org/W2333713527: 100%|██████████| 1/1 [00:01<00:00,  1.12s/it]\n",
      "处理种子论文:  98%|█████████▊| 1816/1849 [14:56:17<02:31,  4.58s/it]"
     ]
    },
    {
     "name": "stdout",
     "output_type": "stream",
     "text": [
      "已保存临时结果\n"
     ]
    },
    {
     "name": "stderr",
     "output_type": "stream",
     "text": [
      "处理参考文献 https://openalex.org/W4377046946: 100%|██████████| 9/9 [00:10<00:00,  1.14s/it]\n",
      "处理参考文献 https://openalex.org/W3133361037: 100%|██████████| 95/95 [01:51<00:00,  1.17s/it]\n"
     ]
    },
    {
     "name": "stdout",
     "output_type": "stream",
     "text": [
      "开始处理论文 https://openalex.org/W3133361037，总被引: 1，预计页数: 1\n"
     ]
    },
    {
     "name": "stderr",
     "output_type": "stream",
     "text": [
      "分页获取: 100%|██████████| 1/1 [00:01<00:00,  1.70s/it]\n",
      "处理参考文献 https://openalex.org/W4388575771: 100%|██████████| 3/3 [00:03<00:00,  1.14s/it]\n",
      "处理参考文献 https://openalex.org/W4399256217: 100%|██████████| 2/2 [00:02<00:00,  1.20s/it]\n",
      "处理种子论文:  98%|█████████▊| 1821/1849 [14:58:34<08:33, 18.34s/it]"
     ]
    },
    {
     "name": "stdout",
     "output_type": "stream",
     "text": [
      "已保存临时结果\n"
     ]
    },
    {
     "name": "stderr",
     "output_type": "stream",
     "text": [
      "处理参考文献 https://openalex.org/W4313591507: 100%|██████████| 17/17 [00:20<00:00,  1.20s/it]\n"
     ]
    },
    {
     "name": "stdout",
     "output_type": "stream",
     "text": [
      "开始处理论文 https://openalex.org/W4313591507，总被引: 1，预计页数: 1\n"
     ]
    },
    {
     "name": "stderr",
     "output_type": "stream",
     "text": [
      "分页获取: 100%|██████████| 1/1 [00:01<00:00,  1.33s/it]\n",
      "处理参考文献 https://openalex.org/W2316618129: 100%|██████████| 6/6 [00:06<00:00,  1.09s/it]\n",
      "处理种子论文:  99%|█████████▉| 1826/1849 [14:59:11<03:44,  9.74s/it]"
     ]
    },
    {
     "name": "stdout",
     "output_type": "stream",
     "text": [
      "已保存临时结果\n"
     ]
    },
    {
     "name": "stderr",
     "output_type": "stream",
     "text": [
      "处理参考文献 https://openalex.org/W4388813857: 100%|██████████| 2/2 [00:02<00:00,  1.18s/it]\n",
      "处理参考文献 https://openalex.org/W4390713867: 100%|██████████| 5/5 [00:05<00:00,  1.17s/it]\n",
      "处理种子论文:  99%|█████████▉| 1831/1849 [14:59:27<01:55,  6.39s/it]"
     ]
    },
    {
     "name": "stdout",
     "output_type": "stream",
     "text": [
      "已保存临时结果\n"
     ]
    },
    {
     "name": "stderr",
     "output_type": "stream",
     "text": [
      "处理参考文献 https://openalex.org/W4406402713: 100%|██████████| 8/8 [00:09<00:00,  1.13s/it]\n",
      "处理种子论文:  99%|█████████▉| 1836/1849 [14:59:45<01:03,  4.87s/it]"
     ]
    },
    {
     "name": "stdout",
     "output_type": "stream",
     "text": [
      "已保存临时结果\n"
     ]
    },
    {
     "name": "stderr",
     "output_type": "stream",
     "text": [
      "处理参考文献 https://openalex.org/W2912033622: 100%|██████████| 2/2 [00:02<00:00,  1.16s/it]\n",
      "处理参考文献 https://openalex.org/W4387339479: 100%|██████████| 11/11 [00:12<00:00,  1.15s/it]\n",
      "处理种子论文: 100%|█████████▉| 1841/1849 [15:00:08<00:41,  5.15s/it]"
     ]
    },
    {
     "name": "stdout",
     "output_type": "stream",
     "text": [
      "已保存临时结果\n"
     ]
    },
    {
     "name": "stderr",
     "output_type": "stream",
     "text": [
      "处理参考文献 https://openalex.org/W4320857418: 100%|██████████| 19/19 [00:22<00:00,  1.18s/it]\n",
      "处理参考文献 https://openalex.org/W4385837492: 100%|██████████| 21/21 [00:25<00:00,  1.21s/it]\n",
      "处理参考文献 https://openalex.org/W2892624716: 100%|██████████| 12/12 [00:14<00:00,  1.17s/it]\n",
      "处理种子论文: 100%|█████████▉| 1846/1849 [15:01:18<00:31, 10.54s/it]"
     ]
    },
    {
     "name": "stdout",
     "output_type": "stream",
     "text": [
      "已保存临时结果\n"
     ]
    },
    {
     "name": "stderr",
     "output_type": "stream",
     "text": [
      "处理参考文献 https://openalex.org/W4295309681: 100%|██████████| 1/1 [00:01<00:00,  1.10s/it]\n",
      "处理参考文献 https://openalex.org/W4405016537: 100%|██████████| 41/41 [00:51<00:00,  1.26s/it]\n",
      "处理种子论文: 100%|██████████| 1849/1849 [15:02:11<00:00, 29.28s/it]\n"
     ]
    },
    {
     "name": "stdout",
     "output_type": "stream",
     "text": [
      "处理完成！\n"
     ]
    }
   ],
   "source": [
    "import requests\n",
    "import pandas as pd\n",
    "from tqdm import tqdm\n",
    "import time\n",
    "\n",
    "def fetch_work_details(work_id):\n",
    "    \"\"\"根据OpenAlex ID获取论文详细信息\"\"\"\n",
    "    url = f\"https://api.openalex.org/works/{work_id}\"\n",
    "    try:\n",
    "        response = requests.get(url)\n",
    "        if response.status_code == 200:\n",
    "            return response.json()\n",
    "        elif response.status_code == 429:\n",
    "            print(\"达到API速率限制，等待5秒...\")\n",
    "            time.sleep(5)\n",
    "            return fetch_work_details(work_id)\n",
    "        else:\n",
    "            print(f\"获取论文{work_id}失败，状态码：{response.status_code}\")\n",
    "            return None\n",
    "    except Exception as e:\n",
    "        print(f\"获取论文{work_id}时出错：{str(e)}\")\n",
    "        return None\n",
    "\n",
    "def process_references(seed_paper, ref_works):\n",
    "    \"\"\"处理参考文献数据\"\"\"\n",
    "    ref_list = []\n",
    "    if pd.isna(ref_works):\n",
    "        return ref_list\n",
    "    \n",
    "    ref_ids = [x.split('/')[-1] for x in ref_works.split('|')]\n",
    "    \n",
    "    for ref_id in tqdm(ref_ids, desc=f\"处理参考文献 {seed_paper['id']}\"):\n",
    "        ref_data = fetch_work_details(ref_id)\n",
    "        if ref_data:\n",
    "            ref_list.append({\n",
    "                'seed_paper_id': seed_paper['id'],\n",
    "                'seed_paper_title': seed_paper['title'],\n",
    "                'id': ref_data.get('id'),\n",
    "                'title': ref_data.get('title'),\n",
    "                'publication_year': ref_data.get('publication_year'),\n",
    "                'language': ref_data.get('language'),\n",
    "                'type': ref_data.get('type'),\n",
    "                'reference_work': '|'.join(ref_data.get('referenced_works', [])),\n",
    "                'cited_by_api_url': ref_data.get('cited_by_api_url'),\n",
    "                'abstract_inverted_index': ref_data.get('abstract_inverted_index', {})\n",
    "            })\n",
    "        time.sleep(0.1)  # 避免请求过于频繁\n",
    "    \n",
    "    return ref_list\n",
    "\n",
    "def process_citations(seed_paper, cited_by_url):\n",
    "    \"\"\"处理被引论文（利用cited_by_count预计算分页）\"\"\"\n",
    "    cited_list = []\n",
    "    if pd.isna(cited_by_url) or seed_paper.get('cited_by_count', 0) == 0:\n",
    "        return cited_list\n",
    "    \n",
    "    per_page = 200  # 每页最大200条\n",
    "    total_citations = int(seed_paper['cited_by_count'])\n",
    "    total_pages = (total_citations // per_page) + 1\n",
    "    retry_count = 0\n",
    "    max_retries = 3\n",
    "    \n",
    "    print(f\"开始处理论文 {seed_paper['id']}，总被引: {total_citations}，预计页数: {total_pages}\")\n",
    "    \n",
    "    for page in tqdm(range(1, total_pages + 1), desc=\"分页获取\"):\n",
    "        while retry_count <= max_retries:\n",
    "            try:\n",
    "                # 构造分页URL\n",
    "                paginated_url = f\"{cited_by_url}&page={page}&per_page={per_page}\"\n",
    "                response = requests.get(paginated_url)\n",
    "                \n",
    "                if response.status_code == 200:\n",
    "                    data = response.json()\n",
    "                    for cited_paper in data.get('results', []):\n",
    "                        cited_list.append({\n",
    "                            'seed_paper_id': seed_paper['id'],\n",
    "                            'seed_paper_title': seed_paper['title'],\n",
    "                            'id': cited_paper.get('id'),\n",
    "                            'title': cited_paper.get('title'),\n",
    "                            'publication_year': cited_paper.get('publication_year'),\n",
    "                            'language': cited_paper.get('language'),\n",
    "                            'type': cited_paper.get('type'),\n",
    "                            'reference_work': '|'.join(cited_paper.get('referenced_works', [])),\n",
    "                            'cited_by_api_url': cited_paper.get('cited_by_api_url'),\n",
    "                            'abstract_inverted_index': cited_paper.get('abstract_inverted_index', {})\n",
    "                        })\n",
    "                    break  # 成功则跳出重试循环\n",
    "                \n",
    "                elif response.status_code == 429:\n",
    "                    retry_count += 1\n",
    "                    wait_time = 5 * retry_count\n",
    "                    print(f\"速率限制，等待{wait_time}秒...\")\n",
    "                    time.sleep(wait_time)\n",
    "                else:\n",
    "                    print(f\"页码 {page} 请求失败，状态码: {response.status_code}\")\n",
    "                    break\n",
    "            \n",
    "            except Exception as e:\n",
    "                print(f\"页码 {page} 处理异常: {str(e)}\")\n",
    "                retry_count += 1\n",
    "                time.sleep(3)\n",
    "        \n",
    "        if retry_count > max_retries:\n",
    "            print(f\"页码 {page} 达到最大重试次数，跳过\")\n",
    "        retry_count = 0  # 重置计数器\n",
    "        time.sleep(0.3)  # 页间延迟\n",
    "    \n",
    "    # 验证数据完整性\n",
    "    if len(cited_list) != total_citations:\n",
    "        print(f\"警告: 论文 {seed_paper['id']} 应获取 {total_citations} 条，实际获取 {len(cited_list)} 条\")\n",
    "    \n",
    "    return cited_list\n",
    "\n",
    "def main():\n",
    "    # 读取种子论文数据集\n",
    "    #cleaned_data = cleaned_data  # 替换为你的实际文件路径\n",
    "    \n",
    "    # 初始化结果DataFrame\n",
    "    ref_df = pd.DataFrame(columns=[\n",
    "        'seed_paper_id', 'seed_paper_title', 'id', 'title', \n",
    "        'publication_year', 'language', 'type', \n",
    "        'reference_work', 'cited_by_api_url', 'abstract_inverted_index'\n",
    "    ])\n",
    "    \n",
    "    cited_df = pd.DataFrame(columns=[\n",
    "        'seed_paper_id', 'seed_paper_title', 'id', 'title', \n",
    "        'publication_year', 'language', 'type', \n",
    "        'reference_work', 'cited_by_api_url', 'abstract_inverted_index'\n",
    "    ])\n",
    "    \n",
    "    # 处理每篇种子论文\n",
    "    for _, row in tqdm(cleaned_data.iterrows(), total=len(cleaned_data), desc=\"处理种子论文\"):\n",
    "        # 处理参考文献\n",
    "        ref_data = process_references(row, row['referenced_works'])\n",
    "        if ref_data:\n",
    "            ref_df = pd.concat([ref_df, pd.DataFrame(ref_data)], ignore_index=True)\n",
    "        \n",
    "        # 处理被引论文\n",
    "        cited_data = process_citations(row, row['cited_by_api_url'])\n",
    "        if cited_data:\n",
    "            cited_df = pd.concat([cited_df, pd.DataFrame(cited_data)], ignore_index=True)\n",
    "        \n",
    "        # 每处理完5篇论文保存一次中间结果\n",
    "        if _ % 5 == 0:\n",
    "            ref_df.to_csv('references_temp.csv', index=False)\n",
    "            cited_df.to_csv('citations_temp.csv', index=False)\n",
    "            print(\"已保存临时结果\")\n",
    "    \n",
    "    # 保存最终结果\n",
    "    ref_df.to_csv('references_final.csv', index=False)\n",
    "    cited_df.to_csv('citations_final.csv', index=False)\n",
    "    print(\"处理完成！\")\n",
    "\n",
    "if __name__ == \"__main__\":\n",
    "    main()\n"
   ]
  },
  {
   "cell_type": "code",
   "execution_count": 62,
   "metadata": {},
   "outputs": [
    {
     "data": {
      "text/plain": [
       "{'id': 'https://openalex.org/W1503841534',\n",
       " 'doi': 'https://doi.org/10.2139/ssrn.1010965',\n",
       " 'title': 'Credit Rationing in Markets With Imperfect Information',\n",
       " 'display_name': 'Credit Rationing in Markets With Imperfect Information',\n",
       " 'publication_year': 2007,\n",
       " 'publication_date': '2007-01-01',\n",
       " 'ids': {'openalex': 'https://openalex.org/W1503841534',\n",
       "  'doi': 'https://doi.org/10.2139/ssrn.1010965',\n",
       "  'mag': '1503841534'},\n",
       " 'language': 'en',\n",
       " 'primary_location': {'is_oa': False,\n",
       "  'landing_page_url': 'https://doi.org/10.2139/ssrn.1010965',\n",
       "  'pdf_url': None,\n",
       "  'source': {'id': 'https://openalex.org/S4210172589',\n",
       "   'display_name': 'SSRN Electronic Journal',\n",
       "   'issn_l': '1556-5068',\n",
       "   'issn': ['1556-5068'],\n",
       "   'is_oa': False,\n",
       "   'is_in_doaj': False,\n",
       "   'is_indexed_in_scopus': False,\n",
       "   'is_core': False,\n",
       "   'host_organization': 'https://openalex.org/I1318003438',\n",
       "   'host_organization_name': 'RELX Group (Netherlands)',\n",
       "   'host_organization_lineage': ['https://openalex.org/I1318003438'],\n",
       "   'host_organization_lineage_names': ['RELX Group (Netherlands)'],\n",
       "   'type': 'repository'},\n",
       "  'license': None,\n",
       "  'license_id': None,\n",
       "  'version': None,\n",
       "  'is_accepted': False,\n",
       "  'is_published': False},\n",
       " 'type': 'article',\n",
       " 'type_crossref': 'journal-article',\n",
       " 'indexed_in': ['crossref'],\n",
       " 'open_access': {'is_oa': False,\n",
       "  'oa_status': 'closed',\n",
       "  'oa_url': None,\n",
       "  'any_repository_has_fulltext': False},\n",
       " 'authorships': [{'author_position': 'first',\n",
       "   'author': {'id': 'https://openalex.org/A5066910297',\n",
       "    'display_name': 'Marco Berardi',\n",
       "    'orcid': 'https://orcid.org/0000-0001-8199-5772'},\n",
       "   'institutions': [],\n",
       "   'countries': [],\n",
       "   'is_corresponding': True,\n",
       "   'raw_author_name': 'Marco Berardi',\n",
       "   'raw_affiliation_strings': ['DEA - Dipartimento di Economia Aziendale'],\n",
       "   'affiliations': [{'raw_affiliation_string': 'DEA - Dipartimento di Economia Aziendale',\n",
       "     'institution_ids': []}]}],\n",
       " 'institution_assertions': [],\n",
       " 'countries_distinct_count': 0,\n",
       " 'institutions_distinct_count': 0,\n",
       " 'corresponding_author_ids': ['https://openalex.org/A5066910297'],\n",
       " 'corresponding_institution_ids': [],\n",
       " 'apc_list': None,\n",
       " 'apc_paid': None,\n",
       " 'fwci': 11.462,\n",
       " 'has_fulltext': False,\n",
       " 'cited_by_count': 343,\n",
       " 'citation_normalized_percentile': {'value': 0.978367,\n",
       "  'is_in_top_1_percent': False,\n",
       "  'is_in_top_10_percent': True},\n",
       " 'cited_by_percentile_year': {'min': 99, 'max': 100},\n",
       " 'biblio': {'volume': None,\n",
       "  'issue': None,\n",
       "  'first_page': None,\n",
       "  'last_page': None},\n",
       " 'is_retracted': False,\n",
       " 'is_paratext': False,\n",
       " 'primary_topic': {'id': 'https://openalex.org/T10127',\n",
       "  'display_name': 'Banking stability, regulation, efficiency',\n",
       "  'score': 0.9905,\n",
       "  'subfield': {'id': 'https://openalex.org/subfields/2003',\n",
       "   'display_name': 'Finance'},\n",
       "  'field': {'id': 'https://openalex.org/fields/20',\n",
       "   'display_name': 'Economics, Econometrics and Finance'},\n",
       "  'domain': {'id': 'https://openalex.org/domains/2',\n",
       "   'display_name': 'Social Sciences'}},\n",
       " 'topics': [{'id': 'https://openalex.org/T10127',\n",
       "   'display_name': 'Banking stability, regulation, efficiency',\n",
       "   'score': 0.9905,\n",
       "   'subfield': {'id': 'https://openalex.org/subfields/2003',\n",
       "    'display_name': 'Finance'},\n",
       "   'field': {'id': 'https://openalex.org/fields/20',\n",
       "    'display_name': 'Economics, Econometrics and Finance'},\n",
       "   'domain': {'id': 'https://openalex.org/domains/2',\n",
       "    'display_name': 'Social Sciences'}},\n",
       "  {'id': 'https://openalex.org/T11496',\n",
       "   'display_name': 'Credit Risk and Financial Regulations',\n",
       "   'score': 0.9344,\n",
       "   'subfield': {'id': 'https://openalex.org/subfields/2003',\n",
       "    'display_name': 'Finance'},\n",
       "   'field': {'id': 'https://openalex.org/fields/20',\n",
       "    'display_name': 'Economics, Econometrics and Finance'},\n",
       "   'domain': {'id': 'https://openalex.org/domains/2',\n",
       "    'display_name': 'Social Sciences'}},\n",
       "  {'id': 'https://openalex.org/T10632',\n",
       "   'display_name': 'Housing Market and Economics',\n",
       "   'score': 0.9155,\n",
       "   'subfield': {'id': 'https://openalex.org/subfields/2002',\n",
       "    'display_name': 'Economics and Econometrics'},\n",
       "   'field': {'id': 'https://openalex.org/fields/20',\n",
       "    'display_name': 'Economics, Econometrics and Finance'},\n",
       "   'domain': {'id': 'https://openalex.org/domains/2',\n",
       "    'display_name': 'Social Sciences'}}],\n",
       " 'keywords': [{'id': 'https://openalex.org/keywords/credit-rationing',\n",
       "   'display_name': 'Credit rationing',\n",
       "   'score': 0.81878334},\n",
       "  {'id': 'https://openalex.org/keywords/rationing',\n",
       "   'display_name': 'Rationing',\n",
       "   'score': 0.7500578},\n",
       "  {'id': 'https://openalex.org/keywords/perfect-information',\n",
       "   'display_name': 'Perfect information',\n",
       "   'score': 0.5783077}],\n",
       " 'concepts': [{'id': 'https://openalex.org/C2780310539',\n",
       "   'wikidata': 'https://www.wikidata.org/wiki/Q12547192',\n",
       "   'display_name': 'Imperfect',\n",
       "   'level': 2,\n",
       "   'score': 0.8442948},\n",
       "  {'id': 'https://openalex.org/C2778137473',\n",
       "   'wikidata': 'https://www.wikidata.org/wiki/Q1787079',\n",
       "   'display_name': 'Credit rationing',\n",
       "   'level': 3,\n",
       "   'score': 0.81878334},\n",
       "  {'id': 'https://openalex.org/C2775994111',\n",
       "   'wikidata': 'https://www.wikidata.org/wiki/Q843478',\n",
       "   'display_name': 'Rationing',\n",
       "   'level': 3,\n",
       "   'score': 0.7500578},\n",
       "  {'id': 'https://openalex.org/C123676819',\n",
       "   'wikidata': 'https://www.wikidata.org/wiki/Q1074338',\n",
       "   'display_name': 'Perfect information',\n",
       "   'level': 2,\n",
       "   'score': 0.5783077},\n",
       "  {'id': 'https://openalex.org/C162324750',\n",
       "   'wikidata': 'https://www.wikidata.org/wiki/Q8134',\n",
       "   'display_name': 'Economics',\n",
       "   'level': 0,\n",
       "   'score': 0.56096256},\n",
       "  {'id': 'https://openalex.org/C556758197',\n",
       "   'wikidata': 'https://www.wikidata.org/wiki/Q580018',\n",
       "   'display_name': 'Monetary economics',\n",
       "   'level': 1,\n",
       "   'score': 0.38488507},\n",
       "  {'id': 'https://openalex.org/C175444787',\n",
       "   'wikidata': 'https://www.wikidata.org/wiki/Q39072',\n",
       "   'display_name': 'Microeconomics',\n",
       "   'level': 1,\n",
       "   'score': 0.37316528},\n",
       "  {'id': 'https://openalex.org/C175025494',\n",
       "   'wikidata': 'https://www.wikidata.org/wiki/Q179179',\n",
       "   'display_name': 'Interest rate',\n",
       "   'level': 2,\n",
       "   'score': 0.09176278},\n",
       "  {'id': 'https://openalex.org/C138885662',\n",
       "   'wikidata': 'https://www.wikidata.org/wiki/Q5891',\n",
       "   'display_name': 'Philosophy',\n",
       "   'level': 0,\n",
       "   'score': 0.08467892},\n",
       "  {'id': 'https://openalex.org/C41895202',\n",
       "   'wikidata': 'https://www.wikidata.org/wiki/Q8162',\n",
       "   'display_name': 'Linguistics',\n",
       "   'level': 1,\n",
       "   'score': 0.04363057},\n",
       "  {'id': 'https://openalex.org/C160735492',\n",
       "   'wikidata': 'https://www.wikidata.org/wiki/Q31207',\n",
       "   'display_name': 'Health care',\n",
       "   'level': 2,\n",
       "   'score': 0.0},\n",
       "  {'id': 'https://openalex.org/C50522688',\n",
       "   'wikidata': 'https://www.wikidata.org/wiki/Q189833',\n",
       "   'display_name': 'Economic growth',\n",
       "   'level': 1,\n",
       "   'score': 0.0}],\n",
       " 'mesh': [],\n",
       " 'locations_count': 1,\n",
       " 'locations': [{'is_oa': False,\n",
       "   'landing_page_url': 'https://doi.org/10.2139/ssrn.1010965',\n",
       "   'pdf_url': None,\n",
       "   'source': {'id': 'https://openalex.org/S4210172589',\n",
       "    'display_name': 'SSRN Electronic Journal',\n",
       "    'issn_l': '1556-5068',\n",
       "    'issn': ['1556-5068'],\n",
       "    'is_oa': False,\n",
       "    'is_in_doaj': False,\n",
       "    'is_indexed_in_scopus': False,\n",
       "    'is_core': False,\n",
       "    'host_organization': 'https://openalex.org/I1318003438',\n",
       "    'host_organization_name': 'RELX Group (Netherlands)',\n",
       "    'host_organization_lineage': ['https://openalex.org/I1318003438'],\n",
       "    'host_organization_lineage_names': ['RELX Group (Netherlands)'],\n",
       "    'type': 'repository'},\n",
       "   'license': None,\n",
       "   'license_id': None,\n",
       "   'version': None,\n",
       "   'is_accepted': False,\n",
       "   'is_published': False}],\n",
       " 'best_oa_location': None,\n",
       " 'sustainable_development_goals': [{'id': 'https://metadata.un.org/sdg/8',\n",
       "   'score': 0.65,\n",
       "   'display_name': 'Decent work and economic growth'}],\n",
       " 'grants': [],\n",
       " 'datasets': [],\n",
       " 'versions': [],\n",
       " 'referenced_works_count': 0,\n",
       " 'referenced_works': [],\n",
       " 'related_works': ['https://openalex.org/W3122057932',\n",
       "  'https://openalex.org/W3088364074',\n",
       "  'https://openalex.org/W2395295193',\n",
       "  'https://openalex.org/W2360321812',\n",
       "  'https://openalex.org/W2199728018',\n",
       "  'https://openalex.org/W2113798763',\n",
       "  'https://openalex.org/W1916833772',\n",
       "  'https://openalex.org/W1606137408',\n",
       "  'https://openalex.org/W1577475573',\n",
       "  'https://openalex.org/W1538163631'],\n",
       " 'abstract_inverted_index': {'A': [0],\n",
       "  'little': [1],\n",
       "  'review': [2],\n",
       "  'of': [3],\n",
       "  'Joseph': [4],\n",
       "  'E.': [5],\n",
       "  'Stiglitz': [6],\n",
       "  '&': [7],\n",
       "  'Andrew': [8],\n",
       "  'Wiles': [9],\n",
       "  '1981': [10],\n",
       "  'work': [11]},\n",
       " 'abstract_inverted_index_v3': None,\n",
       " 'cited_by_api_url': 'https://api.openalex.org/works?filter=cites:W1503841534',\n",
       " 'counts_by_year': [{'year': 2024, 'cited_by_count': 6},\n",
       "  {'year': 2023, 'cited_by_count': 8},\n",
       "  {'year': 2022, 'cited_by_count': 10},\n",
       "  {'year': 2021, 'cited_by_count': 20},\n",
       "  {'year': 2020, 'cited_by_count': 14},\n",
       "  {'year': 2019, 'cited_by_count': 13},\n",
       "  {'year': 2018, 'cited_by_count': 13},\n",
       "  {'year': 2017, 'cited_by_count': 18},\n",
       "  {'year': 2016, 'cited_by_count': 17},\n",
       "  {'year': 2015, 'cited_by_count': 9},\n",
       "  {'year': 2014, 'cited_by_count': 6},\n",
       "  {'year': 2013, 'cited_by_count': 11},\n",
       "  {'year': 2012, 'cited_by_count': 9}],\n",
       " 'updated_date': '2025-03-24T16:51:58.486931',\n",
       " 'created_date': '2016-06-24'}"
      ]
     },
     "execution_count": 62,
     "metadata": {},
     "output_type": "execute_result"
    }
   ],
   "source": [
    "response = requests.get(\"https://api.openalex.org/works/W1503841534\").json()\n",
    "response"
   ]
  },
  {
   "cell_type": "code",
   "execution_count": 66,
   "metadata": {},
   "outputs": [
    {
     "ename": "NameError",
     "evalue": "name 'ref_df' is not defined",
     "output_type": "error",
     "traceback": [
      "\u001b[1;31m---------------------------------------------------------------------------\u001b[0m",
      "\u001b[1;31mNameError\u001b[0m                                 Traceback (most recent call last)",
      "Cell \u001b[1;32mIn[66], line 1\u001b[0m\n\u001b[1;32m----> 1\u001b[0m ref_df\u001b[38;5;241m.\u001b[39mto_excel(\u001b[38;5;124m'\u001b[39m\u001b[38;5;124mreferences_final.xlsx\u001b[39m\u001b[38;5;124m'\u001b[39m, index\u001b[38;5;241m=\u001b[39m\u001b[38;5;28;01mFalse\u001b[39;00m)\n\u001b[0;32m      2\u001b[0m cited_df\u001b[38;5;241m.\u001b[39mto_excel(\u001b[38;5;124m'\u001b[39m\u001b[38;5;124mcitations_final.xlsx\u001b[39m\u001b[38;5;124m'\u001b[39m, index\u001b[38;5;241m=\u001b[39m\u001b[38;5;28;01mFalse\u001b[39;00m)\n",
      "\u001b[1;31mNameError\u001b[0m: name 'ref_df' is not defined"
     ]
    }
   ],
   "source": [
    "ref_df.to_excel('references_final.xlsx', index=False)\n",
    "cited_df.to_excel('citations_final.xlsx', index=False)"
   ]
  },
  {
   "cell_type": "code",
   "execution_count": null,
   "metadata": {},
   "outputs": [],
   "source": [
    "import requests\n",
    "\n",
    "# 通过DOI获取论文ID（示例DOI：10.1038/s41586-023-06924-6）\n",
    "doi = \"10.1002/isaf.1386\"\n",
    "url = f\"https://api.openalex.org/works/https://doi.org/{doi}\"\n",
    "response = requests.get(url).json()\n",
    "openalex_id = response[\"id\"].split(\"/\")[-1]  # 提取ID部分（如W3043588061）\n",
    "print(response['title'])\n",
    "print(response['id'])"
   ]
  },
  {
   "cell_type": "code",
   "execution_count": null,
   "metadata": {},
   "outputs": [],
   "source": [
    "# 获取论文的参考文献列表\n",
    "references = response.get(\"referenced_works\", [])\n",
    "print(f\"参考文献数量: {len(references)}\")\n",
    "for ref_id in references[:5]:  # 打印前5篇参考文献\n",
    "    work = ref_id.split('/')[-1]\n",
    "    url = f\"https://api.openalex.org/works/{work}\"\n",
    "    rr = requests.get(url).json()\n",
    "    rr_title = rr.get(\"title\")\n",
    "    print(f\"参考文献: {rr_title}\")\n",
    "    print(f\"ID: {ref_id}\")"
   ]
  },
  {
   "cell_type": "code",
   "execution_count": null,
   "metadata": {},
   "outputs": [],
   "source": [
    "# 获取引用该论文的其他论文（被引数据）\n",
    "cited_by_url = response.get(\"cited_by_api_url\")\n",
    "if cited_by_url:\n",
    "    cited_by_response = requests.get(cited_by_url).json()\n",
    "    cited_by_papers = cited_by_response.get(\"results\", [])\n",
    "    print(f\"被引次数: {cited_by_response['meta']['count']}\")\n",
    "    for paper in cited_by_papers[:5]:  # 打印前5篇被引论文\n",
    "        print(f\"被引论文标题: {paper['title']}\")\n",
    "        print(f\"ID: {paper['id']}\")\n",
    "else:\n",
    "    print(\"无被引数据\")"
   ]
  }
 ],
 "metadata": {
  "kernelspec": {
   "display_name": "base",
   "language": "python",
   "name": "python3"
  },
  "language_info": {
   "codemirror_mode": {
    "name": "ipython",
    "version": 3
   },
   "file_extension": ".py",
   "mimetype": "text/x-python",
   "name": "python",
   "nbconvert_exporter": "python",
   "pygments_lexer": "ipython3",
   "version": "3.11.7"
  }
 },
 "nbformat": 4,
 "nbformat_minor": 2
}
