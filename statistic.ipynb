{
 "cells": [
  {
   "cell_type": "code",
   "execution_count": 1,
   "id": "1bfd1a41",
   "metadata": {},
   "outputs": [],
   "source": [
    "import pandas as pd"
   ]
  },
  {
   "cell_type": "code",
   "execution_count": 2,
   "id": "e5e098b0",
   "metadata": {},
   "outputs": [
    {
     "data": {
      "text/plain": [
       "(47, 344, 754)"
      ]
     },
     "execution_count": 2,
     "metadata": {},
     "output_type": "execute_result"
    }
   ],
   "source": [
    "len(pd.read_csv('2018/seeds_final_abstract_2018.csv')), len(pd.read_csv('2018/references_final_abstract_2018.csv')), len(pd.read_csv('2018/citations_final_abstract_2018.csv'))"
   ]
  },
  {
   "cell_type": "code",
   "execution_count": 3,
   "id": "752986dc",
   "metadata": {},
   "outputs": [
    {
     "data": {
      "text/plain": [
       "(87, 902, 1885)"
      ]
     },
     "execution_count": 3,
     "metadata": {},
     "output_type": "execute_result"
    }
   ],
   "source": [
    "len(pd.read_csv('2019/seeds_final_abstract_2019.csv')), len(pd.read_csv('2019/references_final_abstract_2019.csv')), len(pd.read_csv('2019/citations_final_abstract_2019.csv'))"
   ]
  },
  {
   "cell_type": "code",
   "execution_count": 4,
   "id": "49594c88",
   "metadata": {},
   "outputs": [
    {
     "data": {
      "text/plain": [
       "(131, 1219, 2138)"
      ]
     },
     "execution_count": 4,
     "metadata": {},
     "output_type": "execute_result"
    }
   ],
   "source": [
    "len(pd.read_csv('2020/seeds_final_abstract_2020.csv')), len(pd.read_csv('2020/references_final_abstract_2020.csv')), len(pd.read_csv('2020/citations_final_abstract_2020.csv'))"
   ]
  },
  {
   "cell_type": "code",
   "execution_count": 5,
   "id": "eb1dfcc0",
   "metadata": {},
   "outputs": [
    {
     "data": {
      "text/plain": [
       "(185, 3291, 3302)"
      ]
     },
     "execution_count": 5,
     "metadata": {},
     "output_type": "execute_result"
    }
   ],
   "source": [
    "len(pd.read_csv('2021/seeds_final_abstract_2021.csv')), len(pd.read_csv('2021/references_final_abstract_2021.csv')), len(pd.read_csv('2021/citations_final_abstract_2021.csv'))"
   ]
  },
  {
   "cell_type": "code",
   "execution_count": 6,
   "id": "53496576",
   "metadata": {},
   "outputs": [
    {
     "data": {
      "text/plain": [
       "(253, 3547, 2389)"
      ]
     },
     "execution_count": 6,
     "metadata": {},
     "output_type": "execute_result"
    }
   ],
   "source": [
    "len(pd.read_csv('2022/seeds_final_abstract_2022.csv')), len(pd.read_csv('2022/references_final_abstract_2022.csv')), len(pd.read_csv('2022/citations_final_abstract_2022.csv'))"
   ]
  },
  {
   "cell_type": "code",
   "execution_count": 7,
   "id": "fd5b3446",
   "metadata": {},
   "outputs": [
    {
     "data": {
      "text/plain": [
       "(452, 6496, 2438)"
      ]
     },
     "execution_count": 7,
     "metadata": {},
     "output_type": "execute_result"
    }
   ],
   "source": [
    "len(pd.read_csv('2023/seeds_final_abstract_2023.csv')), len(pd.read_csv('2023/references_final_abstract_2023.csv')), len(pd.read_csv('2023/citations_final_abstract_2023.csv'))"
   ]
  },
  {
   "cell_type": "code",
   "execution_count": 8,
   "id": "50d69697",
   "metadata": {},
   "outputs": [
    {
     "data": {
      "text/plain": [
       "(568, 7962, 1210)"
      ]
     },
     "execution_count": 8,
     "metadata": {},
     "output_type": "execute_result"
    }
   ],
   "source": [
    "len(pd.read_csv('2024/seeds_final_abstract_2024.csv')), len(pd.read_csv('2024/references_final_abstract_2024.csv')), len(pd.read_csv('2024/citations_final_abstract_2024.csv'))"
   ]
  }
 ],
 "metadata": {
  "kernelspec": {
   "display_name": "base",
   "language": "python",
   "name": "python3"
  },
  "language_info": {
   "codemirror_mode": {
    "name": "ipython",
    "version": 3
   },
   "file_extension": ".py",
   "mimetype": "text/x-python",
   "name": "python",
   "nbconvert_exporter": "python",
   "pygments_lexer": "ipython3",
   "version": "3.11.7"
  }
 },
 "nbformat": 4,
 "nbformat_minor": 5
}
